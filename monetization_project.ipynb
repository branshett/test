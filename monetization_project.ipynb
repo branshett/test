{
  "cells": [
    {
      "cell_type": "markdown",
      "metadata": {
        "id": "wJ70Xr4qoLIr"
      },
      "source": [
        "# Building a monetization model"
      ]
    },
    {
      "cell_type": "markdown",
      "metadata": {
        "id": "icAHUpgCoLIr"
      },
      "source": [
        "We have data in hand that contains information about the events in the mobile game. In it, users build their space program and try to accomplish the difficult task of colonizing the galaxy.\n",
        "\n",
        "The main monetization of the game is just planned. However, it is assumed that the application will display ads on the screen with a choice of the type of object for construction.\n",
        "\n",
        "The dataset contains data about the game of users on the first level. To reach the first level, the player must meet one of two conditions:\n",
        "\n",
        "- Victory over the first opponent\n",
        "- Project implementation - development of a satellite array in orbit\n",
        "\n",
        "The dataset contains data on the first users of the application - a cohort of users who started using the application in the period from May 4 to May 10, inclusive.\n",
        "\n",
        "Dataset `game_actions.csv`:\n",
        "\n",
        "- `event_datetime` — event time\n",
        "- `event` is one of three events:\n",
        "\n",
        "1. `building` - the object is built\n",
        "2. `finished_stage_1` - the first level is completed\n",
        "3. `project` - the project is completed\n",
        "\n",
        "- `building` - the object is built\n",
        "- `finished_stage_1` - the first level is completed\n",
        "- `project` - the project is completed\n",
        "- `building_type` - one of three building types:\n",
        "\n",
        "1. `assembly_shop` - assembly shop\n",
        "2. `spaceport` - spaceport\n",
        "3. `research_center` - research center\n",
        "\n",
        "- `user_id` - user ID\n",
        "- `project_type` — type of implemented project\n",
        "\n",
        "In addition to the main dataset, there are two datasets with information about advertising activities.\n",
        "\n",
        "The `ad_costs.csv` dataset contains the following columns:\n",
        "\n",
        "- `day` - day on which the ad was clicked\n",
        "- `source` - traffic source\n",
        "- `cost` - cost of clicks\n",
        "\n",
        "The `user_source.csv` dataset contains the following columns:\n",
        "\n",
        "- `user_id` - user ID\n",
        "- `source` - sources from which the user who installed the application came"
      ]
    },
    {
      "cell_type": "markdown",
      "metadata": {
        "id": "EHvAeW8moLIr"
      },
      "source": [
        "## Loading and preparing data for analysis"
      ]
    },
    {
      "cell_type": "code",
      "execution_count": 2,
      "metadata": {
        "id": "lggikY8LoLIs"
      },
      "outputs": [],
      "source": [
        "# import\n",
        "import pandas as pd\n",
        "import seaborn as sns\n",
        "from matplotlib import pyplot as plt\n",
        "import plotly.express as px\n",
        "from plotly import graph_objects as go\n",
        "import numpy as np\n",
        "import datetime\n",
        "import warnings\n",
        "from scipy import stats as st"
      ]
    },
    {
      "cell_type": "code",
      "execution_count": 3,
      "metadata": {
        "id": "isKH9-oSoLIt"
      },
      "outputs": [],
      "source": [
        "warnings.filterwarnings(action='ignore')\n",
        "pd.options.display.float_format = '{:,.2f}'.format"
      ]
    },
    {
      "cell_type": "code",
      "execution_count": 4,
      "metadata": {
        "id": "VFvs_1IsoLIt"
      },
      "outputs": [],
      "source": [
        "\n",
        "sourse = pd.read_csv('/user_source.csv')\n",
        "actions = pd.read_csv('/game_actions.csv')\n",
        "costs = pd.read_csv('/ad_costs.csv')"
      ]
    },
    {
      "cell_type": "code",
      "execution_count": 5,
      "metadata": {
        "colab": {
          "base_uri": "https://localhost:8080/"
        },
        "id": "W29Yiz3-oLIv",
        "outputId": "deccb2bb-053e-4478-8d83-4457462013d2"
      },
      "outputs": [
        {
          "output_type": "stream",
          "name": "stdout",
          "text": [
            "<class 'pandas.core.frame.DataFrame'>\n",
            "RangeIndex: 13576 entries, 0 to 13575\n",
            "Data columns (total 2 columns):\n",
            " #   Column   Non-Null Count  Dtype \n",
            "---  ------   --------------  ----- \n",
            " 0   user_id  13576 non-null  object\n",
            " 1   source   13576 non-null  object\n",
            "dtypes: object(2)\n",
            "memory usage: 212.2+ KB\n"
          ]
        }
      ],
      "source": [
        "sourse.info()"
      ]
    },
    {
      "cell_type": "code",
      "execution_count": 6,
      "metadata": {
        "colab": {
          "base_uri": "https://localhost:8080/",
          "height": 363
        },
        "id": "U9zVlQfOoLIw",
        "outputId": "8a4f4b8e-16bd-4fdd-d96e-f6e179a2248d"
      },
      "outputs": [
        {
          "output_type": "execute_result",
          "data": {
            "text/plain": [
              "                                    user_id                   source\n",
              "4670   56894585-04a4-4437-b1d5-c6c5359e2dc3  youtube_channel_reklama\n",
              "13037  f5df0be9-bee9-42f8-866b-db54b79f2c7f    instagram_new_adverts\n",
              "2138   26ca4349-7f2d-4c8c-8b4c-8400b4f4e64a    instagram_new_adverts\n",
              "8274   9bf403e6-48c4-4803-90da-61eefc3d0852            yandex_direct\n",
              "5820   6ca54620-6162-4aee-af5f-c821435153f7            yandex_direct\n",
              "3744   450672de-999b-4114-9ee1-296ecc971761            yandex_direct\n",
              "13202  f9003889-3e39-44e1-9270-e365df767ca2    instagram_new_adverts\n",
              "13253  f9f69625-524a-46dd-9139-e57a537e71b1  youtube_channel_reklama\n",
              "7752   90f38275-01ff-43ed-ba33-b71546462fac            yandex_direct\n",
              "7079   83e13a3d-c822-48fd-8249-bb2ece39015f  youtube_channel_reklama"
            ],
            "text/html": [
              "\n",
              "  <div id=\"df-01582e1a-028d-4ec7-847b-570c7aea0a1b\">\n",
              "    <div class=\"colab-df-container\">\n",
              "      <div>\n",
              "<style scoped>\n",
              "    .dataframe tbody tr th:only-of-type {\n",
              "        vertical-align: middle;\n",
              "    }\n",
              "\n",
              "    .dataframe tbody tr th {\n",
              "        vertical-align: top;\n",
              "    }\n",
              "\n",
              "    .dataframe thead th {\n",
              "        text-align: right;\n",
              "    }\n",
              "</style>\n",
              "<table border=\"1\" class=\"dataframe\">\n",
              "  <thead>\n",
              "    <tr style=\"text-align: right;\">\n",
              "      <th></th>\n",
              "      <th>user_id</th>\n",
              "      <th>source</th>\n",
              "    </tr>\n",
              "  </thead>\n",
              "  <tbody>\n",
              "    <tr>\n",
              "      <th>4670</th>\n",
              "      <td>56894585-04a4-4437-b1d5-c6c5359e2dc3</td>\n",
              "      <td>youtube_channel_reklama</td>\n",
              "    </tr>\n",
              "    <tr>\n",
              "      <th>13037</th>\n",
              "      <td>f5df0be9-bee9-42f8-866b-db54b79f2c7f</td>\n",
              "      <td>instagram_new_adverts</td>\n",
              "    </tr>\n",
              "    <tr>\n",
              "      <th>2138</th>\n",
              "      <td>26ca4349-7f2d-4c8c-8b4c-8400b4f4e64a</td>\n",
              "      <td>instagram_new_adverts</td>\n",
              "    </tr>\n",
              "    <tr>\n",
              "      <th>8274</th>\n",
              "      <td>9bf403e6-48c4-4803-90da-61eefc3d0852</td>\n",
              "      <td>yandex_direct</td>\n",
              "    </tr>\n",
              "    <tr>\n",
              "      <th>5820</th>\n",
              "      <td>6ca54620-6162-4aee-af5f-c821435153f7</td>\n",
              "      <td>yandex_direct</td>\n",
              "    </tr>\n",
              "    <tr>\n",
              "      <th>3744</th>\n",
              "      <td>450672de-999b-4114-9ee1-296ecc971761</td>\n",
              "      <td>yandex_direct</td>\n",
              "    </tr>\n",
              "    <tr>\n",
              "      <th>13202</th>\n",
              "      <td>f9003889-3e39-44e1-9270-e365df767ca2</td>\n",
              "      <td>instagram_new_adverts</td>\n",
              "    </tr>\n",
              "    <tr>\n",
              "      <th>13253</th>\n",
              "      <td>f9f69625-524a-46dd-9139-e57a537e71b1</td>\n",
              "      <td>youtube_channel_reklama</td>\n",
              "    </tr>\n",
              "    <tr>\n",
              "      <th>7752</th>\n",
              "      <td>90f38275-01ff-43ed-ba33-b71546462fac</td>\n",
              "      <td>yandex_direct</td>\n",
              "    </tr>\n",
              "    <tr>\n",
              "      <th>7079</th>\n",
              "      <td>83e13a3d-c822-48fd-8249-bb2ece39015f</td>\n",
              "      <td>youtube_channel_reklama</td>\n",
              "    </tr>\n",
              "  </tbody>\n",
              "</table>\n",
              "</div>\n",
              "      <button class=\"colab-df-convert\" onclick=\"convertToInteractive('df-01582e1a-028d-4ec7-847b-570c7aea0a1b')\"\n",
              "              title=\"Convert this dataframe to an interactive table.\"\n",
              "              style=\"display:none;\">\n",
              "        \n",
              "  <svg xmlns=\"http://www.w3.org/2000/svg\" height=\"24px\"viewBox=\"0 0 24 24\"\n",
              "       width=\"24px\">\n",
              "    <path d=\"M0 0h24v24H0V0z\" fill=\"none\"/>\n",
              "    <path d=\"M18.56 5.44l.94 2.06.94-2.06 2.06-.94-2.06-.94-.94-2.06-.94 2.06-2.06.94zm-11 1L8.5 8.5l.94-2.06 2.06-.94-2.06-.94L8.5 2.5l-.94 2.06-2.06.94zm10 10l.94 2.06.94-2.06 2.06-.94-2.06-.94-.94-2.06-.94 2.06-2.06.94z\"/><path d=\"M17.41 7.96l-1.37-1.37c-.4-.4-.92-.59-1.43-.59-.52 0-1.04.2-1.43.59L10.3 9.45l-7.72 7.72c-.78.78-.78 2.05 0 2.83L4 21.41c.39.39.9.59 1.41.59.51 0 1.02-.2 1.41-.59l7.78-7.78 2.81-2.81c.8-.78.8-2.07 0-2.86zM5.41 20L4 18.59l7.72-7.72 1.47 1.35L5.41 20z\"/>\n",
              "  </svg>\n",
              "      </button>\n",
              "      \n",
              "  <style>\n",
              "    .colab-df-container {\n",
              "      display:flex;\n",
              "      flex-wrap:wrap;\n",
              "      gap: 12px;\n",
              "    }\n",
              "\n",
              "    .colab-df-convert {\n",
              "      background-color: #E8F0FE;\n",
              "      border: none;\n",
              "      border-radius: 50%;\n",
              "      cursor: pointer;\n",
              "      display: none;\n",
              "      fill: #1967D2;\n",
              "      height: 32px;\n",
              "      padding: 0 0 0 0;\n",
              "      width: 32px;\n",
              "    }\n",
              "\n",
              "    .colab-df-convert:hover {\n",
              "      background-color: #E2EBFA;\n",
              "      box-shadow: 0px 1px 2px rgba(60, 64, 67, 0.3), 0px 1px 3px 1px rgba(60, 64, 67, 0.15);\n",
              "      fill: #174EA6;\n",
              "    }\n",
              "\n",
              "    [theme=dark] .colab-df-convert {\n",
              "      background-color: #3B4455;\n",
              "      fill: #D2E3FC;\n",
              "    }\n",
              "\n",
              "    [theme=dark] .colab-df-convert:hover {\n",
              "      background-color: #434B5C;\n",
              "      box-shadow: 0px 1px 3px 1px rgba(0, 0, 0, 0.15);\n",
              "      filter: drop-shadow(0px 1px 2px rgba(0, 0, 0, 0.3));\n",
              "      fill: #FFFFFF;\n",
              "    }\n",
              "  </style>\n",
              "\n",
              "      <script>\n",
              "        const buttonEl =\n",
              "          document.querySelector('#df-01582e1a-028d-4ec7-847b-570c7aea0a1b button.colab-df-convert');\n",
              "        buttonEl.style.display =\n",
              "          google.colab.kernel.accessAllowed ? 'block' : 'none';\n",
              "\n",
              "        async function convertToInteractive(key) {\n",
              "          const element = document.querySelector('#df-01582e1a-028d-4ec7-847b-570c7aea0a1b');\n",
              "          const dataTable =\n",
              "            await google.colab.kernel.invokeFunction('convertToInteractive',\n",
              "                                                     [key], {});\n",
              "          if (!dataTable) return;\n",
              "\n",
              "          const docLinkHtml = 'Like what you see? Visit the ' +\n",
              "            '<a target=\"_blank\" href=https://colab.research.google.com/notebooks/data_table.ipynb>data table notebook</a>'\n",
              "            + ' to learn more about interactive tables.';\n",
              "          element.innerHTML = '';\n",
              "          dataTable['output_type'] = 'display_data';\n",
              "          await google.colab.output.renderOutput(dataTable, element);\n",
              "          const docLink = document.createElement('div');\n",
              "          docLink.innerHTML = docLinkHtml;\n",
              "          element.appendChild(docLink);\n",
              "        }\n",
              "      </script>\n",
              "    </div>\n",
              "  </div>\n",
              "  "
            ]
          },
          "metadata": {},
          "execution_count": 6
        }
      ],
      "source": [
        "sourse.sample(10)"
      ]
    },
    {
      "cell_type": "markdown",
      "metadata": {
        "id": "iGim7DPxoLIx"
      },
      "source": [
        "The `sourse` data frame contains data about the ad source from which the user came. At first glance, no errors were found in the data: The file type is correct, there are no gaps in the data, the information is presented in a readable form."
      ]
    },
    {
      "cell_type": "code",
      "execution_count": 7,
      "metadata": {
        "colab": {
          "base_uri": "https://localhost:8080/"
        },
        "id": "wDEVu3uboLIx",
        "outputId": "34732a10-d846-4e12-d4af-a6cf58803ce7"
      },
      "outputs": [
        {
          "output_type": "stream",
          "name": "stdout",
          "text": [
            "<class 'pandas.core.frame.DataFrame'>\n",
            "RangeIndex: 28 entries, 0 to 27\n",
            "Data columns (total 3 columns):\n",
            " #   Column  Non-Null Count  Dtype  \n",
            "---  ------  --------------  -----  \n",
            " 0   source  28 non-null     object \n",
            " 1   day     28 non-null     object \n",
            " 2   cost    28 non-null     float64\n",
            "dtypes: float64(1), object(2)\n",
            "memory usage: 800.0+ bytes\n"
          ]
        }
      ],
      "source": [
        "costs.info()"
      ]
    },
    {
      "cell_type": "code",
      "execution_count": 8,
      "metadata": {
        "colab": {
          "base_uri": "https://localhost:8080/",
          "height": 363
        },
        "id": "VGAP47wBoLIx",
        "outputId": "79501146-d543-4310-a875-fe56349b92a1"
      },
      "outputs": [
        {
          "output_type": "execute_result",
          "data": {
            "text/plain": [
              "                     source         day   cost\n",
              "18            yandex_direct  2020-05-07 114.43\n",
              "25  youtube_channel_reklama  2020-05-07  55.74\n",
              "3              facebook_ads  2020-05-06 177.98\n",
              "12    instagram_new_adverts  2020-05-08  71.58\n",
              "21  youtube_channel_reklama  2020-05-03 454.22\n",
              "26  youtube_channel_reklama  2020-05-08  40.22\n",
              "4              facebook_ads  2020-05-07 111.77\n",
              "6              facebook_ads  2020-05-09  38.72\n",
              "8     instagram_new_adverts  2020-05-04 502.93\n",
              "0              facebook_ads  2020-05-03 935.88"
            ],
            "text/html": [
              "\n",
              "  <div id=\"df-9c9d39fd-f6f2-43e3-a756-17f21fae5022\">\n",
              "    <div class=\"colab-df-container\">\n",
              "      <div>\n",
              "<style scoped>\n",
              "    .dataframe tbody tr th:only-of-type {\n",
              "        vertical-align: middle;\n",
              "    }\n",
              "\n",
              "    .dataframe tbody tr th {\n",
              "        vertical-align: top;\n",
              "    }\n",
              "\n",
              "    .dataframe thead th {\n",
              "        text-align: right;\n",
              "    }\n",
              "</style>\n",
              "<table border=\"1\" class=\"dataframe\">\n",
              "  <thead>\n",
              "    <tr style=\"text-align: right;\">\n",
              "      <th></th>\n",
              "      <th>source</th>\n",
              "      <th>day</th>\n",
              "      <th>cost</th>\n",
              "    </tr>\n",
              "  </thead>\n",
              "  <tbody>\n",
              "    <tr>\n",
              "      <th>18</th>\n",
              "      <td>yandex_direct</td>\n",
              "      <td>2020-05-07</td>\n",
              "      <td>114.43</td>\n",
              "    </tr>\n",
              "    <tr>\n",
              "      <th>25</th>\n",
              "      <td>youtube_channel_reklama</td>\n",
              "      <td>2020-05-07</td>\n",
              "      <td>55.74</td>\n",
              "    </tr>\n",
              "    <tr>\n",
              "      <th>3</th>\n",
              "      <td>facebook_ads</td>\n",
              "      <td>2020-05-06</td>\n",
              "      <td>177.98</td>\n",
              "    </tr>\n",
              "    <tr>\n",
              "      <th>12</th>\n",
              "      <td>instagram_new_adverts</td>\n",
              "      <td>2020-05-08</td>\n",
              "      <td>71.58</td>\n",
              "    </tr>\n",
              "    <tr>\n",
              "      <th>21</th>\n",
              "      <td>youtube_channel_reklama</td>\n",
              "      <td>2020-05-03</td>\n",
              "      <td>454.22</td>\n",
              "    </tr>\n",
              "    <tr>\n",
              "      <th>26</th>\n",
              "      <td>youtube_channel_reklama</td>\n",
              "      <td>2020-05-08</td>\n",
              "      <td>40.22</td>\n",
              "    </tr>\n",
              "    <tr>\n",
              "      <th>4</th>\n",
              "      <td>facebook_ads</td>\n",
              "      <td>2020-05-07</td>\n",
              "      <td>111.77</td>\n",
              "    </tr>\n",
              "    <tr>\n",
              "      <th>6</th>\n",
              "      <td>facebook_ads</td>\n",
              "      <td>2020-05-09</td>\n",
              "      <td>38.72</td>\n",
              "    </tr>\n",
              "    <tr>\n",
              "      <th>8</th>\n",
              "      <td>instagram_new_adverts</td>\n",
              "      <td>2020-05-04</td>\n",
              "      <td>502.93</td>\n",
              "    </tr>\n",
              "    <tr>\n",
              "      <th>0</th>\n",
              "      <td>facebook_ads</td>\n",
              "      <td>2020-05-03</td>\n",
              "      <td>935.88</td>\n",
              "    </tr>\n",
              "  </tbody>\n",
              "</table>\n",
              "</div>\n",
              "      <button class=\"colab-df-convert\" onclick=\"convertToInteractive('df-9c9d39fd-f6f2-43e3-a756-17f21fae5022')\"\n",
              "              title=\"Convert this dataframe to an interactive table.\"\n",
              "              style=\"display:none;\">\n",
              "        \n",
              "  <svg xmlns=\"http://www.w3.org/2000/svg\" height=\"24px\"viewBox=\"0 0 24 24\"\n",
              "       width=\"24px\">\n",
              "    <path d=\"M0 0h24v24H0V0z\" fill=\"none\"/>\n",
              "    <path d=\"M18.56 5.44l.94 2.06.94-2.06 2.06-.94-2.06-.94-.94-2.06-.94 2.06-2.06.94zm-11 1L8.5 8.5l.94-2.06 2.06-.94-2.06-.94L8.5 2.5l-.94 2.06-2.06.94zm10 10l.94 2.06.94-2.06 2.06-.94-2.06-.94-.94-2.06-.94 2.06-2.06.94z\"/><path d=\"M17.41 7.96l-1.37-1.37c-.4-.4-.92-.59-1.43-.59-.52 0-1.04.2-1.43.59L10.3 9.45l-7.72 7.72c-.78.78-.78 2.05 0 2.83L4 21.41c.39.39.9.59 1.41.59.51 0 1.02-.2 1.41-.59l7.78-7.78 2.81-2.81c.8-.78.8-2.07 0-2.86zM5.41 20L4 18.59l7.72-7.72 1.47 1.35L5.41 20z\"/>\n",
              "  </svg>\n",
              "      </button>\n",
              "      \n",
              "  <style>\n",
              "    .colab-df-container {\n",
              "      display:flex;\n",
              "      flex-wrap:wrap;\n",
              "      gap: 12px;\n",
              "    }\n",
              "\n",
              "    .colab-df-convert {\n",
              "      background-color: #E8F0FE;\n",
              "      border: none;\n",
              "      border-radius: 50%;\n",
              "      cursor: pointer;\n",
              "      display: none;\n",
              "      fill: #1967D2;\n",
              "      height: 32px;\n",
              "      padding: 0 0 0 0;\n",
              "      width: 32px;\n",
              "    }\n",
              "\n",
              "    .colab-df-convert:hover {\n",
              "      background-color: #E2EBFA;\n",
              "      box-shadow: 0px 1px 2px rgba(60, 64, 67, 0.3), 0px 1px 3px 1px rgba(60, 64, 67, 0.15);\n",
              "      fill: #174EA6;\n",
              "    }\n",
              "\n",
              "    [theme=dark] .colab-df-convert {\n",
              "      background-color: #3B4455;\n",
              "      fill: #D2E3FC;\n",
              "    }\n",
              "\n",
              "    [theme=dark] .colab-df-convert:hover {\n",
              "      background-color: #434B5C;\n",
              "      box-shadow: 0px 1px 3px 1px rgba(0, 0, 0, 0.15);\n",
              "      filter: drop-shadow(0px 1px 2px rgba(0, 0, 0, 0.3));\n",
              "      fill: #FFFFFF;\n",
              "    }\n",
              "  </style>\n",
              "\n",
              "      <script>\n",
              "        const buttonEl =\n",
              "          document.querySelector('#df-9c9d39fd-f6f2-43e3-a756-17f21fae5022 button.colab-df-convert');\n",
              "        buttonEl.style.display =\n",
              "          google.colab.kernel.accessAllowed ? 'block' : 'none';\n",
              "\n",
              "        async function convertToInteractive(key) {\n",
              "          const element = document.querySelector('#df-9c9d39fd-f6f2-43e3-a756-17f21fae5022');\n",
              "          const dataTable =\n",
              "            await google.colab.kernel.invokeFunction('convertToInteractive',\n",
              "                                                     [key], {});\n",
              "          if (!dataTable) return;\n",
              "\n",
              "          const docLinkHtml = 'Like what you see? Visit the ' +\n",
              "            '<a target=\"_blank\" href=https://colab.research.google.com/notebooks/data_table.ipynb>data table notebook</a>'\n",
              "            + ' to learn more about interactive tables.';\n",
              "          element.innerHTML = '';\n",
              "          dataTable['output_type'] = 'display_data';\n",
              "          await google.colab.output.renderOutput(dataTable, element);\n",
              "          const docLink = document.createElement('div');\n",
              "          docLink.innerHTML = docLinkHtml;\n",
              "          element.appendChild(docLink);\n",
              "        }\n",
              "      </script>\n",
              "    </div>\n",
              "  </div>\n",
              "  "
            ]
          },
          "metadata": {},
          "execution_count": 8
        }
      ],
      "source": [
        "costs.sample(10)"
      ]
    },
    {
      "cell_type": "markdown",
      "metadata": {
        "id": "Qc-u7f0KoLIy"
      },
      "source": [
        "The `cost` data frame contains data on advertising costs. No gaps were found in the data, but `day` column was not transferred to the correct data type."
      ]
    },
    {
      "cell_type": "code",
      "execution_count": 9,
      "metadata": {
        "colab": {
          "base_uri": "https://localhost:8080/"
        },
        "id": "orYzR8nYoLIy",
        "outputId": "7045beb3-439d-493e-8bda-39beea7f39d6"
      },
      "outputs": [
        {
          "output_type": "stream",
          "name": "stdout",
          "text": [
            "<class 'pandas.core.frame.DataFrame'>\n",
            "RangeIndex: 135640 entries, 0 to 135639\n",
            "Data columns (total 5 columns):\n",
            " #   Column          Non-Null Count   Dtype \n",
            "---  ------          --------------   ----- \n",
            " 0   event_datetime  135640 non-null  object\n",
            " 1   event           135640 non-null  object\n",
            " 2   building_type   127957 non-null  object\n",
            " 3   user_id         135640 non-null  object\n",
            " 4   project_type    1866 non-null    object\n",
            "dtypes: object(5)\n",
            "memory usage: 5.2+ MB\n"
          ]
        }
      ],
      "source": [
        "actions.info()"
      ]
    },
    {
      "cell_type": "code",
      "execution_count": 10,
      "metadata": {
        "colab": {
          "base_uri": "https://localhost:8080/",
          "height": 363
        },
        "id": "O3z-b5zNoLIy",
        "outputId": "012645bd-05dc-4b7c-d700-a5296d9095b7"
      },
      "outputs": [
        {
          "output_type": "execute_result",
          "data": {
            "text/plain": [
              "             event_datetime             event    building_type  \\\n",
              "93480   2020-05-12 20:52:44          building        spaceport   \n",
              "65520   2020-05-10 03:55:53          building    assembly_shop   \n",
              "111473  2020-05-15 09:36:33          building  research_center   \n",
              "30060   2020-05-07 06:35:57          building    assembly_shop   \n",
              "92982   2020-05-12 19:23:51          building        spaceport   \n",
              "72082   2020-05-10 14:28:41          building        spaceport   \n",
              "80920   2020-05-11 07:22:51          building        spaceport   \n",
              "104148  2020-05-14 06:56:06          building  research_center   \n",
              "73847   2020-05-10 17:08:03          building    assembly_shop   \n",
              "110899  2020-05-15 07:29:14  finished_stage_1              NaN   \n",
              "\n",
              "                                     user_id project_type  \n",
              "93480   0e38c564-ad9f-49ed-b190-29ab8f3610f4          NaN  \n",
              "65520   0474fc3c-1d2f-466a-9721-b4f819f7dc15          NaN  \n",
              "111473  6f2d16a7-7cdd-4324-9e8f-8f518d5e739a          NaN  \n",
              "30060   513c9fc3-c31c-469a-8192-16ca772a2867          NaN  \n",
              "92982   cbf0b4a6-85dd-44a5-bd20-ddcd6aad69ed          NaN  \n",
              "72082   cc64ebf8-777f-4392-b892-55c7078598e8          NaN  \n",
              "80920   efad0ed7-d68b-4274-97c8-24407a5d8728          NaN  \n",
              "104148  11acaaec-a383-4f95-9142-fd077a3f05ce          NaN  \n",
              "73847   6fab6ea4-7583-414a-9de2-2ece68d54d27          NaN  \n",
              "110899  fdd9ad6d-1924-4d07-a64d-770ff2cdec7e          NaN  "
            ],
            "text/html": [
              "\n",
              "  <div id=\"df-54a40214-784a-413c-822e-75c684220cfe\">\n",
              "    <div class=\"colab-df-container\">\n",
              "      <div>\n",
              "<style scoped>\n",
              "    .dataframe tbody tr th:only-of-type {\n",
              "        vertical-align: middle;\n",
              "    }\n",
              "\n",
              "    .dataframe tbody tr th {\n",
              "        vertical-align: top;\n",
              "    }\n",
              "\n",
              "    .dataframe thead th {\n",
              "        text-align: right;\n",
              "    }\n",
              "</style>\n",
              "<table border=\"1\" class=\"dataframe\">\n",
              "  <thead>\n",
              "    <tr style=\"text-align: right;\">\n",
              "      <th></th>\n",
              "      <th>event_datetime</th>\n",
              "      <th>event</th>\n",
              "      <th>building_type</th>\n",
              "      <th>user_id</th>\n",
              "      <th>project_type</th>\n",
              "    </tr>\n",
              "  </thead>\n",
              "  <tbody>\n",
              "    <tr>\n",
              "      <th>93480</th>\n",
              "      <td>2020-05-12 20:52:44</td>\n",
              "      <td>building</td>\n",
              "      <td>spaceport</td>\n",
              "      <td>0e38c564-ad9f-49ed-b190-29ab8f3610f4</td>\n",
              "      <td>NaN</td>\n",
              "    </tr>\n",
              "    <tr>\n",
              "      <th>65520</th>\n",
              "      <td>2020-05-10 03:55:53</td>\n",
              "      <td>building</td>\n",
              "      <td>assembly_shop</td>\n",
              "      <td>0474fc3c-1d2f-466a-9721-b4f819f7dc15</td>\n",
              "      <td>NaN</td>\n",
              "    </tr>\n",
              "    <tr>\n",
              "      <th>111473</th>\n",
              "      <td>2020-05-15 09:36:33</td>\n",
              "      <td>building</td>\n",
              "      <td>research_center</td>\n",
              "      <td>6f2d16a7-7cdd-4324-9e8f-8f518d5e739a</td>\n",
              "      <td>NaN</td>\n",
              "    </tr>\n",
              "    <tr>\n",
              "      <th>30060</th>\n",
              "      <td>2020-05-07 06:35:57</td>\n",
              "      <td>building</td>\n",
              "      <td>assembly_shop</td>\n",
              "      <td>513c9fc3-c31c-469a-8192-16ca772a2867</td>\n",
              "      <td>NaN</td>\n",
              "    </tr>\n",
              "    <tr>\n",
              "      <th>92982</th>\n",
              "      <td>2020-05-12 19:23:51</td>\n",
              "      <td>building</td>\n",
              "      <td>spaceport</td>\n",
              "      <td>cbf0b4a6-85dd-44a5-bd20-ddcd6aad69ed</td>\n",
              "      <td>NaN</td>\n",
              "    </tr>\n",
              "    <tr>\n",
              "      <th>72082</th>\n",
              "      <td>2020-05-10 14:28:41</td>\n",
              "      <td>building</td>\n",
              "      <td>spaceport</td>\n",
              "      <td>cc64ebf8-777f-4392-b892-55c7078598e8</td>\n",
              "      <td>NaN</td>\n",
              "    </tr>\n",
              "    <tr>\n",
              "      <th>80920</th>\n",
              "      <td>2020-05-11 07:22:51</td>\n",
              "      <td>building</td>\n",
              "      <td>spaceport</td>\n",
              "      <td>efad0ed7-d68b-4274-97c8-24407a5d8728</td>\n",
              "      <td>NaN</td>\n",
              "    </tr>\n",
              "    <tr>\n",
              "      <th>104148</th>\n",
              "      <td>2020-05-14 06:56:06</td>\n",
              "      <td>building</td>\n",
              "      <td>research_center</td>\n",
              "      <td>11acaaec-a383-4f95-9142-fd077a3f05ce</td>\n",
              "      <td>NaN</td>\n",
              "    </tr>\n",
              "    <tr>\n",
              "      <th>73847</th>\n",
              "      <td>2020-05-10 17:08:03</td>\n",
              "      <td>building</td>\n",
              "      <td>assembly_shop</td>\n",
              "      <td>6fab6ea4-7583-414a-9de2-2ece68d54d27</td>\n",
              "      <td>NaN</td>\n",
              "    </tr>\n",
              "    <tr>\n",
              "      <th>110899</th>\n",
              "      <td>2020-05-15 07:29:14</td>\n",
              "      <td>finished_stage_1</td>\n",
              "      <td>NaN</td>\n",
              "      <td>fdd9ad6d-1924-4d07-a64d-770ff2cdec7e</td>\n",
              "      <td>NaN</td>\n",
              "    </tr>\n",
              "  </tbody>\n",
              "</table>\n",
              "</div>\n",
              "      <button class=\"colab-df-convert\" onclick=\"convertToInteractive('df-54a40214-784a-413c-822e-75c684220cfe')\"\n",
              "              title=\"Convert this dataframe to an interactive table.\"\n",
              "              style=\"display:none;\">\n",
              "        \n",
              "  <svg xmlns=\"http://www.w3.org/2000/svg\" height=\"24px\"viewBox=\"0 0 24 24\"\n",
              "       width=\"24px\">\n",
              "    <path d=\"M0 0h24v24H0V0z\" fill=\"none\"/>\n",
              "    <path d=\"M18.56 5.44l.94 2.06.94-2.06 2.06-.94-2.06-.94-.94-2.06-.94 2.06-2.06.94zm-11 1L8.5 8.5l.94-2.06 2.06-.94-2.06-.94L8.5 2.5l-.94 2.06-2.06.94zm10 10l.94 2.06.94-2.06 2.06-.94-2.06-.94-.94-2.06-.94 2.06-2.06.94z\"/><path d=\"M17.41 7.96l-1.37-1.37c-.4-.4-.92-.59-1.43-.59-.52 0-1.04.2-1.43.59L10.3 9.45l-7.72 7.72c-.78.78-.78 2.05 0 2.83L4 21.41c.39.39.9.59 1.41.59.51 0 1.02-.2 1.41-.59l7.78-7.78 2.81-2.81c.8-.78.8-2.07 0-2.86zM5.41 20L4 18.59l7.72-7.72 1.47 1.35L5.41 20z\"/>\n",
              "  </svg>\n",
              "      </button>\n",
              "      \n",
              "  <style>\n",
              "    .colab-df-container {\n",
              "      display:flex;\n",
              "      flex-wrap:wrap;\n",
              "      gap: 12px;\n",
              "    }\n",
              "\n",
              "    .colab-df-convert {\n",
              "      background-color: #E8F0FE;\n",
              "      border: none;\n",
              "      border-radius: 50%;\n",
              "      cursor: pointer;\n",
              "      display: none;\n",
              "      fill: #1967D2;\n",
              "      height: 32px;\n",
              "      padding: 0 0 0 0;\n",
              "      width: 32px;\n",
              "    }\n",
              "\n",
              "    .colab-df-convert:hover {\n",
              "      background-color: #E2EBFA;\n",
              "      box-shadow: 0px 1px 2px rgba(60, 64, 67, 0.3), 0px 1px 3px 1px rgba(60, 64, 67, 0.15);\n",
              "      fill: #174EA6;\n",
              "    }\n",
              "\n",
              "    [theme=dark] .colab-df-convert {\n",
              "      background-color: #3B4455;\n",
              "      fill: #D2E3FC;\n",
              "    }\n",
              "\n",
              "    [theme=dark] .colab-df-convert:hover {\n",
              "      background-color: #434B5C;\n",
              "      box-shadow: 0px 1px 3px 1px rgba(0, 0, 0, 0.15);\n",
              "      filter: drop-shadow(0px 1px 2px rgba(0, 0, 0, 0.3));\n",
              "      fill: #FFFFFF;\n",
              "    }\n",
              "  </style>\n",
              "\n",
              "      <script>\n",
              "        const buttonEl =\n",
              "          document.querySelector('#df-54a40214-784a-413c-822e-75c684220cfe button.colab-df-convert');\n",
              "        buttonEl.style.display =\n",
              "          google.colab.kernel.accessAllowed ? 'block' : 'none';\n",
              "\n",
              "        async function convertToInteractive(key) {\n",
              "          const element = document.querySelector('#df-54a40214-784a-413c-822e-75c684220cfe');\n",
              "          const dataTable =\n",
              "            await google.colab.kernel.invokeFunction('convertToInteractive',\n",
              "                                                     [key], {});\n",
              "          if (!dataTable) return;\n",
              "\n",
              "          const docLinkHtml = 'Like what you see? Visit the ' +\n",
              "            '<a target=\"_blank\" href=https://colab.research.google.com/notebooks/data_table.ipynb>data table notebook</a>'\n",
              "            + ' to learn more about interactive tables.';\n",
              "          element.innerHTML = '';\n",
              "          dataTable['output_type'] = 'display_data';\n",
              "          await google.colab.output.renderOutput(dataTable, element);\n",
              "          const docLink = document.createElement('div');\n",
              "          docLink.innerHTML = docLinkHtml;\n",
              "          element.appendChild(docLink);\n",
              "        }\n",
              "      </script>\n",
              "    </div>\n",
              "  </div>\n",
              "  "
            ]
          },
          "metadata": {},
          "execution_count": 10
        }
      ],
      "source": [
        "actions.sample(10)"
      ]
    },
    {
      "cell_type": "markdown",
      "metadata": {
        "id": "fpmJqi3xoLIy"
      },
      "source": [
        "The `action` data frame contains data about the game event and when the user executed it. There are gaps in the data, the `event_datetime` column is converted to the wrong data type, and to make the search easier we can select the date from this column separately."
      ]
    },
    {
      "cell_type": "code",
      "execution_count": 11,
      "metadata": {
        "colab": {
          "base_uri": "https://localhost:8080/"
        },
        "id": "RjSi6T1CoLIz",
        "outputId": "0fd7197d-af0c-48c7-8be6-0a54301cd7e2"
      },
      "outputs": [
        {
          "output_type": "stream",
          "name": "stdout",
          "text": [
            "Number of duplicates in costs: 0\n",
            "Percentage of duplicate costs: 0.0%\n",
            "\n",
            "Number of duplicates in actions: 1\n",
            "Percentage of duplicates in actions: 0.0%\n",
            "\n",
            "Number of duplicates in sourse: 0\n",
            "Percentage of duplicates in sourse: 0.0%\n",
            "\n",
            "Number of omissions in costs: source    0\n",
            "day       0\n",
            "cost      0\n",
            "dtype: int64\n",
            "Number of passes in actions: 141457\n",
            "Number of passes in sourse: 0\n"
          ]
        }
      ],
      "source": [
        "duplicate_costs = costs.duplicated().sum()\n",
        "duplicate_actions = actions.duplicated().sum()\n",
        "duplicate_sourse = sourse.duplicated().sum()\n",
        "\n",
        "print(f'Number of duplicates in costs: {duplicate_costs}')\n",
        "print(f'Percentage of duplicate costs: {round((duplicate_costs / len(costs))*100, 2)}%')\n",
        "print('')\n",
        "print(f'Number of duplicates in actions: {duplicate_actions}')\n",
        "print(f'Percentage of duplicates in actions: {round((duplicate_actions / len(actions))*100, 2)}%')\n",
        "print('')\n",
        "print(f'Number of duplicates in sourse: {duplicate_sourse}')\n",
        "print(f'Percentage of duplicates in sourse: {round((duplicate_sourse / len(sourse))*100, 2)}%')\n",
        "print('')\n",
        "\n",
        "print('Number of omissions in costs:', costs.isnull().sum())\n",
        "print('Number of passes in actions:', actions.isnull().sum().sum())\n",
        "print('Number of passes in sourse:', sourse.isnull().sum().sum())"
      ]
    },
    {
      "cell_type": "code",
      "execution_count": 12,
      "metadata": {
        "colab": {
          "base_uri": "https://localhost:8080/",
          "height": 369
        },
        "id": "vumzmZo1oLIz",
        "outputId": "f465ca06-5050-41ea-d94f-8044cac6a12e"
      },
      "outputs": [
        {
          "output_type": "display_data",
          "data": {
            "text/plain": [
              "'Unique sources from sourse:'"
            ],
            "application/vnd.google.colaboratory.intrinsic+json": {
              "type": "string"
            }
          },
          "metadata": {}
        },
        {
          "output_type": "display_data",
          "data": {
            "text/plain": [
              "array(['facebook_ads', 'yandex_direct', 'youtube_channel_reklama',\n",
              "       'instagram_new_adverts'], dtype=object)"
            ]
          },
          "metadata": {}
        },
        {
          "output_type": "display_data",
          "data": {
            "text/plain": [
              "'Unique traffic sources from costs:'"
            ],
            "application/vnd.google.colaboratory.intrinsic+json": {
              "type": "string"
            }
          },
          "metadata": {}
        },
        {
          "output_type": "display_data",
          "data": {
            "text/plain": [
              "array(['facebook_ads', 'instagram_new_adverts', 'yandex_direct',\n",
              "       'youtube_channel_reklama'], dtype=object)"
            ]
          },
          "metadata": {}
        },
        {
          "output_type": "display_data",
          "data": {
            "text/plain": [
              "'Unique game events from actions:'"
            ],
            "application/vnd.google.colaboratory.intrinsic+json": {
              "type": "string"
            }
          },
          "metadata": {}
        },
        {
          "output_type": "display_data",
          "data": {
            "text/plain": [
              "array(['building', 'finished_stage_1', 'project'], dtype=object)"
            ]
          },
          "metadata": {}
        },
        {
          "output_type": "display_data",
          "data": {
            "text/plain": [
              "'Unique game buildings from actions:'"
            ],
            "application/vnd.google.colaboratory.intrinsic+json": {
              "type": "string"
            }
          },
          "metadata": {}
        },
        {
          "output_type": "display_data",
          "data": {
            "text/plain": [
              "array(['assembly_shop', 'spaceport', nan, 'research_center'], dtype=object)"
            ]
          },
          "metadata": {}
        },
        {
          "output_type": "display_data",
          "data": {
            "text/plain": [
              "'Overview of cost per click values from costs:'"
            ],
            "application/vnd.google.colaboratory.intrinsic+json": {
              "type": "string"
            }
          },
          "metadata": {}
        },
        {
          "output_type": "display_data",
          "data": {
            "text/plain": [
              "count    28.00\n",
              "mean    271.56\n",
              "std     286.87\n",
              "min      23.31\n",
              "25%      66.75\n",
              "50%     160.06\n",
              "75%     349.03\n",
              "max     969.14\n",
              "Name: cost, dtype: float64"
            ]
          },
          "metadata": {}
        }
      ],
      "source": [
        "display('Unique sources from sourse:', sourse['source'].unique())\n",
        "display('Unique traffic sources from costs:', costs['source'].unique())\n",
        "display('Unique game events from actions:', actions['event'].unique())\n",
        "display('Unique game buildings from actions:', actions['building_type'].unique())\n",
        "display('Overview of cost per click values from costs:', costs['cost'].describe())"
      ]
    },
    {
      "cell_type": "markdown",
      "metadata": {
        "id": "pqUNpt-DoLIz"
      },
      "source": [
        "***Conclusion:***\n",
        "\n",
        "Must do:\n",
        "1. In `costs` table, change `day` column to `datetime` format;\n",
        "2. In `actions` table, change `event_datetime` column to `datetime` format, check `building_type` and `project_type` columns for gaps and edit the duplicates found;\n",
        "3. Select a separate date column from the `event_datetime` column in the `actions` table."
      ]
    },
    {
      "cell_type": "markdown",
      "metadata": {
        "id": "E5DQLGT3oLIz"
      },
      "source": [
        "## Preparing data for analysis"
      ]
    },
    {
      "cell_type": "markdown",
      "metadata": {
        "id": "784gkzD4oLI0"
      },
      "source": [
        "### Changing Data Types"
      ]
    },
    {
      "cell_type": "code",
      "execution_count": 13,
      "metadata": {
        "id": "XOgJLVBqoLI0"
      },
      "outputs": [],
      "source": [
        "actions['event_datetime'] = pd.to_datetime(actions['event_datetime'])\n",
        "costs['day'] = pd.to_datetime(costs['day'])"
      ]
    },
    {
      "cell_type": "markdown",
      "metadata": {
        "id": "JyjAlO6xoLI0"
      },
      "source": [
        "### Check for duplicates"
      ]
    },
    {
      "cell_type": "code",
      "execution_count": 14,
      "metadata": {
        "colab": {
          "base_uri": "https://localhost:8080/",
          "height": 112
        },
        "id": "mQxp_sMOoLI0",
        "outputId": "5634ecb0-c010-4ce1-ca96-c18ebef4d654"
      },
      "outputs": [
        {
          "output_type": "execute_result",
          "data": {
            "text/plain": [
              "           event_datetime     event    building_type  \\\n",
              "74890 2020-05-10 18:41:56  building  research_center   \n",
              "74891 2020-05-10 18:41:56  building  research_center   \n",
              "\n",
              "                                    user_id project_type  \n",
              "74890  c9af55d2-b0ae-4bb4-b3d5-f32aa9ac03af          NaN  \n",
              "74891  c9af55d2-b0ae-4bb4-b3d5-f32aa9ac03af          NaN  "
            ],
            "text/html": [
              "\n",
              "  <div id=\"df-abecdf69-6e15-4e7a-941a-06406f9760f0\">\n",
              "    <div class=\"colab-df-container\">\n",
              "      <div>\n",
              "<style scoped>\n",
              "    .dataframe tbody tr th:only-of-type {\n",
              "        vertical-align: middle;\n",
              "    }\n",
              "\n",
              "    .dataframe tbody tr th {\n",
              "        vertical-align: top;\n",
              "    }\n",
              "\n",
              "    .dataframe thead th {\n",
              "        text-align: right;\n",
              "    }\n",
              "</style>\n",
              "<table border=\"1\" class=\"dataframe\">\n",
              "  <thead>\n",
              "    <tr style=\"text-align: right;\">\n",
              "      <th></th>\n",
              "      <th>event_datetime</th>\n",
              "      <th>event</th>\n",
              "      <th>building_type</th>\n",
              "      <th>user_id</th>\n",
              "      <th>project_type</th>\n",
              "    </tr>\n",
              "  </thead>\n",
              "  <tbody>\n",
              "    <tr>\n",
              "      <th>74890</th>\n",
              "      <td>2020-05-10 18:41:56</td>\n",
              "      <td>building</td>\n",
              "      <td>research_center</td>\n",
              "      <td>c9af55d2-b0ae-4bb4-b3d5-f32aa9ac03af</td>\n",
              "      <td>NaN</td>\n",
              "    </tr>\n",
              "    <tr>\n",
              "      <th>74891</th>\n",
              "      <td>2020-05-10 18:41:56</td>\n",
              "      <td>building</td>\n",
              "      <td>research_center</td>\n",
              "      <td>c9af55d2-b0ae-4bb4-b3d5-f32aa9ac03af</td>\n",
              "      <td>NaN</td>\n",
              "    </tr>\n",
              "  </tbody>\n",
              "</table>\n",
              "</div>\n",
              "      <button class=\"colab-df-convert\" onclick=\"convertToInteractive('df-abecdf69-6e15-4e7a-941a-06406f9760f0')\"\n",
              "              title=\"Convert this dataframe to an interactive table.\"\n",
              "              style=\"display:none;\">\n",
              "        \n",
              "  <svg xmlns=\"http://www.w3.org/2000/svg\" height=\"24px\"viewBox=\"0 0 24 24\"\n",
              "       width=\"24px\">\n",
              "    <path d=\"M0 0h24v24H0V0z\" fill=\"none\"/>\n",
              "    <path d=\"M18.56 5.44l.94 2.06.94-2.06 2.06-.94-2.06-.94-.94-2.06-.94 2.06-2.06.94zm-11 1L8.5 8.5l.94-2.06 2.06-.94-2.06-.94L8.5 2.5l-.94 2.06-2.06.94zm10 10l.94 2.06.94-2.06 2.06-.94-2.06-.94-.94-2.06-.94 2.06-2.06.94z\"/><path d=\"M17.41 7.96l-1.37-1.37c-.4-.4-.92-.59-1.43-.59-.52 0-1.04.2-1.43.59L10.3 9.45l-7.72 7.72c-.78.78-.78 2.05 0 2.83L4 21.41c.39.39.9.59 1.41.59.51 0 1.02-.2 1.41-.59l7.78-7.78 2.81-2.81c.8-.78.8-2.07 0-2.86zM5.41 20L4 18.59l7.72-7.72 1.47 1.35L5.41 20z\"/>\n",
              "  </svg>\n",
              "      </button>\n",
              "      \n",
              "  <style>\n",
              "    .colab-df-container {\n",
              "      display:flex;\n",
              "      flex-wrap:wrap;\n",
              "      gap: 12px;\n",
              "    }\n",
              "\n",
              "    .colab-df-convert {\n",
              "      background-color: #E8F0FE;\n",
              "      border: none;\n",
              "      border-radius: 50%;\n",
              "      cursor: pointer;\n",
              "      display: none;\n",
              "      fill: #1967D2;\n",
              "      height: 32px;\n",
              "      padding: 0 0 0 0;\n",
              "      width: 32px;\n",
              "    }\n",
              "\n",
              "    .colab-df-convert:hover {\n",
              "      background-color: #E2EBFA;\n",
              "      box-shadow: 0px 1px 2px rgba(60, 64, 67, 0.3), 0px 1px 3px 1px rgba(60, 64, 67, 0.15);\n",
              "      fill: #174EA6;\n",
              "    }\n",
              "\n",
              "    [theme=dark] .colab-df-convert {\n",
              "      background-color: #3B4455;\n",
              "      fill: #D2E3FC;\n",
              "    }\n",
              "\n",
              "    [theme=dark] .colab-df-convert:hover {\n",
              "      background-color: #434B5C;\n",
              "      box-shadow: 0px 1px 3px 1px rgba(0, 0, 0, 0.15);\n",
              "      filter: drop-shadow(0px 1px 2px rgba(0, 0, 0, 0.3));\n",
              "      fill: #FFFFFF;\n",
              "    }\n",
              "  </style>\n",
              "\n",
              "      <script>\n",
              "        const buttonEl =\n",
              "          document.querySelector('#df-abecdf69-6e15-4e7a-941a-06406f9760f0 button.colab-df-convert');\n",
              "        buttonEl.style.display =\n",
              "          google.colab.kernel.accessAllowed ? 'block' : 'none';\n",
              "\n",
              "        async function convertToInteractive(key) {\n",
              "          const element = document.querySelector('#df-abecdf69-6e15-4e7a-941a-06406f9760f0');\n",
              "          const dataTable =\n",
              "            await google.colab.kernel.invokeFunction('convertToInteractive',\n",
              "                                                     [key], {});\n",
              "          if (!dataTable) return;\n",
              "\n",
              "          const docLinkHtml = 'Like what you see? Visit the ' +\n",
              "            '<a target=\"_blank\" href=https://colab.research.google.com/notebooks/data_table.ipynb>data table notebook</a>'\n",
              "            + ' to learn more about interactive tables.';\n",
              "          element.innerHTML = '';\n",
              "          dataTable['output_type'] = 'display_data';\n",
              "          await google.colab.output.renderOutput(dataTable, element);\n",
              "          const docLink = document.createElement('div');\n",
              "          docLink.innerHTML = docLinkHtml;\n",
              "          element.appendChild(docLink);\n",
              "        }\n",
              "      </script>\n",
              "    </div>\n",
              "  </div>\n",
              "  "
            ]
          },
          "metadata": {},
          "execution_count": 14
        }
      ],
      "source": [
        "actions[actions.duplicated(keep=False)]"
      ]
    },
    {
      "cell_type": "code",
      "execution_count": 15,
      "metadata": {
        "id": "CEzZbDqDoLI1"
      },
      "outputs": [],
      "source": [
        "actions = actions.drop_duplicates()"
      ]
    },
    {
      "cell_type": "markdown",
      "metadata": {
        "id": "8tFtIWLfoLI1"
      },
      "source": [
        "### Create a new date column"
      ]
    },
    {
      "cell_type": "code",
      "execution_count": 16,
      "metadata": {
        "id": "7On7MF2CoLI1"
      },
      "outputs": [],
      "source": [
        "actions['date'] = actions['event_datetime'].dt.date.astype('datetime64')"
      ]
    },
    {
      "cell_type": "markdown",
      "metadata": {
        "id": "eiu3rqLdoLI2"
      },
      "source": [
        "### Work with gaps"
      ]
    },
    {
      "cell_type": "code",
      "execution_count": 17,
      "metadata": {
        "scrolled": false,
        "colab": {
          "base_uri": "https://localhost:8080/",
          "height": 363
        },
        "id": "BRieFRVioLI2",
        "outputId": "33a51f92-d9ed-4ac6-a418-46c6a77b5220"
      },
      "outputs": [
        {
          "output_type": "execute_result",
          "data": {
            "text/plain": [
              "           event_datetime             event building_type  \\\n",
              "6659  2020-05-04 19:47:29  finished_stage_1           NaN   \n",
              "13134 2020-05-05 13:22:09  finished_stage_1           NaN   \n",
              "15274 2020-05-05 18:54:37  finished_stage_1           NaN   \n",
              "16284 2020-05-05 21:27:29  finished_stage_1           NaN   \n",
              "19650 2020-05-06 06:02:22  finished_stage_1           NaN   \n",
              "21293 2020-05-06 10:06:42  finished_stage_1           NaN   \n",
              "22814 2020-05-06 13:43:12  finished_stage_1           NaN   \n",
              "24933 2020-05-06 18:54:42  finished_stage_1           NaN   \n",
              "29012 2020-05-07 04:15:34  finished_stage_1           NaN   \n",
              "30111 2020-05-07 06:43:36  finished_stage_1           NaN   \n",
              "\n",
              "                                    user_id project_type       date  \n",
              "6659   ced7b368-818f-48f6-9461-2346de0892c5          NaN 2020-05-04  \n",
              "13134  7ef7fc89-2779-46ea-b328-9e5035b83af5          NaN 2020-05-05  \n",
              "15274  70db22b3-c2f4-43bc-94ea-51c8d2904a29          NaN 2020-05-05  \n",
              "16284  903fc9ef-ba97-4b12-9d5c-ac8d602fbd8b          NaN 2020-05-05  \n",
              "19650  58e077ba-feb1-4556-a5a0-d96bd04efa39          NaN 2020-05-06  \n",
              "21293  c1c8836d-7c6c-4839-90f7-04c9407a0b33          NaN 2020-05-06  \n",
              "22814  2ab1cc5a-413a-408e-ba76-01de8e12bead          NaN 2020-05-06  \n",
              "24933  d582f6e7-da7e-40c5-8534-a416b8685210          NaN 2020-05-06  \n",
              "29012  399f918e-c8ea-4b90-900b-3c5c3f30fb54          NaN 2020-05-07  \n",
              "30111  f50c1d40-8a18-43fe-b124-6892ac571cbf          NaN 2020-05-07  "
            ],
            "text/html": [
              "\n",
              "  <div id=\"df-7921c38b-a504-48b2-8d80-6ed50e89302c\">\n",
              "    <div class=\"colab-df-container\">\n",
              "      <div>\n",
              "<style scoped>\n",
              "    .dataframe tbody tr th:only-of-type {\n",
              "        vertical-align: middle;\n",
              "    }\n",
              "\n",
              "    .dataframe tbody tr th {\n",
              "        vertical-align: top;\n",
              "    }\n",
              "\n",
              "    .dataframe thead th {\n",
              "        text-align: right;\n",
              "    }\n",
              "</style>\n",
              "<table border=\"1\" class=\"dataframe\">\n",
              "  <thead>\n",
              "    <tr style=\"text-align: right;\">\n",
              "      <th></th>\n",
              "      <th>event_datetime</th>\n",
              "      <th>event</th>\n",
              "      <th>building_type</th>\n",
              "      <th>user_id</th>\n",
              "      <th>project_type</th>\n",
              "      <th>date</th>\n",
              "    </tr>\n",
              "  </thead>\n",
              "  <tbody>\n",
              "    <tr>\n",
              "      <th>6659</th>\n",
              "      <td>2020-05-04 19:47:29</td>\n",
              "      <td>finished_stage_1</td>\n",
              "      <td>NaN</td>\n",
              "      <td>ced7b368-818f-48f6-9461-2346de0892c5</td>\n",
              "      <td>NaN</td>\n",
              "      <td>2020-05-04</td>\n",
              "    </tr>\n",
              "    <tr>\n",
              "      <th>13134</th>\n",
              "      <td>2020-05-05 13:22:09</td>\n",
              "      <td>finished_stage_1</td>\n",
              "      <td>NaN</td>\n",
              "      <td>7ef7fc89-2779-46ea-b328-9e5035b83af5</td>\n",
              "      <td>NaN</td>\n",
              "      <td>2020-05-05</td>\n",
              "    </tr>\n",
              "    <tr>\n",
              "      <th>15274</th>\n",
              "      <td>2020-05-05 18:54:37</td>\n",
              "      <td>finished_stage_1</td>\n",
              "      <td>NaN</td>\n",
              "      <td>70db22b3-c2f4-43bc-94ea-51c8d2904a29</td>\n",
              "      <td>NaN</td>\n",
              "      <td>2020-05-05</td>\n",
              "    </tr>\n",
              "    <tr>\n",
              "      <th>16284</th>\n",
              "      <td>2020-05-05 21:27:29</td>\n",
              "      <td>finished_stage_1</td>\n",
              "      <td>NaN</td>\n",
              "      <td>903fc9ef-ba97-4b12-9d5c-ac8d602fbd8b</td>\n",
              "      <td>NaN</td>\n",
              "      <td>2020-05-05</td>\n",
              "    </tr>\n",
              "    <tr>\n",
              "      <th>19650</th>\n",
              "      <td>2020-05-06 06:02:22</td>\n",
              "      <td>finished_stage_1</td>\n",
              "      <td>NaN</td>\n",
              "      <td>58e077ba-feb1-4556-a5a0-d96bd04efa39</td>\n",
              "      <td>NaN</td>\n",
              "      <td>2020-05-06</td>\n",
              "    </tr>\n",
              "    <tr>\n",
              "      <th>21293</th>\n",
              "      <td>2020-05-06 10:06:42</td>\n",
              "      <td>finished_stage_1</td>\n",
              "      <td>NaN</td>\n",
              "      <td>c1c8836d-7c6c-4839-90f7-04c9407a0b33</td>\n",
              "      <td>NaN</td>\n",
              "      <td>2020-05-06</td>\n",
              "    </tr>\n",
              "    <tr>\n",
              "      <th>22814</th>\n",
              "      <td>2020-05-06 13:43:12</td>\n",
              "      <td>finished_stage_1</td>\n",
              "      <td>NaN</td>\n",
              "      <td>2ab1cc5a-413a-408e-ba76-01de8e12bead</td>\n",
              "      <td>NaN</td>\n",
              "      <td>2020-05-06</td>\n",
              "    </tr>\n",
              "    <tr>\n",
              "      <th>24933</th>\n",
              "      <td>2020-05-06 18:54:42</td>\n",
              "      <td>finished_stage_1</td>\n",
              "      <td>NaN</td>\n",
              "      <td>d582f6e7-da7e-40c5-8534-a416b8685210</td>\n",
              "      <td>NaN</td>\n",
              "      <td>2020-05-06</td>\n",
              "    </tr>\n",
              "    <tr>\n",
              "      <th>29012</th>\n",
              "      <td>2020-05-07 04:15:34</td>\n",
              "      <td>finished_stage_1</td>\n",
              "      <td>NaN</td>\n",
              "      <td>399f918e-c8ea-4b90-900b-3c5c3f30fb54</td>\n",
              "      <td>NaN</td>\n",
              "      <td>2020-05-07</td>\n",
              "    </tr>\n",
              "    <tr>\n",
              "      <th>30111</th>\n",
              "      <td>2020-05-07 06:43:36</td>\n",
              "      <td>finished_stage_1</td>\n",
              "      <td>NaN</td>\n",
              "      <td>f50c1d40-8a18-43fe-b124-6892ac571cbf</td>\n",
              "      <td>NaN</td>\n",
              "      <td>2020-05-07</td>\n",
              "    </tr>\n",
              "  </tbody>\n",
              "</table>\n",
              "</div>\n",
              "      <button class=\"colab-df-convert\" onclick=\"convertToInteractive('df-7921c38b-a504-48b2-8d80-6ed50e89302c')\"\n",
              "              title=\"Convert this dataframe to an interactive table.\"\n",
              "              style=\"display:none;\">\n",
              "        \n",
              "  <svg xmlns=\"http://www.w3.org/2000/svg\" height=\"24px\"viewBox=\"0 0 24 24\"\n",
              "       width=\"24px\">\n",
              "    <path d=\"M0 0h24v24H0V0z\" fill=\"none\"/>\n",
              "    <path d=\"M18.56 5.44l.94 2.06.94-2.06 2.06-.94-2.06-.94-.94-2.06-.94 2.06-2.06.94zm-11 1L8.5 8.5l.94-2.06 2.06-.94-2.06-.94L8.5 2.5l-.94 2.06-2.06.94zm10 10l.94 2.06.94-2.06 2.06-.94-2.06-.94-.94-2.06-.94 2.06-2.06.94z\"/><path d=\"M17.41 7.96l-1.37-1.37c-.4-.4-.92-.59-1.43-.59-.52 0-1.04.2-1.43.59L10.3 9.45l-7.72 7.72c-.78.78-.78 2.05 0 2.83L4 21.41c.39.39.9.59 1.41.59.51 0 1.02-.2 1.41-.59l7.78-7.78 2.81-2.81c.8-.78.8-2.07 0-2.86zM5.41 20L4 18.59l7.72-7.72 1.47 1.35L5.41 20z\"/>\n",
              "  </svg>\n",
              "      </button>\n",
              "      \n",
              "  <style>\n",
              "    .colab-df-container {\n",
              "      display:flex;\n",
              "      flex-wrap:wrap;\n",
              "      gap: 12px;\n",
              "    }\n",
              "\n",
              "    .colab-df-convert {\n",
              "      background-color: #E8F0FE;\n",
              "      border: none;\n",
              "      border-radius: 50%;\n",
              "      cursor: pointer;\n",
              "      display: none;\n",
              "      fill: #1967D2;\n",
              "      height: 32px;\n",
              "      padding: 0 0 0 0;\n",
              "      width: 32px;\n",
              "    }\n",
              "\n",
              "    .colab-df-convert:hover {\n",
              "      background-color: #E2EBFA;\n",
              "      box-shadow: 0px 1px 2px rgba(60, 64, 67, 0.3), 0px 1px 3px 1px rgba(60, 64, 67, 0.15);\n",
              "      fill: #174EA6;\n",
              "    }\n",
              "\n",
              "    [theme=dark] .colab-df-convert {\n",
              "      background-color: #3B4455;\n",
              "      fill: #D2E3FC;\n",
              "    }\n",
              "\n",
              "    [theme=dark] .colab-df-convert:hover {\n",
              "      background-color: #434B5C;\n",
              "      box-shadow: 0px 1px 3px 1px rgba(0, 0, 0, 0.15);\n",
              "      filter: drop-shadow(0px 1px 2px rgba(0, 0, 0, 0.3));\n",
              "      fill: #FFFFFF;\n",
              "    }\n",
              "  </style>\n",
              "\n",
              "      <script>\n",
              "        const buttonEl =\n",
              "          document.querySelector('#df-7921c38b-a504-48b2-8d80-6ed50e89302c button.colab-df-convert');\n",
              "        buttonEl.style.display =\n",
              "          google.colab.kernel.accessAllowed ? 'block' : 'none';\n",
              "\n",
              "        async function convertToInteractive(key) {\n",
              "          const element = document.querySelector('#df-7921c38b-a504-48b2-8d80-6ed50e89302c');\n",
              "          const dataTable =\n",
              "            await google.colab.kernel.invokeFunction('convertToInteractive',\n",
              "                                                     [key], {});\n",
              "          if (!dataTable) return;\n",
              "\n",
              "          const docLinkHtml = 'Like what you see? Visit the ' +\n",
              "            '<a target=\"_blank\" href=https://colab.research.google.com/notebooks/data_table.ipynb>data table notebook</a>'\n",
              "            + ' to learn more about interactive tables.';\n",
              "          element.innerHTML = '';\n",
              "          dataTable['output_type'] = 'display_data';\n",
              "          await google.colab.output.renderOutput(dataTable, element);\n",
              "          const docLink = document.createElement('div');\n",
              "          docLink.innerHTML = docLinkHtml;\n",
              "          element.appendChild(docLink);\n",
              "        }\n",
              "      </script>\n",
              "    </div>\n",
              "  </div>\n",
              "  "
            ]
          },
          "metadata": {},
          "execution_count": 17
        }
      ],
      "source": [
        "actions[actions['building_type'].isna()].head(10)"
      ]
    },
    {
      "cell_type": "markdown",
      "metadata": {
        "id": "nOvDwfWOoLI2"
      },
      "source": [
        "From the data received, it appears that the event '`finished_stage_1`' is characterized by gaps in the columns '`building_type`' and '`project_type`'. This is due to the way the client collects the data.\n",
        "\n",
        "In the data frame, the data is collected in such a way that for each event (the '`event`' column) it is specified which building was built as a result of the event and which project was built as a result of this event, which means that for the event '`finished_stage_1`' the level ends, the user cannot build a building or perform a project.\n",
        "\n",
        "The same scheme applies to the '`building`' event. There will be a gap in '`project_type`', the project will not run, but the building will be built. The same logic applies to the '`project`' event.\n",
        "\n",
        "We will not touch these omissions, they are quite logical. But it is worth to check if there are gaps in the logic \"building without building type\" and \"project without project type\"."
      ]
    },
    {
      "cell_type": "code",
      "execution_count": 18,
      "metadata": {
        "colab": {
          "base_uri": "https://localhost:8080/",
          "height": 49
        },
        "id": "hkCXhL8soLI2",
        "outputId": "82e1ebc1-7799-4eb4-a877-a6a7d3342eee"
      },
      "outputs": [
        {
          "output_type": "execute_result",
          "data": {
            "text/plain": [
              "Empty DataFrame\n",
              "Columns: [event_datetime, event, building_type, user_id, project_type, date]\n",
              "Index: []"
            ],
            "text/html": [
              "\n",
              "  <div id=\"df-309f0e1e-b161-4bea-b9eb-42441885ce64\">\n",
              "    <div class=\"colab-df-container\">\n",
              "      <div>\n",
              "<style scoped>\n",
              "    .dataframe tbody tr th:only-of-type {\n",
              "        vertical-align: middle;\n",
              "    }\n",
              "\n",
              "    .dataframe tbody tr th {\n",
              "        vertical-align: top;\n",
              "    }\n",
              "\n",
              "    .dataframe thead th {\n",
              "        text-align: right;\n",
              "    }\n",
              "</style>\n",
              "<table border=\"1\" class=\"dataframe\">\n",
              "  <thead>\n",
              "    <tr style=\"text-align: right;\">\n",
              "      <th></th>\n",
              "      <th>event_datetime</th>\n",
              "      <th>event</th>\n",
              "      <th>building_type</th>\n",
              "      <th>user_id</th>\n",
              "      <th>project_type</th>\n",
              "      <th>date</th>\n",
              "    </tr>\n",
              "  </thead>\n",
              "  <tbody>\n",
              "  </tbody>\n",
              "</table>\n",
              "</div>\n",
              "      <button class=\"colab-df-convert\" onclick=\"convertToInteractive('df-309f0e1e-b161-4bea-b9eb-42441885ce64')\"\n",
              "              title=\"Convert this dataframe to an interactive table.\"\n",
              "              style=\"display:none;\">\n",
              "        \n",
              "  <svg xmlns=\"http://www.w3.org/2000/svg\" height=\"24px\"viewBox=\"0 0 24 24\"\n",
              "       width=\"24px\">\n",
              "    <path d=\"M0 0h24v24H0V0z\" fill=\"none\"/>\n",
              "    <path d=\"M18.56 5.44l.94 2.06.94-2.06 2.06-.94-2.06-.94-.94-2.06-.94 2.06-2.06.94zm-11 1L8.5 8.5l.94-2.06 2.06-.94-2.06-.94L8.5 2.5l-.94 2.06-2.06.94zm10 10l.94 2.06.94-2.06 2.06-.94-2.06-.94-.94-2.06-.94 2.06-2.06.94z\"/><path d=\"M17.41 7.96l-1.37-1.37c-.4-.4-.92-.59-1.43-.59-.52 0-1.04.2-1.43.59L10.3 9.45l-7.72 7.72c-.78.78-.78 2.05 0 2.83L4 21.41c.39.39.9.59 1.41.59.51 0 1.02-.2 1.41-.59l7.78-7.78 2.81-2.81c.8-.78.8-2.07 0-2.86zM5.41 20L4 18.59l7.72-7.72 1.47 1.35L5.41 20z\"/>\n",
              "  </svg>\n",
              "      </button>\n",
              "      \n",
              "  <style>\n",
              "    .colab-df-container {\n",
              "      display:flex;\n",
              "      flex-wrap:wrap;\n",
              "      gap: 12px;\n",
              "    }\n",
              "\n",
              "    .colab-df-convert {\n",
              "      background-color: #E8F0FE;\n",
              "      border: none;\n",
              "      border-radius: 50%;\n",
              "      cursor: pointer;\n",
              "      display: none;\n",
              "      fill: #1967D2;\n",
              "      height: 32px;\n",
              "      padding: 0 0 0 0;\n",
              "      width: 32px;\n",
              "    }\n",
              "\n",
              "    .colab-df-convert:hover {\n",
              "      background-color: #E2EBFA;\n",
              "      box-shadow: 0px 1px 2px rgba(60, 64, 67, 0.3), 0px 1px 3px 1px rgba(60, 64, 67, 0.15);\n",
              "      fill: #174EA6;\n",
              "    }\n",
              "\n",
              "    [theme=dark] .colab-df-convert {\n",
              "      background-color: #3B4455;\n",
              "      fill: #D2E3FC;\n",
              "    }\n",
              "\n",
              "    [theme=dark] .colab-df-convert:hover {\n",
              "      background-color: #434B5C;\n",
              "      box-shadow: 0px 1px 3px 1px rgba(0, 0, 0, 0.15);\n",
              "      filter: drop-shadow(0px 1px 2px rgba(0, 0, 0, 0.3));\n",
              "      fill: #FFFFFF;\n",
              "    }\n",
              "  </style>\n",
              "\n",
              "      <script>\n",
              "        const buttonEl =\n",
              "          document.querySelector('#df-309f0e1e-b161-4bea-b9eb-42441885ce64 button.colab-df-convert');\n",
              "        buttonEl.style.display =\n",
              "          google.colab.kernel.accessAllowed ? 'block' : 'none';\n",
              "\n",
              "        async function convertToInteractive(key) {\n",
              "          const element = document.querySelector('#df-309f0e1e-b161-4bea-b9eb-42441885ce64');\n",
              "          const dataTable =\n",
              "            await google.colab.kernel.invokeFunction('convertToInteractive',\n",
              "                                                     [key], {});\n",
              "          if (!dataTable) return;\n",
              "\n",
              "          const docLinkHtml = 'Like what you see? Visit the ' +\n",
              "            '<a target=\"_blank\" href=https://colab.research.google.com/notebooks/data_table.ipynb>data table notebook</a>'\n",
              "            + ' to learn more about interactive tables.';\n",
              "          element.innerHTML = '';\n",
              "          dataTable['output_type'] = 'display_data';\n",
              "          await google.colab.output.renderOutput(dataTable, element);\n",
              "          const docLink = document.createElement('div');\n",
              "          docLink.innerHTML = docLinkHtml;\n",
              "          element.appendChild(docLink);\n",
              "        }\n",
              "      </script>\n",
              "    </div>\n",
              "  </div>\n",
              "  "
            ]
          },
          "metadata": {},
          "execution_count": 18
        }
      ],
      "source": [
        "actions.query('event == \"building\" and building_type.isna()')"
      ]
    },
    {
      "cell_type": "code",
      "execution_count": 19,
      "metadata": {
        "colab": {
          "base_uri": "https://localhost:8080/",
          "height": 49
        },
        "id": "kgB9Q5VZoLI2",
        "outputId": "350488d8-2984-4012-eed3-c504c5582f64"
      },
      "outputs": [
        {
          "output_type": "execute_result",
          "data": {
            "text/plain": [
              "Empty DataFrame\n",
              "Columns: [event_datetime, event, building_type, user_id, project_type, date]\n",
              "Index: []"
            ],
            "text/html": [
              "\n",
              "  <div id=\"df-76985c2e-df2b-414d-b0ea-61f78772665f\">\n",
              "    <div class=\"colab-df-container\">\n",
              "      <div>\n",
              "<style scoped>\n",
              "    .dataframe tbody tr th:only-of-type {\n",
              "        vertical-align: middle;\n",
              "    }\n",
              "\n",
              "    .dataframe tbody tr th {\n",
              "        vertical-align: top;\n",
              "    }\n",
              "\n",
              "    .dataframe thead th {\n",
              "        text-align: right;\n",
              "    }\n",
              "</style>\n",
              "<table border=\"1\" class=\"dataframe\">\n",
              "  <thead>\n",
              "    <tr style=\"text-align: right;\">\n",
              "      <th></th>\n",
              "      <th>event_datetime</th>\n",
              "      <th>event</th>\n",
              "      <th>building_type</th>\n",
              "      <th>user_id</th>\n",
              "      <th>project_type</th>\n",
              "      <th>date</th>\n",
              "    </tr>\n",
              "  </thead>\n",
              "  <tbody>\n",
              "  </tbody>\n",
              "</table>\n",
              "</div>\n",
              "      <button class=\"colab-df-convert\" onclick=\"convertToInteractive('df-76985c2e-df2b-414d-b0ea-61f78772665f')\"\n",
              "              title=\"Convert this dataframe to an interactive table.\"\n",
              "              style=\"display:none;\">\n",
              "        \n",
              "  <svg xmlns=\"http://www.w3.org/2000/svg\" height=\"24px\"viewBox=\"0 0 24 24\"\n",
              "       width=\"24px\">\n",
              "    <path d=\"M0 0h24v24H0V0z\" fill=\"none\"/>\n",
              "    <path d=\"M18.56 5.44l.94 2.06.94-2.06 2.06-.94-2.06-.94-.94-2.06-.94 2.06-2.06.94zm-11 1L8.5 8.5l.94-2.06 2.06-.94-2.06-.94L8.5 2.5l-.94 2.06-2.06.94zm10 10l.94 2.06.94-2.06 2.06-.94-2.06-.94-.94-2.06-.94 2.06-2.06.94z\"/><path d=\"M17.41 7.96l-1.37-1.37c-.4-.4-.92-.59-1.43-.59-.52 0-1.04.2-1.43.59L10.3 9.45l-7.72 7.72c-.78.78-.78 2.05 0 2.83L4 21.41c.39.39.9.59 1.41.59.51 0 1.02-.2 1.41-.59l7.78-7.78 2.81-2.81c.8-.78.8-2.07 0-2.86zM5.41 20L4 18.59l7.72-7.72 1.47 1.35L5.41 20z\"/>\n",
              "  </svg>\n",
              "      </button>\n",
              "      \n",
              "  <style>\n",
              "    .colab-df-container {\n",
              "      display:flex;\n",
              "      flex-wrap:wrap;\n",
              "      gap: 12px;\n",
              "    }\n",
              "\n",
              "    .colab-df-convert {\n",
              "      background-color: #E8F0FE;\n",
              "      border: none;\n",
              "      border-radius: 50%;\n",
              "      cursor: pointer;\n",
              "      display: none;\n",
              "      fill: #1967D2;\n",
              "      height: 32px;\n",
              "      padding: 0 0 0 0;\n",
              "      width: 32px;\n",
              "    }\n",
              "\n",
              "    .colab-df-convert:hover {\n",
              "      background-color: #E2EBFA;\n",
              "      box-shadow: 0px 1px 2px rgba(60, 64, 67, 0.3), 0px 1px 3px 1px rgba(60, 64, 67, 0.15);\n",
              "      fill: #174EA6;\n",
              "    }\n",
              "\n",
              "    [theme=dark] .colab-df-convert {\n",
              "      background-color: #3B4455;\n",
              "      fill: #D2E3FC;\n",
              "    }\n",
              "\n",
              "    [theme=dark] .colab-df-convert:hover {\n",
              "      background-color: #434B5C;\n",
              "      box-shadow: 0px 1px 3px 1px rgba(0, 0, 0, 0.15);\n",
              "      filter: drop-shadow(0px 1px 2px rgba(0, 0, 0, 0.3));\n",
              "      fill: #FFFFFF;\n",
              "    }\n",
              "  </style>\n",
              "\n",
              "      <script>\n",
              "        const buttonEl =\n",
              "          document.querySelector('#df-76985c2e-df2b-414d-b0ea-61f78772665f button.colab-df-convert');\n",
              "        buttonEl.style.display =\n",
              "          google.colab.kernel.accessAllowed ? 'block' : 'none';\n",
              "\n",
              "        async function convertToInteractive(key) {\n",
              "          const element = document.querySelector('#df-76985c2e-df2b-414d-b0ea-61f78772665f');\n",
              "          const dataTable =\n",
              "            await google.colab.kernel.invokeFunction('convertToInteractive',\n",
              "                                                     [key], {});\n",
              "          if (!dataTable) return;\n",
              "\n",
              "          const docLinkHtml = 'Like what you see? Visit the ' +\n",
              "            '<a target=\"_blank\" href=https://colab.research.google.com/notebooks/data_table.ipynb>data table notebook</a>'\n",
              "            + ' to learn more about interactive tables.';\n",
              "          element.innerHTML = '';\n",
              "          dataTable['output_type'] = 'display_data';\n",
              "          await google.colab.output.renderOutput(dataTable, element);\n",
              "          const docLink = document.createElement('div');\n",
              "          docLink.innerHTML = docLinkHtml;\n",
              "          element.appendChild(docLink);\n",
              "        }\n",
              "      </script>\n",
              "    </div>\n",
              "  </div>\n",
              "  "
            ]
          },
          "metadata": {},
          "execution_count": 19
        }
      ],
      "source": [
        "actions.query('event == \"building\" and project_type.notna()')"
      ]
    },
    {
      "cell_type": "code",
      "execution_count": 20,
      "metadata": {
        "colab": {
          "base_uri": "https://localhost:8080/",
          "height": 49
        },
        "id": "upoL9AqyoLI3",
        "outputId": "54469def-d3e4-4869-8d69-27b08c16bb0c"
      },
      "outputs": [
        {
          "output_type": "execute_result",
          "data": {
            "text/plain": [
              "Empty DataFrame\n",
              "Columns: [event_datetime, event, building_type, user_id, project_type, date]\n",
              "Index: []"
            ],
            "text/html": [
              "\n",
              "  <div id=\"df-19867b0b-f310-4c1b-a93e-e75309735644\">\n",
              "    <div class=\"colab-df-container\">\n",
              "      <div>\n",
              "<style scoped>\n",
              "    .dataframe tbody tr th:only-of-type {\n",
              "        vertical-align: middle;\n",
              "    }\n",
              "\n",
              "    .dataframe tbody tr th {\n",
              "        vertical-align: top;\n",
              "    }\n",
              "\n",
              "    .dataframe thead th {\n",
              "        text-align: right;\n",
              "    }\n",
              "</style>\n",
              "<table border=\"1\" class=\"dataframe\">\n",
              "  <thead>\n",
              "    <tr style=\"text-align: right;\">\n",
              "      <th></th>\n",
              "      <th>event_datetime</th>\n",
              "      <th>event</th>\n",
              "      <th>building_type</th>\n",
              "      <th>user_id</th>\n",
              "      <th>project_type</th>\n",
              "      <th>date</th>\n",
              "    </tr>\n",
              "  </thead>\n",
              "  <tbody>\n",
              "  </tbody>\n",
              "</table>\n",
              "</div>\n",
              "      <button class=\"colab-df-convert\" onclick=\"convertToInteractive('df-19867b0b-f310-4c1b-a93e-e75309735644')\"\n",
              "              title=\"Convert this dataframe to an interactive table.\"\n",
              "              style=\"display:none;\">\n",
              "        \n",
              "  <svg xmlns=\"http://www.w3.org/2000/svg\" height=\"24px\"viewBox=\"0 0 24 24\"\n",
              "       width=\"24px\">\n",
              "    <path d=\"M0 0h24v24H0V0z\" fill=\"none\"/>\n",
              "    <path d=\"M18.56 5.44l.94 2.06.94-2.06 2.06-.94-2.06-.94-.94-2.06-.94 2.06-2.06.94zm-11 1L8.5 8.5l.94-2.06 2.06-.94-2.06-.94L8.5 2.5l-.94 2.06-2.06.94zm10 10l.94 2.06.94-2.06 2.06-.94-2.06-.94-.94-2.06-.94 2.06-2.06.94z\"/><path d=\"M17.41 7.96l-1.37-1.37c-.4-.4-.92-.59-1.43-.59-.52 0-1.04.2-1.43.59L10.3 9.45l-7.72 7.72c-.78.78-.78 2.05 0 2.83L4 21.41c.39.39.9.59 1.41.59.51 0 1.02-.2 1.41-.59l7.78-7.78 2.81-2.81c.8-.78.8-2.07 0-2.86zM5.41 20L4 18.59l7.72-7.72 1.47 1.35L5.41 20z\"/>\n",
              "  </svg>\n",
              "      </button>\n",
              "      \n",
              "  <style>\n",
              "    .colab-df-container {\n",
              "      display:flex;\n",
              "      flex-wrap:wrap;\n",
              "      gap: 12px;\n",
              "    }\n",
              "\n",
              "    .colab-df-convert {\n",
              "      background-color: #E8F0FE;\n",
              "      border: none;\n",
              "      border-radius: 50%;\n",
              "      cursor: pointer;\n",
              "      display: none;\n",
              "      fill: #1967D2;\n",
              "      height: 32px;\n",
              "      padding: 0 0 0 0;\n",
              "      width: 32px;\n",
              "    }\n",
              "\n",
              "    .colab-df-convert:hover {\n",
              "      background-color: #E2EBFA;\n",
              "      box-shadow: 0px 1px 2px rgba(60, 64, 67, 0.3), 0px 1px 3px 1px rgba(60, 64, 67, 0.15);\n",
              "      fill: #174EA6;\n",
              "    }\n",
              "\n",
              "    [theme=dark] .colab-df-convert {\n",
              "      background-color: #3B4455;\n",
              "      fill: #D2E3FC;\n",
              "    }\n",
              "\n",
              "    [theme=dark] .colab-df-convert:hover {\n",
              "      background-color: #434B5C;\n",
              "      box-shadow: 0px 1px 3px 1px rgba(0, 0, 0, 0.15);\n",
              "      filter: drop-shadow(0px 1px 2px rgba(0, 0, 0, 0.3));\n",
              "      fill: #FFFFFF;\n",
              "    }\n",
              "  </style>\n",
              "\n",
              "      <script>\n",
              "        const buttonEl =\n",
              "          document.querySelector('#df-19867b0b-f310-4c1b-a93e-e75309735644 button.colab-df-convert');\n",
              "        buttonEl.style.display =\n",
              "          google.colab.kernel.accessAllowed ? 'block' : 'none';\n",
              "\n",
              "        async function convertToInteractive(key) {\n",
              "          const element = document.querySelector('#df-19867b0b-f310-4c1b-a93e-e75309735644');\n",
              "          const dataTable =\n",
              "            await google.colab.kernel.invokeFunction('convertToInteractive',\n",
              "                                                     [key], {});\n",
              "          if (!dataTable) return;\n",
              "\n",
              "          const docLinkHtml = 'Like what you see? Visit the ' +\n",
              "            '<a target=\"_blank\" href=https://colab.research.google.com/notebooks/data_table.ipynb>data table notebook</a>'\n",
              "            + ' to learn more about interactive tables.';\n",
              "          element.innerHTML = '';\n",
              "          dataTable['output_type'] = 'display_data';\n",
              "          await google.colab.output.renderOutput(dataTable, element);\n",
              "          const docLink = document.createElement('div');\n",
              "          docLink.innerHTML = docLinkHtml;\n",
              "          element.appendChild(docLink);\n",
              "        }\n",
              "      </script>\n",
              "    </div>\n",
              "  </div>\n",
              "  "
            ]
          },
          "metadata": {},
          "execution_count": 20
        }
      ],
      "source": [
        "actions.query('event == \"project\" and project_type.isna()')"
      ]
    },
    {
      "cell_type": "code",
      "execution_count": 21,
      "metadata": {
        "colab": {
          "base_uri": "https://localhost:8080/",
          "height": 49
        },
        "id": "tx_PM_gDoLI3",
        "outputId": "9b1cfdfc-232a-43b7-dc53-d61b36f4d64c"
      },
      "outputs": [
        {
          "output_type": "execute_result",
          "data": {
            "text/plain": [
              "Empty DataFrame\n",
              "Columns: [event_datetime, event, building_type, user_id, project_type, date]\n",
              "Index: []"
            ],
            "text/html": [
              "\n",
              "  <div id=\"df-f2856123-aee0-48eb-b37b-d5c784f79634\">\n",
              "    <div class=\"colab-df-container\">\n",
              "      <div>\n",
              "<style scoped>\n",
              "    .dataframe tbody tr th:only-of-type {\n",
              "        vertical-align: middle;\n",
              "    }\n",
              "\n",
              "    .dataframe tbody tr th {\n",
              "        vertical-align: top;\n",
              "    }\n",
              "\n",
              "    .dataframe thead th {\n",
              "        text-align: right;\n",
              "    }\n",
              "</style>\n",
              "<table border=\"1\" class=\"dataframe\">\n",
              "  <thead>\n",
              "    <tr style=\"text-align: right;\">\n",
              "      <th></th>\n",
              "      <th>event_datetime</th>\n",
              "      <th>event</th>\n",
              "      <th>building_type</th>\n",
              "      <th>user_id</th>\n",
              "      <th>project_type</th>\n",
              "      <th>date</th>\n",
              "    </tr>\n",
              "  </thead>\n",
              "  <tbody>\n",
              "  </tbody>\n",
              "</table>\n",
              "</div>\n",
              "      <button class=\"colab-df-convert\" onclick=\"convertToInteractive('df-f2856123-aee0-48eb-b37b-d5c784f79634')\"\n",
              "              title=\"Convert this dataframe to an interactive table.\"\n",
              "              style=\"display:none;\">\n",
              "        \n",
              "  <svg xmlns=\"http://www.w3.org/2000/svg\" height=\"24px\"viewBox=\"0 0 24 24\"\n",
              "       width=\"24px\">\n",
              "    <path d=\"M0 0h24v24H0V0z\" fill=\"none\"/>\n",
              "    <path d=\"M18.56 5.44l.94 2.06.94-2.06 2.06-.94-2.06-.94-.94-2.06-.94 2.06-2.06.94zm-11 1L8.5 8.5l.94-2.06 2.06-.94-2.06-.94L8.5 2.5l-.94 2.06-2.06.94zm10 10l.94 2.06.94-2.06 2.06-.94-2.06-.94-.94-2.06-.94 2.06-2.06.94z\"/><path d=\"M17.41 7.96l-1.37-1.37c-.4-.4-.92-.59-1.43-.59-.52 0-1.04.2-1.43.59L10.3 9.45l-7.72 7.72c-.78.78-.78 2.05 0 2.83L4 21.41c.39.39.9.59 1.41.59.51 0 1.02-.2 1.41-.59l7.78-7.78 2.81-2.81c.8-.78.8-2.07 0-2.86zM5.41 20L4 18.59l7.72-7.72 1.47 1.35L5.41 20z\"/>\n",
              "  </svg>\n",
              "      </button>\n",
              "      \n",
              "  <style>\n",
              "    .colab-df-container {\n",
              "      display:flex;\n",
              "      flex-wrap:wrap;\n",
              "      gap: 12px;\n",
              "    }\n",
              "\n",
              "    .colab-df-convert {\n",
              "      background-color: #E8F0FE;\n",
              "      border: none;\n",
              "      border-radius: 50%;\n",
              "      cursor: pointer;\n",
              "      display: none;\n",
              "      fill: #1967D2;\n",
              "      height: 32px;\n",
              "      padding: 0 0 0 0;\n",
              "      width: 32px;\n",
              "    }\n",
              "\n",
              "    .colab-df-convert:hover {\n",
              "      background-color: #E2EBFA;\n",
              "      box-shadow: 0px 1px 2px rgba(60, 64, 67, 0.3), 0px 1px 3px 1px rgba(60, 64, 67, 0.15);\n",
              "      fill: #174EA6;\n",
              "    }\n",
              "\n",
              "    [theme=dark] .colab-df-convert {\n",
              "      background-color: #3B4455;\n",
              "      fill: #D2E3FC;\n",
              "    }\n",
              "\n",
              "    [theme=dark] .colab-df-convert:hover {\n",
              "      background-color: #434B5C;\n",
              "      box-shadow: 0px 1px 3px 1px rgba(0, 0, 0, 0.15);\n",
              "      filter: drop-shadow(0px 1px 2px rgba(0, 0, 0, 0.3));\n",
              "      fill: #FFFFFF;\n",
              "    }\n",
              "  </style>\n",
              "\n",
              "      <script>\n",
              "        const buttonEl =\n",
              "          document.querySelector('#df-f2856123-aee0-48eb-b37b-d5c784f79634 button.colab-df-convert');\n",
              "        buttonEl.style.display =\n",
              "          google.colab.kernel.accessAllowed ? 'block' : 'none';\n",
              "\n",
              "        async function convertToInteractive(key) {\n",
              "          const element = document.querySelector('#df-f2856123-aee0-48eb-b37b-d5c784f79634');\n",
              "          const dataTable =\n",
              "            await google.colab.kernel.invokeFunction('convertToInteractive',\n",
              "                                                     [key], {});\n",
              "          if (!dataTable) return;\n",
              "\n",
              "          const docLinkHtml = 'Like what you see? Visit the ' +\n",
              "            '<a target=\"_blank\" href=https://colab.research.google.com/notebooks/data_table.ipynb>data table notebook</a>'\n",
              "            + ' to learn more about interactive tables.';\n",
              "          element.innerHTML = '';\n",
              "          dataTable['output_type'] = 'display_data';\n",
              "          await google.colab.output.renderOutput(dataTable, element);\n",
              "          const docLink = document.createElement('div');\n",
              "          docLink.innerHTML = docLinkHtml;\n",
              "          element.appendChild(docLink);\n",
              "        }\n",
              "      </script>\n",
              "    </div>\n",
              "  </div>\n",
              "  "
            ]
          },
          "metadata": {},
          "execution_count": 21
        }
      ],
      "source": [
        "actions.query('event == \"project\" and building_type.notna()')"
      ]
    },
    {
      "cell_type": "markdown",
      "metadata": {
        "id": "WVav3eA-oLI3"
      },
      "source": [
        "Checking for gaps in the data according to the logic \"building without building type\" and \"project without project type\" showed that no such gaps were found, which means that the data contain only gaps specific to the data collection method chosen by the client."
      ]
    },
    {
      "cell_type": "code",
      "execution_count": 22,
      "metadata": {
        "colab": {
          "base_uri": "https://localhost:8080/"
        },
        "id": "GSBqwN3NoLI3",
        "outputId": "b8b92fcb-c128-4ed4-873d-99f2470c4e3a"
      },
      "outputs": [
        {
          "output_type": "stream",
          "name": "stdout",
          "text": [
            "The number of duplicates in actions after processing: 0\n",
            "\n",
            "<class 'pandas.core.frame.DataFrame'>\n",
            "Int64Index: 135639 entries, 0 to 135639\n",
            "Data columns (total 6 columns):\n",
            " #   Column          Non-Null Count   Dtype         \n",
            "---  ------          --------------   -----         \n",
            " 0   event_datetime  135639 non-null  datetime64[ns]\n",
            " 1   event           135639 non-null  object        \n",
            " 2   building_type   127956 non-null  object        \n",
            " 3   user_id         135639 non-null  object        \n",
            " 4   project_type    1866 non-null    object        \n",
            " 5   date            135639 non-null  datetime64[ns]\n",
            "dtypes: datetime64[ns](2), object(4)\n",
            "memory usage: 7.2+ MB\n",
            "None\n",
            "\n",
            "<class 'pandas.core.frame.DataFrame'>\n",
            "RangeIndex: 28 entries, 0 to 27\n",
            "Data columns (total 3 columns):\n",
            " #   Column  Non-Null Count  Dtype         \n",
            "---  ------  --------------  -----         \n",
            " 0   source  28 non-null     object        \n",
            " 1   day     28 non-null     datetime64[ns]\n",
            " 2   cost    28 non-null     float64       \n",
            "dtypes: datetime64[ns](1), float64(1), object(1)\n",
            "memory usage: 800.0+ bytes\n",
            "None\n"
          ]
        }
      ],
      "source": [
        "# check\n",
        "print('The number of duplicates in actions after processing:', actions.duplicated().sum())\n",
        "print('')\n",
        "print(actions.info())\n",
        "print('')\n",
        "print(costs.info())"
      ]
    },
    {
      "cell_type": "markdown",
      "metadata": {
        "id": "1e5iDmaloLI4"
      },
      "source": [
        "***Conclusion***\n",
        "\n",
        "During data processing, the following actions were performed:\n",
        "- In the '`costs`\" and '`actions`\" tables, the '`day`' and '`event_datetime`' columns were changed to '`datetime`' format;\n",
        "- In the \"`actions`\" table, a new '`date`' column was created to contain the date of the event;\n",
        "- Elimination of duplicates and checking of gaps in all tables."
      ]
    },
    {
      "cell_type": "markdown",
      "metadata": {
        "id": "JkDYe0ifoLI4"
      },
      "source": [
        "## Exploratory data analysis"
      ]
    },
    {
      "cell_type": "markdown",
      "metadata": {
        "id": "9BgU9LvYoLI4"
      },
      "source": [
        "### User analysis"
      ]
    },
    {
      "cell_type": "code",
      "execution_count": 23,
      "metadata": {
        "id": "81U0X288oLI4",
        "colab": {
          "base_uri": "https://localhost:8080/"
        },
        "outputId": "2a231873-07f9-4632-adc1-f6e7b1ca3256"
      },
      "outputs": [
        {
          "output_type": "stream",
          "name": "stdout",
          "text": [
            "Number of users: 135639\n",
            "Number of unique users: 13576\n"
          ]
        }
      ],
      "source": [
        "print('Number of users:', actions['user_id'].count())\n",
        "print('Number of unique users:', actions['user_id'].nunique())"
      ]
    },
    {
      "cell_type": "markdown",
      "metadata": {
        "id": "4TDfmD_roLI4"
      },
      "source": [
        "### Distribution of time in data"
      ]
    },
    {
      "cell_type": "code",
      "execution_count": 24,
      "metadata": {
        "id": "Z_rfYW6QoLI5",
        "colab": {
          "base_uri": "https://localhost:8080/"
        },
        "outputId": "b4edcb7b-8320-4deb-94a0-0267e3c56fa0"
      },
      "outputs": [
        {
          "output_type": "stream",
          "name": "stdout",
          "text": [
            "Beginning of the actions table period:  2020-05-04 00:00:01\n",
            "End of actions table period:  2020-06-05 12:32:49\n",
            "Beginning of the period of the costs table:  2020-05-03 00:00:00\n",
            "End of costs table period:  2020-05-09 00:00:00\n"
          ]
        }
      ],
      "source": [
        "print('Beginning of the actions table period: ', min(actions.event_datetime))\n",
        "print('End of actions table period: ', max(actions.event_datetime))\n",
        "print('Beginning of the period of the costs table: ', min(costs.day))\n",
        "print('End of costs table period: ', max(costs.day))"
      ]
    },
    {
      "cell_type": "markdown",
      "metadata": {
        "id": "N_bcgWsaoLI5"
      },
      "source": [
        "Previously, the client had indicated that the dataset contained data from the first users of the application - a cohort of users who started using the application in the period from May 4 to May 10, inclusive, i.e. 13576 unique users.\n",
        "\n",
        "Data on the events of these users are presented from May 4 to June 5.\n",
        "\n",
        "The advertising campaign was conducted from May 3 to May 9.\n",
        "\n",
        "The revealed dates do not collide with each other, the advertisement was purchased only for 6 days. Based on the data obtained, it can be assumed that the advertisement was purchased in advance (May 3), but in fact it was shown to users only on May 4. For this reason, the \"delay\" occurs on one day."
      ]
    },
    {
      "cell_type": "markdown",
      "metadata": {
        "id": "Fn8xrU99oLI5"
      },
      "source": [
        "### Distribution of game events and game buildings"
      ]
    },
    {
      "cell_type": "code",
      "execution_count": 25,
      "metadata": {
        "id": "yvS9d9TIoLI6"
      },
      "outputs": [],
      "source": [
        "def simple_plot(data, column, name, dpi=None, indent=1000, rot=None):\n",
        "    '''\n",
        "    график simple_plot, аргументы:\n",
        "    data - датасет, column - столбец, name - имя графика,\n",
        "    dpi - разрешение, indent - отступ значений от столбца,\n",
        "    rot - наклон подписей оси Х.\n",
        "    '''\n",
        "    fig = plt.figure(figsize=(6,3), dpi=dpi)\n",
        "    ax = sns.countplot(x = column,\n",
        "                      data = data,\n",
        "                      order = data[column].value_counts().index,\n",
        "                      palette=['#e1958e', '#b6e7ec', '#f1caee', '#dde38b'])\n",
        "    sns.despine(bottom=True)\n",
        "    ax.set(xlabel=None)\n",
        "    plt.xticks(rotation=rot)\n",
        "    ax.set_title(name,\n",
        "                 fontsize=15, color = '#000000', weight=\"bold\", y=1.2)\n",
        "    for i, count in enumerate(data[column].value_counts()):\n",
        "        ax.text(i, count+indent, str(count) + ' (' + str(round(count/data[column].value_counts().sum()*100,2))+' %)',\n",
        "                horizontalalignment='center', fontsize=10, color='black')\n",
        "    plt.show() "
      ]
    },
    {
      "cell_type": "code",
      "execution_count": 26,
      "metadata": {
        "colab": {
          "base_uri": "https://localhost:8080/",
          "height": 362
        },
        "id": "eo16vpQHoLI6",
        "outputId": "b3d08ab0-3c97-4ad8-d81c-7ce308ffe951"
      },
      "outputs": [
        {
          "output_type": "display_data",
          "data": {
            "text/plain": [
              "<Figure size 600x300 with 1 Axes>"
            ],
            "image/png": "[encoded data removed]"
          },
          "metadata": {}
        }
      ],
      "source": [
        "simple_plot(actions, 'event', 'Distribution of game events', indent=4000)"
      ]
    },
    {
      "cell_type": "code",
      "execution_count": 27,
      "metadata": {
        "colab": {
          "base_uri": "https://localhost:8080/",
          "height": 362
        },
        "id": "ZB1lS254oLI6",
        "outputId": "a00590b3-3cad-43e1-c1e6-aa1e19a036f0"
      },
      "outputs": [
        {
          "output_type": "display_data",
          "data": {
            "text/plain": [
              "<Figure size 600x300 with 1 Axes>"
            ],
            "image/png": "[encoded data removed]"
          },
          "metadata": {}
        }
      ],
      "source": [
        "simple_plot(actions, 'building_type', 'Distribution of game buildings', indent=4000)"
      ]
    },
    {
      "cell_type": "markdown",
      "metadata": {
        "id": "ksGywxntoLI6"
      },
      "source": [
        "Based on the aggregated data, the following conclusions can be drawn:\n",
        "\n",
        "1. Almost 130k. (94%) of the events are described as 'building', i.e. the user is in the process of constructing a building. About 6k (4%) of users from the sample completed the first stage, 2k (1%) did so through project implementation.\n",
        "2. Almost evenly distributed are building 'assembly_shop' (54k., 42%) and 'spaceport' (59k., 46%), 'research_center' built only 14k. (11%) of the users."
      ]
    },
    {
      "cell_type": "markdown",
      "metadata": {
        "id": "d6tvkb7ToLI6"
      },
      "source": [
        "### Analysis of users who passed / did not pass to a new level"
      ]
    },
    {
      "cell_type": "code",
      "execution_count": 28,
      "metadata": {
        "id": "LRmueDLpoLI7"
      },
      "outputs": [],
      "source": [
        "new_lvl = pd.DataFrame(actions.user_id.unique())\n",
        "new_lvl.columns = ['user_id']"
      ]
    },
    {
      "cell_type": "code",
      "execution_count": 29,
      "metadata": {
        "id": "jnfkFKGroLI7"
      },
      "outputs": [],
      "source": [
        "finish_lvl = actions.query('event == \"finished_stage_1\"')['user_id'].unique()\n",
        "new_lvl['finish_lvl'] = new_lvl['user_id'].apply(lambda x: 1 if x in finish_lvl else 0)\n",
        "\n",
        "finish_lvl_project = actions.query('event == \"project\"')['user_id'].unique()\n",
        "new_lvl['finish_lvl_split'] = new_lvl['user_id'].apply(lambda x: 'project' if x in finish_lvl_project\n",
        "                                                         else 'victory' if x in finish_lvl\n",
        "                                                         else 'no_finish')\n",
        "\n",
        "count_building = actions.query('event == \"building\"').groupby('user_id')\\\n",
        "                 .agg({'event':'count'}).reset_index().rename(columns={'event':'count_building'})\n",
        "new_lvl = new_lvl.merge(count_building, how='left', on='user_id')\n",
        "\n",
        "day1 = actions.groupby('user_id')['date'].first().reset_index().rename(columns={'date':'day1'})\n",
        "new_lvl = new_lvl.merge(day1, how='left', on='user_id')\n",
        "\n",
        "finish_lvl_day = actions.query(\n",
        "    'event == \"finished_stage_1\"')[['user_id', 'date']].rename(columns={'date':'finish_lvl_day'})\n",
        "new_lvl = new_lvl.merge(finish_lvl_day, how='left', on='user_id')\n",
        "\n",
        "last_day = actions.groupby('user_id')['date'].last().reset_index().rename(columns={'date':'last_day'})\n",
        "new_lvl = new_lvl.merge(last_day, how='left', on='user_id')\n",
        "\n",
        "new_lvl['count_lvl_day'] = (new_lvl['finish_lvl_day']- new_lvl['day1']) / datetime.timedelta(days=1)"
      ]
    },
    {
      "cell_type": "code",
      "execution_count": 30,
      "metadata": {
        "id": "_6QqS-z7oLI7"
      },
      "outputs": [],
      "source": [
        "new_lvl['total_day'] = (new_lvl['last_day']- new_lvl['day1'])/datetime.timedelta(days=1)\n",
        "\n",
        "count_play_day = actions.groupby('user_id')['date'].nunique().reset_index().rename(columns={'date':'count_play_day'})\n",
        "new_lvl = new_lvl.merge(count_play_day, how='left', on='user_id')\n",
        "\n",
        "new_lvl = new_lvl.merge(sourse, how='left', on='user_id')\n",
        "\n",
        "count_building_type = actions.groupby(['user_id', 'building_type'])['event_datetime'].count().reset_index()\n",
        "count_building_type = count_building_type.pivot_table(\n",
        "    index='user_id', columns='building_type', values='event_datetime').reset_index()\n",
        "new_lvl = new_lvl.merge(\n",
        "    count_building_type[['user_id','assembly_shop', 'spaceport', 'research_center']], how='left', on='user_id')"
      ]
    },
    {
      "cell_type": "code",
      "execution_count": 31,
      "metadata": {
        "colab": {
          "base_uri": "https://localhost:8080/",
          "height": 948
        },
        "id": "U0k3VaODoLI7",
        "outputId": "de8251a5-f064-42ca-ce66-8458b3910c0f"
      },
      "outputs": [
        {
          "output_type": "execute_result",
          "data": {
            "text/plain": [
              "                                    user_id  finish_lvl finish_lvl_split  \\\n",
              "3370   3283fa77-7f39-4276-878a-fa8f67469a9c           1          victory   \n",
              "333    0e7bff3b-e280-4e21-8da4-9142900c0a1f           0        no_finish   \n",
              "13396  bb4f06ca-a8be-442f-8bfd-788f57e7e2d0           1          victory   \n",
              "12315  08eec174-93ba-487d-8506-be663fc2fa13           1          victory   \n",
              "11909  a72bc455-f1ef-4df5-8723-079b6b702a43           0        no_finish   \n",
              "9691   7bfe8405-4bf0-411e-836b-c105fe094bbb           0        no_finish   \n",
              "4287   8fe4023e-32eb-400f-8904-d0a615311208           0        no_finish   \n",
              "8814   ac40daf8-d124-49de-bfc9-932a243df8f0           0        no_finish   \n",
              "4746   493e1c3b-61eb-4741-94ca-3ff01e766da5           1          victory   \n",
              "12657  fd481895-45c1-4e34-84e9-342b37633f52           0        no_finish   \n",
              "\n",
              "       count_building       day1 finish_lvl_day   last_day  count_lvl_day  \\\n",
              "3370                6 2020-05-04     2020-05-12 2020-05-12           8.00   \n",
              "333                16 2020-05-04            NaT 2020-05-17            NaN   \n",
              "13396               4 2020-05-10     2020-05-17 2020-05-17           7.00   \n",
              "12315               8 2020-05-08     2020-05-19 2020-05-19          11.00   \n",
              "11909               6 2020-05-07            NaT 2020-05-10            NaN   \n",
              "9691               15 2020-05-06            NaT 2020-05-16            NaN   \n",
              "4287                8 2020-05-04            NaT 2020-05-14            NaN   \n",
              "8814                5 2020-05-05            NaT 2020-05-15            NaN   \n",
              "4746               13 2020-05-04     2020-05-19 2020-05-19          15.00   \n",
              "12657               6 2020-05-08            NaT 2020-05-21            NaN   \n",
              "\n",
              "       total_day  count_play_day                   source  assembly_shop  \\\n",
              "3370        8.00               6            yandex_direct           2.00   \n",
              "333        13.00               8    instagram_new_adverts           5.00   \n",
              "13396       7.00               4            yandex_direct           2.00   \n",
              "12315      11.00               6            yandex_direct           2.00   \n",
              "11909       3.00               3             facebook_ads           5.00   \n",
              "9691       10.00               7    instagram_new_adverts           7.00   \n",
              "4287       10.00               6             facebook_ads           6.00   \n",
              "8814       10.00               4            yandex_direct           1.00   \n",
              "4746       15.00              10  youtube_channel_reklama           7.00   \n",
              "12657      13.00               5    instagram_new_adverts           1.00   \n",
              "\n",
              "       spaceport  research_center  \n",
              "3370        4.00              NaN  \n",
              "333         8.00             3.00  \n",
              "13396       2.00              NaN  \n",
              "12315       6.00              NaN  \n",
              "11909       1.00              NaN  \n",
              "9691        6.00             2.00  \n",
              "4287        1.00             1.00  \n",
              "8814        4.00              NaN  \n",
              "4746        4.00             2.00  \n",
              "12657       5.00              NaN  "
            ],
            "text/html": [
              "\n",
              "  <div id=\"df-6fb3bc22-0c4a-4b61-a26b-c5fb778526bf\">\n",
              "    <div class=\"colab-df-container\">\n",
              "      <div>\n",
              "<style scoped>\n",
              "    .dataframe tbody tr th:only-of-type {\n",
              "        vertical-align: middle;\n",
              "    }\n",
              "\n",
              "    .dataframe tbody tr th {\n",
              "        vertical-align: top;\n",
              "    }\n",
              "\n",
              "    .dataframe thead th {\n",
              "        text-align: right;\n",
              "    }\n",
              "</style>\n",
              "<table border=\"1\" class=\"dataframe\">\n",
              "  <thead>\n",
              "    <tr style=\"text-align: right;\">\n",
              "      <th></th>\n",
              "      <th>user_id</th>\n",
              "      <th>finish_lvl</th>\n",
              "      <th>finish_lvl_split</th>\n",
              "      <th>count_building</th>\n",
              "      <th>day1</th>\n",
              "      <th>finish_lvl_day</th>\n",
              "      <th>last_day</th>\n",
              "      <th>count_lvl_day</th>\n",
              "      <th>total_day</th>\n",
              "      <th>count_play_day</th>\n",
              "      <th>source</th>\n",
              "      <th>assembly_shop</th>\n",
              "      <th>spaceport</th>\n",
              "      <th>research_center</th>\n",
              "    </tr>\n",
              "  </thead>\n",
              "  <tbody>\n",
              "    <tr>\n",
              "      <th>3370</th>\n",
              "      <td>3283fa77-7f39-4276-878a-fa8f67469a9c</td>\n",
              "      <td>1</td>\n",
              "      <td>victory</td>\n",
              "      <td>6</td>\n",
              "      <td>2020-05-04</td>\n",
              "      <td>2020-05-12</td>\n",
              "      <td>2020-05-12</td>\n",
              "      <td>8.00</td>\n",
              "      <td>8.00</td>\n",
              "      <td>6</td>\n",
              "      <td>yandex_direct</td>\n",
              "      <td>2.00</td>\n",
              "      <td>4.00</td>\n",
              "      <td>NaN</td>\n",
              "    </tr>\n",
              "    <tr>\n",
              "      <th>333</th>\n",
              "      <td>0e7bff3b-e280-4e21-8da4-9142900c0a1f</td>\n",
              "      <td>0</td>\n",
              "      <td>no_finish</td>\n",
              "      <td>16</td>\n",
              "      <td>2020-05-04</td>\n",
              "      <td>NaT</td>\n",
              "      <td>2020-05-17</td>\n",
              "      <td>NaN</td>\n",
              "      <td>13.00</td>\n",
              "      <td>8</td>\n",
              "      <td>instagram_new_adverts</td>\n",
              "      <td>5.00</td>\n",
              "      <td>8.00</td>\n",
              "      <td>3.00</td>\n",
              "    </tr>\n",
              "    <tr>\n",
              "      <th>13396</th>\n",
              "      <td>bb4f06ca-a8be-442f-8bfd-788f57e7e2d0</td>\n",
              "      <td>1</td>\n",
              "      <td>victory</td>\n",
              "      <td>4</td>\n",
              "      <td>2020-05-10</td>\n",
              "      <td>2020-05-17</td>\n",
              "      <td>2020-05-17</td>\n",
              "      <td>7.00</td>\n",
              "      <td>7.00</td>\n",
              "      <td>4</td>\n",
              "      <td>yandex_direct</td>\n",
              "      <td>2.00</td>\n",
              "      <td>2.00</td>\n",
              "      <td>NaN</td>\n",
              "    </tr>\n",
              "    <tr>\n",
              "      <th>12315</th>\n",
              "      <td>08eec174-93ba-487d-8506-be663fc2fa13</td>\n",
              "      <td>1</td>\n",
              "      <td>victory</td>\n",
              "      <td>8</td>\n",
              "      <td>2020-05-08</td>\n",
              "      <td>2020-05-19</td>\n",
              "      <td>2020-05-19</td>\n",
              "      <td>11.00</td>\n",
              "      <td>11.00</td>\n",
              "      <td>6</td>\n",
              "      <td>yandex_direct</td>\n",
              "      <td>2.00</td>\n",
              "      <td>6.00</td>\n",
              "      <td>NaN</td>\n",
              "    </tr>\n",
              "    <tr>\n",
              "      <th>11909</th>\n",
              "      <td>a72bc455-f1ef-4df5-8723-079b6b702a43</td>\n",
              "      <td>0</td>\n",
              "      <td>no_finish</td>\n",
              "      <td>6</td>\n",
              "      <td>2020-05-07</td>\n",
              "      <td>NaT</td>\n",
              "      <td>2020-05-10</td>\n",
              "      <td>NaN</td>\n",
              "      <td>3.00</td>\n",
              "      <td>3</td>\n",
              "      <td>facebook_ads</td>\n",
              "      <td>5.00</td>\n",
              "      <td>1.00</td>\n",
              "      <td>NaN</td>\n",
              "    </tr>\n",
              "    <tr>\n",
              "      <th>9691</th>\n",
              "      <td>7bfe8405-4bf0-411e-836b-c105fe094bbb</td>\n",
              "      <td>0</td>\n",
              "      <td>no_finish</td>\n",
              "      <td>15</td>\n",
              "      <td>2020-05-06</td>\n",
              "      <td>NaT</td>\n",
              "      <td>2020-05-16</td>\n",
              "      <td>NaN</td>\n",
              "      <td>10.00</td>\n",
              "      <td>7</td>\n",
              "      <td>instagram_new_adverts</td>\n",
              "      <td>7.00</td>\n",
              "      <td>6.00</td>\n",
              "      <td>2.00</td>\n",
              "    </tr>\n",
              "    <tr>\n",
              "      <th>4287</th>\n",
              "      <td>8fe4023e-32eb-400f-8904-d0a615311208</td>\n",
              "      <td>0</td>\n",
              "      <td>no_finish</td>\n",
              "      <td>8</td>\n",
              "      <td>2020-05-04</td>\n",
              "      <td>NaT</td>\n",
              "      <td>2020-05-14</td>\n",
              "      <td>NaN</td>\n",
              "      <td>10.00</td>\n",
              "      <td>6</td>\n",
              "      <td>facebook_ads</td>\n",
              "      <td>6.00</td>\n",
              "      <td>1.00</td>\n",
              "      <td>1.00</td>\n",
              "    </tr>\n",
              "    <tr>\n",
              "      <th>8814</th>\n",
              "      <td>ac40daf8-d124-49de-bfc9-932a243df8f0</td>\n",
              "      <td>0</td>\n",
              "      <td>no_finish</td>\n",
              "      <td>5</td>\n",
              "      <td>2020-05-05</td>\n",
              "      <td>NaT</td>\n",
              "      <td>2020-05-15</td>\n",
              "      <td>NaN</td>\n",
              "      <td>10.00</td>\n",
              "      <td>4</td>\n",
              "      <td>yandex_direct</td>\n",
              "      <td>1.00</td>\n",
              "      <td>4.00</td>\n",
              "      <td>NaN</td>\n",
              "    </tr>\n",
              "    <tr>\n",
              "      <th>4746</th>\n",
              "      <td>493e1c3b-61eb-4741-94ca-3ff01e766da5</td>\n",
              "      <td>1</td>\n",
              "      <td>victory</td>\n",
              "      <td>13</td>\n",
              "      <td>2020-05-04</td>\n",
              "      <td>2020-05-19</td>\n",
              "      <td>2020-05-19</td>\n",
              "      <td>15.00</td>\n",
              "      <td>15.00</td>\n",
              "      <td>10</td>\n",
              "      <td>youtube_channel_reklama</td>\n",
              "      <td>7.00</td>\n",
              "      <td>4.00</td>\n",
              "      <td>2.00</td>\n",
              "    </tr>\n",
              "    <tr>\n",
              "      <th>12657</th>\n",
              "      <td>fd481895-45c1-4e34-84e9-342b37633f52</td>\n",
              "      <td>0</td>\n",
              "      <td>no_finish</td>\n",
              "      <td>6</td>\n",
              "      <td>2020-05-08</td>\n",
              "      <td>NaT</td>\n",
              "      <td>2020-05-21</td>\n",
              "      <td>NaN</td>\n",
              "      <td>13.00</td>\n",
              "      <td>5</td>\n",
              "      <td>instagram_new_adverts</td>\n",
              "      <td>1.00</td>\n",
              "      <td>5.00</td>\n",
              "      <td>NaN</td>\n",
              "    </tr>\n",
              "  </tbody>\n",
              "</table>\n",
              "</div>\n",
              "      <button class=\"colab-df-convert\" onclick=\"convertToInteractive('df-6fb3bc22-0c4a-4b61-a26b-c5fb778526bf')\"\n",
              "              title=\"Convert this dataframe to an interactive table.\"\n",
              "              style=\"display:none;\">\n",
              "        \n",
              "  <svg xmlns=\"http://www.w3.org/2000/svg\" height=\"24px\"viewBox=\"0 0 24 24\"\n",
              "       width=\"24px\">\n",
              "    <path d=\"M0 0h24v24H0V0z\" fill=\"none\"/>\n",
              "    <path d=\"M18.56 5.44l.94 2.06.94-2.06 2.06-.94-2.06-.94-.94-2.06-.94 2.06-2.06.94zm-11 1L8.5 8.5l.94-2.06 2.06-.94-2.06-.94L8.5 2.5l-.94 2.06-2.06.94zm10 10l.94 2.06.94-2.06 2.06-.94-2.06-.94-.94-2.06-.94 2.06-2.06.94z\"/><path d=\"M17.41 7.96l-1.37-1.37c-.4-.4-.92-.59-1.43-.59-.52 0-1.04.2-1.43.59L10.3 9.45l-7.72 7.72c-.78.78-.78 2.05 0 2.83L4 21.41c.39.39.9.59 1.41.59.51 0 1.02-.2 1.41-.59l7.78-7.78 2.81-2.81c.8-.78.8-2.07 0-2.86zM5.41 20L4 18.59l7.72-7.72 1.47 1.35L5.41 20z\"/>\n",
              "  </svg>\n",
              "      </button>\n",
              "      \n",
              "  <style>\n",
              "    .colab-df-container {\n",
              "      display:flex;\n",
              "      flex-wrap:wrap;\n",
              "      gap: 12px;\n",
              "    }\n",
              "\n",
              "    .colab-df-convert {\n",
              "      background-color: #E8F0FE;\n",
              "      border: none;\n",
              "      border-radius: 50%;\n",
              "      cursor: pointer;\n",
              "      display: none;\n",
              "      fill: #1967D2;\n",
              "      height: 32px;\n",
              "      padding: 0 0 0 0;\n",
              "      width: 32px;\n",
              "    }\n",
              "\n",
              "    .colab-df-convert:hover {\n",
              "      background-color: #E2EBFA;\n",
              "      box-shadow: 0px 1px 2px rgba(60, 64, 67, 0.3), 0px 1px 3px 1px rgba(60, 64, 67, 0.15);\n",
              "      fill: #174EA6;\n",
              "    }\n",
              "\n",
              "    [theme=dark] .colab-df-convert {\n",
              "      background-color: #3B4455;\n",
              "      fill: #D2E3FC;\n",
              "    }\n",
              "\n",
              "    [theme=dark] .colab-df-convert:hover {\n",
              "      background-color: #434B5C;\n",
              "      box-shadow: 0px 1px 3px 1px rgba(0, 0, 0, 0.15);\n",
              "      filter: drop-shadow(0px 1px 2px rgba(0, 0, 0, 0.3));\n",
              "      fill: #FFFFFF;\n",
              "    }\n",
              "  </style>\n",
              "\n",
              "      <script>\n",
              "        const buttonEl =\n",
              "          document.querySelector('#df-6fb3bc22-0c4a-4b61-a26b-c5fb778526bf button.colab-df-convert');\n",
              "        buttonEl.style.display =\n",
              "          google.colab.kernel.accessAllowed ? 'block' : 'none';\n",
              "\n",
              "        async function convertToInteractive(key) {\n",
              "          const element = document.querySelector('#df-6fb3bc22-0c4a-4b61-a26b-c5fb778526bf');\n",
              "          const dataTable =\n",
              "            await google.colab.kernel.invokeFunction('convertToInteractive',\n",
              "                                                     [key], {});\n",
              "          if (!dataTable) return;\n",
              "\n",
              "          const docLinkHtml = 'Like what you see? Visit the ' +\n",
              "            '<a target=\"_blank\" href=https://colab.research.google.com/notebooks/data_table.ipynb>data table notebook</a>'\n",
              "            + ' to learn more about interactive tables.';\n",
              "          element.innerHTML = '';\n",
              "          dataTable['output_type'] = 'display_data';\n",
              "          await google.colab.output.renderOutput(dataTable, element);\n",
              "          const docLink = document.createElement('div');\n",
              "          docLink.innerHTML = docLinkHtml;\n",
              "          element.appendChild(docLink);\n",
              "        }\n",
              "      </script>\n",
              "    </div>\n",
              "  </div>\n",
              "  "
            ]
          },
          "metadata": {},
          "execution_count": 31
        }
      ],
      "source": [
        "new_lvl.sample(10)"
      ]
    },
    {
      "cell_type": "code",
      "execution_count": 32,
      "metadata": {
        "colab": {
          "base_uri": "https://localhost:8080/",
          "height": 362
        },
        "id": "mDyZaYueoLI7",
        "outputId": "844a43b7-1cdc-42be-cc27-0fbaa7cbc245"
      },
      "outputs": [
        {
          "output_type": "display_data",
          "data": {
            "text/plain": [
              "<Figure size 600x300 with 1 Axes>"
            ],
            "image/png": "[encoded data removed]"
          },
          "metadata": {}
        }
      ],
      "source": [
        "simple_plot(new_lvl, 'finish_lvl_split', 'Number of users who passed/failed the first level', indent=300)"
      ]
    },
    {
      "cell_type": "code",
      "execution_count": 33,
      "metadata": {
        "id": "GKT-qcLDoLI8",
        "colab": {
          "base_uri": "https://localhost:8080/",
          "height": 362
        },
        "outputId": "a11bc0ed-2e96-49e7-a924-6beed50c8a7b"
      },
      "outputs": [
        {
          "output_type": "display_data",
          "data": {
            "text/plain": [
              "<Figure size 600x300 with 1 Axes>"
            ],
            "image/png": "[encoded data removed]"
          },
          "metadata": {}
        }
      ],
      "source": [
        "simple_plot(new_lvl.query('finish_lvl == 1'), 'finish_lvl_split', 'Players who have completed the first level', indent=80)"
      ]
    },
    {
      "cell_type": "markdown",
      "metadata": {
        "id": "JU09l3jNoLI8"
      },
      "source": [
        "From the data obtained, we can see the following:\n",
        "- 57% of players did not complete the first level;\n",
        "- 29% completed the first level by defeating the first opponent;\n",
        "- 13.7% completed the first level by converting the project;\n",
        "- The number of warriors (68%) is twice as high as that of builders (32%)."
      ]
    },
    {
      "cell_type": "markdown",
      "metadata": {
        "id": "B3JrPGx6oLI8"
      },
      "source": [
        "### Distribution of the number of `building` events by users"
      ]
    },
    {
      "cell_type": "code",
      "execution_count": 34,
      "metadata": {
        "id": "sRocklOcoLI8"
      },
      "outputs": [],
      "source": [
        "def plotly_hist(data, column, name, name_x, name_y, color=None):\n",
        "    '''\n",
        "    график histogram, аргументы:\n",
        "    data - датасет, column - столбец, name - имя графика, color - деление на группы.\n",
        "    '''\n",
        "    fig = px.histogram(data, x=column, color=color, barmode='group', width=800, height=400)\n",
        "    fig.data[0].marker.color = '#e1958e'\n",
        "    fig.update_layout(\n",
        "                      plot_bgcolor='#f8f6f6',\n",
        "                      title=dict(text='<b>{}</b>'.format(name), \n",
        "                                 font=dict(family=\"Arial\",size=18,color='#344243'), x=0.5),\n",
        "                      xaxis_title=dict(text='<b>{}</b>'.format(name_x)),\n",
        "                      yaxis_title=dict(text='<b>{}</b>'.format(name_y))\n",
        "                      )\n",
        "    fig.show()"
      ]
    },
    {
      "cell_type": "code",
      "execution_count": 35,
      "metadata": {
        "id": "oB7kB3XNoLI8",
        "colab": {
          "base_uri": "https://localhost:8080/",
          "height": 417
        },
        "outputId": "d182c67e-715b-430e-e696-dc08075daa9c"
      },
      "outputs": [
        {
          "output_type": "display_data",
          "data": {
            "text/html": [
              "<html>\n",
              "<head><meta charset=\"utf-8\" /></head>\n",
              "<body>\n",
              "    <div>            <script src=\"https://cdnjs.cloudflare.com/ajax/libs/mathjax/2.7.5/MathJax.js?config=TeX-AMS-MML_SVG\"></script><script type=\"text/javascript\">if (window.MathJax && window.MathJax.Hub && window.MathJax.Hub.Config) {window.MathJax.Hub.Config({SVG: {font: \"STIX-Web\"}});}</script>                <script type=\"text/javascript\">window.PlotlyConfig = {MathJaxConfig: 'local'};</script>\n",
              "        <script src=\"https://cdn.plot.ly/plotly-2.18.2.min.js\"></script>                <div id=\"2ec0397f-b8fc-4e17-91f2-3abaf701e57b\" class=\"plotly-graph-div\" style=\"height:400px; width:800px;\"></div>            <script type=\"text/javascript\">                                    window.PLOTLYENV=window.PLOTLYENV || {};                                    if (document.getElementById(\"2ec0397f-b8fc-4e17-91f2-3abaf701e57b\")) {                    Plotly.newPlot(                        \"2ec0397f-b8fc-4e17-91f2-3abaf701e57b\",                        [{\"alignmentgroup\":\"True\",\"bingroup\":\"x\",\"hovertemplate\":\"count_building=%{x}<br>count=%{y}<extra></extra>\",\"legendgroup\":\"\",\"marker\":{\"color\":\"#e1958e\",\"pattern\":{\"shape\":\"\"}},\"name\":\"\",\"offsetgroup\":\"\",\"orientation\":\"v\",\"showlegend\":false,\"x\":[7,11,12,10,6,11,12,13,10,12,12,9,3,11,9,12,5,6,13,9,13,10,7,14,13,9,12,8,13,5,5,6,8,14,4,13,7,10,11,10,4,13,6,5,5,13,11,7,13,13,5,11,8,11,10,9,8,6,10,17,8,10,11,10,9,16,13,10,12,3,4,11,15,2,9,5,6,15,12,13,11,12,11,9,8,14,6,18,13,11,10,13,16,13,6,8,8,16,13,12,16,13,15,12,13,13,9,9,17,5,5,13,9,9,6,8,4,9,4,13,14,10,6,2,9,15,12,13,12,9,11,14,12,10,13,10,6,11,14,13,11,9,16,13,10,10,11,13,15,11,5,10,4,10,14,19,2,12,6,16,9,10,7,12,14,4,13,11,6,14,12,17,11,15,5,6,3,13,9,7,10,3,8,14,10,14,12,11,6,11,12,12,12,9,15,9,5,11,12,13,10,5,15,10,6,6,15,13,13,5,14,10,12,6,10,11,9,15,11,16,15,5,10,8,12,13,13,14,5,5,9,15,15,8,10,10,14,12,14,12,13,10,17,6,5,9,14,17,5,15,6,14,8,18,13,5,14,12,8,10,5,9,4,15,13,13,14,10,4,16,7,15,13,10,14,10,13,10,19,8,12,7,13,14,15,11,16,8,15,15,19,5,3,11,11,14,10,9,6,4,9,11,12,12,8,9,6,9,11,15,16,9,10,5,11,10,13,16,9,10,12,15,11,5,15,9,13,5,4,9,13,15,9,16,11,11,7,9,13,3,11,17,12,5,16,9,6,10,16,11,4,13,11,16,14,6,10,12,13,13,4,11,12,9,12,10,10,13,9,8,12,9,14,5,10,5,5,11,12,14,13,9,14,8,11,12,11,8,17,12,5,12,14,4,14,4,8,15,8,10,16,4,6,13,11,14,14,14,6,6,17,9,9,6,8,7,6,3,11,6,13,9,7,16,11,14,11,11,5,10,13,10,13,13,9,16,15,9,9,6,4,12,9,11,12,11,9,6,6,14,11,3,12,13,11,12,9,10,11,6,13,9,10,10,10,14,14,3,9,9,10,11,12,7,14,12,16,9,10,9,15,11,15,15,2,3,5,9,12,11,11,14,15,13,14,10,8,3,15,12,11,10,10,10,6,12,11,7,18,3,13,12,6,16,9,11,12,10,15,13,9,10,15,14,9,8,11,13,12,10,16,14,15,3,11,6,11,12,4,9,11,6,14,9,5,16,7,12,9,12,10,15,14,17,5,9,10,12,11,8,12,9,18,3,6,11,9,8,12,8,16,15,9,6,15,13,17,11,9,10,10,15,7,9,8,6,11,11,11,6,11,9,15,11,10,14,14,11,10,1,8,9,14,9,11,6,12,8,11,10,7,13,10,16,6,14,11,4,10,10,15,14,4,18,6,12,11,3,14,6,9,15,9,15,5,4,9,15,5,11,13,14,13,16,16,10,11,15,11,12,14,9,13,16,17,14,10,14,10,16,9,11,15,10,5,9,15,13,5,9,13,15,20,13,5,4,3,10,10,10,10,14,5,10,14,17,13,5,15,4,6,12,14,2,13,5,14,2,15,14,14,12,12,15,10,6,14,12,9,13,17,11,15,14,15,13,9,13,17,9,14,12,14,10,5,18,20,12,10,14,14,9,12,10,11,12,14,16,13,13,4,10,6,13,14,6,13,16,8,4,15,9,12,10,12,14,4,9,14,9,12,10,7,4,5,14,15,17,15,6,10,3,13,12,13,11,15,14,14,14,12,7,16,11,10,5,10,12,10,9,10,15,6,11,14,14,13,11,9,6,17,6,14,13,14,6,11,13,14,11,14,14,13,7,10,16,11,16,11,14,9,18,12,8,11,6,9,14,10,3,14,10,6,13,11,14,5,8,9,12,12,8,12,14,4,6,15,4,11,14,11,6,12,10,5,10,17,7,18,16,11,16,15,13,5,10,4,15,4,16,5,11,18,11,6,5,12,5,16,13,4,11,9,11,8,9,15,10,12,13,13,4,13,11,13,13,17,12,13,9,7,9,9,8,5,9,9,4,10,12,11,8,3,10,13,10,13,9,12,11,12,12,13,9,11,8,14,3,16,11,12,13,11,12,11,14,5,6,13,15,14,14,13,16,14,12,17,1,11,9,9,9,8,11,10,10,12,9,11,10,11,9,13,11,13,14,4,9,14,11,17,11,8,16,17,10,12,3,8,9,15,9,8,5,15,10,13,13,4,13,5,13,16,14,15,6,16,8,7,5,13,12,5,12,8,9,7,10,16,12,12,6,6,13,16,13,13,11,9,11,16,15,11,10,15,18,10,9,11,14,11,6,15,12,9,9,11,8,6,13,12,9,5,14,7,14,12,18,9,11,12,11,17,10,6,12,14,13,14,8,13,12,11,11,10,10,7,5,12,10,10,12,12,9,5,14,10,8,10,8,8,14,5,13,10,11,18,16,10,17,14,9,8,10,13,10,6,16,9,12,12,6,9,9,15,5,13,12,13,11,12,10,8,6,7,4,6,5,6,11,6,13,12,9,13,10,6,11,12,10,9,4,14,10,13,4,12,9,9,10,12,8,12,9,10,5,7,8,10,12,5,13,12,3,9,11,11,12,11,11,10,15,5,11,8,13,12,14,12,13,11,6,8,12,13,8,13,14,8,15,14,16,17,12,8,8,3,3,5,6,11,10,6,18,9,10,5,10,14,11,13,13,18,5,10,10,5,5,11,6,7,8,9,14,15,13,15,8,10,5,12,10,9,10,9,15,6,12,4,16,12,11,10,15,7,5,7,12,10,12,9,9,13,11,6,4,15,9,4,12,7,15,2,12,6,11,11,15,10,5,11,11,6,6,6,13,5,10,6,5,5,13,12,6,12,17,15,12,6,13,9,11,4,5,12,6,13,17,10,6,13,5,3,6,9,17,10,12,10,16,10,11,10,10,12,10,10,14,9,9,9,9,13,11,10,8,16,11,6,6,13,10,13,10,6,13,6,11,10,6,11,11,11,12,9,12,4,4,14,4,10,3,2,4,10,13,11,8,9,4,11,10,13,13,5,6,8,16,5,10,9,12,11,14,8,17,17,8,13,11,17,13,10,12,11,6,15,6,11,14,15,13,17,14,8,17,14,4,10,14,13,9,6,9,7,13,13,4,9,14,10,10,18,12,9,12,16,9,7,13,8,8,14,12,11,8,10,9,15,9,5,14,8,5,4,14,2,12,10,9,15,9,9,3,15,11,6,14,13,10,11,13,3,9,6,20,9,4,9,12,8,12,9,10,12,18,8,13,10,11,8,15,15,6,14,3,14,2,12,13,6,8,12,9,6,8,9,15,17,5,5,10,17,14,7,10,9,7,12,12,5,13,15,9,12,11,6,10,10,13,6,10,10,9,15,6,8,13,10,6,14,12,18,4,7,15,12,5,5,8,14,6,17,10,10,12,16,12,9,12,5,11,6,9,14,11,8,7,5,14,15,12,14,4,4,11,15,15,6,11,8,13,14,13,8,15,12,15,16,15,4,8,12,8,10,13,14,9,10,10,12,11,13,6,10,6,13,10,13,13,3,11,13,6,15,15,10,11,4,9,15,14,12,10,6,16,16,9,10,11,6,9,14,10,13,13,14,4,9,10,10,6,13,10,5,8,7,5,12,16,3,12,9,15,9,10,11,10,10,10,2,14,13,9,5,11,9,20,5,6,6,9,11,8,17,11,9,14,10,15,14,10,4,14,4,6,8,14,14,14,11,4,20,11,5,6,14,6,6,8,16,6,8,8,10,14,11,15,13,5,7,16,13,7,10,11,14,16,17,12,11,9,11,13,11,18,12,14,10,15,10,13,11,12,14,8,13,6,8,6,11,14,12,16,15,8,10,14,5,3,15,11,6,16,14,4,12,8,10,5,14,12,8,9,14,9,12,9,17,9,10,13,12,8,8,10,13,13,10,11,8,10,16,4,9,12,6,16,14,6,11,9,9,8,9,6,9,5,10,9,8,14,11,9,15,13,3,10,10,11,7,14,5,4,7,15,17,15,12,6,8,12,16,13,14,6,13,5,13,10,13,10,9,8,10,13,11,13,11,11,16,13,13,8,5,10,16,8,13,5,2,13,12,8,11,9,13,11,10,12,5,10,16,16,17,11,9,12,6,10,12,11,8,9,11,9,10,14,13,12,5,9,6,12,6,6,15,5,14,18,12,10,11,17,6,10,4,11,2,11,15,14,11,15,15,6,9,13,10,13,5,6,16,14,13,8,5,1,8,9,9,8,9,14,10,5,15,17,14,16,6,4,10,14,9,11,10,5,13,12,5,10,11,10,16,11,6,6,4,6,10,12,11,11,9,9,13,5,8,14,15,5,8,4,7,7,15,6,6,17,13,12,6,12,10,12,17,14,4,6,9,6,19,10,8,11,10,10,9,15,11,14,14,8,8,12,17,11,11,8,13,8,6,15,4,6,5,14,6,12,14,10,14,17,8,4,8,15,10,8,12,3,3,12,11,11,9,10,9,9,8,4,12,13,10,17,13,6,14,11,14,18,18,10,9,8,13,10,6,8,5,16,10,10,7,10,12,15,18,12,4,15,15,13,16,14,11,13,15,9,8,11,6,2,10,12,14,9,10,9,8,12,8,10,5,16,10,17,10,16,13,11,3,2,16,13,8,14,14,7,9,12,8,14,12,7,12,12,6,14,9,12,10,5,12,7,10,6,5,6,9,9,8,10,15,9,5,12,19,10,13,11,6,13,8,10,14,10,10,11,9,7,7,12,14,13,13,11,5,16,9,12,10,10,7,14,9,8,10,11,15,10,3,10,8,6,6,15,6,6,9,13,10,9,14,12,8,5,9,15,11,11,11,4,7,9,15,12,13,14,11,13,13,4,12,6,15,12,9,12,6,10,6,9,9,16,13,5,10,14,11,10,12,9,11,3,15,10,9,10,13,11,11,10,9,10,18,12,12,9,13,14,7,9,7,10,9,12,15,2,5,8,11,12,12,9,14,9,10,13,9,6,12,10,11,10,14,17,11,4,11,12,10,9,17,12,9,8,15,6,13,12,11,6,10,9,9,12,16,6,10,8,10,10,13,10,2,4,11,12,14,6,8,10,11,4,11,11,9,3,13,3,6,11,9,13,10,11,13,8,10,14,12,16,11,7,8,12,5,6,11,5,12,14,10,15,9,10,3,9,10,14,8,9,8,16,4,15,7,17,9,6,17,8,13,11,13,5,11,4,10,15,9,10,4,8,13,8,10,13,15,10,12,11,4,12,10,10,10,13,12,9,17,15,9,15,6,6,8,13,10,6,6,5,11,17,6,6,9,12,12,10,11,11,6,11,12,11,9,5,4,12,11,12,10,5,15,10,10,17,5,11,6,5,11,9,13,12,8,5,13,10,18,14,12,11,9,11,5,16,18,15,10,8,10,15,7,13,15,16,14,11,10,12,7,14,6,5,15,10,10,16,6,11,19,11,6,10,4,9,9,13,13,14,9,9,13,16,10,3,2,11,13,6,11,10,11,2,12,13,4,10,13,16,14,18,9,6,7,9,14,11,5,10,6,6,6,4,16,11,5,6,11,9,15,9,4,16,10,11,12,13,14,8,6,9,4,14,7,8,12,8,12,11,11,9,10,17,10,14,15,11,9,16,7,13,13,12,14,12,13,10,14,8,4,15,11,14,9,11,7,9,6,16,11,12,9,5,10,9,9,2,8,6,16,10,11,14,9,7,8,13,10,5,17,13,12,14,7,11,6,19,12,9,11,12,11,8,14,15,15,9,17,13,6,8,13,2,10,8,11,15,16,5,7,10,6,13,13,14,4,6,11,16,10,14,7,10,16,8,11,13,12,4,9,16,11,16,8,12,11,11,9,9,6,8,8,12,10,14,16,11,14,14,8,8,5,9,5,12,13,14,16,6,13,12,14,14,14,11,18,9,13,15,12,15,17,14,11,11,16,10,6,13,13,9,9,13,17,11,11,12,8,10,16,5,9,8,14,14,13,3,14,4,6,8,13,14,6,15,5,9,14,4,14,12,10,7,14,4,6,11,12,12,14,14,6,3,6,2,11,13,11,11,19,9,10,16,5,13,11,12,13,11,14,9,12,12,6,15,10,8,14,11,11,11,8,5,17,9,3,12,5,13,16,9,17,4,14,5,14,10,10,14,5,10,11,15,16,5,12,10,9,13,9,10,9,15,6,6,8,13,14,9,14,17,12,4,14,6,17,4,11,15,11,14,11,16,9,12,15,11,14,10,11,5,9,11,9,8,8,14,10,10,4,10,11,10,8,11,11,5,9,13,12,12,10,11,13,13,11,11,7,8,12,4,15,10,12,9,15,10,13,13,13,12,11,15,16,6,8,9,12,11,11,9,9,6,10,15,6,12,5,5,6,14,4,10,10,17,7,14,17,9,15,13,11,9,12,6,8,16,5,12,10,5,10,8,4,11,11,8,11,11,11,14,10,6,11,14,6,9,17,12,12,12,16,8,17,9,4,7,9,11,6,7,5,14,7,10,6,13,16,12,4,12,9,10,13,15,2,15,13,14,6,14,6,14,5,10,5,14,11,7,12,9,11,14,10,9,15,6,9,16,10,6,12,9,15,15,11,10,5,6,9,15,5,5,11,17,15,13,4,11,11,11,16,8,9,9,17,13,14,15,10,4,8,11,9,14,20,13,11,14,11,9,13,9,13,10,12,10,14,15,2,5,14,12,11,15,10,11,4,10,18,17,15,12,15,14,6,8,5,3,8,6,12,15,2,13,4,14,10,9,10,17,4,6,9,10,10,14,12,9,10,12,13,9,12,9,13,16,6,6,5,11,13,18,8,5,10,12,5,11,6,4,19,11,17,18,10,10,11,13,10,5,5,16,15,6,14,11,9,6,6,10,13,12,10,9,10,12,13,11,13,6,16,15,16,14,5,10,11,8,7,16,14,12,14,16,14,15,13,9,6,6,14,4,17,6,9,15,10,6,9,17,1,15,12,14,10,11,8,15,9,9,8,14,9,9,6,14,12,6,13,12,11,14,12,10,6,10,6,8,10,16,12,9,12,11,10,12,10,12,11,14,5,12,9,11,11,6,17,6,4,14,12,7,9,6,10,5,16,2,13,4,9,11,11,8,13,12,11,13,11,13,10,8,14,11,12,10,9,13,17,12,8,3,4,6,6,14,10,3,12,7,8,9,4,6,16,12,6,14,5,11,13,15,9,12,9,3,16,9,9,5,4,13,15,13,8,12,12,8,17,9,9,12,10,12,14,13,6,10,13,13,12,14,16,8,5,15,12,12,10,9,15,10,6,11,8,13,6,15,9,3,10,5,14,13,5,13,4,14,11,17,11,15,10,10,15,10,16,15,2,14,11,13,6,12,12,11,4,16,18,9,9,5,12,9,14,4,5,12,12,6,8,10,9,13,6,15,7,15,12,7,14,10,14,10,4,11,10,15,11,16,16,10,9,16,10,13,11,11,5,8,11,14,11,6,9,8,12,11,11,10,17,3,9,5,13,11,9,10,10,14,6,11,9,6,15,12,10,8,5,16,13,10,14,10,6,13,8,8,17,12,10,15,16,13,11,3,14,13,14,12,11,9,11,9,6,5,12,15,9,12,15,5,10,15,11,6,14,9,5,6,13,7,10,8,16,15,12,17,6,10,11,12,8,13,11,5,10,9,9,14,8,13,16,12,8,12,10,15,13,8,6,13,11,12,16,5,11,13,14,5,9,7,13,8,11,12,6,9,14,8,16,10,12,18,8,8,11,11,10,6,8,10,8,15,19,10,3,12,5,11,9,10,10,15,11,15,8,15,13,9,8,6,10,7,10,10,8,12,11,11,8,9,15,15,17,9,9,6,5,9,9,5,13,6,13,4,11,18,10,15,4,6,9,10,9,3,10,14,11,13,16,5,9,16,14,6,10,13,10,12,4,4,8,14,11,14,16,15,13,8,10,11,9,14,11,12,12,14,10,5,16,18,2,15,13,15,9,8,14,2,15,13,5,10,10,10,12,8,9,15,12,8,13,13,5,3,13,14,4,12,11,14,12,14,13,10,6,12,10,13,12,3,5,5,9,11,17,9,9,2,10,6,16,6,9,4,11,6,9,11,13,15,9,15,14,14,3,6,7,11,19,12,12,6,11,11,11,7,14,6,9,9,9,12,10,13,1,14,13,11,8,9,11,5,13,18,5,11,9,11,11,9,10,17,8,6,11,6,12,6,5,14,9,6,4,10,10,15,12,14,11,12,6,8,15,13,4,17,14,11,5,12,9,10,6,4,4,3,14,11,4,14,5,17,5,8,9,10,10,14,14,14,8,10,6,16,10,10,13,3,4,10,5,7,16,10,10,8,9,11,9,6,6,11,3,2,5,13,2,4,15,14,11,10,11,11,9,15,2,12,14,11,1,10,10,15,12,11,13,15,13,15,11,16,17,5,10,9,16,8,13,12,12,11,3,13,14,8,10,10,10,8,10,15,13,15,8,9,11,11,11,10,13,13,6,17,10,6,13,12,10,19,14,15,14,6,8,7,11,14,10,13,10,10,10,10,14,6,4,12,11,13,10,11,10,14,13,4,4,6,4,13,8,9,14,15,9,8,6,9,12,15,11,10,15,12,19,9,6,9,14,11,11,6,7,7,10,13,6,5,10,12,15,14,9,6,8,14,11,14,17,11,17,5,11,17,15,14,5,10,5,6,13,10,16,6,15,6,12,8,8,12,15,13,6,4,12,8,4,13,9,9,14,11,13,4,11,8,13,13,11,5,13,14,9,16,6,5,14,15,9,14,10,13,6,17,8,8,17,16,14,14,8,14,12,14,14,13,12,8,12,11,6,11,11,11,10,13,10,15,8,8,9,13,10,15,11,9,14,3,2,5,10,17,14,4,6,8,5,9,7,6,13,11,4,11,15,3,13,10,14,9,8,9,5,5,7,13,15,8,14,10,6,12,14,6,6,7,3,14,8,9,12,16,13,12,4,12,17,9,9,16,12,14,11,12,10,12,17,7,12,12,7,14,13,7,18,17,14,13,18,7,12,12,12,7,9,9,14,8,10,13,10,15,10,7,11,11,17,15,2,13,12,13,6,7,12,17,12,13,6,13,10,15,11,17,11,15,14,10,13,15,13,8,14,10,12,12,16,13,18,4,13,5,15,10,9,9,8,10,10,14,9,8,6,11,9,11,9,10,10,11,1,15,3,6,16,16,14,13,9,13,15,17,9,6,12,13,12,3,9,5,9,9,12,15,3,6,15,11,6,2,5,16,3,12,11,5,14,15,10,16,3,6,8,11,12,9,9,5,12,11,7,12,7,12,14,12,17,10,14,11,15,10,6,5,9,5,10,8,12,13,12,13,13,10,11,13,9,16,6,4,13,10,15,13,11,14,4,11,18,12,10,16,9,11,12,14,7,17,11,12,11,7,14,5,13,10,9,8,14,17,5,11,9,2,15,10,6,10,16,9,11,11,12,12,8,9,10,4,6,15,16,14,8,5,16,6,8,16,9,12,9,3,18,12,10,11,5,12,8,9,17,8,13,12,4,17,12,12,10,16,4,5,13,8,5,9,13,8,13,10,13,4,10,11,10,4,16,14,5,11,6,17,12,5,6,13,10,11,15,12,12,10,13,8,13,13,13,16,11,8,9,13,12,11,4,12,11,11,12,8,10,10,10,6,4,16,13,16,9,13,11,16,11,12,14,9,9,16,14,6,8,11,5,11,12,12,10,10,12,12,10,2,12,9,12,8,12,6,6,3,13,15,11,10,12,11,7,8,10,9,12,14,8,8,10,12,13,9,13,10,12,13,12,11,11,10,15,3,6,9,9,9,12,11,18,12,5,16,13,16,14,4,12,10,13,12,6,11,11,11,13,7,9,8,13,7,11,9,17,5,12,10,12,9,15,7,2,14,12,11,11,14,13,13,14,11,9,11,13,18,4,10,10,10,5,12,11,9,11,11,10,12,8,4,8,9,10,14,16,18,15,9,11,3,15,8,14,9,11,12,13,15,2,12,3,9,2,10,4,9,11,10,13,10,10,5,9,5,12,11,12,14,13,15,17,13,12,6,10,15,16,17,13,5,7,13,9,14,14,9,17,13,13,11,5,4,11,5,12,3,10,6,4,12,10,9,12,8,13,5,5,9,14,12,16,9,10,10,12,9,9,8,16,13,17,10,3,17,15,10,10,11,11,13,15,11,10,9,6,9,6,8,12,18,12,11,8,16,12,12,11,12,12,7,12,5,12,13,15,11,10,9,4,13,11,15,12,4,9,16,4,13,4,9,8,4,10,8,16,13,7,11,4,11,13,2,17,5,11,11,6,15,13,12,15,6,4,8,13,10,16,12,9,14,4,15,9,12,12,10,4,6,13,5,9,4,8,6,11,11,6,12,10,6,15,10,10,10,5,8,12,9,5,14,11,10,10,14,13,15,9,12,8,12,16,2,10,14,4,10,10,6,10,11,4,4,13,11,17,7,12,11,13,11,11,8,10,3,14,7,8,11,9,5,16,8,14,6,9,11,10,9,11,12,4,13,12,10,6,11,13,6,5,10,11,10,4,11,16,9,9,7,10,4,10,10,11,15,6,8,12,5,13,11,11,12,9,13,19,5,11,8,16,13,17,5,10,6,4,11,10,11,11,15,11,6,10,6,14,12,7,12,12,10,10,5,10,14,12,10,10,9,12,5,6,16,9,13,13,13,10,14,14,13,9,11,11,7,13,10,11,12,12,15,8,11,13,10,9,13,9,14,17,7,3,1,14,6,11,10,6,13,3,10,5,9,9,6,12,6,3,9,14,6,3,8,10,6,17,8,14,14,9,11,9,8,7,16,11,14,10,13,14,14,12,7,6,11,4,12,10,14,18,2,6,12,9,13,10,15,5,17,12,10,10,10,4,4,19,5,13,6,10,11,10,9,14,11,6,11,10,9,11,12,9,19,10,10,11,10,9,17,13,14,12,4,10,10,9,13,12,11,8,4,11,4,11,12,13,13,8,11,13,10,5,15,11,6,9,9,6,9,16,12,12,12,6,15,11,16,15,5,7,8,11,15,13,10,6,12,10,15,10,17,16,14,12,5,15,13,8,2,11,10,2,5,13,10,3,10,10,13,5,11,19,12,15,10,5,4,9,3,9,4,11,10,9,3,5,7,10,11,5,3,9,5,15,10,14,11,5,14,15,4,14,2,13,11,11,9,15,6,9,12,11,10,3,16,12,5,9,8,11,3,12,11,12,11,18,4,4,11,4,10,6,10,10,6,13,13,4,9,16,11,13,4,9,13,10,5,5,3,18,16,12,14,6,18,13,17,12,10,14,6,15,16,11,13,9,3,10,5,11,7,16,14,14,9,18,13,11,10,13,13,6,16,11,15,12,12,8,12,9,6,5,6,9,4,10,12,9,13,15,9,5,14,6,15,16,10,12,13,12,6,6,10,9,9,8,11,5,9,11,6,6,6,14,15,6,12,15,6,16,8,7,8,11,9,14,10,8,6,15,7,13,10,13,6,13,10,6,11,3,6,12,6,6,6,11,16,9,17,14,12,5,17,13,5,6,10,13,12,13,11,14,9,6,13,11,4,12,13,9,19,11,5,11,10,8,14,10,12,13,6,6,11,6,15,13,11,7,9,11,14,11,13,6,4,5,3,10,9,12,4,5,11,10,5,11,6,8,13,5,4,11,10,4,5,11,12,13,11,10,6,9,9,7,4,15,13,11,6,12,6,16,7,7,11,13,17,8,6,9,5,9,9,9,6,13,12,5,6,9,15,2,16,3,15,7,10,12,2,17,4,8,6,12,13,5,12,19,14,13,3,4,12,13,16,6,11,11,4,13,9,4,11,13,8,8,5,6,9,12,14,15,11,12,12,4,8,11,11,9,3,14,12,8,10,10,8,11,6,3,3,12,9,10,11,13,13,5,4,10,16,8,4,13,13,11,10,13,9,9,5,9,14,12,1,3,11,14,9,14,14,14,7,6,16,13,13,6,10,12,14,9,10,17,9,5,11,8,15,10,12,14,6,7,14,12,16,10,8,14,11,11,11,16,9,16,13,12,10,5,15,13,6,13,11,14,11,13,6,3,6,9,14,17,8,9,11,12,13,14,11,13,8,6,17,13,13,5,6,11,12,12,14,13,10,3,12,14,16,13,14,11,13,13,5,5,8,9,12,17,12,17,9,13,12,13,13,12,6,8,12,13,4,11,11,13,2,13,12,5,12,12,15,10,12,13,11,7,11,12,6,8,14,10,9,15,10,14,14,5,9,8,10,7,5,14,6,10,12,5,14,8,15,18,12,5,12,12,16,11,5,12,10,10,9,14,15,11,12,8,4,5,8,4,12,14,10,6,12,5,6,4,10,4,9,5,9,11,13,8,11,8,4,6,6,9,7,9,11,4,8,6,15,5,4,9,6,11,6,8,8,8,9,14,14,4,16,3,14,7,12,12,14,6,4,8,6,5,10,11,16,3,5,4,6,5,4,12,5,16,6,4,6,9,13,3,12,14,9,14,8,12,8,3,10,6,16,9,14,7,16,13,6,9,10,6,11,10,14,11,9,5,6,6,12,16,9,4,16,11,10,15,12,12,15,15,9,12,16,16,8,8,7,9,11,15,12,5,10,14,12,14,6,10,3,12,11,17,17,3,14,11,8,10,19,3,11,15,15,6,11,8,6,6,6,6,9,10,10,8,9,11,14,6,11,6,13,15,8,12,12,10,14,7,10,6,10,11,8,11,13,10,12,5,8,8,13,8,12,9,15,12,14,14,3,9,11,10,6,5,16,12,9,14,16,9,9,15,9,6,5,6,9,15,10,4,15,12,5,6,10,13,11,5,8,7,14,10,6,11,12,10,15,11,6,3,5,10,6,13,16,12,12,13,10,12,18,5,13,8,4,13,9,6,8,14,9,8,14,9,6,9,12,10,6,18,10,8,14,8,5,15,6,5,7,14,5,8,15,12,4,5,12,13,15,4,13,6,10,10,14,6,16,2,17,9,11,9,8,8,14,12,8,13,10,13,16,3,13,14,5,6,11,4,9,13,7,13,10,13,16,12,6,4,14,17,15,12,13,16,10,17,17,5,14,10,12,13,11,6,10,10,6,2,8,10,16,15,6,10,16,14,16,12,8,10,13,7,13,9,14,11,9,10,3,13,9,14,10,12,15,9,9,10,11,15,13,11,12,12,19,2,10,13,15,13,6,16,17,4,6,11,8,12,7,11,6,13,16,11,12,3,8,6,13,9,12,9,14,11,6,9,13,11,10,4,11,18,3,16,15,8,9,10,6,15,12,13,6,15,13,10,10,3,10,10,5,8,11,14,14,13,4,6,15,4,9,6,15,2,6,11,12,4,11,5,11,7,5,11,7,6,4,10,11,11,12,13,6,12,12,9,14,16,9,11,8,8,4,6,4,15,5,13,9,9,9,9,6,15,4,11,13,9,14,12,9,6,5,11,9,5,10,5,14,5,15,10,9,9,11,17,10,14,6,4,3,4,11,6,12,4,15,5,11,10,13,10,10,12,13,12,16,18,2,4,5,16,11,12,8,6,3,6,14,6,6,5,6,9,16,13,8,12,8,13,11,8,14,9,12,10,11,10,16,8,10,14,8,15,14,8,6,9,17,8,12,6,11,16,12,13,5,13,13,17,9,3,11,9,5,6,17,10,1,4,17,10,6,9,9,13,16,12,4,15,8,10,15,13,6,10,7,13,13,12,16,8,15,13,7,6,10,6,9,5,11,9,2,5,6,9,13,15,5,3,10,11,14,10,13,14,17,13,9,11,5,4,10,5,9,6,12,11,14,16,10,11,11,13,10,10,8,2,8,9,14,13,11,6,11,10,18,5,10,15,13,14,12,14,8,11,14,10,15,11,3,8,12,14,5,5,14,12,3,16,8,7,16,11,8,7,13,6,14,15,17,14,12,13,11,16,10,12,8,10,15,11,9,8,13,5,12,9,9,10,12,6,14,11,6,16,8,9,6,10,7,12,4,5,13,10,3,12,12,9,9,15,6,11,5,7,14,5,14,6,10,11,5,12,7,10,10,6,10,16,13,13,5,16,13,7,8,14,9,14,11,6,5,8,3,13,9,14,8,13,11,11,17,5,7,14,9,9,16,18,15,12,13,15,3,10,12,6,11,11,9,9,10,10,11,10,9,11,9,14,14,8,10,6,17,6,6,2,11,8,11,9,14,10,9,10,13,4,8,17,10,13,9,13,6,18,14,9,6,16,13,17,16,8,8,6,10,6,17,12,9,9,11,7,15,10,15,12,12,12,9,9,13,5,5,3,5,12,12,5,6,6,12,12,3,5,6,9,11,9,11,10,12,11,10,15,11,9,15,7,11,14,15,17,6,9,6,12,10,9,14,18,9,11,11,9,11,5,9,12,10,7,6,4,13,8,16,14,10,17,11,15,9,13,17,10,12,11,13,9,8,17,12,10,16,4,12,13,16,15,12,10,11,10,12,13,7,5,14,9,13,9,11,13,5,17,11,13,8,7,15,11,13,11,13,8,15,7,12,10,10,16,12,9,14,4,6,14,5,9,15,17,9,19,8,9,11,5,6,9,11,15,11,7,10,10,10,5,15,6,10,6,9,10,10,17,9,6,6,12,3,5,12,12,13,10,8,11,10,7,9,13,16,12,10,10,6,9,15,5,13,16,15,9,5,12,9,6,20,5,12,10,13,11,11,12,13,10,10,8,12,14,8,5,10,13,13,15,13,14,16,9,11,12,10,12,3,10,7,17,15,13,10,15,5,15,11,11,6,12,14,7,12,11,11,3,16,5,11,4,15,13,11,5,4,16,6,9,15,16,9,4,11,6,9,4,13,5,16,13,4,11,6,17,15,9,10,5,13,10,12,10,5,8,10,8,11,6,12,3,11,14,3,14,12,10,13,7,10,9,14,14,13,10,17,5,9,7,10,15,9,10,8,10,9,7,12,13,10,7,11,10,14,9,15,5,15,18,13,19,13,11,12,12,12,12,2,5,9,4,7,11,10,10,17,3,15,11,13,5,15,4,2,7,10,14,9,15,9,6,11,6,11,16,14,8,3,10,11,14,13,8,10,13,5,13,14,12,14,10,12,8,12,18,4,9,6,14,9,11,11,9,12,8,8,11,11,5,13,6,2,4,14,6,9,9,8,12,14,8,8,12,6,12,2,16,11,10,9,13,12,9,18,7,4,12,12,11,10,14,16,6,17,18,10,10,6,3,11,14,15,6,10,14,10,14,8,10,10,12,11,9,16,4,11,15,16,10,12,8,11,12,10,14,9,12,9,7,9,13,14,12,3,13,4,11,12,14,11,9,13,12,8,11,12,10,11,10,3,6,14,6,6,9,11,6,7,11,10,8,15,14,13,12,9,2,9,9,10,14,9,2,10,9,8,8,7,9,12,11,9,9,17,5,13,13,13,8,8,9,10,2,14,10,10,4,4,15,11,13,10,6,10,13,11,11,8,6,10,11,8,4,14,2,13,6,10,4,14,12,12,6,12,10,9,10,5,14,15,10,6,6,9,13,16,17,6,11,8,3,3,11,6,10,12,13,11,5,8,12,10,11,12,10,12,6,15,13,5,5,6,8,4,10,5,5,10,6,18,9,6,12,15,13,12,13,11,20,6,15,9,9,15,10,5,4,16,14,13,9,10,8,8,5,4,9,16,11,8,8,10,8,12,12,9,14,6,6,14,14,10,9,11,3,10,10,12,12,11,9,12,11,14,13,7,12,15,7,4,10,11,6,8,4,11,15,14,9,13,16,12,13,12,11,6,12,9,9,11,9,4,10,12,11,11,6,8,5,10,14,7,8,6,3,9,6,10,8,6,12,11,10,7,6,17,6,9,10,6,5,9,9,15,6,12,12,15,11,10,12,14,12,13,11,15,13,8,15,10,16,9,11,10,7,15,4,3,8,5,10,14,12,4,12,16,13,5,6,13,13,11,14,2,18,8,4,5,5,5,4,9,3,4,10,6,11,9,6,11,6,9,10,13,14,3,12,10,6,6,10,6,6,15,11,5,10,3,7,12,6,10,16,6,5,9,10,10,14,3,9,15,5,11,5,11,10,11,11,6,12,4,9,4,12,12,15,6,16,12,12,16,4,9,9,10,12,9,9,11,5,5,10,15,13,12,6,3,12,8,10,9,14,11,9,12,12,8,3,13,9,11,7,12,16,17,13,9,10,4,12,12,13,10,8,5,16,15,9,14,7,11,10,11,10,12,9,6,7,6,12,5,15,13,12,11,8,14,14,11,16,8,12,6,15,4,1,7,10,8,9,14,14,8,9,5,6,12,11,12,4,14,16,16,11,16,8,9,6,11,14,16,16,6,3,5,14,11,9,10,13,9,9,12,2,13,6,11,9,10,15,13,13,14,10,8,6,10,8,10,13,6,5,12,11,5,9,8,12,10,5,12,14,9,13,13,12,7,14,3,4,10,9,16,9,11,10,4,15,17,14,6,12,11,6,12,7,5,9,4,6,10,13,12,16,9,8,10,8,8,11,11,4,13,15,10,9,5,12,12,12,8,10,2,9,6,18,18,6,16,13,10,17,8,6,6,9,11,11,10,6,13,9,5,11,11,6,4,12,10,2,13,9,11,14,3,9,10,11,12,9,12,9,9,13,10,15,8,13,7,12,11,2,12,5,13,11,12,6,12,12,11,9,4,11,12,4,12,11,17,11,15,10,6,9,6,14,13,12,6,6,10,12,9,9,8,9,11,11,14,12,5,14,9,16,6,10,11,12,6,6,2,9,8,10,10,12,12,16,6,10,5,8,11,11,6,7,2,16,12,12,14,15,12,14,18,14,8,11,14,8,5,9,6,15,9,4,10,6,6,10,7,6,10,6,19,9,8,3,14,9,6,6,10,10,14,10,9,8,12,15,14,9,11,14,12,6,7,19,12,11,7,17,12,9,9,13,15,9,12,9,6,6,10,9,6,13,11,4,13,5,15,10,11,8,8,4,12,14,9,18,9,12,11,4,6,12,4,13,13,8,12,7,15,13,14,10,14,8,15,14,6,14,6,15,14,9,13,11,13,16,10,12,9,12,15,5,10,4,14,9,14,12,5,9,10,13,11,9,10,6,2,11,9,6,11,6,11,10,11,8,1,12,15,8,13,16,10,13,9,10,6,5,10,10,10,6,5,10,12,12,8,11,12,17,5,11,13,12,6,12,10,12,8,15,12,10,2,10,6,13,6,15,13,9,9,14,4,10,12,5,5,12,14,11,5,11,6,8,9,16,10,8,4,16,17,5,11,8,9,9,10,8,5,14,11,16,3,11,14,9,9,6,2,12,17,12,5,8,3,13,3,15,6,15,15,11,10,10,11,10,6,12,5,12,3,11,11,12,12,5,11,14,5,9,6,15,5,6,14,5,11,12,9,8,6,6,10,4,9,9,2,13,13,11,13,10,4,9,7,5,11,15,10,8,11,12,13,7,4,6,10,11,8,10,10,6,11,13,8,16,13,12,16,12,13,12,8,9,18,10,8,6,17,11,14,8,7,11,6,11,9,9,14,5,11,13,6,13,11,14,11,1,5,3,9,2,6,11,4,9,6,6,9,15,11,5,6,14,12,12,2,11,12,4,2,6,15,11,6,3,13,9,11,5,13,10,3,5,14,13,10,12,9,9,5,13,16,5,11,10,13,4,10,12,5,5,6,9,2,9,6,11,11,10,10,16,12,10,5,20,11,2,14,6,10,3,15,14,10,17,6,17,14,4,7,14,5,8,10,10,8,9,5,12,12,4,8,9,13,10,9,9,3,16,2,5,11,12,13,10,10,5,13,12,12,10,6,10,17,7,10,14,13,13,10,3,3,11,2,9,10,12,10,12,5,13,4,6,2,9,12,14,11,16,5,13,5,6,6,6,12,9,15,8,10,12,12,5,12,9,10,2,14,13,16,12,3,15,14,13,4,2,11,16,12,8,9,15,9,10,13,6,8,9,5,2,11,6,6,9,8,16,10,12,4,6,10,13,10,10,8,6,7,13,5,8,8,14,6,12,14,14,4,11,12,11,11,3,17,13,2,8,9,11,5,11,10,4,6,12,3,15,11,12,11,9,13,3,10,9,6,5,12,8,6,11,9,11,18,1,11,12,9,4,8,6,14,13,12,15,10,5,11,6,3,2,6,4,4,5,12,12,8,6,4,5,8,6,11,11,12,11,12,11,3,6,6,9,14,5,13,8,12,6,11,15,6,11,5,10,16,17,14,17,11,14,17,6,14,8,13,12,12,14,12,13,5,8,14,7,12,6,9,14,10,12,6,6,9,15,5,13,12,12,8,9,8,14,17,8,5,4,10,13,7,8,6,11,13,10,7,9,9,10,14,4,12,11,14,12,14,9,8,3,11,12,5,9,12,11,9,5,6,13,13,4,6,8,12,15,13,9,11,4,11,7,4,17,10,5,13,10,15,12,4,8,11,9,19,5,12,10,9,5,10,14,5,12,10,5,12,6,14,5,8,13,12,5,12,9,6,10,9,6,6,14,11,14,14,8,9,11,11,12,14,4,4,6,15,14,11,13,6,14,12,3,8,14,15,5,10,4,12,6,5,15,11,12,10,11,6,11,5,5,14,11,5,1,9,6,4,10,15,9,9,12,4,11,11,9,6,15,13,11,8,9,4,12,6,3,16,12,5,13,11,8,14,14,13,14,6,14,8,14,10,13,15,16,18,13,8,10,13,11,4,5,6,13,3,12,7,15,8,4,4,6,9,6,11,10,11,11,8,8,9,10,6,3,14,14,9,10,11,15,12,5,9,11,4,6,9,11,5,16,15,14,16,4,9,5,9,5,4,5,10,15,9,12,6,4,5,8,11,5,12,8,4,4,8,9,6,9,9,11,10,9,14,14,12,12,12,13,10,12,12,13,5,11,6,14,9,10,12,9,9,5,10,13,5,12,11,12,7,11,3,19,13,12,19,6,7,5,3,16,16,15,12,13,8,5,10,13,10,12,12,8,4,6,10,5,10,13,3,9,14,2,10,2,6,2,9,8,12,4,10,4,11,9,7,8,10,11,10,8,10,8,5,14,10,12,13,11,10,11,9,5,14,12,14,14,4,10,6,9,15,8,6,9,5,14,3,9,11,13,5,14,10,14,12,14,4,19,8,13,11,17,3,15,18,15,6,9,4,9,6,1,3,9,14,4,16,5,3,2,15,4,10,1,12,15,8,11,15,10,8,4,12,6,11,14,14,11,15,4,8,6,10,3,4,13,13,12,11,10,12,5,10,6,11,9,12,9,12,14,11,13,4,5,13,10,6,10,19,12,10,14,18,15,9,17,15,6,8,9,10,17,10,11,4,6,14,10,2,6,9,4,12,14,9,13,13,11,13,10,16,12,4,12,4,6,4,5,8,15,6,9,9,10,6,9,9,15,6,9,9,14,4,5,18,12,14,14,10,5,6,11,4,12,16,14,8,5,11,5,6,9,8,13,14,5,14,9,10,16,15,10,3,11,12,10,15,13,5,6,10,6,4,10,8,4,10,11,13,4,6,3,9,9,14,10,12,11,9,12,13,6,7,12,14,4,13,11,9,6,11,9,11,11,13,3,2,8,11,9,7,13,3,19,6,15,10,11,9,10,6,14,10,12,12,8,9,10,11,8,4,13,13,14,11,12,10,13,11,13,12,3,15,5,15,12,9,8,13,6,11,11,13,13,8,5,10,12,9,11,9,3,9,10,15,11,6,9,9,6,5,10,13,15,15,10,6,5,7,11,11,5,12,19,12,13,15,11,15,11,5,13,9,5,10,12,9,10,5,8,9,10,11,6,8,11,11,5,3,3,13,14,12,4,11,13,10,10,10,13,5,14,5,10,3,12,3,4,10,11,8,12,15,5,11,16,11,6,13,8,5,9,6,11,15,9,11,5,9,12,5,12,3,13,11,15,7,12,12,10,2,9,12,14,6,6,12,5,3,10,15,10,8,11,6,14,6,11,15,14,6,9,14,16,6,13,9,12,5,14,12,9,2,6,14,15,5,5,12,10,10,7,12,5,9,12,6,10,13,11,6,11,11,10,4,1,5,6,9,16,4,9,20,12,9,17,6,12,8,4,5,8,3,3,10,16,5,9,12,6,11,10,9,16,4,5,9,12,3,11,16,10,7,5,5,11,4,5,11,12,9,9,6,15,14,13,4,5,9,13,6,12,9,12,8,5,6,13,12,12,12,8,8,13,8,6,11,3,3,10,5,5,5,10,12,9,11,10,13,8,13,8,6,8,14,9,5,6,11,5,10,6,11,8,11,9,9,8,10,11,14,12,9,11,2,5,12,12,5,6,11,11,9,10,5,12,13,9,5,6,15,9,12,8,6,12,8,5,11,6,4,6,15,10,2,13,16,3,17,3,5,12,11,12,11,10,9,10,6,5,3,6,10,11,4,14,5,12,5,10,9,18,4,12,9,3,11,14,7,11,14,9,10,3,6,5,10,11,8,13,9,10,9,11,7,5,6,12,10,10,9,10,15,6,10,11,10,7,11,7,8,4,9,11,5,13,8,12,12,6,11,14,8,13,4,12,5,12,11,11,4,5,4,11,4,8,6,12,2,10,10,6,15,9,11,7,12,18,11,10,7,12,3,2,9,6,5,5,2,8,12,3,6,11,6,10,14,1,7,6,6,9,11,10,3,6,11,8,3,10,9,5,16,15,12,5,12,12,18,11,5,3,8,10,14,9,11,3,9,12,9,10,15,15,5,4,14,13,7,11,10,18,9,11,12,13,13,12,14,5,7,14,3,13,7,5,4,11,13,11,10,5,13,5,9,12,16,9,14,10,3,3,2,15,8,10,4,7,5,10,12,3,17,5,4,9,16,14,4,16,9,10,14,10,11,9,6,9,2,13,11,9,10,5,4,12,6,6,10,8,2,10,13,14,8,12,16,5,6,8,10,6,4,11,4,10,8,13,5,8,14,15,14,5,3,6,8,5,5,5,6,12,9,6,10,6,5,6,9,14,12,14,6,5,5,11,14,9,10,10,13,17,7,4,10,6,10,11,13,9,13,13,6,2,10,15,8,5,9,14,12,13,10,11,4,10,7,9,5,6,14,14,9,13,4,7,12,6,11,10,12,4,12,4,14,13,7,9,4,3,12,9,8,14,6,17,7,11,4,14,17,10,4,4,14,10,14,14,11,4,10,4,4,9,16,6,12,14,11,2,6,4,9,11,4,12,12,6,11,14,6,18,4,11,15,4,14,10,10,14,4,9,11,15,6,4,11,10,9,11,17,5,9,5,13,8,11,6,10,3,2,4,12,5,10,5,5,3,12,12,6,9,4,5,6,10,6,5,15,9,9,11,13,3,6,11,4,12,16,8,12,11,6,12,6,6,6,3,6,11,2,15,11,3,16,6,10,10,16,12,5,6,5,2,13,13,4,10,11,10,6,10,6,6,11,11,2,11,8,6,6,13,12,15,11,9,5,4,12,4,17,15,3,7,8,10,9,9,4,9,13,3,9,13,8,11,9,6,9,10,5,7,12,8,6,7,6,8,5,8,12,4,9,7,11,12,7,9,11,10,14,15,11,9,9,9,11,15,8,12,13,14,16,12,11,13,5,6,4,10,11,11,15,8,3,15,5,6,5,6,12,6,3,10,9,9,11,9,3,15,10,3,13,13,5,4,5,12,17,10,13,15,8,11,10,13,4,8,9,12,8,5,14,5,14,10,13,11,14,5,7,14,13,8,10,13,9,4,10,15,6,17,5,6,3,6,13,4,11,10,9,11,10,9,6,12,2,2,7,1,11,8,15,13,13,13,12,4,13,12,6,14,11,10,6,4,13,11,10,1,9,10,10,11,11,4,4,18,8,5,15,6,10,9,13,12,10,11,13,14,10,7,10,1,12,6,18,11,8,12,8,13,4,8,13,4,11,6,6,12,12,4,11,6,12,6,4,13,11,12,8,13,12,15,17,16,13,9,5,12,10,7,1,6,12,11,14,12,12,5,8,8,6,16,11,4,8,14,11,2,10,15,13,10,4,6,13,13,10,10,10,10,17,6,2,13,7,9,10,4,3,6,9,14,11,6,12,10,13,2,13,11,11,16,12,9,8,7,9,9,10,9,5,4,10,6,11,12,11,3,13,6,4,13,8,9,10,11,10,10,13,6,15,15,6,4,11,9,9,10,13,11,13,10,9,12,17,11,8,10,17,3,8,14,4,12,8,4,5,12,11,9,9,6,5,2,14,6,10,11,13,5,10,6,4,8,8,14,4,3,4,4,8,8,11,3,5,9,9,9,12,14,9,7,15,11,6,15,8,4,5,6,10,6,12,15,13,12,11,2,5,6,11,4,12,11,10,12,5,13,5,10,6,16,3,5,11,11,13,12,1,13,4,6,11,11,10,10,12,4,7,15,12,3,10,15,11,13,9,13,13,11,8,6,3,5,12,2,8,11,11,10,11,3,13,13,9,17,3,14,6,6,14,12,8,9,5,13,4,6,8,10,6,8,4,10,11,10,4,9,5,18,5,9,12,10,9,11,5,10,8,6,12,8,6,6,5,14,10,13,17,10,6,12,17,11,14,8,8,6,15,9,11,9,11,6,8,12,6,12,6,3,6,4,9,7,5,5,15,19,9,10,1,5,5,6,4,11,9,11,10,4,6,6,11,5,10,12,5,5,12,13,11,5,6,3,4,9,6,10,6,11,12,8,9,16,8,5,6,17,12,16,13,13,8,4,8,15,5,6,10,7,13,12,12,5,5,13,14,8,10,12,8,12,6,15,14,10,9,2,9,11,10,3,6,2,3,15,10,8,15,11,8,2,17,3,15,6,5,2,9,11,9,9,11,6,4,6,11,11,11,10,12,10,19,9,13,2,13,4,5,10,6,15,15,3,8,11,15,9,10,8,10,4,13,9,8,5,8,12,12,12,9,5,5,6,5,12,14,6,11,5,10,6,6,9,5,12,4,2,16,7,9,8,14,5,12,5,3,16,5,6,9,10,18,8,13,8,9,12,6,9,12,14,3,5,3,11,17,9,6,10,5,10,11,11,5,10,14,12,12,5,10,13,11,5,14,1,4,5,3,13,12,12,10,4,8,10,12,7,13,12,3,6,9,6,12,13,11,9,6,4,4,11,12,6,10,11,15,12,12,11,6,4,5,9,5,13,12,8,4,11,3,6,10,12,10,5,12,13,5,6,12,6,4,6,5,8,12,9,10,3,5,8,5,1,5,13,7,14,4,8,11,9,11,4,5,6,11,16,2,10,4,4,4,3,5,14,5,13,15,9,11,12,9,9,9,10,11,4,12,3,8,10,12,11,6,12,10,12,8,5,14,4,9,12,12,13,10,9,9,8,4,5,12,4,4,4,15,13,9,11,12,8,8,14,13,18,10,9,15,10,6,8,14,13,4,8,9,3,11,11,15,11,5,8,10,10,15,8,13,8,11,4,6,9,1,6,11,5,10,10,6,13,6,6,12,6,10,1,9,6,13,18,11,3,13,11,3,10,9,18,11,4,4,13,8,6,11,5,11,10,11,8,13,6,11,10,11,4,14,14,12,11,12,10,8,5,3,9,8,6,5,11,5,6,14,5,8,6,14,3,11,10,10,3,13,8,5,15,11,9,5,5,10,11,13,6,13,10,5,3,4,14,7,5,12,14,3,13,5,10,9,10,15,10,10,8,4,3,8,6,10,7,12,6,3,4,3,8,9,8,10,18,8,10,5,6,14,12,10,10,10,6,9,6,9,2,13,13,15,6,8,10,4,6,9,12,5,6,8,4,6,4,10,9,5,16,11,10,4,16,6,3,5,6,11,3,3,11,14,16,6,8,5,7,9,6,2,17,12,5,9,11,14,11,3,14,13,5,9,3,9,4,10,5,9,6,5,4,7,10,9,14,3,5,9,14,5,6,12,10,4,5,15,6,4,14,10,8,12,16,9,12,5,10,3,16,9,14,11,12,14,4,9,4,6,14,11,5,13,10,10,18,6,12,14,5,10,6,5,12,5,8,17,4,5,12,6,5,11,15,11,13,4,4,8,6,12,5,6,12,10,11,4,5,6,11,10,14,10,15,4,8,6,13,6,12,4,5,14,13,13,11,5,6,11,9,4,6,14,3,3,13,6,4,7,10,3,10,6,13,6,12,13,8,6,6,14,4,4,2,9,8,18,12,9,5,10,6,19,12,7,9,4,10,11,4,8,10,5,7,5,11,14,5,14,12,6,15,9,11,10,9,13,14,13,14,6,12,4,14,5,13,10,11,12,4,13,5,6,5,13,15,11,7,13,5,3,8,6,7,9,5,13,12,9,12,10,6,8,8,14,5,2,9,6,5,9,5,3,14,6,13,12,12,7,8,16,10,9,12,4,3,17,6,9,11,14,11,15,4,10,4,8,8,8,11,12,6,12,6,6,6,12,1,6,6,10,8,14,14,9,13,8,3,9,9,8,8,12,6,13,16,6,5,9,8,12,4,6,14,10,7,5,5,3,10,10,13,10,6,7,17,6,15,6,6,3,14,2,14,6,11,8,14,7,2,13,4,6,3,5,13,15,4,11,16,6,3,5,9,8,4,3,6,12,4,5,11,11,2,12,7,6,10,10,3,12,2,7,14,2,12,3,11,4,5,13,4,5,6,4,4,1,10,11,4,5,13,16,8,10,4,12,4,6,13,11,5,15,6,13,18,9,10,5,12,4,6,9,13,9,7,9,9,11,11,10,13,13,4,8,1,4,3,14,12,4,14,13,5,6,6,11,16,9,5,6,9,12,12,10,14,13,2,13,14,5,4,8,8,9,5,5,4,10,2,9,12,11,4,9,12,9,10,9,3,13,2,10,6,5,4,4,4,10,6,8,4,9,6,8,16,11,16,8,10,12,10,11,10,7,4,14,4,9,6,9,16,10,11,4,4,10,15,9,10,15,8,12,13,10,12,5,3,3,5,11,4,6,10,11,6,6,4,6,18,8,12,4,10,3,16,5,5,9,3,13,11,14,8,4,11,10,15,9,5,2,13,12,15,6,10,9,5,11,6,11,6,12,13,6,4,11,3,5,6,11,5,10,9,12,7,9,3,10,9,4,9,14,8,5,5,9,12,3,6,6,11,8,14,4,3,14,3,11,9,6,2,11,6,6,12,12,6,10,6,9,8,16,6,4,3,2,9,10,7,10,5,10,3,4,10,12,13,10,14,2,12,6,17,13,5,7,5,11,12,9,11,5,2,3,10,4,8,6,2,9,12,13,13,11,10,4,11,12,9,10,6,11,2,8,6,9,11,9,4,8,7,6,6,11,9,5,15,10,6,9,12,14,9,3,8,2,6,11,5,6,6,12,10,8,9,8,9,13,2,5,13,9,8,4,3,4,5,6,6,4,10,10,11,13,9,4,6,9,13,4,13,10,13,11,6,11,15,6,7,12,9,6,8,11,9,9,10,5,14,12,9,9,4,10,4,6,5,4,12,4,12,4,11,5,12,10,3,8,5,10,10,11,6,6,13,14,10,9,4,3,13,6,9,3,15,4,10,12,4,5,10,14,8,11,12,8,9,12,10,8,7,11,16,6,13,5,11,10,3,3,15,8,11,3,11,5,10,10,9,10,13,6,11,13,3,4,17,11,8,3,12,8,6,5,6,16,8,8,11,9,6,6,3,11,2,9,4,10,3,12,7,11,13,4,15,5,5,15,8,4,7,10,12,12,9,5,4,14,2,8,7,8,3,10,12,11,7,14,13,6,12,9,9,12,13,6,10,11,6,15,5,9,12,6,12,4,9,6,6,2,9,3,11,14,11,13,11,6,12,13,6,14,12,12,12,5,6,11,12,5,3,4,2,6,4,15,7,6,8,10,11,6,5,4,11,9,12,9,13,4,10,9,10,9,10,9,8,4,10,3,6,11,5,12,12,5,13,5,9,2,14,8,5,8,12,14,6,8,2,11,12,11,10,3,5,4,3,10,13,3,6,14,3,4,10,16,11,12,8,15,6,11,10,3,9,10,7,8,6,2,5,10,9,3,10,9,8,2,5,13,4,11,16,3,3,6,6,9,6,13,14,4,3,6,11,2,2,10,15,13,15,15,5,4,5,10,11,9,2,3,16,16,10,6,5,2,16,4,14,6,2,6,5,5,10,4,4,8,11,3,3,14,12,12,7,6,5,11,8,4,10,9,13,15,3,4,3,9,4,10,6,5,5,1,11,6,8,4,10,10,4,11,10,5,4,6,4,9,12,6,3,4,11,11,12,5,13,9,15,5,5,9,11,8,5,2,11,6,6,4,3,10,9,1,3,3,9,12,4,5,8,2,10,8,11,13,10,5,10,13,6,3,12,3,7,11,10,6,13,6,8,11,10,10,6,7,17,10,6,10,6,3,10,4,6,5,5,6,12,6,6,5,11,14,11,8,11,9,8,13,8,3,9,6,11,18,13,4,5,5,8,11,3,13,8,5,12,8,8,5,3,5,8,12,5,6,13,13,5,11,12,3,12,15,2,3,9,4,10,12,5,3,5,5,8,13,13,16,12,9,13,11,11,2,12,9,8,10,13,10,12,9,13,6,4,3,5,9,12,12,10,3,4,12,14,2,13,9,5,13,7,3,11,6,8,3,8,3,10,2,3,5,10,8,8,13,4,10,10,3,9,16,3,8,5,3,10,15,12,9,11,8,9,13,11,3,4,3,4,3,13,10,9,4,11,11,3,12,6,5,11,14,9,9,11,7,14,6,11,9,4,6,11,11,9,3,11,6,16,3,6,11,11,11,6,15,11,9,13,6,12,4,4,5,10,5,3,12,3,7,5,11,6,15,6,6,3,8,6,3,9,9,4,3,6,10,9,4,6,12,12,11,9,9,4,5,6,13,10,6,6,9,10,2,2,11,4,5,13,13,4,12,3,10,5,5,6,3,6,11,1,10,2,3,3,6,5,3,6,4,11,4,11,3,13,11,14,11,5,11,13,12,6,5,5,12,10,13,8,6,6,6,11,10,6,8,4,3,13,2,10,10,10,8,6,6,5,6,5,3,17,4,6,4,11,12,6,2,13,11,15,3,13,10,3,10,6,5,6,12,6,3,3,7,6,14,5,12,8,8,8,12,4,3,4,14,14,9,4,11,9,12,13,8,1,16,10,10,10,2,9,4,10,4,5,13,10,11,12,9,13,9,8,6,4,10,11,8,11,3,6,10,3,9,10,6,8,6,4,11,2,5,5,2,6,13,3,4,9,5,10,16,6,2,10,5,4,11,2,6,10,6,13,11,8,4,6,5,4,3,13,6,4,5,8,9,9,6,4,6,10,4,10,3,6,5,6,3,18,6,10,9,9,8,5,7,9,12,3,9,4,9,3,4,12,9,4,5,12,9,3,12,11,2,13,6,6,14,7,6,14,10,3,9,6,3,9,3,9,12,10,4,8,8,5,9,7,5,5,2,5,6,1,6,6,12,6,2,10,3,6,6,10,14,9,4,9,3,11,4,10,8,14,9,11,10,8,9,9,4,11,6,8,9,9,12,4,11,4,8,5,3,1,11,10,15,10,9,11,12,5,10,9,5,12,10,6,10,5,10,10,9,10,3,10,15,10,6,12,4,11,4,11,12,7,2,12,9,10,9,11,8,3,6,3,7,7,11,12,4,1,4,4,2,6,14,6,14,6,10,6,6,3,1,9,10,6,4,9,6,11,5,5,9,2,5,5,13,13,5,4,4,7,6,12,6,10,6,6,11,2,5,4,3,4,9,3,10,13,14,8,11,6,4,11,6,11,6,12,13,10,9,6,8,8,8,12,6,2,6,3,3,9,2,5,5,17,13,3,2,7,3,6,5,5,3,4,6,11,8,5,12,3,2,8,4,13,12,10,11,11,11,9,8,8,4,14,9,4,4,10,3,2,6,13,14,11,4,4,3,14,6,10,12,5,3,5,6,4,8,2,7,8,6,8,8,13,9,6,6,2,1,4,13,5,5,3,5,9,3,10,10,8,10,9,6,5,9,11,5,12,6,12,5,2,10,3,10,13,6,4,11,3,4,5,9,1,12,2,10,6,4,4,8,10,6,10,4,2,3,6,10,3,6,5,11,11,5,5,6,11,5,3,8,3,3,10,14,9,11,6,8,10,6,8,4,3,6,7,11,8,4,11,2,4,11,3,4,2,6,5,6,5,11,3,10,5,5,2,3,6,11,3,4,3,11,13,8,3,9,2,15,5,4,9,6,5,3,11,2,4,15,12,5,12,3,5,10,11,11,6,11,5,3,10,5,10,4,9,6,5,8,12,10,3,5,4,6,11,8,3,8,2,5,4,7,7,14,9,2,11,3,9,3,9,13,8,6,9,5,3,6,10,6,3,14,4,15,11,12,6,9,10,10,9,4,14,3,5,14,6,5,7,2,2,5,9,11,2,9,11,13,5,6,11,2,8,8,9,4,9,6,11,8,11,3,10,11,3,5,4,5,3,4,5,6,12,10,10,9,10,6,6,5,11,6,11,5,11,5,8,9,5,1,3,11,9,11,6,6,3,1,8,7,9,11,9,14,3,5,4,4,5,5,9,12,10,6,4,11,10,9,10,4,2,1,6,4,9,3,5,3,4,4,6,8,4,9,9,9,10,9,8,9,9,7,2,8,9,4,10,12,3,4,6,4,8,4,10,10,11,6,4,10,6,12,8,2,6,2,10,6,10,4,12,3,3,7,11,2,2,6,10,4,9,9,9,5,6,10,10,6,12,4,9,4,6,5,3,3,2,3,6,13,9,11,4,4,3,6,10,5,11,6,3,11,7,6,2,5,10,3,8,10,6,14,11,4,2,15,3,9,3,11,3,11,3,12,6,13,9,10,3,4,13,2,9,6,2,3,2,9,8,5,4,2,6,6,10,6,12,8,12,4,5,8,10,6,14,13,11,8,5,4,5,10,5,6,5,10,5,5,4,6,11,3,4,8,5,11,6,3,8,3,2,4,10,9,3,3,8,3,3,2,4,3,2,7,14,3,6,1,9,3,10,3,6,3,10,3,6,4,2,12,8,9,6,12,6,3,5,11,3,10,5,3,9,5,11,3,10,6,13,6,7,6,5,7,11,10,14,3,5,13,7,5,12,10,10,3,13,3,6,3,9,4,2,12,8,3,3,2,11,4,10,13,12,5,6,4,10,5,2,6,10,3,8,12,10,5,6,6,13,13,9,10,9,6,14,3,6,12,5,5,7,8,5,3,3,11,6,4,6,13,4,9,5,5,8,12,6,9,4,4,2,1,9,6,6,10,5,10,10,3,7,8,7,12,12,3,5,6,5,4,3,4,9,10,11,4,5,4,11,4,1,10,3,5,5,10,3,6,5,9,9,12,9,6,3,3,2,2,9,2,9,12,10,3,4,9,10,5,4,3,11,11,6,2,3,4,4,6,9,3,2,2,3,9,7,2,6,11,4,2,11,12,7,6,11,1,9,3,6,11,6,9,3,4,12,9,4,9,6,6,12,3,3,3,11,8,4,12,5,4,6,12,4,11,4,13,4,6,5,5,6,11,6,15,5,10,9,5,12,6,12,5,2,4,5,6,4,5,9,4,4,8,9,6,9,6,8,8,6,2,3,9,4,9,2,2,8,4,11,5,10,9,11,11,3,5,4,3,8,6,4,6,5,2,3,4,9,3,6,8,4,5,9,9,2,6,11,7,4,6,8,10,6,14,8,5,3,2,6,3,13,4,5,11,11,6,6,8,8,3,3,6,9,3,7,5,8,10,5,6,5,9,6,5,2,3,2,9,7,12,12,4,5,3,3,4,13,10,3,6,6,3,5,7,9,14,2,5,2,5,6,11,6,7,4,7,6,8,3,12,12,5,3,2,6,4,6,11,5,6,5,4,6,8,7,6,10,2,8,11,3,4,8,3,3,2,12,6,4,6,11,4,4,2,6,7,13,6,6,10,12,3,4,8,11,3,2,9,8,3,9,1,6,8,5,5,4,2,2,5,3,9,10,3,11,5,9,4,2,11,7,1,6,4,11,4,3,3,4,2,4,4,3,4,12,5,2,8,5,6,5,2,4,8,6,6,2,9,10,12,10,3,2,8,11,11,3,6,6,9,3,5,10,6,3,9,6,10,5,5,4,5,5,3,5,6,9,10,5,6,6,4,1,9,2,4,6,11,2,4,9,1,6,6,3,2,3,5,5,2,7,9,3,11,6,4,11,5,9,10,6,5,13,8,10,3,12,7,5,6,4,3,4,7,3,6,4,2,3,9,2,5,8,6,9,13,4,5,3,9,6,4,5,10,11,6,6,6,9,11,6,2,6,6,9,13,5,4,8,6,3,3,5,4,10,5,3,3,3,3,6,9,11,6,2,6,5,8,5,3,4,10,5,3,9,5,12,3,9,4,4,4,2,2,4,5,9,8,3,5,8,5,4,5,8,5,12,5,4,6,2,2,6,4,6,10,9,6,3,4,4,4,4,10,4,4,6,1,3,3,5,13,3,4,12,9,2,3,8,5,8,3,5,8,2,8,10,10,6,4,5,8,11,6,11,10,5,2,2,7,4,10,1,10,5,5,1,5,4,3,7,9,5,9,4,2,2,3,6,6,10,5,2,5,10,12,4,9,2,9,3,12,4,5,6,6,4,6,1,9,5,3],\"xaxis\":\"x\",\"yaxis\":\"y\",\"type\":\"histogram\"}],                        {\"template\":{\"data\":{\"histogram2dcontour\":[{\"type\":\"histogram2dcontour\",\"colorbar\":{\"outlinewidth\":0,\"ticks\":\"\"},\"colorscale\":[[0.0,\"#0d0887\"],[0.1111111111111111,\"#46039f\"],[0.2222222222222222,\"#7201a8\"],[0.3333333333333333,\"#9c179e\"],[0.4444444444444444,\"#bd3786\"],[0.5555555555555556,\"#d8576b\"],[0.6666666666666666,\"#ed7953\"],[0.7777777777777778,\"#fb9f3a\"],[0.8888888888888888,\"#fdca26\"],[1.0,\"#f0f921\"]]}],\"choropleth\":[{\"type\":\"choropleth\",\"colorbar\":{\"outlinewidth\":0,\"ticks\":\"\"}}],\"histogram2d\":[{\"type\":\"histogram2d\",\"colorbar\":{\"outlinewidth\":0,\"ticks\":\"\"},\"colorscale\":[[0.0,\"#0d0887\"],[0.1111111111111111,\"#46039f\"],[0.2222222222222222,\"#7201a8\"],[0.3333333333333333,\"#9c179e\"],[0.4444444444444444,\"#bd3786\"],[0.5555555555555556,\"#d8576b\"],[0.6666666666666666,\"#ed7953\"],[0.7777777777777778,\"#fb9f3a\"],[0.8888888888888888,\"#fdca26\"],[1.0,\"#f0f921\"]]}],\"heatmap\":[{\"type\":\"heatmap\",\"colorbar\":{\"outlinewidth\":0,\"ticks\":\"\"},\"colorscale\":[[0.0,\"#0d0887\"],[0.1111111111111111,\"#46039f\"],[0.2222222222222222,\"#7201a8\"],[0.3333333333333333,\"#9c179e\"],[0.4444444444444444,\"#bd3786\"],[0.5555555555555556,\"#d8576b\"],[0.6666666666666666,\"#ed7953\"],[0.7777777777777778,\"#fb9f3a\"],[0.8888888888888888,\"#fdca26\"],[1.0,\"#f0f921\"]]}],\"heatmapgl\":[{\"type\":\"heatmapgl\",\"colorbar\":{\"outlinewidth\":0,\"ticks\":\"\"},\"colorscale\":[[0.0,\"#0d0887\"],[0.1111111111111111,\"#46039f\"],[0.2222222222222222,\"#7201a8\"],[0.3333333333333333,\"#9c179e\"],[0.4444444444444444,\"#bd3786\"],[0.5555555555555556,\"#d8576b\"],[0.6666666666666666,\"#ed7953\"],[0.7777777777777778,\"#fb9f3a\"],[0.8888888888888888,\"#fdca26\"],[1.0,\"#f0f921\"]]}],\"contourcarpet\":[{\"type\":\"contourcarpet\",\"colorbar\":{\"outlinewidth\":0,\"ticks\":\"\"}}],\"contour\":[{\"type\":\"contour\",\"colorbar\":{\"outlinewidth\":0,\"ticks\":\"\"},\"colorscale\":[[0.0,\"#0d0887\"],[0.1111111111111111,\"#46039f\"],[0.2222222222222222,\"#7201a8\"],[0.3333333333333333,\"#9c179e\"],[0.4444444444444444,\"#bd3786\"],[0.5555555555555556,\"#d8576b\"],[0.6666666666666666,\"#ed7953\"],[0.7777777777777778,\"#fb9f3a\"],[0.8888888888888888,\"#fdca26\"],[1.0,\"#f0f921\"]]}],\"surface\":[{\"type\":\"surface\",\"colorbar\":{\"outlinewidth\":0,\"ticks\":\"\"},\"colorscale\":[[0.0,\"#0d0887\"],[0.1111111111111111,\"#46039f\"],[0.2222222222222222,\"#7201a8\"],[0.3333333333333333,\"#9c179e\"],[0.4444444444444444,\"#bd3786\"],[0.5555555555555556,\"#d8576b\"],[0.6666666666666666,\"#ed7953\"],[0.7777777777777778,\"#fb9f3a\"],[0.8888888888888888,\"#fdca26\"],[1.0,\"#f0f921\"]]}],\"mesh3d\":[{\"type\":\"mesh3d\",\"colorbar\":{\"outlinewidth\":0,\"ticks\":\"\"}}],\"scatter\":[{\"fillpattern\":{\"fillmode\":\"overlay\",\"size\":10,\"solidity\":0.2},\"type\":\"scatter\"}],\"parcoords\":[{\"type\":\"parcoords\",\"line\":{\"colorbar\":{\"outlinewidth\":0,\"ticks\":\"\"}}}],\"scatterpolargl\":[{\"type\":\"scatterpolargl\",\"marker\":{\"colorbar\":{\"outlinewidth\":0,\"ticks\":\"\"}}}],\"bar\":[{\"error_x\":{\"color\":\"#2a3f5f\"},\"error_y\":{\"color\":\"#2a3f5f\"},\"marker\":{\"line\":{\"color\":\"#E5ECF6\",\"width\":0.5},\"pattern\":{\"fillmode\":\"overlay\",\"size\":10,\"solidity\":0.2}},\"type\":\"bar\"}],\"scattergeo\":[{\"type\":\"scattergeo\",\"marker\":{\"colorbar\":{\"outlinewidth\":0,\"ticks\":\"\"}}}],\"scatterpolar\":[{\"type\":\"scatterpolar\",\"marker\":{\"colorbar\":{\"outlinewidth\":0,\"ticks\":\"\"}}}],\"histogram\":[{\"marker\":{\"pattern\":{\"fillmode\":\"overlay\",\"size\":10,\"solidity\":0.2}},\"type\":\"histogram\"}],\"scattergl\":[{\"type\":\"scattergl\",\"marker\":{\"colorbar\":{\"outlinewidth\":0,\"ticks\":\"\"}}}],\"scatter3d\":[{\"type\":\"scatter3d\",\"line\":{\"colorbar\":{\"outlinewidth\":0,\"ticks\":\"\"}},\"marker\":{\"colorbar\":{\"outlinewidth\":0,\"ticks\":\"\"}}}],\"scattermapbox\":[{\"type\":\"scattermapbox\",\"marker\":{\"colorbar\":{\"outlinewidth\":0,\"ticks\":\"\"}}}],\"scatterternary\":[{\"type\":\"scatterternary\",\"marker\":{\"colorbar\":{\"outlinewidth\":0,\"ticks\":\"\"}}}],\"scattercarpet\":[{\"type\":\"scattercarpet\",\"marker\":{\"colorbar\":{\"outlinewidth\":0,\"ticks\":\"\"}}}],\"carpet\":[{\"aaxis\":{\"endlinecolor\":\"#2a3f5f\",\"gridcolor\":\"white\",\"linecolor\":\"white\",\"minorgridcolor\":\"white\",\"startlinecolor\":\"#2a3f5f\"},\"baxis\":{\"endlinecolor\":\"#2a3f5f\",\"gridcolor\":\"white\",\"linecolor\":\"white\",\"minorgridcolor\":\"white\",\"startlinecolor\":\"#2a3f5f\"},\"type\":\"carpet\"}],\"table\":[{\"cells\":{\"fill\":{\"color\":\"#EBF0F8\"},\"line\":{\"color\":\"white\"}},\"header\":{\"fill\":{\"color\":\"#C8D4E3\"},\"line\":{\"color\":\"white\"}},\"type\":\"table\"}],\"barpolar\":[{\"marker\":{\"line\":{\"color\":\"#E5ECF6\",\"width\":0.5},\"pattern\":{\"fillmode\":\"overlay\",\"size\":10,\"solidity\":0.2}},\"type\":\"barpolar\"}],\"pie\":[{\"automargin\":true,\"type\":\"pie\"}]},\"layout\":{\"autotypenumbers\":\"strict\",\"colorway\":[\"#636efa\",\"#EF553B\",\"#00cc96\",\"#ab63fa\",\"#FFA15A\",\"#19d3f3\",\"#FF6692\",\"#B6E880\",\"#FF97FF\",\"#FECB52\"],\"font\":{\"color\":\"#2a3f5f\"},\"hovermode\":\"closest\",\"hoverlabel\":{\"align\":\"left\"},\"paper_bgcolor\":\"white\",\"plot_bgcolor\":\"#E5ECF6\",\"polar\":{\"bgcolor\":\"#E5ECF6\",\"angularaxis\":{\"gridcolor\":\"white\",\"linecolor\":\"white\",\"ticks\":\"\"},\"radialaxis\":{\"gridcolor\":\"white\",\"linecolor\":\"white\",\"ticks\":\"\"}},\"ternary\":{\"bgcolor\":\"#E5ECF6\",\"aaxis\":{\"gridcolor\":\"white\",\"linecolor\":\"white\",\"ticks\":\"\"},\"baxis\":{\"gridcolor\":\"white\",\"linecolor\":\"white\",\"ticks\":\"\"},\"caxis\":{\"gridcolor\":\"white\",\"linecolor\":\"white\",\"ticks\":\"\"}},\"coloraxis\":{\"colorbar\":{\"outlinewidth\":0,\"ticks\":\"\"}},\"colorscale\":{\"sequential\":[[0.0,\"#0d0887\"],[0.1111111111111111,\"#46039f\"],[0.2222222222222222,\"#7201a8\"],[0.3333333333333333,\"#9c179e\"],[0.4444444444444444,\"#bd3786\"],[0.5555555555555556,\"#d8576b\"],[0.6666666666666666,\"#ed7953\"],[0.7777777777777778,\"#fb9f3a\"],[0.8888888888888888,\"#fdca26\"],[1.0,\"#f0f921\"]],\"sequentialminus\":[[0.0,\"#0d0887\"],[0.1111111111111111,\"#46039f\"],[0.2222222222222222,\"#7201a8\"],[0.3333333333333333,\"#9c179e\"],[0.4444444444444444,\"#bd3786\"],[0.5555555555555556,\"#d8576b\"],[0.6666666666666666,\"#ed7953\"],[0.7777777777777778,\"#fb9f3a\"],[0.8888888888888888,\"#fdca26\"],[1.0,\"#f0f921\"]],\"diverging\":[[0,\"#8e0152\"],[0.1,\"#c51b7d\"],[0.2,\"#de77ae\"],[0.3,\"#f1b6da\"],[0.4,\"#fde0ef\"],[0.5,\"#f7f7f7\"],[0.6,\"#e6f5d0\"],[0.7,\"#b8e186\"],[0.8,\"#7fbc41\"],[0.9,\"#4d9221\"],[1,\"#276419\"]]},\"xaxis\":{\"gridcolor\":\"white\",\"linecolor\":\"white\",\"ticks\":\"\",\"title\":{\"standoff\":15},\"zerolinecolor\":\"white\",\"automargin\":true,\"zerolinewidth\":2},\"yaxis\":{\"gridcolor\":\"white\",\"linecolor\":\"white\",\"ticks\":\"\",\"title\":{\"standoff\":15},\"zerolinecolor\":\"white\",\"automargin\":true,\"zerolinewidth\":2},\"scene\":{\"xaxis\":{\"backgroundcolor\":\"#E5ECF6\",\"gridcolor\":\"white\",\"linecolor\":\"white\",\"showbackground\":true,\"ticks\":\"\",\"zerolinecolor\":\"white\",\"gridwidth\":2},\"yaxis\":{\"backgroundcolor\":\"#E5ECF6\",\"gridcolor\":\"white\",\"linecolor\":\"white\",\"showbackground\":true,\"ticks\":\"\",\"zerolinecolor\":\"white\",\"gridwidth\":2},\"zaxis\":{\"backgroundcolor\":\"#E5ECF6\",\"gridcolor\":\"white\",\"linecolor\":\"white\",\"showbackground\":true,\"ticks\":\"\",\"zerolinecolor\":\"white\",\"gridwidth\":2}},\"shapedefaults\":{\"line\":{\"color\":\"#2a3f5f\"}},\"annotationdefaults\":{\"arrowcolor\":\"#2a3f5f\",\"arrowhead\":0,\"arrowwidth\":1},\"geo\":{\"bgcolor\":\"white\",\"landcolor\":\"#E5ECF6\",\"subunitcolor\":\"white\",\"showland\":true,\"showlakes\":true,\"lakecolor\":\"white\"},\"title\":{\"x\":0.05},\"mapbox\":{\"style\":\"light\"}}},\"xaxis\":{\"anchor\":\"y\",\"domain\":[0.0,1.0],\"title\":{\"text\":\"<b>The number of `building` events</b>\"}},\"yaxis\":{\"anchor\":\"x\",\"domain\":[0.0,1.0],\"title\":{\"text\":\"<b>Number of users</b>\"}},\"legend\":{\"tracegroupgap\":0},\"margin\":{\"t\":60},\"barmode\":\"group\",\"height\":400,\"width\":800,\"title\":{\"font\":{\"family\":\"Arial\",\"size\":18,\"color\":\"#344243\"},\"text\":\"<b>Distribution of the number of `building` events for each user</b>\",\"x\":0.5},\"plot_bgcolor\":\"#f8f6f6\"},                        {\"responsive\": true}                    ).then(function(){\n",
              "                            \n",
              "var gd = document.getElementById('2ec0397f-b8fc-4e17-91f2-3abaf701e57b');\n",
              "var x = new MutationObserver(function (mutations, observer) {{\n",
              "        var display = window.getComputedStyle(gd).display;\n",
              "        if (!display || display === 'none') {{\n",
              "            console.log([gd, 'removed!']);\n",
              "            Plotly.purge(gd);\n",
              "            observer.disconnect();\n",
              "        }}\n",
              "}});\n",
              "\n",
              "// Listen for the removal of the full notebook cells\n",
              "var notebookContainer = gd.closest('#notebook-container');\n",
              "if (notebookContainer) {{\n",
              "    x.observe(notebookContainer, {childList: true});\n",
              "}}\n",
              "\n",
              "// Listen for the clearing of the current output cell\n",
              "var outputEl = gd.closest('.output');\n",
              "if (outputEl) {{\n",
              "    x.observe(outputEl, {childList: true});\n",
              "}}\n",
              "\n",
              "                        })                };                            </script>        </div>\n",
              "</body>\n",
              "</html>"
            ]
          },
          "metadata": {}
        }
      ],
      "source": [
        "plotly_hist(new_lvl, 'count_building', 'Distribution of the number of `building` events for each user', \n",
        "            'The number of `building` events', 'Number of users')"
      ]
    },
    {
      "cell_type": "markdown",
      "metadata": {
        "id": "enDDgwk3oLI9"
      },
      "source": [
        "The average number of buildings per player is 10-11. The diagram shows a failure at 7 buildings, perhaps this is an easy phase in the game and it is quickly exceeded. This phase of the game can be used more effectively for advertising, because if a player has built 7 buildings, he will most likely build 8."
      ]
    },
    {
      "cell_type": "markdown",
      "metadata": {
        "id": "ojBa1_rxoLI9"
      },
      "source": [
        "### Distribution the number of days to complete the first level by users"
      ]
    },
    {
      "cell_type": "code",
      "execution_count": 36,
      "metadata": {
        "id": "98RrBH6moLI9",
        "colab": {
          "base_uri": "https://localhost:8080/",
          "height": 417
        },
        "outputId": "8522dd16-9262-464a-fd5a-704d09c3c17b"
      },
      "outputs": [
        {
          "output_type": "display_data",
          "data": {
            "text/html": [
              "<html>\n",
              "<head><meta charset=\"utf-8\" /></head>\n",
              "<body>\n",
              "    <div>            <script src=\"https://cdnjs.cloudflare.com/ajax/libs/mathjax/2.7.5/MathJax.js?config=TeX-AMS-MML_SVG\"></script><script type=\"text/javascript\">if (window.MathJax && window.MathJax.Hub && window.MathJax.Hub.Config) {window.MathJax.Hub.Config({SVG: {font: \"STIX-Web\"}});}</script>                <script type=\"text/javascript\">window.PlotlyConfig = {MathJaxConfig: 'local'};</script>\n",
              "        <script src=\"https://cdn.plot.ly/plotly-2.18.2.min.js\"></script>                <div id=\"58409e90-d330-4aea-9b7c-adc530064c69\" class=\"plotly-graph-div\" style=\"height:400px; width:800px;\"></div>            <script type=\"text/javascript\">                                    window.PLOTLYENV=window.PLOTLYENV || {};                                    if (document.getElementById(\"58409e90-d330-4aea-9b7c-adc530064c69\")) {                    Plotly.newPlot(                        \"58409e90-d330-4aea-9b7c-adc530064c69\",                        [{\"alignmentgroup\":\"True\",\"bingroup\":\"x\",\"hovertemplate\":\"count_lvl_day=%{x}<br>count=%{y}<extra></extra>\",\"legendgroup\":\"\",\"marker\":{\"color\":\"#e1958e\",\"pattern\":{\"shape\":\"\"}},\"name\":\"\",\"offsetgroup\":\"\",\"orientation\":\"v\",\"showlegend\":false,\"x\":[null,11.0,12.0,null,7.0,null,12.0,null,14.0,15.0,null,8.0,null,11.0,null,7.0,null,null,null,9.0,11.0,11.0,null,10.0,15.0,null,8.0,12.0,14.0,null,6.0,null,null,13.0,null,null,null,8.0,9.0,12.0,null,null,11.0,null,null,14.0,12.0,null,null,13.0,null,17.0,null,9.0,null,14.0,13.0,null,null,null,null,null,null,null,8.0,14.0,12.0,null,11.0,null,5.0,null,null,0.0,14.0,null,null,11.0,5.0,null,17.0,null,12.0,null,12.0,14.0,null,null,14.0,8.0,null,13.0,null,null,null,null,7.0,19.0,14.0,11.0,null,null,15.0,11.0,null,null,null,null,null,null,8.0,9.0,6.0,null,9.0,8.0,null,7.0,null,13.0,12.0,12.0,null,1.0,12.0,null,19.0,15.0,null,null,12.0,13.0,null,11.0,8.0,null,null,null,11.0,null,null,14.0,11.0,19.0,null,8.0,10.0,null,null,12.0,null,17.0,null,11.0,null,null,null,null,null,15.0,10.0,null,null,9.0,12.0,null,10.0,13.0,null,14.0,10.0,19.0,17.0,18.0,null,4.0,null,null,null,null,7.0,null,null,10.0,null,null,null,7.0,null,9.0,null,12.0,7.0,9.0,null,6.0,8.0,null,20.0,null,9.0,null,7.0,15.0,null,4.0,null,18.0,13.0,null,null,null,12.0,null,13.0,11.0,null,19.0,8.0,null,null,10.0,null,11.0,8.0,12.0,12.0,null,null,null,25.0,null,12.0,8.0,13.0,null,18.0,null,null,null,13.0,10.0,null,null,null,9.0,null,12.0,null,null,null,null,13.0,null,12.0,8.0,12.0,null,null,13.0,null,11.0,null,null,null,null,18.0,11.0,null,null,null,12.0,13.0,12.0,null,null,16.0,9.0,null,null,null,null,null,16.0,null,13.0,13.0,8.0,11.0,null,10.0,null,1.0,13.0,12.0,10.0,null,8.0,null,4.0,null,null,7.0,null,null,23.0,null,null,null,null,null,6.0,null,null,13.0,20.0,10.0,null,19.0,9.0,11.0,null,11.0,null,null,14.0,null,null,null,6.0,null,null,null,null,10.0,15.0,null,13.0,7.0,null,null,15.0,10.0,null,16.0,null,null,14.0,14.0,15.0,null,15.0,12.0,null,null,null,null,null,10.0,null,null,null,12.0,null,null,10.0,null,null,null,null,13.0,null,null,null,null,null,null,15.0,null,null,10.0,null,11.0,null,null,7.0,null,null,11.0,null,7.0,16.0,null,4.0,19.0,null,null,12.0,6.0,null,null,null,null,13.0,null,null,19.0,null,null,null,null,12.0,11.0,10.0,11.0,null,null,null,null,null,21.0,7.0,null,9.0,12.0,11.0,10.0,16.0,null,null,null,null,12.0,null,9.0,null,null,null,null,null,null,18.0,13.0,10.0,15.0,null,8.0,9.0,null,null,null,10.0,11.0,13.0,10.0,null,6.0,null,10.0,6.0,12.0,13.0,10.0,7.0,null,11.0,null,null,null,11.0,null,20.0,null,null,10.0,13.0,16.0,null,null,12.0,null,null,null,12.0,null,null,null,null,10.0,13.0,null,null,null,11.0,null,12.0,17.0,null,null,null,9.0,14.0,14.0,10.0,null,null,11.0,null,22.0,null,15.0,10.0,7.0,null,null,null,17.0,9.0,null,22.0,10.0,null,null,null,12.0,null,null,null,null,7.0,16.0,null,null,null,null,10.0,7.0,12.0,null,null,12.0,null,null,8.0,6.0,null,null,10.0,null,6.0,null,10.0,null,null,null,null,null,10.0,9.0,9.0,10.0,8.0,null,7.0,12.0,12.0,23.0,null,null,null,10.0,null,15.0,null,null,10.0,null,10.0,16.0,10.0,9.0,null,null,10.0,null,null,null,null,16.0,null,12.0,null,null,17.0,13.0,21.0,null,12.0,null,null,null,null,13.0,9.0,27.0,8.0,14.0,null,null,14.0,null,15.0,17.0,17.0,null,15.0,11.0,null,11.0,14.0,null,16.0,null,null,null,17.0,10.0,null,null,11.0,7.0,10.0,null,12.0,null,null,10.0,14.0,null,13.0,10.0,14.0,13.0,14.0,null,null,16.0,null,13.0,null,null,null,null,null,null,null,15.0,null,9.0,null,null,11.0,null,null,null,8.0,16.0,null,null,9.0,null,null,null,null,null,null,null,11.0,12.0,10.0,null,null,7.0,null,14.0,null,null,null,21.0,null,null,11.0,14.0,null,null,7.0,null,null,null,14.0,12.0,15.0,null,null,10.0,null,null,14.0,6.0,null,14.0,null,21.0,20.0,16.0,12.0,null,null,14.0,10.0,12.0,15.0,null,null,null,12.0,null,14.0,null,16.0,null,null,13.0,10.0,null,19.0,14.0,8.0,null,15.0,null,7.0,null,null,null,null,null,10.0,null,null,null,16.0,15.0,9.0,null,10.0,5.0,12.0,15.0,null,null,12.0,5.0,15.0,10.0,null,null,16.0,15.0,null,12.0,null,10.0,11.0,null,null,null,null,null,null,null,null,null,11.0,14.0,null,9.0,null,13.0,null,null,17.0,null,9.0,null,17.0,null,null,16.0,null,10.0,7.0,13.0,21.0,9.0,null,null,null,null,12.0,null,10.0,null,null,10.0,12.0,null,null,19.0,11.0,12.0,null,10.0,null,null,null,10.0,null,8.0,null,null,11.0,null,null,null,null,null,9.0,9.0,null,null,12.0,null,6.0,null,null,10.0,null,20.0,8.0,11.0,null,11.0,10.0,null,null,13.0,null,15.0,11.0,null,null,null,13.0,null,8.0,null,null,null,18.0,7.0,13.0,null,null,12.0,null,12.0,null,18.0,null,null,15.0,11.0,12.0,null,8.0,null,10.0,13.0,null,null,null,16.0,null,11.0,null,null,14.0,21.0,7.0,null,13.0,9.0,null,null,null,null,null,null,8.0,null,null,2.0,null,null,null,null,null,8.0,9.0,12.0,null,null,10.0,15.0,null,10.0,8.0,13.0,9.0,null,10.0,11.0,null,21.0,null,12.0,null,null,null,null,10.0,null,null,null,10.0,14.0,null,11.0,9.0,null,20.0,11.0,13.0,null,15.0,7.0,null,14.0,null,14.0,null,null,10.0,null,15.0,null,13.0,null,14.0,null,19.0,7.0,17.0,null,11.0,9.0,null,null,null,16.0,11.0,8.0,null,null,null,13.0,13.0,null,11.0,null,null,12.0,null,null,5.0,13.0,5.0,null,null,13.0,null,null,13.0,14.0,null,6.0,8.0,null,17.0,11.0,6.0,null,null,null,12.0,14.0,null,null,10.0,null,null,null,null,null,18.0,10.0,null,6.0,null,11.0,null,null,null,12.0,null,11.0,9.0,6.0,null,null,9.0,7.0,null,null,null,15.0,null,null,null,11.0,14.0,null,9.0,null,14.0,null,16.0,17.0,11.0,8.0,12.0,18.0,9.0,null,11.0,null,8.0,12.0,null,7.0,null,9.0,null,null,10.0,null,null,null,null,7.0,12.0,5.0,null,12.0,null,null,11.0,null,null,18.0,12.0,null,null,null,null,null,15.0,12.0,17.0,null,null,null,null,15.0,null,13.0,16.0,null,9.0,null,10.0,null,5.0,null,null,null,null,null,17.0,null,null,11.0,null,9.0,7.0,7.0,9.0,null,null,13.0,null,null,12.0,11.0,10.0,15.0,11.0,13.0,null,10.0,null,8.0,13.0,11.0,null,null,14.0,null,null,null,14.0,null,null,null,15.0,11.0,16.0,null,8.0,8.0,null,null,8.0,null,17.0,null,null,13.0,12.0,8.0,null,12.0,null,null,null,10.0,null,null,null,11.0,17.0,10.0,13.0,7.0,null,null,null,null,19.0,11.0,null,null,null,null,12.0,null,null,9.0,null,null,11.0,null,null,null,10.0,null,null,19.0,null,null,14.0,null,15.0,null,null,null,null,12.0,null,10.0,9.0,null,null,10.0,12.0,7.0,10.0,null,null,10.0,15.0,12.0,15.0,null,6.0,null,13.0,11.0,null,9.0,null,null,null,null,null,11.0,null,4.0,8.0,null,20.0,8.0,14.0,null,null,11.0,null,12.0,null,10.0,16.0,9.0,2.0,null,null,null,9.0,6.0,null,null,14.0,20.0,null,null,null,null,null,null,16.0,12.0,null,null,null,null,null,21.0,13.0,null,null,20.0,null,7.0,null,null,null,14.0,null,6.0,null,null,8.0,13.0,12.0,16.0,12.0,null,null,null,null,null,10.0,null,8.0,16.0,null,null,18.0,null,null,15.0,7.0,7.0,null,null,11.0,null,null,11.0,null,null,12.0,null,12.0,7.0,null,null,null,14.0,3.0,11.0,5.0,null,5.0,null,null,10.0,null,8.0,null,10.0,null,18.0,13.0,6.0,null,null,null,8.0,9.0,8.0,14.0,14.0,13.0,null,null,9.0,null,11.0,8.0,null,13.0,12.0,10.0,null,null,null,null,12.0,null,14.0,null,null,null,12.0,null,10.0,7.0,12.0,null,14.0,10.0,8.0,null,null,7.0,14.0,null,14.0,19.0,13.0,7.0,null,14.0,12.0,null,16.0,13.0,5.0,null,null,null,null,null,17.0,null,9.0,13.0,null,null,null,13.0,null,null,null,null,4.0,14.0,19.0,11.0,null,7.0,10.0,null,null,10.0,null,null,null,13.0,9.0,null,null,15.0,null,null,null,null,12.0,null,10.0,16.0,null,13.0,10.0,16.0,null,10.0,null,null,null,null,null,null,8.0,null,19.0,null,null,null,6.0,8.0,9.0,null,null,null,30.0,null,null,null,null,9.0,null,13.0,null,null,null,null,null,12.0,null,17.0,null,null,14.0,null,8.0,20.0,null,15.0,null,16.0,10.0,null,13.0,9.0,null,15.0,15.0,null,18.0,null,null,null,null,null,10.0,null,7.0,8.0,13.0,null,null,13.0,null,null,null,11.0,10.0,null,null,15.0,null,null,null,12.0,13.0,6.0,6.0,null,12.0,14.0,17.0,null,null,null,null,13.0,16.0,16.0,null,null,9.0,21.0,null,12.0,13.0,null,null,null,null,null,null,null,7.0,null,null,null,13.0,null,12.0,14.0,13.0,null,13.0,null,null,9.0,11.0,8.0,null,9.0,null,null,null,null,null,14.0,null,null,17.0,null,8.0,null,null,null,null,null,12.0,7.0,7.0,null,null,7.0,11.0,10.0,null,null,null,null,11.0,null,11.0,11.0,null,null,null,6.0,12.0,9.0,null,10.0,22.0,null,null,13.0,6.0,11.0,17.0,null,6.0,15.0,8.0,8.0,6.0,13.0,6.0,null,12.0,null,null,9.0,17.0,9.0,null,null,null,null,10.0,null,null,11.0,null,null,null,null,null,11.0,14.0,13.0,null,null,null,12.0,null,null,null,null,6.0,null,null,null,10.0,7.0,18.0,11.0,12.0,null,12.0,null,null,11.0,null,null,null,12.0,null,17.0,null,9.0,15.0,14.0,29.0,null,10.0,15.0,12.0,null,9.0,12.0,null,12.0,null,7.0,9.0,null,null,null,10.0,null,null,null,14.0,11.0,null,null,9.0,null,null,null,null,null,null,null,18.0,null,null,11.0,8.0,null,null,17.0,null,6.0,null,11.0,12.0,null,null,8.0,null,11.0,12.0,null,10.0,11.0,11.0,null,14.0,10.0,9.0,null,null,null,null,19.0,null,null,17.0,null,12.0,7.0,null,null,7.0,10.0,null,null,10.0,null,null,16.0,13.0,9.0,null,null,null,null,7.0,14.0,null,null,null,null,null,13.0,null,15.0,11.0,4.0,null,null,null,10.0,null,null,14.0,null,null,13.0,13.0,8.0,14.0,8.0,null,null,null,14.0,10.0,null,null,null,null,null,6.0,12.0,12.0,null,14.0,null,null,null,null,null,10.0,8.0,null,null,14.0,null,null,8.0,null,null,15.0,null,10.0,null,null,7.0,22.0,null,8.0,null,18.0,15.0,null,13.0,13.0,13.0,null,null,null,7.0,null,null,12.0,null,8.0,11.0,null,23.0,18.0,26.0,null,10.0,null,13.0,null,null,12.0,null,14.0,null,null,null,null,null,12.0,12.0,null,null,15.0,12.0,16.0,null,null,null,null,null,null,16.0,9.0,null,11.0,null,null,null,10.0,15.0,null,null,null,12.0,null,null,null,null,null,15.0,null,null,13.0,25.0,null,null,null,null,5.0,14.0,11.0,16.0,12.0,17.0,7.0,9.0,14.0,11.0,null,14.0,15.0,null,null,null,null,null,7.0,null,null,14.0,14.0,null,null,16.0,null,10.0,null,null,null,12.0,7.0,null,20.0,null,14.0,11.0,null,null,6.0,null,10.0,15.0,null,null,13.0,9.0,15.0,14.0,7.0,16.0,null,null,null,null,null,null,null,13.0,null,13.0,9.0,16.0,11.0,15.0,null,null,null,12.0,null,null,null,null,null,6.0,null,7.0,9.0,11.0,12.0,8.0,null,null,12.0,null,8.0,null,14.0,null,18.0,8.0,13.0,null,8.0,null,13.0,18.0,24.0,12.0,null,null,null,null,11.0,4.0,null,null,12.0,null,null,13.0,9.0,13.0,16.0,13.0,11.0,null,10.0,16.0,null,null,null,null,null,null,16.0,13.0,null,null,null,null,10.0,13.0,null,9.0,null,null,13.0,null,19.0,18.0,15.0,15.0,null,null,15.0,14.0,null,null,null,null,19.0,null,null,null,null,null,null,null,null,null,null,12.0,null,null,9.0,null,null,null,null,7.0,8.0,null,6.0,null,null,11.0,null,16.0,13.0,15.0,11.0,9.0,null,11.0,null,null,9.0,null,null,null,18.0,null,6.0,10.0,13.0,null,13.0,12.0,null,14.0,null,null,8.0,16.0,null,12.0,8.0,8.0,8.0,null,null,16.0,null,null,null,null,null,19.0,null,null,null,null,null,15.0,null,8.0,null,null,10.0,null,null,null,17.0,null,null,11.0,9.0,null,null,10.0,13.0,10.0,null,null,null,null,10.0,17.0,null,13.0,null,8.0,null,null,null,null,null,9.0,13.0,null,10.0,null,11.0,null,null,null,12.0,12.0,8.0,13.0,13.0,null,14.0,null,10.0,null,null,null,null,6.0,null,14.0,null,null,null,14.0,10.0,10.0,null,null,10.0,12.0,null,10.0,11.0,null,10.0,11.0,16.0,15.0,null,null,9.0,17.0,11.0,null,null,null,9.0,null,10.0,null,null,null,11.0,14.0,null,null,8.0,null,7.0,11.0,16.0,null,17.0,11.0,null,15.0,null,null,16.0,null,18.0,9.0,14.0,10.0,null,null,null,9.0,10.0,null,null,8.0,12.0,10.0,null,13.0,14.0,null,10.0,null,9.0,null,16.0,null,14.0,11.0,15.0,null,null,null,11.0,null,12.0,null,12.0,null,null,12.0,null,9.0,12.0,null,13.0,null,null,10.0,null,6.0,15.0,19.0,null,null,null,null,null,10.0,null,10.0,null,null,null,null,12.0,null,20.0,null,null,12.0,null,null,9.0,null,8.0,null,null,9.0,null,null,null,15.0,null,null,null,null,14.0,null,7.0,15.0,15.0,null,null,null,null,null,null,null,11.0,null,14.0,null,null,null,11.0,16.0,null,null,null,null,11.0,null,10.0,null,null,10.0,null,14.0,null,null,null,13.0,null,15.0,14.0,null,10.0,null,null,null,null,null,null,null,11.0,null,9.0,19.0,7.0,null,null,null,12.0,13.0,null,13.0,null,null,null,14.0,null,null,null,null,null,16.0,10.0,null,11.0,null,11.0,13.0,12.0,9.0,null,18.0,null,null,null,18.0,10.0,13.0,9.0,null,null,14.0,null,15.0,null,10.0,16.0,14.0,null,18.0,11.0,15.0,7.0,null,11.0,null,null,null,15.0,null,null,null,18.0,null,null,19.0,null,null,null,null,null,null,12.0,null,6.0,11.0,18.0,null,null,null,null,null,null,8.0,null,null,null,null,null,null,null,11.0,null,null,null,null,null,null,null,11.0,null,12.0,null,null,10.0,9.0,12.0,13.0,null,null,null,6.0,6.0,null,9.0,null,null,8.0,11.0,14.0,null,7.0,19.0,null,null,null,null,14.0,null,null,null,null,7.0,null,null,null,null,null,null,15.0,9.0,14.0,31.0,null,null,null,20.0,null,10.0,null,10.0,7.0,11.0,19.0,null,null,8.0,null,13.0,11.0,16.0,null,6.0,null,null,null,null,null,19.0,15.0,11.0,12.0,19.0,null,16.0,null,null,null,13.0,null,11.0,null,10.0,null,16.0,null,9.0,null,null,null,null,null,11.0,null,null,null,null,null,null,null,6.0,null,6.0,17.0,13.0,null,null,9.0,25.0,5.0,null,null,8.0,13.0,12.0,null,11.0,15.0,null,null,null,null,null,12.0,12.0,11.0,null,16.0,null,null,12.0,null,null,null,null,15.0,16.0,null,12.0,null,null,10.0,12.0,14.0,14.0,13.0,19.0,9.0,9.0,null,14.0,14.0,11.0,null,16.0,11.0,null,null,null,null,16.0,12.0,null,18.0,null,null,12.0,8.0,null,null,9.0,null,19.0,null,13.0,null,12.0,null,12.0,null,null,null,11.0,13.0,null,null,null,null,null,null,20.0,14.0,7.0,null,17.0,null,null,6.0,14.0,12.0,22.0,null,null,null,null,null,14.0,null,null,9.0,12.0,null,null,null,null,null,8.0,13.0,16.0,null,null,8.0,11.0,null,null,null,7.0,null,9.0,8.0,11.0,null,null,null,null,null,null,null,4.0,null,null,null,null,null,12.0,null,22.0,11.0,null,null,null,11.0,15.0,null,null,null,null,9.0,null,null,null,16.0,null,null,null,null,17.0,14.0,14.0,null,null,null,12.0,null,null,null,null,10.0,11.0,null,13.0,null,19.0,null,11.0,19.0,null,null,18.0,16.0,null,null,10.0,null,7.0,11.0,null,17.0,13.0,9.0,null,null,null,null,7.0,null,13.0,null,null,7.0,null,11.0,null,6.0,10.0,null,10.0,null,7.0,null,13.0,null,null,null,null,12.0,14.0,null,null,null,10.0,13.0,12.0,null,null,null,null,14.0,null,null,8.0,10.0,11.0,null,null,null,null,null,null,null,8.0,12.0,null,11.0,null,null,null,null,null,11.0,null,16.0,18.0,null,14.0,null,12.0,null,null,null,14.0,8.0,13.0,null,10.0,null,11.0,null,13.0,null,10.0,14.0,14.0,null,null,null,6.0,14.0,null,26.0,12.0,null,13.0,10.0,null,null,null,null,null,null,null,null,null,13.0,null,15.0,13.0,13.0,21.0,15.0,null,14.0,null,null,10.0,null,null,null,null,null,null,null,null,null,null,15.0,null,null,17.0,null,8.0,null,null,21.0,12.0,11.0,17.0,null,9.0,null,null,14.0,8.0,13.0,null,null,11.0,14.0,null,10.0,12.0,null,null,9.0,13.0,12.0,null,12.0,null,7.0,18.0,13.0,null,null,null,null,18.0,null,16.0,13.0,null,6.0,12.0,null,null,17.0,16.0,null,8.0,null,12.0,null,null,11.0,11.0,12.0,null,25.0,null,null,null,null,null,null,8.0,null,8.0,14.0,null,14.0,16.0,null,null,7.0,null,null,null,8.0,null,null,null,8.0,11.0,18.0,null,15.0,6.0,13.0,null,null,12.0,null,null,null,null,15.0,14.0,15.0,null,null,10.0,null,13.0,11.0,null,null,null,null,null,null,null,10.0,null,14.0,null,null,null,12.0,5.0,null,null,8.0,13.0,null,null,null,null,8.0,null,8.0,20.0,null,null,null,null,null,null,7.0,11.0,null,null,13.0,12.0,null,12.0,12.0,null,12.0,null,null,11.0,8.0,null,null,null,17.0,13.0,7.0,null,8.0,null,13.0,null,10.0,11.0,null,null,null,16.0,null,null,14.0,null,null,null,null,9.0,null,17.0,null,null,null,null,null,null,12.0,17.0,12.0,7.0,null,null,null,7.0,14.0,null,null,null,11.0,10.0,8.0,23.0,null,14.0,21.0,8.0,null,null,null,null,15.0,null,null,null,null,18.0,9.0,10.0,9.0,null,null,8.0,null,null,null,null,17.0,null,null,null,null,7.0,null,18.0,7.0,15.0,6.0,null,null,null,null,null,null,7.0,null,null,null,null,null,null,13.0,8.0,null,null,10.0,null,22.0,null,8.0,null,11.0,null,12.0,null,null,7.0,null,null,null,7.0,null,13.0,null,null,null,null,null,18.0,null,null,13.0,17.0,12.0,11.0,null,null,10.0,8.0,null,null,9.0,null,7.0,7.0,14.0,null,22.0,null,null,null,12.0,12.0,8.0,8.0,null,null,11.0,null,null,null,null,7.0,null,9.0,null,null,12.0,null,null,12.0,null,7.0,null,null,17.0,null,null,null,18.0,null,null,13.0,null,null,null,null,11.0,null,13.0,null,14.0,10.0,13.0,8.0,null,null,null,null,null,19.0,null,null,null,14.0,14.0,null,14.0,18.0,null,null,null,13.0,8.0,null,7.0,12.0,null,null,null,null,16.0,null,null,null,15.0,null,null,null,null,6.0,null,null,null,null,null,13.0,11.0,null,null,18.0,null,14.0,9.0,null,10.0,null,null,9.0,null,null,null,10.0,null,9.0,10.0,null,null,10.0,null,19.0,12.0,null,null,null,null,14.0,10.0,null,16.0,null,11.0,10.0,19.0,null,null,7.0,7.0,null,null,null,8.0,null,15.0,14.0,null,20.0,null,null,null,null,10.0,14.0,11.0,8.0,13.0,10.0,null,6.0,null,null,null,null,null,13.0,null,19.0,null,8.0,null,13.0,12.0,null,19.0,null,null,null,15.0,null,null,null,12.0,11.0,6.0,17.0,null,null,9.0,null,null,12.0,null,null,null,null,11.0,null,7.0,8.0,null,10.0,null,null,24.0,15.0,null,null,15.0,null,19.0,10.0,null,10.0,null,null,17.0,15.0,8.0,null,null,null,null,11.0,null,11.0,9.0,null,15.0,null,null,null,7.0,null,null,16.0,11.0,null,null,null,10.0,18.0,null,15.0,null,18.0,null,8.0,12.0,9.0,15.0,5.0,18.0,null,null,11.0,null,7.0,null,15.0,null,null,null,null,null,null,null,14.0,null,9.0,null,null,null,9.0,15.0,null,null,13.0,null,null,15.0,15.0,null,null,19.0,null,null,null,null,null,null,null,null,null,null,11.0,null,14.0,14.0,null,null,null,null,8.0,13.0,null,12.0,null,10.0,18.0,6.0,10.0,null,12.0,8.0,null,null,14.0,13.0,11.0,14.0,null,17.0,17.0,17.0,13.0,12.0,null,13.0,null,null,8.0,null,10.0,null,null,17.0,null,null,10.0,12.0,13.0,null,null,null,null,null,null,7.0,9.0,11.0,null,null,7.0,null,10.0,null,18.0,13.0,null,null,null,null,null,null,null,null,null,21.0,19.0,12.0,null,16.0,null,null,11.0,7.0,6.0,null,10.0,11.0,null,12.0,null,null,11.0,null,null,null,6.0,null,10.0,null,null,12.0,9.0,18.0,null,null,23.0,12.0,null,null,null,10.0,null,null,19.0,null,null,null,null,null,null,12.0,17.0,null,11.0,null,null,18.0,null,21.0,14.0,12.0,8.0,null,14.0,null,8.0,null,6.0,null,10.0,null,9.0,null,17.0,null,null,null,16.0,null,12.0,null,4.0,null,10.0,null,null,null,10.0,20.0,13.0,12.0,null,14.0,null,13.0,10.0,null,null,16.0,null,9.0,null,20.0,null,null,null,null,null,null,null,13.0,11.0,13.0,null,null,null,null,null,11.0,null,null,12.0,13.0,7.0,null,10.0,null,null,null,null,null,null,null,null,null,16.0,null,null,6.0,null,12.0,null,null,null,null,null,null,null,16.0,null,null,14.0,17.0,13.0,16.0,13.0,19.0,null,null,1.0,null,10.0,null,null,17.0,null,14.0,17.0,12.0,7.0,15.0,11.0,null,10.0,null,19.0,null,12.0,11.0,null,null,17.0,12.0,null,10.0,null,null,12.0,15.0,12.0,7.0,10.0,null,20.0,null,17.0,null,null,null,12.0,null,15.0,23.0,11.0,10.0,null,12.0,11.0,12.0,null,12.0,14.0,null,null,16.0,null,null,6.0,null,9.0,null,10.0,null,14.0,12.0,11.0,null,13.0,null,9.0,10.0,null,9.0,19.0,17.0,11.0,11.0,null,null,null,null,null,null,13.0,11.0,19.0,null,null,20.0,8.0,12.0,null,10.0,null,7.0,null,null,14.0,8.0,null,9.0,null,10.0,14.0,12.0,null,null,9.0,15.0,9.0,null,11.0,null,null,17.0,null,null,null,null,16.0,null,null,10.0,null,11.0,8.0,13.0,15.0,null,null,null,null,null,16.0,null,null,null,null,null,null,null,null,null,null,13.0,null,null,9.0,6.0,null,null,11.0,9.0,null,16.0,null,null,11.0,null,22.0,9.0,11.0,null,12.0,12.0,11.0,9.0,null,null,21.0,null,null,null,null,13.0,null,13.0,7.0,null,18.0,null,13.0,8.0,6.0,15.0,null,10.0,8.0,null,10.0,14.0,14.0,null,null,null,null,17.0,10.0,9.0,null,null,null,null,null,null,8.0,null,null,null,null,null,null,null,17.0,null,12.0,null,null,null,5.0,13.0,null,8.0,null,14.0,null,16.0,null,null,14.0,9.0,null,null,null,9.0,null,null,null,11.0,null,8.0,16.0,null,null,9.0,12.0,null,null,14.0,null,null,9.0,15.0,16.0,null,null,11.0,null,10.0,null,6.0,12.0,null,null,null,15.0,12.0,null,null,null,null,13.0,null,null,null,null,null,null,null,16.0,12.0,17.0,null,14.0,null,null,null,8.0,15.0,null,13.0,null,null,9.0,null,12.0,null,15.0,12.0,null,12.0,null,null,null,null,13.0,null,null,null,13.0,null,null,13.0,null,null,12.0,null,10.0,null,21.0,null,13.0,null,10.0,null,null,8.0,null,11.0,null,12.0,null,null,null,12.0,null,null,7.0,null,null,10.0,null,null,4.0,null,null,16.0,null,12.0,null,12.0,null,null,null,null,null,null,null,null,13.0,null,9.0,12.0,11.0,null,21.0,null,null,null,12.0,null,12.0,null,11.0,10.0,13.0,null,null,null,14.0,null,null,null,9.0,null,null,null,null,7.0,null,null,12.0,null,6.0,null,null,null,13.0,10.0,7.0,12.0,12.0,19.0,null,null,6.0,9.0,14.0,null,null,null,null,11.0,null,null,null,8.0,null,null,12.0,8.0,null,null,10.0,17.0,null,13.0,9.0,null,11.0,null,null,null,null,null,null,null,null,null,null,8.0,16.0,null,null,17.0,null,null,12.0,14.0,null,19.0,15.0,null,11.0,null,null,null,19.0,null,10.0,8.0,null,null,null,null,9.0,null,10.0,13.0,null,19.0,12.0,7.0,8.0,15.0,null,13.0,9.0,11.0,null,null,null,null,null,null,11.0,null,null,null,15.0,24.0,null,null,null,6.0,null,null,14.0,17.0,null,13.0,16.0,13.0,20.0,12.0,11.0,22.0,null,15.0,10.0,15.0,16.0,null,null,null,11.0,null,null,null,12.0,15.0,8.0,12.0,17.0,null,null,13.0,8.0,null,null,13.0,7.0,8.0,5.0,null,14.0,null,null,null,null,16.0,null,null,13.0,10.0,null,null,8.0,null,10.0,null,8.0,10.0,null,12.0,null,10.0,null,null,13.0,16.0,13.0,null,10.0,null,7.0,null,null,null,14.0,null,null,10.0,13.0,null,9.0,23.0,12.0,null,null,null,13.0,null,null,22.0,null,null,null,11.0,9.0,null,null,10.0,8.0,null,null,null,null,null,null,null,null,null,15.0,null,17.0,9.0,null,12.0,10.0,null,null,null,null,null,null,8.0,null,12.0,17.0,17.0,null,18.0,null,14.0,11.0,14.0,12.0,null,11.0,null,null,null,12.0,null,7.0,null,null,23.0,14.0,null,25.0,13.0,13.0,4.0,13.0,null,null,11.0,null,14.0,13.0,18.0,null,null,null,8.0,null,null,null,10.0,null,10.0,13.0,null,null,null,null,null,null,17.0,null,12.0,18.0,null,11.0,15.0,null,19.0,7.0,null,16.0,null,null,12.0,7.0,10.0,null,null,14.0,null,9.0,null,null,13.0,8.0,null,null,null,null,null,null,null,14.0,15.0,null,null,null,12.0,null,11.0,null,13.0,13.0,null,null,13.0,6.0,null,null,12.0,5.0,null,18.0,9.0,9.0,null,10.0,null,10.0,null,null,null,10.0,null,16.0,null,null,11.0,8.0,null,9.0,null,11.0,13.0,12.0,null,null,12.0,11.0,15.0,11.0,11.0,null,null,null,null,null,null,9.0,7.0,12.0,null,null,null,null,14.0,15.0,8.0,null,21.0,null,null,null,14.0,17.0,15.0,16.0,12.0,13.0,null,12.0,null,null,15.0,null,23.0,16.0,null,null,10.0,null,11.0,8.0,11.0,null,8.0,null,null,17.0,null,null,null,21.0,8.0,null,null,null,null,14.0,null,10.0,18.0,11.0,18.0,null,null,12.0,9.0,15.0,null,null,12.0,null,21.0,4.0,16.0,9.0,null,28.0,null,8.0,null,null,11.0,7.0,null,7.0,null,17.0,10.0,null,13.0,5.0,null,null,null,17.0,null,10.0,null,13.0,null,null,15.0,10.0,null,19.0,null,null,8.0,13.0,7.0,null,15.0,null,null,null,null,8.0,null,7.0,14.0,null,null,null,null,13.0,null,null,8.0,null,8.0,null,null,null,null,null,null,10.0,null,null,15.0,16.0,11.0,null,null,16.0,null,14.0,null,null,null,11.0,10.0,null,16.0,14.0,null,14.0,12.0,5.0,20.0,13.0,null,15.0,17.0,null,null,16.0,9.0,null,null,null,null,11.0,14.0,null,null,14.0,null,null,9.0,null,null,13.0,null,null,13.0,null,null,13.0,13.0,null,10.0,21.0,null,null,11.0,null,null,null,null,13.0,null,null,7.0,9.0,null,null,16.0,11.0,null,12.0,7.0,12.0,null,10.0,11.0,16.0,null,null,null,12.0,null,20.0,14.0,9.0,null,14.0,null,null,null,null,8.0,23.0,null,null,null,12.0,null,null,10.0,null,16.0,null,9.0,null,7.0,15.0,7.0,null,17.0,null,12.0,16.0,null,null,null,19.0,null,17.0,null,null,10.0,15.0,10.0,null,null,null,18.0,15.0,12.0,null,17.0,12.0,13.0,13.0,16.0,11.0,6.0,10.0,null,21.0,13.0,null,11.0,null,15.0,12.0,null,null,14.0,11.0,23.0,12.0,null,null,null,12.0,null,13.0,null,null,null,null,null,null,13.0,null,null,9.0,null,5.0,8.0,9.0,null,null,9.0,null,null,16.0,8.0,null,null,9.0,14.0,null,14.0,10.0,16.0,8.0,9.0,13.0,15.0,null,13.0,null,9.0,null,10.0,null,17.0,17.0,null,11.0,null,null,31.0,null,null,null,12.0,null,null,null,12.0,null,11.0,null,10.0,13.0,3.0,8.0,null,null,null,null,null,16.0,10.0,null,12.0,12.0,null,14.0,null,null,20.0,8.0,null,null,12.0,null,null,null,null,12.0,null,11.0,null,null,17.0,7.0,11.0,null,null,8.0,null,null,12.0,null,null,16.0,17.0,15.0,null,null,null,13.0,null,9.0,null,10.0,10.0,17.0,18.0,14.0,10.0,null,10.0,9.0,16.0,10.0,null,null,9.0,null,null,17.0,null,null,14.0,10.0,17.0,10.0,12.0,18.0,19.0,18.0,null,8.0,null,9.0,null,9.0,null,null,14.0,null,9.0,null,null,null,null,null,17.0,null,null,13.0,null,null,null,12.0,null,null,null,9.0,9.0,null,null,null,null,19.0,16.0,null,null,21.0,6.0,null,null,16.0,8.0,10.0,10.0,null,null,12.0,2.0,null,null,null,null,11.0,null,null,null,13.0,9.0,null,null,12.0,null,null,12.0,null,6.0,19.0,10.0,13.0,11.0,null,null,null,12.0,null,null,null,12.0,null,null,null,null,5.0,9.0,11.0,9.0,null,6.0,17.0,null,null,7.0,null,null,17.0,null,14.0,10.0,15.0,15.0,18.0,null,18.0,null,null,null,null,null,9.0,14.0,12.0,null,9.0,null,10.0,null,null,12.0,null,null,12.0,null,11.0,14.0,null,null,7.0,null,null,12.0,null,null,null,null,20.0,null,null,7.0,9.0,null,null,null,15.0,null,null,17.0,null,null,null,null,16.0,null,null,null,null,13.0,3.0,null,10.0,14.0,null,null,null,10.0,null,null,null,null,null,null,null,11.0,null,null,null,11.0,null,null,16.0,null,11.0,null,null,null,13.0,null,null,null,14.0,null,14.0,null,null,null,null,null,13.0,null,11.0,null,null,12.0,13.0,null,11.0,null,13.0,12.0,7.0,null,null,16.0,18.0,17.0,13.0,10.0,13.0,null,null,null,10.0,null,null,null,12.0,null,13.0,4.0,null,13.0,null,12.0,null,14.0,13.0,null,6.0,10.0,null,9.0,null,12.0,null,14.0,12.0,null,9.0,14.0,null,7.0,null,null,null,17.0,null,null,null,11.0,16.0,null,15.0,17.0,null,16.0,10.0,null,13.0,10.0,null,null,null,null,16.0,21.0,9.0,11.0,10.0,8.0,null,null,10.0,null,8.0,null,null,9.0,null,9.0,5.0,null,15.0,14.0,null,null,null,null,null,10.0,null,null,13.0,null,null,null,12.0,null,null,17.0,null,null,null,10.0,23.0,null,null,null,11.0,7.0,15.0,16.0,null,14.0,14.0,null,null,null,5.0,null,11.0,null,null,14.0,null,null,null,null,7.0,12.0,null,8.0,11.0,null,null,10.0,9.0,17.0,null,null,21.0,9.0,null,null,14.0,10.0,null,10.0,null,null,16.0,12.0,14.0,null,null,11.0,null,null,17.0,18.0,null,20.0,null,null,null,null,16.0,null,null,null,16.0,10.0,13.0,null,9.0,5.0,11.0,null,null,null,19.0,null,null,14.0,null,null,17.0,11.0,9.0,7.0,12.0,14.0,null,null,9.0,12.0,null,17.0,17.0,null,null,17.0,null,9.0,null,15.0,null,9.0,null,null,9.0,15.0,null,null,9.0,null,12.0,null,14.0,15.0,null,12.0,null,14.0,13.0,12.0,5.0,null,10.0,9.0,10.0,13.0,15.0,10.0,null,4.0,null,null,null,11.0,null,null,12.0,11.0,16.0,10.0,13.0,9.0,null,null,null,null,null,null,null,11.0,12.0,12.0,13.0,10.0,null,12.0,null,9.0,null,9.0,11.0,13.0,11.0,12.0,12.0,8.0,null,null,16.0,8.0,null,16.0,null,null,11.0,14.0,null,null,12.0,7.0,11.0,20.0,null,8.0,10.0,null,17.0,null,11.0,13.0,null,14.0,16.0,null,12.0,null,8.0,16.0,null,null,9.0,null,11.0,null,16.0,6.0,17.0,11.0,18.0,null,null,11.0,null,null,null,null,null,null,null,null,10.0,20.0,null,15.0,null,11.0,null,13.0,null,null,null,null,null,13.0,null,11.0,13.0,null,10.0,17.0,null,7.0,null,null,null,20.0,null,13.0,null,15.0,6.0,null,null,8.0,null,null,null,null,13.0,14.0,9.0,null,null,null,13.0,null,18.0,12.0,null,12.0,null,9.0,12.0,null,null,null,8.0,null,13.0,14.0,10.0,null,null,15.0,11.0,null,null,null,null,11.0,null,14.0,null,null,null,8.0,null,null,null,11.0,17.0,12.0,null,6.0,6.0,null,null,null,12.0,null,null,null,null,null,6.0,null,null,null,null,null,null,null,16.0,11.0,null,11.0,6.0,null,null,null,null,16.0,16.0,null,null,13.0,null,15.0,17.0,16.0,null,null,null,null,null,null,14.0,7.0,7.0,21.0,18.0,null,null,18.0,null,null,12.0,null,null,11.0,null,8.0,13.0,null,11.0,11.0,null,null,6.0,11.0,10.0,16.0,null,null,null,null,8.0,9.0,null,null,null,8.0,23.0,12.0,null,null,null,12.0,null,null,8.0,12.0,16.0,6.0,9.0,null,null,7.0,null,null,null,16.0,9.0,18.0,null,null,null,null,null,null,10.0,12.0,16.0,null,null,null,6.0,10.0,null,null,9.0,12.0,12.0,15.0,null,null,null,null,null,14.0,null,18.0,null,null,null,null,10.0,null,13.0,null,null,8.0,12.0,null,null,null,null,14.0,14.0,11.0,6.0,null,null,9.0,15.0,9.0,3.0,null,10.0,null,null,9.0,10.0,null,9.0,null,null,null,6.0,null,null,null,null,13.0,null,null,null,null,11.0,10.0,8.0,null,19.0,14.0,null,null,null,null,null,null,13.0,null,9.0,9.0,10.0,null,null,null,null,14.0,null,null,null,13.0,8.0,null,null,11.0,null,17.0,15.0,null,null,null,null,11.0,13.0,null,10.0,null,9.0,null,null,10.0,null,null,null,null,null,14.0,null,9.0,13.0,15.0,null,null,null,null,11.0,11.0,null,null,9.0,null,null,15.0,16.0,null,null,null,null,15.0,null,15.0,null,null,10.0,null,null,15.0,11.0,null,null,8.0,8.0,15.0,null,10.0,8.0,11.0,null,14.0,14.0,null,null,14.0,9.0,17.0,null,7.0,null,11.0,10.0,null,null,null,null,16.0,null,null,null,null,null,null,11.0,11.0,null,14.0,null,7.0,null,19.0,null,6.0,null,null,17.0,null,null,null,null,null,null,null,14.0,null,null,null,null,17.0,18.0,13.0,null,8.0,null,null,null,9.0,14.0,19.0,null,null,8.0,null,null,null,null,10.0,null,13.0,6.0,13.0,null,null,null,17.0,null,12.0,14.0,17.0,7.0,null,12.0,null,null,12.0,5.0,18.0,18.0,10.0,null,null,6.0,10.0,19.0,null,9.0,16.0,9.0,8.0,null,null,null,null,4.0,7.0,null,8.0,null,null,16.0,12.0,null,null,null,null,null,8.0,8.0,null,null,null,15.0,null,null,null,null,16.0,null,9.0,11.0,8.0,null,5.0,11.0,11.0,null,13.0,11.0,5.0,21.0,null,12.0,18.0,null,null,10.0,5.0,null,6.0,null,null,null,null,16.0,11.0,10.0,null,11.0,null,10.0,null,7.0,10.0,11.0,10.0,10.0,11.0,null,null,15.0,16.0,16.0,20.0,null,14.0,null,null,16.0,13.0,null,7.0,null,null,12.0,null,null,null,null,null,null,16.0,null,null,null,null,10.0,10.0,null,null,null,17.0,20.0,null,null,null,4.0,null,null,null,10.0,6.0,5.0,6.0,null,15.0,null,null,null,4.0,null,11.0,null,6.0,9.0,8.0,null,19.0,null,null,9.0,16.0,12.0,11.0,15.0,null,17.0,null,null,6.0,null,13.0,null,null,null,12.0,13.0,9.0,null,null,12.0,15.0,null,null,13.0,11.0,null,8.0,null,8.0,null,null,4.0,null,null,null,null,null,null,null,null,11.0,null,19.0,null,null,null,null,12.0,null,11.0,null,null,null,null,null,8.0,20.0,null,null,11.0,null,null,9.0,null,9.0,null,null,null,null,null,null,null,null,null,6.0,null,19.0,15.0,null,null,null,null,null,null,7.0,null,null,null,null,3.0,null,null,11.0,null,null,null,16.0,11.0,13.0,12.0,null,15.0,14.0,null,null,null,10.0,16.0,12.0,null,null,null,null,null,null,11.0,null,null,null,null,null,12.0,11.0,7.0,null,13.0,3.0,7.0,13.0,null,3.0,13.0,21.0,16.0,null,null,9.0,9.0,13.0,12.0,null,null,10.0,null,15.0,null,15.0,null,null,10.0,null,null,15.0,9.0,11.0,null,9.0,19.0,11.0,null,null,null,11.0,null,null,13.0,null,8.0,null,7.0,null,null,null,null,9.0,13.0,25.0,10.0,null,null,11.0,null,null,null,8.0,9.0,null,null,null,12.0,null,11.0,null,null,9.0,null,10.0,8.0,null,null,3.0,9.0,17.0,null,20.0,null,null,11.0,null,null,null,null,null,13.0,10.0,null,9.0,null,null,6.0,null,13.0,null,12.0,8.0,11.0,9.0,12.0,null,6.0,null,15.0,8.0,9.0,12.0,null,13.0,13.0,10.0,9.0,null,11.0,19.0,null,null,9.0,null,null,null,12.0,13.0,14.0,14.0,null,null,12.0,null,null,null,null,null,4.0,null,null,9.0,null,11.0,7.0,null,8.0,9.0,15.0,null,null,12.0,null,11.0,14.0,11.0,null,null,17.0,15.0,null,null,12.0,null,null,null,null,null,9.0,null,null,null,9.0,10.0,null,11.0,null,12.0,9.0,15.0,15.0,23.0,null,null,null,9.0,null,null,null,null,15.0,10.0,4.0,7.0,null,null,12.0,null,null,null,null,11.0,12.0,null,9.0,11.0,null,null,12.0,8.0,9.0,12.0,null,12.0,11.0,null,null,null,14.0,null,null,null,17.0,13.0,11.0,10.0,null,9.0,13.0,20.0,null,8.0,8.0,12.0,null,null,null,15.0,null,null,13.0,12.0,12.0,17.0,null,16.0,10.0,null,null,11.0,10.0,11.0,null,null,null,10.0,11.0,12.0,null,null,16.0,null,null,8.0,null,null,16.0,11.0,21.0,5.0,null,10.0,12.0,11.0,null,14.0,8.0,20.0,8.0,11.0,20.0,null,6.0,28.0,null,13.0,8.0,10.0,6.0,null,null,11.0,18.0,11.0,15.0,null,null,10.0,null,null,13.0,null,9.0,null,8.0,null,12.0,null,22.0,null,null,null,null,17.0,12.0,13.0,null,7.0,19.0,null,null,10.0,7.0,null,null,17.0,11.0,18.0,21.0,null,null,null,null,null,null,14.0,11.0,null,15.0,null,8.0,null,null,22.0,18.0,null,15.0,8.0,null,null,null,null,5.0,14.0,null,13.0,null,6.0,null,10.0,null,null,null,11.0,13.0,null,17.0,null,null,null,11.0,11.0,11.0,null,11.0,8.0,null,null,14.0,17.0,null,12.0,null,16.0,null,14.0,null,null,9.0,null,15.0,null,11.0,null,17.0,null,null,4.0,15.0,13.0,15.0,null,20.0,null,5.0,10.0,10.0,null,6.0,9.0,null,null,null,null,null,11.0,null,null,null,null,7.0,null,null,null,null,12.0,6.0,13.0,11.0,12.0,9.0,13.0,null,null,12.0,10.0,15.0,15.0,8.0,8.0,7.0,19.0,13.0,null,19.0,null,null,21.0,null,null,null,14.0,null,null,null,4.0,6.0,13.0,null,9.0,null,14.0,null,11.0,null,25.0,12.0,12.0,7.0,null,null,null,null,8.0,9.0,null,null,null,null,12.0,null,9.0,11.0,14.0,16.0,null,null,12.0,null,null,12.0,null,12.0,14.0,null,null,17.0,9.0,null,null,null,null,null,null,11.0,13.0,null,9.0,null,null,21.0,14.0,null,null,7.0,null,null,null,22.0,9.0,null,13.0,null,10.0,null,null,12.0,11.0,14.0,null,null,16.0,null,9.0,null,null,null,null,null,12.0,13.0,null,null,15.0,null,10.0,16.0,null,null,null,14.0,13.0,null,null,5.0,null,8.0,null,13.0,null,null,11.0,null,null,null,null,null,14.0,null,null,12.0,11.0,null,10.0,8.0,null,null,null,null,16.0,19.0,6.0,null,null,7.0,null,null,null,null,null,11.0,9.0,null,null,null,null,11.0,22.0,13.0,14.0,null,null,11.0,16.0,null,8.0,null,null,null,17.0,12.0,null,null,null,9.0,16.0,null,11.0,null,null,null,18.0,null,16.0,null,10.0,19.0,null,null,null,null,18.0,null,9.0,20.0,null,10.0,null,18.0,null,null,14.0,8.0,12.0,21.0,null,15.0,14.0,5.0,17.0,11.0,null,null,10.0,null,null,null,9.0,null,null,null,null,null,14.0,18.0,null,12.0,null,null,12.0,null,13.0,null,14.0,null,13.0,7.0,null,7.0,8.0,null,11.0,11.0,null,7.0,null,null,null,16.0,14.0,null,null,null,11.0,null,12.0,null,11.0,null,null,null,null,12.0,13.0,null,null,12.0,9.0,null,null,null,8.0,null,null,null,null,3.0,null,null,12.0,null,19.0,13.0,11.0,null,null,null,null,null,null,null,null,null,9.0,null,11.0,18.0,11.0,null,null,null,13.0,null,null,19.0,null,null,null,null,8.0,11.0,15.0,12.0,null,7.0,12.0,17.0,14.0,5.0,null,14.0,null,null,null,10.0,null,null,null,null,8.0,null,null,null,null,5.0,12.0,15.0,10.0,null,12.0,11.0,null,14.0,null,null,null,14.0,7.0,null,17.0,null,13.0,null,null,16.0,11.0,null,5.0,null,17.0,null,5.0,null,7.0,null,null,19.0,19.0,null,null,null,11.0,null,10.0,9.0,null,null,19.0,7.0,12.0,null,13.0,null,10.0,10.0,12.0,14.0,null,null,16.0,null,7.0,null,11.0,8.0,15.0,null,null,null,15.0,7.0,13.0,12.0,10.0,21.0,12.0,14.0,null,11.0,10.0,10.0,null,12.0,null,10.0,null,null,null,null,7.0,null,5.0,13.0,null,16.0,null,null,10.0,null,11.0,null,null,15.0,11.0,14.0,6.0,null,null,null,null,9.0,null,null,10.0,12.0,null,null,12.0,11.0,13.0,null,9.0,null,9.0,15.0,11.0,19.0,9.0,null,null,null,null,17.0,6.0,null,8.0,null,null,6.0,9.0,null,null,12.0,15.0,10.0,null,12.0,null,9.0,null,null,null,8.0,10.0,null,null,null,null,null,null,8.0,null,null,null,null,null,null,7.0,null,14.0,null,null,null,null,12.0,null,14.0,null,null,11.0,13.0,4.0,11.0,5.0,null,null,11.0,null,null,null,5.0,null,null,null,null,null,null,null,null,16.0,8.0,null,null,null,5.0,17.0,null,null,10.0,10.0,12.0,null,null,null,null,null,11.0,null,null,null,null,8.0,17.0,11.0,null,13.0,12.0,12.0,9.0,null,null,21.0,null,null,11.0,null,null,null,null,null,11.0,9.0,8.0,14.0,null,null,10.0,12.0,16.0,null,2.0,null,9.0,12.0,null,17.0,16.0,null,17.0,10.0,7.0,null,19.0,null,12.0,null,null,null,12.0,15.0,12.0,10.0,null,16.0,10.0,11.0,null,null,null,8.0,null,null,14.0,null,16.0,null,null,10.0,null,9.0,7.0,13.0,null,8.0,10.0,null,15.0,null,null,20.0,null,9.0,19.0,null,12.0,null,16.0,null,8.0,null,6.0,16.0,null,null,null,null,10.0,null,7.0,8.0,null,14.0,11.0,null,null,null,null,null,null,12.0,null,null,null,null,7.0,null,null,11.0,null,null,6.0,8.0,12.0,10.0,13.0,14.0,8.0,null,null,null,9.0,13.0,13.0,null,null,null,8.0,null,7.0,12.0,10.0,10.0,12.0,null,null,13.0,null,null,10.0,null,null,null,null,8.0,null,8.0,null,8.0,null,null,null,17.0,null,null,null,11.0,19.0,null,null,null,null,8.0,null,null,null,null,null,8.0,null,14.0,null,12.0,18.0,13.0,7.0,null,null,14.0,null,null,14.0,11.0,null,null,8.0,null,null,null,null,null,null,12.0,11.0,11.0,null,13.0,5.0,4.0,null,null,10.0,12.0,null,15.0,null,7.0,8.0,8.0,null,null,15.0,9.0,null,9.0,null,14.0,null,null,null,null,8.0,null,null,9.0,11.0,null,null,23.0,null,null,11.0,null,null,null,null,15.0,null,14.0,null,null,null,null,13.0,12.0,null,4.0,11.0,18.0,6.0,null,null,null,11.0,12.0,null,null,null,18.0,null,null,23.0,null,null,11.0,11.0,null,10.0,null,13.0,20.0,null,13.0,null,5.0,null,null,null,null,null,16.0,null,null,15.0,null,null,12.0,11.0,11.0,13.0,10.0,null,null,9.0,4.0,15.0,null,14.0,null,null,null,10.0,null,null,10.0,null,null,21.0,11.0,null,10.0,null,null,null,null,null,null,13.0,9.0,null,null,9.0,null,13.0,null,null,11.0,null,null,12.0,null,2.0,null,null,null,null,18.0,null,null,14.0,9.0,10.0,13.0,15.0,null,9.0,null,null,null,null,5.0,null,null,15.0,12.0,15.0,null,null,null,10.0,12.0,13.0,null,null,null,12.0,null,18.0,13.0,11.0,null,4.0,13.0,null,16.0,12.0,7.0,11.0,null,null,null,12.0,null,null,null,null,null,null,null,14.0,12.0,null,null,6.0,14.0,null,null,6.0,null,12.0,null,5.0,null,22.0,null,null,null,11.0,9.0,null,null,9.0,11.0,9.0,null,null,null,null,null,null,null,6.0,7.0,9.0,null,9.0,null,null,9.0,null,null,11.0,8.0,null,null,null,null,null,null,null,10.0,11.0,10.0,null,null,null,null,null,null,8.0,null,10.0,null,9.0,null,null,9.0,7.0,null,null,null,null,11.0,16.0,7.0,19.0,12.0,20.0,8.0,20.0,null,null,null,8.0,null,null,14.0,null,16.0,21.0,7.0,17.0,6.0,11.0,null,null,15.0,null,13.0,null,null,11.0,null,null,null,null,15.0,15.0,null,10.0,null,10.0,null,12.0,13.0,12.0,10.0,10.0,9.0,null,14.0,14.0,null,null,14.0,12.0,null,null,17.0,null,null,null,15.0,13.0,null,null,null,17.0,null,25.0,6.0,11.0,null,null,null,21.0,null,null,16.0,12.0,null,11.0,null,null,null,null,null,12.0,null,11.0,11.0,null,10.0,null,null,null,null,10.0,null,null,null,16.0,17.0,null,8.0,14.0,15.0,8.0,null,9.0,9.0,null,null,10.0,null,null,15.0,null,18.0,10.0,null,null,null,null,13.0,null,null,null,15.0,null,8.0,6.0,null,null,null,11.0,7.0,15.0,17.0,null,10.0,15.0,null,null,16.0,null,null,16.0,null,null,null,null,null,13.0,null,7.0,null,null,16.0,7.0,null,11.0,null,10.0,8.0,14.0,10.0,7.0,10.0,null,null,6.0,10.0,13.0,null,null,10.0,null,null,4.0,5.0,null,null,17.0,null,null,9.0,11.0,null,null,6.0,11.0,null,16.0,null,20.0,11.0,null,null,9.0,16.0,null,null,null,13.0,9.0,14.0,null,13.0,16.0,null,null,16.0,16.0,13.0,13.0,11.0,11.0,null,9.0,null,null,null,null,null,null,13.0,null,11.0,null,11.0,null,null,null,null,12.0,null,null,9.0,22.0,13.0,19.0,null,14.0,10.0,null,12.0,null,null,null,null,null,null,15.0,null,10.0,null,10.0,null,null,null,17.0,null,null,null,null,5.0,null,null,null,null,null,9.0,12.0,null,11.0,null,15.0,null,null,null,13.0,7.0,null,16.0,null,null,null,null,11.0,15.0,7.0,null,null,8.0,null,12.0,22.0,null,null,9.0,null,null,null,null,8.0,null,null,null,null,null,null,2.0,null,null,null,null,16.0,4.0,23.0,null,null,null,null,17.0,11.0,null,null,null,null,null,6.0,9.0,null,null,null,null,17.0,null,10.0,null,12.0,null,11.0,8.0,null,null,17.0,13.0,null,20.0,null,9.0,6.0,null,null,null,null,null,1.0,null,null,null,15.0,11.0,null,null,15.0,null,null,null,null,11.0,null,null,null,null,10.0,null,11.0,null,12.0,null,13.0,null,13.0,null,15.0,14.0,null,13.0,null,null,14.0,null,12.0,19.0,16.0,null,8.0,null,null,5.0,11.0,null,null,null,null,null,null,null,null,8.0,14.0,null,null,13.0,18.0,null,null,null,null,null,null,17.0,15.0,15.0,8.0,12.0,null,11.0,null,9.0,null,null,null,null,null,6.0,null,9.0,null,5.0,6.0,null,10.0,null,null,null,null,null,null,13.0,null,9.0,null,14.0,16.0,null,null,null,9.0,16.0,null,20.0,9.0,null,null,null,null,null,null,null,7.0,null,16.0,12.0,19.0,null,null,null,null,null,null,null,9.0,10.0,10.0,9.0,14.0,5.0,6.0,13.0,null,10.0,null,null,11.0,null,8.0,null,6.0,null,null,null,null,14.0,9.0,7.0,13.0,null,null,null,15.0,null,null,null,13.0,null,7.0,6.0,18.0,13.0,null,null,14.0,null,14.0,14.0,8.0,8.0,15.0,17.0,9.0,15.0,null,8.0,null,null,10.0,10.0,15.0,null,11.0,14.0,null,null,null,null,null,null,11.0,null,null,null,9.0,10.0,null,null,null,null,14.0,null,null,null,13.0,12.0,null,null,12.0,10.0,9.0,null,null,13.0,12.0,null,null,null,null,14.0,8.0,19.0,null,12.0,12.0,15.0,null,null,null,null,null,null,11.0,null,25.0,9.0,null,null,18.0,15.0,16.0,null,null,11.0,16.0,8.0,11.0,13.0,null,null,null,16.0,null,11.0,15.0,null,null,null,null,null,null,null,null,null,8.0,null,null,null,null,11.0,null,null,12.0,null,null,7.0,null,null,null,null,null,null,null,5.0,10.0,null,null,11.0,7.0,null,15.0,null,10.0,null,null,8.0,11.0,null,null,null,null,null,null,11.0,11.0,null,null,null,12.0,18.0,null,8.0,null,null,9.0,20.0,null,null,15.0,null,null,null,null,10.0,null,null,null,12.0,null,15.0,11.0,null,14.0,null,null,7.0,null,null,7.0,12.0,null,null,18.0,12.0,null,null,null,null,null,null,null,12.0,12.0,10.0,17.0,null,null,null,null,8.0,null,null,null,12.0,16.0,null,null,null,15.0,13.0,null,null,null,21.0,null,null,null,null,null,10.0,18.0,8.0,null,6.0,null,27.0,null,null,null,4.0,null,null,6.0,null,null,null,null,10.0,null,null,13.0,null,null,null,null,5.0,20.0,17.0,null,null,13.0,null,null,null,null,11.0,11.0,17.0,6.0,15.0,7.0,null,null,null,10.0,null,9.0,null,null,12.0,null,21.0,null,null,null,null,null,9.0,null,null,14.0,null,12.0,16.0,null,15.0,8.0,11.0,null,null,null,18.0,11.0,18.0,null,null,9.0,null,null,null,3.0,null,null,13.0,null,9.0,null,9.0,null,null,7.0,null,9.0,14.0,null,null,13.0,8.0,null,null,12.0,11.0,16.0,14.0,16.0,19.0,null,12.0,null,16.0,null,null,14.0,2.0,14.0,null,13.0,null,10.0,null,10.0,null,12.0,null,12.0,14.0,null,null,11.0,15.0,7.0,null,16.0,null,null,11.0,null,23.0,11.0,null,10.0,null,null,11.0,11.0,2.0,14.0,null,null,null,null,null,7.0,null,null,9.0,null,null,5.0,14.0,null,null,null,11.0,10.0,null,12.0,null,12.0,13.0,null,null,19.0,13.0,null,null,12.0,14.0,null,null,null,7.0,13.0,18.0,9.0,16.0,null,10.0,7.0,7.0,null,13.0,null,19.0,null,null,18.0,null,11.0,null,null,7.0,null,null,12.0,null,8.0,null,null,11.0,17.0,10.0,null,null,5.0,null,null,null,null,null,null,6.0,5.0,8.0,null,4.0,null,null,null,19.0,13.0,10.0,20.0,null,null,10.0,10.0,null,11.0,null,null,null,null,null,null,null,11.0,null,10.0,null,null,null,12.0,11.0,null,7.0,16.0,12.0,10.0,null,null,null,null,null,21.0,11.0,null,null,11.0,null,13.0,null,15.0,10.0,10.0,18.0,null,null,14.0,13.0,15.0,12.0,null,11.0,null,21.0,14.0,null,12.0,4.0,9.0,null,19.0,11.0,null,6.0,null,null,null,null,16.0,11.0,null,10.0,11.0,null,null,null,6.0,11.0,14.0,null,null,10.0,16.0,10.0,null,null,null,null,17.0,null,7.0,9.0,null,null,null,17.0,11.0,15.0,null,null,null,null,null,null,8.0,null,9.0,null,null,10.0,null,null,14.0,null,null,null,14.0,9.0,10.0,14.0,null,null,9.0,11.0,11.0,null,20.0,null,null,null,16.0,16.0,8.0,14.0,null,15.0,null,null,6.0,null,12.0,9.0,null,null,null,null,11.0,13.0,null,null,null,null,10.0,null,23.0,15.0,null,null,null,null,13.0,null,27.0,null,null,null,null,9.0,null,null,12.0,null,null,null,null,null,null,9.0,null,null,11.0,null,11.0,10.0,null,null,11.0,9.0,null,null,24.0,16.0,11.0,7.0,null,19.0,15.0,13.0,null,null,null,10.0,null,null,null,12.0,null,16.0,6.0,null,8.0,11.0,16.0,19.0,null,null,15.0,null,12.0,null,null,null,null,17.0,null,null,null,10.0,null,null,null,null,null,10.0,null,5.0,10.0,null,null,null,null,18.0,6.0,11.0,11.0,null,9.0,null,null,15.0,19.0,null,null,10.0,10.0,null,10.0,null,22.0,null,null,15.0,null,null,null,null,16.0,8.0,null,null,null,null,null,null,14.0,null,9.0,null,17.0,null,13.0,9.0,11.0,7.0,null,13.0,17.0,null,null,null,null,null,6.0,12.0,null,null,null,null,null,16.0,null,null,14.0,null,null,null,9.0,15.0,10.0,null,null,null,null,8.0,null,null,7.0,null,null,null,19.0,null,null,7.0,13.0,null,17.0,6.0,6.0,10.0,null,null,null,6.0,null,null,10.0,null,18.0,null,null,9.0,13.0,9.0,10.0,null,null,10.0,null,null,10.0,null,10.0,13.0,null,null,17.0,null,11.0,null,12.0,null,null,null,10.0,null,12.0,null,15.0,null,6.0,null,null,null,null,null,16.0,null,null,null,null,14.0,null,null,null,null,null,null,null,null,null,null,null,16.0,10.0,13.0,8.0,null,6.0,13.0,null,9.0,null,13.0,5.0,null,5.0,null,null,null,11.0,8.0,12.0,8.0,14.0,11.0,15.0,null,null,null,null,null,null,null,null,10.0,null,9.0,null,null,16.0,22.0,14.0,7.0,10.0,null,15.0,null,15.0,9.0,18.0,null,null,15.0,null,5.0,null,null,null,null,12.0,null,null,15.0,7.0,null,11.0,13.0,11.0,16.0,8.0,17.0,null,null,null,null,null,11.0,14.0,null,null,7.0,12.0,6.0,13.0,10.0,21.0,null,16.0,10.0,6.0,9.0,null,9.0,8.0,11.0,null,null,null,7.0,null,11.0,null,null,null,null,10.0,null,null,null,null,null,null,null,null,9.0,null,14.0,8.0,null,12.0,18.0,null,null,null,null,null,7.0,14.0,15.0,null,null,null,15.0,null,null,null,null,null,null,13.0,null,null,null,null,null,null,null,20.0,null,null,null,12.0,null,20.0,null,null,null,null,13.0,8.0,15.0,12.0,10.0,null,null,16.0,5.0,null,null,null,null,null,null,10.0,null,10.0,null,null,null,null,17.0,null,null,7.0,9.0,20.0,null,null,7.0,null,16.0,null,null,null,8.0,null,null,null,null,4.0,13.0,12.0,10.0,null,null,5.0,null,9.0,12.0,null,null,null,9.0,12.0,12.0,null,null,16.0,null,5.0,null,null,7.0,null,15.0,null,11.0,11.0,null,17.0,null,null,null,null,null,null,null,13.0,null,null,null,null,null,null,9.0,null,null,null,null,18.0,null,10.0,null,null,null,null,null,null,null,11.0,11.0,null,7.0,null,null,null,null,null,null,null,10.0,null,null,15.0,null,9.0,null,null,7.0,null,null,9.0,3.0,null,14.0,14.0,8.0,null,null,null,10.0,null,21.0,null,null,13.0,10.0,null,null,15.0,null,null,null,null,null,null,null,13.0,8.0,16.0,13.0,null,null,null,null,null,9.0,null,null,null,8.0,null,null,null,null,14.0,9.0,null,11.0,null,null,null,null,11.0,null,20.0,null,null,null,11.0,14.0,null,10.0,9.0,null,null,null,7.0,null,null,8.0,null,14.0,null,null,null,null,null,14.0,16.0,7.0,null,8.0,14.0,7.0,13.0,null,5.0,1.0,null,null,19.0,null,null,null,null,null,null,5.0,8.0,10.0,3.0,null,5.0,null,10.0,17.0,null,null,14.0,null,null,null,null,null,null,9.0,8.0,null,null,null,10.0,6.0,8.0,null,6.0,null,null,11.0,12.0,10.0,14.0,14.0,4.0,null,null,null,7.0,14.0,null,null,null,12.0,null,null,null,null,null,null,null,null,null,null,null,null,16.0,4.0,21.0,12.0,null,null,null,15.0,null,null,10.0,12.0,null,9.0,null,12.0,15.0,17.0,9.0,null,null,null,9.0,null,null,null,null,11.0,null,null,null,null,null,15.0,null,null,null,null,11.0,9.0,9.0,4.0,null,null,null,null,7.0,null,10.0,null,21.0,null,null,null,null,null,19.0,null,null,10.0,6.0,null,null,null,null,null,null,null,9.0,6.0,12.0,14.0,8.0,null,null,null,null,null,30.0,6.0,null,null,null,13.0,16.0,6.0,11.0,10.0,12.0,10.0,13.0,12.0,null,10.0,null,null,10.0,null,6.0,7.0,18.0,null,null,13.0,null,null,null,19.0,null,16.0,null,null,null,7.0,13.0,8.0,null,null,null,null,null,19.0,6.0,6.0,null,12.0,null,6.0,10.0,null,null,11.0,null,null,null,8.0,11.0,null,null,14.0,5.0,11.0,null,6.0,15.0,8.0,null,null,13.0,null,13.0,10.0,null,15.0,null,10.0,null,9.0,8.0,null,11.0,null,null,10.0,29.0,null,null,null,9.0,null,13.0,null,11.0,null,null,null,null,null,null,17.0,null,6.0,22.0,10.0,null,12.0,12.0,null,null,12.0,null,null,8.0,null,null,null,null,null,9.0,15.0,14.0,10.0,null,16.0,15.0,null,null,null,15.0,12.0,9.0,null,12.0,null,13.0,null,null,8.0,null,null,null,14.0,19.0,null,9.0,11.0,null,15.0,null,null,null,null,null,null,null,16.0,8.0,14.0,null,15.0,15.0,15.0,12.0,null,14.0,null,null,null,null,12.0,7.0,12.0,13.0,null,null,13.0,null,11.0,14.0,null,11.0,null,14.0,null,null,14.0,null,null,null,null,10.0,null,14.0,null,null,null,13.0,7.0,null,null,null,null,13.0,null,9.0,null,null,null,16.0,11.0,null,8.0,null,10.0,9.0,null,17.0,null,null,13.0,16.0,null,9.0,null,2.0,7.0,null,11.0,9.0,9.0,null,9.0,null,null,7.0,null,null,12.0,null,null,9.0,17.0,9.0,null,12.0,null,8.0,null,13.0,11.0,null,null,null,14.0,12.0,8.0,null,15.0,7.0,null,null,null,null,12.0,null,11.0,11.0,null,null,null,null,8.0,10.0,null,null,10.0,19.0,null,null,7.0,13.0,null,null,null,null,null,11.0,22.0,null,7.0,null,null,12.0,null,null,null,null,null,null,null,12.0,null,null,null,19.0,null,13.0,11.0,11.0,8.0,13.0,null,7.0,11.0,null,null,14.0,18.0,null,null,null,null,13.0,null,17.0,13.0,12.0,10.0,5.0,9.0,null,null,null,null,null,null,15.0,null,11.0,null,null,5.0,7.0,null,12.0,null,null,null,8.0,10.0,null,null,10.0,null,18.0,null,null,null,null,13.0,12.0,10.0,null,null,null,13.0,null,null,null,12.0,null,7.0,8.0,null,null,14.0,null,null,null,null,null,null,14.0,null,null,null,null,null,12.0,16.0,14.0,null,null,null,12.0,null,null,null,9.0,null,13.0,11.0,null,null,null,13.0,null,9.0,null,null,null,null,null,13.0,17.0,10.0,15.0,null,12.0,10.0,13.0,6.0,null,null,null,13.0,null,11.0,null,null,null,4.0,null,14.0,11.0,10.0,null,null,null,null,null,12.0,5.0,null,9.0,9.0,null,null,11.0,null,9.0,18.0,null,6.0,null,15.0,7.0,null,10.0,13.0,null,null,null,10.0,8.0,12.0,15.0,null,null,null,13.0,null,16.0,null,9.0,null,null,6.0,null,null,14.0,11.0,null,null,18.0,null,null,4.0,10.0,null,null,null,7.0,null,8.0,11.0,null,6.0,17.0,null,null,null,13.0,4.0,null,8.0,null,null,19.0,null,11.0,null,15.0,14.0,null,12.0,null,9.0,18.0,null,12.0,9.0,12.0,13.0,9.0,null,9.0,null,13.0,null,null,null,null,10.0,18.0,null,null,12.0,null,null,null,null,null,null,null,null,10.0,null,8.0,null,null,null,null,23.0,null,null,null,null,null,12.0,null,null,9.0,null,6.0,10.0,11.0,null,12.0,null,null,null,null,11.0,null,8.0,null,5.0,null,12.0,14.0,10.0,17.0,10.0,null,null,null,null,null,null,null,null,null,8.0,null,null,null,null,13.0,null,9.0,null,null,null,null,null,11.0,11.0,null,null,7.0,14.0,null,null,1.0,null,null,null,null,null,9.0,11.0,null,13.0,3.0,7.0,null,null,null,11.0,16.0,null,null,null,null,null,null,9.0,17.0,15.0,null,14.0,null,14.0,7.0,null,2.0,null,7.0,null,17.0,null,null,11.0,4.0,5.0,13.0,null,null,null,9.0,null,null,null,null,20.0,null,null,null,10.0,11.0,9.0,null,null,null,null,11.0,null,8.0,10.0,null,17.0,8.0,null,null,null,null,null,null,null,9.0,null,null,14.0,6.0,20.0,null,null,13.0,null,null,11.0,19.0,16.0,10.0,null,11.0,null,null,null,3.0,19.0,12.0,null,8.0,null,null,null,null,null,11.0,null,11.0,null,null,null,14.0,null,10.0,12.0,null,null,20.0,10.0,6.0,null,null,null,null,null,11.0,15.0,null,null,null,14.0,17.0,14.0,null,null,15.0,null,null,null,null,15.0,12.0,11.0,null,null,null,4.0,null,null,null,10.0,null,null,null,11.0,null,9.0,null,null,9.0,null,null,null,null,null,21.0,null,null,14.0,8.0,null,null,13.0,8.0,null,null,null,10.0,null,null,null,null,null,null,7.0,null,7.0,null,null,null,null,15.0,null,null,null,7.0,11.0,null,null,5.0,null,8.0,null,null,null,null,null,null,null,null,null,17.0,null,null,null,null,null,null,11.0,null,12.0,14.0,11.0,null,19.0,5.0,8.0,13.0,null,null,null,null,15.0,12.0,13.0,null,15.0,null,null,12.0,15.0,null,26.0,null,11.0,23.0,null,null,14.0,4.0,null,null,null,18.0,10.0,9.0,11.0,7.0,11.0,null,null,11.0,null,null,8.0,10.0,5.0,12.0,null,null,null,null,null,null,12.0,11.0,null,8.0,null,11.0,null,11.0,null,14.0,11.0,null,15.0,null,null,20.0,null,6.0,12.0,16.0,7.0,19.0,null,null,null,null,13.0,null,15.0,null,13.0,null,14.0,null,15.0,2.0,null,null,11.0,15.0,null,15.0,12.0,3.0,null,11.0,null,5.0,null,null,11.0,10.0,13.0,null,6.0,null,16.0,null,null,10.0,10.0,10.0,15.0,9.0,12.0,11.0,16.0,4.0,null,null,6.0,null,null,11.0,null,5.0,12.0,7.0,7.0,null,13.0,null,10.0,null,null,null,null,null,null,null,7.0,null,null,5.0,19.0,null,14.0,null,null,null,null,null,null,null,11.0,null,27.0,11.0,4.0,12.0,null,null,null,15.0,null,null,15.0,null,null,null,null,null,13.0,null,13.0,null,null,4.0,null,null,17.0,11.0,9.0,null,14.0,null,7.0,null,null,null,7.0,9.0,16.0,8.0,null,null,null,3.0,10.0,9.0,13.0,null,13.0,null,null,null,null,15.0,13.0,null,14.0,null,null,4.0,null,9.0,5.0,17.0,15.0,null,null,12.0,null,null,null,null,11.0,null,5.0,null,null,11.0,null,null,null,null,null,null,null,14.0,15.0,10.0,null,null,9.0,9.0,null,null,null,12.0,6.0,null,null,null,17.0,null,null,null,null,null,13.0,15.0,16.0,null,null,null,10.0,null,7.0,null,8.0,16.0,null,null,12.0,null,null,11.0,10.0,null,20.0,null,22.0,13.0,null,null,null,null,null,null,10.0,21.0,14.0,null,null,7.0,null,13.0,7.0,16.0,null,11.0,null,null,null,15.0,13.0,null,10.0,null,null,12.0,null,null,null,null,null,11.0,null,11.0,17.0,null,14.0,22.0,null,null,11.0,8.0,12.0,null,null,15.0,14.0,10.0,null,null,null,13.0,10.0,12.0,16.0,11.0,7.0,null,null,10.0,9.0,null,null,null,14.0,17.0,null,18.0,null,null,null,15.0,null,null,16.0,3.0,7.0,null,null,null,5.0,11.0,null,15.0,null,null,5.0,null,14.0,null,11.0,null,16.0,null,null,null,null,null,null,12.0,null,null,11.0,8.0,null,10.0,null,13.0,null,null,17.0,6.0,7.0,null,null,null,4.0,null,null,null,11.0,14.0,null,null,null,null,17.0,20.0,14.0,null,15.0,14.0,9.0,null,null,null,null,10.0,14.0,11.0,null,null,null,null,10.0,null,15.0,11.0,11.0,10.0,10.0,19.0,null,null,null,null,null,null,14.0,null,null,13.0,6.0,null,null,null,12.0,null,null,13.0,null,5.0,null,null,null,12.0,10.0,9.0,null,12.0,8.0,null,19.0,null,null,9.0,null,null,14.0,6.0,null,null,10.0,null,12.0,null,10.0,null,null,null,14.0,18.0,20.0,8.0,null,null,null,null,13.0,null,null,null,null,null,14.0,null,8.0,10.0,null,3.0,19.0,null,11.0,null,14.0,null,7.0,null,null,null,11.0,8.0,11.0,null,9.0,13.0,null,null,null,10.0,null,12.0,null,11.0,null,null,null,16.0,null,21.0,null,null,3.0,null,null,16.0,null,16.0,null,null,4.0,null,null,5.0,null,null,null,12.0,null,null,16.0,9.0,null,null,null,null,null,null,null,8.0,null,null,null,null,19.0,null,18.0,7.0,null,null,17.0,null,10.0,null,null,null,5.0,null,null,18.0,null,7.0,14.0,null,null,null,null,null,null,null,null,null,8.0,14.0,12.0,null,8.0,null,10.0,null,null,14.0,14.0,null,11.0,null,12.0,null,14.0,null,null,null,null,null,null,null,null,16.0,null,null,null,21.0,null,null,19.0,null,8.0,null,null,null,null,null,null,null,6.0,null,null,null,18.0,null,null,null,null,null,8.0,null,15.0,null,13.0,2.0,null,20.0,null,null,8.0,null,null,4.0,null,null,null,null,null,null,null,null,12.0,10.0,null,null,10.0,null,14.0,null,7.0,15.0,null,null,null,null,11.0,null,null,null,null,null,15.0,null,9.0,16.0,23.0,null,8.0,null,15.0,null,null,null,null,null,null,null,null,null,9.0,9.0,null,null,null,13.0,15.0,9.0,null,null,null,null,12.0,null,null,null,null,null,null,null,null,19.0,15.0,null,null,null,null,null,null,18.0,null,null,null,13.0,null,null,10.0,null,14.0,11.0,null,null,null,14.0,null,14.0,13.0,null,null,null,null,10.0,null,null,13.0,null,14.0,10.0,11.0,null,null,null,null,null,null,3.0,null,4.0,16.0,9.0,11.0,null,null,null,13.0,null,10.0,null,null,11.0,null,null,null,7.0,17.0,11.0,null,null,null,12.0,11.0,10.0,3.0,null,13.0,null,9.0,null,9.0,7.0,17.0,null,null,14.0,12.0,null,null,null,null,null,null,null,null,null,null,15.0,4.0,null,13.0,null,10.0,null,8.0,null,null,null,10.0,null,5.0,null,null,12.0,13.0,null,null,null,null,12.0,8.0,12.0,null,null,null,12.0,13.0,null,null,null,null,14.0,9.0,28.0,null,null,8.0,11.0,11.0,null,null,null,16.0,1.0,null,null,null,10.0,9.0,null,null,null,null,null,14.0,10.0,null,11.0,10.0,null,null,null,null,null,null,17.0,2.0,null,12.0,null,8.0,2.0,17.0,null,null,12.0,null,10.0,12.0,2.0,null,null,null,null,null,null,5.0,null,null,null,null,null,13.0,16.0,8.0,12.0,null,7.0,null,23.0,null,12.0,null,null,13.0,4.0,null,null,null,9.0,8.0,13.0,null,11.0,null,10.0,null,6.0,null,null,9.0,19.0,15.0,null,null,null,null,null,null,12.0,null,null,null,null,16.0,10.0,null,null,5.0,null,12.0,null,15.0,null,null,12.0,12.0,null,null,null,null,null,null,null,null,null,null,17.0,null,5.0,null,16.0,8.0,13.0,14.0,12.0,null,8.0,null,null,null,4.0,13.0,8.0,null,11.0,null,10.0,null,5.0,null,null,null,18.0,null,14.0,null,null,20.0,null,null,13.0,9.0,11.0,13.0,null,null,null,9.0,null,null,null,null,null,null,null,29.0,null,null,15.0,null,null,null,null,null,null,null,6.0,null,null,9.0,9.0,13.0,null,null,null,9.0,null,null,10.0,null,null,14.0,13.0,null,12.0,8.0,null,8.0,5.0,19.0,6.0,7.0,null,7.0,null,null,null,15.0,18.0,5.0,null,15.0,9.0,11.0,12.0,null,22.0,null,6.0,18.0,null,null,13.0,null,null,null,null,7.0,null,null,11.0,null,9.0,null,11.0,null,7.0,null,null,null,null,10.0,9.0,null,17.0,null,4.0,null,29.0,null,null,null,null,null,4.0,null,null,6.0,null,14.0,null,null,null,8.0,null,12.0,null,9.0,null,4.0,9.0,null,null,null,21.0,null,13.0,null,15.0,null,null,null,null,10.0,null,null,13.0,null,null,null,null,null,null,7.0,20.0,10.0,null,null,null,null,16.0,null,10.0,null,null,null,null,10.0,null,null,5.0,null,null,null,19.0,10.0,19.0,12.0,null,14.0,null,11.0,null,3.0,11.0,null,null,7.0,10.0,null,null,16.0,9.0,null,null,11.0,10.0,null,null,24.0,null,17.0,null,null,null,null,null,8.0,null,16.0,7.0,null,null,null,12.0,null,null,null,null,9.0,null,null,null,null,null,null,10.0,15.0,null,null,null,null,6.0,null,null,null,14.0,7.0,8.0,null,null,null,null,18.0,9.0,null,null,null,13.0,3.0,null,12.0,19.0,null,null,null,null,20.0,14.0,null,null,null,null,null,1.0,null,9.0,10.0,null,19.0,null,null,null,null,null,null,null,null,null,18.0,6.0,11.0,12.0,null,null,11.0,null,12.0,9.0,null,null,null,14.0,null,18.0,null,null,null,15.0,null,null,13.0,13.0,null,null,null,9.0,null,null,null,null,null,13.0,null,6.0,null,null,null,null,null,9.0,null,14.0,13.0,15.0,13.0,null,null,null,11.0,8.0,11.0,null,null,11.0,18.0,null,null,null,null,null,null,null,23.0,null,null,9.0,null,null,17.0,null,null,7.0,null,null,null,null,null,16.0,24.0,null,null,12.0,null,14.0,null,25.0,15.0,null,null,null,null,15.0,null,null,14.0,17.0,null,null,null,16.0,11.0,null,null,null,null,14.0,null,null,null,null,null,11.0,null,null,null,null,null,null,10.0,9.0,null,null,null,null,null,null,null,15.0,17.0,null,null,null,6.0,null,null,null,null,null,null,null,11.0,14.0,null,null,null,20.0,12.0,null,7.0,10.0,18.0,12.0,null,null,null,null,20.0,11.0,null,null,null,null,9.0,12.0,null,20.0,null,null,17.0,null,null,null,null,null,null,null,null,18.0,null,null,null,10.0,null,null,10.0,null,null,null,null,null,null,8.0,null,null,4.0,10.0,null,14.0,8.0,17.0,null,null,null,10.0,5.0,12.0,null,null,null,null,10.0,null,null,null,22.0,null,13.0,null,null,13.0,13.0,12.0,7.0,null,null,null,6.0,null,null,null,null,18.0,null,null,null,null,null,null,null,null,null,10.0,null,null,14.0,null,null,16.0,null,null,null,4.0,15.0,null,8.0,1.0,null,null,null,null,9.0,null,12.0,null,null,4.0,null,6.0,null,9.0,null,null,null,null,null,null,null,null,14.0,16.0,11.0,15.0,null,null,null,8.0,null,null,null,11.0,null,8.0,null,null,null,8.0,null,null,null,null,null,null,null,7.0,7.0,null,null,17.0,13.0,null,10.0,null,null,null,null,null,null,null,null,null,3.0,9.0,null,25.0,6.0,13.0,13.0,null,14.0,10.0,21.0,null,null,null,null,8.0,null,null,null,null,7.0,11.0,7.0,null,null,null,null,26.0,null,13.0,13.0,21.0,14.0,null,10.0,5.0,null,null,null,10.0,null,5.0,null,null,15.0,null,null,13.0,null,null,null,null,13.0,6.0,9.0,null,null,null,13.0,null,null,null,null,null,null,null,null,null,8.0,null,null,null,7.0,null,12.0,null,null,null,11.0,8.0,13.0,18.0,16.0,null,null,16.0,10.0,12.0,null,null,null,15.0,null,null,null,8.0,6.0,null,9.0,16.0,null,null,12.0,null,null,9.0,null,8.0,6.0,null,null,null,null,11.0,9.0,null,null,null,null,null,7.0,null,null,null,10.0,null,null,null,null,16.0,null,null,null,null,null,null,null,null,null,12.0,null,10.0,10.0,12.0,null,13.0,null,null,null,21.0,null,7.0,null,null,null,null,null,null,null,11.0,null,17.0,null,14.0,3.0,null,null,null,null,22.0,null,21.0,14.0,17.0,null,null,null,null,null,null,null,null,null,19.0,7.0,null,null,14.0,null,null,18.0,12.0,null,null,8.0,null,null,null,null,12.0,19.0,null,null,null,3.0,11.0,null,null,null,7.0,null,null,11.0,null,11.0,null,null,null,null,null,null,null,null,null,14.0,null,null,null,null,null,9.0,16.0,null,null,null,12.0,null,18.0,null,null,null,null,13.0,null,12.0,10.0,null,null,null,null,null,null,null,null,15.0,null,null,null,null,null,null,null,11.0,null,9.0,11.0,null,null,null,null,15.0,null,null,12.0,9.0,null,null,null,7.0,9.0,null,11.0,null,null,18.0,8.0,9.0,14.0,4.0,null,null,null,null,null,null,null,null,null,10.0,12.0,7.0,null,null,null,null,null,null,11.0,null,null,2.0,null,null,null,null,null,9.0,null,14.0,null,null,3.0,null,null,12.0,11.0,7.0,null,null,7.0,null,null,null,null,null,null,9.0,null,null,null,null,null,null,null,5.0,null,null,null,12.0,null,7.0,null,null,null,13.0,5.0,9.0,null,null,18.0,14.0,null,4.0,null,null,22.0,null,13.0,21.0,26.0,9.0,null,null,7.0,11.0,null,null,null,9.0,null,7.0,null,null,null,null,12.0,11.0,null,1.0,null,null,null,null,null,null,3.0,8.0,16.0,null,null,9.0,null,null,null,null,13.0,null,null,13.0,12.0,null,8.0,null,null,null,null,18.0,7.0,6.0,null,null,null,null,null,null,10.0,6.0,null,2.0,11.0,null,null,null,10.0,2.0,null,null,3.0,null,null,null,null,null,12.0,null,null,null,null,null,4.0,null,null,null,null,null,null,null,13.0,null,15.0,null,7.0,16.0,null,null,null,14.0,null,7.0,12.0,6.0,null,null,5.0,11.0,null,null,11.0,6.0,null,null,null,6.0,null,19.0,null,17.0,null,10.0,null,9.0,null,15.0,null,null,10.0,null,null,3.0,null,null,null,null,9.0,16.0,null,null,null,null,14.0,7.0,null,11.0,null,5.0,15.0,null,null,11.0,null,null,null,null,null,null,null,null,null,null,null,null,12.0,null,9.0,null,null,1.0,2.0,11.0,null,7.0,null,11.0,3.0,null,null,null,3.0,6.0,null,6.0,null,4.0,null,10.0,27.0,null,null,12.0,null,8.0,6.0,null,null,null,null,null,9.0,null,null,11.0,21.0,null,12.0,null,null,18.0,10.0,10.0,null,null,14.0,null,17.0,3.0,null,11.0,null,8.0,null,null,null,null,null,null,null,null,14.0,null,null,null,null,null,null,null,null,12.0,null,6.0,10.0,null,null,4.0,11.0,null,null,null,17.0,null,null,null,11.0,null,null,null,null,8.0,16.0,null,null,null,null,null,21.0,null,null,2.0,null,null,5.0,null,null,null,null,null,13.0,null,null,null,15.0,null,8.0,7.0,null,null,null,11.0,null,null,14.0,8.0,null,10.0,9.0,null,6.0,null,9.0,12.0,null,null,null,null,null,null,null,null,14.0,null,null,null,null,null,null,null,23.0,7.0,null,6.0,null,18.0,null,null,null,null,6.0,11.0,null,7.0,null,null,9.0,null,12.0,null,null,null,null,null,2.0,null,12.0,null,null,13.0,13.0,null,null,9.0,9.0,null,15.0,null,null,null,null,4.0,12.0,null,null,null,2.0,null,13.0,11.0,null,11.0,null,null,null,null,11.0,11.0,null,null,1.0,14.0,null,null,null,null,null,null,null,null,null,null,11.0,16.0,null,null,null,11.0,null,9.0,12.0,null,null,7.0,null,null,null,null,null,null,null,null,null,null,5.0,null,null,null,null,8.0,12.0,8.0,12.0,21.0,null,null,9.0,12.0,null,8.0,null,null,null,null,null,null,null,11.0,17.0,null,null,null,null,null,17.0,3.0,12.0,null,null,null,9.0,10.0,null,null,11.0,null,null,10.0,null,null,15.0,null,null,null,null,15.0,null,11.0,null,null,null,12.0,null,null,null,16.0,3.0,null,null,null,16.0,null,null,5.0,6.0,9.0,20.0,null,null,null,null,null,13.0,null,null,null,16.0,null,null,null,18.0,null,null,17.0,14.0,null,null,null,null,13.0,8.0,null,null,12.0,null,null,null,null,null,null,null,null,7.0,null,null,4.0,null,null,4.0,null,null,9.0,7.0,null,null,null,null,null,null,null,null,14.0,14.0,null,null,null,null,null,null,null,null,null,19.0,7.0,null,null,null,null,17.0,null,null,null,7.0,null,null,null,null,23.0,null,null,null,null,14.0,null,null,null,15.0,null,null,13.0,null,7.0,14.0,15.0,9.0,null,null,null,null,null,25.0,12.0,13.0,4.0,19.0,null,9.0,null,null,null,null,null,null,null,null,null,null,null,null,11.0,9.0,10.0,11.0,7.0,null,null,null,null,8.0,null,null,null,null,null,null,null,20.0,null,null,9.0,null,null,null,5.0,null,null,12.0,null,null,null,4.0,null,null,22.0,6.0,null,null,13.0,6.0,16.0,null,12.0,null,11.0,null,10.0,null,6.0,null,null,null,null,null,13.0,null,18.0,14.0,null,null,12.0,19.0,9.0,null,null,null,null,null,null,null,null,12.0,10.0,null,null,null,null,16.0,null,null,null,null,null,null,20.0,null,null,null,13.0,15.0,10.0,null,null,4.0,3.0,5.0,null,12.0,null,null,17.0,17.0,7.0,null,null,12.0,7.0,null,null,9.0,18.0,null,null,null,null,null,null,14.0,null,null,null,null,9.0,10.0,null,null,9.0,null,null,15.0,null,null,null,null,null,null,null,null,null,4.0,10.0,null,null,17.0,null,null,null,null,null,null,null,null,3.0,null,null,13.0,null,null,5.0,null,13.0,null,13.0,null,14.0,17.0,null,null,10.0,null,8.0,null,null,4.0,null,null,null,14.0,null,null,null,null,null,null,10.0,null,null,null,null,null,13.0,9.0,null,null,null,null,null,11.0,null,null,20.0,null,null,null,null,null,null,12.0,null,null,null,11.0,null,null,null,6.0,null,16.0,null,null,null,null,null,null,null,null,null,null,null,3.0,4.0,null,17.0,null,11.0,13.0,null,7.0,null,8.0,11.0,null,10.0,13.0,null,null,null,16.0,null,null,null,null,16.0,13.0,null,null,null,null,null,null,null,17.0,null,null,null,10.0,null,null,null,null,null,16.0,null,6.0,null,null,null,null,17.0,10.0,null,null,null,null,null,null,null,null,null,null,null,null,null,7.0,11.0,null,null,2.0,null,8.0,14.0,null,10.0,null,null,null,null,null,10.0,13.0,17.0,null,null,null,null,null,10.0,null,10.0,null,null,null,11.0,null,8.0,15.0,7.0,13.0,11.0,null,null,null,null,null,null,13.0,null,null,null,null,null,null,null,null,null,null,null,null,18.0,19.0,null,null,6.0,null,null,3.0,12.0,null,null,null,null,null,null,null,null,null,null,null,null,null,null,null,null,19.0,null,16.0,null,null,14.0,null,null,8.0,null,null,6.0,null,null,null,null,null,null,null,null,null,null,null,null,9.0,null,null,2.0,null,null,11.0,null,null,13.0,16.0,18.0,14.0,null,null,10.0,11.0,17.0,7.0,null,null,null,null,null,null,8.0,null,null,null,null,null,10.0,null,null,null,null,6.0,null,11.0,15.0,9.0,null,null,null,null,13.0,null,null,null,null,null,null,null,null,null,null,null,null,null,null,null,null,null,15.0,null,14.0,11.0,null,19.0,null,13.0,9.0,null,null,12.0,null,null,null,14.0,11.0,null,null,null,null,7.0,null,null,null,null,null,null,null,null,null,17.0,11.0,11.0,15.0,null,null,null,14.0,11.0,null,null,null,null,11.0,null,null,12.0,19.0,11.0,null,null,12.0,null,15.0,null,null,null,null,null,null,null,null,12.0,null,6.0,null,null,null,null,18.0,19.0,5.0,null,10.0,null,null,null,null,null,null,null,5.0,10.0,null,19.0,null,20.0,null,null,null,2.0,8.0,null,null,null,null,null,null,8.0,null,null,null,null,null,17.0,null,null,null,null,null,null,null,null,13.0,7.0,null,null,18.0,10.0,null,null,15.0,null,null,null,null,null,4.0,null,null,5.0,null,null,13.0,null,null,null,12.0,null,7.0,null,null,null,10.0,null,17.0,null,6.0,null,null,11.0,8.0,12.0,null,null,null,7.0,10.0,null,16.0,null,19.0,null,null,null,null,null,null,14.0,null,null,14.0,null,5.0,null,null,null,null,10.0,null,null,null,17.0,null,null,null,null,null,null,23.0,null,null,null,16.0,null,21.0,null,null,null,null],\"xaxis\":\"x\",\"yaxis\":\"y\",\"type\":\"histogram\"}],                        {\"template\":{\"data\":{\"histogram2dcontour\":[{\"type\":\"histogram2dcontour\",\"colorbar\":{\"outlinewidth\":0,\"ticks\":\"\"},\"colorscale\":[[0.0,\"#0d0887\"],[0.1111111111111111,\"#46039f\"],[0.2222222222222222,\"#7201a8\"],[0.3333333333333333,\"#9c179e\"],[0.4444444444444444,\"#bd3786\"],[0.5555555555555556,\"#d8576b\"],[0.6666666666666666,\"#ed7953\"],[0.7777777777777778,\"#fb9f3a\"],[0.8888888888888888,\"#fdca26\"],[1.0,\"#f0f921\"]]}],\"choropleth\":[{\"type\":\"choropleth\",\"colorbar\":{\"outlinewidth\":0,\"ticks\":\"\"}}],\"histogram2d\":[{\"type\":\"histogram2d\",\"colorbar\":{\"outlinewidth\":0,\"ticks\":\"\"},\"colorscale\":[[0.0,\"#0d0887\"],[0.1111111111111111,\"#46039f\"],[0.2222222222222222,\"#7201a8\"],[0.3333333333333333,\"#9c179e\"],[0.4444444444444444,\"#bd3786\"],[0.5555555555555556,\"#d8576b\"],[0.6666666666666666,\"#ed7953\"],[0.7777777777777778,\"#fb9f3a\"],[0.8888888888888888,\"#fdca26\"],[1.0,\"#f0f921\"]]}],\"heatmap\":[{\"type\":\"heatmap\",\"colorbar\":{\"outlinewidth\":0,\"ticks\":\"\"},\"colorscale\":[[0.0,\"#0d0887\"],[0.1111111111111111,\"#46039f\"],[0.2222222222222222,\"#7201a8\"],[0.3333333333333333,\"#9c179e\"],[0.4444444444444444,\"#bd3786\"],[0.5555555555555556,\"#d8576b\"],[0.6666666666666666,\"#ed7953\"],[0.7777777777777778,\"#fb9f3a\"],[0.8888888888888888,\"#fdca26\"],[1.0,\"#f0f921\"]]}],\"heatmapgl\":[{\"type\":\"heatmapgl\",\"colorbar\":{\"outlinewidth\":0,\"ticks\":\"\"},\"colorscale\":[[0.0,\"#0d0887\"],[0.1111111111111111,\"#46039f\"],[0.2222222222222222,\"#7201a8\"],[0.3333333333333333,\"#9c179e\"],[0.4444444444444444,\"#bd3786\"],[0.5555555555555556,\"#d8576b\"],[0.6666666666666666,\"#ed7953\"],[0.7777777777777778,\"#fb9f3a\"],[0.8888888888888888,\"#fdca26\"],[1.0,\"#f0f921\"]]}],\"contourcarpet\":[{\"type\":\"contourcarpet\",\"colorbar\":{\"outlinewidth\":0,\"ticks\":\"\"}}],\"contour\":[{\"type\":\"contour\",\"colorbar\":{\"outlinewidth\":0,\"ticks\":\"\"},\"colorscale\":[[0.0,\"#0d0887\"],[0.1111111111111111,\"#46039f\"],[0.2222222222222222,\"#7201a8\"],[0.3333333333333333,\"#9c179e\"],[0.4444444444444444,\"#bd3786\"],[0.5555555555555556,\"#d8576b\"],[0.6666666666666666,\"#ed7953\"],[0.7777777777777778,\"#fb9f3a\"],[0.8888888888888888,\"#fdca26\"],[1.0,\"#f0f921\"]]}],\"surface\":[{\"type\":\"surface\",\"colorbar\":{\"outlinewidth\":0,\"ticks\":\"\"},\"colorscale\":[[0.0,\"#0d0887\"],[0.1111111111111111,\"#46039f\"],[0.2222222222222222,\"#7201a8\"],[0.3333333333333333,\"#9c179e\"],[0.4444444444444444,\"#bd3786\"],[0.5555555555555556,\"#d8576b\"],[0.6666666666666666,\"#ed7953\"],[0.7777777777777778,\"#fb9f3a\"],[0.8888888888888888,\"#fdca26\"],[1.0,\"#f0f921\"]]}],\"mesh3d\":[{\"type\":\"mesh3d\",\"colorbar\":{\"outlinewidth\":0,\"ticks\":\"\"}}],\"scatter\":[{\"fillpattern\":{\"fillmode\":\"overlay\",\"size\":10,\"solidity\":0.2},\"type\":\"scatter\"}],\"parcoords\":[{\"type\":\"parcoords\",\"line\":{\"colorbar\":{\"outlinewidth\":0,\"ticks\":\"\"}}}],\"scatterpolargl\":[{\"type\":\"scatterpolargl\",\"marker\":{\"colorbar\":{\"outlinewidth\":0,\"ticks\":\"\"}}}],\"bar\":[{\"error_x\":{\"color\":\"#2a3f5f\"},\"error_y\":{\"color\":\"#2a3f5f\"},\"marker\":{\"line\":{\"color\":\"#E5ECF6\",\"width\":0.5},\"pattern\":{\"fillmode\":\"overlay\",\"size\":10,\"solidity\":0.2}},\"type\":\"bar\"}],\"scattergeo\":[{\"type\":\"scattergeo\",\"marker\":{\"colorbar\":{\"outlinewidth\":0,\"ticks\":\"\"}}}],\"scatterpolar\":[{\"type\":\"scatterpolar\",\"marker\":{\"colorbar\":{\"outlinewidth\":0,\"ticks\":\"\"}}}],\"histogram\":[{\"marker\":{\"pattern\":{\"fillmode\":\"overlay\",\"size\":10,\"solidity\":0.2}},\"type\":\"histogram\"}],\"scattergl\":[{\"type\":\"scattergl\",\"marker\":{\"colorbar\":{\"outlinewidth\":0,\"ticks\":\"\"}}}],\"scatter3d\":[{\"type\":\"scatter3d\",\"line\":{\"colorbar\":{\"outlinewidth\":0,\"ticks\":\"\"}},\"marker\":{\"colorbar\":{\"outlinewidth\":0,\"ticks\":\"\"}}}],\"scattermapbox\":[{\"type\":\"scattermapbox\",\"marker\":{\"colorbar\":{\"outlinewidth\":0,\"ticks\":\"\"}}}],\"scatterternary\":[{\"type\":\"scatterternary\",\"marker\":{\"colorbar\":{\"outlinewidth\":0,\"ticks\":\"\"}}}],\"scattercarpet\":[{\"type\":\"scattercarpet\",\"marker\":{\"colorbar\":{\"outlinewidth\":0,\"ticks\":\"\"}}}],\"carpet\":[{\"aaxis\":{\"endlinecolor\":\"#2a3f5f\",\"gridcolor\":\"white\",\"linecolor\":\"white\",\"minorgridcolor\":\"white\",\"startlinecolor\":\"#2a3f5f\"},\"baxis\":{\"endlinecolor\":\"#2a3f5f\",\"gridcolor\":\"white\",\"linecolor\":\"white\",\"minorgridcolor\":\"white\",\"startlinecolor\":\"#2a3f5f\"},\"type\":\"carpet\"}],\"table\":[{\"cells\":{\"fill\":{\"color\":\"#EBF0F8\"},\"line\":{\"color\":\"white\"}},\"header\":{\"fill\":{\"color\":\"#C8D4E3\"},\"line\":{\"color\":\"white\"}},\"type\":\"table\"}],\"barpolar\":[{\"marker\":{\"line\":{\"color\":\"#E5ECF6\",\"width\":0.5},\"pattern\":{\"fillmode\":\"overlay\",\"size\":10,\"solidity\":0.2}},\"type\":\"barpolar\"}],\"pie\":[{\"automargin\":true,\"type\":\"pie\"}]},\"layout\":{\"autotypenumbers\":\"strict\",\"colorway\":[\"#636efa\",\"#EF553B\",\"#00cc96\",\"#ab63fa\",\"#FFA15A\",\"#19d3f3\",\"#FF6692\",\"#B6E880\",\"#FF97FF\",\"#FECB52\"],\"font\":{\"color\":\"#2a3f5f\"},\"hovermode\":\"closest\",\"hoverlabel\":{\"align\":\"left\"},\"paper_bgcolor\":\"white\",\"plot_bgcolor\":\"#E5ECF6\",\"polar\":{\"bgcolor\":\"#E5ECF6\",\"angularaxis\":{\"gridcolor\":\"white\",\"linecolor\":\"white\",\"ticks\":\"\"},\"radialaxis\":{\"gridcolor\":\"white\",\"linecolor\":\"white\",\"ticks\":\"\"}},\"ternary\":{\"bgcolor\":\"#E5ECF6\",\"aaxis\":{\"gridcolor\":\"white\",\"linecolor\":\"white\",\"ticks\":\"\"},\"baxis\":{\"gridcolor\":\"white\",\"linecolor\":\"white\",\"ticks\":\"\"},\"caxis\":{\"gridcolor\":\"white\",\"linecolor\":\"white\",\"ticks\":\"\"}},\"coloraxis\":{\"colorbar\":{\"outlinewidth\":0,\"ticks\":\"\"}},\"colorscale\":{\"sequential\":[[0.0,\"#0d0887\"],[0.1111111111111111,\"#46039f\"],[0.2222222222222222,\"#7201a8\"],[0.3333333333333333,\"#9c179e\"],[0.4444444444444444,\"#bd3786\"],[0.5555555555555556,\"#d8576b\"],[0.6666666666666666,\"#ed7953\"],[0.7777777777777778,\"#fb9f3a\"],[0.8888888888888888,\"#fdca26\"],[1.0,\"#f0f921\"]],\"sequentialminus\":[[0.0,\"#0d0887\"],[0.1111111111111111,\"#46039f\"],[0.2222222222222222,\"#7201a8\"],[0.3333333333333333,\"#9c179e\"],[0.4444444444444444,\"#bd3786\"],[0.5555555555555556,\"#d8576b\"],[0.6666666666666666,\"#ed7953\"],[0.7777777777777778,\"#fb9f3a\"],[0.8888888888888888,\"#fdca26\"],[1.0,\"#f0f921\"]],\"diverging\":[[0,\"#8e0152\"],[0.1,\"#c51b7d\"],[0.2,\"#de77ae\"],[0.3,\"#f1b6da\"],[0.4,\"#fde0ef\"],[0.5,\"#f7f7f7\"],[0.6,\"#e6f5d0\"],[0.7,\"#b8e186\"],[0.8,\"#7fbc41\"],[0.9,\"#4d9221\"],[1,\"#276419\"]]},\"xaxis\":{\"gridcolor\":\"white\",\"linecolor\":\"white\",\"ticks\":\"\",\"title\":{\"standoff\":15},\"zerolinecolor\":\"white\",\"automargin\":true,\"zerolinewidth\":2},\"yaxis\":{\"gridcolor\":\"white\",\"linecolor\":\"white\",\"ticks\":\"\",\"title\":{\"standoff\":15},\"zerolinecolor\":\"white\",\"automargin\":true,\"zerolinewidth\":2},\"scene\":{\"xaxis\":{\"backgroundcolor\":\"#E5ECF6\",\"gridcolor\":\"white\",\"linecolor\":\"white\",\"showbackground\":true,\"ticks\":\"\",\"zerolinecolor\":\"white\",\"gridwidth\":2},\"yaxis\":{\"backgroundcolor\":\"#E5ECF6\",\"gridcolor\":\"white\",\"linecolor\":\"white\",\"showbackground\":true,\"ticks\":\"\",\"zerolinecolor\":\"white\",\"gridwidth\":2},\"zaxis\":{\"backgroundcolor\":\"#E5ECF6\",\"gridcolor\":\"white\",\"linecolor\":\"white\",\"showbackground\":true,\"ticks\":\"\",\"zerolinecolor\":\"white\",\"gridwidth\":2}},\"shapedefaults\":{\"line\":{\"color\":\"#2a3f5f\"}},\"annotationdefaults\":{\"arrowcolor\":\"#2a3f5f\",\"arrowhead\":0,\"arrowwidth\":1},\"geo\":{\"bgcolor\":\"white\",\"landcolor\":\"#E5ECF6\",\"subunitcolor\":\"white\",\"showland\":true,\"showlakes\":true,\"lakecolor\":\"white\"},\"title\":{\"x\":0.05},\"mapbox\":{\"style\":\"light\"}}},\"xaxis\":{\"anchor\":\"y\",\"domain\":[0.0,1.0],\"title\":{\"text\":\"<b>Number of days</b>\"}},\"yaxis\":{\"anchor\":\"x\",\"domain\":[0.0,1.0],\"title\":{\"text\":\"<b>Number od users</b>\"}},\"legend\":{\"tracegroupgap\":0},\"margin\":{\"t\":60},\"barmode\":\"group\",\"height\":400,\"width\":800,\"title\":{\"font\":{\"family\":\"Arial\",\"size\":18,\"color\":\"#344243\"},\"text\":\"<b>Distribution of the number of days to complete the first level</b>\",\"x\":0.5},\"plot_bgcolor\":\"#f8f6f6\"},                        {\"responsive\": true}                    ).then(function(){\n",
              "                            \n",
              "var gd = document.getElementById('58409e90-d330-4aea-9b7c-adc530064c69');\n",
              "var x = new MutationObserver(function (mutations, observer) {{\n",
              "        var display = window.getComputedStyle(gd).display;\n",
              "        if (!display || display === 'none') {{\n",
              "            console.log([gd, 'removed!']);\n",
              "            Plotly.purge(gd);\n",
              "            observer.disconnect();\n",
              "        }}\n",
              "}});\n",
              "\n",
              "// Listen for the removal of the full notebook cells\n",
              "var notebookContainer = gd.closest('#notebook-container');\n",
              "if (notebookContainer) {{\n",
              "    x.observe(notebookContainer, {childList: true});\n",
              "}}\n",
              "\n",
              "// Listen for the clearing of the current output cell\n",
              "var outputEl = gd.closest('.output');\n",
              "if (outputEl) {{\n",
              "    x.observe(outputEl, {childList: true});\n",
              "}}\n",
              "\n",
              "                        })                };                            </script>        </div>\n",
              "</body>\n",
              "</html>"
            ]
          },
          "metadata": {}
        }
      ],
      "source": [
        "plotly_hist(new_lvl, 'count_lvl_day', 'Distribution of the number of days to complete the first level', \n",
        "            'Number of days', 'Number od users')"
      ]
    },
    {
      "cell_type": "markdown",
      "metadata": {
        "id": "Lpu4OZqHoLI-"
      },
      "source": [
        "There is a clear peak - 10-12 days - the time it takes users on average to complete the first level."
      ]
    },
    {
      "cell_type": "code",
      "execution_count": 37,
      "metadata": {
        "id": "aOp2C82boLI-",
        "colab": {
          "base_uri": "https://localhost:8080/",
          "height": 417
        },
        "outputId": "b2aeb7b3-15fd-449d-f36f-f3489eca1cef"
      },
      "outputs": [
        {
          "output_type": "display_data",
          "data": {
            "text/html": [
              "<html>\n",
              "<head><meta charset=\"utf-8\" /></head>\n",
              "<body>\n",
              "    <div>            <script src=\"https://cdnjs.cloudflare.com/ajax/libs/mathjax/2.7.5/MathJax.js?config=TeX-AMS-MML_SVG\"></script><script type=\"text/javascript\">if (window.MathJax && window.MathJax.Hub && window.MathJax.Hub.Config) {window.MathJax.Hub.Config({SVG: {font: \"STIX-Web\"}});}</script>                <script type=\"text/javascript\">window.PlotlyConfig = {MathJaxConfig: 'local'};</script>\n",
              "        <script src=\"https://cdn.plot.ly/plotly-2.18.2.min.js\"></script>                <div id=\"76395b26-5fcd-49dc-a2f6-25d0fe62a535\" class=\"plotly-graph-div\" style=\"height:400px; width:800px;\"></div>            <script type=\"text/javascript\">                                    window.PLOTLYENV=window.PLOTLYENV || {};                                    if (document.getElementById(\"76395b26-5fcd-49dc-a2f6-25d0fe62a535\")) {                    Plotly.newPlot(                        \"76395b26-5fcd-49dc-a2f6-25d0fe62a535\",                        [{\"alignmentgroup\":\"True\",\"bingroup\":\"x\",\"hovertemplate\":\"finish_lvl=0<br>count_play_day=%{x}<br>count=%{y}<extra></extra>\",\"legendgroup\":\"0\",\"marker\":{\"color\":\"#e1958e\",\"pattern\":{\"shape\":\"\"}},\"name\":\"0\",\"offsetgroup\":\"0\",\"orientation\":\"v\",\"showlegend\":true,\"x\":[5,5,7,9,11,3,6,5,5,9,4,6,5,3,4,2,5,5,4,8,5,3,5,7,4,6,8,5,5,11,8,6,8,6,6,3,8,10,3,4,8,8,7,5,9,7,9,10,4,3,9,7,9,6,5,8,9,4,8,4,4,4,8,8,7,8,8,5,7,10,7,9,7,11,4,1,8,9,2,8,5,10,5,2,6,4,3,9,6,5,2,6,7,8,9,5,8,10,6,6,5,5,12,4,11,8,5,7,9,6,9,9,4,4,8,8,9,9,6,9,4,3,9,5,10,5,12,11,6,6,5,3,8,10,8,4,12,5,7,8,10,5,10,5,9,10,10,5,6,4,7,6,9,5,4,7,8,7,9,8,5,8,8,5,7,7,3,4,9,10,7,8,5,2,7,4,7,4,4,10,7,4,6,8,7,4,9,6,9,7,9,5,6,6,9,4,9,3,3,7,8,7,8,5,5,8,7,9,4,4,7,9,4,5,11,11,8,4,4,9,5,4,2,8,5,6,5,7,12,6,7,11,9,7,8,5,3,6,4,11,9,8,6,9,7,3,6,6,10,5,6,7,7,7,7,2,2,4,6,6,9,11,11,2,8,10,5,10,5,2,8,7,7,11,8,10,7,5,6,10,8,8,12,3,8,4,6,5,9,11,3,6,6,5,12,4,5,6,7,7,9,6,10,5,10,8,11,5,6,5,8,7,5,6,9,10,8,1,5,7,5,7,5,3,4,12,4,11,5,3,11,4,5,4,4,8,6,11,8,12,7,10,11,10,9,9,11,7,8,8,4,8,3,8,9,9,10,5,3,3,8,7,6,12,9,5,2,4,2,8,10,2,10,8,7,6,10,9,10,4,9,10,7,5,12,8,9,5,9,8,4,6,9,9,4,10,7,4,10,7,6,7,9,8,6,3,11,7,10,7,9,10,8,6,10,5,7,5,6,6,7,7,8,5,6,6,9,10,7,11,4,8,12,13,7,8,4,8,3,12,4,9,6,8,5,10,10,9,4,5,4,5,4,8,6,8,11,9,5,4,10,4,11,7,4,4,7,4,6,12,7,7,4,6,10,10,5,6,5,7,7,3,7,9,5,8,7,8,10,7,8,9,4,10,7,8,6,10,9,12,11,10,10,1,8,6,8,8,6,7,9,4,9,11,9,3,4,8,3,12,8,4,3,8,8,8,4,4,7,5,7,11,6,8,11,6,8,11,11,8,8,8,8,9,6,10,7,7,10,11,8,5,7,9,6,7,12,6,8,5,4,7,6,6,4,6,4,7,6,8,9,10,8,12,6,9,6,7,4,10,4,5,8,5,8,7,5,5,4,6,4,4,4,9,8,7,5,3,10,6,5,4,4,9,10,5,7,2,8,7,8,4,5,9,9,4,9,8,6,8,5,9,6,2,3,4,7,4,11,6,4,7,7,7,10,4,8,4,5,4,6,7,12,8,9,6,4,8,9,4,8,6,4,8,5,9,8,6,4,6,6,5,7,8,5,3,10,4,4,5,5,9,11,11,8,5,8,3,5,8,5,7,5,4,4,8,10,7,10,9,6,13,7,9,6,9,5,7,5,5,7,3,4,7,4,9,10,6,3,3,2,9,7,5,4,8,4,6,8,7,8,5,11,8,5,10,4,9,9,8,8,7,11,6,6,4,10,8,9,4,8,7,8,7,8,8,4,5,4,3,9,10,3,11,6,10,11,6,3,4,11,8,4,8,6,5,10,6,6,9,10,5,2,2,10,9,9,6,6,9,10,5,5,9,5,6,9,6,9,4,12,5,7,8,3,5,6,4,8,13,4,5,9,5,4,8,7,11,9,9,4,6,8,6,10,3,4,6,9,6,10,6,12,13,8,1,5,8,5,6,9,5,5,5,5,6,3,7,4,7,8,7,3,6,9,7,4,11,8,7,7,11,11,3,6,7,6,4,5,5,3,12,6,8,12,5,5,12,9,8,9,9,7,4,9,3,6,8,7,4,10,5,6,9,4,6,10,6,8,3,4,9,5,8,9,11,7,9,7,9,5,6,5,5,7,7,10,5,8,4,3,11,8,6,11,4,9,3,10,6,9,7,12,7,6,6,8,7,4,6,4,13,4,6,6,5,4,8,6,10,7,3,6,5,7,4,4,7,11,5,9,11,11,5,4,11,6,10,7,8,11,10,9,6,8,3,2,9,8,6,9,7,7,4,10,9,8,7,5,8,7,8,4,6,5,3,5,4,10,5,3,2,8,8,7,10,5,7,9,4,5,7,5,1,7,7,6,9,4,10,11,5,4,7,8,7,7,4,8,5,5,8,9,3,6,6,4,5,3,4,5,6,5,8,5,5,9,10,3,5,7,7,5,9,10,5,9,6,6,11,3,5,4,6,7,3,6,8,7,8,3,3,7,4,4,9,10,4,8,9,5,6,4,10,6,8,10,11,8,11,6,7,9,5,2,10,7,8,8,5,4,11,11,3,2,8,10,7,6,8,6,9,7,5,9,6,5,9,7,9,5,5,5,5,3,6,7,8,4,4,6,7,8,6,5,5,9,5,6,9,7,7,9,2,8,8,6,5,5,5,7,10,7,10,5,4,9,10,10,4,6,10,9,11,4,8,6,8,3,5,5,6,10,9,8,6,6,9,3,9,6,6,8,8,7,8,6,6,6,10,2,7,6,6,4,5,10,11,4,10,7,8,7,6,5,5,9,12,6,6,2,2,6,6,8,9,3,3,8,7,5,8,9,11,4,7,5,7,10,12,9,3,6,6,6,9,4,5,5,4,10,6,7,4,8,7,10,6,6,8,8,7,8,7,6,3,9,8,8,10,9,5,8,4,4,8,6,4,4,4,6,7,8,8,7,5,10,6,5,3,6,4,5,6,13,5,8,6,4,5,3,10,7,10,7,8,4,11,10,6,6,6,10,10,5,5,5,10,9,12,5,2,9,11,2,2,8,5,6,7,2,7,4,6,6,10,9,10,4,6,3,6,5,4,4,9,9,5,5,7,8,8,2,10,8,9,8,9,10,5,2,10,7,8,8,14,10,8,5,10,10,9,8,10,8,4,10,10,7,7,5,8,4,4,7,6,2,4,7,6,9,8,10,5,7,6,10,7,8,9,8,9,7,2,5,9,8,4,4,9,9,8,9,3,5,8,11,9,7,9,8,11,8,6,6,3,8,7,10,9,8,5,4,6,5,8,4,11,9,8,11,6,5,7,5,11,8,7,7,4,7,11,3,3,5,7,6,10,4,7,8,3,5,3,6,10,4,3,6,2,9,6,6,8,12,5,9,8,8,8,5,10,6,6,6,4,13,6,3,8,8,11,9,9,3,3,8,10,4,9,11,4,7,7,9,6,7,7,5,4,8,11,12,4,8,5,12,9,9,9,11,7,10,4,9,5,4,8,7,7,9,4,6,8,9,12,7,6,4,9,8,6,8,7,8,9,8,5,6,8,8,4,8,10,4,9,5,4,4,6,11,5,9,10,10,8,4,10,4,6,6,7,6,8,6,9,8,10,8,7,6,4,6,7,8,5,4,5,6,4,7,7,9,2,8,7,7,5,9,6,9,5,4,11,5,7,8,5,9,7,7,10,4,9,5,10,4,12,6,6,7,9,7,6,5,7,12,5,9,9,11,10,2,4,7,7,9,4,11,10,10,9,5,4,3,7,2,8,7,12,3,6,5,7,7,10,9,6,8,10,3,5,5,10,6,4,8,9,5,8,11,10,6,9,5,3,11,12,4,10,4,4,6,9,9,8,9,9,11,8,6,8,9,6,10,7,6,9,3,11,5,11,5,7,10,1,12,10,9,6,6,4,7,5,9,7,6,9,6,7,11,8,6,8,8,9,3,8,5,10,6,12,4,12,8,4,11,2,12,4,9,10,7,8,8,8,9,7,12,8,9,10,7,3,4,3,8,3,5,7,8,3,3,6,4,11,5,3,8,7,8,6,8,6,8,7,9,11,4,10,9,8,8,5,8,8,7,12,4,10,8,4,10,2,6,4,8,4,3,10,6,7,10,9,9,2,10,5,10,4,11,8,7,9,4,5,10,4,6,5,7,5,11,11,7,5,7,8,3,8,10,8,8,9,10,9,6,6,8,6,5,8,9,10,3,9,7,5,7,10,8,8,5,7,7,5,9,6,8,2,7,9,13,6,7,6,3,7,9,5,6,10,5,7,6,8,9,8,11,6,7,7,5,3,7,6,10,11,6,9,5,5,10,3,8,7,5,10,7,10,6,8,6,6,12,6,9,5,7,5,9,6,8,8,6,9,9,6,5,3,7,9,7,8,6,6,8,10,5,5,7,3,11,5,8,3,8,12,7,11,6,7,2,7,11,10,8,8,4,3,10,8,6,9,8,5,9,2,9,8,8,2,9,8,4,8,5,8,4,5,3,9,10,4,7,8,8,7,4,8,7,5,11,8,2,6,11,6,3,5,7,7,11,3,6,5,10,7,5,7,7,8,5,9,7,7,7,1,6,5,12,8,9,7,10,8,4,5,5,9,3,3,10,10,5,8,3,9,5,5,5,5,4,4,3,12,5,11,4,7,7,8,11,6,10,8,5,11,3,3,6,5,7,8,7,8,6,5,4,9,3,2,4,2,4,7,10,8,7,1,8,8,9,5,11,5,8,3,10,6,9,12,6,8,7,5,7,11,10,9,5,4,7,9,8,6,8,9,4,3,6,4,9,8,7,10,6,10,6,3,10,6,4,5,9,8,8,4,7,7,8,10,10,9,5,8,5,3,8,12,5,10,4,9,7,6,9,10,6,4,4,8,10,10,4,8,4,5,4,9,8,11,8,5,5,9,8,9,7,4,8,9,8,7,6,7,8,12,9,8,7,8,3,2,4,12,4,4,6,4,11,4,9,3,10,5,7,4,4,5,10,8,3,5,5,2,11,9,10,4,13,11,9,11,7,9,9,6,7,6,7,7,6,8,12,5,9,8,5,10,8,11,8,4,10,2,7,5,10,6,6,11,10,6,8,11,9,10,6,11,7,8,9,10,10,4,9,9,8,8,7,9,8,5,4,7,7,6,8,1,10,3,6,10,9,10,11,5,7,10,3,4,10,3,5,6,6,2,10,3,7,4,11,12,10,5,6,8,6,8,8,11,8,9,10,6,5,6,5,9,8,8,9,12,6,3,9,9,10,9,8,11,4,8,6,6,7,4,8,6,7,4,7,9,13,5,7,2,5,8,6,3,5,9,11,9,5,13,4,8,8,8,12,7,4,2,7,2,5,6,5,6,4,6,4,10,12,5,4,10,8,9,10,6,7,7,9,7,9,2,10,6,8,6,4,11,8,6,9,7,9,10,4,8,5,9,9,8,8,2,8,8,8,6,7,5,5,3,8,10,5,7,8,9,8,7,8,11,9,7,3,4,9,5,11,10,12,8,8,6,7,6,7,8,7,9,10,8,9,7,9,5,2,11,9,12,7,13,4,5,6,8,8,8,4,5,8,8,9,6,12,9,3,9,9,8,11,2,6,2,5,6,4,4,8,7,9,9,12,4,9,4,6,11,8,9,7,5,4,3,10,5,4,10,8,5,5,7,8,8,10,6,3,13,9,10,6,7,4,7,8,14,8,8,10,10,7,8,11,6,11,3,10,4,7,4,11,10,4,8,2,5,10,5,8,6,4,9,6,9,4,10,9,3,5,9,4,4,7,8,4,8,8,5,10,8,8,3,4,10,10,9,9,10,6,2,4,4,4,12,4,9,9,7,7,3,9,3,8,5,11,11,5,6,7,3,9,6,6,6,6,5,9,3,8,3,10,5,6,4,9,10,11,4,8,10,11,3,5,4,8,8,8,10,6,8,6,4,11,7,7,5,9,6,7,8,8,6,7,9,6,3,1,4,8,5,9,3,8,5,7,6,5,4,3,7,5,9,11,8,11,7,5,4,10,2,5,5,9,7,5,8,7,7,3,5,7,7,8,9,4,7,8,6,8,9,5,10,8,9,3,10,8,6,4,4,9,9,7,7,5,10,4,6,6,4,5,8,11,8,6,5,8,2,6,2,9,3,6,6,8,4,11,6,8,5,3,3,6,4,6,3,5,5,5,3,11,9,9,4,11,8,9,8,5,6,8,3,9,4,8,9,12,4,3,4,7,4,7,4,9,9,8,9,7,5,3,11,12,8,11,5,8,8,2,5,4,10,7,9,6,10,6,12,6,8,8,6,7,6,5,4,8,8,10,9,5,9,5,11,6,9,11,11,7,5,7,5,8,4,6,6,8,12,4,11,5,9,5,4,9,7,7,5,7,8,10,5,8,5,9,3,5,5,5,7,10,10,4,4,6,6,11,4,8,9,8,7,7,8,6,5,8,4,11,4,4,3,7,8,4,5,5,6,3,4,3,7,7,5,3,7,5,8,12,7,6,6,7,4,7,7,5,8,3,4,8,2,3,8,6,2,13,4,5,8,11,3,8,11,5,8,4,8,6,9,5,5,11,6,4,6,6,9,10,7,9,3,3,8,6,7,5,3,10,5,4,8,5,6,11,1,3,6,6,8,12,9,9,10,4,6,7,9,5,8,10,8,8,10,11,9,9,2,5,7,11,5,7,6,5,11,9,9,4,8,3,9,5,7,8,12,7,10,10,9,7,2,3,11,9,6,9,6,9,8,4,8,10,4,4,10,6,8,8,7,10,4,7,10,7,5,7,9,9,6,4,5,4,11,6,4,4,3,8,5,8,8,6,4,6,5,4,10,4,4,5,4,7,8,3,9,3,5,9,8,4,7,4,5,3,5,5,4,4,11,5,4,5,8,3,7,8,7,10,6,3,10,7,11,6,4,9,5,7,7,5,5,5,4,7,10,7,8,8,9,10,6,10,11,10,5,8,2,11,10,3,7,12,2,8,12,4,4,9,8,8,6,9,6,10,11,6,9,6,6,9,6,4,8,5,8,4,5,9,10,8,3,8,5,4,7,9,12,5,5,4,10,4,3,9,6,6,13,5,8,7,6,8,5,3,5,10,8,7,9,12,3,9,4,7,10,7,7,6,6,6,6,9,6,4,11,5,3,4,9,4,5,9,10,3,9,5,5,2,11,7,8,8,8,7,9,12,3,9,10,4,4,7,5,8,13,10,11,10,10,3,10,6,4,2,6,6,9,6,8,13,8,10,7,6,7,6,8,3,6,12,10,8,10,7,8,8,10,10,6,2,8,9,8,4,4,5,9,5,8,10,3,6,6,8,4,7,10,10,11,4,10,8,6,6,7,5,7,9,4,3,9,3,9,2,4,8,3,7,4,5,5,10,8,8,6,5,4,4,9,3,5,3,4,6,5,5,2,10,7,11,9,4,2,3,4,7,6,3,12,4,7,6,5,8,7,11,2,5,10,8,5,5,5,3,7,8,10,5,8,9,7,7,9,5,5,6,3,8,8,5,7,3,6,4,10,8,1,2,13,7,5,7,8,6,3,9,5,8,5,8,7,7,10,6,9,4,6,5,4,10,5,2,5,3,6,6,9,3,6,6,10,10,9,11,8,4,4,8,5,5,6,6,12,7,2,7,5,5,8,6,11,4,9,7,9,8,7,4,11,10,3,10,6,5,5,11,7,6,7,9,5,6,9,3,5,7,7,10,4,9,3,7,3,5,7,2,7,6,8,4,5,9,4,5,5,10,5,10,10,4,9,10,4,7,10,4,3,3,7,11,4,8,3,6,9,5,7,8,10,5,8,5,6,4,9,5,1,6,10,10,3,8,7,6,7,5,8,10,11,4,5,9,5,12,8,5,10,7,8,5,5,3,3,4,10,3,4,6,6,8,6,10,4,9,9,5,5,8,7,9,4,4,5,3,6,9,7,12,8,7,7,8,2,8,7,9,7,9,5,5,6,10,8,4,10,6,3,3,4,11,9,7,10,4,4,5,5,6,5,6,5,7,6,4,6,2,5,8,5,7,5,8,6,5,8,7,9,7,8,3,10,4,7,6,10,7,8,3,6,9,7,6,7,7,2,6,9,7,8,5,10,8,4,8,3,11,10,5,4,14,4,13,10,8,4,8,2,9,4,5,7,8,4,2,8,9,6,4,7,10,7,4,8,11,7,8,9,6,10,11,6,5,8,9,7,8,9,1,5,7,4,4,6,2,8,3,9,2,5,7,11,4,5,8,3,6,9,5,8,10,5,10,10,6,5,3,7,6,9,8,8,6,9,4,6,2,3,6,6,7,6,8,6,7,2,8,9,8,11,4,4,10,6,12,10,5,10,2,8,5,11,8,8,8,9,8,4,10,11,9,6,9,7,7,5,6,8,3,4,7,8,4,2,4,5,5,6,4,6,8,9,7,8,8,2,6,9,2,5,7,8,11,4,9,6,5,7,1,7,4,3,7,9,5,8,6,4,4,7,6,4,7,8,6,3,4,9,6,8,7,5,9,11,8,5,11,4,7,3,3,5,8,10,8,7,8,2,4,5,4,8,3,3,4,11,7,3,7,4,6,6,11,4,7,7,9,3,6,9,4,7,6,11,2,6,8,9,3,7,6,5,9,5,8,4,9,9,5,8,2,9,7,7,5,3,4,3,2,4,6,6,6,10,5,7,4,4,11,4,6,6,8,7,10,6,7,4,8,7,4,4,8,3,5,9,9,2,13,5,2,5,4,4,7,3,2,9,9,3,7,4,8,9,3,6,5,6,5,8,3,7,6,10,11,5,5,7,7,3,4,8,3,8,4,8,2,8,4,10,8,5,10,4,5,7,5,4,9,8,8,5,3,9,8,6,10,4,13,2,10,7,7,4,4,7,8,5,5,6,3,8,7,5,11,5,4,1,6,11,6,4,9,3,7,13,15,10,6,10,9,4,3,3,9,8,7,7,7,5,2,4,8,7,5,7,4,4,8,3,8,9,7,10,5,10,3,4,5,7,7,3,12,10,5,9,8,6,5,8,4,7,8,9,11,5,6,8,9,8,4,6,6,2,8,5,10,10,4,8,6,8,6,8,5,4,2,7,10,3,5,9,7,9,7,8,8,7,6,6,8,2,4,9,10,5,7,7,9,6,12,7,5,6,9,12,6,5,6,5,9,10,9,6,10,5,7,8,5,1,7,12,4,6,4,3,2,7,10,10,10,7,8,8,7,5,8,5,4,6,5,7,5,5,11,7,8,7,3,5,8,9,11,8,10,8,4,14,9,7,6,8,7,8,6,8,6,4,5,4,9,7,9,8,6,6,3,5,12,9,4,9,8,8,8,4,7,6,8,9,6,7,6,8,10,5,7,10,3,6,8,9,5,2,9,6,4,6,5,8,1,7,11,6,11,7,8,5,4,6,5,4,7,8,10,5,8,8,10,5,8,6,9,4,9,3,5,7,5,5,8,3,5,7,5,9,9,3,10,8,5,2,11,3,9,3,4,11,9,9,6,6,9,4,3,9,4,9,9,4,5,8,3,4,4,3,5,2,9,8,3,6,6,4,11,9,5,9,4,6,6,5,6,10,10,11,11,8,5,7,9,6,6,7,5,5,9,4,8,1,3,8,8,3,4,5,7,4,8,2,2,2,5,6,3,5,3,4,4,8,4,9,8,8,3,8,3,6,2,6,5,9,6,5,2,5,7,3,11,11,6,3,8,5,10,5,8,6,7,7,8,7,3,6,7,6,2,2,5,7,5,3,9,8,9,9,5,9,9,3,7,2,6,7,7,7,4,10,3,4,8,8,7,7,5,5,4,3,10,5,7,7,7,6,9,2,9,10,3,9,2,8,5,9,10,5,8,7,3,8,4,5,11,8,3,5,8,5,5,4,5,6,5,7,5,8,3,6,3,11,2,4,7,3,3,10,6,9,7,6,11,3,5,4,4,9,5,7,11,1,4,12,10,10,5,8,3,2,3,8,6,6,4,4,6,5,8,8,3,4,6,4,9,5,8,9,5,7,4,10,8,6,8,5,10,6,9,5,4,5,7,6,6,8,4,9,7,10,12,3,3,7,4,8,6,8,8,3,10,8,3,5,7,9,4,6,8,12,10,4,8,5,4,6,5,7,8,4,9,5,7,3,7,10,5,5,7,9,8,5,8,5,6,4,9,6,4,3,4,10,5,10,9,3,5,9,9,4,6,9,6,5,11,7,8,4,8,3,11,8,4,1,6,4,8,7,4,8,5,9,7,6,4,8,5,3,5,8,8,12,9,5,9,6,11,9,10,8,6,8,9,4,3,4,8,4,4,5,6,8,7,6,6,9,6,3,10,9,10,4,10,4,5,3,11,11,3,8,5,4,4,5,9,11,4,7,4,10,5,3,5,4,8,5,7,6,8,8,8,8,10,7,4,4,11,7,5,5,8,7,5,3,13,9,5,5,5,3,10,9,6,8,13,4,4,4,8,3,10,2,8,6,2,7,3,4,9,5,9,7,7,3,8,5,8,7,5,11,5,4,3,6,5,10,3,12,10,3,10,9,5,1,3,5,12,9,5,2,12,1,10,8,11,7,5,6,9,11,5,8,3,7,5,6,7,7,9,4,5,7,5,10,9,10,12,10,7,9,6,10,7,10,9,4,7,3,8,8,10,3,8,3,5,3,5,5,5,7,5,6,11,4,5,12,8,7,5,5,4,8,5,5,5,7,9,7,8,6,8,4,3,4,8,4,3,9,9,8,10,6,4,9,8,8,5,9,8,3,1,6,8,5,3,11,9,8,5,8,5,6,7,4,8,9,9,8,3,11,9,7,9,5,7,9,6,4,7,8,3,7,7,10,6,7,5,5,9,11,11,4,5,6,9,7,3,13,9,7,9,4,4,7,5,6,5,8,5,3,3,9,6,10,4,4,3,9,3,4,8,8,8,4,6,12,8,6,7,4,8,11,8,3,2,7,6,9,2,9,5,6,5,3,7,10,8,5,9,6,7,9,5,10,6,7,2,5,8,8,4,8,8,5,8,5,9,5,8,8,5,3,1,5,4,10,4,11,9,5,5,8,4,8,5,7,5,10,6,4,5,7,7,4,4,4,7,7,6,9,4,4,7,5,7,4,4,10,7,9,8,6,9,6,5,3,3,7,4,5,4,8,10,6,9,8,5,8,6,8,8,6,9,7,7,2,4,8,8,5,5,6,6,5,10,9,8,4,5,5,10,6,2,9,3,4,9,4,5,2,3,4,9,3,10,7,9,3,5,8,6,9,8,9,8,6,5,6,10,8,8,6,9,5,8,7,6,4,9,6,6,6,9,8,7,9,4,5,7,7,8,3,5,4,4,6,4,2,7,4,7,7,9,5,2,8,5,4,3,2,8,5,8,6,8,1,6,7,7,6,7,3,7,3,11,12,12,8,4,7,8,9,3,6,9,5,9,9,7,11,8,10,8,9,4,4,9,3,6,3,3,8,11,7,4,12,4,7,8,10,7,3,3,2,9,6,4,7,8,3,10,4,4,7,10,2,6,9,6,6,4,11,3,3,9,6,5,2,10,6,11,3,6,7,10,6,4,9,4,4,11,9,5,3,6,5,4,4,6,6,4,4,6,6,8,3,4,3,7,9,11,6,7,4,7,7,8,8,4,2,3,7,7,6,3,6,10,8,7,8,8,10,4,10,5,6,3,3,8,6,5,9,5,10,3,4,5,2,4,5,10,8,2,5,3,7,8,3,7,9,5,6,8,6,4,9,6,7,3,10,4,10,3,7,10,5,9,5,3,2,4,8,5,4,4,2,7,4,6,4,3,9,6,8,2,4,8,3,9,6,3,9,4,5,4,3,4,8,3,9,7,7,6,4,2,6,6,1,6,7,11,6,4,3,3,11,3,4,6,3,7,9,2,8,4,5,7,4,3,7,3,6,4,7,8,7,6,7,9,12,11,10,4,5,4,7,11,3,9,3,6,4,5,3,7,2,9,3,9,5,3,5,8,9,7,4,8,4,11,8,9,9,3,4,8,5,4,11,5,8,4,5,2,4,7,4,2,1,4,1,9,8,3,4,5,4,3,7,8,1,6,6,9,4,3,4,7,5,7,7,8,6,9,5,1,9,7,9,3,11,5,4,4,9,4,10,9,6,8,5,5,5,1,6,8,5,5,5,9,4,8,2,5,9,3,5,8,9,7,5,2,8,6,4,5,8,7,3,7,8,9,2,7,7,9,6,5,3,6,8,2,7,6,4,7,4,10,9,6,4,6,8,8,7,6,13,8,5,2,5,3,7,4,5,8,5,4,2,6,8,8,5,4,7,7,4,3,4,3,8,8,2,4,8,8,7,5,10,4,11,6,3,6,7,10,9,2,4,5,7,4,4,10,2,3,7,8,1,8,5,7,9,4,5,8,9,9,7,11,5,3,5,7,7,2,2,9,4,11,6,4,8,4,5,6,3,5,8,4,13,5,10,6,6,5,7,4,8,5,10,6,8,6,12,6,5,4,3,5,4,5,3,12,8,8,1,3,4,5,3,7,5,4,5,4,3,7,7,5,5,9,9,4,6,6,10,9,6,9,3,10,4,7,10,5,5,7,6,7,10,4,3,10,8,8,6,8,5,9,9,2,7,3,4,3,9,5,6,7,2,5,4,2,7,5,7,4,4,5,8,8,12,9,3,5,9,11,6,6,7,2,9,6,5,5,8,4,4,4,4,8,4,4,6,3,7,3,2,12,7,6,3,3,4,5,8,7,10,5,2,2,8,11,6,5,5,6,7,5,7,4,7,9,1,4,5,3,8,6,3,6,8,3,6,6,6,5,5,4,7,8,3,8,9,7,7,4,5,5,9,10,5,4,3,5,7,4,4,4,8,4,3,4,7,8,4,3,5,4,1,4,6,12,3,8,7,4,5,10,2,7,3,4,4,3,3,5,8,8,8,9,7,7,4,8,8,5,9,5,3,7,8,8,4,3,3,4,10,11,10,6,6,7,9,2,6,6,3,6,5,7,12,6,4,5,1,5,7,4,3,5,1,5,8,6,5,7,4,5,6,5,5,4,7,10,2,7,3,4,3,4,2,6,10,3,9,7,5,9,8,4,8,6,8,7,4,2,2,9,5,5,9,7,8,7,6,3,3,4,4,7,6,3,3,6,13,8,5,13,9,6,6,7,4,8,3,5,7,5,4,5,7,7,3,6,3,3,5,2,8,11,6,6,4,6,7,4,1,7,8,3,8,9,3,7,4,5,6,3,5,4,11,3,4,11,6,3,4,5,3,3,7,4,7,3,9,7,8,3,8,5,9,10,12,5,4,5,5,5,8,9,3,4,5,8,4,3,4,4,4,5,4,8,6,7,4,3,9,5,4,9,4,4,11,6,4,3,5,9,9,6,5,4,4,2,8,7,9,6,5,13,5,3,7,8,4,6,6,10,5,6,10,7,10,10,9,4,9,5,8,4,8,5,4,3,8,5,6,6,4,9,9,5,7,7,5,2,6,6,4,3,9,7,8,7,4,3,9,9,6,3,4,7,6,8,4,4,4,1,5,4,8,7,11,5,7,4,4,10,6,5,4,7,4,5,3,8,8,5,4,6,5,5,11,2,5,7,8,2,8,5,3,4,9,3,3,3,4,7,5,4,3,7,3,3,9,2,6,5,3,2,5,8,9,3,4,4,3,3,3,4,1,9,7,2,8,4,4,5,3,6,11,7,3,10,3,4,8,9,6,5,5,8,6,10,4,1,4,3,6,9,4,13,5,5,6,8,8,4,6,7,10,7,10,4,2,8,7,4,4,7,2,7,9,7,4,7,10,3,2,4,4,2,4,5,6,4,8,5,11,8,8,7,6,3,9,3,7,6,7,13,4,4,8,9,5,11,9,10,5,3,3,3,7,3,4,6,6,3,5,8,6,4,9,3,4,5,3,8,6,4,7,3,2,10,8,6,6,4,6,7,11,3,3,6,4,4,10,4,2,6,3,10,7,4,3,5,4,3,2,7,4,5,4,9,6,7,5,7,3,4,3,2,4,3,2,5,10,10,5,7,5,4,4,4,10,4,2,1,3,4,2,4,8,6,3,7,5,4,4,6,4,7,5,6,5,3,4,6,6,7,7,2,5,4,8,4,6,4,7,6,6,4,2,4,3,5,3,5,2,6,4,6,8,8,8,5,5,8,6,4,9,3,7,4,5,5,3,3,8,3,8,6,2,4,9,4,4,7,5,3,3,9,5,7,2,9,3,9,5,6,7,7,7,4,5,9,3,10,7,3,4,7,8,7,3,4,8,7,2,7,7,5,4,4,6,3,6,5,6,2,8,2,5,10,3,8,3,8,5,8,3,5,7,3,2,8,7,5,9,5,10,3,5,4,9,3,6,6,2,3,8,9,4,9,11,4,9,4,7,4,1,4,2,5,8,7,5,6,6,5,9,7,10,7,8,6,7,3,3,5,7,3,8,4,5,9,2,7,8,4,6,8,1,8,9,2,4,4,2,9,3,8,3,2,7,4,6,7,6,2,3,3,8,2,4,3,8,3,2,5,4,5,4,3,4,2,2,7,10,8,8,2,3,4,9,2,3,9,8,4,4,2,5,2,5,5,3,4,6,2,9,5,4,4,2,8,8,8,10,4,3,5,4,4,1,8,5,7,4,9,4,2,3,4,2,3,8,3,8,9,3,2,5,4,2,6,4,4,2,8,1,2,7,9,3,5,2,8,4,5,11,3,5,6,9,4,6,9,7,4,6,8,5,3,3,4,5,5,5,3,6,3,9,6,5,10,8,3,5,9,3,4,3,3,9,7,5,5,8,5,3,5,7,4,6,8,8,4,3,7,9,2,3,6,4,5,3,4,4,8,9,8,8,8,7,2,7,7,9,5,3,3,5,10,8,2,4,2,6,4,5,3,7,5,7,3,7,2,2,3,4,6,6,4,7,9,3,8,10,6,5,9,8,7,9,3,3,3,10,7,3,7,3,4,5,8,7,9,8,6,4,5,6,7,3,8,6,10,3,5,10,11,5,8,8,4,11,4,7,9,3,6,3,4,5,4,5,1,8,4,3,6,7,7,4,3,5,4,4,11,7,3,7,2,2,6,5,11,8,4,8,3,8,4,3,1,2,3,2,5,4,3,6,4,6,3,4,5,5,4,9,8,6,6,5,6,7,4,3,2,6,6,4,3,3,4,7,6,2,7,11,3,10,6,3,4,5,3,3,5,5,10,4,9,7,4,9,4,3,8,6,4,1,10,2,8,4,4,5,9,9,8,6,3,9,7,5,7,3,7,4,5,3,7,2,5,2,3,2,3,6,5,12,5,2,9,4,3,7,2,5,5,4,3,4,3,5,5,8,6,7,5,4,6,4,3,5,3,13,4,6,7,9,8,3,8,4,8,3,4,4,3,6,2,2,9,5,11,6,4,3,8,4,3,8,9,4,7,5,6,5,4,2,3,3,1,6,6,5,2,7,3,4,10,5,4,3,3,7,3,7,9,6,8,3,7,6,4,7,7,3,9,4,7,3,2,1,6,8,6,7,5,7,5,4,7,4,6,3,8,8,2,7,8,5,2,9,9,7,2,4,2,7,5,9,4,1,3,1,5,7,5,4,4,6,1,8,8,6,4,5,7,2,5,5,8,4,2,2,4,6,7,9,4,4,1,4,3,4,9,6,5,9,3,6,5,7,9,4,2,3,6,2,5,4,2,5,3,4,4,4,3,7,5,3,2,8,4,9,7,10,6,8,3,5,9,3,2,4,11,9,3,4,7,11,5,6,8,2,6,7,6,5,7,6,5,5,1,4,9,4,4,3,5,3,7,8,5,3,10,8,5,3,9,4,8,3,3,1,2,6,2,7,6,3,2,5,8,3,3,8,3,5,5,3,3,7,6,6,4,6,4,8,4,2,4,4,8,7,4,2,8,3,5,5,7,4,4,5,2,3,6,3,1,3,8,5,3,3,2,3,4,2,5,5,7,2,8,5,4,5,10,6,2,5,4,5,5,3,5,2,5,4,5,6,6,2,7,10,6,6,4,3,6,5,3,8,4,7,5,7,8,5,3,11,4,11,3,5,2,2,5,8,1,9,8,6,2,7,7,4,8,3,10,3,5,3,4,3,5,7,7,4,7,4,5,5,8,5,7,7,5,1,1,7,4,3,1,3,9,6,7,3,4,4,3,7,5,3,7,3,1,1,5,3,3,3,3,4,6,9,8,7,8,5,8,3,7,8,2,4,5,4,7,4,9,6,4,4,2,5,6,6,8,4,8,3,2,7,7,2,6,7,4,6,5,5,7,6,5,3,3,2,3,4,7,4,4,3,6,5,3,10,2,4,3,8,5,8,4,2,10,3,3,3,10,3,6,9,7,4,12,2,4,2,4,2,2,5,5,5,10,6,4,3,8,5,8,8,5,4,4,5,4,5,5,3,6,9,2,4,6,7,5,6,3,3,8,3,6,3,2,2,4,3,2,3,6,1,9,3,7,3,6,3,6,3,2,10,7,6,7,3,5,7,3,4,3,6,4,2,8,5,6,6,2,3,3,12,6,4,3,3,7,3,2,10,5,3,3,2,8,3,8,9,5,2,5,2,8,10,5,4,4,5,9,6,8,6,9,6,8,4,6,6,3,2,4,5,4,5,6,3,2,1,6,4,5,5,2,6,9,2,5,4,5,4,2,3,10,3,3,3,4,1,8,3,5,3,2,6,4,9,3,2,2,6,4,6,3,3,5,2,2,3,4,5,3,2,2,2,2,5,4,2,8,7,5,9,1,7,3,6,8,3,4,6,4,7,4,5,9,3,3,9,6,9,4,5,3,4,5,5,5,5,8,7,6,3,5,8,4,2,4,2,3,3,9,3,3,5,5,4,6,5,2,2,4,6,2,2,8,4,5,7,7,10,3,5,3,6,4,6,3,2,3,4,8,2,6,7,5,2,5,4,5,4,3,2,3,8,4,4,4,4,8,6,3,3,4,3,6,4,8,5,6,5,7,4,3,2,8,5,4,5,3,3,3,8,8,2,5,5,3,4,6,2,5,4,4,4,5,6,7,3,3,2,5,4,4,5,5,4,5,5,2,4,7,3,3,2,4,4,5,8,4,2,2,6,5,11,5,6,2,4,10,3,6,3,7,1,5,7,4,4,4,2,2,5,3,8,10,3,5,4,2,6,1,3,10,3,3,3,2,4,4,2,3,9,5,2,6,4,5,4,6,5,1,2,2,6,4,8,3,3,7,2,7,6,6,5,4,5,4,3,4,3,5,4,1,1,4,5,8,2,3,8,1,6,5,3,2,3,4,3,2,5,2,3,5,4,4,6,9,2,4,6,4,2,6,3,6,3,2,1,8,2,5,4,4,3,4,5,8,9,4,5,1,5,7,4,4,4,6,3,3,4,3,5,3,3,3,6,2,4,6,4,3,3,7,5,5,2,3,2,3,3,3,5,6,3,4,4,2,4,6,3,5,3,5,2,2,5,4,5,5,3,3,4,3,4,5,1,3,5,9,4,9,2,3,8,8,5,7,2,6,5,4,6,8,4,2,3,1,3,5,1,5,3,3,7,4,4,2,3,6,5,4,2,4,6,4,7,2,8,3,4,4,4,2,1,7,4,3],\"xaxis\":\"x\",\"yaxis\":\"y\",\"type\":\"histogram\"},{\"alignmentgroup\":\"True\",\"bingroup\":\"x\",\"hovertemplate\":\"finish_lvl=1<br>count_play_day=%{x}<br>count=%{y}<extra></extra>\",\"legendgroup\":\"1\",\"marker\":{\"color\":\"#EF553B\",\"pattern\":{\"shape\":\"\"}},\"name\":\"1\",\"offsetgroup\":\"1\",\"orientation\":\"v\",\"showlegend\":true,\"x\":[10,10,5,8,8,10,7,8,8,5,9,9,10,7,8,6,11,5,9,6,8,8,5,9,9,8,11,8,8,7,6,10,9,9,5,1,8,8,6,11,7,9,9,9,9,9,6,10,9,10,9,8,6,8,6,5,7,7,9,9,8,2,6,7,9,9,10,7,6,7,8,9,11,6,7,9,9,7,11,7,7,9,7,9,9,8,11,10,12,5,7,7,6,7,10,5,5,6,5,10,7,8,8,3,8,11,7,9,9,14,8,4,7,9,10,10,8,11,7,9,11,9,8,8,13,8,9,4,10,8,8,11,8,9,7,8,10,9,10,8,8,6,10,9,2,8,8,6,7,3,7,9,5,10,9,11,8,5,8,7,9,7,7,10,8,6,11,9,10,9,12,9,10,8,9,8,9,9,10,8,8,8,11,5,9,3,13,11,6,9,12,5,9,6,6,11,5,9,9,7,6,10,11,5,9,7,8,10,5,5,3,8,10,7,5,8,4,11,8,6,6,8,6,11,9,8,11,10,9,10,6,10,10,5,8,10,8,8,9,12,12,10,4,10,8,10,7,8,7,11,6,7,9,10,5,4,8,6,8,7,8,6,8,5,3,6,8,9,10,8,9,6,7,8,8,6,8,10,10,9,12,7,11,7,10,5,9,7,9,10,10,11,8,7,10,9,11,6,6,6,9,9,6,9,10,8,10,9,12,11,9,7,6,9,6,10,7,8,8,9,4,8,13,10,9,5,11,9,9,6,8,5,12,14,10,10,11,11,6,10,9,10,9,8,8,6,11,12,8,8,6,11,7,10,8,9,4,8,11,7,5,5,5,12,8,10,9,9,8,9,7,9,13,6,10,8,9,4,9,11,8,11,9,6,11,10,9,10,8,6,7,7,7,7,6,7,9,10,7,9,9,7,9,11,10,11,7,13,5,10,5,9,11,9,6,7,7,9,10,9,7,8,10,7,7,6,8,2,8,8,10,7,10,8,3,12,6,9,8,10,5,9,8,13,5,6,8,7,8,7,8,7,8,8,10,8,10,10,7,10,9,8,11,10,6,9,11,9,10,5,11,5,9,9,6,5,7,11,10,6,8,8,9,14,8,6,9,9,7,6,5,6,5,8,7,8,6,9,7,10,6,9,9,9,8,9,5,9,7,9,10,5,10,4,9,7,12,8,12,6,10,10,10,9,7,8,5,8,8,9,6,6,8,7,6,9,5,9,8,7,7,6,5,7,9,10,9,8,10,7,9,6,11,9,8,9,7,7,10,12,11,8,6,7,10,7,9,9,7,8,8,12,8,9,8,8,11,4,8,9,9,6,11,5,11,9,7,9,4,8,11,3,10,8,7,10,11,6,3,9,3,11,10,8,9,13,11,9,3,9,5,9,9,9,11,8,6,6,8,9,12,7,7,10,7,10,8,6,10,4,9,4,3,8,5,7,11,10,3,5,7,7,8,8,12,9,11,7,10,10,9,8,8,6,8,4,7,10,8,6,6,12,8,11,9,5,9,9,12,8,5,11,7,8,10,3,9,8,9,4,7,6,7,8,8,7,8,9,7,8,13,8,7,13,5,7,7,9,8,9,10,11,10,6,11,8,7,8,9,4,8,11,11,8,5,5,9,8,10,7,9,11,6,5,4,9,8,11,8,7,10,7,10,8,11,6,9,9,8,11,8,7,10,7,8,8,14,7,7,7,7,8,9,9,8,9,8,3,8,7,10,9,8,7,8,9,3,9,9,7,5,9,6,4,8,9,9,7,9,8,12,9,8,4,6,6,9,11,8,9,9,8,12,8,9,9,11,7,12,9,9,11,9,7,8,6,9,9,7,13,8,6,9,5,7,8,6,10,11,6,7,8,9,7,7,10,11,9,7,7,7,7,11,8,8,6,8,9,11,9,4,8,9,8,7,7,8,6,8,7,5,9,12,12,7,5,10,6,11,8,7,12,6,12,8,10,7,9,6,11,6,9,9,9,16,7,7,12,8,8,11,10,8,12,6,6,8,8,13,11,8,8,7,4,5,8,9,10,11,7,7,11,4,13,9,7,10,8,8,7,5,7,13,7,9,5,8,9,6,9,13,7,7,8,10,9,7,10,9,12,10,6,6,7,9,9,5,9,6,9,10,7,10,9,9,8,10,8,9,5,8,11,4,9,12,9,11,7,9,8,10,7,7,9,10,11,12,9,10,12,9,7,10,8,4,7,6,8,9,8,9,9,8,10,8,8,7,9,9,11,10,11,8,9,8,8,6,7,9,13,7,7,6,10,8,10,11,8,7,9,8,11,7,6,8,7,7,11,8,7,9,10,8,6,5,9,9,7,6,5,7,7,8,9,8,8,9,8,9,8,9,8,9,13,8,8,7,8,9,8,10,11,10,7,11,7,9,10,7,9,4,10,7,8,5,9,8,9,10,7,9,7,6,4,12,8,8,7,9,13,8,10,10,13,4,6,5,7,9,9,5,10,10,9,9,6,14,8,7,8,9,10,10,8,9,11,6,12,6,11,11,10,12,12,6,10,8,8,10,8,10,9,9,10,4,8,8,7,7,10,10,7,8,8,10,10,9,12,6,5,8,11,5,7,6,8,5,7,8,6,6,6,8,7,9,10,8,11,7,7,11,8,10,9,9,6,10,6,8,11,6,6,5,10,6,9,8,10,9,8,12,12,5,7,9,9,5,6,6,8,11,8,10,4,7,12,6,7,9,8,8,9,9,9,10,9,11,7,10,8,11,6,16,6,10,8,9,8,10,8,12,6,11,10,7,7,7,9,9,10,9,10,12,10,7,11,5,11,9,10,9,7,11,7,9,11,8,8,8,9,7,7,4,11,11,8,8,11,7,9,7,9,9,8,4,10,9,12,4,10,14,7,8,6,6,12,9,9,5,10,7,9,5,9,9,5,9,8,11,9,10,9,9,7,7,7,5,9,8,8,8,11,7,5,10,5,7,5,9,8,7,10,9,5,7,12,10,12,7,10,9,5,10,13,10,10,10,8,10,9,12,8,8,11,6,6,7,7,7,10,7,7,5,9,10,9,7,8,8,13,12,13,5,7,11,15,7,9,7,10,7,10,7,7,9,9,11,7,8,6,9,11,8,3,11,9,10,9,11,9,10,7,9,10,8,5,4,12,7,8,8,6,8,8,7,9,8,8,8,6,11,6,8,7,11,7,9,11,6,8,10,10,7,10,6,7,12,9,7,6,10,8,12,8,6,10,9,8,10,6,10,4,8,6,9,6,7,10,7,7,10,8,9,8,4,6,10,10,10,5,6,11,8,7,8,5,4,11,12,7,10,5,5,9,8,8,6,8,6,9,11,6,9,10,10,8,10,7,10,11,10,10,11,12,7,5,8,12,11,5,10,6,11,7,9,8,6,6,7,10,9,12,9,6,5,11,8,7,12,7,6,5,12,8,10,7,12,10,7,13,9,7,9,10,6,10,9,11,11,7,6,5,12,6,11,10,7,8,8,11,6,9,10,8,10,10,10,7,8,7,7,8,7,11,9,7,9,8,8,7,11,9,9,4,10,7,7,9,11,7,7,9,13,7,7,9,4,7,9,7,8,5,9,8,3,7,9,7,9,11,7,9,11,11,8,9,9,9,7,7,12,10,9,7,6,8,8,7,10,10,10,9,9,9,9,10,4,4,9,7,9,9,5,9,10,9,10,10,10,7,11,6,10,7,12,12,9,9,6,9,7,4,7,7,5,11,8,4,6,9,12,9,8,10,7,8,12,7,9,10,4,10,9,10,10,7,5,12,5,11,11,10,12,8,8,10,10,2,9,9,11,12,8,8,10,11,9,13,7,8,8,11,8,10,8,7,5,9,10,10,8,9,11,7,10,10,11,6,10,8,12,6,8,10,8,10,8,10,4,8,10,12,10,11,10,7,7,11,8,5,9,10,7,10,8,8,8,10,5,7,10,5,8,8,9,8,6,7,11,10,10,11,8,5,8,8,10,9,12,8,10,10,10,7,9,13,9,8,7,12,9,7,5,11,7,8,7,6,8,9,9,7,8,9,10,4,8,6,9,9,10,9,6,8,6,10,7,12,7,7,7,10,10,8,7,9,9,11,7,11,10,13,11,7,7,7,7,8,10,9,11,5,7,10,8,9,12,11,7,6,9,10,6,6,6,5,10,8,9,9,7,9,8,7,9,7,7,7,8,10,5,4,8,4,9,9,6,5,9,11,5,7,11,8,5,10,7,8,11,8,7,8,8,14,10,7,9,11,9,10,11,7,7,6,9,10,9,11,6,6,7,9,8,8,8,7,15,4,9,9,9,8,8,10,6,8,9,13,8,8,8,10,10,9,7,8,10,6,8,10,4,7,5,9,11,8,9,9,9,8,5,9,8,8,9,10,7,7,7,8,9,7,12,11,9,10,8,7,9,8,10,10,6,8,6,7,9,11,7,9,10,9,10,10,10,9,6,11,6,12,9,13,4,10,9,9,6,10,5,7,4,12,10,8,11,9,11,9,7,10,10,8,8,10,9,9,6,12,8,7,6,9,11,8,3,10,5,11,7,8,8,8,9,12,7,7,7,10,11,10,11,7,10,10,7,9,5,9,9,8,8,9,7,12,9,12,8,9,10,7,12,12,10,8,7,9,7,10,6,6,8,9,10,11,11,10,5,10,10,9,3,10,9,12,6,6,4,6,10,7,9,5,12,9,10,11,9,10,6,11,7,10,8,7,8,8,5,8,9,7,11,8,9,10,8,9,11,9,8,10,3,10,9,10,10,11,9,9,10,8,7,8,7,7,10,7,9,8,10,7,8,9,11,8,5,8,7,10,9,10,10,11,6,9,6,12,7,8,8,9,5,9,5,9,10,11,8,11,6,10,5,10,10,10,11,10,9,8,9,8,5,8,10,8,10,9,9,11,5,12,9,8,9,8,9,3,6,7,5,12,7,8,9,7,7,12,9,9,9,10,9,7,7,10,9,10,12,11,7,8,4,13,3,6,10,9,10,8,8,14,7,9,7,7,10,7,8,7,9,7,11,10,9,6,7,8,14,12,8,6,9,8,11,9,6,11,9,9,9,8,10,10,12,10,8,6,8,6,9,7,9,6,8,9,12,9,10,4,9,8,4,11,9,3,9,8,8,7,8,3,11,8,10,9,9,8,4,6,10,8,4,8,4,12,8,9,7,12,11,9,6,9,7,8,7,11,11,8,8,5,9,9,5,8,7,6,9,7,4,8,10,8,10,7,11,8,12,11,11,11,5,9,9,11,6,10,6,10,10,12,8,8,9,6,8,9,3,9,11,12,10,4,9,9,8,8,9,8,11,4,9,8,8,12,6,10,5,12,9,11,10,9,5,8,5,11,8,6,6,5,10,13,6,7,9,14,9,12,8,5,9,10,10,13,4,8,8,5,8,6,5,7,8,11,10,8,9,10,3,8,10,10,6,10,9,10,7,10,10,9,7,4,6,10,11,10,9,9,6,4,12,7,9,12,8,8,7,9,9,6,10,6,9,10,9,7,10,10,8,2,8,6,8,11,12,10,5,9,6,8,9,8,10,9,7,9,10,9,8,10,8,10,9,10,8,10,11,4,7,8,11,10,9,10,5,7,13,3,8,10,7,7,8,11,9,8,11,9,6,8,6,12,8,11,8,6,11,10,9,11,9,7,11,7,11,5,11,9,11,5,7,9,9,5,5,9,6,8,7,5,5,9,6,7,10,10,9,10,5,9,10,12,4,4,8,5,11,6,8,5,13,12,10,9,10,11,11,7,4,10,7,10,10,11,4,8,8,8,5,8,9,9,8,7,7,12,6,10,6,10,7,5,6,7,7,8,11,8,8,8,3,8,8,7,7,11,9,9,6,8,9,10,7,12,8,6,8,12,7,4,8,8,8,6,6,10,7,6,9,10,9,6,9,8,7,9,8,7,8,11,8,7,12,6,8,9,9,9,7,12,6,7,8,8,11,5,10,7,11,9,7,4,10,9,9,8,9,11,12,7,10,8,6,8,11,12,6,7,6,12,5,10,9,11,12,12,7,6,10,13,7,5,10,6,10,10,8,7,10,6,7,9,3,10,10,4,5,6,8,8,10,7,5,4,8,5,12,7,6,6,10,9,5,10,5,4,9,7,11,9,6,10,6,11,9,5,5,11,7,6,9,10,6,10,8,9,9,6,10,8,5,11,7,9,8,5,7,9,7,7,10,10,4,7,6,4,3,8,4,9,6,7,6,7,5,10,8,10,8,9,6,9,12,5,8,12,10,8,8,7,7,4,7,12,9,9,7,14,9,6,6,5,9,10,7,3,7,8,10,8,8,9,7,10,8,8,10,10,11,7,9,4,7,10,3,5,12,11,6,4,10,11,8,10,13,9,10,10,7,10,11,7,10,8,6,8,6,7,8,9,7,6,7,8,5,9,7,8,3,7,10,8,9,7,7,7,6,9,11,5,8,6,10,4,11,6,7,11,9,8,9,7,7,11,7,10,7,11,7,9,5,9,8,7,7,7,10,7,7,9,7,9,10,7,5,8,8,9,10,9,12,10,11,7,8,8,4,5,10,8,8,7,8,11,7,7,10,10,10,8,6,11,10,7,7,8,10,8,8,9,9,9,8,10,11,7,9,9,7,9,9,8,10,10,6,10,10,9,5,8,5,6,10,8,5,8,9,9,6,11,9,8,9,5,9,8,9,12,7,11,8,9,12,8,9,10,9,7,9,9,6,9,9,10,17,10,8,8,8,9,11,11,7,3,11,9,4,5,8,10,9,9,6,7,7,7,9,11,10,11,10,8,9,10,11,5,9,10,7,11,5,7,7,3,8,9,6,9,6,8,4,11,5,10,10,5,12,11,6,6,4,10,8,7,9,11,4,7,10,8,8,7,11,7,11,6,7,7,9,8,7,11,11,11,10,13,9,9,9,8,9,9,10,10,5,15,7,7,9,11,9,7,10,8,11,10,10,8,12,8,8,6,7,8,10,7,10,9,6,9,9,11,7,7,9,7,11,10,10,6,10,11,9,9,8,7,13,8,9,9,10,11,8,7,8,8,11,9,5,11,8,10,10,5,9,7,7,7,12,10,6,8,8,6,8,5,4,6,8,8,8,10,10,8,9,7,7,9,8,6,5,2,8,10,9,9,5,7,10,8,8,11,8,4,8,8,7,9,8,9,4,11,5,7,6,10,11,10,10,12,11,10,4,11,10,8,7,4,14,6,5,8,7,9,8,7,9,8,11,11,8,7,10,9,12,3,8,4,8,11,6,10,12,8,12,8,7,8,7,8,6,8,4,5,11,8,7,10,10,7,8,6,8,6,8,9,7,11,8,8,10,9,9,9,11,7,8,4,3,8,11,7,7,7,8,8,6,6,9,9,11,9,5,4,10,3,7,5,10,8,4,8,8,8,8,9,8,10,10,7,8,7,8,11,7,7,6,8,7,6,8,12,3,8,9,10,9,12,7,6,12,11,10,9,7,8,9,7,7,7,10,11,9,8,8,8,6,9,11,7,6,9,8,9,6,7,11,9,6,7,9,10,10,6,9,6,5,10,9,10,11,8,6,8,10,6,6,6,11,8,6,7,7,8,8,7,14,11,5,5,8,9,6,11,8,5,7,10,9,7,11,8,9,7,4,5,10,9,10,6,9,7,8,8,9,8,8,7,8,7,8,9,10,11,8,4,10,10,4,10,10,5,11,8,10,6,7,9,8,4,10,5,9,9,8,8,8,7,5,5,9,8,9,11,11,7,9,7,5,7,7,7,3,7,8,6,7,11,12,7,6,11,6,11,8,9,8,6,8,6,10,4,10,12,6,5,6,11,10,5,5,10,6,10,5,12,11,9,9,9,8,4,8,7,7,7,7,7,9,8,9,8,7,7,7,7,9,10,6,10,10,12,5,9,9,6,10,11,2,10,5,9,9,6,7,11,10,10,8,8,9,8,4,11,8,9,9,8,9,10,11,8,8,12,6,6,11,10,8,8,12,9,10,6,7,7,12,6,10,8,7,5,9,8,8,10,9,7,10,9,6,9,7,8,9,6,9,10,10,8,5,12,6,7,7,7,10,7,5,8,7,6,10,4,3,5,8,7,10,5,10,12,10,9,6,12,9,6,8,8,8,11,10,9,10,8,8,7,8,5,5,8,8,11,10,10,12,9,9,11,9,4,7,4,8,10,6,13,8,8,8,9,7,5,6,8,11,3,8,2,12,5,10,11,9,5,9,8,8,10,10,4,12,10,8,7,6,2,7,8,10,6,10,7,9,9,11,9,10,9,10,7,8,10,6,5,9,8,6,11,8,9,11,8,4,6,10,9,4,5,5,4,9,12,9,9,10,6,13,11,8,7,13,10,14,9,9,10,10,10,4,6,10,7,9,7,6,9,7,6,8,8,7,7,5,10,10,9,8,10,5,7,10,11,6,9,5,8,5,9,8,10,5,7,8,11,9,10,6,7,7,10,7,6,8,9,8,5,10,6,10,6,10,11,10,8,9,8,10,9,12,9,10,4,10,8,5,5,8,7,7,8,9,8,9,12,7,7,9,9,10,9,10,6,5,7,10,11,6,5,8,10,9,9,11,8,9,7,9,9,9,11,7,8,12,5,5,11,4,6,7,10,6,10,8,8,9,8,10,4,10,8,9,7,12,13,9,11,6,9,7,9,9,10,5,10,8,3,9,7,9,6,6,9,7,8,10,8,10,11,9,11,8,11,9,2,9,9,6,5,10,8,8,11,10,7,9,6,12,10,9,5,8,3,9,4,4,5,8,6,8,11,5,11,12,10,5,7,4,9,11,8,9,9,4,7,11,10,12,7,8,11,9,11,11,7,6,5,4,7,2,12,11,6,10,10,7,9,9,7,7,8,5,8,9,9,11,7,10,10,8,8,4,7,6,7,10,8,9,11,13,9,4,8,8,10,5,9,8,7,11,3,7,9,10,9,7,8,5,8,9,6,9,7,9,5,9,9,8,9,11,9,7,6,10,11,11,8,9,9,5,11,6,5,10,10,10,7,8,9,8,8,9,9,7,9,10,9,10,8,9,5,10,8,9,9,10,12,5,6,9,7,9,11,9,10,8,11,5,7,10,4,5,8,8,9,12,9,8,7,11,9,8,6,10,6,11,12,6,9,5,7,10,4,10,8,11,7,8,8,6,7,12,6,5,7,3,4,7,7,6,13,7,9,4,6,7,7,4,8,8,9,8,8,10,9,4,9,10,11,6,11,6,6,9,5,11,4,5,9,8,8,8,10,9,9,9,7,13,9,8,5,7,7,8,3,10,11,4,9,13,3,8,9,8,9,8,8,8,9,4,10,5,10,6,15,9,8,4,8,6,8,10,4,8,9,6,11,5,9,9,7,12,6,9,8,12,10,9,11,5,10,10,9,9,3,6,4,11,5,6,9,3,7,6,4,9,10,9,4,8,11,7,11,7,13,4,5,9,7,11,12,9,6,9,7,9,5,4,9,12,8,7,5,3,8,8,8,6,10,7,9,9,7,4,10,7,8,7,11,5,5,9,12,6,9,7,6,3,8,8,9,10,7,7,8,7,7,6,2,8,4,5,8,4,6,5,10,10,6,7,8,4,8,6,8,6,11,12,10,4,6,9,8,13,4,11,10,9,6,8,6,9,8,8,9,5,9,9,6,6,8,3,5,6,11,9,7,6,8,2,11,10,4,11,5,8,12,4,9,7,8,6,10,5,8,7,6,5,12,8,13,13,6,10,7,8,7,6,7,5,6,8,6,6,7,3,10,7,10,5,7,11,7,8,7,6,7,10,8,12,8,8,8,12,4,10,8,9,5,8,8,7,11,11,7,9,11,11,7,5,5,9,9,11,7,9,6,11,11,5,9,10,10,10,7,12,9,6,10,9,7,8,8,8,6,11,8,12,10,4,10,9,8,9,7,9,6,9,9,10,6,3,8,6,8,8,8,6,11,7,10,9,11,7,9,7,7,9,7,12,4,9,9,9,8,6,9,10,6,8,7,10,3,12,8,9,8,7,8,7,9,4,6,8,11,8,9,7,10,8,5,9,9,10,5,7,11,8,10,9,11,9,8,7,12,10,7,4,7,8,8,8,11,8,5,6,8,11,8,10,10,7,10,9,4,8,5,7,8,3,9,8,7,9,4,9,8,9,8,8,3,10,3,8,10,7,8,5,12,6,10,8,4,10,5,9,3,8,7,6,6,4,9,7,4,5,12,9,11,9,7,8,5,9,8,9,9,5,6,10,8,8,9,7,8,12,10,4,3,5,6,8,9,6,5,10,10,7,8,8,7,9,8,9,5,6,9,2,8,6,10,3,8,7,11,7,9,9,11,12,5,2,5,8,8,3,5,8,6,7,8,10,7,9,5,9,9,7,6,11,4,10,10,9,7,15,8,6,4,10,10,5,8,9,9,9,8,10,9,4,8,10,7,8,10,10,9,9,4,4,8,9,6,6,10,10,8,9,7,5,6,5,10,6,8,3,5,10,8,6,9,7,13,3,6,7,8,8,7,13,9,8,9,7,8,8,4,12,7,8,5,5,7,12,8,9,4,8,8,9,7,7,8,7,9,10,9,5,8,6,8,8,10,9,7,12,11,3,3,9,12,10,3,8,6,6,7,7,7,8,4,8,10,9,7,7,9,9,4,6,9,4,10,5,6,9,8,6,5,10,10,5,11,11,3,8,7,9,8,9,4,10,6,6,7,5,8,6,10,5,2,9,10,11,7,9,5,8,3,8,6,12,11,10,10,4,10,12,9,5,9,7,4,6,9,7,10,7,7,6,6,11,10,9,6,10,9,8,9,13,12,4,11,7,6,8,8,11,9,8,6,5,8,9,10,7,5,9,11,8,7,9,9,11,8,10,5,10,4,12,12,10,8,10,3,3,5,10,9,6,11,6,10,8,8,5,11,8,8,4,6,4,10,10,9,8,11,10,9,5,10,8,10,6,9,10,9,6,10,5,9,10,7,10,7,4,10,5,8,10,6,12,7,10,4,8,9,8,7,12,12,7,10,10,8,9,3,7,6,10,6,7,6,7,6,9,4,10,9,13,15,3,11,11,4,4,9,10,10,5,11,8,5,8,9,2,9,5,10,5,8,11,8,8,9,9,9,11,7,7,8,10,6,7,10,7,8,10,3,12,6,3,9,7,7,10,7,6,9,8,10,10,9,8,8,8,8,11,10,7,9,9,9,11,9,8,12,8,9,10,7,9,7,11,6,9,3,5,10,4,9,8,7,7,4,10,9,8,7,8,3,11,8,5,3,10,10,9,8,5,10,7,4,7,3,12,10,11,6,7,9,5,9,7,10,4,7,10,9,2,7,7,10,8,9,8,7,3,9,6,3,8,8,6,11,3,4,10,8,8,7,5,10,8,7,4,7,7,8,7,6,5,7,8,8,10,5,9,5,7,8,9,10,7,4,9,9,7,9,7,6,5,9,9,8,8,3,9,9,11,11,6,7,10,8,15,8,3,9,6,7,5,8,10,9,6,5,5,2,9,4,7,6,11,10,5,7,7,9,10,11,5,14,9,5,8,7,9,5,8,8,9,4,13,4,5,8,5,7,7,4,6,10,7,8,7,12,6,9,10,11,7,8,4,9,9,10,9,10,7,3,8,5,5,9,7,8,8,12,10,6,10,8,9,9,8,8,6,10,5,7,5,5,9,2,9,12,11,7,2,4,7,10,9,4,8,8,6,7,8,7,8,10,9,11,7,9,4,6,8,7,9,10,10,5,4,5,11,12,9,9,7,11,6,9,9,12,9,8,10,12,7,9,11,7,10,8,9,10,5,7,9,8,7,5,10,9,10,8,10,7,8,11,9,10,8,8,4,4,10,8,7,9,9,4,4,8,11,9,9,9,9,6,6,9,7,8,10,4,5,6,2,7,10,3,4,8,8,9,9,8,5,6,7,4,5,4,6,10,7,4,9,9,6,9,10,8,9,9,6,6,7,6,12,11,8,9,6,5,5,10,4,9,8,9,2,8,10,7,4,10,10,6,10,9,8,9,8,8,11,7,6,7,12,7,9,8,4,7,6,5,9,8,8,10,10,7,7,10,5,10,7,6,4,9,7,8,6,9,6,10,9,8,4,13,11,3,7,6,7,7,11,5,9,8,5,9,9,7,9,7,8,6,8,8,7,7,8,7,10,7,5,9,3,8,10,6,9,3,8,8,2,10,7,5,7,8,3,7,6,7,3,8,7,9,4,11,10,12,10,6,5,6,6,3,11,11,2,4,5,9,8,9,11,9,7,7,5,4,8,4,3,10,5,3,4,7,2,7,6,7,9,7,4,10,5,3,8,9,4,4,9,10,8,5,7,7,4,4,10,8,4,7,4,9,9,8,5,2,3,7,4,8,4,3,3,6,4,7,12,7,8,5,9,11,13,9,10,8,9,5,7,4,5,4,8,10,2,8,3,9,10,8,8,10,9,3,4,8,10,6,7,6,8,5,5,8,6,4,4,9,11,4,6,8,6,8,6,5,8,3,5,8,9,6,8,10,3,8,3,6,6,8,7,8,2,6,8,9,9,7,7,3,3,5,8,5,7,11,8,4,5,8,8,9,4,9,6,5,7,6,8,7,8,7,10,3,9,3,3,6,7,8,11,8,11,10,8,5,10,5,4,2,7,3,7,8,9,3,7,5,10,10,12,5,5,7,9,6,13,8,9,3,11,6,9,7,5,6,4,7,12,7,3,5,4,11,5,11,5,8,6,9,7,4,8,8,7,8,7,10,10,8,10,8,6,9,9,2,2,3,7,8,8,3,8,4,7,12,8,5,7,8,9,5,8,10,3,4,4,10,9,10,5,5,7,4,11,5,7,6,6,9,9,10,3,8,4,4,9,6,7,4,6,8,11,7,6,10,8,8,6,6,3,10,10,5,8,3,5,9,7,9,9,5,8,5,8,5,8,2,8,10,10,10,8,5,3,7,10,9,9,6,4,5,3,5,8,7,10,9,7,9,8,4,6,4,3,6,11,5,7,9,8,6,10,7,8,9,9,7,4,8,6,9,11,7,6,5,9,10,6,6,9,6,4,7,11,6,6,3,7,10,8,3,3,8,12,8,7,5,4,7,3,2,7,6,4,7,10,3,9,6,10,3,7,7,9,7,9,3,8,11,12,5,6],\"xaxis\":\"x\",\"yaxis\":\"y\",\"type\":\"histogram\"}],                        {\"template\":{\"data\":{\"histogram2dcontour\":[{\"type\":\"histogram2dcontour\",\"colorbar\":{\"outlinewidth\":0,\"ticks\":\"\"},\"colorscale\":[[0.0,\"#0d0887\"],[0.1111111111111111,\"#46039f\"],[0.2222222222222222,\"#7201a8\"],[0.3333333333333333,\"#9c179e\"],[0.4444444444444444,\"#bd3786\"],[0.5555555555555556,\"#d8576b\"],[0.6666666666666666,\"#ed7953\"],[0.7777777777777778,\"#fb9f3a\"],[0.8888888888888888,\"#fdca26\"],[1.0,\"#f0f921\"]]}],\"choropleth\":[{\"type\":\"choropleth\",\"colorbar\":{\"outlinewidth\":0,\"ticks\":\"\"}}],\"histogram2d\":[{\"type\":\"histogram2d\",\"colorbar\":{\"outlinewidth\":0,\"ticks\":\"\"},\"colorscale\":[[0.0,\"#0d0887\"],[0.1111111111111111,\"#46039f\"],[0.2222222222222222,\"#7201a8\"],[0.3333333333333333,\"#9c179e\"],[0.4444444444444444,\"#bd3786\"],[0.5555555555555556,\"#d8576b\"],[0.6666666666666666,\"#ed7953\"],[0.7777777777777778,\"#fb9f3a\"],[0.8888888888888888,\"#fdca26\"],[1.0,\"#f0f921\"]]}],\"heatmap\":[{\"type\":\"heatmap\",\"colorbar\":{\"outlinewidth\":0,\"ticks\":\"\"},\"colorscale\":[[0.0,\"#0d0887\"],[0.1111111111111111,\"#46039f\"],[0.2222222222222222,\"#7201a8\"],[0.3333333333333333,\"#9c179e\"],[0.4444444444444444,\"#bd3786\"],[0.5555555555555556,\"#d8576b\"],[0.6666666666666666,\"#ed7953\"],[0.7777777777777778,\"#fb9f3a\"],[0.8888888888888888,\"#fdca26\"],[1.0,\"#f0f921\"]]}],\"heatmapgl\":[{\"type\":\"heatmapgl\",\"colorbar\":{\"outlinewidth\":0,\"ticks\":\"\"},\"colorscale\":[[0.0,\"#0d0887\"],[0.1111111111111111,\"#46039f\"],[0.2222222222222222,\"#7201a8\"],[0.3333333333333333,\"#9c179e\"],[0.4444444444444444,\"#bd3786\"],[0.5555555555555556,\"#d8576b\"],[0.6666666666666666,\"#ed7953\"],[0.7777777777777778,\"#fb9f3a\"],[0.8888888888888888,\"#fdca26\"],[1.0,\"#f0f921\"]]}],\"contourcarpet\":[{\"type\":\"contourcarpet\",\"colorbar\":{\"outlinewidth\":0,\"ticks\":\"\"}}],\"contour\":[{\"type\":\"contour\",\"colorbar\":{\"outlinewidth\":0,\"ticks\":\"\"},\"colorscale\":[[0.0,\"#0d0887\"],[0.1111111111111111,\"#46039f\"],[0.2222222222222222,\"#7201a8\"],[0.3333333333333333,\"#9c179e\"],[0.4444444444444444,\"#bd3786\"],[0.5555555555555556,\"#d8576b\"],[0.6666666666666666,\"#ed7953\"],[0.7777777777777778,\"#fb9f3a\"],[0.8888888888888888,\"#fdca26\"],[1.0,\"#f0f921\"]]}],\"surface\":[{\"type\":\"surface\",\"colorbar\":{\"outlinewidth\":0,\"ticks\":\"\"},\"colorscale\":[[0.0,\"#0d0887\"],[0.1111111111111111,\"#46039f\"],[0.2222222222222222,\"#7201a8\"],[0.3333333333333333,\"#9c179e\"],[0.4444444444444444,\"#bd3786\"],[0.5555555555555556,\"#d8576b\"],[0.6666666666666666,\"#ed7953\"],[0.7777777777777778,\"#fb9f3a\"],[0.8888888888888888,\"#fdca26\"],[1.0,\"#f0f921\"]]}],\"mesh3d\":[{\"type\":\"mesh3d\",\"colorbar\":{\"outlinewidth\":0,\"ticks\":\"\"}}],\"scatter\":[{\"fillpattern\":{\"fillmode\":\"overlay\",\"size\":10,\"solidity\":0.2},\"type\":\"scatter\"}],\"parcoords\":[{\"type\":\"parcoords\",\"line\":{\"colorbar\":{\"outlinewidth\":0,\"ticks\":\"\"}}}],\"scatterpolargl\":[{\"type\":\"scatterpolargl\",\"marker\":{\"colorbar\":{\"outlinewidth\":0,\"ticks\":\"\"}}}],\"bar\":[{\"error_x\":{\"color\":\"#2a3f5f\"},\"error_y\":{\"color\":\"#2a3f5f\"},\"marker\":{\"line\":{\"color\":\"#E5ECF6\",\"width\":0.5},\"pattern\":{\"fillmode\":\"overlay\",\"size\":10,\"solidity\":0.2}},\"type\":\"bar\"}],\"scattergeo\":[{\"type\":\"scattergeo\",\"marker\":{\"colorbar\":{\"outlinewidth\":0,\"ticks\":\"\"}}}],\"scatterpolar\":[{\"type\":\"scatterpolar\",\"marker\":{\"colorbar\":{\"outlinewidth\":0,\"ticks\":\"\"}}}],\"histogram\":[{\"marker\":{\"pattern\":{\"fillmode\":\"overlay\",\"size\":10,\"solidity\":0.2}},\"type\":\"histogram\"}],\"scattergl\":[{\"type\":\"scattergl\",\"marker\":{\"colorbar\":{\"outlinewidth\":0,\"ticks\":\"\"}}}],\"scatter3d\":[{\"type\":\"scatter3d\",\"line\":{\"colorbar\":{\"outlinewidth\":0,\"ticks\":\"\"}},\"marker\":{\"colorbar\":{\"outlinewidth\":0,\"ticks\":\"\"}}}],\"scattermapbox\":[{\"type\":\"scattermapbox\",\"marker\":{\"colorbar\":{\"outlinewidth\":0,\"ticks\":\"\"}}}],\"scatterternary\":[{\"type\":\"scatterternary\",\"marker\":{\"colorbar\":{\"outlinewidth\":0,\"ticks\":\"\"}}}],\"scattercarpet\":[{\"type\":\"scattercarpet\",\"marker\":{\"colorbar\":{\"outlinewidth\":0,\"ticks\":\"\"}}}],\"carpet\":[{\"aaxis\":{\"endlinecolor\":\"#2a3f5f\",\"gridcolor\":\"white\",\"linecolor\":\"white\",\"minorgridcolor\":\"white\",\"startlinecolor\":\"#2a3f5f\"},\"baxis\":{\"endlinecolor\":\"#2a3f5f\",\"gridcolor\":\"white\",\"linecolor\":\"white\",\"minorgridcolor\":\"white\",\"startlinecolor\":\"#2a3f5f\"},\"type\":\"carpet\"}],\"table\":[{\"cells\":{\"fill\":{\"color\":\"#EBF0F8\"},\"line\":{\"color\":\"white\"}},\"header\":{\"fill\":{\"color\":\"#C8D4E3\"},\"line\":{\"color\":\"white\"}},\"type\":\"table\"}],\"barpolar\":[{\"marker\":{\"line\":{\"color\":\"#E5ECF6\",\"width\":0.5},\"pattern\":{\"fillmode\":\"overlay\",\"size\":10,\"solidity\":0.2}},\"type\":\"barpolar\"}],\"pie\":[{\"automargin\":true,\"type\":\"pie\"}]},\"layout\":{\"autotypenumbers\":\"strict\",\"colorway\":[\"#636efa\",\"#EF553B\",\"#00cc96\",\"#ab63fa\",\"#FFA15A\",\"#19d3f3\",\"#FF6692\",\"#B6E880\",\"#FF97FF\",\"#FECB52\"],\"font\":{\"color\":\"#2a3f5f\"},\"hovermode\":\"closest\",\"hoverlabel\":{\"align\":\"left\"},\"paper_bgcolor\":\"white\",\"plot_bgcolor\":\"#E5ECF6\",\"polar\":{\"bgcolor\":\"#E5ECF6\",\"angularaxis\":{\"gridcolor\":\"white\",\"linecolor\":\"white\",\"ticks\":\"\"},\"radialaxis\":{\"gridcolor\":\"white\",\"linecolor\":\"white\",\"ticks\":\"\"}},\"ternary\":{\"bgcolor\":\"#E5ECF6\",\"aaxis\":{\"gridcolor\":\"white\",\"linecolor\":\"white\",\"ticks\":\"\"},\"baxis\":{\"gridcolor\":\"white\",\"linecolor\":\"white\",\"ticks\":\"\"},\"caxis\":{\"gridcolor\":\"white\",\"linecolor\":\"white\",\"ticks\":\"\"}},\"coloraxis\":{\"colorbar\":{\"outlinewidth\":0,\"ticks\":\"\"}},\"colorscale\":{\"sequential\":[[0.0,\"#0d0887\"],[0.1111111111111111,\"#46039f\"],[0.2222222222222222,\"#7201a8\"],[0.3333333333333333,\"#9c179e\"],[0.4444444444444444,\"#bd3786\"],[0.5555555555555556,\"#d8576b\"],[0.6666666666666666,\"#ed7953\"],[0.7777777777777778,\"#fb9f3a\"],[0.8888888888888888,\"#fdca26\"],[1.0,\"#f0f921\"]],\"sequentialminus\":[[0.0,\"#0d0887\"],[0.1111111111111111,\"#46039f\"],[0.2222222222222222,\"#7201a8\"],[0.3333333333333333,\"#9c179e\"],[0.4444444444444444,\"#bd3786\"],[0.5555555555555556,\"#d8576b\"],[0.6666666666666666,\"#ed7953\"],[0.7777777777777778,\"#fb9f3a\"],[0.8888888888888888,\"#fdca26\"],[1.0,\"#f0f921\"]],\"diverging\":[[0,\"#8e0152\"],[0.1,\"#c51b7d\"],[0.2,\"#de77ae\"],[0.3,\"#f1b6da\"],[0.4,\"#fde0ef\"],[0.5,\"#f7f7f7\"],[0.6,\"#e6f5d0\"],[0.7,\"#b8e186\"],[0.8,\"#7fbc41\"],[0.9,\"#4d9221\"],[1,\"#276419\"]]},\"xaxis\":{\"gridcolor\":\"white\",\"linecolor\":\"white\",\"ticks\":\"\",\"title\":{\"standoff\":15},\"zerolinecolor\":\"white\",\"automargin\":true,\"zerolinewidth\":2},\"yaxis\":{\"gridcolor\":\"white\",\"linecolor\":\"white\",\"ticks\":\"\",\"title\":{\"standoff\":15},\"zerolinecolor\":\"white\",\"automargin\":true,\"zerolinewidth\":2},\"scene\":{\"xaxis\":{\"backgroundcolor\":\"#E5ECF6\",\"gridcolor\":\"white\",\"linecolor\":\"white\",\"showbackground\":true,\"ticks\":\"\",\"zerolinecolor\":\"white\",\"gridwidth\":2},\"yaxis\":{\"backgroundcolor\":\"#E5ECF6\",\"gridcolor\":\"white\",\"linecolor\":\"white\",\"showbackground\":true,\"ticks\":\"\",\"zerolinecolor\":\"white\",\"gridwidth\":2},\"zaxis\":{\"backgroundcolor\":\"#E5ECF6\",\"gridcolor\":\"white\",\"linecolor\":\"white\",\"showbackground\":true,\"ticks\":\"\",\"zerolinecolor\":\"white\",\"gridwidth\":2}},\"shapedefaults\":{\"line\":{\"color\":\"#2a3f5f\"}},\"annotationdefaults\":{\"arrowcolor\":\"#2a3f5f\",\"arrowhead\":0,\"arrowwidth\":1},\"geo\":{\"bgcolor\":\"white\",\"landcolor\":\"#E5ECF6\",\"subunitcolor\":\"white\",\"showland\":true,\"showlakes\":true,\"lakecolor\":\"white\"},\"title\":{\"x\":0.05},\"mapbox\":{\"style\":\"light\"}}},\"xaxis\":{\"anchor\":\"y\",\"domain\":[0.0,1.0],\"title\":{\"text\":\"<b>Number of game days</b>\"}},\"yaxis\":{\"anchor\":\"x\",\"domain\":[0.0,1.0],\"title\":{\"text\":\"<b>Number of users</b>\"}},\"legend\":{\"title\":{\"text\":\"finish_lvl\"},\"tracegroupgap\":0},\"margin\":{\"t\":60},\"barmode\":\"group\",\"height\":400,\"width\":800,\"title\":{\"font\":{\"family\":\"Arial\",\"size\":18,\"color\":\"#344243\"},\"text\":\"<b>Distribution of the number of game days</b>\",\"x\":0.5},\"plot_bgcolor\":\"#f8f6f6\"},                        {\"responsive\": true}                    ).then(function(){\n",
              "                            \n",
              "var gd = document.getElementById('76395b26-5fcd-49dc-a2f6-25d0fe62a535');\n",
              "var x = new MutationObserver(function (mutations, observer) {{\n",
              "        var display = window.getComputedStyle(gd).display;\n",
              "        if (!display || display === 'none') {{\n",
              "            console.log([gd, 'removed!']);\n",
              "            Plotly.purge(gd);\n",
              "            observer.disconnect();\n",
              "        }}\n",
              "}});\n",
              "\n",
              "// Listen for the removal of the full notebook cells\n",
              "var notebookContainer = gd.closest('#notebook-container');\n",
              "if (notebookContainer) {{\n",
              "    x.observe(notebookContainer, {childList: true});\n",
              "}}\n",
              "\n",
              "// Listen for the clearing of the current output cell\n",
              "var outputEl = gd.closest('.output');\n",
              "if (outputEl) {{\n",
              "    x.observe(outputEl, {childList: true});\n",
              "}}\n",
              "\n",
              "                        })                };                            </script>        </div>\n",
              "</body>\n",
              "</html>"
            ]
          },
          "metadata": {}
        }
      ],
      "source": [
        "plotly_hist(new_lvl, 'count_play_day', 'Distribution of the number of game days', \n",
        "            'Number of game days', 'Number of users', color='finish_lvl')"
      ]
    },
    {
      "cell_type": "markdown",
      "metadata": {
        "id": "AUskb4QgoLI-"
      },
      "source": [
        "On average, during the presented period, players had 7-9 game days for those who completed the first stage and 4-8 for users who did not pass the first stage."
      ]
    },
    {
      "cell_type": "markdown",
      "metadata": {
        "id": "b5YgciYdoLI-"
      },
      "source": [
        "### Distribution of buildings over the time"
      ]
    },
    {
      "cell_type": "code",
      "execution_count": 38,
      "metadata": {
        "id": "CnmRi2IRoLJA"
      },
      "outputs": [],
      "source": [
        "graph = new_lvl.merge(actions, how='left', on='user_id')\n",
        "graph['days'] = (graph['date'] - graph['day1']) / datetime.timedelta(days=1)"
      ]
    },
    {
      "cell_type": "code",
      "execution_count": 39,
      "metadata": {
        "id": "xdDQqKMioLJA",
        "colab": {
          "base_uri": "https://localhost:8080/",
          "height": 542
        },
        "outputId": "cff85f07-67fa-4aa3-da6a-5915cbf530de"
      },
      "outputs": [
        {
          "output_type": "display_data",
          "data": {
            "text/html": [
              "<html>\n",
              "<head><meta charset=\"utf-8\" /></head>\n",
              "<body>\n",
              "    <div>            <script src=\"https://cdnjs.cloudflare.com/ajax/libs/mathjax/2.7.5/MathJax.js?config=TeX-AMS-MML_SVG\"></script><script type=\"text/javascript\">if (window.MathJax && window.MathJax.Hub && window.MathJax.Hub.Config) {window.MathJax.Hub.Config({SVG: {font: \"STIX-Web\"}});}</script>                <script type=\"text/javascript\">window.PlotlyConfig = {MathJaxConfig: 'local'};</script>\n",
              "        <script src=\"https://cdn.plot.ly/plotly-2.18.2.min.js\"></script>                <div id=\"ee259b54-231f-4aa5-84bc-2c480938facc\" class=\"plotly-graph-div\" style=\"height:525px; width:100%;\"></div>            <script type=\"text/javascript\">                                    window.PLOTLYENV=window.PLOTLYENV || {};                                    if (document.getElementById(\"ee259b54-231f-4aa5-84bc-2c480938facc\")) {                    Plotly.newPlot(                        \"ee259b54-231f-4aa5-84bc-2c480938facc\",                        [{\"hovertemplate\":\"building_type=assembly_shop<br>days=%{x}<br>user_id=%{y}<extra></extra>\",\"legendgroup\":\"assembly_shop\",\"line\":{\"color\":\"#636efa\",\"dash\":\"solid\"},\"marker\":{\"symbol\":\"circle\"},\"mode\":\"lines+markers\",\"name\":\"assembly_shop\",\"orientation\":\"v\",\"showlegend\":true,\"x\":[0.0,1.0,2.0,3.0,4.0,5.0,6.0],\"xaxis\":\"x\",\"y\":[17692,7354,7234,6904,6500,5338,3472],\"yaxis\":\"y\",\"type\":\"scatter\"},{\"hovertemplate\":\"building_type=spaceport<br>days=%{x}<br>user_id=%{y}<extra></extra>\",\"legendgroup\":\"spaceport\",\"line\":{\"color\":\"#EF553B\",\"dash\":\"solid\"},\"marker\":{\"symbol\":\"circle\"},\"mode\":\"lines+markers\",\"name\":\"spaceport\",\"orientation\":\"v\",\"showlegend\":true,\"x\":[0.0,1.0,2.0,3.0,4.0,5.0,6.0,7.0,8.0,9.0,10.0,11.0,12.0,13.0,14.0,15.0,16.0,17.0,18.0,19.0,20.0,21.0,22.0,23.0,24.0,25.0,26.0,27.0,28.0,30.0,31.0],\"xaxis\":\"x\",\"y\":[1116,2738,3528,4546,5433,6188,6997,6339,4979,4310,3664,2823,2041,1392,954,685,525,354,248,158,119,68,39,37,16,12,6,7,1,1,1],\"yaxis\":\"y\",\"type\":\"scatter\"},{\"hovertemplate\":\"building_type=research_center<br>days=%{x}<br>user_id=%{y}<extra></extra>\",\"legendgroup\":\"research_center\",\"line\":{\"color\":\"#00cc96\",\"dash\":\"solid\"},\"marker\":{\"symbol\":\"circle\"},\"mode\":\"lines+markers\",\"name\":\"research_center\",\"orientation\":\"v\",\"showlegend\":true,\"x\":[1.0,2.0,3.0,4.0,5.0,6.0,7.0,8.0,9.0,10.0,11.0,12.0,13.0,14.0,15.0,16.0,17.0,18.0,19.0,20.0,21.0,22.0,23.0,24.0,25.0,26.0,27.0,28.0,29.0,30.0],\"xaxis\":\"x\",\"y\":[1,18,69,276,639,1165,1540,1749,1650,1398,1324,1101,818,685,488,375,270,185,142,80,59,37,20,16,13,7,4,5,1,2],\"yaxis\":\"y\",\"type\":\"scatter\"}],                        {\"template\":{\"data\":{\"histogram2dcontour\":[{\"type\":\"histogram2dcontour\",\"colorbar\":{\"outlinewidth\":0,\"ticks\":\"\"},\"colorscale\":[[0.0,\"#0d0887\"],[0.1111111111111111,\"#46039f\"],[0.2222222222222222,\"#7201a8\"],[0.3333333333333333,\"#9c179e\"],[0.4444444444444444,\"#bd3786\"],[0.5555555555555556,\"#d8576b\"],[0.6666666666666666,\"#ed7953\"],[0.7777777777777778,\"#fb9f3a\"],[0.8888888888888888,\"#fdca26\"],[1.0,\"#f0f921\"]]}],\"choropleth\":[{\"type\":\"choropleth\",\"colorbar\":{\"outlinewidth\":0,\"ticks\":\"\"}}],\"histogram2d\":[{\"type\":\"histogram2d\",\"colorbar\":{\"outlinewidth\":0,\"ticks\":\"\"},\"colorscale\":[[0.0,\"#0d0887\"],[0.1111111111111111,\"#46039f\"],[0.2222222222222222,\"#7201a8\"],[0.3333333333333333,\"#9c179e\"],[0.4444444444444444,\"#bd3786\"],[0.5555555555555556,\"#d8576b\"],[0.6666666666666666,\"#ed7953\"],[0.7777777777777778,\"#fb9f3a\"],[0.8888888888888888,\"#fdca26\"],[1.0,\"#f0f921\"]]}],\"heatmap\":[{\"type\":\"heatmap\",\"colorbar\":{\"outlinewidth\":0,\"ticks\":\"\"},\"colorscale\":[[0.0,\"#0d0887\"],[0.1111111111111111,\"#46039f\"],[0.2222222222222222,\"#7201a8\"],[0.3333333333333333,\"#9c179e\"],[0.4444444444444444,\"#bd3786\"],[0.5555555555555556,\"#d8576b\"],[0.6666666666666666,\"#ed7953\"],[0.7777777777777778,\"#fb9f3a\"],[0.8888888888888888,\"#fdca26\"],[1.0,\"#f0f921\"]]}],\"heatmapgl\":[{\"type\":\"heatmapgl\",\"colorbar\":{\"outlinewidth\":0,\"ticks\":\"\"},\"colorscale\":[[0.0,\"#0d0887\"],[0.1111111111111111,\"#46039f\"],[0.2222222222222222,\"#7201a8\"],[0.3333333333333333,\"#9c179e\"],[0.4444444444444444,\"#bd3786\"],[0.5555555555555556,\"#d8576b\"],[0.6666666666666666,\"#ed7953\"],[0.7777777777777778,\"#fb9f3a\"],[0.8888888888888888,\"#fdca26\"],[1.0,\"#f0f921\"]]}],\"contourcarpet\":[{\"type\":\"contourcarpet\",\"colorbar\":{\"outlinewidth\":0,\"ticks\":\"\"}}],\"contour\":[{\"type\":\"contour\",\"colorbar\":{\"outlinewidth\":0,\"ticks\":\"\"},\"colorscale\":[[0.0,\"#0d0887\"],[0.1111111111111111,\"#46039f\"],[0.2222222222222222,\"#7201a8\"],[0.3333333333333333,\"#9c179e\"],[0.4444444444444444,\"#bd3786\"],[0.5555555555555556,\"#d8576b\"],[0.6666666666666666,\"#ed7953\"],[0.7777777777777778,\"#fb9f3a\"],[0.8888888888888888,\"#fdca26\"],[1.0,\"#f0f921\"]]}],\"surface\":[{\"type\":\"surface\",\"colorbar\":{\"outlinewidth\":0,\"ticks\":\"\"},\"colorscale\":[[0.0,\"#0d0887\"],[0.1111111111111111,\"#46039f\"],[0.2222222222222222,\"#7201a8\"],[0.3333333333333333,\"#9c179e\"],[0.4444444444444444,\"#bd3786\"],[0.5555555555555556,\"#d8576b\"],[0.6666666666666666,\"#ed7953\"],[0.7777777777777778,\"#fb9f3a\"],[0.8888888888888888,\"#fdca26\"],[1.0,\"#f0f921\"]]}],\"mesh3d\":[{\"type\":\"mesh3d\",\"colorbar\":{\"outlinewidth\":0,\"ticks\":\"\"}}],\"scatter\":[{\"fillpattern\":{\"fillmode\":\"overlay\",\"size\":10,\"solidity\":0.2},\"type\":\"scatter\"}],\"parcoords\":[{\"type\":\"parcoords\",\"line\":{\"colorbar\":{\"outlinewidth\":0,\"ticks\":\"\"}}}],\"scatterpolargl\":[{\"type\":\"scatterpolargl\",\"marker\":{\"colorbar\":{\"outlinewidth\":0,\"ticks\":\"\"}}}],\"bar\":[{\"error_x\":{\"color\":\"#2a3f5f\"},\"error_y\":{\"color\":\"#2a3f5f\"},\"marker\":{\"line\":{\"color\":\"#E5ECF6\",\"width\":0.5},\"pattern\":{\"fillmode\":\"overlay\",\"size\":10,\"solidity\":0.2}},\"type\":\"bar\"}],\"scattergeo\":[{\"type\":\"scattergeo\",\"marker\":{\"colorbar\":{\"outlinewidth\":0,\"ticks\":\"\"}}}],\"scatterpolar\":[{\"type\":\"scatterpolar\",\"marker\":{\"colorbar\":{\"outlinewidth\":0,\"ticks\":\"\"}}}],\"histogram\":[{\"marker\":{\"pattern\":{\"fillmode\":\"overlay\",\"size\":10,\"solidity\":0.2}},\"type\":\"histogram\"}],\"scattergl\":[{\"type\":\"scattergl\",\"marker\":{\"colorbar\":{\"outlinewidth\":0,\"ticks\":\"\"}}}],\"scatter3d\":[{\"type\":\"scatter3d\",\"line\":{\"colorbar\":{\"outlinewidth\":0,\"ticks\":\"\"}},\"marker\":{\"colorbar\":{\"outlinewidth\":0,\"ticks\":\"\"}}}],\"scattermapbox\":[{\"type\":\"scattermapbox\",\"marker\":{\"colorbar\":{\"outlinewidth\":0,\"ticks\":\"\"}}}],\"scatterternary\":[{\"type\":\"scatterternary\",\"marker\":{\"colorbar\":{\"outlinewidth\":0,\"ticks\":\"\"}}}],\"scattercarpet\":[{\"type\":\"scattercarpet\",\"marker\":{\"colorbar\":{\"outlinewidth\":0,\"ticks\":\"\"}}}],\"carpet\":[{\"aaxis\":{\"endlinecolor\":\"#2a3f5f\",\"gridcolor\":\"white\",\"linecolor\":\"white\",\"minorgridcolor\":\"white\",\"startlinecolor\":\"#2a3f5f\"},\"baxis\":{\"endlinecolor\":\"#2a3f5f\",\"gridcolor\":\"white\",\"linecolor\":\"white\",\"minorgridcolor\":\"white\",\"startlinecolor\":\"#2a3f5f\"},\"type\":\"carpet\"}],\"table\":[{\"cells\":{\"fill\":{\"color\":\"#EBF0F8\"},\"line\":{\"color\":\"white\"}},\"header\":{\"fill\":{\"color\":\"#C8D4E3\"},\"line\":{\"color\":\"white\"}},\"type\":\"table\"}],\"barpolar\":[{\"marker\":{\"line\":{\"color\":\"#E5ECF6\",\"width\":0.5},\"pattern\":{\"fillmode\":\"overlay\",\"size\":10,\"solidity\":0.2}},\"type\":\"barpolar\"}],\"pie\":[{\"automargin\":true,\"type\":\"pie\"}]},\"layout\":{\"autotypenumbers\":\"strict\",\"colorway\":[\"#636efa\",\"#EF553B\",\"#00cc96\",\"#ab63fa\",\"#FFA15A\",\"#19d3f3\",\"#FF6692\",\"#B6E880\",\"#FF97FF\",\"#FECB52\"],\"font\":{\"color\":\"#2a3f5f\"},\"hovermode\":\"closest\",\"hoverlabel\":{\"align\":\"left\"},\"paper_bgcolor\":\"white\",\"plot_bgcolor\":\"#E5ECF6\",\"polar\":{\"bgcolor\":\"#E5ECF6\",\"angularaxis\":{\"gridcolor\":\"white\",\"linecolor\":\"white\",\"ticks\":\"\"},\"radialaxis\":{\"gridcolor\":\"white\",\"linecolor\":\"white\",\"ticks\":\"\"}},\"ternary\":{\"bgcolor\":\"#E5ECF6\",\"aaxis\":{\"gridcolor\":\"white\",\"linecolor\":\"white\",\"ticks\":\"\"},\"baxis\":{\"gridcolor\":\"white\",\"linecolor\":\"white\",\"ticks\":\"\"},\"caxis\":{\"gridcolor\":\"white\",\"linecolor\":\"white\",\"ticks\":\"\"}},\"coloraxis\":{\"colorbar\":{\"outlinewidth\":0,\"ticks\":\"\"}},\"colorscale\":{\"sequential\":[[0.0,\"#0d0887\"],[0.1111111111111111,\"#46039f\"],[0.2222222222222222,\"#7201a8\"],[0.3333333333333333,\"#9c179e\"],[0.4444444444444444,\"#bd3786\"],[0.5555555555555556,\"#d8576b\"],[0.6666666666666666,\"#ed7953\"],[0.7777777777777778,\"#fb9f3a\"],[0.8888888888888888,\"#fdca26\"],[1.0,\"#f0f921\"]],\"sequentialminus\":[[0.0,\"#0d0887\"],[0.1111111111111111,\"#46039f\"],[0.2222222222222222,\"#7201a8\"],[0.3333333333333333,\"#9c179e\"],[0.4444444444444444,\"#bd3786\"],[0.5555555555555556,\"#d8576b\"],[0.6666666666666666,\"#ed7953\"],[0.7777777777777778,\"#fb9f3a\"],[0.8888888888888888,\"#fdca26\"],[1.0,\"#f0f921\"]],\"diverging\":[[0,\"#8e0152\"],[0.1,\"#c51b7d\"],[0.2,\"#de77ae\"],[0.3,\"#f1b6da\"],[0.4,\"#fde0ef\"],[0.5,\"#f7f7f7\"],[0.6,\"#e6f5d0\"],[0.7,\"#b8e186\"],[0.8,\"#7fbc41\"],[0.9,\"#4d9221\"],[1,\"#276419\"]]},\"xaxis\":{\"gridcolor\":\"white\",\"linecolor\":\"white\",\"ticks\":\"\",\"title\":{\"standoff\":15},\"zerolinecolor\":\"white\",\"automargin\":true,\"zerolinewidth\":2},\"yaxis\":{\"gridcolor\":\"white\",\"linecolor\":\"white\",\"ticks\":\"\",\"title\":{\"standoff\":15},\"zerolinecolor\":\"white\",\"automargin\":true,\"zerolinewidth\":2},\"scene\":{\"xaxis\":{\"backgroundcolor\":\"#E5ECF6\",\"gridcolor\":\"white\",\"linecolor\":\"white\",\"showbackground\":true,\"ticks\":\"\",\"zerolinecolor\":\"white\",\"gridwidth\":2},\"yaxis\":{\"backgroundcolor\":\"#E5ECF6\",\"gridcolor\":\"white\",\"linecolor\":\"white\",\"showbackground\":true,\"ticks\":\"\",\"zerolinecolor\":\"white\",\"gridwidth\":2},\"zaxis\":{\"backgroundcolor\":\"#E5ECF6\",\"gridcolor\":\"white\",\"linecolor\":\"white\",\"showbackground\":true,\"ticks\":\"\",\"zerolinecolor\":\"white\",\"gridwidth\":2}},\"shapedefaults\":{\"line\":{\"color\":\"#2a3f5f\"}},\"annotationdefaults\":{\"arrowcolor\":\"#2a3f5f\",\"arrowhead\":0,\"arrowwidth\":1},\"geo\":{\"bgcolor\":\"white\",\"landcolor\":\"#E5ECF6\",\"subunitcolor\":\"white\",\"showland\":true,\"showlakes\":true,\"lakecolor\":\"white\"},\"title\":{\"x\":0.05},\"mapbox\":{\"style\":\"light\"}}},\"xaxis\":{\"anchor\":\"y\",\"domain\":[0.0,1.0],\"title\":{\"text\":\"User game days\"}},\"yaxis\":{\"anchor\":\"x\",\"domain\":[0.0,1.0],\"title\":{\"text\":\"Number of buildings\"}},\"legend\":{\"title\":{\"text\":\"building_type\"},\"tracegroupgap\":0},\"margin\":{\"t\":60},\"title\":{\"text\":\"Distribution of buildings over the time\"}},                        {\"responsive\": true}                    ).then(function(){\n",
              "                            \n",
              "var gd = document.getElementById('ee259b54-231f-4aa5-84bc-2c480938facc');\n",
              "var x = new MutationObserver(function (mutations, observer) {{\n",
              "        var display = window.getComputedStyle(gd).display;\n",
              "        if (!display || display === 'none') {{\n",
              "            console.log([gd, 'removed!']);\n",
              "            Plotly.purge(gd);\n",
              "            observer.disconnect();\n",
              "        }}\n",
              "}});\n",
              "\n",
              "// Listen for the removal of the full notebook cells\n",
              "var notebookContainer = gd.closest('#notebook-container');\n",
              "if (notebookContainer) {{\n",
              "    x.observe(notebookContainer, {childList: true});\n",
              "}}\n",
              "\n",
              "// Listen for the clearing of the current output cell\n",
              "var outputEl = gd.closest('.output');\n",
              "if (outputEl) {{\n",
              "    x.observe(outputEl, {childList: true});\n",
              "}}\n",
              "\n",
              "                        })                };                            </script>        </div>\n",
              "</body>\n",
              "</html>"
            ]
          },
          "metadata": {}
        }
      ],
      "source": [
        "building_type = graph.groupby(['days', 'building_type'])['user_id'].count().reset_index()\n",
        "fig = px.line(building_type,\n",
        "              x='days',\n",
        "              y='user_id',\n",
        "              color='building_type',\n",
        "              markers=True)\n",
        "fig.update_layout(title='Distribution of buildings over the time',\n",
        "                   xaxis_title='User game days',\n",
        "                   yaxis_title='Number of buildings')\n",
        "fig.show()"
      ]
    },
    {
      "cell_type": "markdown",
      "source": [
        "The analysis of the diagram shows the following:\n",
        "\n",
        "- the first building of the users is `assembly_shop`, which is probably built by the players first and not for a long time, because you can immediately see a parallel upward trend to the construction of the `spaceport`;\n",
        "- at the peak of the construction of the `spaceport`, the construction line of the `assembly_shop` breaks off. This could indicate that this building cannot be built after the construction of the `spaceport`;\n",
        "- `research_center` the first active players built a few days later, the majority did so after about a week;\n",
        "- in general, there is a decrease in building activity. This may indicate that the user either stopped building and left or moved to the next level."
      ],
      "metadata": {
        "id": "AY-ixvrJztv6"
      }
    },
    {
      "cell_type": "markdown",
      "metadata": {
        "id": "MEb_j-gpoLJA"
      },
      "source": [
        "### Distribution of advertising costs"
      ]
    },
    {
      "cell_type": "code",
      "execution_count": 40,
      "metadata": {
        "id": "uVjYB3hooLJA",
        "colab": {
          "base_uri": "https://localhost:8080/",
          "height": 175
        },
        "outputId": "352bb0bf-decc-4cb1-dd58-2a16d2d28e0d"
      },
      "outputs": [
        {
          "output_type": "execute_result",
          "data": {
            "text/plain": [
              "                    source     cost     %\n",
              "2            yandex_direct 2,233.10 29.40\n",
              "1    instagram_new_adverts 2,161.40 28.40\n",
              "0             facebook_ads 2,140.90 28.20\n",
              "3  youtube_channel_reklama 1,068.10 14.00"
            ],
            "text/html": [
              "\n",
              "  <div id=\"df-ba727e81-e3d4-448a-92a6-c6e0d3aba1fe\">\n",
              "    <div class=\"colab-df-container\">\n",
              "      <div>\n",
              "<style scoped>\n",
              "    .dataframe tbody tr th:only-of-type {\n",
              "        vertical-align: middle;\n",
              "    }\n",
              "\n",
              "    .dataframe tbody tr th {\n",
              "        vertical-align: top;\n",
              "    }\n",
              "\n",
              "    .dataframe thead th {\n",
              "        text-align: right;\n",
              "    }\n",
              "</style>\n",
              "<table border=\"1\" class=\"dataframe\">\n",
              "  <thead>\n",
              "    <tr style=\"text-align: right;\">\n",
              "      <th></th>\n",
              "      <th>source</th>\n",
              "      <th>cost</th>\n",
              "      <th>%</th>\n",
              "    </tr>\n",
              "  </thead>\n",
              "  <tbody>\n",
              "    <tr>\n",
              "      <th>2</th>\n",
              "      <td>yandex_direct</td>\n",
              "      <td>2,233.10</td>\n",
              "      <td>29.40</td>\n",
              "    </tr>\n",
              "    <tr>\n",
              "      <th>1</th>\n",
              "      <td>instagram_new_adverts</td>\n",
              "      <td>2,161.40</td>\n",
              "      <td>28.40</td>\n",
              "    </tr>\n",
              "    <tr>\n",
              "      <th>0</th>\n",
              "      <td>facebook_ads</td>\n",
              "      <td>2,140.90</td>\n",
              "      <td>28.20</td>\n",
              "    </tr>\n",
              "    <tr>\n",
              "      <th>3</th>\n",
              "      <td>youtube_channel_reklama</td>\n",
              "      <td>1,068.10</td>\n",
              "      <td>14.00</td>\n",
              "    </tr>\n",
              "  </tbody>\n",
              "</table>\n",
              "</div>\n",
              "      <button class=\"colab-df-convert\" onclick=\"convertToInteractive('df-ba727e81-e3d4-448a-92a6-c6e0d3aba1fe')\"\n",
              "              title=\"Convert this dataframe to an interactive table.\"\n",
              "              style=\"display:none;\">\n",
              "        \n",
              "  <svg xmlns=\"http://www.w3.org/2000/svg\" height=\"24px\"viewBox=\"0 0 24 24\"\n",
              "       width=\"24px\">\n",
              "    <path d=\"M0 0h24v24H0V0z\" fill=\"none\"/>\n",
              "    <path d=\"M18.56 5.44l.94 2.06.94-2.06 2.06-.94-2.06-.94-.94-2.06-.94 2.06-2.06.94zm-11 1L8.5 8.5l.94-2.06 2.06-.94-2.06-.94L8.5 2.5l-.94 2.06-2.06.94zm10 10l.94 2.06.94-2.06 2.06-.94-2.06-.94-.94-2.06-.94 2.06-2.06.94z\"/><path d=\"M17.41 7.96l-1.37-1.37c-.4-.4-.92-.59-1.43-.59-.52 0-1.04.2-1.43.59L10.3 9.45l-7.72 7.72c-.78.78-.78 2.05 0 2.83L4 21.41c.39.39.9.59 1.41.59.51 0 1.02-.2 1.41-.59l7.78-7.78 2.81-2.81c.8-.78.8-2.07 0-2.86zM5.41 20L4 18.59l7.72-7.72 1.47 1.35L5.41 20z\"/>\n",
              "  </svg>\n",
              "      </button>\n",
              "      \n",
              "  <style>\n",
              "    .colab-df-container {\n",
              "      display:flex;\n",
              "      flex-wrap:wrap;\n",
              "      gap: 12px;\n",
              "    }\n",
              "\n",
              "    .colab-df-convert {\n",
              "      background-color: #E8F0FE;\n",
              "      border: none;\n",
              "      border-radius: 50%;\n",
              "      cursor: pointer;\n",
              "      display: none;\n",
              "      fill: #1967D2;\n",
              "      height: 32px;\n",
              "      padding: 0 0 0 0;\n",
              "      width: 32px;\n",
              "    }\n",
              "\n",
              "    .colab-df-convert:hover {\n",
              "      background-color: #E2EBFA;\n",
              "      box-shadow: 0px 1px 2px rgba(60, 64, 67, 0.3), 0px 1px 3px 1px rgba(60, 64, 67, 0.15);\n",
              "      fill: #174EA6;\n",
              "    }\n",
              "\n",
              "    [theme=dark] .colab-df-convert {\n",
              "      background-color: #3B4455;\n",
              "      fill: #D2E3FC;\n",
              "    }\n",
              "\n",
              "    [theme=dark] .colab-df-convert:hover {\n",
              "      background-color: #434B5C;\n",
              "      box-shadow: 0px 1px 3px 1px rgba(0, 0, 0, 0.15);\n",
              "      filter: drop-shadow(0px 1px 2px rgba(0, 0, 0, 0.3));\n",
              "      fill: #FFFFFF;\n",
              "    }\n",
              "  </style>\n",
              "\n",
              "      <script>\n",
              "        const buttonEl =\n",
              "          document.querySelector('#df-ba727e81-e3d4-448a-92a6-c6e0d3aba1fe button.colab-df-convert');\n",
              "        buttonEl.style.display =\n",
              "          google.colab.kernel.accessAllowed ? 'block' : 'none';\n",
              "\n",
              "        async function convertToInteractive(key) {\n",
              "          const element = document.querySelector('#df-ba727e81-e3d4-448a-92a6-c6e0d3aba1fe');\n",
              "          const dataTable =\n",
              "            await google.colab.kernel.invokeFunction('convertToInteractive',\n",
              "                                                     [key], {});\n",
              "          if (!dataTable) return;\n",
              "\n",
              "          const docLinkHtml = 'Like what you see? Visit the ' +\n",
              "            '<a target=\"_blank\" href=https://colab.research.google.com/notebooks/data_table.ipynb>data table notebook</a>'\n",
              "            + ' to learn more about interactive tables.';\n",
              "          element.innerHTML = '';\n",
              "          dataTable['output_type'] = 'display_data';\n",
              "          await google.colab.output.renderOutput(dataTable, element);\n",
              "          const docLink = document.createElement('div');\n",
              "          docLink.innerHTML = docLinkHtml;\n",
              "          element.appendChild(docLink);\n",
              "        }\n",
              "      </script>\n",
              "    </div>\n",
              "  </div>\n",
              "  "
            ]
          },
          "metadata": {},
          "execution_count": 40
        }
      ],
      "source": [
        "source_sum = costs.groupby('source')['cost'].sum().reset_index().sort_values('cost', ascending=False)\n",
        "source_sum['%'] = source_sum['cost'] / source_sum.cost.sum() * 100\n",
        "source_sum = round(source_sum, 1)\n",
        "source_sum"
      ]
    },
    {
      "cell_type": "code",
      "execution_count": 41,
      "metadata": {
        "id": "FucfKe55oLJA",
        "colab": {
          "base_uri": "https://localhost:8080/",
          "height": 417
        },
        "outputId": "069d7173-4001-4708-9817-7e48655d8c1b"
      },
      "outputs": [
        {
          "output_type": "display_data",
          "data": {
            "text/html": [
              "<html>\n",
              "<head><meta charset=\"utf-8\" /></head>\n",
              "<body>\n",
              "    <div>            <script src=\"https://cdnjs.cloudflare.com/ajax/libs/mathjax/2.7.5/MathJax.js?config=TeX-AMS-MML_SVG\"></script><script type=\"text/javascript\">if (window.MathJax && window.MathJax.Hub && window.MathJax.Hub.Config) {window.MathJax.Hub.Config({SVG: {font: \"STIX-Web\"}});}</script>                <script type=\"text/javascript\">window.PlotlyConfig = {MathJaxConfig: 'local'};</script>\n",
              "        <script src=\"https://cdn.plot.ly/plotly-2.18.2.min.js\"></script>                <div id=\"cdcd531a-882b-496c-a2aa-7459686f063c\" class=\"plotly-graph-div\" style=\"height:400px; width:800px;\"></div>            <script type=\"text/javascript\">                                    window.PLOTLYENV=window.PLOTLYENV || {};                                    if (document.getElementById(\"cdcd531a-882b-496c-a2aa-7459686f063c\")) {                    Plotly.newPlot(                        \"cdcd531a-882b-496c-a2aa-7459686f063c\",                        [{\"alignmentgroup\":\"True\",\"hovertemplate\":\"source=%{text}<br>cost=%{y}<extra></extra>\",\"legendgroup\":\"\",\"marker\":{\"color\":[\"#c9f2cd\",\"#cdc9f2\",\"#f2c9ee\",\"#e9edb4\"],\"pattern\":{\"shape\":\"\"}},\"name\":\"\",\"offsetgroup\":\"\",\"orientation\":\"v\",\"showlegend\":false,\"text\":[\"2233.1 (29.4 %)\",\"2161.4 (28.4 %)\",\"2140.9 (28.2 %)\",\"1068.1 (14.0 %)\"],\"textposition\":\"auto\",\"x\":[\"yandex_direct\",\"instagram_new_adverts\",\"facebook_ads\",\"youtube_channel_reklama\"],\"xaxis\":\"x\",\"y\":[2233.1,2161.4,2140.9,1068.1],\"yaxis\":\"y\",\"type\":\"bar\"}],                        {\"template\":{\"data\":{\"histogram2dcontour\":[{\"type\":\"histogram2dcontour\",\"colorbar\":{\"outlinewidth\":0,\"ticks\":\"\"},\"colorscale\":[[0.0,\"#0d0887\"],[0.1111111111111111,\"#46039f\"],[0.2222222222222222,\"#7201a8\"],[0.3333333333333333,\"#9c179e\"],[0.4444444444444444,\"#bd3786\"],[0.5555555555555556,\"#d8576b\"],[0.6666666666666666,\"#ed7953\"],[0.7777777777777778,\"#fb9f3a\"],[0.8888888888888888,\"#fdca26\"],[1.0,\"#f0f921\"]]}],\"choropleth\":[{\"type\":\"choropleth\",\"colorbar\":{\"outlinewidth\":0,\"ticks\":\"\"}}],\"histogram2d\":[{\"type\":\"histogram2d\",\"colorbar\":{\"outlinewidth\":0,\"ticks\":\"\"},\"colorscale\":[[0.0,\"#0d0887\"],[0.1111111111111111,\"#46039f\"],[0.2222222222222222,\"#7201a8\"],[0.3333333333333333,\"#9c179e\"],[0.4444444444444444,\"#bd3786\"],[0.5555555555555556,\"#d8576b\"],[0.6666666666666666,\"#ed7953\"],[0.7777777777777778,\"#fb9f3a\"],[0.8888888888888888,\"#fdca26\"],[1.0,\"#f0f921\"]]}],\"heatmap\":[{\"type\":\"heatmap\",\"colorbar\":{\"outlinewidth\":0,\"ticks\":\"\"},\"colorscale\":[[0.0,\"#0d0887\"],[0.1111111111111111,\"#46039f\"],[0.2222222222222222,\"#7201a8\"],[0.3333333333333333,\"#9c179e\"],[0.4444444444444444,\"#bd3786\"],[0.5555555555555556,\"#d8576b\"],[0.6666666666666666,\"#ed7953\"],[0.7777777777777778,\"#fb9f3a\"],[0.8888888888888888,\"#fdca26\"],[1.0,\"#f0f921\"]]}],\"heatmapgl\":[{\"type\":\"heatmapgl\",\"colorbar\":{\"outlinewidth\":0,\"ticks\":\"\"},\"colorscale\":[[0.0,\"#0d0887\"],[0.1111111111111111,\"#46039f\"],[0.2222222222222222,\"#7201a8\"],[0.3333333333333333,\"#9c179e\"],[0.4444444444444444,\"#bd3786\"],[0.5555555555555556,\"#d8576b\"],[0.6666666666666666,\"#ed7953\"],[0.7777777777777778,\"#fb9f3a\"],[0.8888888888888888,\"#fdca26\"],[1.0,\"#f0f921\"]]}],\"contourcarpet\":[{\"type\":\"contourcarpet\",\"colorbar\":{\"outlinewidth\":0,\"ticks\":\"\"}}],\"contour\":[{\"type\":\"contour\",\"colorbar\":{\"outlinewidth\":0,\"ticks\":\"\"},\"colorscale\":[[0.0,\"#0d0887\"],[0.1111111111111111,\"#46039f\"],[0.2222222222222222,\"#7201a8\"],[0.3333333333333333,\"#9c179e\"],[0.4444444444444444,\"#bd3786\"],[0.5555555555555556,\"#d8576b\"],[0.6666666666666666,\"#ed7953\"],[0.7777777777777778,\"#fb9f3a\"],[0.8888888888888888,\"#fdca26\"],[1.0,\"#f0f921\"]]}],\"surface\":[{\"type\":\"surface\",\"colorbar\":{\"outlinewidth\":0,\"ticks\":\"\"},\"colorscale\":[[0.0,\"#0d0887\"],[0.1111111111111111,\"#46039f\"],[0.2222222222222222,\"#7201a8\"],[0.3333333333333333,\"#9c179e\"],[0.4444444444444444,\"#bd3786\"],[0.5555555555555556,\"#d8576b\"],[0.6666666666666666,\"#ed7953\"],[0.7777777777777778,\"#fb9f3a\"],[0.8888888888888888,\"#fdca26\"],[1.0,\"#f0f921\"]]}],\"mesh3d\":[{\"type\":\"mesh3d\",\"colorbar\":{\"outlinewidth\":0,\"ticks\":\"\"}}],\"scatter\":[{\"fillpattern\":{\"fillmode\":\"overlay\",\"size\":10,\"solidity\":0.2},\"type\":\"scatter\"}],\"parcoords\":[{\"type\":\"parcoords\",\"line\":{\"colorbar\":{\"outlinewidth\":0,\"ticks\":\"\"}}}],\"scatterpolargl\":[{\"type\":\"scatterpolargl\",\"marker\":{\"colorbar\":{\"outlinewidth\":0,\"ticks\":\"\"}}}],\"bar\":[{\"error_x\":{\"color\":\"#2a3f5f\"},\"error_y\":{\"color\":\"#2a3f5f\"},\"marker\":{\"line\":{\"color\":\"#E5ECF6\",\"width\":0.5},\"pattern\":{\"fillmode\":\"overlay\",\"size\":10,\"solidity\":0.2}},\"type\":\"bar\"}],\"scattergeo\":[{\"type\":\"scattergeo\",\"marker\":{\"colorbar\":{\"outlinewidth\":0,\"ticks\":\"\"}}}],\"scatterpolar\":[{\"type\":\"scatterpolar\",\"marker\":{\"colorbar\":{\"outlinewidth\":0,\"ticks\":\"\"}}}],\"histogram\":[{\"marker\":{\"pattern\":{\"fillmode\":\"overlay\",\"size\":10,\"solidity\":0.2}},\"type\":\"histogram\"}],\"scattergl\":[{\"type\":\"scattergl\",\"marker\":{\"colorbar\":{\"outlinewidth\":0,\"ticks\":\"\"}}}],\"scatter3d\":[{\"type\":\"scatter3d\",\"line\":{\"colorbar\":{\"outlinewidth\":0,\"ticks\":\"\"}},\"marker\":{\"colorbar\":{\"outlinewidth\":0,\"ticks\":\"\"}}}],\"scattermapbox\":[{\"type\":\"scattermapbox\",\"marker\":{\"colorbar\":{\"outlinewidth\":0,\"ticks\":\"\"}}}],\"scatterternary\":[{\"type\":\"scatterternary\",\"marker\":{\"colorbar\":{\"outlinewidth\":0,\"ticks\":\"\"}}}],\"scattercarpet\":[{\"type\":\"scattercarpet\",\"marker\":{\"colorbar\":{\"outlinewidth\":0,\"ticks\":\"\"}}}],\"carpet\":[{\"aaxis\":{\"endlinecolor\":\"#2a3f5f\",\"gridcolor\":\"white\",\"linecolor\":\"white\",\"minorgridcolor\":\"white\",\"startlinecolor\":\"#2a3f5f\"},\"baxis\":{\"endlinecolor\":\"#2a3f5f\",\"gridcolor\":\"white\",\"linecolor\":\"white\",\"minorgridcolor\":\"white\",\"startlinecolor\":\"#2a3f5f\"},\"type\":\"carpet\"}],\"table\":[{\"cells\":{\"fill\":{\"color\":\"#EBF0F8\"},\"line\":{\"color\":\"white\"}},\"header\":{\"fill\":{\"color\":\"#C8D4E3\"},\"line\":{\"color\":\"white\"}},\"type\":\"table\"}],\"barpolar\":[{\"marker\":{\"line\":{\"color\":\"#E5ECF6\",\"width\":0.5},\"pattern\":{\"fillmode\":\"overlay\",\"size\":10,\"solidity\":0.2}},\"type\":\"barpolar\"}],\"pie\":[{\"automargin\":true,\"type\":\"pie\"}]},\"layout\":{\"autotypenumbers\":\"strict\",\"colorway\":[\"#636efa\",\"#EF553B\",\"#00cc96\",\"#ab63fa\",\"#FFA15A\",\"#19d3f3\",\"#FF6692\",\"#B6E880\",\"#FF97FF\",\"#FECB52\"],\"font\":{\"color\":\"#2a3f5f\"},\"hovermode\":\"closest\",\"hoverlabel\":{\"align\":\"left\"},\"paper_bgcolor\":\"white\",\"plot_bgcolor\":\"#E5ECF6\",\"polar\":{\"bgcolor\":\"#E5ECF6\",\"angularaxis\":{\"gridcolor\":\"white\",\"linecolor\":\"white\",\"ticks\":\"\"},\"radialaxis\":{\"gridcolor\":\"white\",\"linecolor\":\"white\",\"ticks\":\"\"}},\"ternary\":{\"bgcolor\":\"#E5ECF6\",\"aaxis\":{\"gridcolor\":\"white\",\"linecolor\":\"white\",\"ticks\":\"\"},\"baxis\":{\"gridcolor\":\"white\",\"linecolor\":\"white\",\"ticks\":\"\"},\"caxis\":{\"gridcolor\":\"white\",\"linecolor\":\"white\",\"ticks\":\"\"}},\"coloraxis\":{\"colorbar\":{\"outlinewidth\":0,\"ticks\":\"\"}},\"colorscale\":{\"sequential\":[[0.0,\"#0d0887\"],[0.1111111111111111,\"#46039f\"],[0.2222222222222222,\"#7201a8\"],[0.3333333333333333,\"#9c179e\"],[0.4444444444444444,\"#bd3786\"],[0.5555555555555556,\"#d8576b\"],[0.6666666666666666,\"#ed7953\"],[0.7777777777777778,\"#fb9f3a\"],[0.8888888888888888,\"#fdca26\"],[1.0,\"#f0f921\"]],\"sequentialminus\":[[0.0,\"#0d0887\"],[0.1111111111111111,\"#46039f\"],[0.2222222222222222,\"#7201a8\"],[0.3333333333333333,\"#9c179e\"],[0.4444444444444444,\"#bd3786\"],[0.5555555555555556,\"#d8576b\"],[0.6666666666666666,\"#ed7953\"],[0.7777777777777778,\"#fb9f3a\"],[0.8888888888888888,\"#fdca26\"],[1.0,\"#f0f921\"]],\"diverging\":[[0,\"#8e0152\"],[0.1,\"#c51b7d\"],[0.2,\"#de77ae\"],[0.3,\"#f1b6da\"],[0.4,\"#fde0ef\"],[0.5,\"#f7f7f7\"],[0.6,\"#e6f5d0\"],[0.7,\"#b8e186\"],[0.8,\"#7fbc41\"],[0.9,\"#4d9221\"],[1,\"#276419\"]]},\"xaxis\":{\"gridcolor\":\"white\",\"linecolor\":\"white\",\"ticks\":\"\",\"title\":{\"standoff\":15},\"zerolinecolor\":\"white\",\"automargin\":true,\"zerolinewidth\":2},\"yaxis\":{\"gridcolor\":\"white\",\"linecolor\":\"white\",\"ticks\":\"\",\"title\":{\"standoff\":15},\"zerolinecolor\":\"white\",\"automargin\":true,\"zerolinewidth\":2},\"scene\":{\"xaxis\":{\"backgroundcolor\":\"#E5ECF6\",\"gridcolor\":\"white\",\"linecolor\":\"white\",\"showbackground\":true,\"ticks\":\"\",\"zerolinecolor\":\"white\",\"gridwidth\":2},\"yaxis\":{\"backgroundcolor\":\"#E5ECF6\",\"gridcolor\":\"white\",\"linecolor\":\"white\",\"showbackground\":true,\"ticks\":\"\",\"zerolinecolor\":\"white\",\"gridwidth\":2},\"zaxis\":{\"backgroundcolor\":\"#E5ECF6\",\"gridcolor\":\"white\",\"linecolor\":\"white\",\"showbackground\":true,\"ticks\":\"\",\"zerolinecolor\":\"white\",\"gridwidth\":2}},\"shapedefaults\":{\"line\":{\"color\":\"#2a3f5f\"}},\"annotationdefaults\":{\"arrowcolor\":\"#2a3f5f\",\"arrowhead\":0,\"arrowwidth\":1},\"geo\":{\"bgcolor\":\"white\",\"landcolor\":\"#E5ECF6\",\"subunitcolor\":\"white\",\"showland\":true,\"showlakes\":true,\"lakecolor\":\"white\"},\"title\":{\"x\":0.05},\"mapbox\":{\"style\":\"light\"}}},\"xaxis\":{\"anchor\":\"y\",\"domain\":[0.0,1.0],\"title\":{\"text\":\"<b>Advertising source</b>\"}},\"yaxis\":{\"anchor\":\"x\",\"domain\":[0.0,1.0],\"title\":{\"text\":\"<b>Advertising costs</b>\"}},\"legend\":{\"tracegroupgap\":0},\"margin\":{\"t\":60},\"barmode\":\"relative\",\"height\":400,\"width\":800,\"title\":{\"font\":{\"family\":\"Arial\",\"size\":18,\"color\":\"#344243\"},\"text\":\"<b>Distribution of costs by each source</b>\",\"x\":0.5},\"plot_bgcolor\":\"#f8f6f6\"},                        {\"responsive\": true}                    ).then(function(){\n",
              "                            \n",
              "var gd = document.getElementById('cdcd531a-882b-496c-a2aa-7459686f063c');\n",
              "var x = new MutationObserver(function (mutations, observer) {{\n",
              "        var display = window.getComputedStyle(gd).display;\n",
              "        if (!display || display === 'none') {{\n",
              "            console.log([gd, 'removed!']);\n",
              "            Plotly.purge(gd);\n",
              "            observer.disconnect();\n",
              "        }}\n",
              "}});\n",
              "\n",
              "// Listen for the removal of the full notebook cells\n",
              "var notebookContainer = gd.closest('#notebook-container');\n",
              "if (notebookContainer) {{\n",
              "    x.observe(notebookContainer, {childList: true});\n",
              "}}\n",
              "\n",
              "// Listen for the clearing of the current output cell\n",
              "var outputEl = gd.closest('.output');\n",
              "if (outputEl) {{\n",
              "    x.observe(outputEl, {childList: true});\n",
              "}}\n",
              "\n",
              "                        })                };                            </script>        </div>\n",
              "</body>\n",
              "</html>"
            ]
          },
          "metadata": {}
        }
      ],
      "source": [
        "fig = px.bar(source_sum, x='source', y='cost', text='source', width=800, height=400)\n",
        "fig.update_layout(\n",
        "                 plot_bgcolor='#f8f6f6',\n",
        "                 title=dict(text='<b>Distribution of costs by each source</b>',\n",
        "                            font=dict(family=\"Arial\",size=18,color='#344243'), x=0.5),\n",
        "                 xaxis_title=dict(text='<b>Advertising source</b>'),\n",
        "                 yaxis_title=dict(text='<b>Advertising costs</b>')\n",
        "                 )\n",
        "fig.data[0].marker.color = ['#c9f2cd', '#cdc9f2', '#f2c9ee', '#e9edb4']\n",
        "fig.data[0].text = [str(i)+' ('+str(c)+' %)' for i,c in zip(source_sum['cost'], source_sum['%'])]\n",
        "fig.show()"
      ]
    },
    {
      "cell_type": "markdown",
      "metadata": {
        "id": "1N7IJhQeoLJB"
      },
      "source": [
        "From the resulting diagram, it can be seen that the most money was spent on advertising in '`yandex_direct`' - 29%. The least money was spent on advertising in '`youtube_channel_reklama`' - only 14% of the total advertising costs. Advertising costs for other sources are approximately at the same level, namely in the range of 2140 - 2233 conventional units. (~28%)\n",
        "\n",
        "Now let us look at these advertising costs per day, how evenly / unevenly the money was spent."
      ]
    },
    {
      "cell_type": "code",
      "execution_count": 42,
      "metadata": {
        "id": "Qbf1kGlCoLJB",
        "colab": {
          "base_uri": "https://localhost:8080/",
          "height": 517
        },
        "outputId": "cb526d88-1336-4320-ff12-74ca8ae3d30f"
      },
      "outputs": [
        {
          "output_type": "display_data",
          "data": {
            "text/html": [
              "<html>\n",
              "<head><meta charset=\"utf-8\" /></head>\n",
              "<body>\n",
              "    <div>            <script src=\"https://cdnjs.cloudflare.com/ajax/libs/mathjax/2.7.5/MathJax.js?config=TeX-AMS-MML_SVG\"></script><script type=\"text/javascript\">if (window.MathJax && window.MathJax.Hub && window.MathJax.Hub.Config) {window.MathJax.Hub.Config({SVG: {font: \"STIX-Web\"}});}</script>                <script type=\"text/javascript\">window.PlotlyConfig = {MathJaxConfig: 'local'};</script>\n",
              "        <script src=\"https://cdn.plot.ly/plotly-2.18.2.min.js\"></script>                <div id=\"8349aa23-4772-4026-815e-3a828a814566\" class=\"plotly-graph-div\" style=\"height:500px; width:900px;\"></div>            <script type=\"text/javascript\">                                    window.PLOTLYENV=window.PLOTLYENV || {};                                    if (document.getElementById(\"8349aa23-4772-4026-815e-3a828a814566\")) {                    Plotly.newPlot(                        \"8349aa23-4772-4026-815e-3a828a814566\",                        [{\"alignmentgroup\":\"True\",\"hovertemplate\":\"source=facebook_ads<br>day=%{x}<br>cost=%{y}<extra></extra>\",\"legendgroup\":\"facebook_ads\",\"marker\":{\"color\":\"#a0e8a7\",\"pattern\":{\"shape\":\"\"}},\"name\":\"facebook_ads\",\"offsetgroup\":\"facebook_ads\",\"orientation\":\"v\",\"showlegend\":true,\"textposition\":\"auto\",\"x\":[\"2020-05-03T00:00:00\",\"2020-05-04T00:00:00\",\"2020-05-05T00:00:00\",\"2020-05-06T00:00:00\",\"2020-05-07T00:00:00\",\"2020-05-08T00:00:00\",\"2020-05-09T00:00:00\"],\"xaxis\":\"x\",\"y\":[935.8827861181092,548.3544798464085,260.1857541599931,177.98220002394925,111.76679630791736,68.00927644938884,38.72335020874958],\"yaxis\":\"y\",\"type\":\"bar\"},{\"alignmentgroup\":\"True\",\"hovertemplate\":\"source=instagram_new_adverts<br>day=%{x}<br>cost=%{y}<extra></extra>\",\"legendgroup\":\"instagram_new_adverts\",\"marker\":{\"color\":\"#a7a0e8\",\"pattern\":{\"shape\":\"\"}},\"name\":\"instagram_new_adverts\",\"offsetgroup\":\"instagram_new_adverts\",\"orientation\":\"v\",\"showlegend\":true,\"textposition\":\"auto\",\"x\":[\"2020-05-03T00:00:00\",\"2020-05-04T00:00:00\",\"2020-05-05T00:00:00\",\"2020-05-06T00:00:00\",\"2020-05-07T00:00:00\",\"2020-05-08T00:00:00\",\"2020-05-09T00:00:00\"],\"xaxis\":\"x\",\"y\":[943.204717396566,502.9254509795575,313.9709836889799,173.07114530723032,109.9152542123006,71.57873946363169,46.77539970225819],\"yaxis\":\"y\",\"type\":\"bar\"},{\"alignmentgroup\":\"True\",\"hovertemplate\":\"source=yandex_direct<br>day=%{x}<br>cost=%{y}<extra></extra>\",\"legendgroup\":\"yandex_direct\",\"marker\":{\"color\":\"#e8a0e1\",\"pattern\":{\"shape\":\"\"}},\"name\":\"yandex_direct\",\"offsetgroup\":\"yandex_direct\",\"orientation\":\"v\",\"showlegend\":true,\"textposition\":\"auto\",\"x\":[\"2020-05-03T00:00:00\",\"2020-05-04T00:00:00\",\"2020-05-05T00:00:00\",\"2020-05-06T00:00:00\",\"2020-05-07T00:00:00\",\"2020-05-08T00:00:00\",\"2020-05-09T00:00:00\"],\"xaxis\":\"x\",\"y\":[969.1393939421928,554.651494084481,308.2329896400184,180.9170994051929,114.42933758231892,62.96162990714095,42.77950456708097],\"yaxis\":\"y\",\"type\":\"bar\"},{\"alignmentgroup\":\"True\",\"hovertemplate\":\"source=youtube_channel_reklama<br>day=%{x}<br>cost=%{y}<extra></extra>\",\"legendgroup\":\"youtube_channel_reklama\",\"marker\":{\"color\":\"#dde38b\",\"pattern\":{\"shape\":\"\"}},\"name\":\"youtube_channel_reklama\",\"offsetgroup\":\"youtube_channel_reklama\",\"orientation\":\"v\",\"showlegend\":true,\"textposition\":\"auto\",\"x\":[\"2020-05-03T00:00:00\",\"2020-05-04T00:00:00\",\"2020-05-05T00:00:00\",\"2020-05-06T00:00:00\",\"2020-05-07T00:00:00\",\"2020-05-08T00:00:00\",\"2020-05-09T00:00:00\"],\"xaxis\":\"x\",\"y\":[454.2249428272156,259.07322428345844,147.04174140337514,88.5060742302988,55.74064466746921,40.217907115336864,23.314669267402746],\"yaxis\":\"y\",\"type\":\"bar\"}],                        {\"template\":{\"data\":{\"histogram2dcontour\":[{\"type\":\"histogram2dcontour\",\"colorbar\":{\"outlinewidth\":0,\"ticks\":\"\"},\"colorscale\":[[0.0,\"#0d0887\"],[0.1111111111111111,\"#46039f\"],[0.2222222222222222,\"#7201a8\"],[0.3333333333333333,\"#9c179e\"],[0.4444444444444444,\"#bd3786\"],[0.5555555555555556,\"#d8576b\"],[0.6666666666666666,\"#ed7953\"],[0.7777777777777778,\"#fb9f3a\"],[0.8888888888888888,\"#fdca26\"],[1.0,\"#f0f921\"]]}],\"choropleth\":[{\"type\":\"choropleth\",\"colorbar\":{\"outlinewidth\":0,\"ticks\":\"\"}}],\"histogram2d\":[{\"type\":\"histogram2d\",\"colorbar\":{\"outlinewidth\":0,\"ticks\":\"\"},\"colorscale\":[[0.0,\"#0d0887\"],[0.1111111111111111,\"#46039f\"],[0.2222222222222222,\"#7201a8\"],[0.3333333333333333,\"#9c179e\"],[0.4444444444444444,\"#bd3786\"],[0.5555555555555556,\"#d8576b\"],[0.6666666666666666,\"#ed7953\"],[0.7777777777777778,\"#fb9f3a\"],[0.8888888888888888,\"#fdca26\"],[1.0,\"#f0f921\"]]}],\"heatmap\":[{\"type\":\"heatmap\",\"colorbar\":{\"outlinewidth\":0,\"ticks\":\"\"},\"colorscale\":[[0.0,\"#0d0887\"],[0.1111111111111111,\"#46039f\"],[0.2222222222222222,\"#7201a8\"],[0.3333333333333333,\"#9c179e\"],[0.4444444444444444,\"#bd3786\"],[0.5555555555555556,\"#d8576b\"],[0.6666666666666666,\"#ed7953\"],[0.7777777777777778,\"#fb9f3a\"],[0.8888888888888888,\"#fdca26\"],[1.0,\"#f0f921\"]]}],\"heatmapgl\":[{\"type\":\"heatmapgl\",\"colorbar\":{\"outlinewidth\":0,\"ticks\":\"\"},\"colorscale\":[[0.0,\"#0d0887\"],[0.1111111111111111,\"#46039f\"],[0.2222222222222222,\"#7201a8\"],[0.3333333333333333,\"#9c179e\"],[0.4444444444444444,\"#bd3786\"],[0.5555555555555556,\"#d8576b\"],[0.6666666666666666,\"#ed7953\"],[0.7777777777777778,\"#fb9f3a\"],[0.8888888888888888,\"#fdca26\"],[1.0,\"#f0f921\"]]}],\"contourcarpet\":[{\"type\":\"contourcarpet\",\"colorbar\":{\"outlinewidth\":0,\"ticks\":\"\"}}],\"contour\":[{\"type\":\"contour\",\"colorbar\":{\"outlinewidth\":0,\"ticks\":\"\"},\"colorscale\":[[0.0,\"#0d0887\"],[0.1111111111111111,\"#46039f\"],[0.2222222222222222,\"#7201a8\"],[0.3333333333333333,\"#9c179e\"],[0.4444444444444444,\"#bd3786\"],[0.5555555555555556,\"#d8576b\"],[0.6666666666666666,\"#ed7953\"],[0.7777777777777778,\"#fb9f3a\"],[0.8888888888888888,\"#fdca26\"],[1.0,\"#f0f921\"]]}],\"surface\":[{\"type\":\"surface\",\"colorbar\":{\"outlinewidth\":0,\"ticks\":\"\"},\"colorscale\":[[0.0,\"#0d0887\"],[0.1111111111111111,\"#46039f\"],[0.2222222222222222,\"#7201a8\"],[0.3333333333333333,\"#9c179e\"],[0.4444444444444444,\"#bd3786\"],[0.5555555555555556,\"#d8576b\"],[0.6666666666666666,\"#ed7953\"],[0.7777777777777778,\"#fb9f3a\"],[0.8888888888888888,\"#fdca26\"],[1.0,\"#f0f921\"]]}],\"mesh3d\":[{\"type\":\"mesh3d\",\"colorbar\":{\"outlinewidth\":0,\"ticks\":\"\"}}],\"scatter\":[{\"fillpattern\":{\"fillmode\":\"overlay\",\"size\":10,\"solidity\":0.2},\"type\":\"scatter\"}],\"parcoords\":[{\"type\":\"parcoords\",\"line\":{\"colorbar\":{\"outlinewidth\":0,\"ticks\":\"\"}}}],\"scatterpolargl\":[{\"type\":\"scatterpolargl\",\"marker\":{\"colorbar\":{\"outlinewidth\":0,\"ticks\":\"\"}}}],\"bar\":[{\"error_x\":{\"color\":\"#2a3f5f\"},\"error_y\":{\"color\":\"#2a3f5f\"},\"marker\":{\"line\":{\"color\":\"#E5ECF6\",\"width\":0.5},\"pattern\":{\"fillmode\":\"overlay\",\"size\":10,\"solidity\":0.2}},\"type\":\"bar\"}],\"scattergeo\":[{\"type\":\"scattergeo\",\"marker\":{\"colorbar\":{\"outlinewidth\":0,\"ticks\":\"\"}}}],\"scatterpolar\":[{\"type\":\"scatterpolar\",\"marker\":{\"colorbar\":{\"outlinewidth\":0,\"ticks\":\"\"}}}],\"histogram\":[{\"marker\":{\"pattern\":{\"fillmode\":\"overlay\",\"size\":10,\"solidity\":0.2}},\"type\":\"histogram\"}],\"scattergl\":[{\"type\":\"scattergl\",\"marker\":{\"colorbar\":{\"outlinewidth\":0,\"ticks\":\"\"}}}],\"scatter3d\":[{\"type\":\"scatter3d\",\"line\":{\"colorbar\":{\"outlinewidth\":0,\"ticks\":\"\"}},\"marker\":{\"colorbar\":{\"outlinewidth\":0,\"ticks\":\"\"}}}],\"scattermapbox\":[{\"type\":\"scattermapbox\",\"marker\":{\"colorbar\":{\"outlinewidth\":0,\"ticks\":\"\"}}}],\"scatterternary\":[{\"type\":\"scatterternary\",\"marker\":{\"colorbar\":{\"outlinewidth\":0,\"ticks\":\"\"}}}],\"scattercarpet\":[{\"type\":\"scattercarpet\",\"marker\":{\"colorbar\":{\"outlinewidth\":0,\"ticks\":\"\"}}}],\"carpet\":[{\"aaxis\":{\"endlinecolor\":\"#2a3f5f\",\"gridcolor\":\"white\",\"linecolor\":\"white\",\"minorgridcolor\":\"white\",\"startlinecolor\":\"#2a3f5f\"},\"baxis\":{\"endlinecolor\":\"#2a3f5f\",\"gridcolor\":\"white\",\"linecolor\":\"white\",\"minorgridcolor\":\"white\",\"startlinecolor\":\"#2a3f5f\"},\"type\":\"carpet\"}],\"table\":[{\"cells\":{\"fill\":{\"color\":\"#EBF0F8\"},\"line\":{\"color\":\"white\"}},\"header\":{\"fill\":{\"color\":\"#C8D4E3\"},\"line\":{\"color\":\"white\"}},\"type\":\"table\"}],\"barpolar\":[{\"marker\":{\"line\":{\"color\":\"#E5ECF6\",\"width\":0.5},\"pattern\":{\"fillmode\":\"overlay\",\"size\":10,\"solidity\":0.2}},\"type\":\"barpolar\"}],\"pie\":[{\"automargin\":true,\"type\":\"pie\"}]},\"layout\":{\"autotypenumbers\":\"strict\",\"colorway\":[\"#636efa\",\"#EF553B\",\"#00cc96\",\"#ab63fa\",\"#FFA15A\",\"#19d3f3\",\"#FF6692\",\"#B6E880\",\"#FF97FF\",\"#FECB52\"],\"font\":{\"color\":\"#2a3f5f\"},\"hovermode\":\"closest\",\"hoverlabel\":{\"align\":\"left\"},\"paper_bgcolor\":\"white\",\"plot_bgcolor\":\"#E5ECF6\",\"polar\":{\"bgcolor\":\"#E5ECF6\",\"angularaxis\":{\"gridcolor\":\"white\",\"linecolor\":\"white\",\"ticks\":\"\"},\"radialaxis\":{\"gridcolor\":\"white\",\"linecolor\":\"white\",\"ticks\":\"\"}},\"ternary\":{\"bgcolor\":\"#E5ECF6\",\"aaxis\":{\"gridcolor\":\"white\",\"linecolor\":\"white\",\"ticks\":\"\"},\"baxis\":{\"gridcolor\":\"white\",\"linecolor\":\"white\",\"ticks\":\"\"},\"caxis\":{\"gridcolor\":\"white\",\"linecolor\":\"white\",\"ticks\":\"\"}},\"coloraxis\":{\"colorbar\":{\"outlinewidth\":0,\"ticks\":\"\"}},\"colorscale\":{\"sequential\":[[0.0,\"#0d0887\"],[0.1111111111111111,\"#46039f\"],[0.2222222222222222,\"#7201a8\"],[0.3333333333333333,\"#9c179e\"],[0.4444444444444444,\"#bd3786\"],[0.5555555555555556,\"#d8576b\"],[0.6666666666666666,\"#ed7953\"],[0.7777777777777778,\"#fb9f3a\"],[0.8888888888888888,\"#fdca26\"],[1.0,\"#f0f921\"]],\"sequentialminus\":[[0.0,\"#0d0887\"],[0.1111111111111111,\"#46039f\"],[0.2222222222222222,\"#7201a8\"],[0.3333333333333333,\"#9c179e\"],[0.4444444444444444,\"#bd3786\"],[0.5555555555555556,\"#d8576b\"],[0.6666666666666666,\"#ed7953\"],[0.7777777777777778,\"#fb9f3a\"],[0.8888888888888888,\"#fdca26\"],[1.0,\"#f0f921\"]],\"diverging\":[[0,\"#8e0152\"],[0.1,\"#c51b7d\"],[0.2,\"#de77ae\"],[0.3,\"#f1b6da\"],[0.4,\"#fde0ef\"],[0.5,\"#f7f7f7\"],[0.6,\"#e6f5d0\"],[0.7,\"#b8e186\"],[0.8,\"#7fbc41\"],[0.9,\"#4d9221\"],[1,\"#276419\"]]},\"xaxis\":{\"gridcolor\":\"white\",\"linecolor\":\"white\",\"ticks\":\"\",\"title\":{\"standoff\":15},\"zerolinecolor\":\"white\",\"automargin\":true,\"zerolinewidth\":2},\"yaxis\":{\"gridcolor\":\"white\",\"linecolor\":\"white\",\"ticks\":\"\",\"title\":{\"standoff\":15},\"zerolinecolor\":\"white\",\"automargin\":true,\"zerolinewidth\":2},\"scene\":{\"xaxis\":{\"backgroundcolor\":\"#E5ECF6\",\"gridcolor\":\"white\",\"linecolor\":\"white\",\"showbackground\":true,\"ticks\":\"\",\"zerolinecolor\":\"white\",\"gridwidth\":2},\"yaxis\":{\"backgroundcolor\":\"#E5ECF6\",\"gridcolor\":\"white\",\"linecolor\":\"white\",\"showbackground\":true,\"ticks\":\"\",\"zerolinecolor\":\"white\",\"gridwidth\":2},\"zaxis\":{\"backgroundcolor\":\"#E5ECF6\",\"gridcolor\":\"white\",\"linecolor\":\"white\",\"showbackground\":true,\"ticks\":\"\",\"zerolinecolor\":\"white\",\"gridwidth\":2}},\"shapedefaults\":{\"line\":{\"color\":\"#2a3f5f\"}},\"annotationdefaults\":{\"arrowcolor\":\"#2a3f5f\",\"arrowhead\":0,\"arrowwidth\":1},\"geo\":{\"bgcolor\":\"white\",\"landcolor\":\"#E5ECF6\",\"subunitcolor\":\"white\",\"showland\":true,\"showlakes\":true,\"lakecolor\":\"white\"},\"title\":{\"x\":0.05},\"mapbox\":{\"style\":\"light\"}}},\"xaxis\":{\"anchor\":\"y\",\"domain\":[0.0,1.0],\"title\":{\"text\":\"<b>Date</b>\"}},\"yaxis\":{\"anchor\":\"x\",\"domain\":[0.0,1.0],\"title\":{\"text\":\"<b>Advertising costs</b>\"}},\"legend\":{\"title\":{\"text\":\"source\"},\"tracegroupgap\":0},\"margin\":{\"t\":60},\"barmode\":\"group\",\"height\":500,\"width\":900,\"title\":{\"font\":{\"family\":\"Arial\",\"size\":18,\"color\":\"#344243\"},\"text\":\"<b>Distribution of advertising costs by time and source </b>\",\"x\":0.5},\"plot_bgcolor\":\"#f8f6f6\"},                        {\"responsive\": true}                    ).then(function(){\n",
              "                            \n",
              "var gd = document.getElementById('8349aa23-4772-4026-815e-3a828a814566');\n",
              "var x = new MutationObserver(function (mutations, observer) {{\n",
              "        var display = window.getComputedStyle(gd).display;\n",
              "        if (!display || display === 'none') {{\n",
              "            console.log([gd, 'removed!']);\n",
              "            Plotly.purge(gd);\n",
              "            observer.disconnect();\n",
              "        }}\n",
              "}});\n",
              "\n",
              "// Listen for the removal of the full notebook cells\n",
              "var notebookContainer = gd.closest('#notebook-container');\n",
              "if (notebookContainer) {{\n",
              "    x.observe(notebookContainer, {childList: true});\n",
              "}}\n",
              "\n",
              "// Listen for the clearing of the current output cell\n",
              "var outputEl = gd.closest('.output');\n",
              "if (outputEl) {{\n",
              "    x.observe(outputEl, {childList: true});\n",
              "}}\n",
              "\n",
              "                        })                };                            </script>        </div>\n",
              "</body>\n",
              "</html>"
            ]
          },
          "metadata": {}
        }
      ],
      "source": [
        "fig = px.bar(costs, x='day', y='cost', color='source', barmode='group', width=900, height=500)\n",
        "fig.update_layout(\n",
        "                 plot_bgcolor='#f8f6f6',\n",
        "                 title=dict(text='<b>Distribution of advertising costs by time and source </b>',\n",
        "                            font=dict(family=\"Arial\",size=18,color='#344243'), x=0.5),\n",
        "                 xaxis_title=dict(text='<b>Date</b>'),\n",
        "                 yaxis_title=dict(text='<b>Advertising costs</b>')\n",
        "                 )\n",
        "for i,c in zip(fig.data,['#a0e8a7', '#a7a0e8', '#e8a0e1', '#dde38b']):\n",
        "    i.marker.color = c\n",
        "fig.show()"
      ]
    },
    {
      "cell_type": "markdown",
      "metadata": {
        "id": "cPmBoC2woLJC"
      },
      "source": [
        "The following conclusions can be drawn from the resulting diagram:\n",
        "- most money was spent on advertising on the first day (May 3), totaling about 3302 conventional units;\n",
        "- the costs decreased every day during the week, reaching the lowest values on May 9 - about 151 conventional units;\n",
        "- for the expenses by sources, it is similar: the lowest costs are incurred for '`youtube_channel_reklama`', for the other sources the costs are approximately at the same level."
      ]
    },
    {
      "cell_type": "markdown",
      "metadata": {
        "id": "UZFv4sLooLJC"
      },
      "source": [
        "### Distribution of users by advertising sources"
      ]
    },
    {
      "cell_type": "code",
      "execution_count": 43,
      "metadata": {
        "id": "H63FX68ToLJC",
        "colab": {
          "base_uri": "https://localhost:8080/",
          "height": 513
        },
        "outputId": "ac1ee1a6-9b60-411b-c06b-c3a284b92c05"
      },
      "outputs": [
        {
          "output_type": "display_data",
          "data": {
            "text/plain": [
              "<Figure size 600x300 with 1 Axes>"
            ],
            "image/png": "[encoded data removed]"
          },
          "metadata": {}
        }
      ],
      "source": [
        "simple_plot(sourse, 'source', 'Distribution of users by advertising sources', indent=150, rot=60)"
      ]
    },
    {
      "cell_type": "markdown",
      "metadata": {
        "id": "kDfTAYEtoLJD"
      },
      "source": [
        "From the resulting diagram, it can be seen that most users came from '`yandex_direct`' - about 35% of all attracted users, the least managed to attract through '`youtube_channel_reklama`' - about 19%. Other sources attracted on average 20-24% of users."
      ]
    },
    {
      "cell_type": "markdown",
      "metadata": {
        "id": "ROZ2x5JFoLJD"
      },
      "source": [
        "### Customer Acquisition Cost (САС)"
      ]
    },
    {
      "cell_type": "code",
      "execution_count": 44,
      "metadata": {
        "id": "h5MZQzawoLJD",
        "colab": {
          "base_uri": "https://localhost:8080/",
          "height": 175
        },
        "outputId": "7b72c484-da78-4e61-816c-c8e8f1216653"
      },
      "outputs": [
        {
          "output_type": "execute_result",
          "data": {
            "text/plain": [
              "                    source  user_id     cost  cac\n",
              "3  youtube_channel_reklama     2686 1,068.10 0.40\n",
              "2            yandex_direct     4817 2,233.10 0.46\n",
              "1    instagram_new_adverts     3347 2,161.40 0.65\n",
              "0             facebook_ads     2726 2,140.90 0.79"
            ],
            "text/html": [
              "\n",
              "  <div id=\"df-097434d5-93d8-412b-8c85-6ade439e8cb9\">\n",
              "    <div class=\"colab-df-container\">\n",
              "      <div>\n",
              "<style scoped>\n",
              "    .dataframe tbody tr th:only-of-type {\n",
              "        vertical-align: middle;\n",
              "    }\n",
              "\n",
              "    .dataframe tbody tr th {\n",
              "        vertical-align: top;\n",
              "    }\n",
              "\n",
              "    .dataframe thead th {\n",
              "        text-align: right;\n",
              "    }\n",
              "</style>\n",
              "<table border=\"1\" class=\"dataframe\">\n",
              "  <thead>\n",
              "    <tr style=\"text-align: right;\">\n",
              "      <th></th>\n",
              "      <th>source</th>\n",
              "      <th>user_id</th>\n",
              "      <th>cost</th>\n",
              "      <th>cac</th>\n",
              "    </tr>\n",
              "  </thead>\n",
              "  <tbody>\n",
              "    <tr>\n",
              "      <th>3</th>\n",
              "      <td>youtube_channel_reklama</td>\n",
              "      <td>2686</td>\n",
              "      <td>1,068.10</td>\n",
              "      <td>0.40</td>\n",
              "    </tr>\n",
              "    <tr>\n",
              "      <th>2</th>\n",
              "      <td>yandex_direct</td>\n",
              "      <td>4817</td>\n",
              "      <td>2,233.10</td>\n",
              "      <td>0.46</td>\n",
              "    </tr>\n",
              "    <tr>\n",
              "      <th>1</th>\n",
              "      <td>instagram_new_adverts</td>\n",
              "      <td>3347</td>\n",
              "      <td>2,161.40</td>\n",
              "      <td>0.65</td>\n",
              "    </tr>\n",
              "    <tr>\n",
              "      <th>0</th>\n",
              "      <td>facebook_ads</td>\n",
              "      <td>2726</td>\n",
              "      <td>2,140.90</td>\n",
              "      <td>0.79</td>\n",
              "    </tr>\n",
              "  </tbody>\n",
              "</table>\n",
              "</div>\n",
              "      <button class=\"colab-df-convert\" onclick=\"convertToInteractive('df-097434d5-93d8-412b-8c85-6ade439e8cb9')\"\n",
              "              title=\"Convert this dataframe to an interactive table.\"\n",
              "              style=\"display:none;\">\n",
              "        \n",
              "  <svg xmlns=\"http://www.w3.org/2000/svg\" height=\"24px\"viewBox=\"0 0 24 24\"\n",
              "       width=\"24px\">\n",
              "    <path d=\"M0 0h24v24H0V0z\" fill=\"none\"/>\n",
              "    <path d=\"M18.56 5.44l.94 2.06.94-2.06 2.06-.94-2.06-.94-.94-2.06-.94 2.06-2.06.94zm-11 1L8.5 8.5l.94-2.06 2.06-.94-2.06-.94L8.5 2.5l-.94 2.06-2.06.94zm10 10l.94 2.06.94-2.06 2.06-.94-2.06-.94-.94-2.06-.94 2.06-2.06.94z\"/><path d=\"M17.41 7.96l-1.37-1.37c-.4-.4-.92-.59-1.43-.59-.52 0-1.04.2-1.43.59L10.3 9.45l-7.72 7.72c-.78.78-.78 2.05 0 2.83L4 21.41c.39.39.9.59 1.41.59.51 0 1.02-.2 1.41-.59l7.78-7.78 2.81-2.81c.8-.78.8-2.07 0-2.86zM5.41 20L4 18.59l7.72-7.72 1.47 1.35L5.41 20z\"/>\n",
              "  </svg>\n",
              "      </button>\n",
              "      \n",
              "  <style>\n",
              "    .colab-df-container {\n",
              "      display:flex;\n",
              "      flex-wrap:wrap;\n",
              "      gap: 12px;\n",
              "    }\n",
              "\n",
              "    .colab-df-convert {\n",
              "      background-color: #E8F0FE;\n",
              "      border: none;\n",
              "      border-radius: 50%;\n",
              "      cursor: pointer;\n",
              "      display: none;\n",
              "      fill: #1967D2;\n",
              "      height: 32px;\n",
              "      padding: 0 0 0 0;\n",
              "      width: 32px;\n",
              "    }\n",
              "\n",
              "    .colab-df-convert:hover {\n",
              "      background-color: #E2EBFA;\n",
              "      box-shadow: 0px 1px 2px rgba(60, 64, 67, 0.3), 0px 1px 3px 1px rgba(60, 64, 67, 0.15);\n",
              "      fill: #174EA6;\n",
              "    }\n",
              "\n",
              "    [theme=dark] .colab-df-convert {\n",
              "      background-color: #3B4455;\n",
              "      fill: #D2E3FC;\n",
              "    }\n",
              "\n",
              "    [theme=dark] .colab-df-convert:hover {\n",
              "      background-color: #434B5C;\n",
              "      box-shadow: 0px 1px 3px 1px rgba(0, 0, 0, 0.15);\n",
              "      filter: drop-shadow(0px 1px 2px rgba(0, 0, 0, 0.3));\n",
              "      fill: #FFFFFF;\n",
              "    }\n",
              "  </style>\n",
              "\n",
              "      <script>\n",
              "        const buttonEl =\n",
              "          document.querySelector('#df-097434d5-93d8-412b-8c85-6ade439e8cb9 button.colab-df-convert');\n",
              "        buttonEl.style.display =\n",
              "          google.colab.kernel.accessAllowed ? 'block' : 'none';\n",
              "\n",
              "        async function convertToInteractive(key) {\n",
              "          const element = document.querySelector('#df-097434d5-93d8-412b-8c85-6ade439e8cb9');\n",
              "          const dataTable =\n",
              "            await google.colab.kernel.invokeFunction('convertToInteractive',\n",
              "                                                     [key], {});\n",
              "          if (!dataTable) return;\n",
              "\n",
              "          const docLinkHtml = 'Like what you see? Visit the ' +\n",
              "            '<a target=\"_blank\" href=https://colab.research.google.com/notebooks/data_table.ipynb>data table notebook</a>'\n",
              "            + ' to learn more about interactive tables.';\n",
              "          element.innerHTML = '';\n",
              "          dataTable['output_type'] = 'display_data';\n",
              "          await google.colab.output.renderOutput(dataTable, element);\n",
              "          const docLink = document.createElement('div');\n",
              "          docLink.innerHTML = docLinkHtml;\n",
              "          element.appendChild(docLink);\n",
              "        }\n",
              "      </script>\n",
              "    </div>\n",
              "  </div>\n",
              "  "
            ]
          },
          "metadata": {},
          "execution_count": 44
        }
      ],
      "source": [
        "cac = sourse.groupby('source')['user_id'].count().reset_index()\n",
        "cac = cac.merge(source_sum[['source','cost']], on='source')\n",
        "cac['cac'] = round(cac['cost'] / cac['user_id'], 2)\n",
        "cac = cac.sort_values('cac')\n",
        "cac"
      ]
    },
    {
      "cell_type": "markdown",
      "metadata": {
        "id": "2SmDGuFYoLJD"
      },
      "source": [
        "Conclusions on the data:\n",
        "\n",
        "- Users of the sources '`facebook_ads`' (CAC = 0.79) and 'instagram_new_adverts' (0.65) are the most expensive;\n",
        "- The least is spent on the source '`youtube_channel_reklama`' (1068 units), its CAC index is the lowest - 0.47."
      ]
    },
    {
      "cell_type": "markdown",
      "metadata": {
        "id": "oNlvWFgfoLJD"
      },
      "source": [
        "**Overall results of exploratory data analysis:**\n",
        "\n",
        "The dataset contains data of the first users of the application - a cohort of users who started using the application from May 4 to May 10 inclusive, i.e. 13576 unique users. Data on the events of these users are presented from May 4 to June 5.\n",
        "The advertising campaign was conducted from May 3 to May 9.\n",
        "\n",
        "94% of the events are labelled as '`building`', i.e., the user is in the process of constructing a `building`.\n",
        "Buildings of '`assembly_shop`' (54k., 42%) and '`spaceport`' (59k., 46%) were almost evenly distributed, '`research_center`' built only 14t. (11%) of the users.\n",
        "\n",
        "57% of players did not finish the first level;\n",
        "29% finished the first level by defeating the first opponent;\n",
        "13.7% finished the first level by converting the project;\n",
        "Warrior players (68%) are twice as likely as Builder players (32%).\n",
        "\n",
        "The average number of buildings per player is 10-11. The data shows failure at 7 buildings, perhaps this is an easy level in the game and it is quickly passed.\n",
        "\n",
        "Average time to complete the first level = 10-12 days. Users who failed the first level took an average of 4-8 days.\n",
        "\n",
        "The first building of the user is '`assembly_shop`'.\n",
        "The most money was spent on advertising in '`yandex_direct`' - 29%. The least was spent on advertising in '`youtube_channel_reklama`' - only 14% of the total advertising cost. Advertising costs for other sources are approximately at the same level, namely in the range of 2140 - 2233 conventional units. (~28%).\n",
        "\n",
        "Most users came from '`yandex_direct`' - about 35% of all recruited users, the least of all managed to attract via '`youtube_channel_reklama`' - about 19%. Other sources attracted on average 20-24% of users.\n",
        "\n",
        "Users of '`facebook_ads`' (CAC = 0.79) and '`instagram_new_adverts`' (0.65) are the most expensive;\n",
        "The source '`youtube_channel_reklama`' spent the least (1068 units), its CAC index is the lowest - 0.47."
      ]
    },
    {
      "cell_type": "markdown",
      "metadata": {
        "id": "cWasfnuDoLJE"
      },
      "source": [
        "## Analysis of impact of events on the completion of the target event"
      ]
    },
    {
      "cell_type": "markdown",
      "metadata": {
        "id": "TxXGlrDqoLJE"
      },
      "source": [
        "It is worth noting that the target event for us is the **stage completion**, i.e. clicking the \"Next\" button, which generates the '`finish_stage_1`' event."
      ]
    },
    {
      "cell_type": "markdown",
      "metadata": {
        "id": "R_6w4gutoLJE"
      },
      "source": [
        "### Change in the values of the average number of buildings and the share of users who completed the first level by sources"
      ]
    },
    {
      "cell_type": "code",
      "execution_count": 45,
      "metadata": {
        "id": "X5UwC_r2oLJE",
        "colab": {
          "base_uri": "https://localhost:8080/",
          "height": 206
        },
        "outputId": "a514b4fc-019d-408c-9043-ae89ce6c0eec"
      },
      "outputs": [
        {
          "output_type": "execute_result",
          "data": {
            "text/plain": [
              "                         user_id  count_building  finish_lvl\n",
              "source                                                      \n",
              "facebook_ads                2726            9.59        0.42\n",
              "instagram_new_adverts       3347            9.51        0.44\n",
              "yandex_direct               4817            9.35        0.42\n",
              "youtube_channel_reklama     2686            9.30        0.43"
            ],
            "text/html": [
              "\n",
              "  <div id=\"df-307a8a5d-c83e-4c79-b1c4-4ddb0a7d7401\">\n",
              "    <div class=\"colab-df-container\">\n",
              "      <div>\n",
              "<style scoped>\n",
              "    .dataframe tbody tr th:only-of-type {\n",
              "        vertical-align: middle;\n",
              "    }\n",
              "\n",
              "    .dataframe tbody tr th {\n",
              "        vertical-align: top;\n",
              "    }\n",
              "\n",
              "    .dataframe thead th {\n",
              "        text-align: right;\n",
              "    }\n",
              "</style>\n",
              "<table border=\"1\" class=\"dataframe\">\n",
              "  <thead>\n",
              "    <tr style=\"text-align: right;\">\n",
              "      <th></th>\n",
              "      <th>user_id</th>\n",
              "      <th>count_building</th>\n",
              "      <th>finish_lvl</th>\n",
              "    </tr>\n",
              "    <tr>\n",
              "      <th>source</th>\n",
              "      <th></th>\n",
              "      <th></th>\n",
              "      <th></th>\n",
              "    </tr>\n",
              "  </thead>\n",
              "  <tbody>\n",
              "    <tr>\n",
              "      <th>facebook_ads</th>\n",
              "      <td>2726</td>\n",
              "      <td>9.59</td>\n",
              "      <td>0.42</td>\n",
              "    </tr>\n",
              "    <tr>\n",
              "      <th>instagram_new_adverts</th>\n",
              "      <td>3347</td>\n",
              "      <td>9.51</td>\n",
              "      <td>0.44</td>\n",
              "    </tr>\n",
              "    <tr>\n",
              "      <th>yandex_direct</th>\n",
              "      <td>4817</td>\n",
              "      <td>9.35</td>\n",
              "      <td>0.42</td>\n",
              "    </tr>\n",
              "    <tr>\n",
              "      <th>youtube_channel_reklama</th>\n",
              "      <td>2686</td>\n",
              "      <td>9.30</td>\n",
              "      <td>0.43</td>\n",
              "    </tr>\n",
              "  </tbody>\n",
              "</table>\n",
              "</div>\n",
              "      <button class=\"colab-df-convert\" onclick=\"convertToInteractive('df-307a8a5d-c83e-4c79-b1c4-4ddb0a7d7401')\"\n",
              "              title=\"Convert this dataframe to an interactive table.\"\n",
              "              style=\"display:none;\">\n",
              "        \n",
              "  <svg xmlns=\"http://www.w3.org/2000/svg\" height=\"24px\"viewBox=\"0 0 24 24\"\n",
              "       width=\"24px\">\n",
              "    <path d=\"M0 0h24v24H0V0z\" fill=\"none\"/>\n",
              "    <path d=\"M18.56 5.44l.94 2.06.94-2.06 2.06-.94-2.06-.94-.94-2.06-.94 2.06-2.06.94zm-11 1L8.5 8.5l.94-2.06 2.06-.94-2.06-.94L8.5 2.5l-.94 2.06-2.06.94zm10 10l.94 2.06.94-2.06 2.06-.94-2.06-.94-.94-2.06-.94 2.06-2.06.94z\"/><path d=\"M17.41 7.96l-1.37-1.37c-.4-.4-.92-.59-1.43-.59-.52 0-1.04.2-1.43.59L10.3 9.45l-7.72 7.72c-.78.78-.78 2.05 0 2.83L4 21.41c.39.39.9.59 1.41.59.51 0 1.02-.2 1.41-.59l7.78-7.78 2.81-2.81c.8-.78.8-2.07 0-2.86zM5.41 20L4 18.59l7.72-7.72 1.47 1.35L5.41 20z\"/>\n",
              "  </svg>\n",
              "      </button>\n",
              "      \n",
              "  <style>\n",
              "    .colab-df-container {\n",
              "      display:flex;\n",
              "      flex-wrap:wrap;\n",
              "      gap: 12px;\n",
              "    }\n",
              "\n",
              "    .colab-df-convert {\n",
              "      background-color: #E8F0FE;\n",
              "      border: none;\n",
              "      border-radius: 50%;\n",
              "      cursor: pointer;\n",
              "      display: none;\n",
              "      fill: #1967D2;\n",
              "      height: 32px;\n",
              "      padding: 0 0 0 0;\n",
              "      width: 32px;\n",
              "    }\n",
              "\n",
              "    .colab-df-convert:hover {\n",
              "      background-color: #E2EBFA;\n",
              "      box-shadow: 0px 1px 2px rgba(60, 64, 67, 0.3), 0px 1px 3px 1px rgba(60, 64, 67, 0.15);\n",
              "      fill: #174EA6;\n",
              "    }\n",
              "\n",
              "    [theme=dark] .colab-df-convert {\n",
              "      background-color: #3B4455;\n",
              "      fill: #D2E3FC;\n",
              "    }\n",
              "\n",
              "    [theme=dark] .colab-df-convert:hover {\n",
              "      background-color: #434B5C;\n",
              "      box-shadow: 0px 1px 3px 1px rgba(0, 0, 0, 0.15);\n",
              "      filter: drop-shadow(0px 1px 2px rgba(0, 0, 0, 0.3));\n",
              "      fill: #FFFFFF;\n",
              "    }\n",
              "  </style>\n",
              "\n",
              "      <script>\n",
              "        const buttonEl =\n",
              "          document.querySelector('#df-307a8a5d-c83e-4c79-b1c4-4ddb0a7d7401 button.colab-df-convert');\n",
              "        buttonEl.style.display =\n",
              "          google.colab.kernel.accessAllowed ? 'block' : 'none';\n",
              "\n",
              "        async function convertToInteractive(key) {\n",
              "          const element = document.querySelector('#df-307a8a5d-c83e-4c79-b1c4-4ddb0a7d7401');\n",
              "          const dataTable =\n",
              "            await google.colab.kernel.invokeFunction('convertToInteractive',\n",
              "                                                     [key], {});\n",
              "          if (!dataTable) return;\n",
              "\n",
              "          const docLinkHtml = 'Like what you see? Visit the ' +\n",
              "            '<a target=\"_blank\" href=https://colab.research.google.com/notebooks/data_table.ipynb>data table notebook</a>'\n",
              "            + ' to learn more about interactive tables.';\n",
              "          element.innerHTML = '';\n",
              "          dataTable['output_type'] = 'display_data';\n",
              "          await google.colab.output.renderOutput(dataTable, element);\n",
              "          const docLink = document.createElement('div');\n",
              "          docLink.innerHTML = docLinkHtml;\n",
              "          element.appendChild(docLink);\n",
              "        }\n",
              "      </script>\n",
              "    </div>\n",
              "  </div>\n",
              "  "
            ]
          },
          "metadata": {},
          "execution_count": 45
        }
      ],
      "source": [
        "new_lvl.groupby(['source']).agg({'user_id':'count','count_building':'mean', 'finish_lvl':'mean'})"
      ]
    },
    {
      "cell_type": "markdown",
      "metadata": {
        "id": "0FFcT2MCoLJF"
      },
      "source": [
        "In general, according to the data, the averages of the number of buildings and the average proportions of users who completed the first stage under the sources do not vary significantly:\n",
        "- The average number of buildings varies from 9.59 to 9.30;\n",
        "- The average shares of the users who completed the first level varies in the diapason 0.42 to 0.44."
      ]
    },
    {
      "cell_type": "markdown",
      "metadata": {
        "id": "JjDzb-fpoLJF"
      },
      "source": [
        "### Change of average values (number of buildings, time to pass the first level, the number of game days) in the context of the method of level completion"
      ]
    },
    {
      "cell_type": "code",
      "execution_count": 46,
      "metadata": {
        "id": "wy90Op50oLJF",
        "colab": {
          "base_uri": "https://localhost:8080/",
          "height": 175
        },
        "outputId": "ba5b18e9-cc13-4707-8748-185120f9a3fa"
      },
      "outputs": [
        {
          "output_type": "execute_result",
          "data": {
            "text/plain": [
              "                  user_id  count_building  count_lvl_day  count_play_day  \\\n",
              "finish_lvl_split                                                           \n",
              "no_finish            7759            8.66            NaN            6.24   \n",
              "project              1866           12.65          13.40            9.64   \n",
              "victory              3951            9.41          11.06            7.29   \n",
              "\n",
              "                  assembly_shop  spaceport  research_center  \n",
              "finish_lvl_split                                             \n",
              "no_finish                  3.75       4.20             1.93  \n",
              "project                    4.89       5.78             1.98  \n",
              "victory                    4.13       4.40             1.60  "
            ],
            "text/html": [
              "\n",
              "  <div id=\"df-c82d8236-f5cb-4b50-adfd-b06e179c9e5c\">\n",
              "    <div class=\"colab-df-container\">\n",
              "      <div>\n",
              "<style scoped>\n",
              "    .dataframe tbody tr th:only-of-type {\n",
              "        vertical-align: middle;\n",
              "    }\n",
              "\n",
              "    .dataframe tbody tr th {\n",
              "        vertical-align: top;\n",
              "    }\n",
              "\n",
              "    .dataframe thead th {\n",
              "        text-align: right;\n",
              "    }\n",
              "</style>\n",
              "<table border=\"1\" class=\"dataframe\">\n",
              "  <thead>\n",
              "    <tr style=\"text-align: right;\">\n",
              "      <th></th>\n",
              "      <th>user_id</th>\n",
              "      <th>count_building</th>\n",
              "      <th>count_lvl_day</th>\n",
              "      <th>count_play_day</th>\n",
              "      <th>assembly_shop</th>\n",
              "      <th>spaceport</th>\n",
              "      <th>research_center</th>\n",
              "    </tr>\n",
              "    <tr>\n",
              "      <th>finish_lvl_split</th>\n",
              "      <th></th>\n",
              "      <th></th>\n",
              "      <th></th>\n",
              "      <th></th>\n",
              "      <th></th>\n",
              "      <th></th>\n",
              "      <th></th>\n",
              "    </tr>\n",
              "  </thead>\n",
              "  <tbody>\n",
              "    <tr>\n",
              "      <th>no_finish</th>\n",
              "      <td>7759</td>\n",
              "      <td>8.66</td>\n",
              "      <td>NaN</td>\n",
              "      <td>6.24</td>\n",
              "      <td>3.75</td>\n",
              "      <td>4.20</td>\n",
              "      <td>1.93</td>\n",
              "    </tr>\n",
              "    <tr>\n",
              "      <th>project</th>\n",
              "      <td>1866</td>\n",
              "      <td>12.65</td>\n",
              "      <td>13.40</td>\n",
              "      <td>9.64</td>\n",
              "      <td>4.89</td>\n",
              "      <td>5.78</td>\n",
              "      <td>1.98</td>\n",
              "    </tr>\n",
              "    <tr>\n",
              "      <th>victory</th>\n",
              "      <td>3951</td>\n",
              "      <td>9.41</td>\n",
              "      <td>11.06</td>\n",
              "      <td>7.29</td>\n",
              "      <td>4.13</td>\n",
              "      <td>4.40</td>\n",
              "      <td>1.60</td>\n",
              "    </tr>\n",
              "  </tbody>\n",
              "</table>\n",
              "</div>\n",
              "      <button class=\"colab-df-convert\" onclick=\"convertToInteractive('df-c82d8236-f5cb-4b50-adfd-b06e179c9e5c')\"\n",
              "              title=\"Convert this dataframe to an interactive table.\"\n",
              "              style=\"display:none;\">\n",
              "        \n",
              "  <svg xmlns=\"http://www.w3.org/2000/svg\" height=\"24px\"viewBox=\"0 0 24 24\"\n",
              "       width=\"24px\">\n",
              "    <path d=\"M0 0h24v24H0V0z\" fill=\"none\"/>\n",
              "    <path d=\"M18.56 5.44l.94 2.06.94-2.06 2.06-.94-2.06-.94-.94-2.06-.94 2.06-2.06.94zm-11 1L8.5 8.5l.94-2.06 2.06-.94-2.06-.94L8.5 2.5l-.94 2.06-2.06.94zm10 10l.94 2.06.94-2.06 2.06-.94-2.06-.94-.94-2.06-.94 2.06-2.06.94z\"/><path d=\"M17.41 7.96l-1.37-1.37c-.4-.4-.92-.59-1.43-.59-.52 0-1.04.2-1.43.59L10.3 9.45l-7.72 7.72c-.78.78-.78 2.05 0 2.83L4 21.41c.39.39.9.59 1.41.59.51 0 1.02-.2 1.41-.59l7.78-7.78 2.81-2.81c.8-.78.8-2.07 0-2.86zM5.41 20L4 18.59l7.72-7.72 1.47 1.35L5.41 20z\"/>\n",
              "  </svg>\n",
              "      </button>\n",
              "      \n",
              "  <style>\n",
              "    .colab-df-container {\n",
              "      display:flex;\n",
              "      flex-wrap:wrap;\n",
              "      gap: 12px;\n",
              "    }\n",
              "\n",
              "    .colab-df-convert {\n",
              "      background-color: #E8F0FE;\n",
              "      border: none;\n",
              "      border-radius: 50%;\n",
              "      cursor: pointer;\n",
              "      display: none;\n",
              "      fill: #1967D2;\n",
              "      height: 32px;\n",
              "      padding: 0 0 0 0;\n",
              "      width: 32px;\n",
              "    }\n",
              "\n",
              "    .colab-df-convert:hover {\n",
              "      background-color: #E2EBFA;\n",
              "      box-shadow: 0px 1px 2px rgba(60, 64, 67, 0.3), 0px 1px 3px 1px rgba(60, 64, 67, 0.15);\n",
              "      fill: #174EA6;\n",
              "    }\n",
              "\n",
              "    [theme=dark] .colab-df-convert {\n",
              "      background-color: #3B4455;\n",
              "      fill: #D2E3FC;\n",
              "    }\n",
              "\n",
              "    [theme=dark] .colab-df-convert:hover {\n",
              "      background-color: #434B5C;\n",
              "      box-shadow: 0px 1px 3px 1px rgba(0, 0, 0, 0.15);\n",
              "      filter: drop-shadow(0px 1px 2px rgba(0, 0, 0, 0.3));\n",
              "      fill: #FFFFFF;\n",
              "    }\n",
              "  </style>\n",
              "\n",
              "      <script>\n",
              "        const buttonEl =\n",
              "          document.querySelector('#df-c82d8236-f5cb-4b50-adfd-b06e179c9e5c button.colab-df-convert');\n",
              "        buttonEl.style.display =\n",
              "          google.colab.kernel.accessAllowed ? 'block' : 'none';\n",
              "\n",
              "        async function convertToInteractive(key) {\n",
              "          const element = document.querySelector('#df-c82d8236-f5cb-4b50-adfd-b06e179c9e5c');\n",
              "          const dataTable =\n",
              "            await google.colab.kernel.invokeFunction('convertToInteractive',\n",
              "                                                     [key], {});\n",
              "          if (!dataTable) return;\n",
              "\n",
              "          const docLinkHtml = 'Like what you see? Visit the ' +\n",
              "            '<a target=\"_blank\" href=https://colab.research.google.com/notebooks/data_table.ipynb>data table notebook</a>'\n",
              "            + ' to learn more about interactive tables.';\n",
              "          element.innerHTML = '';\n",
              "          dataTable['output_type'] = 'display_data';\n",
              "          await google.colab.output.renderOutput(dataTable, element);\n",
              "          const docLink = document.createElement('div');\n",
              "          docLink.innerHTML = docLinkHtml;\n",
              "          element.appendChild(docLink);\n",
              "        }\n",
              "      </script>\n",
              "    </div>\n",
              "  </div>\n",
              "  "
            ]
          },
          "metadata": {},
          "execution_count": 46
        }
      ],
      "source": [
        "new_lvl.groupby(['finish_lvl_split']).agg({'user_id':'count','count_building':'mean',\n",
        "                                        'count_lvl_day':'mean', 'count_play_day':'mean',\n",
        "                                        'assembly_shop':'mean', 'spaceport':'mean', 'research_center':'mean'})"
      ]
    },
    {
      "cell_type": "markdown",
      "metadata": {
        "id": "O6UTQp9boLJF"
      },
      "source": [
        "On average, there is a clear trend: users who have completed the first level of the project take 2 days longer to complete the level (13.4) than players who have defeated the enemy (11), they also build more and spend more time in the game."
      ]
    },
    {
      "cell_type": "markdown",
      "metadata": {
        "id": "RMyJQtvloLJF"
      },
      "source": [
        "**Conclusion:**\n",
        "\n",
        "1. The average values of changes in the number of constructions and shares of those who completed the first level are about the same and do not vary much: (constructions: 9.59-9.3, shares of those who completed the level: 0.42-0.44.\n",
        "2. Users who completed the level spend more resources compared to the players who defeated the enemy (pass the level for 2 days longer (13.4), build more and spend more time in the game)."
      ]
    },
    {
      "cell_type": "markdown",
      "metadata": {
        "id": "IkPZltLXoLJG"
      },
      "source": [
        "## Statistical hypothesis testing"
      ]
    },
    {
      "cell_type": "markdown",
      "metadata": {
        "id": "KKncCMMaoLJG"
      },
      "source": [
        "The following hypothesis has already been given in the study, it will be tested: the hypothesis of the difference of average passing time between users who finish a level through the implementation of the project, and users who finish a level by defeating another player.\n",
        "\n",
        "- **H0** = Difference in average level completion time between users who finish a level through project implementation and users who finish a level by defeating another player `no`\n",
        "- **H1** = Difference in average level completion time between users who finish a level through project implementation and users who finish a level by defeating another player `yes`."
      ]
    },
    {
      "cell_type": "markdown",
      "metadata": {
        "id": "W5344Xb6oLJG"
      },
      "source": [
        "Hypotheses will be tested using Student's T-test, but before testing hypotheses compare the variance of the two samples separately, and if they differ by more than 5%, then we consider the difference significant and choose the test parameter `equal_var = False`."
      ]
    },
    {
      "cell_type": "code",
      "execution_count": 47,
      "metadata": {
        "id": "q_WvJ3QmoLJG"
      },
      "outputs": [],
      "source": [
        "project = new_lvl.query('finish_lvl_split == \"project\"')['count_lvl_day']\n",
        "victory = new_lvl.query('finish_lvl_split == \"victory\"')['count_lvl_day']"
      ]
    },
    {
      "cell_type": "code",
      "execution_count": 48,
      "metadata": {
        "id": "WxSh47BJoLJH",
        "colab": {
          "base_uri": "https://localhost:8080/"
        },
        "outputId": "fca4a417-728a-4de2-97b5-7e3ca94cf08c"
      },
      "outputs": [
        {
          "output_type": "stream",
          "name": "stdout",
          "text": [
            "The dispersions differ by  26.36 %\n"
          ]
        }
      ],
      "source": [
        "print('The dispersions differ by ',round((100 - np.var(project, ddof=1)/np.var(victory, ddof=1)*100),2),'%')"
      ]
    },
    {
      "cell_type": "markdown",
      "metadata": {
        "id": "2kP1VK8SoLJH"
      },
      "source": [
        "There is a difference of more than 5%, so we choose the test parameter `equal_var = False`."
      ]
    },
    {
      "cell_type": "code",
      "execution_count": 49,
      "metadata": {
        "id": "_XC8B1kzoLJH",
        "colab": {
          "base_uri": "https://localhost:8080/"
        },
        "outputId": "80e98bfc-6a9e-4dc4-d1d2-2662cc0d7ac4"
      },
      "outputs": [
        {
          "output_type": "stream",
          "name": "stdout",
          "text": [
            "p-value:  6.5704667556440105e-105\n",
            "Reject null hypothesis, there is a difference between users\n"
          ]
        }
      ],
      "source": [
        "alpha = 0.05 # the critical level of statistical significance\n",
        "\n",
        "results = st.ttest_ind(project, victory, equal_var = False)\n",
        "print('p-value: ', results.pvalue)\n",
        "\n",
        "if (results.pvalue < alpha):\n",
        "    print(\"Reject null hypothesis, there is a difference between users\")\n",
        "else:\n",
        "    print(\"Failed to reject the null hypothesis, there is no difference between users\")"
      ]
    },
    {
      "cell_type": "markdown",
      "metadata": {
        "id": "_egywylEoLJH"
      },
      "source": [
        "***Hypothesis confirmed - there are differences***. Those who choose to pass the first level by implementing a project - pass it for 2 days longer in comparison with those who passed the level by defeating the first enemy."
      ]
    },
    {
      "cell_type": "markdown",
      "metadata": {
        "id": "bPGLJh02oLJI"
      },
      "source": [
        "Now let's test the second hypothesis of the difference in the average time of passing the level by users depending on the advertising source.\n",
        "\n",
        "- **H0** = Difference in the average time of passing the level by users depending on the advertising source `no`\n",
        "- **H1** = Difference in average level completion time by users depending on advertising source `available`\n",
        "\n",
        "Let's compare the sources with the highest level completion rate (`instagram_new_adverts` (44%)) and the lowest (`facebook_ads` (42%))"
      ]
    },
    {
      "cell_type": "code",
      "execution_count": 50,
      "metadata": {
        "id": "6amTWzX6oLJI"
      },
      "outputs": [],
      "source": [
        "insta = new_lvl.query(\n",
        "    'source == \"instagram_new_adverts\" and (finish_lvl_split == \"victory\" or finish_lvl_split == \"project\")')['count_lvl_day']\n",
        "facebook = new_lvl.query(\n",
        "    'source == \"facebook_ads\" and (finish_lvl_split == \"victory\" or finish_lvl_split == \"project\")')['count_lvl_day']"
      ]
    },
    {
      "cell_type": "code",
      "execution_count": 51,
      "metadata": {
        "id": "mxfssKsroLJI",
        "colab": {
          "base_uri": "https://localhost:8080/"
        },
        "outputId": "d6359b0f-daaa-4ada-e039-7c54249d94ca"
      },
      "outputs": [
        {
          "output_type": "stream",
          "name": "stdout",
          "text": [
            "The dispersions differ by  2.85 %\n"
          ]
        }
      ],
      "source": [
        "print('The dispersions differ by ',round((100 - np.var(insta, ddof=1)/np.var(facebook, ddof=1)*100),2),'%')"
      ]
    },
    {
      "cell_type": "code",
      "execution_count": 52,
      "metadata": {
        "id": "C17Ez0LNoLJI",
        "colab": {
          "base_uri": "https://localhost:8080/"
        },
        "outputId": "6d224ba8-8846-42cd-f1fe-a879adbd7898"
      },
      "outputs": [
        {
          "output_type": "stream",
          "name": "stdout",
          "text": [
            "p-value:  0.7393280217997715\n",
            "Failed to reject the null hypothesis, there is no difference between users\n"
          ]
        }
      ],
      "source": [
        "alpha = 0.05\n",
        "\n",
        "results = st.ttest_ind(insta, facebook)\n",
        "print('p-value: ', results.pvalue)\n",
        "\n",
        "if (results.pvalue < alpha):\n",
        "    print(\"Reject null hypothesis, there is a difference between users\")\n",
        "else:\n",
        "    print(\"Failed to reject the null hypothesis, there is no difference between users\")"
      ]
    },
    {
      "cell_type": "markdown",
      "metadata": {
        "id": "O1Fb9TNroLJI"
      },
      "source": [
        "**Hypothesis not confirmed - no differences found.**\n",
        "\n",
        "**Conclusion:**\n",
        "\n",
        "The proposed hypothesis about the difference in the average time to pass a level between users who finish a level through project implementation and users who finish a level by defeating another player, is confirmed. There is a difference: those who choose to complete the first level through realization of the project - pass it for 2 days longer in comparison with those who passed the level by defeating the first enemy.\n",
        "\n",
        "The hypothesis that we formulated about the difference in the average time to pass the level by users, depending on the advertising source, on the contrary, was not confirmed."
      ]
    },
    {
      "cell_type": "markdown",
      "metadata": {
        "id": "QPHEVYgPoLJJ"
      },
      "source": [
        "## Building a monetization model"
      ]
    },
    {
      "cell_type": "markdown",
      "metadata": {
        "id": "bHzGor9EoLJJ"
      },
      "source": [
        "In accordance with the above research, let's formulate a monetization model.\n",
        "\n",
        "In the basic monetization model, ads are shown every time the player chooses a type of object to build. The customer wants to know if it is possible to \"reduce the advertising load\" on the player."
      ]
    },
    {
      "cell_type": "markdown",
      "metadata": {
        "id": "mE_IbNrAoLJJ"
      },
      "source": [
        "Displaying advertising brings 0.07 units of profit. \n",
        "\n",
        "In the basic monetization model, advertising is shown each time the player chooses the type of object to build, i.e. we can say that in the basic model the player will be shown advertising as many times as he built objects. Let's consider the variant of showing advertising not from the very first construction, but later, so that the player could get used to the game without any extra load.\n",
        "\n",
        "Let's calculate profit from each variant of advertising to the player and compare indicators.\n",
        "\n",
        "First, let's calculate the Income for all users for each model."
      ]
    },
    {
      "cell_type": "code",
      "execution_count": 53,
      "metadata": {
        "id": "GJM1vIk3oLJJ",
        "colab": {
          "base_uri": "https://localhost:8080/",
          "height": 1000
        },
        "outputId": "47b4f02d-80e4-4c70-ff1a-a9db1dd0e6a0"
      },
      "outputs": [
        {
          "output_type": "display_data",
          "data": {
            "text/plain": [
              "                                    user_id  building_type  revenue  \\\n",
              "8799   a5add3ce-1ac4-4b97-aba0-f040efc4c1b0             20     0.07   \n",
              "8644   a2f85d5e-5a53-43ee-9d41-9e1def085562             20     0.07   \n",
              "10120  bf542075-e3a2-4e79-82d8-3838e86d2a25             20     0.07   \n",
              "1592   1cb5b622-be18-488e-b699-6136a57eb470             20     0.07   \n",
              "11329  d6aca06a-cd75-4cd8-b8cd-240a3c163884             20     0.07   \n",
              "...                                     ...            ...      ...   \n",
              "6601   7ac32352-627b-421c-9319-b77a37947625              1     0.07   \n",
              "4494   531a93d9-f57d-4b60-8eec-ee709ff7c67c              1     0.07   \n",
              "11954  e17fd642-a43d-41d4-86a8-c81c6107f9cc              1     0.07   \n",
              "7406   8a6262b0-0521-4691-bfd2-8d74cf7a5e93              1     0.07   \n",
              "6009   70362b15-8a0b-4fb7-8a67-4454fd7098d7              1     0.07   \n",
              "\n",
              "       basic_model  basic_model_revenue  model1  model1_revenue  model2  \\\n",
              "8799            20                 1.40      19            1.33      18   \n",
              "8644            20                 1.40      19            1.33      18   \n",
              "10120           20                 1.40      19            1.33      18   \n",
              "1592            20                 1.40      19            1.33      18   \n",
              "11329           20                 1.40      19            1.33      18   \n",
              "...            ...                  ...     ...             ...     ...   \n",
              "6601             1                 0.07       0            0.00       0   \n",
              "4494             1                 0.07       0            0.00       0   \n",
              "11954            1                 0.07       0            0.00       0   \n",
              "7406             1                 0.07       0            0.00       0   \n",
              "6009             1                 0.07       0            0.00       0   \n",
              "\n",
              "       model2_revenue  \n",
              "8799             1.26  \n",
              "8644             1.26  \n",
              "10120            1.26  \n",
              "1592             1.26  \n",
              "11329            1.26  \n",
              "...               ...  \n",
              "6601             0.00  \n",
              "4494             0.00  \n",
              "11954            0.00  \n",
              "7406             0.00  \n",
              "6009             0.00  \n",
              "\n",
              "[13576 rows x 9 columns]"
            ],
            "text/html": [
              "\n",
              "  <div id=\"df-0310e96a-ebcb-47e4-a103-b449bde4a022\">\n",
              "    <div class=\"colab-df-container\">\n",
              "      <div>\n",
              "<style scoped>\n",
              "    .dataframe tbody tr th:only-of-type {\n",
              "        vertical-align: middle;\n",
              "    }\n",
              "\n",
              "    .dataframe tbody tr th {\n",
              "        vertical-align: top;\n",
              "    }\n",
              "\n",
              "    .dataframe thead th {\n",
              "        text-align: right;\n",
              "    }\n",
              "</style>\n",
              "<table border=\"1\" class=\"dataframe\">\n",
              "  <thead>\n",
              "    <tr style=\"text-align: right;\">\n",
              "      <th></th>\n",
              "      <th>user_id</th>\n",
              "      <th>building_type</th>\n",
              "      <th>revenue</th>\n",
              "      <th>basic_model</th>\n",
              "      <th>basic_model_revenue</th>\n",
              "      <th>model1</th>\n",
              "      <th>model1_revenue</th>\n",
              "      <th>model2</th>\n",
              "      <th>model2_revenue</th>\n",
              "    </tr>\n",
              "  </thead>\n",
              "  <tbody>\n",
              "    <tr>\n",
              "      <th>8799</th>\n",
              "      <td>a5add3ce-1ac4-4b97-aba0-f040efc4c1b0</td>\n",
              "      <td>20</td>\n",
              "      <td>0.07</td>\n",
              "      <td>20</td>\n",
              "      <td>1.40</td>\n",
              "      <td>19</td>\n",
              "      <td>1.33</td>\n",
              "      <td>18</td>\n",
              "      <td>1.26</td>\n",
              "    </tr>\n",
              "    <tr>\n",
              "      <th>8644</th>\n",
              "      <td>a2f85d5e-5a53-43ee-9d41-9e1def085562</td>\n",
              "      <td>20</td>\n",
              "      <td>0.07</td>\n",
              "      <td>20</td>\n",
              "      <td>1.40</td>\n",
              "      <td>19</td>\n",
              "      <td>1.33</td>\n",
              "      <td>18</td>\n",
              "      <td>1.26</td>\n",
              "    </tr>\n",
              "    <tr>\n",
              "      <th>10120</th>\n",
              "      <td>bf542075-e3a2-4e79-82d8-3838e86d2a25</td>\n",
              "      <td>20</td>\n",
              "      <td>0.07</td>\n",
              "      <td>20</td>\n",
              "      <td>1.40</td>\n",
              "      <td>19</td>\n",
              "      <td>1.33</td>\n",
              "      <td>18</td>\n",
              "      <td>1.26</td>\n",
              "    </tr>\n",
              "    <tr>\n",
              "      <th>1592</th>\n",
              "      <td>1cb5b622-be18-488e-b699-6136a57eb470</td>\n",
              "      <td>20</td>\n",
              "      <td>0.07</td>\n",
              "      <td>20</td>\n",
              "      <td>1.40</td>\n",
              "      <td>19</td>\n",
              "      <td>1.33</td>\n",
              "      <td>18</td>\n",
              "      <td>1.26</td>\n",
              "    </tr>\n",
              "    <tr>\n",
              "      <th>11329</th>\n",
              "      <td>d6aca06a-cd75-4cd8-b8cd-240a3c163884</td>\n",
              "      <td>20</td>\n",
              "      <td>0.07</td>\n",
              "      <td>20</td>\n",
              "      <td>1.40</td>\n",
              "      <td>19</td>\n",
              "      <td>1.33</td>\n",
              "      <td>18</td>\n",
              "      <td>1.26</td>\n",
              "    </tr>\n",
              "    <tr>\n",
              "      <th>...</th>\n",
              "      <td>...</td>\n",
              "      <td>...</td>\n",
              "      <td>...</td>\n",
              "      <td>...</td>\n",
              "      <td>...</td>\n",
              "      <td>...</td>\n",
              "      <td>...</td>\n",
              "      <td>...</td>\n",
              "      <td>...</td>\n",
              "    </tr>\n",
              "    <tr>\n",
              "      <th>6601</th>\n",
              "      <td>7ac32352-627b-421c-9319-b77a37947625</td>\n",
              "      <td>1</td>\n",
              "      <td>0.07</td>\n",
              "      <td>1</td>\n",
              "      <td>0.07</td>\n",
              "      <td>0</td>\n",
              "      <td>0.00</td>\n",
              "      <td>0</td>\n",
              "      <td>0.00</td>\n",
              "    </tr>\n",
              "    <tr>\n",
              "      <th>4494</th>\n",
              "      <td>531a93d9-f57d-4b60-8eec-ee709ff7c67c</td>\n",
              "      <td>1</td>\n",
              "      <td>0.07</td>\n",
              "      <td>1</td>\n",
              "      <td>0.07</td>\n",
              "      <td>0</td>\n",
              "      <td>0.00</td>\n",
              "      <td>0</td>\n",
              "      <td>0.00</td>\n",
              "    </tr>\n",
              "    <tr>\n",
              "      <th>11954</th>\n",
              "      <td>e17fd642-a43d-41d4-86a8-c81c6107f9cc</td>\n",
              "      <td>1</td>\n",
              "      <td>0.07</td>\n",
              "      <td>1</td>\n",
              "      <td>0.07</td>\n",
              "      <td>0</td>\n",
              "      <td>0.00</td>\n",
              "      <td>0</td>\n",
              "      <td>0.00</td>\n",
              "    </tr>\n",
              "    <tr>\n",
              "      <th>7406</th>\n",
              "      <td>8a6262b0-0521-4691-bfd2-8d74cf7a5e93</td>\n",
              "      <td>1</td>\n",
              "      <td>0.07</td>\n",
              "      <td>1</td>\n",
              "      <td>0.07</td>\n",
              "      <td>0</td>\n",
              "      <td>0.00</td>\n",
              "      <td>0</td>\n",
              "      <td>0.00</td>\n",
              "    </tr>\n",
              "    <tr>\n",
              "      <th>6009</th>\n",
              "      <td>70362b15-8a0b-4fb7-8a67-4454fd7098d7</td>\n",
              "      <td>1</td>\n",
              "      <td>0.07</td>\n",
              "      <td>1</td>\n",
              "      <td>0.07</td>\n",
              "      <td>0</td>\n",
              "      <td>0.00</td>\n",
              "      <td>0</td>\n",
              "      <td>0.00</td>\n",
              "    </tr>\n",
              "  </tbody>\n",
              "</table>\n",
              "<p>13576 rows × 9 columns</p>\n",
              "</div>\n",
              "      <button class=\"colab-df-convert\" onclick=\"convertToInteractive('df-0310e96a-ebcb-47e4-a103-b449bde4a022')\"\n",
              "              title=\"Convert this dataframe to an interactive table.\"\n",
              "              style=\"display:none;\">\n",
              "        \n",
              "  <svg xmlns=\"http://www.w3.org/2000/svg\" height=\"24px\"viewBox=\"0 0 24 24\"\n",
              "       width=\"24px\">\n",
              "    <path d=\"M0 0h24v24H0V0z\" fill=\"none\"/>\n",
              "    <path d=\"M18.56 5.44l.94 2.06.94-2.06 2.06-.94-2.06-.94-.94-2.06-.94 2.06-2.06.94zm-11 1L8.5 8.5l.94-2.06 2.06-.94-2.06-.94L8.5 2.5l-.94 2.06-2.06.94zm10 10l.94 2.06.94-2.06 2.06-.94-2.06-.94-.94-2.06-.94 2.06-2.06.94z\"/><path d=\"M17.41 7.96l-1.37-1.37c-.4-.4-.92-.59-1.43-.59-.52 0-1.04.2-1.43.59L10.3 9.45l-7.72 7.72c-.78.78-.78 2.05 0 2.83L4 21.41c.39.39.9.59 1.41.59.51 0 1.02-.2 1.41-.59l7.78-7.78 2.81-2.81c.8-.78.8-2.07 0-2.86zM5.41 20L4 18.59l7.72-7.72 1.47 1.35L5.41 20z\"/>\n",
              "  </svg>\n",
              "      </button>\n",
              "      \n",
              "  <style>\n",
              "    .colab-df-container {\n",
              "      display:flex;\n",
              "      flex-wrap:wrap;\n",
              "      gap: 12px;\n",
              "    }\n",
              "\n",
              "    .colab-df-convert {\n",
              "      background-color: #E8F0FE;\n",
              "      border: none;\n",
              "      border-radius: 50%;\n",
              "      cursor: pointer;\n",
              "      display: none;\n",
              "      fill: #1967D2;\n",
              "      height: 32px;\n",
              "      padding: 0 0 0 0;\n",
              "      width: 32px;\n",
              "    }\n",
              "\n",
              "    .colab-df-convert:hover {\n",
              "      background-color: #E2EBFA;\n",
              "      box-shadow: 0px 1px 2px rgba(60, 64, 67, 0.3), 0px 1px 3px 1px rgba(60, 64, 67, 0.15);\n",
              "      fill: #174EA6;\n",
              "    }\n",
              "\n",
              "    [theme=dark] .colab-df-convert {\n",
              "      background-color: #3B4455;\n",
              "      fill: #D2E3FC;\n",
              "    }\n",
              "\n",
              "    [theme=dark] .colab-df-convert:hover {\n",
              "      background-color: #434B5C;\n",
              "      box-shadow: 0px 1px 3px 1px rgba(0, 0, 0, 0.15);\n",
              "      filter: drop-shadow(0px 1px 2px rgba(0, 0, 0, 0.3));\n",
              "      fill: #FFFFFF;\n",
              "    }\n",
              "  </style>\n",
              "\n",
              "      <script>\n",
              "        const buttonEl =\n",
              "          document.querySelector('#df-0310e96a-ebcb-47e4-a103-b449bde4a022 button.colab-df-convert');\n",
              "        buttonEl.style.display =\n",
              "          google.colab.kernel.accessAllowed ? 'block' : 'none';\n",
              "\n",
              "        async function convertToInteractive(key) {\n",
              "          const element = document.querySelector('#df-0310e96a-ebcb-47e4-a103-b449bde4a022');\n",
              "          const dataTable =\n",
              "            await google.colab.kernel.invokeFunction('convertToInteractive',\n",
              "                                                     [key], {});\n",
              "          if (!dataTable) return;\n",
              "\n",
              "          const docLinkHtml = 'Like what you see? Visit the ' +\n",
              "            '<a target=\"_blank\" href=https://colab.research.google.com/notebooks/data_table.ipynb>data table notebook</a>'\n",
              "            + ' to learn more about interactive tables.';\n",
              "          element.innerHTML = '';\n",
              "          dataTable['output_type'] = 'display_data';\n",
              "          await google.colab.output.renderOutput(dataTable, element);\n",
              "          const docLink = document.createElement('div');\n",
              "          docLink.innerHTML = docLinkHtml;\n",
              "          element.appendChild(docLink);\n",
              "        }\n",
              "      </script>\n",
              "    </div>\n",
              "  </div>\n",
              "  "
            ]
          },
          "metadata": {}
        },
        {
          "output_type": "stream",
          "name": "stdout",
          "text": [
            "Income from the basic model (advertising from the first building): 8956.92\n",
            "Income from model 1 (advertising from the second building) 8006.6\n",
            "Income from model 2 (advertising from the third construction) 7060.27\n"
          ]
        }
      ],
      "source": [
        "# grouping data by user\n",
        "pivot = (\n",
        "    graph.groupby('user_id').agg({'building_type':'count'})\n",
        "    .reset_index().sort_values(by = 'building_type', ascending = False)\n",
        ")\n",
        "# profit per 1 ad impression\n",
        "pivot['revenue'] = 0.07\n",
        "\n",
        "# calculation of the conditions for showing advertising in each model (from the 1st and the 2nd construction) and profit for each model\n",
        "pivot['basic_model'] = pivot['building_type']\n",
        "pivot['basic_model_revenue'] = pivot['basic_model'] * pivot['revenue']\n",
        "pivot['model1'] = pivot['building_type'] - 1\n",
        "pivot['model1'] = np.where((pivot.model1 < 0), 0, pivot.model1)\n",
        "pivot['model1_revenue'] = pivot['model1'] * pivot['revenue']\n",
        "pivot['model2'] = pivot['building_type'] - 2\n",
        "pivot['model2'] = np.where((pivot.model2 < 0), 0, pivot.model2)\n",
        "pivot['model2_revenue'] = pivot['model2'] * pivot['revenue']\n",
        "display(pivot)\n",
        "\n",
        "# Calculation of the total Revenue from advertising for each model\n",
        "basic_model_revenue_total = round(pivot['basic_model_revenue'].sum(),2)\n",
        "model1_revenue_total = round(pivot['model1_revenue'].sum(),2)\n",
        "model2_revenue_total = round(pivot['model2_revenue'].sum(),2)\n",
        "\n",
        "print('Income from the basic model (advertising from the first building):', basic_model_revenue_total)\n",
        "print('Income from model 1 (advertising from the second building)', model1_revenue_total)\n",
        "print('Income from model 2 (advertising from the third construction)', model2_revenue_total)"
      ]
    },
    {
      "cell_type": "code",
      "execution_count": 54,
      "metadata": {
        "id": "0VEVdGW2oLJK",
        "colab": {
          "base_uri": "https://localhost:8080/"
        },
        "outputId": "b67c73c8-c426-4153-f343-d993d06f77bd"
      },
      "outputs": [
        {
          "output_type": "stream",
          "name": "stdout",
          "text": [
            "Total users attracted:  13576\n",
            "Total costs for attracting users:  7603.58\n",
            "\n",
            "Basic model profit: 1353.34\n",
            "Model 1(advertising from the side of the building) profit: 403.02\n",
            "Model 2(advertising from the third building) profit: -543.31\n"
          ]
        }
      ],
      "source": [
        "# calculating the total cost of user engagement\n",
        "n_users = actions.user_id.nunique()\n",
        "print('Total users attracted: ', n_users)\n",
        "sum_costs = round(costs.cost.sum(),2)\n",
        "print('Total costs for attracting users: ', sum_costs)\n",
        "print('')\n",
        "\n",
        "# calculation of profit (income minus expenses) for each model\n",
        "print('Basic model profit:', round(basic_model_revenue_total - sum_costs, 2))\n",
        "print('Model 1(advertising from the side of the building) profit:', round(model1_revenue_total - sum_costs,2))\n",
        "print('Model 2(advertising from the third building) profit:', round(model2_revenue_total - sum_costs,2))\n",
        "\n",
        "basic = round(basic_model_revenue_total - sum_costs, 2)\n",
        "model1 = round(model1_revenue_total - sum_costs,2)\n",
        "model2 = round(model2_revenue_total - sum_costs,2)"
      ]
    },
    {
      "cell_type": "markdown",
      "metadata": {
        "id": "pOEXSMDxoLJK"
      },
      "source": [
        "In the end, after all the calculations we got:"
      ]
    },
    {
      "cell_type": "code",
      "execution_count": 55,
      "metadata": {
        "id": "xJGKSd4WoLJL",
        "colab": {
          "base_uri": "https://localhost:8080/"
        },
        "outputId": "23fa2c8b-58c9-4bb5-9e0c-78183c2764cb"
      },
      "outputs": [
        {
          "output_type": "stream",
          "name": "stdout",
          "text": [
            "Base model (display advertising from the 1st construction), the income is: 8956.92, advertising costs equal: 7603.58, profit: 1353.34\n",
            "Model1 (display advertising from the 2nd construction), income is: 8006.6, advertising costs equal: 7603.58, profit: 403.02\n",
            "Model2 (display advertising from the 3rd construction), income is: 7060.27, advertising costs equal: 7603.58, profit: -543.31\n"
          ]
        }
      ],
      "source": [
        "print(f'Base model (display advertising from the 1st construction), the income is: {basic_model_revenue_total}, advertising costs equal: {sum_costs}, profit: {basic}')\n",
        "print(f'Model1 (display advertising from the 2nd construction), income is: {model1_revenue_total}, advertising costs equal: {sum_costs}, profit: {model1}')\n",
        "print(f'Model2 (display advertising from the 3rd construction), income is: {model2_revenue_total}, advertising costs equal: {sum_costs}, profit: {model2}')"
      ]
    },
    {
      "cell_type": "markdown",
      "metadata": {
        "id": "_4HQ5eImoLJL"
      },
      "source": [
        "According to the data obtained, the situation is as follows:\n",
        "\n",
        "Payback for 2 models out of the 3 considered:\n",
        "   - Basic model (display advertising from the 1st construction), profit including expenses is 1353.34\n",
        "   - Model 1 (display advertising from the 2nd construction), profit is 403.02\n",
        "   - Model 2(display ads from the 3rd construction) does not pay off.\n",
        "   \n",
        "**Conclusion:**\n",
        "\n",
        "Thus, we can optimize the basic customer monetization model by reducing the number of ad impressions, namely to start displaying ads from the player's 2nd construction under Model 1."
      ]
    },
    {
      "cell_type": "markdown",
      "metadata": {
        "id": "1TIJOlSNoLJN"
      },
      "source": [
        "## General conclusions and recommendations"
      ]
    },
    {
      "cell_type": "markdown",
      "metadata": {
        "id": "_EBdYm_goLJN"
      },
      "source": [
        "** Conclusions:**\n",
        "\n",
        "1. Dataset contains data of the first users of the application - the cohort of users who started using the application from May 4 to 10 inclusive, which is 13576 unique users. The event data of these users is presented from May 4 to June 5.\n",
        "2. An advertising campaign was conducted from May 3 to 9.\n",
        "3. 94% of events are named as `building`, i.e. the user is in the process of building some structure. \n",
        "4. Almost equally distributed were the construction of `assembly_shop` (54k., 42%) and `spaceport` (59k., 46%), `research_center` built only 14t. (11%) users.\n",
        "5. 57% of players did not complete the first level; 29% completed the first level by defeating the first enemy; 13.7% completed the first level by implementing the project.\n",
        "6. Warrior players (68%) are twice as many as builder players (32%).\n",
        "7. Average number of builds per player - 10-11.\n",
        "8. Average time of passing the first level = 10-12 days. Users who did not pass the first level had an average of 4-8 days.\n",
        "9. The first building of the users - `assembly_shop`, in parallel with the trend to the construction of the object `spaceport`. At the peak of the construction of `spaceport`, the construction line of `assembly_shop` breaks off. In general, there is a drop in construction activity after a week of play. This may indicate that either the user has stopped progress and left, or has moved on to the next level.\n",
        "10. The most money was spent on advertising in `yandex_direct` - 29%. The least amount of money was spent on advertising in `youtube_channel_reklama` - only 14% of all advertising costs. Advertising costs from other sources are approximately at the same level, namely in the range from 2140 to 2233 cc. (~28%).\n",
        "The most number of users came from `yandex_direct` - about 35% of all users involved, the least number of users was attracted with the help of `youtube_channel_reklama` - about 19%. The other sources attracted an average of 20-24% of users.\n",
        "12. The most expensive are users from the sources `facebook_ads` (CAC = 0.79) and `instagram_new_adverts` (0.65).\n",
        "13. The least spent on the source `youtube_channel_reklama` (1068 units), the index CAC it the least - 0.47.\n",
        "14. Average number of constructions (9.3-9.6) and a share completed the first level (0.42-0.44) by sources, which came from the user about the same.\n",
        "15. On average, who completed the first level of the project, pass the level for 2 days longer (13.4) than the players who defeated the enemy (11), also they build more and spend more time in the game.\n",
        "\n",
        "The proposed hypothesis *about the difference in average level completion time between users who finish a level through project implementation and users who finish a level by defeating another player*, **is confirmed**. There is a difference: those who choose to complete the first level through realization of the project take 2 days longer to complete the level in comparison with those who completed the level by defeating the first enemy.\n",
        "\n",
        "The hypothesis we formulated *about the difference in the average time for users to pass the level depending on the advertising source*, on the contrary, **was not confirmed**.\n",
        "\n",
        "As part of the optimization of the monetization model, we calculated several options for reducing the advertising load on the user, and chose a suitable option: reducing the number of ad impressions, namely, starting to show ads from the player's second building in the game.\n",
        "\n",
        "Basic model (advertising from the 1st creation), profit including expenses is 1353.34\n",
        "Model 1 (display advertising from the 2nd building), profit is 403.02"
      ]
    },
    {
      "cell_type": "markdown",
      "metadata": {
        "id": "y6_CijDPoLJN"
      },
      "source": [
        "## Building a dashboard"
      ]
    },
    {
      "cell_type": "markdown",
      "metadata": {
        "id": "Y1GDu9rboLJN"
      },
      "source": [
        "link:\n",
        "\n",
        "https://public.tableau.com/views/games_16751077204130/Dashboard1?:language=en-US&publish=yes&:display_count=n&:origin=viz_share_link"
      ]
    }
  ],
  "metadata": {
    "ExecuteTimeLog": [
      {
        "duration": 2007,
        "start_time": "2023-01-25T10:27:56.098Z"
      },
      {
        "duration": 122,
        "start_time": "2023-01-25T10:28:37.603Z"
      },
      {
        "duration": 3,
        "start_time": "2023-01-25T10:28:59.072Z"
      },
      {
        "duration": 3,
        "start_time": "2023-01-25T10:28:59.746Z"
      },
      {
        "duration": 86,
        "start_time": "2023-01-25T10:29:24.401Z"
      },
      {
        "duration": 52,
        "start_time": "2023-01-25T10:29:39.863Z"
      },
      {
        "duration": 15,
        "start_time": "2023-01-25T10:31:43.258Z"
      },
      {
        "duration": 61,
        "start_time": "2023-01-25T10:32:06.701Z"
      },
      {
        "duration": 15,
        "start_time": "2023-01-25T10:37:04.374Z"
      },
      {
        "duration": 1462,
        "start_time": "2023-01-25T10:37:23.444Z"
      },
      {
        "duration": 4,
        "start_time": "2023-01-25T10:37:24.908Z"
      },
      {
        "duration": 152,
        "start_time": "2023-01-25T10:37:24.914Z"
      },
      {
        "duration": 18,
        "start_time": "2023-01-25T10:49:34.857Z"
      },
      {
        "duration": 15,
        "start_time": "2023-01-25T10:50:16.290Z"
      },
      {
        "duration": 19,
        "start_time": "2023-01-25T10:50:53.701Z"
      },
      {
        "duration": 66,
        "start_time": "2023-01-25T10:55:23.944Z"
      },
      {
        "duration": 20,
        "start_time": "2023-01-25T10:56:37.850Z"
      },
      {
        "duration": 49,
        "start_time": "2023-01-25T10:59:35.098Z"
      },
      {
        "duration": 51,
        "start_time": "2023-01-25T10:59:53.722Z"
      },
      {
        "duration": 69,
        "start_time": "2023-01-25T11:03:01.559Z"
      },
      {
        "duration": 90,
        "start_time": "2023-01-25T11:03:23.206Z"
      },
      {
        "duration": 15,
        "start_time": "2023-01-25T11:03:34.127Z"
      },
      {
        "duration": 450,
        "start_time": "2023-01-25T11:05:23.588Z"
      },
      {
        "duration": 1512,
        "start_time": "2023-01-25T11:05:50.949Z"
      },
      {
        "duration": 4,
        "start_time": "2023-01-25T11:05:52.463Z"
      },
      {
        "duration": 599,
        "start_time": "2023-01-25T11:05:52.470Z"
      },
      {
        "duration": 4,
        "start_time": "2023-01-25T11:07:49.334Z"
      },
      {
        "duration": 13,
        "start_time": "2023-01-25T11:08:03.664Z"
      },
      {
        "duration": 13,
        "start_time": "2023-01-25T11:08:18.265Z"
      },
      {
        "duration": 13,
        "start_time": "2023-01-25T11:08:47.309Z"
      },
      {
        "duration": 11,
        "start_time": "2023-01-25T11:08:55.352Z"
      },
      {
        "duration": 44,
        "start_time": "2023-01-25T11:15:25.811Z"
      },
      {
        "duration": 15,
        "start_time": "2023-01-25T11:15:33.577Z"
      },
      {
        "duration": 9,
        "start_time": "2023-01-25T11:31:36.908Z"
      },
      {
        "duration": 1414,
        "start_time": "2023-01-25T11:31:59.051Z"
      },
      {
        "duration": 3,
        "start_time": "2023-01-25T11:32:00.467Z"
      },
      {
        "duration": 538,
        "start_time": "2023-01-25T11:32:00.471Z"
      },
      {
        "duration": 14,
        "start_time": "2023-01-25T11:32:01.010Z"
      },
      {
        "duration": 46,
        "start_time": "2023-01-25T11:32:01.027Z"
      },
      {
        "duration": 31,
        "start_time": "2023-01-25T11:32:01.075Z"
      },
      {
        "duration": 42,
        "start_time": "2023-01-25T11:32:01.108Z"
      },
      {
        "duration": 57,
        "start_time": "2023-01-25T11:32:01.151Z"
      },
      {
        "duration": 35,
        "start_time": "2023-01-25T11:32:01.210Z"
      },
      {
        "duration": 233,
        "start_time": "2023-01-25T11:32:01.246Z"
      },
      {
        "duration": 111,
        "start_time": "2023-01-25T11:32:27.769Z"
      },
      {
        "duration": 111,
        "start_time": "2023-01-25T11:32:40.706Z"
      },
      {
        "duration": 1211,
        "start_time": "2023-01-25T11:36:10.100Z"
      },
      {
        "duration": 6,
        "start_time": "2023-01-25T11:36:28.326Z"
      },
      {
        "duration": 5,
        "start_time": "2023-01-25T11:36:57.790Z"
      },
      {
        "duration": 11,
        "start_time": "2023-01-25T11:38:20.757Z"
      },
      {
        "duration": 11,
        "start_time": "2023-01-25T11:38:25.517Z"
      },
      {
        "duration": 11,
        "start_time": "2023-01-25T11:38:48.450Z"
      },
      {
        "duration": 12,
        "start_time": "2023-01-25T11:39:33.239Z"
      },
      {
        "duration": 19,
        "start_time": "2023-01-25T11:39:37.714Z"
      },
      {
        "duration": 23,
        "start_time": "2023-01-25T11:41:10.464Z"
      },
      {
        "duration": 29,
        "start_time": "2023-01-25T11:41:18.811Z"
      },
      {
        "duration": 28,
        "start_time": "2023-01-25T11:41:54.770Z"
      },
      {
        "duration": 26,
        "start_time": "2023-01-25T11:42:27.701Z"
      },
      {
        "duration": 26,
        "start_time": "2023-01-25T11:44:05.556Z"
      },
      {
        "duration": 31,
        "start_time": "2023-01-25T11:44:17.242Z"
      },
      {
        "duration": 30,
        "start_time": "2023-01-25T11:46:42.341Z"
      },
      {
        "duration": 32,
        "start_time": "2023-01-25T11:46:46.552Z"
      },
      {
        "duration": 38,
        "start_time": "2023-01-25T11:53:17.352Z"
      },
      {
        "duration": 9,
        "start_time": "2023-01-25T11:55:53.218Z"
      },
      {
        "duration": 62,
        "start_time": "2023-01-25T11:56:10.053Z"
      },
      {
        "duration": 73,
        "start_time": "2023-01-25T12:20:55.548Z"
      },
      {
        "duration": 58,
        "start_time": "2023-01-25T12:23:55.621Z"
      },
      {
        "duration": 69,
        "start_time": "2023-01-25T12:25:28.675Z"
      },
      {
        "duration": 20,
        "start_time": "2023-01-25T12:26:29.015Z"
      },
      {
        "duration": 34,
        "start_time": "2023-01-25T12:26:45.329Z"
      },
      {
        "duration": 20,
        "start_time": "2023-01-25T12:27:27.363Z"
      },
      {
        "duration": 17,
        "start_time": "2023-01-25T12:27:40.690Z"
      },
      {
        "duration": 18,
        "start_time": "2023-01-25T12:29:09.199Z"
      },
      {
        "duration": 27,
        "start_time": "2023-01-25T12:53:39.764Z"
      },
      {
        "duration": 47,
        "start_time": "2023-01-25T12:54:53.631Z"
      },
      {
        "duration": 29,
        "start_time": "2023-01-25T12:55:26.504Z"
      },
      {
        "duration": 290,
        "start_time": "2023-01-25T12:56:47.709Z"
      },
      {
        "duration": 27,
        "start_time": "2023-01-25T12:59:45.951Z"
      },
      {
        "duration": 20,
        "start_time": "2023-01-25T13:00:09.781Z"
      },
      {
        "duration": 26,
        "start_time": "2023-01-25T13:01:05.874Z"
      },
      {
        "duration": 20,
        "start_time": "2023-01-25T13:01:16.953Z"
      },
      {
        "duration": 33,
        "start_time": "2023-01-25T13:02:33.648Z"
      },
      {
        "duration": 20,
        "start_time": "2023-01-25T13:02:56.523Z"
      },
      {
        "duration": 17,
        "start_time": "2023-01-25T13:02:57.919Z"
      },
      {
        "duration": 33,
        "start_time": "2023-01-25T13:02:58.698Z"
      },
      {
        "duration": 32,
        "start_time": "2023-01-25T13:03:36.467Z"
      },
      {
        "duration": 19,
        "start_time": "2023-01-25T13:03:45.459Z"
      },
      {
        "duration": 18,
        "start_time": "2023-01-25T13:04:43.174Z"
      },
      {
        "duration": 1344,
        "start_time": "2023-01-25T13:16:16.586Z"
      },
      {
        "duration": 3,
        "start_time": "2023-01-25T13:16:17.932Z"
      },
      {
        "duration": 721,
        "start_time": "2023-01-25T13:16:17.937Z"
      },
      {
        "duration": 15,
        "start_time": "2023-01-25T13:16:18.660Z"
      },
      {
        "duration": 32,
        "start_time": "2023-01-25T13:16:18.677Z"
      },
      {
        "duration": 16,
        "start_time": "2023-01-25T13:16:18.711Z"
      },
      {
        "duration": 44,
        "start_time": "2023-01-25T13:16:18.729Z"
      },
      {
        "duration": 49,
        "start_time": "2023-01-25T13:16:18.774Z"
      },
      {
        "duration": 21,
        "start_time": "2023-01-25T13:16:18.825Z"
      },
      {
        "duration": 130,
        "start_time": "2023-01-25T13:16:18.848Z"
      },
      {
        "duration": 36,
        "start_time": "2023-01-25T13:16:18.979Z"
      },
      {
        "duration": 66,
        "start_time": "2023-01-25T13:16:19.016Z"
      },
      {
        "duration": 99,
        "start_time": "2023-01-25T13:16:19.084Z"
      },
      {
        "duration": 81,
        "start_time": "2023-01-25T13:16:19.186Z"
      },
      {
        "duration": 92,
        "start_time": "2023-01-25T13:16:19.270Z"
      },
      {
        "duration": 48,
        "start_time": "2023-01-25T13:16:19.365Z"
      },
      {
        "duration": 66,
        "start_time": "2023-01-25T13:16:19.415Z"
      },
      {
        "duration": 18,
        "start_time": "2023-01-25T13:16:19.483Z"
      },
      {
        "duration": 94,
        "start_time": "2023-01-25T13:16:19.503Z"
      },
      {
        "duration": 34,
        "start_time": "2023-01-25T13:16:19.598Z"
      },
      {
        "duration": 78,
        "start_time": "2023-01-25T13:18:00.485Z"
      },
      {
        "duration": 25,
        "start_time": "2023-01-25T13:18:10.111Z"
      },
      {
        "duration": 103,
        "start_time": "2023-01-25T13:23:50.452Z"
      },
      {
        "duration": 63,
        "start_time": "2023-01-25T13:23:54.785Z"
      },
      {
        "duration": 88,
        "start_time": "2023-01-25T13:24:59.973Z"
      },
      {
        "duration": 1509,
        "start_time": "2023-01-27T10:15:50.826Z"
      },
      {
        "duration": 3,
        "start_time": "2023-01-27T10:15:52.337Z"
      },
      {
        "duration": 1233,
        "start_time": "2023-01-27T10:15:52.348Z"
      },
      {
        "duration": 28,
        "start_time": "2023-01-27T10:15:53.584Z"
      },
      {
        "duration": 19,
        "start_time": "2023-01-27T10:15:53.615Z"
      },
      {
        "duration": 14,
        "start_time": "2023-01-27T10:15:53.636Z"
      },
      {
        "duration": 14,
        "start_time": "2023-01-27T10:15:53.652Z"
      },
      {
        "duration": 58,
        "start_time": "2023-01-27T10:15:53.668Z"
      },
      {
        "duration": 34,
        "start_time": "2023-01-27T10:15:53.727Z"
      },
      {
        "duration": 141,
        "start_time": "2023-01-27T10:15:53.765Z"
      },
      {
        "duration": 51,
        "start_time": "2023-01-27T10:15:53.908Z"
      },
      {
        "duration": 55,
        "start_time": "2023-01-27T10:15:53.961Z"
      },
      {
        "duration": 111,
        "start_time": "2023-01-27T10:15:54.018Z"
      },
      {
        "duration": 83,
        "start_time": "2023-01-27T10:15:54.131Z"
      },
      {
        "duration": 102,
        "start_time": "2023-01-27T10:15:54.216Z"
      },
      {
        "duration": 30,
        "start_time": "2023-01-27T10:15:54.320Z"
      },
      {
        "duration": 29,
        "start_time": "2023-01-27T10:15:54.352Z"
      },
      {
        "duration": 18,
        "start_time": "2023-01-27T10:15:54.382Z"
      },
      {
        "duration": 17,
        "start_time": "2023-01-27T10:15:54.402Z"
      },
      {
        "duration": 19,
        "start_time": "2023-01-27T10:15:54.448Z"
      },
      {
        "duration": 107,
        "start_time": "2023-01-27T10:15:54.469Z"
      },
      {
        "duration": 32,
        "start_time": "2023-01-27T10:16:37.709Z"
      },
      {
        "duration": 354,
        "start_time": "2023-01-27T10:19:22.477Z"
      },
      {
        "duration": 8,
        "start_time": "2023-01-27T10:25:14.496Z"
      },
      {
        "duration": 248,
        "start_time": "2023-01-27T10:25:17.981Z"
      },
      {
        "duration": 6,
        "start_time": "2023-01-27T10:29:44.106Z"
      },
      {
        "duration": 214,
        "start_time": "2023-01-27T10:29:54.635Z"
      },
      {
        "duration": 8,
        "start_time": "2023-01-27T10:30:12.582Z"
      },
      {
        "duration": 225,
        "start_time": "2023-01-27T10:30:13.101Z"
      },
      {
        "duration": 6,
        "start_time": "2023-01-27T10:30:24.832Z"
      },
      {
        "duration": 229,
        "start_time": "2023-01-27T10:30:25.716Z"
      },
      {
        "duration": 8,
        "start_time": "2023-01-27T10:30:30.068Z"
      },
      {
        "duration": 242,
        "start_time": "2023-01-27T10:30:31.250Z"
      },
      {
        "duration": 223,
        "start_time": "2023-01-27T10:30:41.747Z"
      },
      {
        "duration": 6,
        "start_time": "2023-01-27T10:31:42.472Z"
      },
      {
        "duration": 272,
        "start_time": "2023-01-27T10:31:43.206Z"
      },
      {
        "duration": 21,
        "start_time": "2023-01-27T10:33:33.864Z"
      },
      {
        "duration": 26,
        "start_time": "2023-01-27T10:34:18.642Z"
      },
      {
        "duration": 25,
        "start_time": "2023-01-27T10:34:36.934Z"
      },
      {
        "duration": 27,
        "start_time": "2023-01-27T10:34:46.315Z"
      },
      {
        "duration": 20,
        "start_time": "2023-01-27T10:34:55.427Z"
      },
      {
        "duration": 1484,
        "start_time": "2023-01-27T10:36:24.736Z"
      },
      {
        "duration": 1378,
        "start_time": "2023-01-27T10:36:35.721Z"
      },
      {
        "duration": 265,
        "start_time": "2023-01-27T10:36:42.866Z"
      },
      {
        "duration": 19,
        "start_time": "2023-01-27T10:44:52.628Z"
      },
      {
        "duration": 796,
        "start_time": "2023-01-27T10:45:06.372Z"
      },
      {
        "duration": 1364,
        "start_time": "2023-01-27T10:47:02.672Z"
      },
      {
        "duration": 3,
        "start_time": "2023-01-27T10:47:04.040Z"
      },
      {
        "duration": 1057,
        "start_time": "2023-01-27T10:47:04.046Z"
      },
      {
        "duration": 16,
        "start_time": "2023-01-27T10:47:05.105Z"
      },
      {
        "duration": 23,
        "start_time": "2023-01-27T10:47:05.123Z"
      },
      {
        "duration": 18,
        "start_time": "2023-01-27T10:47:05.148Z"
      },
      {
        "duration": 17,
        "start_time": "2023-01-27T10:47:05.168Z"
      },
      {
        "duration": 42,
        "start_time": "2023-01-27T10:47:05.186Z"
      },
      {
        "duration": 32,
        "start_time": "2023-01-27T10:47:05.232Z"
      },
      {
        "duration": 147,
        "start_time": "2023-01-27T10:47:05.268Z"
      },
      {
        "duration": 61,
        "start_time": "2023-01-27T10:47:05.417Z"
      },
      {
        "duration": 46,
        "start_time": "2023-01-27T10:47:05.480Z"
      },
      {
        "duration": 82,
        "start_time": "2023-01-27T10:47:05.529Z"
      },
      {
        "duration": 83,
        "start_time": "2023-01-27T10:47:05.612Z"
      },
      {
        "duration": 87,
        "start_time": "2023-01-27T10:47:05.696Z"
      },
      {
        "duration": 21,
        "start_time": "2023-01-27T10:47:05.784Z"
      },
      {
        "duration": 36,
        "start_time": "2023-01-27T10:47:05.807Z"
      },
      {
        "duration": 42,
        "start_time": "2023-01-27T10:47:05.845Z"
      },
      {
        "duration": 23,
        "start_time": "2023-01-27T10:47:05.889Z"
      },
      {
        "duration": 25,
        "start_time": "2023-01-27T10:47:05.914Z"
      },
      {
        "duration": 118,
        "start_time": "2023-01-27T10:47:05.941Z"
      },
      {
        "duration": 37,
        "start_time": "2023-01-27T10:47:06.065Z"
      },
      {
        "duration": 445,
        "start_time": "2023-01-27T10:47:06.104Z"
      },
      {
        "duration": 7,
        "start_time": "2023-01-27T10:47:06.551Z"
      },
      {
        "duration": 318,
        "start_time": "2023-01-27T10:47:06.570Z"
      },
      {
        "duration": 311,
        "start_time": "2023-01-27T10:47:06.890Z"
      },
      {
        "duration": 699,
        "start_time": "2023-01-27T10:47:07.205Z"
      },
      {
        "duration": 122,
        "start_time": "2023-01-27T10:56:28.336Z"
      },
      {
        "duration": 41,
        "start_time": "2023-01-27T10:56:56.540Z"
      },
      {
        "duration": 36,
        "start_time": "2023-01-27T10:57:02.391Z"
      },
      {
        "duration": 11,
        "start_time": "2023-01-27T10:59:04.489Z"
      },
      {
        "duration": 22,
        "start_time": "2023-01-27T10:59:14.683Z"
      },
      {
        "duration": 13,
        "start_time": "2023-01-27T11:00:57.344Z"
      },
      {
        "duration": 51,
        "start_time": "2023-01-27T11:04:16.123Z"
      },
      {
        "duration": 445,
        "start_time": "2023-01-27T11:04:44.476Z"
      },
      {
        "duration": 193,
        "start_time": "2023-01-27T11:05:27.929Z"
      },
      {
        "duration": 72,
        "start_time": "2023-01-27T11:06:10.870Z"
      },
      {
        "duration": 96,
        "start_time": "2023-01-27T11:15:05.690Z"
      },
      {
        "duration": 50,
        "start_time": "2023-01-27T11:15:17.120Z"
      },
      {
        "duration": 103,
        "start_time": "2023-01-27T11:16:05.643Z"
      },
      {
        "duration": 394,
        "start_time": "2023-01-27T11:23:19.309Z"
      },
      {
        "duration": 4067,
        "start_time": "2023-01-27T11:23:28.950Z"
      },
      {
        "duration": 4040,
        "start_time": "2023-01-27T11:29:02.319Z"
      },
      {
        "duration": 3964,
        "start_time": "2023-01-27T11:29:48.401Z"
      },
      {
        "duration": 4097,
        "start_time": "2023-01-27T11:30:15.015Z"
      },
      {
        "duration": 5,
        "start_time": "2023-01-27T11:33:36.661Z"
      },
      {
        "duration": 79,
        "start_time": "2023-01-27T11:35:03.600Z"
      },
      {
        "duration": 72,
        "start_time": "2023-01-27T11:37:04.736Z"
      },
      {
        "duration": 1282,
        "start_time": "2023-01-27T11:39:52.873Z"
      },
      {
        "duration": 3,
        "start_time": "2023-01-27T11:39:54.162Z"
      },
      {
        "duration": 673,
        "start_time": "2023-01-27T11:39:54.168Z"
      },
      {
        "duration": 16,
        "start_time": "2023-01-27T11:39:54.844Z"
      },
      {
        "duration": 29,
        "start_time": "2023-01-27T11:39:54.865Z"
      },
      {
        "duration": 15,
        "start_time": "2023-01-27T11:39:54.896Z"
      },
      {
        "duration": 27,
        "start_time": "2023-01-27T11:39:54.913Z"
      },
      {
        "duration": 91,
        "start_time": "2023-01-27T11:39:54.944Z"
      },
      {
        "duration": 22,
        "start_time": "2023-01-27T11:39:55.037Z"
      },
      {
        "duration": 155,
        "start_time": "2023-01-27T11:39:55.062Z"
      },
      {
        "duration": 53,
        "start_time": "2023-01-27T11:39:55.218Z"
      },
      {
        "duration": 42,
        "start_time": "2023-01-27T11:39:55.282Z"
      },
      {
        "duration": 114,
        "start_time": "2023-01-27T11:39:55.328Z"
      },
      {
        "duration": 99,
        "start_time": "2023-01-27T11:39:55.452Z"
      },
      {
        "duration": 118,
        "start_time": "2023-01-27T11:39:55.555Z"
      },
      {
        "duration": 26,
        "start_time": "2023-01-27T11:39:55.677Z"
      },
      {
        "duration": 34,
        "start_time": "2023-01-27T11:39:55.705Z"
      },
      {
        "duration": 39,
        "start_time": "2023-01-27T11:39:55.741Z"
      },
      {
        "duration": 19,
        "start_time": "2023-01-27T11:39:55.782Z"
      },
      {
        "duration": 31,
        "start_time": "2023-01-27T11:39:55.803Z"
      },
      {
        "duration": 177,
        "start_time": "2023-01-27T11:39:55.836Z"
      },
      {
        "duration": 125,
        "start_time": "2023-01-27T11:39:56.015Z"
      },
      {
        "duration": 0,
        "start_time": "2023-01-27T11:39:56.141Z"
      },
      {
        "duration": 0,
        "start_time": "2023-01-27T11:39:56.143Z"
      },
      {
        "duration": 0,
        "start_time": "2023-01-27T11:39:56.151Z"
      },
      {
        "duration": 0,
        "start_time": "2023-01-27T11:39:56.152Z"
      },
      {
        "duration": 0,
        "start_time": "2023-01-27T11:39:56.153Z"
      },
      {
        "duration": 0,
        "start_time": "2023-01-27T11:39:56.153Z"
      },
      {
        "duration": 0,
        "start_time": "2023-01-27T11:39:56.155Z"
      },
      {
        "duration": 0,
        "start_time": "2023-01-27T11:39:56.156Z"
      },
      {
        "duration": 0,
        "start_time": "2023-01-27T11:39:56.157Z"
      },
      {
        "duration": 15,
        "start_time": "2023-01-27T11:41:13.517Z"
      },
      {
        "duration": 1272,
        "start_time": "2023-01-27T11:41:20.016Z"
      },
      {
        "duration": 3,
        "start_time": "2023-01-27T11:41:21.290Z"
      },
      {
        "duration": 627,
        "start_time": "2023-01-27T11:41:21.294Z"
      },
      {
        "duration": 15,
        "start_time": "2023-01-27T11:41:21.924Z"
      },
      {
        "duration": 19,
        "start_time": "2023-01-27T11:41:21.941Z"
      },
      {
        "duration": 29,
        "start_time": "2023-01-27T11:41:21.961Z"
      },
      {
        "duration": 14,
        "start_time": "2023-01-27T11:41:21.992Z"
      },
      {
        "duration": 45,
        "start_time": "2023-01-27T11:41:22.008Z"
      },
      {
        "duration": 16,
        "start_time": "2023-01-27T11:41:22.057Z"
      },
      {
        "duration": 129,
        "start_time": "2023-01-27T11:41:22.075Z"
      },
      {
        "duration": 69,
        "start_time": "2023-01-27T11:41:22.205Z"
      },
      {
        "duration": 38,
        "start_time": "2023-01-27T11:41:22.275Z"
      },
      {
        "duration": 76,
        "start_time": "2023-01-27T11:41:22.315Z"
      },
      {
        "duration": 76,
        "start_time": "2023-01-27T11:41:22.393Z"
      },
      {
        "duration": 62,
        "start_time": "2023-01-27T11:41:22.471Z"
      },
      {
        "duration": 48,
        "start_time": "2023-01-27T11:41:22.534Z"
      },
      {
        "duration": 41,
        "start_time": "2023-01-27T11:41:22.583Z"
      },
      {
        "duration": 18,
        "start_time": "2023-01-27T11:41:22.625Z"
      },
      {
        "duration": 35,
        "start_time": "2023-01-27T11:41:22.645Z"
      },
      {
        "duration": 16,
        "start_time": "2023-01-27T11:41:22.682Z"
      },
      {
        "duration": 98,
        "start_time": "2023-01-27T11:41:22.699Z"
      },
      {
        "duration": 30,
        "start_time": "2023-01-27T11:41:22.799Z"
      },
      {
        "duration": 416,
        "start_time": "2023-01-27T11:41:22.831Z"
      },
      {
        "duration": 16,
        "start_time": "2023-01-27T11:41:23.256Z"
      },
      {
        "duration": 245,
        "start_time": "2023-01-27T11:41:23.274Z"
      },
      {
        "duration": 218,
        "start_time": "2023-01-27T11:41:23.521Z"
      },
      {
        "duration": 437,
        "start_time": "2023-01-27T11:41:23.748Z"
      },
      {
        "duration": 30,
        "start_time": "2023-01-27T11:41:24.189Z"
      },
      {
        "duration": 4359,
        "start_time": "2023-01-27T11:41:24.221Z"
      },
      {
        "duration": 84,
        "start_time": "2023-01-27T11:41:28.581Z"
      },
      {
        "duration": 187,
        "start_time": "2023-01-27T11:43:06.126Z"
      },
      {
        "duration": 24,
        "start_time": "2023-01-27T11:43:17.069Z"
      },
      {
        "duration": 1303,
        "start_time": "2023-01-27T11:44:20.661Z"
      },
      {
        "duration": 2,
        "start_time": "2023-01-27T11:44:21.969Z"
      },
      {
        "duration": 457,
        "start_time": "2023-01-27T11:44:21.973Z"
      },
      {
        "duration": 11,
        "start_time": "2023-01-27T11:44:22.432Z"
      },
      {
        "duration": 30,
        "start_time": "2023-01-27T11:44:22.445Z"
      },
      {
        "duration": 12,
        "start_time": "2023-01-27T11:44:22.477Z"
      },
      {
        "duration": 11,
        "start_time": "2023-01-27T11:44:22.491Z"
      },
      {
        "duration": 65,
        "start_time": "2023-01-27T11:44:22.504Z"
      },
      {
        "duration": 22,
        "start_time": "2023-01-27T11:44:22.571Z"
      },
      {
        "duration": 132,
        "start_time": "2023-01-27T11:44:22.595Z"
      },
      {
        "duration": 52,
        "start_time": "2023-01-27T11:44:22.728Z"
      },
      {
        "duration": 38,
        "start_time": "2023-01-27T11:44:22.781Z"
      },
      {
        "duration": 100,
        "start_time": "2023-01-27T11:44:22.821Z"
      },
      {
        "duration": 92,
        "start_time": "2023-01-27T11:44:22.923Z"
      },
      {
        "duration": 81,
        "start_time": "2023-01-27T11:44:23.017Z"
      },
      {
        "duration": 22,
        "start_time": "2023-01-27T11:44:23.100Z"
      },
      {
        "duration": 44,
        "start_time": "2023-01-27T11:44:23.124Z"
      },
      {
        "duration": 17,
        "start_time": "2023-01-27T11:44:23.169Z"
      },
      {
        "duration": 19,
        "start_time": "2023-01-27T11:44:23.187Z"
      },
      {
        "duration": 22,
        "start_time": "2023-01-27T11:44:23.208Z"
      },
      {
        "duration": 131,
        "start_time": "2023-01-27T11:44:23.232Z"
      },
      {
        "duration": 40,
        "start_time": "2023-01-27T11:44:23.368Z"
      },
      {
        "duration": 387,
        "start_time": "2023-01-27T11:44:23.411Z"
      },
      {
        "duration": 5,
        "start_time": "2023-01-27T11:44:23.800Z"
      },
      {
        "duration": 268,
        "start_time": "2023-01-27T11:44:23.807Z"
      },
      {
        "duration": 249,
        "start_time": "2023-01-27T11:44:24.077Z"
      },
      {
        "duration": 402,
        "start_time": "2023-01-27T11:44:24.328Z"
      },
      {
        "duration": 29,
        "start_time": "2023-01-27T11:44:24.734Z"
      },
      {
        "duration": 4439,
        "start_time": "2023-01-27T11:44:24.767Z"
      },
      {
        "duration": 195,
        "start_time": "2023-01-27T11:44:29.208Z"
      },
      {
        "duration": 17,
        "start_time": "2023-01-27T11:44:29.405Z"
      },
      {
        "duration": 1685,
        "start_time": "2023-01-27T11:46:16.967Z"
      },
      {
        "duration": 133,
        "start_time": "2023-01-27T11:46:31.752Z"
      },
      {
        "duration": 213,
        "start_time": "2023-01-27T11:47:01.666Z"
      },
      {
        "duration": 134,
        "start_time": "2023-01-27T11:47:07.857Z"
      },
      {
        "duration": 45,
        "start_time": "2023-01-27T11:48:36.245Z"
      },
      {
        "duration": 27,
        "start_time": "2023-01-27T11:48:45.702Z"
      },
      {
        "duration": 99,
        "start_time": "2023-01-27T11:49:19.862Z"
      },
      {
        "duration": 5,
        "start_time": "2023-01-27T12:15:49.400Z"
      },
      {
        "duration": 255,
        "start_time": "2023-01-27T12:16:11.215Z"
      },
      {
        "duration": 4,
        "start_time": "2023-01-27T12:17:40.206Z"
      },
      {
        "duration": 91,
        "start_time": "2023-01-27T12:17:40.910Z"
      },
      {
        "duration": 32,
        "start_time": "2023-01-27T12:20:52.432Z"
      },
      {
        "duration": 8,
        "start_time": "2023-01-27T12:21:53.885Z"
      },
      {
        "duration": 90,
        "start_time": "2023-01-27T12:21:56.721Z"
      },
      {
        "duration": 114,
        "start_time": "2023-01-27T12:22:55.856Z"
      },
      {
        "duration": 4,
        "start_time": "2023-01-27T12:23:11.480Z"
      },
      {
        "duration": 100,
        "start_time": "2023-01-27T12:23:12.814Z"
      },
      {
        "duration": 4,
        "start_time": "2023-01-27T12:23:49.711Z"
      },
      {
        "duration": 98,
        "start_time": "2023-01-27T12:23:50.572Z"
      },
      {
        "duration": 5,
        "start_time": "2023-01-27T12:25:15.530Z"
      },
      {
        "duration": 202,
        "start_time": "2023-01-27T12:25:16.038Z"
      },
      {
        "duration": 11,
        "start_time": "2023-01-27T12:27:31.793Z"
      },
      {
        "duration": 19,
        "start_time": "2023-01-27T12:27:41.221Z"
      },
      {
        "duration": 99,
        "start_time": "2023-01-27T12:27:51.401Z"
      },
      {
        "duration": 104,
        "start_time": "2023-01-27T12:28:16.083Z"
      },
      {
        "duration": 77,
        "start_time": "2023-01-27T12:29:35.929Z"
      },
      {
        "duration": 5,
        "start_time": "2023-01-27T12:29:42.039Z"
      },
      {
        "duration": 77,
        "start_time": "2023-01-27T12:29:43.239Z"
      },
      {
        "duration": 6,
        "start_time": "2023-01-27T12:36:29.818Z"
      },
      {
        "duration": 96,
        "start_time": "2023-01-27T12:36:30.526Z"
      },
      {
        "duration": 92,
        "start_time": "2023-01-27T12:36:34.089Z"
      },
      {
        "duration": 6,
        "start_time": "2023-01-27T12:37:28.373Z"
      },
      {
        "duration": 107,
        "start_time": "2023-01-27T12:37:29.810Z"
      },
      {
        "duration": 244,
        "start_time": "2023-01-27T12:37:34.139Z"
      },
      {
        "duration": 86,
        "start_time": "2023-01-27T12:40:39.565Z"
      },
      {
        "duration": 5,
        "start_time": "2023-01-27T12:40:58.243Z"
      },
      {
        "duration": 89,
        "start_time": "2023-01-27T12:40:59.106Z"
      },
      {
        "duration": 114,
        "start_time": "2023-01-27T12:41:06.413Z"
      },
      {
        "duration": 90,
        "start_time": "2023-01-27T12:41:12.180Z"
      },
      {
        "duration": 82,
        "start_time": "2023-01-27T12:47:01.883Z"
      },
      {
        "duration": 1230,
        "start_time": "2023-01-27T12:47:34.900Z"
      },
      {
        "duration": 3,
        "start_time": "2023-01-27T12:47:36.132Z"
      },
      {
        "duration": 581,
        "start_time": "2023-01-27T12:47:36.137Z"
      },
      {
        "duration": 12,
        "start_time": "2023-01-27T12:47:36.720Z"
      },
      {
        "duration": 13,
        "start_time": "2023-01-27T12:47:36.734Z"
      },
      {
        "duration": 18,
        "start_time": "2023-01-27T12:47:36.748Z"
      },
      {
        "duration": 6,
        "start_time": "2023-01-27T12:47:36.767Z"
      },
      {
        "duration": 34,
        "start_time": "2023-01-27T12:47:36.775Z"
      },
      {
        "duration": 10,
        "start_time": "2023-01-27T12:47:36.811Z"
      },
      {
        "duration": 136,
        "start_time": "2023-01-27T12:47:36.823Z"
      },
      {
        "duration": 35,
        "start_time": "2023-01-27T12:47:36.960Z"
      },
      {
        "duration": 71,
        "start_time": "2023-01-27T12:47:36.996Z"
      },
      {
        "duration": 104,
        "start_time": "2023-01-27T12:47:37.069Z"
      },
      {
        "duration": 99,
        "start_time": "2023-01-27T12:47:37.174Z"
      },
      {
        "duration": 60,
        "start_time": "2023-01-27T12:47:37.274Z"
      },
      {
        "duration": 26,
        "start_time": "2023-01-27T12:47:37.336Z"
      },
      {
        "duration": 37,
        "start_time": "2023-01-27T12:47:37.369Z"
      },
      {
        "duration": 27,
        "start_time": "2023-01-27T12:47:37.408Z"
      },
      {
        "duration": 22,
        "start_time": "2023-01-27T12:47:37.437Z"
      },
      {
        "duration": 32,
        "start_time": "2023-01-27T12:47:37.460Z"
      },
      {
        "duration": 103,
        "start_time": "2023-01-27T12:47:37.494Z"
      },
      {
        "duration": 54,
        "start_time": "2023-01-27T12:47:37.598Z"
      },
      {
        "duration": 398,
        "start_time": "2023-01-27T12:47:37.659Z"
      },
      {
        "duration": 8,
        "start_time": "2023-01-27T12:47:38.063Z"
      },
      {
        "duration": 249,
        "start_time": "2023-01-27T12:47:38.074Z"
      },
      {
        "duration": 358,
        "start_time": "2023-01-27T12:47:38.325Z"
      },
      {
        "duration": 20,
        "start_time": "2023-01-27T12:47:38.685Z"
      },
      {
        "duration": 4128,
        "start_time": "2023-01-27T12:47:38.708Z"
      },
      {
        "duration": 168,
        "start_time": "2023-01-27T12:47:42.839Z"
      },
      {
        "duration": 14,
        "start_time": "2023-01-27T12:47:43.009Z"
      },
      {
        "duration": 147,
        "start_time": "2023-01-27T12:47:43.025Z"
      },
      {
        "duration": 109,
        "start_time": "2023-01-27T12:47:43.174Z"
      },
      {
        "duration": 5,
        "start_time": "2023-01-27T12:47:43.285Z"
      },
      {
        "duration": 587,
        "start_time": "2023-01-27T12:47:43.291Z"
      },
      {
        "duration": 225,
        "start_time": "2023-01-27T12:47:43.880Z"
      },
      {
        "duration": 124,
        "start_time": "2023-01-27T12:47:44.108Z"
      },
      {
        "duration": 99,
        "start_time": "2023-01-27T12:47:44.233Z"
      },
      {
        "duration": 1240,
        "start_time": "2023-01-27T12:51:04.922Z"
      },
      {
        "duration": 3,
        "start_time": "2023-01-27T12:51:06.164Z"
      },
      {
        "duration": 629,
        "start_time": "2023-01-27T12:51:06.169Z"
      },
      {
        "duration": 12,
        "start_time": "2023-01-27T12:51:06.799Z"
      },
      {
        "duration": 16,
        "start_time": "2023-01-27T12:51:06.813Z"
      },
      {
        "duration": 9,
        "start_time": "2023-01-27T12:51:06.831Z"
      },
      {
        "duration": 11,
        "start_time": "2023-01-27T12:51:06.841Z"
      },
      {
        "duration": 58,
        "start_time": "2023-01-27T12:51:06.853Z"
      },
      {
        "duration": 116,
        "start_time": "2023-01-27T12:51:06.912Z"
      },
      {
        "duration": 113,
        "start_time": "2023-01-27T12:51:07.030Z"
      },
      {
        "duration": 31,
        "start_time": "2023-01-27T12:51:07.145Z"
      },
      {
        "duration": 37,
        "start_time": "2023-01-27T12:51:07.178Z"
      },
      {
        "duration": 87,
        "start_time": "2023-01-27T12:51:07.216Z"
      },
      {
        "duration": 66,
        "start_time": "2023-01-27T12:51:07.306Z"
      },
      {
        "duration": 89,
        "start_time": "2023-01-27T12:51:07.373Z"
      },
      {
        "duration": 23,
        "start_time": "2023-01-27T12:51:07.464Z"
      },
      {
        "duration": 22,
        "start_time": "2023-01-27T12:51:07.489Z"
      },
      {
        "duration": 18,
        "start_time": "2023-01-27T12:51:07.512Z"
      },
      {
        "duration": 24,
        "start_time": "2023-01-27T12:51:07.548Z"
      },
      {
        "duration": 17,
        "start_time": "2023-01-27T12:51:07.574Z"
      },
      {
        "duration": 116,
        "start_time": "2023-01-27T12:51:07.593Z"
      },
      {
        "duration": 38,
        "start_time": "2023-01-27T12:51:07.710Z"
      },
      {
        "duration": 362,
        "start_time": "2023-01-27T12:51:07.750Z"
      },
      {
        "duration": 5,
        "start_time": "2023-01-27T12:51:08.114Z"
      },
      {
        "duration": 233,
        "start_time": "2023-01-27T12:51:08.121Z"
      },
      {
        "duration": 205,
        "start_time": "2023-01-27T12:51:08.356Z"
      },
      {
        "duration": 17,
        "start_time": "2023-01-27T12:51:08.563Z"
      },
      {
        "duration": 3471,
        "start_time": "2023-01-27T12:51:08.581Z"
      },
      {
        "duration": 150,
        "start_time": "2023-01-27T12:51:12.054Z"
      },
      {
        "duration": 14,
        "start_time": "2023-01-27T12:51:12.206Z"
      },
      {
        "duration": 130,
        "start_time": "2023-01-27T12:51:12.222Z"
      },
      {
        "duration": 127,
        "start_time": "2023-01-27T12:51:12.355Z"
      },
      {
        "duration": 4,
        "start_time": "2023-01-27T12:51:12.484Z"
      },
      {
        "duration": 496,
        "start_time": "2023-01-27T12:51:12.491Z"
      },
      {
        "duration": 177,
        "start_time": "2023-01-27T12:51:12.989Z"
      },
      {
        "duration": 104,
        "start_time": "2023-01-27T12:51:13.168Z"
      },
      {
        "duration": 99,
        "start_time": "2023-01-27T12:51:13.274Z"
      },
      {
        "duration": 1350,
        "start_time": "2023-01-28T10:47:18.328Z"
      },
      {
        "duration": 3,
        "start_time": "2023-01-28T10:47:19.680Z"
      },
      {
        "duration": 561,
        "start_time": "2023-01-28T10:47:19.692Z"
      },
      {
        "duration": 13,
        "start_time": "2023-01-28T10:47:20.255Z"
      },
      {
        "duration": 14,
        "start_time": "2023-01-28T10:47:20.269Z"
      },
      {
        "duration": 11,
        "start_time": "2023-01-28T10:47:20.284Z"
      },
      {
        "duration": 19,
        "start_time": "2023-01-28T10:47:20.297Z"
      },
      {
        "duration": 36,
        "start_time": "2023-01-28T10:47:20.318Z"
      },
      {
        "duration": 12,
        "start_time": "2023-01-28T10:47:20.356Z"
      },
      {
        "duration": 120,
        "start_time": "2023-01-28T10:47:20.371Z"
      },
      {
        "duration": 31,
        "start_time": "2023-01-28T10:47:20.493Z"
      },
      {
        "duration": 37,
        "start_time": "2023-01-28T10:47:20.525Z"
      },
      {
        "duration": 87,
        "start_time": "2023-01-28T10:47:20.563Z"
      },
      {
        "duration": 68,
        "start_time": "2023-01-28T10:47:20.651Z"
      },
      {
        "duration": 61,
        "start_time": "2023-01-28T10:47:20.721Z"
      },
      {
        "duration": 21,
        "start_time": "2023-01-28T10:47:20.784Z"
      },
      {
        "duration": 17,
        "start_time": "2023-01-28T10:47:20.806Z"
      },
      {
        "duration": 16,
        "start_time": "2023-01-28T10:47:20.824Z"
      },
      {
        "duration": 22,
        "start_time": "2023-01-28T10:47:20.842Z"
      },
      {
        "duration": 41,
        "start_time": "2023-01-28T10:47:20.865Z"
      },
      {
        "duration": 101,
        "start_time": "2023-01-28T10:47:20.907Z"
      },
      {
        "duration": 33,
        "start_time": "2023-01-28T10:47:21.011Z"
      },
      {
        "duration": 374,
        "start_time": "2023-01-28T10:47:21.046Z"
      },
      {
        "duration": 6,
        "start_time": "2023-01-28T10:47:21.422Z"
      },
      {
        "duration": 216,
        "start_time": "2023-01-28T10:47:21.430Z"
      },
      {
        "duration": 197,
        "start_time": "2023-01-28T10:47:21.648Z"
      },
      {
        "duration": 18,
        "start_time": "2023-01-28T10:47:21.847Z"
      },
      {
        "duration": 3255,
        "start_time": "2023-01-28T10:47:21.867Z"
      },
      {
        "duration": 156,
        "start_time": "2023-01-28T10:47:25.124Z"
      },
      {
        "duration": 19,
        "start_time": "2023-01-28T10:47:25.281Z"
      },
      {
        "duration": 126,
        "start_time": "2023-01-28T10:47:25.302Z"
      },
      {
        "duration": 109,
        "start_time": "2023-01-28T10:47:25.430Z"
      },
      {
        "duration": 5,
        "start_time": "2023-01-28T10:47:25.541Z"
      },
      {
        "duration": 488,
        "start_time": "2023-01-28T10:47:25.548Z"
      },
      {
        "duration": 206,
        "start_time": "2023-01-28T10:47:26.038Z"
      },
      {
        "duration": 109,
        "start_time": "2023-01-28T10:47:26.246Z"
      },
      {
        "duration": 95,
        "start_time": "2023-01-28T10:47:26.356Z"
      },
      {
        "duration": 8,
        "start_time": "2023-01-28T10:51:12.524Z"
      },
      {
        "duration": 14,
        "start_time": "2023-01-28T10:51:24.165Z"
      },
      {
        "duration": 53,
        "start_time": "2023-01-28T10:52:31.325Z"
      },
      {
        "duration": 13,
        "start_time": "2023-01-28T10:54:15.824Z"
      },
      {
        "duration": 13,
        "start_time": "2023-01-28T10:55:00.236Z"
      },
      {
        "duration": 13,
        "start_time": "2023-01-28T10:56:41.343Z"
      },
      {
        "duration": 1481,
        "start_time": "2023-01-28T10:57:35.979Z"
      },
      {
        "duration": 49,
        "start_time": "2023-01-28T10:57:52.355Z"
      },
      {
        "duration": 12,
        "start_time": "2023-01-28T10:58:17.746Z"
      },
      {
        "duration": 51,
        "start_time": "2023-01-28T10:58:18.323Z"
      },
      {
        "duration": 11,
        "start_time": "2023-01-28T10:59:13.784Z"
      },
      {
        "duration": 50,
        "start_time": "2023-01-28T10:59:15.280Z"
      },
      {
        "duration": 14,
        "start_time": "2023-01-28T10:59:53.361Z"
      },
      {
        "duration": 45,
        "start_time": "2023-01-28T10:59:55.548Z"
      },
      {
        "duration": 1300,
        "start_time": "2023-01-28T11:00:07.395Z"
      },
      {
        "duration": 4,
        "start_time": "2023-01-28T11:00:08.698Z"
      },
      {
        "duration": 1201,
        "start_time": "2023-01-28T11:00:08.704Z"
      },
      {
        "duration": 12,
        "start_time": "2023-01-28T11:00:09.908Z"
      },
      {
        "duration": 19,
        "start_time": "2023-01-28T11:00:09.922Z"
      },
      {
        "duration": 14,
        "start_time": "2023-01-28T11:00:09.943Z"
      },
      {
        "duration": 16,
        "start_time": "2023-01-28T11:00:09.959Z"
      },
      {
        "duration": 54,
        "start_time": "2023-01-28T11:00:09.976Z"
      },
      {
        "duration": 44,
        "start_time": "2023-01-28T11:00:10.032Z"
      },
      {
        "duration": 154,
        "start_time": "2023-01-28T11:00:10.079Z"
      },
      {
        "duration": 32,
        "start_time": "2023-01-28T11:00:10.235Z"
      },
      {
        "duration": 72,
        "start_time": "2023-01-28T11:00:10.269Z"
      },
      {
        "duration": 90,
        "start_time": "2023-01-28T11:00:10.343Z"
      },
      {
        "duration": 75,
        "start_time": "2023-01-28T11:00:10.435Z"
      },
      {
        "duration": 68,
        "start_time": "2023-01-28T11:00:10.512Z"
      },
      {
        "duration": 29,
        "start_time": "2023-01-28T11:00:10.582Z"
      },
      {
        "duration": 96,
        "start_time": "2023-01-28T11:00:10.613Z"
      },
      {
        "duration": 17,
        "start_time": "2023-01-28T11:00:10.711Z"
      },
      {
        "duration": 15,
        "start_time": "2023-01-28T11:00:10.730Z"
      },
      {
        "duration": 23,
        "start_time": "2023-01-28T11:00:10.747Z"
      },
      {
        "duration": 100,
        "start_time": "2023-01-28T11:00:10.772Z"
      },
      {
        "duration": 48,
        "start_time": "2023-01-28T11:00:10.874Z"
      },
      {
        "duration": 375,
        "start_time": "2023-01-28T11:00:10.924Z"
      },
      {
        "duration": 5,
        "start_time": "2023-01-28T11:00:11.301Z"
      },
      {
        "duration": 221,
        "start_time": "2023-01-28T11:00:11.308Z"
      },
      {
        "duration": 228,
        "start_time": "2023-01-28T11:00:11.531Z"
      },
      {
        "duration": 19,
        "start_time": "2023-01-28T11:00:11.761Z"
      },
      {
        "duration": 3698,
        "start_time": "2023-01-28T11:00:11.791Z"
      },
      {
        "duration": 168,
        "start_time": "2023-01-28T11:00:15.492Z"
      },
      {
        "duration": 17,
        "start_time": "2023-01-28T11:00:15.662Z"
      },
      {
        "duration": 135,
        "start_time": "2023-01-28T11:00:15.692Z"
      },
      {
        "duration": 133,
        "start_time": "2023-01-28T11:00:15.829Z"
      },
      {
        "duration": 6,
        "start_time": "2023-01-28T11:00:15.965Z"
      },
      {
        "duration": 719,
        "start_time": "2023-01-28T11:00:15.973Z"
      },
      {
        "duration": 169,
        "start_time": "2023-01-28T11:00:16.695Z"
      },
      {
        "duration": 135,
        "start_time": "2023-01-28T11:00:16.866Z"
      },
      {
        "duration": 100,
        "start_time": "2023-01-28T11:00:17.003Z"
      },
      {
        "duration": 16,
        "start_time": "2023-01-28T11:00:17.105Z"
      },
      {
        "duration": 75,
        "start_time": "2023-01-28T11:00:17.123Z"
      },
      {
        "duration": 13,
        "start_time": "2023-01-28T11:00:54.426Z"
      },
      {
        "duration": 115,
        "start_time": "2023-01-28T11:00:55.148Z"
      },
      {
        "duration": 48,
        "start_time": "2023-01-28T11:02:23.831Z"
      },
      {
        "duration": 49,
        "start_time": "2023-01-28T11:03:02.357Z"
      },
      {
        "duration": 48,
        "start_time": "2023-01-28T11:03:22.331Z"
      },
      {
        "duration": 74,
        "start_time": "2023-01-28T11:04:50.979Z"
      },
      {
        "duration": 52,
        "start_time": "2023-01-28T11:05:02.873Z"
      },
      {
        "duration": 63,
        "start_time": "2023-01-28T11:05:53.210Z"
      },
      {
        "duration": 52,
        "start_time": "2023-01-28T11:07:44.724Z"
      },
      {
        "duration": 1265,
        "start_time": "2023-01-28T11:08:21.524Z"
      },
      {
        "duration": 3,
        "start_time": "2023-01-28T11:08:22.792Z"
      },
      {
        "duration": 430,
        "start_time": "2023-01-28T11:08:22.796Z"
      },
      {
        "duration": 12,
        "start_time": "2023-01-28T11:08:23.227Z"
      },
      {
        "duration": 20,
        "start_time": "2023-01-28T11:08:23.242Z"
      },
      {
        "duration": 14,
        "start_time": "2023-01-28T11:08:23.264Z"
      },
      {
        "duration": 7,
        "start_time": "2023-01-28T11:08:23.281Z"
      },
      {
        "duration": 37,
        "start_time": "2023-01-28T11:08:23.290Z"
      },
      {
        "duration": 12,
        "start_time": "2023-01-28T11:08:23.328Z"
      },
      {
        "duration": 119,
        "start_time": "2023-01-28T11:08:23.342Z"
      },
      {
        "duration": 47,
        "start_time": "2023-01-28T11:08:23.463Z"
      },
      {
        "duration": 35,
        "start_time": "2023-01-28T11:08:23.512Z"
      },
      {
        "duration": 84,
        "start_time": "2023-01-28T11:08:23.549Z"
      },
      {
        "duration": 73,
        "start_time": "2023-01-28T11:08:23.635Z"
      },
      {
        "duration": 62,
        "start_time": "2023-01-28T11:08:23.709Z"
      },
      {
        "duration": 31,
        "start_time": "2023-01-28T11:08:23.773Z"
      },
      {
        "duration": 18,
        "start_time": "2023-01-28T11:08:23.806Z"
      },
      {
        "duration": 17,
        "start_time": "2023-01-28T11:08:23.826Z"
      },
      {
        "duration": 23,
        "start_time": "2023-01-28T11:08:23.845Z"
      },
      {
        "duration": 22,
        "start_time": "2023-01-28T11:08:23.893Z"
      },
      {
        "duration": 101,
        "start_time": "2023-01-28T11:08:23.916Z"
      },
      {
        "duration": 33,
        "start_time": "2023-01-28T11:08:24.019Z"
      },
      {
        "duration": 351,
        "start_time": "2023-01-28T11:08:24.053Z"
      },
      {
        "duration": 7,
        "start_time": "2023-01-28T11:08:24.406Z"
      },
      {
        "duration": 221,
        "start_time": "2023-01-28T11:08:24.414Z"
      },
      {
        "duration": 207,
        "start_time": "2023-01-28T11:08:24.637Z"
      },
      {
        "duration": 19,
        "start_time": "2023-01-28T11:08:24.846Z"
      },
      {
        "duration": 3610,
        "start_time": "2023-01-28T11:08:24.867Z"
      },
      {
        "duration": 172,
        "start_time": "2023-01-28T11:08:28.479Z"
      },
      {
        "duration": 40,
        "start_time": "2023-01-28T11:08:28.653Z"
      },
      {
        "duration": 160,
        "start_time": "2023-01-28T11:08:28.694Z"
      },
      {
        "duration": 108,
        "start_time": "2023-01-28T11:08:28.856Z"
      },
      {
        "duration": 4,
        "start_time": "2023-01-28T11:08:28.965Z"
      },
      {
        "duration": 483,
        "start_time": "2023-01-28T11:08:28.970Z"
      },
      {
        "duration": 166,
        "start_time": "2023-01-28T11:08:29.454Z"
      },
      {
        "duration": 116,
        "start_time": "2023-01-28T11:08:29.622Z"
      },
      {
        "duration": 100,
        "start_time": "2023-01-28T11:08:29.740Z"
      },
      {
        "duration": 14,
        "start_time": "2023-01-28T11:08:29.841Z"
      },
      {
        "duration": 66,
        "start_time": "2023-01-28T11:08:29.856Z"
      },
      {
        "duration": 152,
        "start_time": "2023-01-28T11:08:29.924Z"
      },
      {
        "duration": 62,
        "start_time": "2023-01-28T11:09:08.106Z"
      },
      {
        "duration": 66,
        "start_time": "2023-01-28T11:09:22.483Z"
      },
      {
        "duration": 68,
        "start_time": "2023-01-28T11:09:30.527Z"
      },
      {
        "duration": 76,
        "start_time": "2023-01-28T11:10:16.720Z"
      },
      {
        "duration": 65,
        "start_time": "2023-01-28T11:10:29.315Z"
      },
      {
        "duration": 76,
        "start_time": "2023-01-28T11:11:47.743Z"
      },
      {
        "duration": 213,
        "start_time": "2023-01-28T11:35:06.008Z"
      },
      {
        "duration": 152,
        "start_time": "2023-01-28T11:35:10.159Z"
      },
      {
        "duration": 153,
        "start_time": "2023-01-28T11:35:20.418Z"
      },
      {
        "duration": 150,
        "start_time": "2023-01-28T11:35:30.249Z"
      },
      {
        "duration": 143,
        "start_time": "2023-01-28T11:35:39.546Z"
      },
      {
        "duration": 148,
        "start_time": "2023-01-28T11:35:43.319Z"
      },
      {
        "duration": 5,
        "start_time": "2023-01-28T11:36:34.575Z"
      },
      {
        "duration": 203,
        "start_time": "2023-01-28T11:36:35.476Z"
      },
      {
        "duration": 1215,
        "start_time": "2023-01-28T11:36:42.713Z"
      },
      {
        "duration": 3,
        "start_time": "2023-01-28T11:36:43.930Z"
      },
      {
        "duration": 630,
        "start_time": "2023-01-28T11:36:43.934Z"
      },
      {
        "duration": 12,
        "start_time": "2023-01-28T11:36:44.566Z"
      },
      {
        "duration": 14,
        "start_time": "2023-01-28T11:36:44.580Z"
      },
      {
        "duration": 9,
        "start_time": "2023-01-28T11:36:44.595Z"
      },
      {
        "duration": 10,
        "start_time": "2023-01-28T11:36:44.606Z"
      },
      {
        "duration": 31,
        "start_time": "2023-01-28T11:36:44.617Z"
      },
      {
        "duration": 11,
        "start_time": "2023-01-28T11:36:44.650Z"
      },
      {
        "duration": 148,
        "start_time": "2023-01-28T11:36:44.663Z"
      },
      {
        "duration": 33,
        "start_time": "2023-01-28T11:36:44.813Z"
      },
      {
        "duration": 72,
        "start_time": "2023-01-28T11:36:44.847Z"
      },
      {
        "duration": 83,
        "start_time": "2023-01-28T11:36:44.921Z"
      },
      {
        "duration": 63,
        "start_time": "2023-01-28T11:36:45.007Z"
      },
      {
        "duration": 76,
        "start_time": "2023-01-28T11:36:45.072Z"
      },
      {
        "duration": 47,
        "start_time": "2023-01-28T11:36:45.150Z"
      },
      {
        "duration": 41,
        "start_time": "2023-01-28T11:36:45.199Z"
      },
      {
        "duration": 23,
        "start_time": "2023-01-28T11:36:45.242Z"
      },
      {
        "duration": 46,
        "start_time": "2023-01-28T11:36:45.268Z"
      },
      {
        "duration": 16,
        "start_time": "2023-01-28T11:36:45.315Z"
      },
      {
        "duration": 110,
        "start_time": "2023-01-28T11:36:45.333Z"
      },
      {
        "duration": 33,
        "start_time": "2023-01-28T11:36:45.444Z"
      },
      {
        "duration": 375,
        "start_time": "2023-01-28T11:36:45.493Z"
      },
      {
        "duration": 6,
        "start_time": "2023-01-28T11:36:45.870Z"
      },
      {
        "duration": 365,
        "start_time": "2023-01-28T11:36:45.878Z"
      },
      {
        "duration": 217,
        "start_time": "2023-01-28T11:36:46.244Z"
      },
      {
        "duration": 36,
        "start_time": "2023-01-28T11:36:46.463Z"
      },
      {
        "duration": 3800,
        "start_time": "2023-01-28T11:36:46.501Z"
      },
      {
        "duration": 168,
        "start_time": "2023-01-28T11:36:50.302Z"
      },
      {
        "duration": 21,
        "start_time": "2023-01-28T11:36:50.472Z"
      },
      {
        "duration": 128,
        "start_time": "2023-01-28T11:36:50.495Z"
      },
      {
        "duration": 121,
        "start_time": "2023-01-28T11:36:50.625Z"
      },
      {
        "duration": 5,
        "start_time": "2023-01-28T11:36:50.747Z"
      },
      {
        "duration": 487,
        "start_time": "2023-01-28T11:36:50.754Z"
      },
      {
        "duration": 185,
        "start_time": "2023-01-28T11:36:51.243Z"
      },
      {
        "duration": 113,
        "start_time": "2023-01-28T11:36:51.430Z"
      },
      {
        "duration": 109,
        "start_time": "2023-01-28T11:36:51.545Z"
      },
      {
        "duration": 16,
        "start_time": "2023-01-28T11:36:51.656Z"
      },
      {
        "duration": 75,
        "start_time": "2023-01-28T11:36:51.675Z"
      },
      {
        "duration": 171,
        "start_time": "2023-01-28T11:36:51.752Z"
      },
      {
        "duration": 173,
        "start_time": "2023-01-28T11:36:51.927Z"
      },
      {
        "duration": 11,
        "start_time": "2023-01-28T11:42:59.577Z"
      },
      {
        "duration": 15,
        "start_time": "2023-01-28T11:43:08.562Z"
      },
      {
        "duration": 15,
        "start_time": "2023-01-28T11:43:40.630Z"
      },
      {
        "duration": 1641,
        "start_time": "2023-01-30T08:14:03.505Z"
      },
      {
        "duration": 3,
        "start_time": "2023-01-30T08:14:05.148Z"
      },
      {
        "duration": 669,
        "start_time": "2023-01-30T08:14:05.153Z"
      },
      {
        "duration": 13,
        "start_time": "2023-01-30T08:14:05.824Z"
      },
      {
        "duration": 15,
        "start_time": "2023-01-30T08:14:05.839Z"
      },
      {
        "duration": 11,
        "start_time": "2023-01-30T08:14:05.855Z"
      },
      {
        "duration": 11,
        "start_time": "2023-01-30T08:14:05.868Z"
      },
      {
        "duration": 62,
        "start_time": "2023-01-30T08:14:05.881Z"
      },
      {
        "duration": 11,
        "start_time": "2023-01-30T08:14:05.945Z"
      },
      {
        "duration": 138,
        "start_time": "2023-01-30T08:14:05.959Z"
      },
      {
        "duration": 44,
        "start_time": "2023-01-30T08:14:06.099Z"
      },
      {
        "duration": 44,
        "start_time": "2023-01-30T08:14:06.145Z"
      },
      {
        "duration": 95,
        "start_time": "2023-01-30T08:14:06.191Z"
      },
      {
        "duration": 88,
        "start_time": "2023-01-30T08:14:06.288Z"
      },
      {
        "duration": 79,
        "start_time": "2023-01-30T08:14:06.377Z"
      },
      {
        "duration": 20,
        "start_time": "2023-01-30T08:14:06.458Z"
      },
      {
        "duration": 41,
        "start_time": "2023-01-30T08:14:06.481Z"
      },
      {
        "duration": 19,
        "start_time": "2023-01-30T08:14:06.524Z"
      },
      {
        "duration": 19,
        "start_time": "2023-01-30T08:14:06.545Z"
      },
      {
        "duration": 20,
        "start_time": "2023-01-30T08:14:06.566Z"
      },
      {
        "duration": 136,
        "start_time": "2023-01-30T08:14:06.588Z"
      },
      {
        "duration": 36,
        "start_time": "2023-01-30T08:14:06.726Z"
      },
      {
        "duration": 393,
        "start_time": "2023-01-30T08:14:06.765Z"
      },
      {
        "duration": 6,
        "start_time": "2023-01-30T08:14:07.160Z"
      },
      {
        "duration": 249,
        "start_time": "2023-01-30T08:14:07.167Z"
      },
      {
        "duration": 229,
        "start_time": "2023-01-30T08:14:07.420Z"
      },
      {
        "duration": 20,
        "start_time": "2023-01-30T08:14:07.651Z"
      },
      {
        "duration": 3811,
        "start_time": "2023-01-30T08:14:07.674Z"
      },
      {
        "duration": 181,
        "start_time": "2023-01-30T08:14:11.486Z"
      },
      {
        "duration": 17,
        "start_time": "2023-01-30T08:14:11.668Z"
      },
      {
        "duration": 140,
        "start_time": "2023-01-30T08:14:11.686Z"
      },
      {
        "duration": 113,
        "start_time": "2023-01-30T08:14:11.828Z"
      },
      {
        "duration": 4,
        "start_time": "2023-01-30T08:14:11.943Z"
      },
      {
        "duration": 515,
        "start_time": "2023-01-30T08:14:11.949Z"
      },
      {
        "duration": 176,
        "start_time": "2023-01-30T08:14:12.465Z"
      },
      {
        "duration": 119,
        "start_time": "2023-01-30T08:14:12.643Z"
      },
      {
        "duration": 107,
        "start_time": "2023-01-30T08:14:12.764Z"
      },
      {
        "duration": 18,
        "start_time": "2023-01-30T08:14:12.873Z"
      },
      {
        "duration": 73,
        "start_time": "2023-01-30T08:14:12.893Z"
      },
      {
        "duration": 155,
        "start_time": "2023-01-30T08:14:12.968Z"
      },
      {
        "duration": 161,
        "start_time": "2023-01-30T08:14:13.125Z"
      },
      {
        "duration": 18,
        "start_time": "2023-01-30T08:14:13.288Z"
      },
      {
        "duration": 15,
        "start_time": "2023-01-30T08:48:50.637Z"
      },
      {
        "duration": 176,
        "start_time": "2023-01-30T08:50:23.189Z"
      },
      {
        "duration": 14,
        "start_time": "2023-01-30T08:50:27.573Z"
      },
      {
        "duration": 1367,
        "start_time": "2023-01-30T08:50:28.817Z"
      },
      {
        "duration": 14,
        "start_time": "2023-01-30T08:51:23.952Z"
      },
      {
        "duration": 1257,
        "start_time": "2023-01-30T08:51:26.133Z"
      },
      {
        "duration": 15,
        "start_time": "2023-01-30T08:51:57.493Z"
      },
      {
        "duration": 14,
        "start_time": "2023-01-30T08:52:02.684Z"
      },
      {
        "duration": 1388,
        "start_time": "2023-01-30T09:06:04.751Z"
      },
      {
        "duration": 3,
        "start_time": "2023-01-30T09:06:06.141Z"
      },
      {
        "duration": 502,
        "start_time": "2023-01-30T09:06:06.145Z"
      },
      {
        "duration": 14,
        "start_time": "2023-01-30T09:06:06.649Z"
      },
      {
        "duration": 16,
        "start_time": "2023-01-30T09:06:06.665Z"
      },
      {
        "duration": 11,
        "start_time": "2023-01-30T09:06:06.683Z"
      },
      {
        "duration": 12,
        "start_time": "2023-01-30T09:06:06.696Z"
      },
      {
        "duration": 47,
        "start_time": "2023-01-30T09:06:06.709Z"
      },
      {
        "duration": 14,
        "start_time": "2023-01-30T09:06:06.758Z"
      },
      {
        "duration": 163,
        "start_time": "2023-01-30T09:06:06.775Z"
      },
      {
        "duration": 32,
        "start_time": "2023-01-30T09:06:06.940Z"
      },
      {
        "duration": 77,
        "start_time": "2023-01-30T09:06:06.974Z"
      },
      {
        "duration": 84,
        "start_time": "2023-01-30T09:06:07.052Z"
      },
      {
        "duration": 70,
        "start_time": "2023-01-30T09:06:07.138Z"
      },
      {
        "duration": 79,
        "start_time": "2023-01-30T09:06:07.210Z"
      },
      {
        "duration": 38,
        "start_time": "2023-01-30T09:06:07.291Z"
      },
      {
        "duration": 21,
        "start_time": "2023-01-30T09:06:07.331Z"
      },
      {
        "duration": 18,
        "start_time": "2023-01-30T09:06:07.354Z"
      },
      {
        "duration": 18,
        "start_time": "2023-01-30T09:06:07.374Z"
      },
      {
        "duration": 44,
        "start_time": "2023-01-30T09:06:07.394Z"
      },
      {
        "duration": 114,
        "start_time": "2023-01-30T09:06:07.440Z"
      },
      {
        "duration": 39,
        "start_time": "2023-01-30T09:06:07.556Z"
      },
      {
        "duration": 436,
        "start_time": "2023-01-30T09:06:07.598Z"
      },
      {
        "duration": 6,
        "start_time": "2023-01-30T09:06:08.036Z"
      },
      {
        "duration": 247,
        "start_time": "2023-01-30T09:06:08.044Z"
      },
      {
        "duration": 236,
        "start_time": "2023-01-30T09:06:08.292Z"
      },
      {
        "duration": 22,
        "start_time": "2023-01-30T09:06:08.530Z"
      },
      {
        "duration": 4063,
        "start_time": "2023-01-30T09:06:08.557Z"
      },
      {
        "duration": 182,
        "start_time": "2023-01-30T09:06:12.622Z"
      },
      {
        "duration": 23,
        "start_time": "2023-01-30T09:06:12.806Z"
      },
      {
        "duration": 146,
        "start_time": "2023-01-30T09:06:12.831Z"
      },
      {
        "duration": 119,
        "start_time": "2023-01-30T09:06:12.979Z"
      },
      {
        "duration": 4,
        "start_time": "2023-01-30T09:06:13.100Z"
      },
      {
        "duration": 543,
        "start_time": "2023-01-30T09:06:13.106Z"
      },
      {
        "duration": 201,
        "start_time": "2023-01-30T09:06:13.650Z"
      },
      {
        "duration": 135,
        "start_time": "2023-01-30T09:06:13.853Z"
      },
      {
        "duration": 142,
        "start_time": "2023-01-30T09:06:13.990Z"
      },
      {
        "duration": 19,
        "start_time": "2023-01-30T09:06:14.135Z"
      },
      {
        "duration": 103,
        "start_time": "2023-01-30T09:06:14.156Z"
      },
      {
        "duration": 191,
        "start_time": "2023-01-30T09:06:14.261Z"
      },
      {
        "duration": 211,
        "start_time": "2023-01-30T09:06:14.454Z"
      },
      {
        "duration": 26,
        "start_time": "2023-01-30T09:06:14.668Z"
      },
      {
        "duration": 36,
        "start_time": "2023-01-30T09:06:14.696Z"
      },
      {
        "duration": 171,
        "start_time": "2023-01-30T09:15:57.584Z"
      },
      {
        "duration": 17,
        "start_time": "2023-01-30T09:16:12.373Z"
      },
      {
        "duration": 12,
        "start_time": "2023-01-30T10:28:05.843Z"
      },
      {
        "duration": 6,
        "start_time": "2023-01-30T10:31:44.209Z"
      },
      {
        "duration": 6,
        "start_time": "2023-01-30T10:31:48.758Z"
      },
      {
        "duration": 6,
        "start_time": "2023-01-30T10:31:54.233Z"
      },
      {
        "duration": 6,
        "start_time": "2023-01-30T10:33:12.078Z"
      },
      {
        "duration": 10,
        "start_time": "2023-01-30T10:49:07.272Z"
      },
      {
        "duration": 4,
        "start_time": "2023-01-30T10:49:35.199Z"
      },
      {
        "duration": 6,
        "start_time": "2023-01-30T10:53:17.961Z"
      },
      {
        "duration": 6,
        "start_time": "2023-01-30T10:53:39.109Z"
      },
      {
        "duration": 13,
        "start_time": "2023-01-30T10:57:49.707Z"
      },
      {
        "duration": 6,
        "start_time": "2023-01-30T10:57:50.659Z"
      },
      {
        "duration": 6,
        "start_time": "2023-01-30T10:57:52.043Z"
      },
      {
        "duration": 6,
        "start_time": "2023-01-30T10:59:25.090Z"
      },
      {
        "duration": 5,
        "start_time": "2023-01-30T10:59:31.662Z"
      },
      {
        "duration": 1297,
        "start_time": "2023-01-30T10:59:40.081Z"
      },
      {
        "duration": 3,
        "start_time": "2023-01-30T10:59:41.380Z"
      },
      {
        "duration": 596,
        "start_time": "2023-01-30T10:59:41.385Z"
      },
      {
        "duration": 13,
        "start_time": "2023-01-30T10:59:41.982Z"
      },
      {
        "duration": 23,
        "start_time": "2023-01-30T10:59:41.998Z"
      },
      {
        "duration": 10,
        "start_time": "2023-01-30T10:59:42.023Z"
      },
      {
        "duration": 14,
        "start_time": "2023-01-30T10:59:42.035Z"
      },
      {
        "duration": 42,
        "start_time": "2023-01-30T10:59:42.050Z"
      },
      {
        "duration": 28,
        "start_time": "2023-01-30T10:59:42.094Z"
      },
      {
        "duration": 136,
        "start_time": "2023-01-30T10:59:42.124Z"
      },
      {
        "duration": 31,
        "start_time": "2023-01-30T10:59:42.262Z"
      },
      {
        "duration": 49,
        "start_time": "2023-01-30T10:59:42.320Z"
      },
      {
        "duration": 80,
        "start_time": "2023-01-30T10:59:42.371Z"
      },
      {
        "duration": 76,
        "start_time": "2023-01-30T10:59:42.454Z"
      },
      {
        "duration": 72,
        "start_time": "2023-01-30T10:59:42.532Z"
      },
      {
        "duration": 30,
        "start_time": "2023-01-30T10:59:42.605Z"
      },
      {
        "duration": 24,
        "start_time": "2023-01-30T10:59:42.637Z"
      },
      {
        "duration": 18,
        "start_time": "2023-01-30T10:59:42.662Z"
      },
      {
        "duration": 45,
        "start_time": "2023-01-30T10:59:42.681Z"
      },
      {
        "duration": 16,
        "start_time": "2023-01-30T10:59:42.728Z"
      },
      {
        "duration": 113,
        "start_time": "2023-01-30T10:59:42.746Z"
      },
      {
        "duration": 34,
        "start_time": "2023-01-30T10:59:42.861Z"
      },
      {
        "duration": 413,
        "start_time": "2023-01-30T10:59:42.897Z"
      },
      {
        "duration": 9,
        "start_time": "2023-01-30T10:59:43.312Z"
      },
      {
        "duration": 270,
        "start_time": "2023-01-30T10:59:43.324Z"
      },
      {
        "duration": 264,
        "start_time": "2023-01-30T10:59:43.597Z"
      },
      {
        "duration": 20,
        "start_time": "2023-01-30T10:59:43.863Z"
      },
      {
        "duration": 4080,
        "start_time": "2023-01-30T10:59:43.885Z"
      },
      {
        "duration": 186,
        "start_time": "2023-01-30T10:59:47.968Z"
      },
      {
        "duration": 16,
        "start_time": "2023-01-30T10:59:48.155Z"
      },
      {
        "duration": 138,
        "start_time": "2023-01-30T10:59:48.173Z"
      },
      {
        "duration": 122,
        "start_time": "2023-01-30T10:59:48.313Z"
      },
      {
        "duration": 5,
        "start_time": "2023-01-30T10:59:48.437Z"
      },
      {
        "duration": 544,
        "start_time": "2023-01-30T10:59:48.444Z"
      },
      {
        "duration": 169,
        "start_time": "2023-01-30T10:59:48.989Z"
      },
      {
        "duration": 115,
        "start_time": "2023-01-30T10:59:49.160Z"
      },
      {
        "duration": 117,
        "start_time": "2023-01-30T10:59:49.278Z"
      },
      {
        "duration": 15,
        "start_time": "2023-01-30T10:59:49.397Z"
      },
      {
        "duration": 62,
        "start_time": "2023-01-30T10:59:49.421Z"
      },
      {
        "duration": 82,
        "start_time": "2023-01-30T10:59:49.485Z"
      },
      {
        "duration": 168,
        "start_time": "2023-01-30T10:59:49.571Z"
      },
      {
        "duration": 16,
        "start_time": "2023-01-30T10:59:49.741Z"
      },
      {
        "duration": 11,
        "start_time": "2023-01-30T10:59:49.758Z"
      },
      {
        "duration": 15,
        "start_time": "2023-01-30T10:59:49.771Z"
      },
      {
        "duration": 35,
        "start_time": "2023-01-30T10:59:49.788Z"
      },
      {
        "duration": 5,
        "start_time": "2023-01-30T10:59:49.825Z"
      },
      {
        "duration": 9,
        "start_time": "2023-01-30T10:59:49.832Z"
      },
      {
        "duration": 111,
        "start_time": "2023-01-30T10:59:49.842Z"
      },
      {
        "duration": 5,
        "start_time": "2023-01-30T10:59:49.955Z"
      },
      {
        "duration": 9,
        "start_time": "2023-01-30T10:59:49.962Z"
      },
      {
        "duration": 34,
        "start_time": "2023-01-30T11:07:15.501Z"
      },
      {
        "duration": 6,
        "start_time": "2023-01-30T11:08:35.106Z"
      },
      {
        "duration": 6,
        "start_time": "2023-01-30T11:18:46.874Z"
      },
      {
        "duration": 8,
        "start_time": "2023-01-30T11:20:08.843Z"
      },
      {
        "duration": 4,
        "start_time": "2023-01-30T11:20:13.367Z"
      },
      {
        "duration": 8,
        "start_time": "2023-01-30T11:20:14.239Z"
      },
      {
        "duration": 4,
        "start_time": "2023-01-30T11:20:45.386Z"
      },
      {
        "duration": 3,
        "start_time": "2023-01-30T11:21:16.170Z"
      },
      {
        "duration": 4,
        "start_time": "2023-01-30T11:23:38.238Z"
      },
      {
        "duration": 5,
        "start_time": "2023-01-30T11:23:46.014Z"
      },
      {
        "duration": 4,
        "start_time": "2023-01-30T11:23:58.611Z"
      },
      {
        "duration": 4,
        "start_time": "2023-01-30T11:24:06.298Z"
      },
      {
        "duration": 1320,
        "start_time": "2023-01-30T11:24:36.602Z"
      },
      {
        "duration": 2,
        "start_time": "2023-01-30T11:24:37.925Z"
      },
      {
        "duration": 595,
        "start_time": "2023-01-30T11:24:37.929Z"
      },
      {
        "duration": 13,
        "start_time": "2023-01-30T11:24:38.525Z"
      },
      {
        "duration": 15,
        "start_time": "2023-01-30T11:24:38.542Z"
      },
      {
        "duration": 12,
        "start_time": "2023-01-30T11:24:38.558Z"
      },
      {
        "duration": 16,
        "start_time": "2023-01-30T11:24:38.572Z"
      },
      {
        "duration": 60,
        "start_time": "2023-01-30T11:24:38.590Z"
      },
      {
        "duration": 12,
        "start_time": "2023-01-30T11:24:38.652Z"
      },
      {
        "duration": 143,
        "start_time": "2023-01-30T11:24:38.666Z"
      },
      {
        "duration": 40,
        "start_time": "2023-01-30T11:24:38.811Z"
      },
      {
        "duration": 68,
        "start_time": "2023-01-30T11:24:38.853Z"
      },
      {
        "duration": 70,
        "start_time": "2023-01-30T11:24:38.924Z"
      },
      {
        "duration": 89,
        "start_time": "2023-01-30T11:24:38.997Z"
      },
      {
        "duration": 70,
        "start_time": "2023-01-30T11:24:39.087Z"
      },
      {
        "duration": 21,
        "start_time": "2023-01-30T11:24:39.159Z"
      },
      {
        "duration": 41,
        "start_time": "2023-01-30T11:24:39.181Z"
      },
      {
        "duration": 21,
        "start_time": "2023-01-30T11:24:39.224Z"
      },
      {
        "duration": 27,
        "start_time": "2023-01-30T11:24:39.246Z"
      },
      {
        "duration": 18,
        "start_time": "2023-01-30T11:24:39.276Z"
      },
      {
        "duration": 131,
        "start_time": "2023-01-30T11:24:39.295Z"
      },
      {
        "duration": 36,
        "start_time": "2023-01-30T11:24:39.428Z"
      },
      {
        "duration": 399,
        "start_time": "2023-01-30T11:24:39.466Z"
      },
      {
        "duration": 6,
        "start_time": "2023-01-30T11:24:39.867Z"
      },
      {
        "duration": 254,
        "start_time": "2023-01-30T11:24:39.874Z"
      },
      {
        "duration": 240,
        "start_time": "2023-01-30T11:24:40.129Z"
      },
      {
        "duration": 22,
        "start_time": "2023-01-30T11:24:40.372Z"
      },
      {
        "duration": 3831,
        "start_time": "2023-01-30T11:24:40.396Z"
      },
      {
        "duration": 180,
        "start_time": "2023-01-30T11:24:44.229Z"
      },
      {
        "duration": 18,
        "start_time": "2023-01-30T11:24:44.410Z"
      },
      {
        "duration": 179,
        "start_time": "2023-01-30T11:24:44.430Z"
      },
      {
        "duration": 144,
        "start_time": "2023-01-30T11:24:44.612Z"
      },
      {
        "duration": 8,
        "start_time": "2023-01-30T11:24:44.758Z"
      },
      {
        "duration": 578,
        "start_time": "2023-01-30T11:24:44.769Z"
      },
      {
        "duration": 225,
        "start_time": "2023-01-30T11:24:45.351Z"
      },
      {
        "duration": 165,
        "start_time": "2023-01-30T11:24:45.578Z"
      },
      {
        "duration": 108,
        "start_time": "2023-01-30T11:24:45.745Z"
      },
      {
        "duration": 21,
        "start_time": "2023-01-30T11:24:45.855Z"
      },
      {
        "duration": 90,
        "start_time": "2023-01-30T11:24:45.879Z"
      },
      {
        "duration": 84,
        "start_time": "2023-01-30T11:24:45.972Z"
      },
      {
        "duration": 174,
        "start_time": "2023-01-30T11:24:46.061Z"
      },
      {
        "duration": 17,
        "start_time": "2023-01-30T11:24:46.236Z"
      },
      {
        "duration": 13,
        "start_time": "2023-01-30T11:24:46.255Z"
      },
      {
        "duration": 15,
        "start_time": "2023-01-30T11:24:46.270Z"
      },
      {
        "duration": 35,
        "start_time": "2023-01-30T11:24:46.287Z"
      },
      {
        "duration": 9,
        "start_time": "2023-01-30T11:24:46.324Z"
      },
      {
        "duration": 22,
        "start_time": "2023-01-30T11:24:46.335Z"
      },
      {
        "duration": 109,
        "start_time": "2023-01-30T11:24:46.359Z"
      },
      {
        "duration": 6,
        "start_time": "2023-01-30T11:24:46.469Z"
      },
      {
        "duration": 8,
        "start_time": "2023-01-30T11:24:46.476Z"
      },
      {
        "duration": 50,
        "start_time": "2023-01-30T11:24:46.486Z"
      },
      {
        "duration": 3,
        "start_time": "2023-01-30T11:24:46.539Z"
      },
      {
        "duration": 11,
        "start_time": "2023-01-30T11:24:46.544Z"
      },
      {
        "duration": 11,
        "start_time": "2023-01-30T11:24:46.557Z"
      },
      {
        "duration": 5,
        "start_time": "2023-01-30T11:24:46.570Z"
      },
      {
        "duration": 9,
        "start_time": "2023-01-30T11:24:46.577Z"
      },
      {
        "duration": 11,
        "start_time": "2023-01-30T11:34:23.232Z"
      },
      {
        "duration": 1409,
        "start_time": "2023-01-30T11:34:41.589Z"
      },
      {
        "duration": 3,
        "start_time": "2023-01-30T11:34:43.000Z"
      },
      {
        "duration": 549,
        "start_time": "2023-01-30T11:34:43.005Z"
      },
      {
        "duration": 15,
        "start_time": "2023-01-30T11:34:43.557Z"
      },
      {
        "duration": 21,
        "start_time": "2023-01-30T11:34:43.574Z"
      },
      {
        "duration": 15,
        "start_time": "2023-01-30T11:34:43.596Z"
      },
      {
        "duration": 21,
        "start_time": "2023-01-30T11:34:43.613Z"
      },
      {
        "duration": 58,
        "start_time": "2023-01-30T11:34:43.636Z"
      },
      {
        "duration": 30,
        "start_time": "2023-01-30T11:34:43.696Z"
      },
      {
        "duration": 139,
        "start_time": "2023-01-30T11:34:43.730Z"
      },
      {
        "duration": 55,
        "start_time": "2023-01-30T11:34:43.871Z"
      },
      {
        "duration": 42,
        "start_time": "2023-01-30T11:34:43.927Z"
      },
      {
        "duration": 94,
        "start_time": "2023-01-30T11:34:43.971Z"
      },
      {
        "duration": 87,
        "start_time": "2023-01-30T11:34:44.067Z"
      },
      {
        "duration": 79,
        "start_time": "2023-01-30T11:34:44.156Z"
      },
      {
        "duration": 21,
        "start_time": "2023-01-30T11:34:44.236Z"
      },
      {
        "duration": 38,
        "start_time": "2023-01-30T11:34:44.258Z"
      },
      {
        "duration": 40,
        "start_time": "2023-01-30T11:34:44.297Z"
      },
      {
        "duration": 15,
        "start_time": "2023-01-30T11:34:44.339Z"
      },
      {
        "duration": 17,
        "start_time": "2023-01-30T11:34:44.356Z"
      },
      {
        "duration": 128,
        "start_time": "2023-01-30T11:34:44.375Z"
      },
      {
        "duration": 61,
        "start_time": "2023-01-30T11:34:44.505Z"
      },
      {
        "duration": 467,
        "start_time": "2023-01-30T11:34:44.568Z"
      },
      {
        "duration": 7,
        "start_time": "2023-01-30T11:34:45.036Z"
      },
      {
        "duration": 274,
        "start_time": "2023-01-30T11:34:45.045Z"
      },
      {
        "duration": 236,
        "start_time": "2023-01-30T11:34:45.321Z"
      },
      {
        "duration": 21,
        "start_time": "2023-01-30T11:34:45.559Z"
      },
      {
        "duration": 3998,
        "start_time": "2023-01-30T11:34:45.584Z"
      },
      {
        "duration": 189,
        "start_time": "2023-01-30T11:34:49.584Z"
      },
      {
        "duration": 18,
        "start_time": "2023-01-30T11:34:49.775Z"
      },
      {
        "duration": 158,
        "start_time": "2023-01-30T11:34:49.795Z"
      },
      {
        "duration": 129,
        "start_time": "2023-01-30T11:34:49.955Z"
      },
      {
        "duration": 5,
        "start_time": "2023-01-30T11:34:50.086Z"
      },
      {
        "duration": 586,
        "start_time": "2023-01-30T11:34:50.092Z"
      },
      {
        "duration": 187,
        "start_time": "2023-01-30T11:34:50.679Z"
      },
      {
        "duration": 123,
        "start_time": "2023-01-30T11:34:50.867Z"
      },
      {
        "duration": 101,
        "start_time": "2023-01-30T11:34:50.992Z"
      },
      {
        "duration": 35,
        "start_time": "2023-01-30T11:34:51.096Z"
      },
      {
        "duration": 62,
        "start_time": "2023-01-30T11:34:51.133Z"
      },
      {
        "duration": 87,
        "start_time": "2023-01-30T11:34:51.197Z"
      },
      {
        "duration": 194,
        "start_time": "2023-01-30T11:34:51.285Z"
      },
      {
        "duration": 17,
        "start_time": "2023-01-30T11:34:51.481Z"
      },
      {
        "duration": 27,
        "start_time": "2023-01-30T11:34:51.500Z"
      },
      {
        "duration": 18,
        "start_time": "2023-01-30T11:34:51.529Z"
      },
      {
        "duration": 11,
        "start_time": "2023-01-30T11:34:51.549Z"
      },
      {
        "duration": 6,
        "start_time": "2023-01-30T11:34:51.562Z"
      },
      {
        "duration": 14,
        "start_time": "2023-01-30T11:34:51.569Z"
      },
      {
        "duration": 136,
        "start_time": "2023-01-30T11:34:51.585Z"
      },
      {
        "duration": 5,
        "start_time": "2023-01-30T11:34:51.723Z"
      },
      {
        "duration": 7,
        "start_time": "2023-01-30T11:34:51.730Z"
      },
      {
        "duration": 33,
        "start_time": "2023-01-30T11:34:51.739Z"
      },
      {
        "duration": 4,
        "start_time": "2023-01-30T11:34:51.774Z"
      },
      {
        "duration": 8,
        "start_time": "2023-01-30T11:34:51.779Z"
      },
      {
        "duration": 38,
        "start_time": "2023-01-30T11:34:51.790Z"
      },
      {
        "duration": 5,
        "start_time": "2023-01-30T11:34:51.830Z"
      },
      {
        "duration": 9,
        "start_time": "2023-01-30T11:35:16.441Z"
      },
      {
        "duration": 9,
        "start_time": "2023-01-30T11:35:28.883Z"
      },
      {
        "duration": 4,
        "start_time": "2023-01-30T11:39:34.006Z"
      },
      {
        "duration": 5,
        "start_time": "2023-01-30T11:40:24.674Z"
      },
      {
        "duration": 3,
        "start_time": "2023-01-30T11:40:31.582Z"
      },
      {
        "duration": 4,
        "start_time": "2023-01-30T11:40:48.965Z"
      },
      {
        "duration": 4,
        "start_time": "2023-01-30T11:40:52.247Z"
      },
      {
        "duration": 1379,
        "start_time": "2023-01-30T14:15:31.176Z"
      },
      {
        "duration": 3,
        "start_time": "2023-01-30T14:15:32.557Z"
      },
      {
        "duration": 712,
        "start_time": "2023-01-30T14:15:32.562Z"
      },
      {
        "duration": 14,
        "start_time": "2023-01-30T14:15:33.277Z"
      },
      {
        "duration": 44,
        "start_time": "2023-01-30T14:15:33.292Z"
      },
      {
        "duration": 24,
        "start_time": "2023-01-30T14:15:33.339Z"
      },
      {
        "duration": 24,
        "start_time": "2023-01-30T14:15:33.365Z"
      },
      {
        "duration": 63,
        "start_time": "2023-01-30T14:15:33.391Z"
      },
      {
        "duration": 31,
        "start_time": "2023-01-30T14:15:33.455Z"
      },
      {
        "duration": 137,
        "start_time": "2023-01-30T14:15:33.489Z"
      },
      {
        "duration": 37,
        "start_time": "2023-01-30T14:15:33.628Z"
      },
      {
        "duration": 70,
        "start_time": "2023-01-30T14:15:33.666Z"
      },
      {
        "duration": 84,
        "start_time": "2023-01-30T14:15:33.738Z"
      },
      {
        "duration": 71,
        "start_time": "2023-01-30T14:15:33.824Z"
      },
      {
        "duration": 82,
        "start_time": "2023-01-30T14:15:33.897Z"
      },
      {
        "duration": 20,
        "start_time": "2023-01-30T14:15:33.981Z"
      },
      {
        "duration": 44,
        "start_time": "2023-01-30T14:15:34.003Z"
      },
      {
        "duration": 21,
        "start_time": "2023-01-30T14:15:34.049Z"
      },
      {
        "duration": 17,
        "start_time": "2023-01-30T14:15:34.072Z"
      },
      {
        "duration": 31,
        "start_time": "2023-01-30T14:15:34.091Z"
      },
      {
        "duration": 136,
        "start_time": "2023-01-30T14:15:34.125Z"
      },
      {
        "duration": 36,
        "start_time": "2023-01-30T14:15:34.263Z"
      },
      {
        "duration": 524,
        "start_time": "2023-01-30T14:15:34.300Z"
      },
      {
        "duration": 6,
        "start_time": "2023-01-30T14:15:34.826Z"
      },
      {
        "duration": 312,
        "start_time": "2023-01-30T14:15:34.834Z"
      },
      {
        "duration": 247,
        "start_time": "2023-01-30T14:15:35.148Z"
      },
      {
        "duration": 32,
        "start_time": "2023-01-30T14:15:35.397Z"
      },
      {
        "duration": 4151,
        "start_time": "2023-01-30T14:15:35.433Z"
      },
      {
        "duration": 211,
        "start_time": "2023-01-30T14:15:39.586Z"
      },
      {
        "duration": 23,
        "start_time": "2023-01-30T14:15:39.799Z"
      },
      {
        "duration": 155,
        "start_time": "2023-01-30T14:15:39.825Z"
      },
      {
        "duration": 120,
        "start_time": "2023-01-30T14:15:39.982Z"
      },
      {
        "duration": 5,
        "start_time": "2023-01-30T14:15:40.104Z"
      },
      {
        "duration": 542,
        "start_time": "2023-01-30T14:15:40.120Z"
      },
      {
        "duration": 212,
        "start_time": "2023-01-30T14:15:40.664Z"
      },
      {
        "duration": 126,
        "start_time": "2023-01-30T14:15:40.878Z"
      },
      {
        "duration": 94,
        "start_time": "2023-01-30T14:15:41.006Z"
      },
      {
        "duration": 31,
        "start_time": "2023-01-30T14:15:41.102Z"
      },
      {
        "duration": 66,
        "start_time": "2023-01-30T14:15:41.135Z"
      },
      {
        "duration": 177,
        "start_time": "2023-01-30T14:15:41.203Z"
      },
      {
        "duration": 187,
        "start_time": "2023-01-30T14:15:41.382Z"
      },
      {
        "duration": 19,
        "start_time": "2023-01-30T14:15:41.571Z"
      },
      {
        "duration": 38,
        "start_time": "2023-01-30T14:15:41.592Z"
      },
      {
        "duration": 17,
        "start_time": "2023-01-30T14:15:41.633Z"
      },
      {
        "duration": 11,
        "start_time": "2023-01-30T14:15:41.653Z"
      },
      {
        "duration": 6,
        "start_time": "2023-01-30T14:15:41.666Z"
      },
      {
        "duration": 8,
        "start_time": "2023-01-30T14:15:41.674Z"
      },
      {
        "duration": 49,
        "start_time": "2023-01-30T14:15:41.684Z"
      },
      {
        "duration": 6,
        "start_time": "2023-01-30T14:15:41.735Z"
      },
      {
        "duration": 6,
        "start_time": "2023-01-30T14:15:41.744Z"
      },
      {
        "duration": 37,
        "start_time": "2023-01-30T14:15:41.751Z"
      },
      {
        "duration": 31,
        "start_time": "2023-01-30T14:15:41.790Z"
      },
      {
        "duration": 10,
        "start_time": "2023-01-30T14:15:41.823Z"
      },
      {
        "duration": 9,
        "start_time": "2023-01-30T14:15:41.835Z"
      },
      {
        "duration": 6,
        "start_time": "2023-01-30T14:15:41.846Z"
      },
      {
        "duration": 1182,
        "start_time": "2023-01-31T07:16:18.618Z"
      },
      {
        "duration": 3,
        "start_time": "2023-01-31T07:16:19.802Z"
      },
      {
        "duration": 155,
        "start_time": "2023-01-31T07:16:19.806Z"
      },
      {
        "duration": 45,
        "start_time": "2023-01-31T10:24:15.056Z"
      },
      {
        "duration": 1365,
        "start_time": "2023-01-31T10:24:20.166Z"
      },
      {
        "duration": 3,
        "start_time": "2023-01-31T10:24:21.533Z"
      },
      {
        "duration": 168,
        "start_time": "2023-01-31T10:24:22.135Z"
      },
      {
        "duration": 3,
        "start_time": "2023-01-31T10:25:05.726Z"
      },
      {
        "duration": 2,
        "start_time": "2023-01-31T10:25:06.251Z"
      },
      {
        "duration": 595,
        "start_time": "2023-01-31T10:25:06.830Z"
      },
      {
        "duration": 12,
        "start_time": "2023-01-31T10:25:10.257Z"
      },
      {
        "duration": 10,
        "start_time": "2023-01-31T10:25:20.402Z"
      },
      {
        "duration": 1431,
        "start_time": "2023-01-31T10:42:25.815Z"
      },
      {
        "duration": 3,
        "start_time": "2023-01-31T10:42:27.251Z"
      },
      {
        "duration": 312,
        "start_time": "2023-01-31T10:42:27.256Z"
      },
      {
        "duration": 13,
        "start_time": "2023-01-31T10:42:27.571Z"
      },
      {
        "duration": 21,
        "start_time": "2023-01-31T10:42:27.586Z"
      },
      {
        "duration": 13,
        "start_time": "2023-01-31T10:42:27.609Z"
      },
      {
        "duration": 13,
        "start_time": "2023-01-31T10:42:27.624Z"
      },
      {
        "duration": 56,
        "start_time": "2023-01-31T10:42:27.639Z"
      },
      {
        "duration": 14,
        "start_time": "2023-01-31T10:42:27.697Z"
      },
      {
        "duration": 183,
        "start_time": "2023-01-31T10:42:27.714Z"
      },
      {
        "duration": 57,
        "start_time": "2023-01-31T10:42:27.899Z"
      },
      {
        "duration": 48,
        "start_time": "2023-01-31T10:42:27.959Z"
      },
      {
        "duration": 110,
        "start_time": "2023-01-31T10:42:28.009Z"
      },
      {
        "duration": 116,
        "start_time": "2023-01-31T10:42:28.121Z"
      },
      {
        "duration": 105,
        "start_time": "2023-01-31T10:42:28.240Z"
      },
      {
        "duration": 29,
        "start_time": "2023-01-31T10:42:28.347Z"
      },
      {
        "duration": 35,
        "start_time": "2023-01-31T10:42:28.378Z"
      },
      {
        "duration": 24,
        "start_time": "2023-01-31T10:42:28.415Z"
      },
      {
        "duration": 23,
        "start_time": "2023-01-31T10:42:28.441Z"
      },
      {
        "duration": 49,
        "start_time": "2023-01-31T10:42:28.465Z"
      },
      {
        "duration": 103,
        "start_time": "2023-01-31T10:42:28.516Z"
      },
      {
        "duration": 51,
        "start_time": "2023-01-31T10:42:28.620Z"
      },
      {
        "duration": 419,
        "start_time": "2023-01-31T10:42:28.674Z"
      },
      {
        "duration": 8,
        "start_time": "2023-01-31T10:42:29.095Z"
      },
      {
        "duration": 270,
        "start_time": "2023-01-31T10:42:29.104Z"
      },
      {
        "duration": 240,
        "start_time": "2023-01-31T10:42:29.375Z"
      },
      {
        "duration": 18,
        "start_time": "2023-01-31T10:42:29.617Z"
      },
      {
        "duration": 4709,
        "start_time": "2023-01-31T10:42:29.647Z"
      },
      {
        "duration": 229,
        "start_time": "2023-01-31T10:42:34.357Z"
      },
      {
        "duration": 19,
        "start_time": "2023-01-31T10:42:34.588Z"
      },
      {
        "duration": 142,
        "start_time": "2023-01-31T10:42:34.609Z"
      },
      {
        "duration": 129,
        "start_time": "2023-01-31T10:42:34.753Z"
      },
      {
        "duration": 5,
        "start_time": "2023-01-31T10:42:34.884Z"
      },
      {
        "duration": 608,
        "start_time": "2023-01-31T10:42:34.891Z"
      },
      {
        "duration": 200,
        "start_time": "2023-01-31T10:42:35.501Z"
      },
      {
        "duration": 151,
        "start_time": "2023-01-31T10:42:35.703Z"
      },
      {
        "duration": 116,
        "start_time": "2023-01-31T10:42:35.856Z"
      },
      {
        "duration": 16,
        "start_time": "2023-01-31T10:42:35.975Z"
      },
      {
        "duration": 68,
        "start_time": "2023-01-31T10:42:35.993Z"
      },
      {
        "duration": 132,
        "start_time": "2023-01-31T10:42:36.065Z"
      },
      {
        "duration": 170,
        "start_time": "2023-01-31T10:42:36.199Z"
      },
      {
        "duration": 19,
        "start_time": "2023-01-31T10:42:36.372Z"
      },
      {
        "duration": 17,
        "start_time": "2023-01-31T10:42:36.393Z"
      },
      {
        "duration": 44,
        "start_time": "2023-01-31T10:42:36.412Z"
      },
      {
        "duration": 12,
        "start_time": "2023-01-31T10:42:36.458Z"
      },
      {
        "duration": 8,
        "start_time": "2023-01-31T10:42:36.472Z"
      },
      {
        "duration": 7,
        "start_time": "2023-01-31T10:42:36.482Z"
      },
      {
        "duration": 17,
        "start_time": "2023-01-31T10:42:36.491Z"
      },
      {
        "duration": 5,
        "start_time": "2023-01-31T10:42:36.510Z"
      },
      {
        "duration": 11,
        "start_time": "2023-01-31T10:42:36.516Z"
      },
      {
        "duration": 43,
        "start_time": "2023-01-31T10:42:36.553Z"
      },
      {
        "duration": 3,
        "start_time": "2023-01-31T10:42:36.598Z"
      },
      {
        "duration": 7,
        "start_time": "2023-01-31T10:42:36.603Z"
      },
      {
        "duration": 9,
        "start_time": "2023-01-31T10:42:36.612Z"
      },
      {
        "duration": 4,
        "start_time": "2023-01-31T10:42:36.622Z"
      },
      {
        "duration": 173,
        "start_time": "2023-01-31T10:57:35.434Z"
      },
      {
        "duration": 15,
        "start_time": "2023-01-31T11:00:51.865Z"
      },
      {
        "duration": 14,
        "start_time": "2023-01-31T11:01:58.538Z"
      },
      {
        "duration": 63,
        "start_time": "2023-01-31T11:02:38.990Z"
      },
      {
        "duration": 66,
        "start_time": "2023-01-31T11:02:59.808Z"
      },
      {
        "duration": 65,
        "start_time": "2023-01-31T11:04:06.174Z"
      },
      {
        "duration": 61,
        "start_time": "2023-01-31T11:04:19.490Z"
      },
      {
        "duration": 63,
        "start_time": "2023-01-31T11:06:13.213Z"
      },
      {
        "duration": 67,
        "start_time": "2023-01-31T11:09:25.327Z"
      },
      {
        "duration": 62,
        "start_time": "2023-01-31T11:12:06.069Z"
      },
      {
        "duration": 61,
        "start_time": "2023-01-31T11:37:53.788Z"
      },
      {
        "duration": 64,
        "start_time": "2023-01-31T11:37:54.297Z"
      },
      {
        "duration": 18,
        "start_time": "2023-01-31T12:07:53.889Z"
      },
      {
        "duration": 15,
        "start_time": "2023-01-31T12:08:04.610Z"
      },
      {
        "duration": 7,
        "start_time": "2023-01-31T12:50:43.546Z"
      },
      {
        "duration": 10,
        "start_time": "2023-01-31T13:04:58.388Z"
      },
      {
        "duration": 5,
        "start_time": "2023-01-31T13:05:28.099Z"
      },
      {
        "duration": 4,
        "start_time": "2023-01-31T13:07:54.686Z"
      },
      {
        "duration": 4,
        "start_time": "2023-01-31T13:09:01.989Z"
      },
      {
        "duration": 4,
        "start_time": "2023-01-31T13:09:16.235Z"
      },
      {
        "duration": 5,
        "start_time": "2023-01-31T13:10:12.466Z"
      },
      {
        "duration": 70,
        "start_time": "2023-01-31T13:12:24.872Z"
      },
      {
        "duration": 5,
        "start_time": "2023-01-31T13:12:46.921Z"
      },
      {
        "duration": 7,
        "start_time": "2023-01-31T13:13:04.124Z"
      },
      {
        "duration": 6,
        "start_time": "2023-01-31T13:15:01.472Z"
      },
      {
        "duration": 5,
        "start_time": "2023-01-31T13:15:07.973Z"
      },
      {
        "duration": 6,
        "start_time": "2023-01-31T13:15:34.031Z"
      },
      {
        "duration": 7,
        "start_time": "2023-01-31T13:15:53.982Z"
      },
      {
        "duration": 41,
        "start_time": "2023-01-31T13:16:27.412Z"
      },
      {
        "duration": 4,
        "start_time": "2023-01-31T13:17:58.618Z"
      },
      {
        "duration": 4,
        "start_time": "2023-01-31T13:18:27.876Z"
      },
      {
        "duration": 4,
        "start_time": "2023-01-31T13:20:50.378Z"
      },
      {
        "duration": 4,
        "start_time": "2023-01-31T13:21:46.841Z"
      },
      {
        "duration": 80,
        "start_time": "2023-01-31T13:47:35.483Z"
      },
      {
        "duration": 3,
        "start_time": "2023-01-31T13:47:47.135Z"
      },
      {
        "duration": 14,
        "start_time": "2023-01-31T13:51:12.123Z"
      },
      {
        "duration": 17,
        "start_time": "2023-01-31T13:51:30.483Z"
      },
      {
        "duration": 1201,
        "start_time": "2023-01-31T13:51:44.031Z"
      },
      {
        "duration": 3,
        "start_time": "2023-01-31T13:51:45.234Z"
      },
      {
        "duration": 290,
        "start_time": "2023-01-31T13:51:45.239Z"
      },
      {
        "duration": 15,
        "start_time": "2023-01-31T13:51:45.532Z"
      },
      {
        "duration": 50,
        "start_time": "2023-01-31T13:51:45.549Z"
      },
      {
        "duration": 14,
        "start_time": "2023-01-31T13:51:45.601Z"
      },
      {
        "duration": 29,
        "start_time": "2023-01-31T13:51:45.617Z"
      },
      {
        "duration": 49,
        "start_time": "2023-01-31T13:51:45.647Z"
      },
      {
        "duration": 17,
        "start_time": "2023-01-31T13:51:45.699Z"
      },
      {
        "duration": 120,
        "start_time": "2023-01-31T13:51:45.719Z"
      },
      {
        "duration": 41,
        "start_time": "2023-01-31T13:51:45.848Z"
      },
      {
        "duration": 64,
        "start_time": "2023-01-31T13:51:45.891Z"
      },
      {
        "duration": 59,
        "start_time": "2023-01-31T13:51:45.957Z"
      },
      {
        "duration": 74,
        "start_time": "2023-01-31T13:51:46.018Z"
      },
      {
        "duration": 67,
        "start_time": "2023-01-31T13:51:46.093Z"
      },
      {
        "duration": 19,
        "start_time": "2023-01-31T13:51:46.162Z"
      },
      {
        "duration": 19,
        "start_time": "2023-01-31T13:51:46.182Z"
      },
      {
        "duration": 16,
        "start_time": "2023-01-31T13:51:46.203Z"
      },
      {
        "duration": 24,
        "start_time": "2023-01-31T13:51:46.248Z"
      },
      {
        "duration": 27,
        "start_time": "2023-01-31T13:51:46.274Z"
      },
      {
        "duration": 100,
        "start_time": "2023-01-31T13:51:46.302Z"
      },
      {
        "duration": 29,
        "start_time": "2023-01-31T13:51:46.403Z"
      },
      {
        "duration": 353,
        "start_time": "2023-01-31T13:51:46.434Z"
      },
      {
        "duration": 6,
        "start_time": "2023-01-31T13:51:46.788Z"
      },
      {
        "duration": 213,
        "start_time": "2023-01-31T13:51:46.795Z"
      },
      {
        "duration": 220,
        "start_time": "2023-01-31T13:51:47.010Z"
      },
      {
        "duration": 24,
        "start_time": "2023-01-31T13:51:47.231Z"
      },
      {
        "duration": 3412,
        "start_time": "2023-01-31T13:51:47.258Z"
      },
      {
        "duration": 154,
        "start_time": "2023-01-31T13:51:50.672Z"
      },
      {
        "duration": 21,
        "start_time": "2023-01-31T13:51:50.828Z"
      },
      {
        "duration": 126,
        "start_time": "2023-01-31T13:51:50.851Z"
      },
      {
        "duration": 107,
        "start_time": "2023-01-31T13:51:50.979Z"
      },
      {
        "duration": 5,
        "start_time": "2023-01-31T13:51:51.088Z"
      },
      {
        "duration": 482,
        "start_time": "2023-01-31T13:51:51.095Z"
      },
      {
        "duration": 195,
        "start_time": "2023-01-31T13:51:51.579Z"
      },
      {
        "duration": 106,
        "start_time": "2023-01-31T13:51:51.776Z"
      },
      {
        "duration": 92,
        "start_time": "2023-01-31T13:51:51.884Z"
      },
      {
        "duration": 71,
        "start_time": "2023-01-31T13:51:51.979Z"
      },
      {
        "duration": 65,
        "start_time": "2023-01-31T13:51:52.051Z"
      },
      {
        "duration": 14,
        "start_time": "2023-01-31T13:51:52.118Z"
      },
      {
        "duration": 125,
        "start_time": "2023-01-31T13:51:52.147Z"
      },
      {
        "duration": 75,
        "start_time": "2023-01-31T13:51:52.273Z"
      },
      {
        "duration": 151,
        "start_time": "2023-01-31T13:51:52.350Z"
      },
      {
        "duration": 17,
        "start_time": "2023-01-31T13:51:52.502Z"
      },
      {
        "duration": 21,
        "start_time": "2023-01-31T13:51:52.521Z"
      },
      {
        "duration": 18,
        "start_time": "2023-01-31T13:51:52.558Z"
      },
      {
        "duration": 14,
        "start_time": "2023-01-31T13:51:52.577Z"
      },
      {
        "duration": 12,
        "start_time": "2023-01-31T13:51:52.592Z"
      },
      {
        "duration": 18,
        "start_time": "2023-01-31T13:51:52.605Z"
      },
      {
        "duration": 23,
        "start_time": "2023-01-31T13:51:52.624Z"
      },
      {
        "duration": 12,
        "start_time": "2023-01-31T13:51:52.649Z"
      },
      {
        "duration": 20,
        "start_time": "2023-01-31T13:51:52.663Z"
      },
      {
        "duration": 49,
        "start_time": "2023-01-31T13:51:52.684Z"
      },
      {
        "duration": 45,
        "start_time": "2023-01-31T13:51:52.735Z"
      },
      {
        "duration": 17,
        "start_time": "2023-01-31T13:51:52.782Z"
      },
      {
        "duration": 34,
        "start_time": "2023-01-31T13:51:52.801Z"
      },
      {
        "duration": 174,
        "start_time": "2023-01-31T13:51:52.837Z"
      },
      {
        "duration": 1,
        "start_time": "2023-01-31T13:51:53.012Z"
      },
      {
        "duration": 0,
        "start_time": "2023-01-31T13:51:53.014Z"
      },
      {
        "duration": 0,
        "start_time": "2023-01-31T13:51:53.015Z"
      },
      {
        "duration": 0,
        "start_time": "2023-01-31T13:51:53.016Z"
      },
      {
        "duration": 73,
        "start_time": "2023-01-31T13:52:14.891Z"
      },
      {
        "duration": 20,
        "start_time": "2023-01-31T13:52:25.920Z"
      },
      {
        "duration": 17,
        "start_time": "2023-01-31T13:52:43.767Z"
      },
      {
        "duration": 18,
        "start_time": "2023-01-31T13:52:57.601Z"
      },
      {
        "duration": 4,
        "start_time": "2023-01-31T13:53:36.605Z"
      },
      {
        "duration": 7,
        "start_time": "2023-01-31T13:53:38.232Z"
      },
      {
        "duration": 3,
        "start_time": "2023-01-31T13:54:08.330Z"
      },
      {
        "duration": 14,
        "start_time": "2023-01-31T13:54:08.335Z"
      },
      {
        "duration": 6,
        "start_time": "2023-01-31T13:56:28.332Z"
      },
      {
        "duration": 4,
        "start_time": "2023-01-31T14:01:47.448Z"
      },
      {
        "duration": 14,
        "start_time": "2023-01-31T14:01:48.524Z"
      },
      {
        "duration": 17,
        "start_time": "2023-01-31T14:01:50.332Z"
      },
      {
        "duration": 4,
        "start_time": "2023-01-31T14:03:45.453Z"
      },
      {
        "duration": 9,
        "start_time": "2023-01-31T14:07:40.427Z"
      },
      {
        "duration": 9,
        "start_time": "2023-01-31T14:08:46.296Z"
      },
      {
        "duration": 88,
        "start_time": "2023-01-31T14:09:20.668Z"
      },
      {
        "duration": 10,
        "start_time": "2023-01-31T14:09:30.836Z"
      },
      {
        "duration": 9,
        "start_time": "2023-01-31T14:09:50.294Z"
      },
      {
        "duration": 13,
        "start_time": "2023-01-31T14:10:49.980Z"
      },
      {
        "duration": 4,
        "start_time": "2023-01-31T14:11:23.907Z"
      },
      {
        "duration": 10,
        "start_time": "2023-01-31T14:11:27.380Z"
      },
      {
        "duration": 10,
        "start_time": "2023-01-31T14:11:37.671Z"
      },
      {
        "duration": 8,
        "start_time": "2023-01-31T14:11:41.827Z"
      },
      {
        "duration": 7,
        "start_time": "2023-01-31T14:12:16.047Z"
      },
      {
        "duration": 5,
        "start_time": "2023-01-31T14:12:53.508Z"
      },
      {
        "duration": 10,
        "start_time": "2023-01-31T14:13:23.990Z"
      },
      {
        "duration": 1255,
        "start_time": "2023-01-31T16:00:13.167Z"
      },
      {
        "duration": 3,
        "start_time": "2023-01-31T16:00:14.423Z"
      },
      {
        "duration": 252,
        "start_time": "2023-01-31T16:00:14.428Z"
      },
      {
        "duration": 11,
        "start_time": "2023-01-31T16:00:14.682Z"
      },
      {
        "duration": 16,
        "start_time": "2023-01-31T16:00:14.695Z"
      },
      {
        "duration": 9,
        "start_time": "2023-01-31T16:00:14.712Z"
      },
      {
        "duration": 11,
        "start_time": "2023-01-31T16:00:14.722Z"
      },
      {
        "duration": 45,
        "start_time": "2023-01-31T16:00:14.734Z"
      },
      {
        "duration": 10,
        "start_time": "2023-01-31T16:00:14.781Z"
      },
      {
        "duration": 140,
        "start_time": "2023-01-31T16:00:14.793Z"
      },
      {
        "duration": 46,
        "start_time": "2023-01-31T16:00:14.934Z"
      },
      {
        "duration": 38,
        "start_time": "2023-01-31T16:00:14.982Z"
      },
      {
        "duration": 93,
        "start_time": "2023-01-31T16:00:15.022Z"
      },
      {
        "duration": 63,
        "start_time": "2023-01-31T16:00:15.118Z"
      },
      {
        "duration": 88,
        "start_time": "2023-01-31T16:00:15.183Z"
      },
      {
        "duration": 17,
        "start_time": "2023-01-31T16:00:15.273Z"
      },
      {
        "duration": 17,
        "start_time": "2023-01-31T16:00:15.291Z"
      },
      {
        "duration": 26,
        "start_time": "2023-01-31T16:00:15.310Z"
      },
      {
        "duration": 14,
        "start_time": "2023-01-31T16:00:15.348Z"
      },
      {
        "duration": 14,
        "start_time": "2023-01-31T16:00:15.364Z"
      },
      {
        "duration": 101,
        "start_time": "2023-01-31T16:00:15.380Z"
      },
      {
        "duration": 31,
        "start_time": "2023-01-31T16:00:15.482Z"
      },
      {
        "duration": 441,
        "start_time": "2023-01-31T16:00:15.515Z"
      },
      {
        "duration": 5,
        "start_time": "2023-01-31T16:00:15.958Z"
      },
      {
        "duration": 226,
        "start_time": "2023-01-31T16:00:15.965Z"
      },
      {
        "duration": 215,
        "start_time": "2023-01-31T16:00:16.193Z"
      },
      {
        "duration": 19,
        "start_time": "2023-01-31T16:00:16.409Z"
      },
      {
        "duration": 3529,
        "start_time": "2023-01-31T16:00:16.430Z"
      },
      {
        "duration": 165,
        "start_time": "2023-01-31T16:00:19.961Z"
      },
      {
        "duration": 21,
        "start_time": "2023-01-31T16:00:20.128Z"
      },
      {
        "duration": 121,
        "start_time": "2023-01-31T16:00:20.150Z"
      },
      {
        "duration": 101,
        "start_time": "2023-01-31T16:00:20.272Z"
      },
      {
        "duration": 5,
        "start_time": "2023-01-31T16:00:20.375Z"
      },
      {
        "duration": 494,
        "start_time": "2023-01-31T16:00:20.381Z"
      },
      {
        "duration": 188,
        "start_time": "2023-01-31T16:00:20.877Z"
      },
      {
        "duration": 103,
        "start_time": "2023-01-31T16:00:21.066Z"
      },
      {
        "duration": 91,
        "start_time": "2023-01-31T16:00:21.171Z"
      },
      {
        "duration": 58,
        "start_time": "2023-01-31T16:00:21.264Z"
      },
      {
        "duration": 82,
        "start_time": "2023-01-31T16:00:21.324Z"
      },
      {
        "duration": 14,
        "start_time": "2023-01-31T16:00:21.407Z"
      },
      {
        "duration": 62,
        "start_time": "2023-01-31T16:00:21.424Z"
      },
      {
        "duration": 72,
        "start_time": "2023-01-31T16:00:21.487Z"
      },
      {
        "duration": 219,
        "start_time": "2023-01-31T16:00:21.561Z"
      },
      {
        "duration": 15,
        "start_time": "2023-01-31T16:00:21.782Z"
      },
      {
        "duration": 11,
        "start_time": "2023-01-31T16:00:21.798Z"
      },
      {
        "duration": 15,
        "start_time": "2023-01-31T16:00:21.810Z"
      },
      {
        "duration": 8,
        "start_time": "2023-01-31T16:00:21.849Z"
      },
      {
        "duration": 5,
        "start_time": "2023-01-31T16:00:21.858Z"
      },
      {
        "duration": 6,
        "start_time": "2023-01-31T16:00:21.864Z"
      },
      {
        "duration": 14,
        "start_time": "2023-01-31T16:00:21.872Z"
      },
      {
        "duration": 5,
        "start_time": "2023-01-31T16:00:21.888Z"
      },
      {
        "duration": 7,
        "start_time": "2023-01-31T16:00:21.894Z"
      },
      {
        "duration": 68,
        "start_time": "2023-01-31T16:00:21.902Z"
      },
      {
        "duration": 8,
        "start_time": "2023-01-31T16:00:21.971Z"
      },
      {
        "duration": 6,
        "start_time": "2023-01-31T16:00:21.981Z"
      },
      {
        "duration": 14,
        "start_time": "2023-01-31T16:00:21.989Z"
      },
      {
        "duration": 1212,
        "start_time": "2023-01-31T16:03:05.407Z"
      },
      {
        "duration": 3,
        "start_time": "2023-01-31T16:03:06.621Z"
      },
      {
        "duration": 245,
        "start_time": "2023-01-31T16:03:06.626Z"
      },
      {
        "duration": 11,
        "start_time": "2023-01-31T16:03:06.873Z"
      },
      {
        "duration": 16,
        "start_time": "2023-01-31T16:03:06.886Z"
      },
      {
        "duration": 9,
        "start_time": "2023-01-31T16:03:06.904Z"
      },
      {
        "duration": 12,
        "start_time": "2023-01-31T16:03:06.914Z"
      },
      {
        "duration": 44,
        "start_time": "2023-01-31T16:03:06.927Z"
      },
      {
        "duration": 11,
        "start_time": "2023-01-31T16:03:06.972Z"
      },
      {
        "duration": 127,
        "start_time": "2023-01-31T16:03:06.985Z"
      },
      {
        "duration": 44,
        "start_time": "2023-01-31T16:03:07.113Z"
      },
      {
        "duration": 36,
        "start_time": "2023-01-31T16:03:07.159Z"
      },
      {
        "duration": 77,
        "start_time": "2023-01-31T16:03:07.197Z"
      },
      {
        "duration": 70,
        "start_time": "2023-01-31T16:03:07.278Z"
      },
      {
        "duration": 59,
        "start_time": "2023-01-31T16:03:07.350Z"
      },
      {
        "duration": 18,
        "start_time": "2023-01-31T16:03:07.410Z"
      },
      {
        "duration": 34,
        "start_time": "2023-01-31T16:03:07.430Z"
      },
      {
        "duration": 16,
        "start_time": "2023-01-31T16:03:07.466Z"
      },
      {
        "duration": 14,
        "start_time": "2023-01-31T16:03:07.484Z"
      },
      {
        "duration": 16,
        "start_time": "2023-01-31T16:03:07.499Z"
      },
      {
        "duration": 115,
        "start_time": "2023-01-31T16:03:07.517Z"
      },
      {
        "duration": 41,
        "start_time": "2023-01-31T16:03:07.633Z"
      },
      {
        "duration": 371,
        "start_time": "2023-01-31T16:03:07.675Z"
      },
      {
        "duration": 6,
        "start_time": "2023-01-31T16:03:08.047Z"
      },
      {
        "duration": 221,
        "start_time": "2023-01-31T16:03:08.055Z"
      },
      {
        "duration": 196,
        "start_time": "2023-01-31T16:03:08.277Z"
      },
      {
        "duration": 17,
        "start_time": "2023-01-31T16:03:08.475Z"
      },
      {
        "duration": 3589,
        "start_time": "2023-01-31T16:03:08.493Z"
      },
      {
        "duration": 156,
        "start_time": "2023-01-31T16:03:12.084Z"
      },
      {
        "duration": 18,
        "start_time": "2023-01-31T16:03:12.242Z"
      },
      {
        "duration": 123,
        "start_time": "2023-01-31T16:03:12.262Z"
      },
      {
        "duration": 104,
        "start_time": "2023-01-31T16:03:12.387Z"
      },
      {
        "duration": 6,
        "start_time": "2023-01-31T16:03:12.493Z"
      },
      {
        "duration": 484,
        "start_time": "2023-01-31T16:03:12.500Z"
      },
      {
        "duration": 165,
        "start_time": "2023-01-31T16:03:12.985Z"
      },
      {
        "duration": 105,
        "start_time": "2023-01-31T16:03:13.152Z"
      },
      {
        "duration": 73,
        "start_time": "2023-01-31T16:03:13.258Z"
      },
      {
        "duration": 78,
        "start_time": "2023-01-31T16:03:13.332Z"
      },
      {
        "duration": 84,
        "start_time": "2023-01-31T16:03:13.411Z"
      },
      {
        "duration": 16,
        "start_time": "2023-01-31T16:03:13.497Z"
      },
      {
        "duration": 147,
        "start_time": "2023-01-31T16:03:13.518Z"
      },
      {
        "duration": 65,
        "start_time": "2023-01-31T16:03:13.668Z"
      },
      {
        "duration": 173,
        "start_time": "2023-01-31T16:03:13.747Z"
      },
      {
        "duration": 16,
        "start_time": "2023-01-31T16:03:13.922Z"
      },
      {
        "duration": 11,
        "start_time": "2023-01-31T16:03:13.948Z"
      },
      {
        "duration": 22,
        "start_time": "2023-01-31T16:03:13.961Z"
      },
      {
        "duration": 11,
        "start_time": "2023-01-31T16:03:13.984Z"
      },
      {
        "duration": 11,
        "start_time": "2023-01-31T16:03:13.996Z"
      },
      {
        "duration": 7,
        "start_time": "2023-01-31T16:03:14.009Z"
      },
      {
        "duration": 34,
        "start_time": "2023-01-31T16:03:14.018Z"
      },
      {
        "duration": 5,
        "start_time": "2023-01-31T16:03:14.053Z"
      },
      {
        "duration": 7,
        "start_time": "2023-01-31T16:03:14.060Z"
      },
      {
        "duration": 52,
        "start_time": "2023-01-31T16:03:14.070Z"
      },
      {
        "duration": 26,
        "start_time": "2023-01-31T16:03:14.124Z"
      },
      {
        "duration": 23,
        "start_time": "2023-01-31T16:03:14.152Z"
      },
      {
        "duration": 17,
        "start_time": "2023-01-31T16:03:14.176Z"
      },
      {
        "duration": 1275,
        "start_time": "2023-02-01T08:48:41.299Z"
      },
      {
        "duration": 2,
        "start_time": "2023-02-01T08:48:42.576Z"
      },
      {
        "duration": 749,
        "start_time": "2023-02-01T08:48:42.579Z"
      },
      {
        "duration": 11,
        "start_time": "2023-02-01T08:48:43.330Z"
      },
      {
        "duration": 14,
        "start_time": "2023-02-01T08:48:43.342Z"
      },
      {
        "duration": 16,
        "start_time": "2023-02-01T08:48:43.358Z"
      },
      {
        "duration": 25,
        "start_time": "2023-02-01T08:48:43.375Z"
      },
      {
        "duration": 57,
        "start_time": "2023-02-01T08:48:43.401Z"
      },
      {
        "duration": 15,
        "start_time": "2023-02-01T08:48:43.460Z"
      },
      {
        "duration": 123,
        "start_time": "2023-02-01T08:48:43.479Z"
      },
      {
        "duration": 51,
        "start_time": "2023-02-01T08:48:43.604Z"
      },
      {
        "duration": 37,
        "start_time": "2023-02-01T08:48:43.657Z"
      },
      {
        "duration": 73,
        "start_time": "2023-02-01T08:48:43.696Z"
      },
      {
        "duration": 56,
        "start_time": "2023-02-01T08:48:43.771Z"
      },
      {
        "duration": 69,
        "start_time": "2023-02-01T08:48:43.828Z"
      },
      {
        "duration": 18,
        "start_time": "2023-02-01T08:48:43.899Z"
      },
      {
        "duration": 38,
        "start_time": "2023-02-01T08:48:43.919Z"
      },
      {
        "duration": 14,
        "start_time": "2023-02-01T08:48:43.958Z"
      },
      {
        "duration": 15,
        "start_time": "2023-02-01T08:48:43.973Z"
      },
      {
        "duration": 15,
        "start_time": "2023-02-01T08:48:43.990Z"
      },
      {
        "duration": 108,
        "start_time": "2023-02-01T08:48:44.007Z"
      },
      {
        "duration": 39,
        "start_time": "2023-02-01T08:48:44.117Z"
      },
      {
        "duration": 325,
        "start_time": "2023-02-01T08:48:44.157Z"
      },
      {
        "duration": 5,
        "start_time": "2023-02-01T08:48:44.484Z"
      },
      {
        "duration": 253,
        "start_time": "2023-02-01T08:48:44.491Z"
      },
      {
        "duration": 218,
        "start_time": "2023-02-01T08:48:44.746Z"
      },
      {
        "duration": 19,
        "start_time": "2023-02-01T08:48:44.965Z"
      },
      {
        "duration": 3369,
        "start_time": "2023-02-01T08:48:44.988Z"
      },
      {
        "duration": 154,
        "start_time": "2023-02-01T08:48:48.358Z"
      },
      {
        "duration": 15,
        "start_time": "2023-02-01T08:48:48.514Z"
      },
      {
        "duration": 124,
        "start_time": "2023-02-01T08:48:48.530Z"
      },
      {
        "duration": 97,
        "start_time": "2023-02-01T08:48:48.655Z"
      },
      {
        "duration": 4,
        "start_time": "2023-02-01T08:48:48.753Z"
      },
      {
        "duration": 496,
        "start_time": "2023-02-01T08:48:48.758Z"
      },
      {
        "duration": 144,
        "start_time": "2023-02-01T08:48:49.255Z"
      },
      {
        "duration": 119,
        "start_time": "2023-02-01T08:48:49.400Z"
      },
      {
        "duration": 94,
        "start_time": "2023-02-01T08:48:49.521Z"
      },
      {
        "duration": 73,
        "start_time": "2023-02-01T08:48:49.617Z"
      },
      {
        "duration": 77,
        "start_time": "2023-02-01T08:48:49.692Z"
      },
      {
        "duration": 13,
        "start_time": "2023-02-01T08:48:49.771Z"
      },
      {
        "duration": 133,
        "start_time": "2023-02-01T08:48:49.786Z"
      },
      {
        "duration": 66,
        "start_time": "2023-02-01T08:48:49.920Z"
      },
      {
        "duration": 147,
        "start_time": "2023-02-01T08:48:49.988Z"
      },
      {
        "duration": 19,
        "start_time": "2023-02-01T08:48:50.136Z"
      },
      {
        "duration": 21,
        "start_time": "2023-02-01T08:48:50.157Z"
      },
      {
        "duration": 40,
        "start_time": "2023-02-01T08:48:50.179Z"
      },
      {
        "duration": 9,
        "start_time": "2023-02-01T08:48:50.220Z"
      },
      {
        "duration": 8,
        "start_time": "2023-02-01T08:48:50.230Z"
      },
      {
        "duration": 6,
        "start_time": "2023-02-01T08:48:50.239Z"
      },
      {
        "duration": 23,
        "start_time": "2023-02-01T08:48:50.246Z"
      },
      {
        "duration": 4,
        "start_time": "2023-02-01T08:48:50.270Z"
      },
      {
        "duration": 15,
        "start_time": "2023-02-01T08:48:50.275Z"
      },
      {
        "duration": 31,
        "start_time": "2023-02-01T08:48:50.292Z"
      },
      {
        "duration": 7,
        "start_time": "2023-02-01T08:48:50.324Z"
      },
      {
        "duration": 8,
        "start_time": "2023-02-01T08:48:50.332Z"
      },
      {
        "duration": 12,
        "start_time": "2023-02-01T08:48:50.342Z"
      },
      {
        "duration": 1901,
        "start_time": "2023-02-01T09:20:03.406Z"
      },
      {
        "duration": 9,
        "start_time": "2023-02-01T09:20:05.311Z"
      },
      {
        "duration": 957,
        "start_time": "2023-02-01T09:20:05.323Z"
      },
      {
        "duration": 19,
        "start_time": "2023-02-01T09:20:06.282Z"
      },
      {
        "duration": 18,
        "start_time": "2023-02-01T09:20:06.306Z"
      },
      {
        "duration": 65,
        "start_time": "2023-02-01T09:20:06.326Z"
      },
      {
        "duration": 14,
        "start_time": "2023-02-01T09:20:06.394Z"
      },
      {
        "duration": 67,
        "start_time": "2023-02-01T09:20:06.411Z"
      },
      {
        "duration": 23,
        "start_time": "2023-02-01T09:20:06.480Z"
      },
      {
        "duration": 194,
        "start_time": "2023-02-01T09:20:06.505Z"
      },
      {
        "duration": 61,
        "start_time": "2023-02-01T09:20:06.701Z"
      },
      {
        "duration": 76,
        "start_time": "2023-02-01T09:20:06.765Z"
      },
      {
        "duration": 93,
        "start_time": "2023-02-01T09:20:06.843Z"
      },
      {
        "duration": 87,
        "start_time": "2023-02-01T09:20:06.940Z"
      },
      {
        "duration": 103,
        "start_time": "2023-02-01T09:20:07.029Z"
      },
      {
        "duration": 29,
        "start_time": "2023-02-01T09:20:07.139Z"
      },
      {
        "duration": 31,
        "start_time": "2023-02-01T09:20:07.172Z"
      },
      {
        "duration": 30,
        "start_time": "2023-02-01T09:20:07.222Z"
      },
      {
        "duration": 37,
        "start_time": "2023-02-01T09:20:07.256Z"
      },
      {
        "duration": 37,
        "start_time": "2023-02-01T09:20:07.295Z"
      },
      {
        "duration": 153,
        "start_time": "2023-02-01T09:20:07.335Z"
      },
      {
        "duration": 67,
        "start_time": "2023-02-01T09:20:07.490Z"
      },
      {
        "duration": 418,
        "start_time": "2023-02-01T09:20:07.560Z"
      },
      {
        "duration": 8,
        "start_time": "2023-02-01T09:20:07.981Z"
      },
      {
        "duration": 278,
        "start_time": "2023-02-01T09:20:07.991Z"
      },
      {
        "duration": 258,
        "start_time": "2023-02-01T09:20:08.285Z"
      },
      {
        "duration": 23,
        "start_time": "2023-02-01T09:20:08.546Z"
      },
      {
        "duration": 4288,
        "start_time": "2023-02-01T09:20:08.572Z"
      },
      {
        "duration": 195,
        "start_time": "2023-02-01T09:20:12.862Z"
      },
      {
        "duration": 18,
        "start_time": "2023-02-01T09:20:13.059Z"
      },
      {
        "duration": 167,
        "start_time": "2023-02-01T09:20:13.079Z"
      },
      {
        "duration": 125,
        "start_time": "2023-02-01T09:20:13.247Z"
      },
      {
        "duration": 5,
        "start_time": "2023-02-01T09:20:13.374Z"
      },
      {
        "duration": 599,
        "start_time": "2023-02-01T09:20:13.382Z"
      },
      {
        "duration": 222,
        "start_time": "2023-02-01T09:20:13.983Z"
      },
      {
        "duration": 147,
        "start_time": "2023-02-01T09:20:14.207Z"
      },
      {
        "duration": 120,
        "start_time": "2023-02-01T09:20:14.356Z"
      },
      {
        "duration": 143,
        "start_time": "2023-02-01T09:20:14.478Z"
      },
      {
        "duration": 105,
        "start_time": "2023-02-01T09:20:14.623Z"
      },
      {
        "duration": 27,
        "start_time": "2023-02-01T09:20:14.730Z"
      },
      {
        "duration": 98,
        "start_time": "2023-02-01T09:20:14.763Z"
      },
      {
        "duration": 87,
        "start_time": "2023-02-01T09:20:14.864Z"
      },
      {
        "duration": 287,
        "start_time": "2023-02-01T09:20:14.953Z"
      },
      {
        "duration": 21,
        "start_time": "2023-02-01T09:20:15.242Z"
      },
      {
        "duration": 23,
        "start_time": "2023-02-01T09:20:15.265Z"
      },
      {
        "duration": 45,
        "start_time": "2023-02-01T09:20:15.290Z"
      },
      {
        "duration": 10,
        "start_time": "2023-02-01T09:20:15.337Z"
      },
      {
        "duration": 9,
        "start_time": "2023-02-01T09:20:15.350Z"
      },
      {
        "duration": 11,
        "start_time": "2023-02-01T09:20:15.361Z"
      },
      {
        "duration": 20,
        "start_time": "2023-02-01T09:20:15.374Z"
      },
      {
        "duration": 6,
        "start_time": "2023-02-01T09:20:15.421Z"
      },
      {
        "duration": 9,
        "start_time": "2023-02-01T09:20:15.429Z"
      },
      {
        "duration": 36,
        "start_time": "2023-02-01T09:20:15.440Z"
      },
      {
        "duration": 7,
        "start_time": "2023-02-01T09:20:15.478Z"
      },
      {
        "duration": 36,
        "start_time": "2023-02-01T09:20:15.488Z"
      },
      {
        "duration": 18,
        "start_time": "2023-02-01T09:20:15.526Z"
      },
      {
        "duration": 84,
        "start_time": "2023-02-01T09:22:28.548Z"
      },
      {
        "duration": 79,
        "start_time": "2023-02-01T09:38:16.386Z"
      },
      {
        "duration": 83,
        "start_time": "2023-02-01T09:38:30.725Z"
      },
      {
        "duration": 82,
        "start_time": "2023-02-01T09:48:27.097Z"
      },
      {
        "duration": 3512,
        "start_time": "2023-02-01T09:48:51.860Z"
      },
      {
        "duration": 80,
        "start_time": "2023-02-01T09:51:19.762Z"
      },
      {
        "duration": 178,
        "start_time": "2023-02-01T09:51:55.114Z"
      },
      {
        "duration": 741,
        "start_time": "2023-02-01T10:08:22.929Z"
      },
      {
        "duration": 220,
        "start_time": "2023-02-01T10:09:00.820Z"
      },
      {
        "duration": 135,
        "start_time": "2023-02-01T10:13:33.280Z"
      },
      {
        "duration": 91,
        "start_time": "2023-02-01T10:13:59.688Z"
      },
      {
        "duration": 192,
        "start_time": "2023-02-01T10:14:41.078Z"
      },
      {
        "duration": 153,
        "start_time": "2023-02-01T10:14:48.175Z"
      },
      {
        "duration": 96,
        "start_time": "2023-02-01T10:16:10.882Z"
      },
      {
        "duration": 55,
        "start_time": "2023-02-01T10:16:49.034Z"
      },
      {
        "duration": 89,
        "start_time": "2023-02-01T10:16:54.486Z"
      },
      {
        "duration": 77,
        "start_time": "2023-02-01T10:17:11.924Z"
      },
      {
        "duration": 109,
        "start_time": "2023-02-01T10:18:12.168Z"
      },
      {
        "duration": 23,
        "start_time": "2023-02-01T10:18:25.085Z"
      },
      {
        "duration": 79,
        "start_time": "2023-02-01T10:18:31.274Z"
      },
      {
        "duration": 3631,
        "start_time": "2023-02-01T10:30:59.596Z"
      },
      {
        "duration": 100,
        "start_time": "2023-02-01T10:37:19.401Z"
      },
      {
        "duration": 1384,
        "start_time": "2023-02-01T10:48:29.336Z"
      },
      {
        "duration": 12,
        "start_time": "2023-02-01T10:48:30.722Z"
      },
      {
        "duration": 353,
        "start_time": "2023-02-01T10:48:30.736Z"
      },
      {
        "duration": 13,
        "start_time": "2023-02-01T10:48:31.092Z"
      },
      {
        "duration": 45,
        "start_time": "2023-02-01T10:48:31.107Z"
      },
      {
        "duration": 45,
        "start_time": "2023-02-01T10:48:31.154Z"
      },
      {
        "duration": 43,
        "start_time": "2023-02-01T10:48:31.201Z"
      },
      {
        "duration": 73,
        "start_time": "2023-02-01T10:48:31.246Z"
      },
      {
        "duration": 32,
        "start_time": "2023-02-01T10:48:31.328Z"
      },
      {
        "duration": 153,
        "start_time": "2023-02-01T10:48:31.362Z"
      },
      {
        "duration": 46,
        "start_time": "2023-02-01T10:48:31.517Z"
      },
      {
        "duration": 75,
        "start_time": "2023-02-01T10:48:31.565Z"
      },
      {
        "duration": 66,
        "start_time": "2023-02-01T10:48:31.642Z"
      },
      {
        "duration": 79,
        "start_time": "2023-02-01T10:48:31.710Z"
      },
      {
        "duration": 86,
        "start_time": "2023-02-01T10:48:31.792Z"
      },
      {
        "duration": 32,
        "start_time": "2023-02-01T10:48:31.880Z"
      },
      {
        "duration": 42,
        "start_time": "2023-02-01T10:48:31.914Z"
      },
      {
        "duration": 21,
        "start_time": "2023-02-01T10:48:31.959Z"
      },
      {
        "duration": 27,
        "start_time": "2023-02-01T10:48:31.982Z"
      },
      {
        "duration": 37,
        "start_time": "2023-02-01T10:48:32.011Z"
      },
      {
        "duration": 129,
        "start_time": "2023-02-01T10:48:32.050Z"
      },
      {
        "duration": 54,
        "start_time": "2023-02-01T10:48:32.181Z"
      },
      {
        "duration": 442,
        "start_time": "2023-02-01T10:48:32.237Z"
      },
      {
        "duration": 6,
        "start_time": "2023-02-01T10:48:32.681Z"
      },
      {
        "duration": 340,
        "start_time": "2023-02-01T10:48:32.689Z"
      },
      {
        "duration": 262,
        "start_time": "2023-02-01T10:48:33.031Z"
      },
      {
        "duration": 35,
        "start_time": "2023-02-01T10:48:33.295Z"
      },
      {
        "duration": 4364,
        "start_time": "2023-02-01T10:48:33.334Z"
      },
      {
        "duration": 188,
        "start_time": "2023-02-01T10:48:37.700Z"
      },
      {
        "duration": 17,
        "start_time": "2023-02-01T10:48:37.889Z"
      },
      {
        "duration": 159,
        "start_time": "2023-02-01T10:48:37.908Z"
      },
      {
        "duration": 127,
        "start_time": "2023-02-01T10:48:38.069Z"
      },
      {
        "duration": 7,
        "start_time": "2023-02-01T10:48:38.198Z"
      },
      {
        "duration": 622,
        "start_time": "2023-02-01T10:48:38.207Z"
      },
      {
        "duration": 246,
        "start_time": "2023-02-01T10:48:38.835Z"
      },
      {
        "duration": 150,
        "start_time": "2023-02-01T10:48:39.083Z"
      },
      {
        "duration": 111,
        "start_time": "2023-02-01T10:48:39.238Z"
      },
      {
        "duration": 194,
        "start_time": "2023-02-01T10:48:39.350Z"
      },
      {
        "duration": 0,
        "start_time": "2023-02-01T10:48:39.546Z"
      },
      {
        "duration": 0,
        "start_time": "2023-02-01T10:48:39.549Z"
      },
      {
        "duration": 1,
        "start_time": "2023-02-01T10:48:39.550Z"
      },
      {
        "duration": 0,
        "start_time": "2023-02-01T10:48:39.552Z"
      },
      {
        "duration": 0,
        "start_time": "2023-02-01T10:48:39.554Z"
      },
      {
        "duration": 0,
        "start_time": "2023-02-01T10:48:39.556Z"
      },
      {
        "duration": 0,
        "start_time": "2023-02-01T10:48:39.558Z"
      },
      {
        "duration": 0,
        "start_time": "2023-02-01T10:48:39.559Z"
      },
      {
        "duration": 0,
        "start_time": "2023-02-01T10:48:39.561Z"
      },
      {
        "duration": 0,
        "start_time": "2023-02-01T10:48:39.563Z"
      },
      {
        "duration": 0,
        "start_time": "2023-02-01T10:48:39.564Z"
      },
      {
        "duration": 0,
        "start_time": "2023-02-01T10:48:39.566Z"
      },
      {
        "duration": 0,
        "start_time": "2023-02-01T10:48:39.568Z"
      },
      {
        "duration": 0,
        "start_time": "2023-02-01T10:48:39.568Z"
      },
      {
        "duration": 0,
        "start_time": "2023-02-01T10:48:39.569Z"
      },
      {
        "duration": 0,
        "start_time": "2023-02-01T10:48:39.570Z"
      },
      {
        "duration": 0,
        "start_time": "2023-02-01T10:48:39.572Z"
      },
      {
        "duration": 0,
        "start_time": "2023-02-01T10:48:39.573Z"
      },
      {
        "duration": 0,
        "start_time": "2023-02-01T10:48:39.574Z"
      },
      {
        "duration": 61,
        "start_time": "2023-02-01T10:48:53.348Z"
      },
      {
        "duration": 37,
        "start_time": "2023-02-01T10:48:56.139Z"
      },
      {
        "duration": 42,
        "start_time": "2023-02-01T10:49:13.891Z"
      },
      {
        "duration": 85,
        "start_time": "2023-02-01T10:49:28.891Z"
      },
      {
        "duration": 97,
        "start_time": "2023-02-01T10:54:33.251Z"
      },
      {
        "duration": 66,
        "start_time": "2023-02-01T10:56:39.698Z"
      },
      {
        "duration": 36,
        "start_time": "2023-02-01T10:56:47.806Z"
      },
      {
        "duration": 34,
        "start_time": "2023-02-01T10:57:01.737Z"
      },
      {
        "duration": 103,
        "start_time": "2023-02-01T10:57:14.211Z"
      },
      {
        "duration": 16,
        "start_time": "2023-02-01T11:03:26.944Z"
      },
      {
        "duration": 158,
        "start_time": "2023-02-01T11:04:00.404Z"
      },
      {
        "duration": 78,
        "start_time": "2023-02-01T11:04:25.894Z"
      },
      {
        "duration": 71,
        "start_time": "2023-02-01T11:06:40.012Z"
      },
      {
        "duration": 36,
        "start_time": "2023-02-01T11:07:42.097Z"
      },
      {
        "duration": 86,
        "start_time": "2023-02-01T11:07:48.256Z"
      },
      {
        "duration": 14,
        "start_time": "2023-02-01T11:15:44.887Z"
      },
      {
        "duration": 31,
        "start_time": "2023-02-01T11:15:52.335Z"
      },
      {
        "duration": 30,
        "start_time": "2023-02-01T11:16:56.044Z"
      },
      {
        "duration": 12,
        "start_time": "2023-02-01T11:17:13.479Z"
      },
      {
        "duration": 17,
        "start_time": "2023-02-01T11:17:30.244Z"
      },
      {
        "duration": 60,
        "start_time": "2023-02-01T11:17:46.204Z"
      },
      {
        "duration": 42,
        "start_time": "2023-02-01T11:17:51.992Z"
      },
      {
        "duration": 84,
        "start_time": "2023-02-01T11:18:02.982Z"
      },
      {
        "duration": 81,
        "start_time": "2023-02-01T11:20:23.333Z"
      },
      {
        "duration": 83,
        "start_time": "2023-02-01T11:21:02.652Z"
      },
      {
        "duration": 94,
        "start_time": "2023-02-01T11:21:52.304Z"
      },
      {
        "duration": 29,
        "start_time": "2023-02-01T11:27:48.657Z"
      },
      {
        "duration": 20,
        "start_time": "2023-02-01T11:42:42.306Z"
      },
      {
        "duration": 25,
        "start_time": "2023-02-01T11:43:27.347Z"
      },
      {
        "duration": 1290,
        "start_time": "2023-02-01T11:43:49.313Z"
      },
      {
        "duration": 4,
        "start_time": "2023-02-01T11:43:50.605Z"
      },
      {
        "duration": 281,
        "start_time": "2023-02-01T11:43:50.611Z"
      },
      {
        "duration": 13,
        "start_time": "2023-02-01T11:43:50.894Z"
      },
      {
        "duration": 16,
        "start_time": "2023-02-01T11:43:50.909Z"
      },
      {
        "duration": 10,
        "start_time": "2023-02-01T11:43:50.927Z"
      },
      {
        "duration": 21,
        "start_time": "2023-02-01T11:43:50.939Z"
      },
      {
        "duration": 38,
        "start_time": "2023-02-01T11:43:50.962Z"
      },
      {
        "duration": 21,
        "start_time": "2023-02-01T11:43:51.002Z"
      },
      {
        "duration": 141,
        "start_time": "2023-02-01T11:43:51.025Z"
      },
      {
        "duration": 62,
        "start_time": "2023-02-01T11:43:51.168Z"
      },
      {
        "duration": 41,
        "start_time": "2023-02-01T11:43:51.232Z"
      },
      {
        "duration": 100,
        "start_time": "2023-02-01T11:43:51.275Z"
      },
      {
        "duration": 83,
        "start_time": "2023-02-01T11:43:51.378Z"
      },
      {
        "duration": 73,
        "start_time": "2023-02-01T11:43:51.463Z"
      },
      {
        "duration": 23,
        "start_time": "2023-02-01T11:43:51.538Z"
      },
      {
        "duration": 22,
        "start_time": "2023-02-01T11:43:51.562Z"
      },
      {
        "duration": 48,
        "start_time": "2023-02-01T11:43:51.585Z"
      },
      {
        "duration": 15,
        "start_time": "2023-02-01T11:43:51.635Z"
      },
      {
        "duration": 17,
        "start_time": "2023-02-01T11:43:51.652Z"
      },
      {
        "duration": 143,
        "start_time": "2023-02-01T11:43:51.671Z"
      },
      {
        "duration": 42,
        "start_time": "2023-02-01T11:43:51.821Z"
      },
      {
        "duration": 459,
        "start_time": "2023-02-01T11:43:51.865Z"
      },
      {
        "duration": 6,
        "start_time": "2023-02-01T11:43:52.326Z"
      },
      {
        "duration": 252,
        "start_time": "2023-02-01T11:43:52.334Z"
      },
      {
        "duration": 233,
        "start_time": "2023-02-01T11:43:52.588Z"
      },
      {
        "duration": 22,
        "start_time": "2023-02-01T11:43:52.823Z"
      },
      {
        "duration": 4085,
        "start_time": "2023-02-01T11:43:52.847Z"
      },
      {
        "duration": 189,
        "start_time": "2023-02-01T11:43:56.934Z"
      },
      {
        "duration": 18,
        "start_time": "2023-02-01T11:43:57.125Z"
      },
      {
        "duration": 159,
        "start_time": "2023-02-01T11:43:57.146Z"
      },
      {
        "duration": 125,
        "start_time": "2023-02-01T11:43:57.307Z"
      },
      {
        "duration": 5,
        "start_time": "2023-02-01T11:43:57.434Z"
      },
      {
        "duration": 511,
        "start_time": "2023-02-01T11:43:57.441Z"
      },
      {
        "duration": 188,
        "start_time": "2023-02-01T11:43:57.954Z"
      },
      {
        "duration": 117,
        "start_time": "2023-02-01T11:43:58.144Z"
      },
      {
        "duration": 113,
        "start_time": "2023-02-01T11:43:58.263Z"
      },
      {
        "duration": 80,
        "start_time": "2023-02-01T11:43:58.377Z"
      },
      {
        "duration": 87,
        "start_time": "2023-02-01T11:43:58.459Z"
      },
      {
        "duration": 178,
        "start_time": "2023-02-01T11:43:58.548Z"
      },
      {
        "duration": 26,
        "start_time": "2023-02-01T11:43:58.731Z"
      },
      {
        "duration": 197,
        "start_time": "2023-02-01T11:43:58.759Z"
      },
      {
        "duration": 0,
        "start_time": "2023-02-01T11:43:58.958Z"
      },
      {
        "duration": 0,
        "start_time": "2023-02-01T11:43:58.959Z"
      },
      {
        "duration": 0,
        "start_time": "2023-02-01T11:43:58.960Z"
      },
      {
        "duration": 0,
        "start_time": "2023-02-01T11:43:58.962Z"
      },
      {
        "duration": 0,
        "start_time": "2023-02-01T11:43:58.963Z"
      },
      {
        "duration": 0,
        "start_time": "2023-02-01T11:43:58.964Z"
      },
      {
        "duration": 0,
        "start_time": "2023-02-01T11:43:58.965Z"
      },
      {
        "duration": 0,
        "start_time": "2023-02-01T11:43:58.966Z"
      },
      {
        "duration": 0,
        "start_time": "2023-02-01T11:43:58.967Z"
      },
      {
        "duration": 0,
        "start_time": "2023-02-01T11:43:58.968Z"
      },
      {
        "duration": 0,
        "start_time": "2023-02-01T11:43:58.969Z"
      },
      {
        "duration": 0,
        "start_time": "2023-02-01T11:43:58.971Z"
      },
      {
        "duration": 0,
        "start_time": "2023-02-01T11:43:58.972Z"
      },
      {
        "duration": 0,
        "start_time": "2023-02-01T11:43:58.973Z"
      },
      {
        "duration": 0,
        "start_time": "2023-02-01T11:43:58.974Z"
      },
      {
        "duration": 0,
        "start_time": "2023-02-01T11:43:58.975Z"
      },
      {
        "duration": 0,
        "start_time": "2023-02-01T11:43:58.976Z"
      },
      {
        "duration": 54,
        "start_time": "2023-02-01T11:44:38.265Z"
      },
      {
        "duration": 1277,
        "start_time": "2023-02-01T11:44:57.453Z"
      },
      {
        "duration": 1397,
        "start_time": "2023-02-01T11:46:09.115Z"
      },
      {
        "duration": 38,
        "start_time": "2023-02-01T11:47:38.913Z"
      },
      {
        "duration": 50,
        "start_time": "2023-02-01T11:47:44.301Z"
      },
      {
        "duration": 51,
        "start_time": "2023-02-01T11:48:17.257Z"
      },
      {
        "duration": 57,
        "start_time": "2023-02-01T11:48:59.321Z"
      },
      {
        "duration": 1330,
        "start_time": "2023-02-01T11:49:43.676Z"
      },
      {
        "duration": 55,
        "start_time": "2023-02-01T11:50:07.427Z"
      },
      {
        "duration": 50,
        "start_time": "2023-02-01T11:51:06.305Z"
      },
      {
        "duration": 64,
        "start_time": "2023-02-01T11:51:27.409Z"
      },
      {
        "duration": 64,
        "start_time": "2023-02-01T11:51:49.893Z"
      },
      {
        "duration": 63,
        "start_time": "2023-02-01T11:52:07.209Z"
      },
      {
        "duration": 506,
        "start_time": "2023-02-01T11:52:19.556Z"
      },
      {
        "duration": 1273,
        "start_time": "2023-02-01T11:59:32.961Z"
      },
      {
        "duration": 15,
        "start_time": "2023-02-01T11:59:41.429Z"
      },
      {
        "duration": 39,
        "start_time": "2023-02-01T11:59:48.635Z"
      },
      {
        "duration": 36,
        "start_time": "2023-02-01T12:02:09.445Z"
      },
      {
        "duration": 204,
        "start_time": "2023-02-01T12:02:52.245Z"
      },
      {
        "duration": 86,
        "start_time": "2023-02-01T12:03:34.843Z"
      },
      {
        "duration": 73,
        "start_time": "2023-02-01T12:03:50.087Z"
      },
      {
        "duration": 44,
        "start_time": "2023-02-01T12:06:41.347Z"
      },
      {
        "duration": 86,
        "start_time": "2023-02-01T12:06:50.326Z"
      },
      {
        "duration": 34,
        "start_time": "2023-02-01T12:08:00.909Z"
      },
      {
        "duration": 84,
        "start_time": "2023-02-01T12:08:04.445Z"
      },
      {
        "duration": 34,
        "start_time": "2023-02-01T12:08:41.827Z"
      },
      {
        "duration": 74,
        "start_time": "2023-02-01T12:08:45.535Z"
      },
      {
        "duration": 64,
        "start_time": "2023-02-01T12:09:02.851Z"
      },
      {
        "duration": 27,
        "start_time": "2023-02-01T12:09:37.636Z"
      },
      {
        "duration": 86,
        "start_time": "2023-02-01T12:09:46.433Z"
      },
      {
        "duration": 6,
        "start_time": "2023-02-01T12:10:56.533Z"
      },
      {
        "duration": 18,
        "start_time": "2023-02-01T12:12:50.745Z"
      },
      {
        "duration": 77,
        "start_time": "2023-02-01T12:13:04.931Z"
      },
      {
        "duration": 80,
        "start_time": "2023-02-01T12:13:05.617Z"
      },
      {
        "duration": 1290,
        "start_time": "2023-02-01T12:26:21.501Z"
      },
      {
        "duration": 3,
        "start_time": "2023-02-01T12:26:22.793Z"
      },
      {
        "duration": 276,
        "start_time": "2023-02-01T12:26:22.797Z"
      },
      {
        "duration": 12,
        "start_time": "2023-02-01T12:26:23.075Z"
      },
      {
        "duration": 14,
        "start_time": "2023-02-01T12:26:23.089Z"
      },
      {
        "duration": 16,
        "start_time": "2023-02-01T12:26:23.105Z"
      },
      {
        "duration": 11,
        "start_time": "2023-02-01T12:26:23.123Z"
      },
      {
        "duration": 39,
        "start_time": "2023-02-01T12:26:23.135Z"
      },
      {
        "duration": 15,
        "start_time": "2023-02-01T12:26:23.176Z"
      },
      {
        "duration": 164,
        "start_time": "2023-02-01T12:26:23.193Z"
      },
      {
        "duration": 65,
        "start_time": "2023-02-01T12:26:23.359Z"
      },
      {
        "duration": 39,
        "start_time": "2023-02-01T12:26:23.426Z"
      },
      {
        "duration": 87,
        "start_time": "2023-02-01T12:26:23.467Z"
      },
      {
        "duration": 71,
        "start_time": "2023-02-01T12:26:23.558Z"
      },
      {
        "duration": 66,
        "start_time": "2023-02-01T12:26:23.631Z"
      },
      {
        "duration": 29,
        "start_time": "2023-02-01T12:26:23.699Z"
      },
      {
        "duration": 21,
        "start_time": "2023-02-01T12:26:23.730Z"
      },
      {
        "duration": 20,
        "start_time": "2023-02-01T12:26:23.753Z"
      },
      {
        "duration": 48,
        "start_time": "2023-02-01T12:26:23.774Z"
      },
      {
        "duration": 18,
        "start_time": "2023-02-01T12:26:23.823Z"
      },
      {
        "duration": 121,
        "start_time": "2023-02-01T12:26:23.843Z"
      },
      {
        "duration": 56,
        "start_time": "2023-02-01T12:26:23.965Z"
      },
      {
        "duration": 424,
        "start_time": "2023-02-01T12:26:24.023Z"
      },
      {
        "duration": 8,
        "start_time": "2023-02-01T12:26:24.448Z"
      },
      {
        "duration": 325,
        "start_time": "2023-02-01T12:26:24.458Z"
      },
      {
        "duration": 219,
        "start_time": "2023-02-01T12:26:24.785Z"
      },
      {
        "duration": 28,
        "start_time": "2023-02-01T12:26:25.006Z"
      },
      {
        "duration": 3833,
        "start_time": "2023-02-01T12:26:25.036Z"
      },
      {
        "duration": 184,
        "start_time": "2023-02-01T12:26:28.870Z"
      },
      {
        "duration": 17,
        "start_time": "2023-02-01T12:26:29.056Z"
      },
      {
        "duration": 146,
        "start_time": "2023-02-01T12:26:29.075Z"
      },
      {
        "duration": 114,
        "start_time": "2023-02-01T12:26:29.222Z"
      },
      {
        "duration": 5,
        "start_time": "2023-02-01T12:26:29.338Z"
      },
      {
        "duration": 525,
        "start_time": "2023-02-01T12:26:29.344Z"
      },
      {
        "duration": 195,
        "start_time": "2023-02-01T12:26:29.871Z"
      },
      {
        "duration": 128,
        "start_time": "2023-02-01T12:26:30.068Z"
      },
      {
        "duration": 102,
        "start_time": "2023-02-01T12:26:30.198Z"
      },
      {
        "duration": 92,
        "start_time": "2023-02-01T12:26:30.302Z"
      },
      {
        "duration": 99,
        "start_time": "2023-02-01T12:26:30.396Z"
      },
      {
        "duration": 29,
        "start_time": "2023-02-01T12:26:30.497Z"
      },
      {
        "duration": 92,
        "start_time": "2023-02-01T12:26:30.530Z"
      },
      {
        "duration": 71,
        "start_time": "2023-02-01T12:26:30.624Z"
      },
      {
        "duration": 271,
        "start_time": "2023-02-01T12:26:30.698Z"
      },
      {
        "duration": 19,
        "start_time": "2023-02-01T12:26:30.971Z"
      },
      {
        "duration": 36,
        "start_time": "2023-02-01T12:26:30.992Z"
      },
      {
        "duration": 41,
        "start_time": "2023-02-01T12:26:31.030Z"
      },
      {
        "duration": 23,
        "start_time": "2023-02-01T12:26:31.072Z"
      },
      {
        "duration": 48,
        "start_time": "2023-02-01T12:26:31.096Z"
      },
      {
        "duration": 31,
        "start_time": "2023-02-01T12:26:31.146Z"
      },
      {
        "duration": 34,
        "start_time": "2023-02-01T12:26:31.179Z"
      },
      {
        "duration": 34,
        "start_time": "2023-02-01T12:26:31.215Z"
      },
      {
        "duration": 27,
        "start_time": "2023-02-01T12:26:31.251Z"
      },
      {
        "duration": 58,
        "start_time": "2023-02-01T12:26:31.281Z"
      },
      {
        "duration": 15,
        "start_time": "2023-02-01T12:26:31.340Z"
      },
      {
        "duration": 40,
        "start_time": "2023-02-01T12:26:31.357Z"
      },
      {
        "duration": 33,
        "start_time": "2023-02-01T12:26:31.399Z"
      },
      {
        "duration": 18,
        "start_time": "2023-02-01T12:39:58.526Z"
      },
      {
        "duration": 19,
        "start_time": "2023-02-01T12:40:02.361Z"
      },
      {
        "duration": 24,
        "start_time": "2023-02-01T12:40:24.405Z"
      },
      {
        "duration": 37,
        "start_time": "2023-02-01T12:40:30.788Z"
      },
      {
        "duration": 88,
        "start_time": "2023-02-01T12:43:17.793Z"
      },
      {
        "duration": 50,
        "start_time": "2023-02-01T12:43:55.797Z"
      },
      {
        "duration": 58,
        "start_time": "2023-02-01T12:47:49.917Z"
      },
      {
        "duration": 44,
        "start_time": "2023-02-01T12:53:12.638Z"
      },
      {
        "duration": 18,
        "start_time": "2023-02-01T13:01:08.492Z"
      },
      {
        "duration": 0,
        "start_time": "2023-02-01T13:04:10.006Z"
      },
      {
        "duration": 1438,
        "start_time": "2023-02-01T13:04:23.459Z"
      },
      {
        "duration": 3,
        "start_time": "2023-02-01T13:04:24.899Z"
      },
      {
        "duration": 327,
        "start_time": "2023-02-01T13:04:24.904Z"
      },
      {
        "duration": 13,
        "start_time": "2023-02-01T13:04:25.234Z"
      },
      {
        "duration": 29,
        "start_time": "2023-02-01T13:04:25.250Z"
      },
      {
        "duration": 17,
        "start_time": "2023-02-01T13:04:25.281Z"
      },
      {
        "duration": 17,
        "start_time": "2023-02-01T13:04:25.300Z"
      },
      {
        "duration": 42,
        "start_time": "2023-02-01T13:04:25.319Z"
      },
      {
        "duration": 15,
        "start_time": "2023-02-01T13:04:25.362Z"
      },
      {
        "duration": 148,
        "start_time": "2023-02-01T13:04:25.378Z"
      },
      {
        "duration": 33,
        "start_time": "2023-02-01T13:04:25.527Z"
      },
      {
        "duration": 75,
        "start_time": "2023-02-01T13:04:25.562Z"
      },
      {
        "duration": 71,
        "start_time": "2023-02-01T13:04:25.639Z"
      },
      {
        "duration": 72,
        "start_time": "2023-02-01T13:04:25.724Z"
      },
      {
        "duration": 94,
        "start_time": "2023-02-01T13:04:25.798Z"
      },
      {
        "duration": 31,
        "start_time": "2023-02-01T13:04:25.894Z"
      },
      {
        "duration": 21,
        "start_time": "2023-02-01T13:04:25.927Z"
      },
      {
        "duration": 18,
        "start_time": "2023-02-01T13:04:25.950Z"
      },
      {
        "duration": 16,
        "start_time": "2023-02-01T13:04:25.969Z"
      },
      {
        "duration": 47,
        "start_time": "2023-02-01T13:04:25.987Z"
      },
      {
        "duration": 112,
        "start_time": "2023-02-01T13:04:26.036Z"
      },
      {
        "duration": 38,
        "start_time": "2023-02-01T13:04:26.150Z"
      },
      {
        "duration": 431,
        "start_time": "2023-02-01T13:04:26.189Z"
      },
      {
        "duration": 6,
        "start_time": "2023-02-01T13:04:26.622Z"
      },
      {
        "duration": 250,
        "start_time": "2023-02-01T13:04:26.631Z"
      },
      {
        "duration": 232,
        "start_time": "2023-02-01T13:04:26.882Z"
      },
      {
        "duration": 19,
        "start_time": "2023-02-01T13:04:27.120Z"
      },
      {
        "duration": 3931,
        "start_time": "2023-02-01T13:04:27.141Z"
      },
      {
        "duration": 189,
        "start_time": "2023-02-01T13:04:31.074Z"
      },
      {
        "duration": 17,
        "start_time": "2023-02-01T13:04:31.265Z"
      },
      {
        "duration": 148,
        "start_time": "2023-02-01T13:04:31.284Z"
      },
      {
        "duration": 129,
        "start_time": "2023-02-01T13:04:31.434Z"
      },
      {
        "duration": 5,
        "start_time": "2023-02-01T13:04:31.565Z"
      },
      {
        "duration": 553,
        "start_time": "2023-02-01T13:04:31.571Z"
      },
      {
        "duration": 216,
        "start_time": "2023-02-01T13:04:32.126Z"
      },
      {
        "duration": 115,
        "start_time": "2023-02-01T13:04:32.344Z"
      },
      {
        "duration": 112,
        "start_time": "2023-02-01T13:04:32.461Z"
      },
      {
        "duration": 84,
        "start_time": "2023-02-01T13:04:32.575Z"
      },
      {
        "duration": 90,
        "start_time": "2023-02-01T13:04:32.661Z"
      },
      {
        "duration": 18,
        "start_time": "2023-02-01T13:04:32.753Z"
      },
      {
        "duration": 163,
        "start_time": "2023-02-01T13:04:32.775Z"
      },
      {
        "duration": 84,
        "start_time": "2023-02-01T13:04:32.940Z"
      },
      {
        "duration": 174,
        "start_time": "2023-02-01T13:04:33.026Z"
      },
      {
        "duration": 30,
        "start_time": "2023-02-01T13:04:33.202Z"
      },
      {
        "duration": 14,
        "start_time": "2023-02-01T13:04:33.234Z"
      },
      {
        "duration": 17,
        "start_time": "2023-02-01T13:04:33.250Z"
      },
      {
        "duration": 10,
        "start_time": "2023-02-01T13:04:33.269Z"
      },
      {
        "duration": 41,
        "start_time": "2023-02-01T13:04:33.281Z"
      },
      {
        "duration": 15,
        "start_time": "2023-02-01T13:04:33.324Z"
      },
      {
        "duration": 33,
        "start_time": "2023-02-01T13:04:33.341Z"
      },
      {
        "duration": 5,
        "start_time": "2023-02-01T13:04:33.376Z"
      },
      {
        "duration": 9,
        "start_time": "2023-02-01T13:04:33.383Z"
      },
      {
        "duration": 51,
        "start_time": "2023-02-01T13:04:33.393Z"
      },
      {
        "duration": 8,
        "start_time": "2023-02-01T13:04:33.446Z"
      },
      {
        "duration": 21,
        "start_time": "2023-02-01T13:04:33.455Z"
      },
      {
        "duration": 33,
        "start_time": "2023-02-01T13:04:33.478Z"
      },
      {
        "duration": 50,
        "start_time": "2023-02-01T13:04:33.513Z"
      },
      {
        "duration": 190,
        "start_time": "2023-02-01T13:04:33.565Z"
      },
      {
        "duration": 29,
        "start_time": "2023-02-01T13:05:00.957Z"
      },
      {
        "duration": 87,
        "start_time": "2023-02-01T13:05:29.120Z"
      },
      {
        "duration": 60,
        "start_time": "2023-02-01T13:06:17.629Z"
      },
      {
        "duration": 66,
        "start_time": "2023-02-01T13:06:35.129Z"
      },
      {
        "duration": 74,
        "start_time": "2023-02-01T13:07:04.935Z"
      },
      {
        "duration": 74,
        "start_time": "2023-02-01T13:08:04.446Z"
      },
      {
        "duration": 85,
        "start_time": "2023-02-01T13:19:24.310Z"
      },
      {
        "duration": 8,
        "start_time": "2023-02-01T13:19:29.997Z"
      },
      {
        "duration": 1320,
        "start_time": "2023-02-01T13:19:40.242Z"
      },
      {
        "duration": 3,
        "start_time": "2023-02-01T13:19:41.564Z"
      },
      {
        "duration": 293,
        "start_time": "2023-02-01T13:19:41.569Z"
      },
      {
        "duration": 13,
        "start_time": "2023-02-01T13:19:41.864Z"
      },
      {
        "duration": 14,
        "start_time": "2023-02-01T13:19:41.879Z"
      },
      {
        "duration": 11,
        "start_time": "2023-02-01T13:19:41.895Z"
      },
      {
        "duration": 18,
        "start_time": "2023-02-01T13:19:41.907Z"
      },
      {
        "duration": 38,
        "start_time": "2023-02-01T13:19:41.927Z"
      },
      {
        "duration": 13,
        "start_time": "2023-02-01T13:19:41.967Z"
      },
      {
        "duration": 171,
        "start_time": "2023-02-01T13:19:41.983Z"
      },
      {
        "duration": 34,
        "start_time": "2023-02-01T13:19:42.155Z"
      },
      {
        "duration": 72,
        "start_time": "2023-02-01T13:19:42.190Z"
      },
      {
        "duration": 84,
        "start_time": "2023-02-01T13:19:42.263Z"
      },
      {
        "duration": 83,
        "start_time": "2023-02-01T13:19:42.349Z"
      },
      {
        "duration": 70,
        "start_time": "2023-02-01T13:19:42.434Z"
      },
      {
        "duration": 30,
        "start_time": "2023-02-01T13:19:42.506Z"
      },
      {
        "duration": 23,
        "start_time": "2023-02-01T13:19:42.538Z"
      },
      {
        "duration": 18,
        "start_time": "2023-02-01T13:19:42.563Z"
      },
      {
        "duration": 44,
        "start_time": "2023-02-01T13:19:42.582Z"
      },
      {
        "duration": 16,
        "start_time": "2023-02-01T13:19:42.628Z"
      },
      {
        "duration": 117,
        "start_time": "2023-02-01T13:19:42.646Z"
      },
      {
        "duration": 35,
        "start_time": "2023-02-01T13:19:42.764Z"
      },
      {
        "duration": 413,
        "start_time": "2023-02-01T13:19:42.800Z"
      },
      {
        "duration": 7,
        "start_time": "2023-02-01T13:19:43.220Z"
      },
      {
        "duration": 258,
        "start_time": "2023-02-01T13:19:43.228Z"
      },
      {
        "duration": 242,
        "start_time": "2023-02-01T13:19:43.488Z"
      },
      {
        "duration": 23,
        "start_time": "2023-02-01T13:19:43.732Z"
      },
      {
        "duration": 4091,
        "start_time": "2023-02-01T13:19:43.758Z"
      },
      {
        "duration": 186,
        "start_time": "2023-02-01T13:19:47.851Z"
      },
      {
        "duration": 19,
        "start_time": "2023-02-01T13:19:48.039Z"
      },
      {
        "duration": 155,
        "start_time": "2023-02-01T13:19:48.060Z"
      },
      {
        "duration": 123,
        "start_time": "2023-02-01T13:19:48.217Z"
      },
      {
        "duration": 6,
        "start_time": "2023-02-01T13:19:48.342Z"
      },
      {
        "duration": 546,
        "start_time": "2023-02-01T13:19:48.349Z"
      },
      {
        "duration": 190,
        "start_time": "2023-02-01T13:19:48.897Z"
      },
      {
        "duration": 138,
        "start_time": "2023-02-01T13:19:49.088Z"
      },
      {
        "duration": 106,
        "start_time": "2023-02-01T13:19:49.228Z"
      },
      {
        "duration": 87,
        "start_time": "2023-02-01T13:19:49.335Z"
      },
      {
        "duration": 78,
        "start_time": "2023-02-01T13:19:49.424Z"
      },
      {
        "duration": 30,
        "start_time": "2023-02-01T13:19:49.503Z"
      },
      {
        "duration": 157,
        "start_time": "2023-02-01T13:19:49.535Z"
      },
      {
        "duration": 79,
        "start_time": "2023-02-01T13:19:49.693Z"
      },
      {
        "duration": 175,
        "start_time": "2023-02-01T13:19:49.774Z"
      },
      {
        "duration": 19,
        "start_time": "2023-02-01T13:19:49.951Z"
      },
      {
        "duration": 14,
        "start_time": "2023-02-01T13:19:49.972Z"
      },
      {
        "duration": 39,
        "start_time": "2023-02-01T13:19:49.988Z"
      },
      {
        "duration": 11,
        "start_time": "2023-02-01T13:19:50.029Z"
      },
      {
        "duration": 18,
        "start_time": "2023-02-01T13:19:50.041Z"
      },
      {
        "duration": 33,
        "start_time": "2023-02-01T13:19:50.061Z"
      },
      {
        "duration": 37,
        "start_time": "2023-02-01T13:19:50.096Z"
      },
      {
        "duration": 31,
        "start_time": "2023-02-01T13:19:50.135Z"
      },
      {
        "duration": 21,
        "start_time": "2023-02-01T13:19:50.168Z"
      },
      {
        "duration": 61,
        "start_time": "2023-02-01T13:19:50.191Z"
      },
      {
        "duration": 8,
        "start_time": "2023-02-01T13:19:50.254Z"
      },
      {
        "duration": 40,
        "start_time": "2023-02-01T13:19:50.264Z"
      },
      {
        "duration": 40,
        "start_time": "2023-02-01T13:19:50.306Z"
      },
      {
        "duration": 65,
        "start_time": "2023-02-01T13:19:50.349Z"
      },
      {
        "duration": 67,
        "start_time": "2023-02-01T13:19:50.416Z"
      },
      {
        "duration": 79,
        "start_time": "2023-02-01T13:21:41.093Z"
      },
      {
        "duration": 1469,
        "start_time": "2023-02-01T13:24:10.445Z"
      },
      {
        "duration": 79,
        "start_time": "2023-02-01T13:24:17.003Z"
      },
      {
        "duration": 0,
        "start_time": "2023-02-01T13:31:21.107Z"
      },
      {
        "duration": 1302,
        "start_time": "2023-02-01T13:31:29.174Z"
      },
      {
        "duration": 3,
        "start_time": "2023-02-01T13:31:30.478Z"
      },
      {
        "duration": 303,
        "start_time": "2023-02-01T13:31:30.483Z"
      },
      {
        "duration": 11,
        "start_time": "2023-02-01T13:31:30.788Z"
      },
      {
        "duration": 41,
        "start_time": "2023-02-01T13:31:30.801Z"
      },
      {
        "duration": 27,
        "start_time": "2023-02-01T13:31:30.843Z"
      },
      {
        "duration": 39,
        "start_time": "2023-02-01T13:31:30.871Z"
      },
      {
        "duration": 74,
        "start_time": "2023-02-01T13:31:30.911Z"
      },
      {
        "duration": 34,
        "start_time": "2023-02-01T13:31:30.987Z"
      },
      {
        "duration": 135,
        "start_time": "2023-02-01T13:31:31.023Z"
      },
      {
        "duration": 31,
        "start_time": "2023-02-01T13:31:31.160Z"
      },
      {
        "duration": 59,
        "start_time": "2023-02-01T13:31:31.192Z"
      },
      {
        "duration": 85,
        "start_time": "2023-02-01T13:31:31.253Z"
      },
      {
        "duration": 68,
        "start_time": "2023-02-01T13:31:31.342Z"
      },
      {
        "duration": 73,
        "start_time": "2023-02-01T13:31:31.412Z"
      },
      {
        "duration": 27,
        "start_time": "2023-02-01T13:31:31.487Z"
      },
      {
        "duration": 31,
        "start_time": "2023-02-01T13:31:31.521Z"
      },
      {
        "duration": 17,
        "start_time": "2023-02-01T13:31:31.557Z"
      },
      {
        "duration": 27,
        "start_time": "2023-02-01T13:31:31.576Z"
      },
      {
        "duration": 28,
        "start_time": "2023-02-01T13:31:31.605Z"
      },
      {
        "duration": 103,
        "start_time": "2023-02-01T13:31:31.634Z"
      },
      {
        "duration": 36,
        "start_time": "2023-02-01T13:31:31.738Z"
      },
      {
        "duration": 391,
        "start_time": "2023-02-01T13:31:31.776Z"
      },
      {
        "duration": 6,
        "start_time": "2023-02-01T13:31:32.169Z"
      },
      {
        "duration": 244,
        "start_time": "2023-02-01T13:31:32.177Z"
      },
      {
        "duration": 220,
        "start_time": "2023-02-01T13:31:32.422Z"
      },
      {
        "duration": 21,
        "start_time": "2023-02-01T13:31:32.645Z"
      },
      {
        "duration": 3720,
        "start_time": "2023-02-01T13:31:32.667Z"
      },
      {
        "duration": 169,
        "start_time": "2023-02-01T13:31:36.388Z"
      },
      {
        "duration": 16,
        "start_time": "2023-02-01T13:31:36.558Z"
      },
      {
        "duration": 134,
        "start_time": "2023-02-01T13:31:36.576Z"
      },
      {
        "duration": 116,
        "start_time": "2023-02-01T13:31:36.711Z"
      },
      {
        "duration": 5,
        "start_time": "2023-02-01T13:31:36.828Z"
      },
      {
        "duration": 534,
        "start_time": "2023-02-01T13:31:36.834Z"
      },
      {
        "duration": 193,
        "start_time": "2023-02-01T13:31:37.371Z"
      },
      {
        "duration": 114,
        "start_time": "2023-02-01T13:31:37.566Z"
      },
      {
        "duration": 100,
        "start_time": "2023-02-01T13:31:37.682Z"
      },
      {
        "duration": 91,
        "start_time": "2023-02-01T13:31:37.784Z"
      },
      {
        "duration": 74,
        "start_time": "2023-02-01T13:31:37.877Z"
      },
      {
        "duration": 16,
        "start_time": "2023-02-01T13:31:37.953Z"
      },
      {
        "duration": 168,
        "start_time": "2023-02-01T13:31:37.975Z"
      },
      {
        "duration": 83,
        "start_time": "2023-02-01T13:31:38.145Z"
      },
      {
        "duration": 179,
        "start_time": "2023-02-01T13:31:38.230Z"
      },
      {
        "duration": 22,
        "start_time": "2023-02-01T13:31:38.411Z"
      },
      {
        "duration": 12,
        "start_time": "2023-02-01T13:31:38.435Z"
      },
      {
        "duration": 41,
        "start_time": "2023-02-01T13:31:38.448Z"
      },
      {
        "duration": 16,
        "start_time": "2023-02-01T13:31:38.490Z"
      },
      {
        "duration": 7,
        "start_time": "2023-02-01T13:31:38.507Z"
      },
      {
        "duration": 7,
        "start_time": "2023-02-01T13:31:38.515Z"
      },
      {
        "duration": 28,
        "start_time": "2023-02-01T13:31:38.524Z"
      },
      {
        "duration": 11,
        "start_time": "2023-02-01T13:31:38.553Z"
      },
      {
        "duration": 24,
        "start_time": "2023-02-01T13:31:38.566Z"
      },
      {
        "duration": 34,
        "start_time": "2023-02-01T13:31:38.592Z"
      },
      {
        "duration": 8,
        "start_time": "2023-02-01T13:31:38.630Z"
      },
      {
        "duration": 11,
        "start_time": "2023-02-01T13:31:38.640Z"
      },
      {
        "duration": 57,
        "start_time": "2023-02-01T13:31:38.653Z"
      },
      {
        "duration": 56,
        "start_time": "2023-02-01T13:31:38.712Z"
      },
      {
        "duration": 79,
        "start_time": "2023-02-01T13:31:38.769Z"
      },
      {
        "duration": 111,
        "start_time": "2023-02-01T13:32:34.139Z"
      },
      {
        "duration": 77,
        "start_time": "2023-02-01T13:32:41.895Z"
      },
      {
        "duration": 1549,
        "start_time": "2023-02-01T13:46:29.937Z"
      },
      {
        "duration": 3,
        "start_time": "2023-02-01T13:46:31.489Z"
      },
      {
        "duration": 1088,
        "start_time": "2023-02-01T13:46:31.493Z"
      },
      {
        "duration": 13,
        "start_time": "2023-02-01T13:46:32.583Z"
      },
      {
        "duration": 18,
        "start_time": "2023-02-01T13:46:32.599Z"
      },
      {
        "duration": 11,
        "start_time": "2023-02-01T13:46:32.619Z"
      },
      {
        "duration": 12,
        "start_time": "2023-02-01T13:46:32.632Z"
      },
      {
        "duration": 44,
        "start_time": "2023-02-01T13:46:32.645Z"
      },
      {
        "duration": 31,
        "start_time": "2023-02-01T13:46:32.691Z"
      },
      {
        "duration": 141,
        "start_time": "2023-02-01T13:46:32.724Z"
      },
      {
        "duration": 60,
        "start_time": "2023-02-01T13:46:32.866Z"
      },
      {
        "duration": 39,
        "start_time": "2023-02-01T13:46:32.928Z"
      },
      {
        "duration": 82,
        "start_time": "2023-02-01T13:46:32.969Z"
      },
      {
        "duration": 76,
        "start_time": "2023-02-01T13:46:33.054Z"
      },
      {
        "duration": 71,
        "start_time": "2023-02-01T13:46:33.132Z"
      },
      {
        "duration": 34,
        "start_time": "2023-02-01T13:46:33.205Z"
      },
      {
        "duration": 26,
        "start_time": "2023-02-01T13:46:33.241Z"
      },
      {
        "duration": 18,
        "start_time": "2023-02-01T13:46:33.268Z"
      },
      {
        "duration": 43,
        "start_time": "2023-02-01T13:46:33.288Z"
      },
      {
        "duration": 19,
        "start_time": "2023-02-01T13:46:33.333Z"
      },
      {
        "duration": 116,
        "start_time": "2023-02-01T13:46:33.354Z"
      },
      {
        "duration": 49,
        "start_time": "2023-02-01T13:46:33.472Z"
      },
      {
        "duration": 405,
        "start_time": "2023-02-01T13:46:33.523Z"
      },
      {
        "duration": 7,
        "start_time": "2023-02-01T13:46:33.929Z"
      },
      {
        "duration": 248,
        "start_time": "2023-02-01T13:46:33.938Z"
      },
      {
        "duration": 239,
        "start_time": "2023-02-01T13:46:34.189Z"
      },
      {
        "duration": 20,
        "start_time": "2023-02-01T13:46:34.430Z"
      },
      {
        "duration": 3904,
        "start_time": "2023-02-01T13:46:34.452Z"
      },
      {
        "duration": 179,
        "start_time": "2023-02-01T13:46:38.358Z"
      },
      {
        "duration": 19,
        "start_time": "2023-02-01T13:46:38.539Z"
      },
      {
        "duration": 150,
        "start_time": "2023-02-01T13:46:38.559Z"
      },
      {
        "duration": 116,
        "start_time": "2023-02-01T13:46:38.711Z"
      },
      {
        "duration": 5,
        "start_time": "2023-02-01T13:46:38.829Z"
      },
      {
        "duration": 556,
        "start_time": "2023-02-01T13:46:38.835Z"
      },
      {
        "duration": 179,
        "start_time": "2023-02-01T13:46:39.393Z"
      },
      {
        "duration": 117,
        "start_time": "2023-02-01T13:46:39.574Z"
      },
      {
        "duration": 98,
        "start_time": "2023-02-01T13:46:39.693Z"
      },
      {
        "duration": 83,
        "start_time": "2023-02-01T13:46:39.793Z"
      },
      {
        "duration": 82,
        "start_time": "2023-02-01T13:46:39.877Z"
      },
      {
        "duration": 15,
        "start_time": "2023-02-01T13:46:39.961Z"
      },
      {
        "duration": 158,
        "start_time": "2023-02-01T13:46:39.980Z"
      },
      {
        "duration": 81,
        "start_time": "2023-02-01T13:46:40.140Z"
      },
      {
        "duration": 177,
        "start_time": "2023-02-01T13:46:40.223Z"
      },
      {
        "duration": 24,
        "start_time": "2023-02-01T13:46:40.402Z"
      },
      {
        "duration": 14,
        "start_time": "2023-02-01T13:46:40.427Z"
      },
      {
        "duration": 16,
        "start_time": "2023-02-01T13:46:40.443Z"
      },
      {
        "duration": 11,
        "start_time": "2023-02-01T13:46:40.461Z"
      },
      {
        "duration": 7,
        "start_time": "2023-02-01T13:46:40.473Z"
      },
      {
        "duration": 42,
        "start_time": "2023-02-01T13:46:40.481Z"
      },
      {
        "duration": 18,
        "start_time": "2023-02-01T13:46:40.526Z"
      },
      {
        "duration": 7,
        "start_time": "2023-02-01T13:46:40.546Z"
      },
      {
        "duration": 6,
        "start_time": "2023-02-01T13:46:40.555Z"
      },
      {
        "duration": 58,
        "start_time": "2023-02-01T13:46:40.563Z"
      },
      {
        "duration": 9,
        "start_time": "2023-02-01T13:46:40.623Z"
      },
      {
        "duration": 14,
        "start_time": "2023-02-01T13:46:40.634Z"
      },
      {
        "duration": 17,
        "start_time": "2023-02-01T13:46:40.650Z"
      },
      {
        "duration": 60,
        "start_time": "2023-02-01T13:46:40.669Z"
      },
      {
        "duration": 94,
        "start_time": "2023-02-01T13:46:40.731Z"
      },
      {
        "duration": 5,
        "start_time": "2023-02-01T13:46:40.827Z"
      },
      {
        "duration": 7,
        "start_time": "2023-02-01T13:47:39.291Z"
      },
      {
        "duration": 7,
        "start_time": "2023-02-01T13:49:00.123Z"
      },
      {
        "duration": 6,
        "start_time": "2023-02-01T13:49:12.677Z"
      },
      {
        "duration": 7,
        "start_time": "2023-02-01T13:49:29.289Z"
      },
      {
        "duration": 64,
        "start_time": "2023-02-01T13:53:20.892Z"
      },
      {
        "duration": 60,
        "start_time": "2023-02-01T13:53:49.772Z"
      },
      {
        "duration": 59,
        "start_time": "2023-02-01T14:01:38.277Z"
      },
      {
        "duration": 34,
        "start_time": "2023-02-01T14:02:44.491Z"
      },
      {
        "duration": 32,
        "start_time": "2023-02-01T14:03:48.781Z"
      },
      {
        "duration": 35,
        "start_time": "2023-02-01T14:03:56.781Z"
      },
      {
        "duration": 169,
        "start_time": "2023-02-01T14:09:36.888Z"
      },
      {
        "duration": 33,
        "start_time": "2023-02-01T14:09:41.699Z"
      },
      {
        "duration": 4,
        "start_time": "2023-02-01T14:09:42.505Z"
      },
      {
        "duration": 31,
        "start_time": "2023-02-01T14:10:41.490Z"
      },
      {
        "duration": 5,
        "start_time": "2023-02-01T14:11:50.283Z"
      },
      {
        "duration": 5,
        "start_time": "2023-02-01T14:14:09.478Z"
      },
      {
        "duration": 54,
        "start_time": "2023-02-01T14:19:20.665Z"
      },
      {
        "duration": 31,
        "start_time": "2023-02-01T14:19:41.664Z"
      },
      {
        "duration": 4,
        "start_time": "2023-02-01T14:20:03.560Z"
      },
      {
        "duration": 52,
        "start_time": "2023-02-01T14:22:04.922Z"
      },
      {
        "duration": 4,
        "start_time": "2023-02-01T14:23:44.517Z"
      },
      {
        "duration": 5,
        "start_time": "2023-02-01T14:24:29.005Z"
      },
      {
        "duration": 56,
        "start_time": "2023-02-01T14:32:56.483Z"
      },
      {
        "duration": 33,
        "start_time": "2023-02-01T14:32:57.766Z"
      },
      {
        "duration": 4,
        "start_time": "2023-02-01T14:33:00.763Z"
      },
      {
        "duration": 1386,
        "start_time": "2023-02-02T08:23:18.702Z"
      },
      {
        "duration": 3,
        "start_time": "2023-02-02T08:23:20.090Z"
      },
      {
        "duration": 853,
        "start_time": "2023-02-02T08:23:20.094Z"
      },
      {
        "duration": 12,
        "start_time": "2023-02-02T08:23:20.949Z"
      },
      {
        "duration": 22,
        "start_time": "2023-02-02T08:23:20.962Z"
      },
      {
        "duration": 9,
        "start_time": "2023-02-02T08:23:20.986Z"
      },
      {
        "duration": 12,
        "start_time": "2023-02-02T08:23:20.997Z"
      },
      {
        "duration": 38,
        "start_time": "2023-02-02T08:23:21.011Z"
      },
      {
        "duration": 19,
        "start_time": "2023-02-02T08:23:21.050Z"
      },
      {
        "duration": 113,
        "start_time": "2023-02-02T08:23:21.071Z"
      },
      {
        "duration": 36,
        "start_time": "2023-02-02T08:23:21.185Z"
      },
      {
        "duration": 70,
        "start_time": "2023-02-02T08:23:21.223Z"
      },
      {
        "duration": 65,
        "start_time": "2023-02-02T08:23:21.295Z"
      },
      {
        "duration": 80,
        "start_time": "2023-02-02T08:23:21.362Z"
      },
      {
        "duration": 77,
        "start_time": "2023-02-02T08:23:21.444Z"
      },
      {
        "duration": 23,
        "start_time": "2023-02-02T08:23:21.523Z"
      },
      {
        "duration": 27,
        "start_time": "2023-02-02T08:23:21.548Z"
      },
      {
        "duration": 28,
        "start_time": "2023-02-02T08:23:21.577Z"
      },
      {
        "duration": 19,
        "start_time": "2023-02-02T08:23:21.607Z"
      },
      {
        "duration": 30,
        "start_time": "2023-02-02T08:23:21.628Z"
      },
      {
        "duration": 108,
        "start_time": "2023-02-02T08:23:21.660Z"
      },
      {
        "duration": 43,
        "start_time": "2023-02-02T08:23:21.770Z"
      },
      {
        "duration": 384,
        "start_time": "2023-02-02T08:23:21.815Z"
      },
      {
        "duration": 7,
        "start_time": "2023-02-02T08:23:22.201Z"
      },
      {
        "duration": 249,
        "start_time": "2023-02-02T08:23:22.209Z"
      },
      {
        "duration": 211,
        "start_time": "2023-02-02T08:23:22.460Z"
      },
      {
        "duration": 23,
        "start_time": "2023-02-02T08:23:22.672Z"
      },
      {
        "duration": 3700,
        "start_time": "2023-02-02T08:23:22.698Z"
      },
      {
        "duration": 160,
        "start_time": "2023-02-02T08:23:26.400Z"
      },
      {
        "duration": 16,
        "start_time": "2023-02-02T08:23:26.561Z"
      },
      {
        "duration": 138,
        "start_time": "2023-02-02T08:23:26.579Z"
      },
      {
        "duration": 114,
        "start_time": "2023-02-02T08:23:26.719Z"
      },
      {
        "duration": 4,
        "start_time": "2023-02-02T08:23:26.834Z"
      },
      {
        "duration": 532,
        "start_time": "2023-02-02T08:23:26.839Z"
      },
      {
        "duration": 162,
        "start_time": "2023-02-02T08:23:27.372Z"
      },
      {
        "duration": 110,
        "start_time": "2023-02-02T08:23:27.535Z"
      },
      {
        "duration": 108,
        "start_time": "2023-02-02T08:23:27.646Z"
      },
      {
        "duration": 74,
        "start_time": "2023-02-02T08:23:27.755Z"
      },
      {
        "duration": 71,
        "start_time": "2023-02-02T08:23:27.831Z"
      },
      {
        "duration": 14,
        "start_time": "2023-02-02T08:23:27.903Z"
      },
      {
        "duration": 157,
        "start_time": "2023-02-02T08:23:27.918Z"
      },
      {
        "duration": 64,
        "start_time": "2023-02-02T08:23:28.077Z"
      },
      {
        "duration": 154,
        "start_time": "2023-02-02T08:23:28.142Z"
      },
      {
        "duration": 16,
        "start_time": "2023-02-02T08:23:28.297Z"
      },
      {
        "duration": 11,
        "start_time": "2023-02-02T08:23:28.315Z"
      },
      {
        "duration": 15,
        "start_time": "2023-02-02T08:23:28.328Z"
      },
      {
        "duration": 9,
        "start_time": "2023-02-02T08:23:28.345Z"
      },
      {
        "duration": 37,
        "start_time": "2023-02-02T08:23:28.356Z"
      },
      {
        "duration": 28,
        "start_time": "2023-02-02T08:23:28.395Z"
      },
      {
        "duration": 43,
        "start_time": "2023-02-02T08:23:28.424Z"
      },
      {
        "duration": 17,
        "start_time": "2023-02-02T08:23:28.469Z"
      },
      {
        "duration": 14,
        "start_time": "2023-02-02T08:23:28.487Z"
      },
      {
        "duration": 80,
        "start_time": "2023-02-02T08:23:28.503Z"
      },
      {
        "duration": 29,
        "start_time": "2023-02-02T08:23:28.584Z"
      },
      {
        "duration": 15,
        "start_time": "2023-02-02T08:23:28.615Z"
      },
      {
        "duration": 48,
        "start_time": "2023-02-02T08:26:13.848Z"
      },
      {
        "duration": 27,
        "start_time": "2023-02-02T08:26:15.246Z"
      },
      {
        "duration": 50,
        "start_time": "2023-02-02T08:26:18.974Z"
      },
      {
        "duration": 30,
        "start_time": "2023-02-02T08:26:20.141Z"
      },
      {
        "duration": 1602,
        "start_time": "2023-02-02T11:00:19.710Z"
      },
      {
        "duration": 4,
        "start_time": "2023-02-02T11:00:21.314Z"
      },
      {
        "duration": 839,
        "start_time": "2023-02-02T11:00:21.319Z"
      },
      {
        "duration": 12,
        "start_time": "2023-02-02T11:00:22.160Z"
      },
      {
        "duration": 23,
        "start_time": "2023-02-02T11:00:22.174Z"
      },
      {
        "duration": 44,
        "start_time": "2023-02-02T11:00:22.199Z"
      },
      {
        "duration": 20,
        "start_time": "2023-02-02T11:00:22.245Z"
      },
      {
        "duration": 59,
        "start_time": "2023-02-02T11:00:22.267Z"
      },
      {
        "duration": 24,
        "start_time": "2023-02-02T11:00:22.327Z"
      },
      {
        "duration": 135,
        "start_time": "2023-02-02T11:00:22.354Z"
      },
      {
        "duration": 51,
        "start_time": "2023-02-02T11:00:22.491Z"
      },
      {
        "duration": 72,
        "start_time": "2023-02-02T11:00:22.544Z"
      },
      {
        "duration": 70,
        "start_time": "2023-02-02T11:00:22.618Z"
      },
      {
        "duration": 73,
        "start_time": "2023-02-02T11:00:22.690Z"
      },
      {
        "duration": 74,
        "start_time": "2023-02-02T11:00:22.764Z"
      },
      {
        "duration": 35,
        "start_time": "2023-02-02T11:00:22.840Z"
      },
      {
        "duration": 41,
        "start_time": "2023-02-02T11:00:22.876Z"
      },
      {
        "duration": 54,
        "start_time": "2023-02-02T11:00:22.919Z"
      },
      {
        "duration": 49,
        "start_time": "2023-02-02T11:00:22.975Z"
      },
      {
        "duration": 44,
        "start_time": "2023-02-02T11:00:23.025Z"
      },
      {
        "duration": 137,
        "start_time": "2023-02-02T11:00:23.070Z"
      },
      {
        "duration": 61,
        "start_time": "2023-02-02T11:00:23.209Z"
      },
      {
        "duration": 407,
        "start_time": "2023-02-02T11:00:23.272Z"
      },
      {
        "duration": 7,
        "start_time": "2023-02-02T11:00:23.680Z"
      },
      {
        "duration": 288,
        "start_time": "2023-02-02T11:00:23.689Z"
      },
      {
        "duration": 219,
        "start_time": "2023-02-02T11:00:23.979Z"
      },
      {
        "duration": 24,
        "start_time": "2023-02-02T11:00:24.200Z"
      },
      {
        "duration": 3542,
        "start_time": "2023-02-02T11:00:24.229Z"
      },
      {
        "duration": 174,
        "start_time": "2023-02-02T11:00:27.773Z"
      },
      {
        "duration": 24,
        "start_time": "2023-02-02T11:00:27.949Z"
      },
      {
        "duration": 168,
        "start_time": "2023-02-02T11:00:27.975Z"
      },
      {
        "duration": 110,
        "start_time": "2023-02-02T11:00:28.145Z"
      },
      {
        "duration": 4,
        "start_time": "2023-02-02T11:00:28.257Z"
      },
      {
        "duration": 563,
        "start_time": "2023-02-02T11:00:28.263Z"
      },
      {
        "duration": 235,
        "start_time": "2023-02-02T11:00:28.829Z"
      },
      {
        "duration": 127,
        "start_time": "2023-02-02T11:00:29.066Z"
      },
      {
        "duration": 101,
        "start_time": "2023-02-02T11:00:29.194Z"
      },
      {
        "duration": 74,
        "start_time": "2023-02-02T11:00:29.310Z"
      },
      {
        "duration": 102,
        "start_time": "2023-02-02T11:00:29.386Z"
      },
      {
        "duration": 15,
        "start_time": "2023-02-02T11:00:29.490Z"
      },
      {
        "duration": 174,
        "start_time": "2023-02-02T11:00:29.513Z"
      },
      {
        "duration": 80,
        "start_time": "2023-02-02T11:00:29.689Z"
      },
      {
        "duration": 175,
        "start_time": "2023-02-02T11:00:29.771Z"
      },
      {
        "duration": 16,
        "start_time": "2023-02-02T11:00:29.948Z"
      },
      {
        "duration": 12,
        "start_time": "2023-02-02T11:00:29.967Z"
      },
      {
        "duration": 43,
        "start_time": "2023-02-02T11:00:29.981Z"
      },
      {
        "duration": 10,
        "start_time": "2023-02-02T11:00:30.026Z"
      },
      {
        "duration": 6,
        "start_time": "2023-02-02T11:00:30.037Z"
      },
      {
        "duration": 9,
        "start_time": "2023-02-02T11:00:30.045Z"
      },
      {
        "duration": 41,
        "start_time": "2023-02-02T11:00:30.056Z"
      },
      {
        "duration": 15,
        "start_time": "2023-02-02T11:00:30.100Z"
      },
      {
        "duration": 42,
        "start_time": "2023-02-02T11:00:30.117Z"
      },
      {
        "duration": 88,
        "start_time": "2023-02-02T11:00:30.161Z"
      },
      {
        "duration": 31,
        "start_time": "2023-02-02T11:00:30.250Z"
      },
      {
        "duration": 18,
        "start_time": "2023-02-02T11:00:30.283Z"
      },
      {
        "duration": 756,
        "start_time": "2023-02-02T11:14:28.095Z"
      },
      {
        "duration": 859,
        "start_time": "2023-02-02T11:14:36.146Z"
      },
      {
        "duration": 195,
        "start_time": "2023-02-02T11:15:05.771Z"
      },
      {
        "duration": 773,
        "start_time": "2023-02-02T11:15:41.657Z"
      },
      {
        "duration": 46,
        "start_time": "2023-02-02T11:21:30.368Z"
      },
      {
        "duration": 48,
        "start_time": "2023-02-02T11:21:57.689Z"
      },
      {
        "duration": 698,
        "start_time": "2023-02-02T11:33:41.264Z"
      },
      {
        "duration": 48,
        "start_time": "2023-02-02T11:34:12.379Z"
      },
      {
        "duration": 49,
        "start_time": "2023-02-02T11:47:37.581Z"
      },
      {
        "duration": 47,
        "start_time": "2023-02-02T11:48:04.620Z"
      },
      {
        "duration": 50,
        "start_time": "2023-02-02T11:51:29.736Z"
      },
      {
        "duration": 48,
        "start_time": "2023-02-02T11:52:36.453Z"
      },
      {
        "duration": 75,
        "start_time": "2023-02-02T11:56:18.592Z"
      },
      {
        "duration": 50,
        "start_time": "2023-02-02T12:04:51.084Z"
      },
      {
        "duration": 47,
        "start_time": "2023-02-02T12:10:52.654Z"
      },
      {
        "duration": 47,
        "start_time": "2023-02-02T12:25:18.867Z"
      },
      {
        "duration": 52,
        "start_time": "2023-02-02T12:31:43.777Z"
      },
      {
        "duration": 51,
        "start_time": "2023-02-02T12:31:47.696Z"
      },
      {
        "duration": 54,
        "start_time": "2023-02-02T12:32:31.607Z"
      },
      {
        "duration": 76,
        "start_time": "2023-02-02T12:33:59.368Z"
      },
      {
        "duration": 45,
        "start_time": "2023-02-02T12:34:15.679Z"
      },
      {
        "duration": 52,
        "start_time": "2023-02-02T12:34:48.773Z"
      },
      {
        "duration": 52,
        "start_time": "2023-02-02T12:34:55.353Z"
      },
      {
        "duration": 54,
        "start_time": "2023-02-02T12:35:14.983Z"
      },
      {
        "duration": 1357,
        "start_time": "2023-02-02T14:29:31.033Z"
      },
      {
        "duration": 3,
        "start_time": "2023-02-02T14:29:32.392Z"
      },
      {
        "duration": 857,
        "start_time": "2023-02-02T14:29:32.396Z"
      },
      {
        "duration": 12,
        "start_time": "2023-02-02T14:29:33.255Z"
      },
      {
        "duration": 45,
        "start_time": "2023-02-02T14:29:33.268Z"
      },
      {
        "duration": 16,
        "start_time": "2023-02-02T14:29:33.315Z"
      },
      {
        "duration": 35,
        "start_time": "2023-02-02T14:29:33.332Z"
      },
      {
        "duration": 55,
        "start_time": "2023-02-02T14:29:33.368Z"
      },
      {
        "duration": 13,
        "start_time": "2023-02-02T14:29:33.425Z"
      },
      {
        "duration": 109,
        "start_time": "2023-02-02T14:29:33.440Z"
      },
      {
        "duration": 39,
        "start_time": "2023-02-02T14:29:33.551Z"
      },
      {
        "duration": 37,
        "start_time": "2023-02-02T14:29:33.592Z"
      },
      {
        "duration": 79,
        "start_time": "2023-02-02T14:29:33.631Z"
      },
      {
        "duration": 83,
        "start_time": "2023-02-02T14:29:33.712Z"
      },
      {
        "duration": 77,
        "start_time": "2023-02-02T14:29:33.797Z"
      },
      {
        "duration": 20,
        "start_time": "2023-02-02T14:29:33.876Z"
      },
      {
        "duration": 24,
        "start_time": "2023-02-02T14:29:33.898Z"
      },
      {
        "duration": 19,
        "start_time": "2023-02-02T14:29:33.924Z"
      },
      {
        "duration": 16,
        "start_time": "2023-02-02T14:29:33.967Z"
      },
      {
        "duration": 23,
        "start_time": "2023-02-02T14:29:33.984Z"
      },
      {
        "duration": 107,
        "start_time": "2023-02-02T14:29:34.008Z"
      },
      {
        "duration": 31,
        "start_time": "2023-02-02T14:29:34.117Z"
      },
      {
        "duration": 373,
        "start_time": "2023-02-02T14:29:34.150Z"
      },
      {
        "duration": 6,
        "start_time": "2023-02-02T14:29:34.525Z"
      },
      {
        "duration": 235,
        "start_time": "2023-02-02T14:29:34.532Z"
      },
      {
        "duration": 280,
        "start_time": "2023-02-02T14:29:34.769Z"
      },
      {
        "duration": 26,
        "start_time": "2023-02-02T14:29:35.051Z"
      },
      {
        "duration": 3614,
        "start_time": "2023-02-02T14:29:35.080Z"
      },
      {
        "duration": 166,
        "start_time": "2023-02-02T14:29:38.695Z"
      },
      {
        "duration": 15,
        "start_time": "2023-02-02T14:29:38.863Z"
      },
      {
        "duration": 137,
        "start_time": "2023-02-02T14:29:38.880Z"
      },
      {
        "duration": 105,
        "start_time": "2023-02-02T14:29:39.019Z"
      },
      {
        "duration": 5,
        "start_time": "2023-02-02T14:29:39.125Z"
      },
      {
        "duration": 466,
        "start_time": "2023-02-02T14:29:39.132Z"
      },
      {
        "duration": 130,
        "start_time": "2023-02-02T14:29:39.599Z"
      },
      {
        "duration": 103,
        "start_time": "2023-02-02T14:29:39.766Z"
      },
      {
        "duration": 78,
        "start_time": "2023-02-02T14:29:39.870Z"
      },
      {
        "duration": 86,
        "start_time": "2023-02-02T14:29:39.950Z"
      },
      {
        "duration": 90,
        "start_time": "2023-02-02T14:29:40.037Z"
      },
      {
        "duration": 14,
        "start_time": "2023-02-02T14:29:40.129Z"
      },
      {
        "duration": 159,
        "start_time": "2023-02-02T14:29:40.144Z"
      },
      {
        "duration": 71,
        "start_time": "2023-02-02T14:29:40.306Z"
      },
      {
        "duration": 156,
        "start_time": "2023-02-02T14:29:40.379Z"
      },
      {
        "duration": 15,
        "start_time": "2023-02-02T14:29:40.536Z"
      },
      {
        "duration": 23,
        "start_time": "2023-02-02T14:29:40.553Z"
      },
      {
        "duration": 14,
        "start_time": "2023-02-02T14:29:40.577Z"
      },
      {
        "duration": 9,
        "start_time": "2023-02-02T14:29:40.592Z"
      },
      {
        "duration": 5,
        "start_time": "2023-02-02T14:29:40.602Z"
      },
      {
        "duration": 5,
        "start_time": "2023-02-02T14:29:40.609Z"
      },
      {
        "duration": 12,
        "start_time": "2023-02-02T14:29:40.616Z"
      },
      {
        "duration": 39,
        "start_time": "2023-02-02T14:29:40.630Z"
      },
      {
        "duration": 5,
        "start_time": "2023-02-02T14:29:40.671Z"
      },
      {
        "duration": 188,
        "start_time": "2023-02-02T14:29:40.677Z"
      },
      {
        "duration": 0,
        "start_time": "2023-02-02T14:29:40.867Z"
      },
      {
        "duration": 0,
        "start_time": "2023-02-02T14:29:40.868Z"
      },
      {
        "duration": 45,
        "start_time": "2023-02-02T14:30:02.390Z"
      },
      {
        "duration": 40,
        "start_time": "2023-02-02T14:31:09.696Z"
      },
      {
        "duration": 41,
        "start_time": "2023-02-02T14:33:42.828Z"
      },
      {
        "duration": 33,
        "start_time": "2023-02-02T14:34:03.225Z"
      },
      {
        "duration": 39,
        "start_time": "2023-02-02T14:34:08.920Z"
      },
      {
        "duration": 42,
        "start_time": "2023-02-02T14:34:32.100Z"
      },
      {
        "duration": 40,
        "start_time": "2023-02-02T14:40:06.934Z"
      },
      {
        "duration": 50,
        "start_time": "2023-02-02T14:40:55.375Z"
      },
      {
        "duration": 37,
        "start_time": "2023-02-02T14:51:37.212Z"
      },
      {
        "duration": 46,
        "start_time": "2023-02-02T14:51:44.661Z"
      },
      {
        "duration": 57,
        "start_time": "2023-02-02T14:51:56.787Z"
      },
      {
        "duration": 85,
        "start_time": "2023-02-02T14:52:25.571Z"
      },
      {
        "duration": 51,
        "start_time": "2023-02-02T14:52:38.860Z"
      },
      {
        "duration": 128,
        "start_time": "2023-02-02T14:55:03.736Z"
      },
      {
        "duration": 1338,
        "start_time": "2023-02-02T15:43:51.574Z"
      },
      {
        "duration": 3,
        "start_time": "2023-02-02T15:43:52.915Z"
      },
      {
        "duration": 870,
        "start_time": "2023-02-02T15:43:52.920Z"
      },
      {
        "duration": 13,
        "start_time": "2023-02-02T15:43:53.793Z"
      },
      {
        "duration": 76,
        "start_time": "2023-02-02T15:43:53.807Z"
      },
      {
        "duration": 19,
        "start_time": "2023-02-02T15:43:53.884Z"
      },
      {
        "duration": 34,
        "start_time": "2023-02-02T15:43:53.905Z"
      },
      {
        "duration": 44,
        "start_time": "2023-02-02T15:43:53.941Z"
      },
      {
        "duration": 19,
        "start_time": "2023-02-02T15:43:53.987Z"
      },
      {
        "duration": 119,
        "start_time": "2023-02-02T15:43:54.009Z"
      },
      {
        "duration": 30,
        "start_time": "2023-02-02T15:43:54.130Z"
      },
      {
        "duration": 36,
        "start_time": "2023-02-02T15:43:54.161Z"
      },
      {
        "duration": 83,
        "start_time": "2023-02-02T15:43:54.198Z"
      },
      {
        "duration": 74,
        "start_time": "2023-02-02T15:43:54.283Z"
      },
      {
        "duration": 58,
        "start_time": "2023-02-02T15:43:54.359Z"
      },
      {
        "duration": 20,
        "start_time": "2023-02-02T15:43:54.427Z"
      },
      {
        "duration": 51,
        "start_time": "2023-02-02T15:43:54.448Z"
      },
      {
        "duration": 27,
        "start_time": "2023-02-02T15:43:54.501Z"
      },
      {
        "duration": 19,
        "start_time": "2023-02-02T15:43:54.530Z"
      },
      {
        "duration": 36,
        "start_time": "2023-02-02T15:43:54.551Z"
      },
      {
        "duration": 97,
        "start_time": "2023-02-02T15:43:54.589Z"
      },
      {
        "duration": 39,
        "start_time": "2023-02-02T15:43:54.688Z"
      },
      {
        "duration": 352,
        "start_time": "2023-02-02T15:43:54.728Z"
      },
      {
        "duration": 6,
        "start_time": "2023-02-02T15:43:55.082Z"
      },
      {
        "duration": 267,
        "start_time": "2023-02-02T15:43:55.090Z"
      },
      {
        "duration": 205,
        "start_time": "2023-02-02T15:43:55.359Z"
      },
      {
        "duration": 19,
        "start_time": "2023-02-02T15:43:55.566Z"
      },
      {
        "duration": 3496,
        "start_time": "2023-02-02T15:43:55.588Z"
      },
      {
        "duration": 174,
        "start_time": "2023-02-02T15:43:59.085Z"
      },
      {
        "duration": 15,
        "start_time": "2023-02-02T15:43:59.261Z"
      },
      {
        "duration": 131,
        "start_time": "2023-02-02T15:43:59.278Z"
      },
      {
        "duration": 107,
        "start_time": "2023-02-02T15:43:59.411Z"
      },
      {
        "duration": 9,
        "start_time": "2023-02-02T15:43:59.520Z"
      },
      {
        "duration": 496,
        "start_time": "2023-02-02T15:43:59.530Z"
      },
      {
        "duration": 147,
        "start_time": "2023-02-02T15:44:00.028Z"
      },
      {
        "duration": 110,
        "start_time": "2023-02-02T15:44:00.177Z"
      },
      {
        "duration": 107,
        "start_time": "2023-02-02T15:44:00.289Z"
      },
      {
        "duration": 96,
        "start_time": "2023-02-02T15:44:00.399Z"
      },
      {
        "duration": 89,
        "start_time": "2023-02-02T15:44:00.497Z"
      },
      {
        "duration": 15,
        "start_time": "2023-02-02T15:44:00.588Z"
      },
      {
        "duration": 179,
        "start_time": "2023-02-02T15:44:00.604Z"
      },
      {
        "duration": 68,
        "start_time": "2023-02-02T15:44:00.785Z"
      },
      {
        "duration": 176,
        "start_time": "2023-02-02T15:44:00.855Z"
      },
      {
        "duration": 16,
        "start_time": "2023-02-02T15:44:01.033Z"
      },
      {
        "duration": 51,
        "start_time": "2023-02-02T15:44:01.051Z"
      },
      {
        "duration": 43,
        "start_time": "2023-02-02T15:44:01.104Z"
      },
      {
        "duration": 28,
        "start_time": "2023-02-02T15:44:01.148Z"
      },
      {
        "duration": 47,
        "start_time": "2023-02-02T15:44:01.178Z"
      },
      {
        "duration": 117,
        "start_time": "2023-02-02T15:44:01.226Z"
      },
      {
        "duration": 52,
        "start_time": "2023-02-02T15:44:01.346Z"
      },
      {
        "duration": 26,
        "start_time": "2023-02-02T15:44:01.400Z"
      },
      {
        "duration": 47,
        "start_time": "2023-02-02T15:44:01.428Z"
      },
      {
        "duration": 207,
        "start_time": "2023-02-02T15:44:01.477Z"
      },
      {
        "duration": 0,
        "start_time": "2023-02-02T15:44:01.686Z"
      },
      {
        "duration": 0,
        "start_time": "2023-02-02T15:44:01.687Z"
      },
      {
        "duration": 0,
        "start_time": "2023-02-02T15:44:01.688Z"
      },
      {
        "duration": 51,
        "start_time": "2023-02-02T15:44:19.851Z"
      },
      {
        "duration": 39,
        "start_time": "2023-02-02T15:44:40.150Z"
      },
      {
        "duration": 48,
        "start_time": "2023-02-02T15:44:47.905Z"
      },
      {
        "duration": 51,
        "start_time": "2023-02-02T15:47:16.112Z"
      },
      {
        "duration": 56,
        "start_time": "2023-02-02T15:47:29.014Z"
      },
      {
        "duration": 47,
        "start_time": "2023-02-02T15:47:34.096Z"
      },
      {
        "duration": 51,
        "start_time": "2023-02-02T15:48:15.343Z"
      },
      {
        "duration": 49,
        "start_time": "2023-02-02T15:48:18.950Z"
      },
      {
        "duration": 46,
        "start_time": "2023-02-02T15:49:41.977Z"
      },
      {
        "duration": 52,
        "start_time": "2023-02-02T15:51:47.623Z"
      },
      {
        "duration": 50,
        "start_time": "2023-02-02T15:52:03.997Z"
      },
      {
        "duration": 48,
        "start_time": "2023-02-02T15:52:19.599Z"
      },
      {
        "duration": 54,
        "start_time": "2023-02-02T15:52:25.081Z"
      },
      {
        "duration": 49,
        "start_time": "2023-02-02T15:52:43.244Z"
      },
      {
        "duration": 46,
        "start_time": "2023-02-02T15:53:46.441Z"
      },
      {
        "duration": 48,
        "start_time": "2023-02-02T15:54:24.795Z"
      },
      {
        "duration": 1302,
        "start_time": "2023-02-02T15:54:59.097Z"
      },
      {
        "duration": 6,
        "start_time": "2023-02-02T15:55:00.402Z"
      },
      {
        "duration": 318,
        "start_time": "2023-02-02T15:55:00.410Z"
      },
      {
        "duration": 12,
        "start_time": "2023-02-02T15:55:00.730Z"
      },
      {
        "duration": 52,
        "start_time": "2023-02-02T15:55:00.744Z"
      },
      {
        "duration": 36,
        "start_time": "2023-02-02T15:55:00.797Z"
      },
      {
        "duration": 47,
        "start_time": "2023-02-02T15:55:00.835Z"
      },
      {
        "duration": 62,
        "start_time": "2023-02-02T15:55:00.883Z"
      },
      {
        "duration": 38,
        "start_time": "2023-02-02T15:55:00.948Z"
      },
      {
        "duration": 167,
        "start_time": "2023-02-02T15:55:00.988Z"
      },
      {
        "duration": 31,
        "start_time": "2023-02-02T15:55:01.156Z"
      },
      {
        "duration": 76,
        "start_time": "2023-02-02T15:55:01.189Z"
      },
      {
        "duration": 98,
        "start_time": "2023-02-02T15:55:01.267Z"
      },
      {
        "duration": 67,
        "start_time": "2023-02-02T15:55:01.367Z"
      },
      {
        "duration": 61,
        "start_time": "2023-02-02T15:55:01.435Z"
      },
      {
        "duration": 36,
        "start_time": "2023-02-02T15:55:01.498Z"
      },
      {
        "duration": 54,
        "start_time": "2023-02-02T15:55:01.536Z"
      },
      {
        "duration": 42,
        "start_time": "2023-02-02T15:55:01.592Z"
      },
      {
        "duration": 37,
        "start_time": "2023-02-02T15:55:01.635Z"
      },
      {
        "duration": 45,
        "start_time": "2023-02-02T15:55:01.673Z"
      },
      {
        "duration": 122,
        "start_time": "2023-02-02T15:55:01.719Z"
      },
      {
        "duration": 34,
        "start_time": "2023-02-02T15:55:01.843Z"
      },
      {
        "duration": 378,
        "start_time": "2023-02-02T15:55:01.879Z"
      },
      {
        "duration": 6,
        "start_time": "2023-02-02T15:55:02.259Z"
      },
      {
        "duration": 209,
        "start_time": "2023-02-02T15:55:02.266Z"
      },
      {
        "duration": 197,
        "start_time": "2023-02-02T15:55:02.477Z"
      },
      {
        "duration": 19,
        "start_time": "2023-02-02T15:55:02.676Z"
      },
      {
        "duration": 3417,
        "start_time": "2023-02-02T15:55:02.699Z"
      },
      {
        "duration": 171,
        "start_time": "2023-02-02T15:55:06.118Z"
      },
      {
        "duration": 18,
        "start_time": "2023-02-02T15:55:06.291Z"
      },
      {
        "duration": 165,
        "start_time": "2023-02-02T15:55:06.311Z"
      },
      {
        "duration": 110,
        "start_time": "2023-02-02T15:55:06.478Z"
      },
      {
        "duration": 4,
        "start_time": "2023-02-02T15:55:06.590Z"
      },
      {
        "duration": 516,
        "start_time": "2023-02-02T15:55:06.596Z"
      },
      {
        "duration": 156,
        "start_time": "2023-02-02T15:55:07.114Z"
      },
      {
        "duration": 110,
        "start_time": "2023-02-02T15:55:07.272Z"
      },
      {
        "duration": 102,
        "start_time": "2023-02-02T15:55:07.384Z"
      },
      {
        "duration": 80,
        "start_time": "2023-02-02T15:55:07.487Z"
      },
      {
        "duration": 75,
        "start_time": "2023-02-02T15:55:07.569Z"
      },
      {
        "duration": 15,
        "start_time": "2023-02-02T15:55:07.645Z"
      },
      {
        "duration": 69,
        "start_time": "2023-02-02T15:55:07.661Z"
      },
      {
        "duration": 64,
        "start_time": "2023-02-02T15:55:07.731Z"
      },
      {
        "duration": 248,
        "start_time": "2023-02-02T15:55:07.796Z"
      },
      {
        "duration": 16,
        "start_time": "2023-02-02T15:55:08.046Z"
      },
      {
        "duration": 12,
        "start_time": "2023-02-02T15:55:08.064Z"
      },
      {
        "duration": 34,
        "start_time": "2023-02-02T15:55:08.077Z"
      },
      {
        "duration": 34,
        "start_time": "2023-02-02T15:55:08.112Z"
      },
      {
        "duration": 11,
        "start_time": "2023-02-02T15:55:08.148Z"
      },
      {
        "duration": 8,
        "start_time": "2023-02-02T15:55:08.161Z"
      },
      {
        "duration": 32,
        "start_time": "2023-02-02T15:55:08.171Z"
      },
      {
        "duration": 8,
        "start_time": "2023-02-02T15:55:08.205Z"
      },
      {
        "duration": 22,
        "start_time": "2023-02-02T15:55:08.215Z"
      },
      {
        "duration": 199,
        "start_time": "2023-02-02T15:55:08.238Z"
      },
      {
        "duration": 0,
        "start_time": "2023-02-02T15:55:08.439Z"
      },
      {
        "duration": 0,
        "start_time": "2023-02-02T15:55:08.441Z"
      },
      {
        "duration": 0,
        "start_time": "2023-02-02T15:55:08.442Z"
      },
      {
        "duration": 49,
        "start_time": "2023-02-02T15:55:14.409Z"
      },
      {
        "duration": 61,
        "start_time": "2023-02-02T15:55:34.741Z"
      },
      {
        "duration": 57,
        "start_time": "2023-02-02T15:55:46.311Z"
      },
      {
        "duration": 58,
        "start_time": "2023-02-02T15:55:52.625Z"
      },
      {
        "duration": 48,
        "start_time": "2023-02-02T15:56:03.738Z"
      },
      {
        "duration": 49,
        "start_time": "2023-02-02T15:56:22.284Z"
      },
      {
        "duration": 48,
        "start_time": "2023-02-02T15:57:54.514Z"
      },
      {
        "duration": 55,
        "start_time": "2023-02-02T15:59:07.175Z"
      },
      {
        "duration": 57,
        "start_time": "2023-02-02T16:00:03.904Z"
      },
      {
        "duration": 34,
        "start_time": "2023-02-02T16:00:15.953Z"
      },
      {
        "duration": 4,
        "start_time": "2023-02-02T16:00:24.160Z"
      },
      {
        "duration": 50,
        "start_time": "2023-02-02T16:30:51.962Z"
      },
      {
        "duration": 1495,
        "start_time": "2023-02-02T16:30:59.247Z"
      },
      {
        "duration": 8,
        "start_time": "2023-02-02T16:31:00.745Z"
      },
      {
        "duration": 1220,
        "start_time": "2023-02-02T16:31:00.755Z"
      },
      {
        "duration": 11,
        "start_time": "2023-02-02T16:31:01.977Z"
      },
      {
        "duration": 54,
        "start_time": "2023-02-02T16:31:01.990Z"
      },
      {
        "duration": 61,
        "start_time": "2023-02-02T16:31:02.045Z"
      },
      {
        "duration": 79,
        "start_time": "2023-02-02T16:31:02.108Z"
      },
      {
        "duration": 54,
        "start_time": "2023-02-02T16:31:02.189Z"
      },
      {
        "duration": 61,
        "start_time": "2023-02-02T16:31:02.244Z"
      },
      {
        "duration": 137,
        "start_time": "2023-02-02T16:31:02.308Z"
      },
      {
        "duration": 48,
        "start_time": "2023-02-02T16:31:02.447Z"
      },
      {
        "duration": 86,
        "start_time": "2023-02-02T16:31:02.497Z"
      },
      {
        "duration": 102,
        "start_time": "2023-02-02T16:31:02.584Z"
      },
      {
        "duration": 78,
        "start_time": "2023-02-02T16:31:02.687Z"
      },
      {
        "duration": 64,
        "start_time": "2023-02-02T16:31:02.766Z"
      },
      {
        "duration": 40,
        "start_time": "2023-02-02T16:31:02.832Z"
      },
      {
        "duration": 40,
        "start_time": "2023-02-02T16:31:02.873Z"
      },
      {
        "duration": 17,
        "start_time": "2023-02-02T16:31:02.914Z"
      },
      {
        "duration": 26,
        "start_time": "2023-02-02T16:31:02.932Z"
      },
      {
        "duration": 47,
        "start_time": "2023-02-02T16:31:02.960Z"
      },
      {
        "duration": 102,
        "start_time": "2023-02-02T16:31:03.010Z"
      },
      {
        "duration": 39,
        "start_time": "2023-02-02T16:31:03.114Z"
      },
      {
        "duration": 359,
        "start_time": "2023-02-02T16:31:03.155Z"
      },
      {
        "duration": 6,
        "start_time": "2023-02-02T16:31:03.516Z"
      },
      {
        "duration": 237,
        "start_time": "2023-02-02T16:31:03.523Z"
      },
      {
        "duration": 227,
        "start_time": "2023-02-02T16:31:03.761Z"
      },
      {
        "duration": 18,
        "start_time": "2023-02-02T16:31:03.989Z"
      },
      {
        "duration": 3822,
        "start_time": "2023-02-02T16:31:04.010Z"
      },
      {
        "duration": 162,
        "start_time": "2023-02-02T16:31:07.834Z"
      },
      {
        "duration": 16,
        "start_time": "2023-02-02T16:31:07.998Z"
      },
      {
        "duration": 133,
        "start_time": "2023-02-02T16:31:08.016Z"
      },
      {
        "duration": 105,
        "start_time": "2023-02-02T16:31:08.150Z"
      },
      {
        "duration": 4,
        "start_time": "2023-02-02T16:31:08.257Z"
      },
      {
        "duration": 520,
        "start_time": "2023-02-02T16:31:08.263Z"
      },
      {
        "duration": 257,
        "start_time": "2023-02-02T16:31:08.785Z"
      },
      {
        "duration": 124,
        "start_time": "2023-02-02T16:31:09.044Z"
      },
      {
        "duration": 89,
        "start_time": "2023-02-02T16:31:09.170Z"
      },
      {
        "duration": 74,
        "start_time": "2023-02-02T16:31:09.261Z"
      },
      {
        "duration": 80,
        "start_time": "2023-02-02T16:31:09.337Z"
      },
      {
        "duration": 13,
        "start_time": "2023-02-02T16:31:09.418Z"
      },
      {
        "duration": 143,
        "start_time": "2023-02-02T16:31:09.433Z"
      },
      {
        "duration": 117,
        "start_time": "2023-02-02T16:31:09.578Z"
      },
      {
        "duration": 236,
        "start_time": "2023-02-02T16:31:09.696Z"
      },
      {
        "duration": 16,
        "start_time": "2023-02-02T16:31:09.953Z"
      },
      {
        "duration": 11,
        "start_time": "2023-02-02T16:31:09.971Z"
      },
      {
        "duration": 14,
        "start_time": "2023-02-02T16:31:09.984Z"
      },
      {
        "duration": 9,
        "start_time": "2023-02-02T16:31:10.000Z"
      },
      {
        "duration": 7,
        "start_time": "2023-02-02T16:31:10.011Z"
      },
      {
        "duration": 38,
        "start_time": "2023-02-02T16:31:10.020Z"
      },
      {
        "duration": 34,
        "start_time": "2023-02-02T16:31:10.060Z"
      },
      {
        "duration": 9,
        "start_time": "2023-02-02T16:31:10.096Z"
      },
      {
        "duration": 8,
        "start_time": "2023-02-02T16:31:10.106Z"
      },
      {
        "duration": 56,
        "start_time": "2023-02-02T16:31:10.116Z"
      },
      {
        "duration": 28,
        "start_time": "2023-02-02T16:31:10.173Z"
      },
      {
        "duration": 6,
        "start_time": "2023-02-02T16:31:10.202Z"
      },
      {
        "duration": 88,
        "start_time": "2023-02-02T16:31:30.821Z"
      },
      {
        "duration": 28,
        "start_time": "2023-02-02T16:31:40.647Z"
      },
      {
        "duration": 3,
        "start_time": "2023-02-02T16:31:45.682Z"
      },
      {
        "duration": 62,
        "start_time": "2023-02-02T16:36:10.226Z"
      },
      {
        "duration": 32,
        "start_time": "2023-02-02T16:36:13.383Z"
      },
      {
        "duration": 54,
        "start_time": "2023-02-02T16:36:23.844Z"
      },
      {
        "duration": 34,
        "start_time": "2023-02-02T16:36:25.058Z"
      },
      {
        "duration": 4,
        "start_time": "2023-02-02T16:36:26.775Z"
      },
      {
        "duration": 1605,
        "start_time": "2023-02-02T16:38:19.144Z"
      },
      {
        "duration": 29,
        "start_time": "2023-02-02T16:39:24.341Z"
      },
      {
        "duration": 163,
        "start_time": "2023-02-02T16:40:00.124Z"
      },
      {
        "duration": 3,
        "start_time": "2023-02-02T16:40:07.328Z"
      },
      {
        "duration": 8,
        "start_time": "2023-02-02T16:40:37.697Z"
      },
      {
        "duration": 49,
        "start_time": "2023-02-02T16:40:41.978Z"
      },
      {
        "duration": 31,
        "start_time": "2023-02-02T16:46:04.853Z"
      },
      {
        "duration": 19,
        "start_time": "2023-02-02T16:46:15.937Z"
      },
      {
        "duration": 26,
        "start_time": "2023-02-02T19:04:13.156Z"
      },
      {
        "duration": 19,
        "start_time": "2023-02-02T19:04:36.069Z"
      },
      {
        "duration": 20,
        "start_time": "2023-02-02T19:04:48.540Z"
      },
      {
        "duration": 2614,
        "start_time": "2023-02-02T19:20:04.164Z"
      },
      {
        "duration": 1437,
        "start_time": "2023-02-02T19:40:05.293Z"
      },
      {
        "duration": 3,
        "start_time": "2023-02-02T19:40:06.732Z"
      },
      {
        "duration": 288,
        "start_time": "2023-02-02T19:40:06.736Z"
      },
      {
        "duration": 13,
        "start_time": "2023-02-02T19:40:07.026Z"
      },
      {
        "duration": 15,
        "start_time": "2023-02-02T19:40:07.041Z"
      },
      {
        "duration": 36,
        "start_time": "2023-02-02T19:40:07.058Z"
      },
      {
        "duration": 20,
        "start_time": "2023-02-02T19:40:07.096Z"
      },
      {
        "duration": 40,
        "start_time": "2023-02-02T19:40:07.118Z"
      },
      {
        "duration": 19,
        "start_time": "2023-02-02T19:40:07.159Z"
      },
      {
        "duration": 167,
        "start_time": "2023-02-02T19:40:07.181Z"
      },
      {
        "duration": 48,
        "start_time": "2023-02-02T19:40:07.349Z"
      },
      {
        "duration": 72,
        "start_time": "2023-02-02T19:40:07.407Z"
      },
      {
        "duration": 122,
        "start_time": "2023-02-02T19:40:07.481Z"
      },
      {
        "duration": 94,
        "start_time": "2023-02-02T19:40:07.604Z"
      },
      {
        "duration": 88,
        "start_time": "2023-02-02T19:40:07.700Z"
      },
      {
        "duration": 20,
        "start_time": "2023-02-02T19:40:07.790Z"
      },
      {
        "duration": 18,
        "start_time": "2023-02-02T19:40:07.812Z"
      },
      {
        "duration": 36,
        "start_time": "2023-02-02T19:40:07.832Z"
      },
      {
        "duration": 21,
        "start_time": "2023-02-02T19:40:07.870Z"
      },
      {
        "duration": 16,
        "start_time": "2023-02-02T19:40:07.894Z"
      },
      {
        "duration": 107,
        "start_time": "2023-02-02T19:40:07.912Z"
      },
      {
        "duration": 40,
        "start_time": "2023-02-02T19:40:08.021Z"
      },
      {
        "duration": 405,
        "start_time": "2023-02-02T19:40:08.063Z"
      },
      {
        "duration": 6,
        "start_time": "2023-02-02T19:40:08.470Z"
      },
      {
        "duration": 234,
        "start_time": "2023-02-02T19:40:08.478Z"
      },
      {
        "duration": 201,
        "start_time": "2023-02-02T19:40:08.713Z"
      },
      {
        "duration": 20,
        "start_time": "2023-02-02T19:40:08.916Z"
      },
      {
        "duration": 3724,
        "start_time": "2023-02-02T19:40:08.953Z"
      },
      {
        "duration": 196,
        "start_time": "2023-02-02T19:40:12.678Z"
      },
      {
        "duration": 122,
        "start_time": "2023-02-02T19:40:12.876Z"
      },
      {
        "duration": 0,
        "start_time": "2023-02-02T19:40:12.999Z"
      },
      {
        "duration": 0,
        "start_time": "2023-02-02T19:40:13.001Z"
      },
      {
        "duration": 0,
        "start_time": "2023-02-02T19:40:13.002Z"
      },
      {
        "duration": 0,
        "start_time": "2023-02-02T19:40:13.003Z"
      },
      {
        "duration": 0,
        "start_time": "2023-02-02T19:40:13.005Z"
      },
      {
        "duration": 0,
        "start_time": "2023-02-02T19:40:13.006Z"
      },
      {
        "duration": 0,
        "start_time": "2023-02-02T19:40:13.008Z"
      },
      {
        "duration": 0,
        "start_time": "2023-02-02T19:40:13.009Z"
      },
      {
        "duration": 0,
        "start_time": "2023-02-02T19:40:13.010Z"
      },
      {
        "duration": 0,
        "start_time": "2023-02-02T19:40:13.012Z"
      },
      {
        "duration": 0,
        "start_time": "2023-02-02T19:40:13.013Z"
      },
      {
        "duration": 0,
        "start_time": "2023-02-02T19:40:13.014Z"
      },
      {
        "duration": 0,
        "start_time": "2023-02-02T19:40:13.016Z"
      },
      {
        "duration": 0,
        "start_time": "2023-02-02T19:40:13.017Z"
      },
      {
        "duration": 1,
        "start_time": "2023-02-02T19:40:13.018Z"
      },
      {
        "duration": 1,
        "start_time": "2023-02-02T19:40:13.052Z"
      },
      {
        "duration": 0,
        "start_time": "2023-02-02T19:40:13.055Z"
      },
      {
        "duration": 0,
        "start_time": "2023-02-02T19:40:13.056Z"
      },
      {
        "duration": 0,
        "start_time": "2023-02-02T19:40:13.057Z"
      },
      {
        "duration": 0,
        "start_time": "2023-02-02T19:40:13.060Z"
      },
      {
        "duration": 0,
        "start_time": "2023-02-02T19:40:13.061Z"
      },
      {
        "duration": 0,
        "start_time": "2023-02-02T19:40:13.062Z"
      },
      {
        "duration": 0,
        "start_time": "2023-02-02T19:40:13.064Z"
      },
      {
        "duration": 0,
        "start_time": "2023-02-02T19:40:13.065Z"
      },
      {
        "duration": 0,
        "start_time": "2023-02-02T19:40:13.067Z"
      },
      {
        "duration": 0,
        "start_time": "2023-02-02T19:40:13.068Z"
      },
      {
        "duration": 1238,
        "start_time": "2023-02-02T19:45:59.867Z"
      },
      {
        "duration": 3,
        "start_time": "2023-02-02T19:46:01.108Z"
      },
      {
        "duration": 269,
        "start_time": "2023-02-02T19:46:01.112Z"
      },
      {
        "duration": 12,
        "start_time": "2023-02-02T19:46:01.383Z"
      },
      {
        "duration": 27,
        "start_time": "2023-02-02T19:46:01.397Z"
      },
      {
        "duration": 25,
        "start_time": "2023-02-02T19:46:01.426Z"
      },
      {
        "duration": 45,
        "start_time": "2023-02-02T19:46:01.453Z"
      },
      {
        "duration": 44,
        "start_time": "2023-02-02T19:46:01.508Z"
      },
      {
        "duration": 51,
        "start_time": "2023-02-02T19:46:01.553Z"
      },
      {
        "duration": 139,
        "start_time": "2023-02-02T19:46:01.606Z"
      },
      {
        "duration": 34,
        "start_time": "2023-02-02T19:46:01.747Z"
      },
      {
        "duration": 34,
        "start_time": "2023-02-02T19:46:01.782Z"
      },
      {
        "duration": 97,
        "start_time": "2023-02-02T19:46:01.818Z"
      },
      {
        "duration": 60,
        "start_time": "2023-02-02T19:46:01.917Z"
      },
      {
        "duration": 79,
        "start_time": "2023-02-02T19:46:01.979Z"
      },
      {
        "duration": 37,
        "start_time": "2023-02-02T19:46:02.059Z"
      },
      {
        "duration": 36,
        "start_time": "2023-02-02T19:46:02.098Z"
      },
      {
        "duration": 18,
        "start_time": "2023-02-02T19:46:02.135Z"
      },
      {
        "duration": 15,
        "start_time": "2023-02-02T19:46:02.155Z"
      },
      {
        "duration": 24,
        "start_time": "2023-02-02T19:46:02.172Z"
      },
      {
        "duration": 110,
        "start_time": "2023-02-02T19:46:02.197Z"
      },
      {
        "duration": 58,
        "start_time": "2023-02-02T19:46:02.309Z"
      },
      {
        "duration": 349,
        "start_time": "2023-02-02T19:46:02.369Z"
      },
      {
        "duration": 6,
        "start_time": "2023-02-02T19:46:02.720Z"
      },
      {
        "duration": 243,
        "start_time": "2023-02-02T19:46:02.727Z"
      },
      {
        "duration": 230,
        "start_time": "2023-02-02T19:46:02.972Z"
      },
      {
        "duration": 22,
        "start_time": "2023-02-02T19:46:03.203Z"
      },
      {
        "duration": 3668,
        "start_time": "2023-02-02T19:46:03.229Z"
      },
      {
        "duration": 171,
        "start_time": "2023-02-02T19:46:06.898Z"
      },
      {
        "duration": 17,
        "start_time": "2023-02-02T19:46:07.070Z"
      },
      {
        "duration": 131,
        "start_time": "2023-02-02T19:46:07.089Z"
      },
      {
        "duration": 107,
        "start_time": "2023-02-02T19:46:07.222Z"
      },
      {
        "duration": 4,
        "start_time": "2023-02-02T19:46:07.331Z"
      },
      {
        "duration": 527,
        "start_time": "2023-02-02T19:46:07.336Z"
      },
      {
        "duration": 147,
        "start_time": "2023-02-02T19:46:07.865Z"
      },
      {
        "duration": 114,
        "start_time": "2023-02-02T19:46:08.014Z"
      },
      {
        "duration": 87,
        "start_time": "2023-02-02T19:46:08.129Z"
      },
      {
        "duration": 76,
        "start_time": "2023-02-02T19:46:08.217Z"
      },
      {
        "duration": 71,
        "start_time": "2023-02-02T19:46:08.294Z"
      },
      {
        "duration": 14,
        "start_time": "2023-02-02T19:46:08.367Z"
      },
      {
        "duration": 59,
        "start_time": "2023-02-02T19:46:08.382Z"
      },
      {
        "duration": 69,
        "start_time": "2023-02-02T19:46:08.442Z"
      },
      {
        "duration": 233,
        "start_time": "2023-02-02T19:46:08.512Z"
      },
      {
        "duration": 19,
        "start_time": "2023-02-02T19:46:08.747Z"
      },
      {
        "duration": 14,
        "start_time": "2023-02-02T19:46:08.767Z"
      },
      {
        "duration": 15,
        "start_time": "2023-02-02T19:46:08.782Z"
      },
      {
        "duration": 8,
        "start_time": "2023-02-02T19:46:08.799Z"
      },
      {
        "duration": 17,
        "start_time": "2023-02-02T19:46:08.808Z"
      },
      {
        "duration": 29,
        "start_time": "2023-02-02T19:46:08.826Z"
      },
      {
        "duration": 13,
        "start_time": "2023-02-02T19:46:08.856Z"
      },
      {
        "duration": 4,
        "start_time": "2023-02-02T19:46:08.870Z"
      },
      {
        "duration": 7,
        "start_time": "2023-02-02T19:46:08.875Z"
      },
      {
        "duration": 91,
        "start_time": "2023-02-02T19:46:08.883Z"
      },
      {
        "duration": 39,
        "start_time": "2023-02-02T19:46:08.976Z"
      },
      {
        "duration": 4,
        "start_time": "2023-02-02T19:46:09.016Z"
      },
      {
        "duration": 1224,
        "start_time": "2023-02-10T18:53:50.387Z"
      },
      {
        "duration": 3,
        "start_time": "2023-02-10T18:53:51.613Z"
      },
      {
        "duration": 832,
        "start_time": "2023-02-10T18:53:51.617Z"
      },
      {
        "duration": 11,
        "start_time": "2023-02-10T18:53:52.451Z"
      },
      {
        "duration": 15,
        "start_time": "2023-02-10T18:53:52.464Z"
      },
      {
        "duration": 9,
        "start_time": "2023-02-10T18:53:52.480Z"
      },
      {
        "duration": 11,
        "start_time": "2023-02-10T18:53:52.490Z"
      },
      {
        "duration": 34,
        "start_time": "2023-02-10T18:53:52.502Z"
      },
      {
        "duration": 11,
        "start_time": "2023-02-10T18:53:52.537Z"
      },
      {
        "duration": 131,
        "start_time": "2023-02-10T18:53:52.550Z"
      },
      {
        "duration": 38,
        "start_time": "2023-02-10T18:53:52.684Z"
      },
      {
        "duration": 38,
        "start_time": "2023-02-10T18:53:52.724Z"
      },
      {
        "duration": 91,
        "start_time": "2023-02-10T18:53:52.764Z"
      },
      {
        "duration": 75,
        "start_time": "2023-02-10T18:53:52.857Z"
      },
      {
        "duration": 64,
        "start_time": "2023-02-10T18:53:52.934Z"
      },
      {
        "duration": 17,
        "start_time": "2023-02-10T18:53:53.000Z"
      },
      {
        "duration": 16,
        "start_time": "2023-02-10T18:53:53.018Z"
      },
      {
        "duration": 16,
        "start_time": "2023-02-10T18:53:53.035Z"
      },
      {
        "duration": 14,
        "start_time": "2023-02-10T18:53:53.052Z"
      },
      {
        "duration": 41,
        "start_time": "2023-02-10T18:53:53.067Z"
      },
      {
        "duration": 93,
        "start_time": "2023-02-10T18:53:53.109Z"
      },
      {
        "duration": 30,
        "start_time": "2023-02-10T18:53:53.204Z"
      },
      {
        "duration": 347,
        "start_time": "2023-02-10T18:53:53.235Z"
      },
      {
        "duration": 11,
        "start_time": "2023-02-10T18:53:53.583Z"
      },
      {
        "duration": 213,
        "start_time": "2023-02-10T18:53:53.595Z"
      },
      {
        "duration": 210,
        "start_time": "2023-02-10T18:53:53.809Z"
      },
      {
        "duration": 22,
        "start_time": "2023-02-10T18:53:54.021Z"
      },
      {
        "duration": 3580,
        "start_time": "2023-02-10T18:53:54.049Z"
      },
      {
        "duration": 163,
        "start_time": "2023-02-10T18:53:57.631Z"
      },
      {
        "duration": 15,
        "start_time": "2023-02-10T18:53:57.795Z"
      },
      {
        "duration": 133,
        "start_time": "2023-02-10T18:53:57.811Z"
      },
      {
        "duration": 106,
        "start_time": "2023-02-10T18:53:57.946Z"
      },
      {
        "duration": 4,
        "start_time": "2023-02-10T18:53:58.054Z"
      },
      {
        "duration": 504,
        "start_time": "2023-02-10T18:53:58.060Z"
      },
      {
        "duration": 154,
        "start_time": "2023-02-10T18:53:58.565Z"
      },
      {
        "duration": 104,
        "start_time": "2023-02-10T18:53:58.720Z"
      },
      {
        "duration": 103,
        "start_time": "2023-02-10T18:53:58.826Z"
      },
      {
        "duration": 82,
        "start_time": "2023-02-10T18:53:58.932Z"
      },
      {
        "duration": 63,
        "start_time": "2023-02-10T18:53:59.016Z"
      },
      {
        "duration": 22,
        "start_time": "2023-02-10T18:53:59.080Z"
      },
      {
        "duration": 134,
        "start_time": "2023-02-10T18:53:59.103Z"
      },
      {
        "duration": 66,
        "start_time": "2023-02-10T18:53:59.238Z"
      },
      {
        "duration": 155,
        "start_time": "2023-02-10T18:53:59.306Z"
      },
      {
        "duration": 17,
        "start_time": "2023-02-10T18:53:59.463Z"
      },
      {
        "duration": 21,
        "start_time": "2023-02-10T18:53:59.481Z"
      },
      {
        "duration": 15,
        "start_time": "2023-02-10T18:53:59.504Z"
      },
      {
        "duration": 9,
        "start_time": "2023-02-10T18:53:59.520Z"
      },
      {
        "duration": 5,
        "start_time": "2023-02-10T18:53:59.531Z"
      },
      {
        "duration": 7,
        "start_time": "2023-02-10T18:53:59.537Z"
      },
      {
        "duration": 16,
        "start_time": "2023-02-10T18:53:59.546Z"
      },
      {
        "duration": 5,
        "start_time": "2023-02-10T18:53:59.594Z"
      },
      {
        "duration": 7,
        "start_time": "2023-02-10T18:53:59.600Z"
      },
      {
        "duration": 54,
        "start_time": "2023-02-10T18:53:59.608Z"
      },
      {
        "duration": 48,
        "start_time": "2023-02-10T18:53:59.664Z"
      },
      {
        "duration": 4,
        "start_time": "2023-02-10T18:53:59.714Z"
      }
    ],
    "kernelspec": {
      "display_name": "Python 3 (ipykernel)",
      "language": "python",
      "name": "python3"
    },
    "language_info": {
      "codemirror_mode": {
        "name": "ipython",
        "version": 3
      },
      "file_extension": ".py",
      "mimetype": "text/x-python",
      "name": "python",
      "nbconvert_exporter": "python",
      "pygments_lexer": "ipython3",
      "version": "3.9.5"
    },
    "toc": {
      "base_numbering": 1,
      "nav_menu": {},
      "number_sections": true,
      "sideBar": true,
      "skip_h1_title": true,
      "title_cell": "Table of Contents",
      "title_sidebar": "Contents",
      "toc_cell": false,
      "toc_position": {
        "height": "calc(100% - 180px)",
        "left": "10px",
        "top": "150px",
        "width": "255.188px"
      },
      "toc_section_display": true,
      "toc_window_display": false
    },
    "colab": {
      "provenance": []
    }
  },
  "nbformat": 4,
  "nbformat_minor": 0
}