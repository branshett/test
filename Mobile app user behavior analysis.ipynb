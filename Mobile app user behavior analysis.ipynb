{
  "cells": [
    {
      "cell_type": "markdown",
      "metadata": {
        "id": "soUSf9CcJMlj"
      },
      "source": [
        "# Mobile app user behavior analysis"
      ]
    },
    {
      "cell_type": "markdown",
      "metadata": {
        "id": "lJcYY_i3JMlk"
      },
      "source": [
        "You work in a startup that sells food. You need to figure out how your mobile app users behave.\n",
        "\n",
        "**Data description:**\n",
        "\n",
        "Each log entry in `/datasets/logs_exp.csv` is a user action, or event.\n",
        "- `EventName` is the name of the event;\n",
        "- `DeviceIDHash` - a unique user ID;\n",
        "- `EventTimestamp` - time of the event;\n",
        "- `ExpId` - experiment number: 246 and 247 - control groups, and 248 - experimental group.\n",
        "\n",
        "**Plan of work for this project:**\n",
        "1. Data review and preprocessing;\n",
        "2. Construction and analysis of the sales funnel;\n",
        "3. Conducting a study of the results of the A/A/B experiment (changing fonts throughout the application);\n",
        "4. analyzing the results;\n",
        "5. Formulation of conclusions."
      ]
    },
    {
      "cell_type": "markdown",
      "metadata": {
        "id": "lBUz_O8kJMll"
      },
      "source": [
        "## Uploading and preparing data for analysis"
      ]
    },
    {
      "cell_type": "code",
      "execution_count": 107,
      "metadata": {
        "id": "wmNMPLmzJMll"
      },
      "outputs": [],
      "source": [
        "# library imports\n",
        "import pandas as pd\n",
        "import numpy as np\n",
        "import matplotlib.pyplot as plt\n",
        "import seaborn as sns\n",
        "import math\n",
        "import datetime as dt\n",
        "import scipy.stats as stats\n",
        "import warnings\n",
        "\n",
        "from scipy import stats as st\n",
        "from plotly import graph_objects as go"
      ]
    },
    {
      "cell_type": "code",
      "execution_count": 108,
      "metadata": {
        "id": "GWr9-sTOJMlm"
      },
      "outputs": [],
      "source": [
        "# ignore warnings\n",
        "warnings.filterwarnings(action='ignore')\n",
        "# restriction to display decimal places\n",
        "pd.options.display.float_format = '{:,.4f}'.format"
      ]
    },
    {
      "cell_type": "code",
      "execution_count": 109,
      "metadata": {
        "id": "LWMNRJqLJMlo"
      },
      "outputs": [],
      "source": [
        "# uploading data\n",
        "data = pd.read_csv('/content/logs_exp.csv', sep='\\t')"
      ]
    },
    {
      "cell_type": "code",
      "execution_count": 110,
      "metadata": {
        "colab": {
          "base_uri": "https://localhost:8080/"
        },
        "id": "saAt44qVJMlo",
        "outputId": "d1c213f3-1baa-430f-8f1a-8ddb0fa919ec"
      },
      "outputs": [
        {
          "output_type": "stream",
          "name": "stdout",
          "text": [
            "<class 'pandas.core.frame.DataFrame'>\n",
            "RangeIndex: 244126 entries, 0 to 244125\n",
            "Data columns (total 4 columns):\n",
            " #   Column          Non-Null Count   Dtype \n",
            "---  ------          --------------   ----- \n",
            " 0   EventName       244126 non-null  object\n",
            " 1   DeviceIDHash    244126 non-null  int64 \n",
            " 2   EventTimestamp  244126 non-null  int64 \n",
            " 3   ExpId           244126 non-null  int64 \n",
            "dtypes: int64(3), object(1)\n",
            "memory usage: 7.5+ MB\n"
          ]
        }
      ],
      "source": [
        "# dataframe review\n",
        "data.info()"
      ]
    },
    {
      "cell_type": "code",
      "execution_count": 111,
      "metadata": {
        "colab": {
          "base_uri": "https://localhost:8080/",
          "height": 363
        },
        "id": "XS0TNj_wJMlp",
        "outputId": "f80ff82d-8fd0-4157-a684-1b18ed38a907"
      },
      "outputs": [
        {
          "output_type": "execute_result",
          "data": {
            "text/plain": [
              "                      EventName         DeviceIDHash  EventTimestamp  ExpId\n",
              "142766         CartScreenAppear  2854953699233970068      1564980190    247\n",
              "176507         MainScreenAppear  5865200921346038399      1565041525    246\n",
              "173977         MainScreenAppear  3699851072758855337      1565033086    246\n",
              "97874          MainScreenAppear  7591988149828654727      1564846125    248\n",
              "138283       OffersScreenAppear  7225065237801313955      1564947173    246\n",
              "192154       OffersScreenAppear  6861893604894830186      1565091771    246\n",
              "120277  PaymentScreenSuccessful  1721101105509587254      1564916752    247\n",
              "203352         MainScreenAppear    33176906322804559      1565108649    248\n",
              "210354       OffersScreenAppear  1014298780707644648      1565119945    248\n",
              "16901          MainScreenAppear  3317086698046307220      1564659422    247"
            ],
            "text/html": [
              "\n",
              "  <div id=\"df-3062167b-db64-4768-a57c-ac72184b4416\">\n",
              "    <div class=\"colab-df-container\">\n",
              "      <div>\n",
              "<style scoped>\n",
              "    .dataframe tbody tr th:only-of-type {\n",
              "        vertical-align: middle;\n",
              "    }\n",
              "\n",
              "    .dataframe tbody tr th {\n",
              "        vertical-align: top;\n",
              "    }\n",
              "\n",
              "    .dataframe thead th {\n",
              "        text-align: right;\n",
              "    }\n",
              "</style>\n",
              "<table border=\"1\" class=\"dataframe\">\n",
              "  <thead>\n",
              "    <tr style=\"text-align: right;\">\n",
              "      <th></th>\n",
              "      <th>EventName</th>\n",
              "      <th>DeviceIDHash</th>\n",
              "      <th>EventTimestamp</th>\n",
              "      <th>ExpId</th>\n",
              "    </tr>\n",
              "  </thead>\n",
              "  <tbody>\n",
              "    <tr>\n",
              "      <th>142766</th>\n",
              "      <td>CartScreenAppear</td>\n",
              "      <td>2854953699233970068</td>\n",
              "      <td>1564980190</td>\n",
              "      <td>247</td>\n",
              "    </tr>\n",
              "    <tr>\n",
              "      <th>176507</th>\n",
              "      <td>MainScreenAppear</td>\n",
              "      <td>5865200921346038399</td>\n",
              "      <td>1565041525</td>\n",
              "      <td>246</td>\n",
              "    </tr>\n",
              "    <tr>\n",
              "      <th>173977</th>\n",
              "      <td>MainScreenAppear</td>\n",
              "      <td>3699851072758855337</td>\n",
              "      <td>1565033086</td>\n",
              "      <td>246</td>\n",
              "    </tr>\n",
              "    <tr>\n",
              "      <th>97874</th>\n",
              "      <td>MainScreenAppear</td>\n",
              "      <td>7591988149828654727</td>\n",
              "      <td>1564846125</td>\n",
              "      <td>248</td>\n",
              "    </tr>\n",
              "    <tr>\n",
              "      <th>138283</th>\n",
              "      <td>OffersScreenAppear</td>\n",
              "      <td>7225065237801313955</td>\n",
              "      <td>1564947173</td>\n",
              "      <td>246</td>\n",
              "    </tr>\n",
              "    <tr>\n",
              "      <th>192154</th>\n",
              "      <td>OffersScreenAppear</td>\n",
              "      <td>6861893604894830186</td>\n",
              "      <td>1565091771</td>\n",
              "      <td>246</td>\n",
              "    </tr>\n",
              "    <tr>\n",
              "      <th>120277</th>\n",
              "      <td>PaymentScreenSuccessful</td>\n",
              "      <td>1721101105509587254</td>\n",
              "      <td>1564916752</td>\n",
              "      <td>247</td>\n",
              "    </tr>\n",
              "    <tr>\n",
              "      <th>203352</th>\n",
              "      <td>MainScreenAppear</td>\n",
              "      <td>33176906322804559</td>\n",
              "      <td>1565108649</td>\n",
              "      <td>248</td>\n",
              "    </tr>\n",
              "    <tr>\n",
              "      <th>210354</th>\n",
              "      <td>OffersScreenAppear</td>\n",
              "      <td>1014298780707644648</td>\n",
              "      <td>1565119945</td>\n",
              "      <td>248</td>\n",
              "    </tr>\n",
              "    <tr>\n",
              "      <th>16901</th>\n",
              "      <td>MainScreenAppear</td>\n",
              "      <td>3317086698046307220</td>\n",
              "      <td>1564659422</td>\n",
              "      <td>247</td>\n",
              "    </tr>\n",
              "  </tbody>\n",
              "</table>\n",
              "</div>\n",
              "      <button class=\"colab-df-convert\" onclick=\"convertToInteractive('df-3062167b-db64-4768-a57c-ac72184b4416')\"\n",
              "              title=\"Convert this dataframe to an interactive table.\"\n",
              "              style=\"display:none;\">\n",
              "        \n",
              "  <svg xmlns=\"http://www.w3.org/2000/svg\" height=\"24px\"viewBox=\"0 0 24 24\"\n",
              "       width=\"24px\">\n",
              "    <path d=\"M0 0h24v24H0V0z\" fill=\"none\"/>\n",
              "    <path d=\"M18.56 5.44l.94 2.06.94-2.06 2.06-.94-2.06-.94-.94-2.06-.94 2.06-2.06.94zm-11 1L8.5 8.5l.94-2.06 2.06-.94-2.06-.94L8.5 2.5l-.94 2.06-2.06.94zm10 10l.94 2.06.94-2.06 2.06-.94-2.06-.94-.94-2.06-.94 2.06-2.06.94z\"/><path d=\"M17.41 7.96l-1.37-1.37c-.4-.4-.92-.59-1.43-.59-.52 0-1.04.2-1.43.59L10.3 9.45l-7.72 7.72c-.78.78-.78 2.05 0 2.83L4 21.41c.39.39.9.59 1.41.59.51 0 1.02-.2 1.41-.59l7.78-7.78 2.81-2.81c.8-.78.8-2.07 0-2.86zM5.41 20L4 18.59l7.72-7.72 1.47 1.35L5.41 20z\"/>\n",
              "  </svg>\n",
              "      </button>\n",
              "      \n",
              "  <style>\n",
              "    .colab-df-container {\n",
              "      display:flex;\n",
              "      flex-wrap:wrap;\n",
              "      gap: 12px;\n",
              "    }\n",
              "\n",
              "    .colab-df-convert {\n",
              "      background-color: #E8F0FE;\n",
              "      border: none;\n",
              "      border-radius: 50%;\n",
              "      cursor: pointer;\n",
              "      display: none;\n",
              "      fill: #1967D2;\n",
              "      height: 32px;\n",
              "      padding: 0 0 0 0;\n",
              "      width: 32px;\n",
              "    }\n",
              "\n",
              "    .colab-df-convert:hover {\n",
              "      background-color: #E2EBFA;\n",
              "      box-shadow: 0px 1px 2px rgba(60, 64, 67, 0.3), 0px 1px 3px 1px rgba(60, 64, 67, 0.15);\n",
              "      fill: #174EA6;\n",
              "    }\n",
              "\n",
              "    [theme=dark] .colab-df-convert {\n",
              "      background-color: #3B4455;\n",
              "      fill: #D2E3FC;\n",
              "    }\n",
              "\n",
              "    [theme=dark] .colab-df-convert:hover {\n",
              "      background-color: #434B5C;\n",
              "      box-shadow: 0px 1px 3px 1px rgba(0, 0, 0, 0.15);\n",
              "      filter: drop-shadow(0px 1px 2px rgba(0, 0, 0, 0.3));\n",
              "      fill: #FFFFFF;\n",
              "    }\n",
              "  </style>\n",
              "\n",
              "      <script>\n",
              "        const buttonEl =\n",
              "          document.querySelector('#df-3062167b-db64-4768-a57c-ac72184b4416 button.colab-df-convert');\n",
              "        buttonEl.style.display =\n",
              "          google.colab.kernel.accessAllowed ? 'block' : 'none';\n",
              "\n",
              "        async function convertToInteractive(key) {\n",
              "          const element = document.querySelector('#df-3062167b-db64-4768-a57c-ac72184b4416');\n",
              "          const dataTable =\n",
              "            await google.colab.kernel.invokeFunction('convertToInteractive',\n",
              "                                                     [key], {});\n",
              "          if (!dataTable) return;\n",
              "\n",
              "          const docLinkHtml = 'Like what you see? Visit the ' +\n",
              "            '<a target=\"_blank\" href=https://colab.research.google.com/notebooks/data_table.ipynb>data table notebook</a>'\n",
              "            + ' to learn more about interactive tables.';\n",
              "          element.innerHTML = '';\n",
              "          dataTable['output_type'] = 'display_data';\n",
              "          await google.colab.output.renderOutput(dataTable, element);\n",
              "          const docLink = document.createElement('div');\n",
              "          docLink.innerHTML = docLinkHtml;\n",
              "          element.appendChild(docLink);\n",
              "        }\n",
              "      </script>\n",
              "    </div>\n",
              "  </div>\n",
              "  "
            ]
          },
          "metadata": {},
          "execution_count": 111
        }
      ],
      "source": [
        "data.sample(10)"
      ]
    },
    {
      "cell_type": "code",
      "execution_count": 112,
      "metadata": {
        "colab": {
          "base_uri": "https://localhost:8080/"
        },
        "id": "DPt7Z2ICJMlq",
        "outputId": "edd3387d-b738-45bb-cf5f-1ca3299edd5c"
      },
      "outputs": [
        {
          "output_type": "stream",
          "name": "stdout",
          "text": [
            "['MainScreenAppear' 'PaymentScreenSuccessful' 'CartScreenAppear'\n",
            " 'OffersScreenAppear' 'Tutorial']\n",
            "[246 248 247]\n"
          ]
        }
      ],
      "source": [
        "# display unique values in the columns\n",
        "print(data['EventName'].unique())\n",
        "print(data['ExpId'].unique())"
      ]
    },
    {
      "cell_type": "code",
      "execution_count": 113,
      "metadata": {
        "colab": {
          "base_uri": "https://localhost:8080/"
        },
        "id": "hgt91lrUJMlq",
        "outputId": "bedb7721-c246-4610-e5c6-6f9145b4bdc5"
      },
      "outputs": [
        {
          "output_type": "stream",
          "name": "stdout",
          "text": [
            "Number of duplicates in dataframe: 413\n",
            "Percentage of duplicates in dataframe: 0.17%\n",
            "Number of gaps in the data: EventName         0\n",
            "DeviceIDHash      0\n",
            "EventTimestamp    0\n",
            "ExpId             0\n",
            "dtype: int64\n"
          ]
        }
      ],
      "source": [
        "# search for duplicates in the data\n",
        "duplicate = data.duplicated().sum()\n",
        "\n",
        "print(f'Number of duplicates in dataframe: {duplicate}')\n",
        "print(f'Percentage of duplicates in dataframe: {round((duplicate / len(data))*100, 2)}%')\n",
        "\n",
        "# search for gaps in the data\n",
        "print('Number of gaps in the data:', data.isnull().sum())"
      ]
    },
    {
      "cell_type": "markdown",
      "metadata": {
        "id": "-gfIODHEJMlr"
      },
      "source": [
        "**Conclusion:**\n",
        "\n",
        "- Number of columns: ***4***\n",
        "- Number of rows: ***244126***\n",
        "- The data type in the columns: ***int64(3), object(1)***\n",
        "- Missing values ***none***\n",
        "- Full duplicates ***413***\n",
        "- No abnormal values detected\n",
        "\n",
        "You should fix the column names to be more readable, you should get rid of the duplicates and also change the data type in the *EventTimestamp* column (date and time are in seconds). For ease of further analysis, we will put the date in a separate column."
      ]
    },
    {
      "cell_type": "markdown",
      "metadata": {
        "id": "tYXoxIURJMlr"
      },
      "source": [
        "## Preprocessing data"
      ]
    },
    {
      "cell_type": "code",
      "execution_count": 114,
      "metadata": {
        "colab": {
          "base_uri": "https://localhost:8080/",
          "height": 363
        },
        "id": "FY-21Ob2JMlr",
        "outputId": "aaf9812c-87a7-4256-c1a6-788dc740bb4f"
      },
      "outputs": [
        {
          "output_type": "execute_result",
          "data": {
            "text/plain": [
              "                          event              user_id           date_time  \\\n",
              "54631          MainScreenAppear  1850981295691852772 2019-08-02 11:41:14   \n",
              "25025          MainScreenAppear  6098687849099133899 2019-08-01 14:50:56   \n",
              "39321          CartScreenAppear  6304868067479728361 2019-08-02 00:25:38   \n",
              "162642  PaymentScreenSuccessful  1469821186825308546 2019-08-05 14:42:10   \n",
              "193351       OffersScreenAppear  6555247999328316726 2019-08-06 12:20:29   \n",
              "164826       OffersScreenAppear   745032079672450813 2019-08-05 15:26:05   \n",
              "135187  PaymentScreenSuccessful  5996739817823449506 2019-08-04 17:42:59   \n",
              "37628          MainScreenAppear  2221953346404121490 2019-08-01 20:41:01   \n",
              "218525       OffersScreenAppear  2643655375495121379 2019-08-07 07:22:41   \n",
              "50427          MainScreenAppear  7659966779755755702 2019-08-02 09:42:31   \n",
              "\n",
              "        group_id       date  \n",
              "54631        247 2019-08-02  \n",
              "25025        247 2019-08-01  \n",
              "39321        248 2019-08-02  \n",
              "162642       246 2019-08-05  \n",
              "193351       246 2019-08-06  \n",
              "164826       246 2019-08-05  \n",
              "135187       248 2019-08-04  \n",
              "37628        248 2019-08-01  \n",
              "218525       246 2019-08-07  \n",
              "50427        248 2019-08-02  "
            ],
            "text/html": [
              "\n",
              "  <div id=\"df-59b8ab4c-77f6-4acf-a066-ef5bc3416a56\">\n",
              "    <div class=\"colab-df-container\">\n",
              "      <div>\n",
              "<style scoped>\n",
              "    .dataframe tbody tr th:only-of-type {\n",
              "        vertical-align: middle;\n",
              "    }\n",
              "\n",
              "    .dataframe tbody tr th {\n",
              "        vertical-align: top;\n",
              "    }\n",
              "\n",
              "    .dataframe thead th {\n",
              "        text-align: right;\n",
              "    }\n",
              "</style>\n",
              "<table border=\"1\" class=\"dataframe\">\n",
              "  <thead>\n",
              "    <tr style=\"text-align: right;\">\n",
              "      <th></th>\n",
              "      <th>event</th>\n",
              "      <th>user_id</th>\n",
              "      <th>date_time</th>\n",
              "      <th>group_id</th>\n",
              "      <th>date</th>\n",
              "    </tr>\n",
              "  </thead>\n",
              "  <tbody>\n",
              "    <tr>\n",
              "      <th>54631</th>\n",
              "      <td>MainScreenAppear</td>\n",
              "      <td>1850981295691852772</td>\n",
              "      <td>2019-08-02 11:41:14</td>\n",
              "      <td>247</td>\n",
              "      <td>2019-08-02</td>\n",
              "    </tr>\n",
              "    <tr>\n",
              "      <th>25025</th>\n",
              "      <td>MainScreenAppear</td>\n",
              "      <td>6098687849099133899</td>\n",
              "      <td>2019-08-01 14:50:56</td>\n",
              "      <td>247</td>\n",
              "      <td>2019-08-01</td>\n",
              "    </tr>\n",
              "    <tr>\n",
              "      <th>39321</th>\n",
              "      <td>CartScreenAppear</td>\n",
              "      <td>6304868067479728361</td>\n",
              "      <td>2019-08-02 00:25:38</td>\n",
              "      <td>248</td>\n",
              "      <td>2019-08-02</td>\n",
              "    </tr>\n",
              "    <tr>\n",
              "      <th>162642</th>\n",
              "      <td>PaymentScreenSuccessful</td>\n",
              "      <td>1469821186825308546</td>\n",
              "      <td>2019-08-05 14:42:10</td>\n",
              "      <td>246</td>\n",
              "      <td>2019-08-05</td>\n",
              "    </tr>\n",
              "    <tr>\n",
              "      <th>193351</th>\n",
              "      <td>OffersScreenAppear</td>\n",
              "      <td>6555247999328316726</td>\n",
              "      <td>2019-08-06 12:20:29</td>\n",
              "      <td>246</td>\n",
              "      <td>2019-08-06</td>\n",
              "    </tr>\n",
              "    <tr>\n",
              "      <th>164826</th>\n",
              "      <td>OffersScreenAppear</td>\n",
              "      <td>745032079672450813</td>\n",
              "      <td>2019-08-05 15:26:05</td>\n",
              "      <td>246</td>\n",
              "      <td>2019-08-05</td>\n",
              "    </tr>\n",
              "    <tr>\n",
              "      <th>135187</th>\n",
              "      <td>PaymentScreenSuccessful</td>\n",
              "      <td>5996739817823449506</td>\n",
              "      <td>2019-08-04 17:42:59</td>\n",
              "      <td>248</td>\n",
              "      <td>2019-08-04</td>\n",
              "    </tr>\n",
              "    <tr>\n",
              "      <th>37628</th>\n",
              "      <td>MainScreenAppear</td>\n",
              "      <td>2221953346404121490</td>\n",
              "      <td>2019-08-01 20:41:01</td>\n",
              "      <td>248</td>\n",
              "      <td>2019-08-01</td>\n",
              "    </tr>\n",
              "    <tr>\n",
              "      <th>218525</th>\n",
              "      <td>OffersScreenAppear</td>\n",
              "      <td>2643655375495121379</td>\n",
              "      <td>2019-08-07 07:22:41</td>\n",
              "      <td>246</td>\n",
              "      <td>2019-08-07</td>\n",
              "    </tr>\n",
              "    <tr>\n",
              "      <th>50427</th>\n",
              "      <td>MainScreenAppear</td>\n",
              "      <td>7659966779755755702</td>\n",
              "      <td>2019-08-02 09:42:31</td>\n",
              "      <td>248</td>\n",
              "      <td>2019-08-02</td>\n",
              "    </tr>\n",
              "  </tbody>\n",
              "</table>\n",
              "</div>\n",
              "      <button class=\"colab-df-convert\" onclick=\"convertToInteractive('df-59b8ab4c-77f6-4acf-a066-ef5bc3416a56')\"\n",
              "              title=\"Convert this dataframe to an interactive table.\"\n",
              "              style=\"display:none;\">\n",
              "        \n",
              "  <svg xmlns=\"http://www.w3.org/2000/svg\" height=\"24px\"viewBox=\"0 0 24 24\"\n",
              "       width=\"24px\">\n",
              "    <path d=\"M0 0h24v24H0V0z\" fill=\"none\"/>\n",
              "    <path d=\"M18.56 5.44l.94 2.06.94-2.06 2.06-.94-2.06-.94-.94-2.06-.94 2.06-2.06.94zm-11 1L8.5 8.5l.94-2.06 2.06-.94-2.06-.94L8.5 2.5l-.94 2.06-2.06.94zm10 10l.94 2.06.94-2.06 2.06-.94-2.06-.94-.94-2.06-.94 2.06-2.06.94z\"/><path d=\"M17.41 7.96l-1.37-1.37c-.4-.4-.92-.59-1.43-.59-.52 0-1.04.2-1.43.59L10.3 9.45l-7.72 7.72c-.78.78-.78 2.05 0 2.83L4 21.41c.39.39.9.59 1.41.59.51 0 1.02-.2 1.41-.59l7.78-7.78 2.81-2.81c.8-.78.8-2.07 0-2.86zM5.41 20L4 18.59l7.72-7.72 1.47 1.35L5.41 20z\"/>\n",
              "  </svg>\n",
              "      </button>\n",
              "      \n",
              "  <style>\n",
              "    .colab-df-container {\n",
              "      display:flex;\n",
              "      flex-wrap:wrap;\n",
              "      gap: 12px;\n",
              "    }\n",
              "\n",
              "    .colab-df-convert {\n",
              "      background-color: #E8F0FE;\n",
              "      border: none;\n",
              "      border-radius: 50%;\n",
              "      cursor: pointer;\n",
              "      display: none;\n",
              "      fill: #1967D2;\n",
              "      height: 32px;\n",
              "      padding: 0 0 0 0;\n",
              "      width: 32px;\n",
              "    }\n",
              "\n",
              "    .colab-df-convert:hover {\n",
              "      background-color: #E2EBFA;\n",
              "      box-shadow: 0px 1px 2px rgba(60, 64, 67, 0.3), 0px 1px 3px 1px rgba(60, 64, 67, 0.15);\n",
              "      fill: #174EA6;\n",
              "    }\n",
              "\n",
              "    [theme=dark] .colab-df-convert {\n",
              "      background-color: #3B4455;\n",
              "      fill: #D2E3FC;\n",
              "    }\n",
              "\n",
              "    [theme=dark] .colab-df-convert:hover {\n",
              "      background-color: #434B5C;\n",
              "      box-shadow: 0px 1px 3px 1px rgba(0, 0, 0, 0.15);\n",
              "      filter: drop-shadow(0px 1px 2px rgba(0, 0, 0, 0.3));\n",
              "      fill: #FFFFFF;\n",
              "    }\n",
              "  </style>\n",
              "\n",
              "      <script>\n",
              "        const buttonEl =\n",
              "          document.querySelector('#df-59b8ab4c-77f6-4acf-a066-ef5bc3416a56 button.colab-df-convert');\n",
              "        buttonEl.style.display =\n",
              "          google.colab.kernel.accessAllowed ? 'block' : 'none';\n",
              "\n",
              "        async function convertToInteractive(key) {\n",
              "          const element = document.querySelector('#df-59b8ab4c-77f6-4acf-a066-ef5bc3416a56');\n",
              "          const dataTable =\n",
              "            await google.colab.kernel.invokeFunction('convertToInteractive',\n",
              "                                                     [key], {});\n",
              "          if (!dataTable) return;\n",
              "\n",
              "          const docLinkHtml = 'Like what you see? Visit the ' +\n",
              "            '<a target=\"_blank\" href=https://colab.research.google.com/notebooks/data_table.ipynb>data table notebook</a>'\n",
              "            + ' to learn more about interactive tables.';\n",
              "          element.innerHTML = '';\n",
              "          dataTable['output_type'] = 'display_data';\n",
              "          await google.colab.output.renderOutput(dataTable, element);\n",
              "          const docLink = document.createElement('div');\n",
              "          docLink.innerHTML = docLinkHtml;\n",
              "          element.appendChild(docLink);\n",
              "        }\n",
              "      </script>\n",
              "    </div>\n",
              "  </div>\n",
              "  "
            ]
          },
          "metadata": {},
          "execution_count": 114
        }
      ],
      "source": [
        "# rename colunms\n",
        "data = data.rename(columns={'EventName': 'event', 'DeviceIDHash': 'user_id', \n",
        "                            'EventTimestamp': 'date_time', 'ExpId': 'group_id'})\n",
        "\n",
        "# date_time data type replacement: \n",
        "data['date_time'] = pd.to_datetime(data['date_time'], unit='s')\n",
        "\n",
        "# adding a field with a date:\n",
        "data['date'] = pd.to_datetime(data['date_time'].dt.date)\n",
        "data.sample(10)"
      ]
    },
    {
      "cell_type": "code",
      "execution_count": 115,
      "metadata": {
        "colab": {
          "base_uri": "https://localhost:8080/"
        },
        "id": "QQwHTkFCJMls",
        "outputId": "a61e29e7-c061-4a46-b52c-76c2d67ed237"
      },
      "outputs": [
        {
          "output_type": "stream",
          "name": "stdout",
          "text": [
            "Lines to process: 244126\n",
            "Lines after processing: 243713\n"
          ]
        }
      ],
      "source": [
        "# remove duplicates\n",
        "print('Lines to process:', len(data))\n",
        "data = data.drop_duplicates().reset_index(drop=True)\n",
        "print('Lines after processing:', len(data))"
      ]
    },
    {
      "cell_type": "code",
      "execution_count": 116,
      "metadata": {
        "colab": {
          "base_uri": "https://localhost:8080/",
          "height": 571
        },
        "id": "0QSoKCrtJMls",
        "outputId": "91ca33e9-422f-4d8a-f4c8-f46348de3de5"
      },
      "outputs": [
        {
          "output_type": "stream",
          "name": "stdout",
          "text": [
            "<class 'pandas.core.frame.DataFrame'>\n",
            "RangeIndex: 243713 entries, 0 to 243712\n",
            "Data columns (total 5 columns):\n",
            " #   Column     Non-Null Count   Dtype         \n",
            "---  ------     --------------   -----         \n",
            " 0   event      243713 non-null  object        \n",
            " 1   user_id    243713 non-null  int64         \n",
            " 2   date_time  243713 non-null  datetime64[ns]\n",
            " 3   group_id   243713 non-null  int64         \n",
            " 4   date       243713 non-null  datetime64[ns]\n",
            "dtypes: datetime64[ns](2), int64(2), object(1)\n",
            "memory usage: 9.3+ MB\n"
          ]
        },
        {
          "output_type": "execute_result",
          "data": {
            "text/plain": [
              "                          event              user_id           date_time  \\\n",
              "166049         MainScreenAppear   174090519001326370 2019-08-05 16:00:48   \n",
              "50180          CartScreenAppear  9097760240767809307 2019-08-02 09:38:43   \n",
              "57484          CartScreenAppear  4581794435043716955 2019-08-02 13:08:07   \n",
              "9498    PaymentScreenSuccessful  4255292036659954730 2019-08-01 08:03:39   \n",
              "49967          CartScreenAppear  6920072313098358732 2019-08-02 09:32:34   \n",
              "83130        OffersScreenAppear  8750564944967172984 2019-08-03 09:20:56   \n",
              "229491         MainScreenAppear  3093106157885860283 2019-08-07 13:42:13   \n",
              "59004          MainScreenAppear   659501983999336229 2019-08-02 13:45:37   \n",
              "212330         MainScreenAppear  5544148285343180890 2019-08-06 22:11:30   \n",
              "187527         MainScreenAppear  1524322915255226164 2019-08-06 09:31:26   \n",
              "\n",
              "        group_id       date  \n",
              "166049       246 2019-08-05  \n",
              "50180        247 2019-08-02  \n",
              "57484        247 2019-08-02  \n",
              "9498         246 2019-08-01  \n",
              "49967        248 2019-08-02  \n",
              "83130        248 2019-08-03  \n",
              "229491       247 2019-08-07  \n",
              "59004        248 2019-08-02  \n",
              "212330       246 2019-08-06  \n",
              "187527       247 2019-08-06  "
            ],
            "text/html": [
              "\n",
              "  <div id=\"df-ce0cb8ba-268d-4380-8b02-f812fa17f938\">\n",
              "    <div class=\"colab-df-container\">\n",
              "      <div>\n",
              "<style scoped>\n",
              "    .dataframe tbody tr th:only-of-type {\n",
              "        vertical-align: middle;\n",
              "    }\n",
              "\n",
              "    .dataframe tbody tr th {\n",
              "        vertical-align: top;\n",
              "    }\n",
              "\n",
              "    .dataframe thead th {\n",
              "        text-align: right;\n",
              "    }\n",
              "</style>\n",
              "<table border=\"1\" class=\"dataframe\">\n",
              "  <thead>\n",
              "    <tr style=\"text-align: right;\">\n",
              "      <th></th>\n",
              "      <th>event</th>\n",
              "      <th>user_id</th>\n",
              "      <th>date_time</th>\n",
              "      <th>group_id</th>\n",
              "      <th>date</th>\n",
              "    </tr>\n",
              "  </thead>\n",
              "  <tbody>\n",
              "    <tr>\n",
              "      <th>166049</th>\n",
              "      <td>MainScreenAppear</td>\n",
              "      <td>174090519001326370</td>\n",
              "      <td>2019-08-05 16:00:48</td>\n",
              "      <td>246</td>\n",
              "      <td>2019-08-05</td>\n",
              "    </tr>\n",
              "    <tr>\n",
              "      <th>50180</th>\n",
              "      <td>CartScreenAppear</td>\n",
              "      <td>9097760240767809307</td>\n",
              "      <td>2019-08-02 09:38:43</td>\n",
              "      <td>247</td>\n",
              "      <td>2019-08-02</td>\n",
              "    </tr>\n",
              "    <tr>\n",
              "      <th>57484</th>\n",
              "      <td>CartScreenAppear</td>\n",
              "      <td>4581794435043716955</td>\n",
              "      <td>2019-08-02 13:08:07</td>\n",
              "      <td>247</td>\n",
              "      <td>2019-08-02</td>\n",
              "    </tr>\n",
              "    <tr>\n",
              "      <th>9498</th>\n",
              "      <td>PaymentScreenSuccessful</td>\n",
              "      <td>4255292036659954730</td>\n",
              "      <td>2019-08-01 08:03:39</td>\n",
              "      <td>246</td>\n",
              "      <td>2019-08-01</td>\n",
              "    </tr>\n",
              "    <tr>\n",
              "      <th>49967</th>\n",
              "      <td>CartScreenAppear</td>\n",
              "      <td>6920072313098358732</td>\n",
              "      <td>2019-08-02 09:32:34</td>\n",
              "      <td>248</td>\n",
              "      <td>2019-08-02</td>\n",
              "    </tr>\n",
              "    <tr>\n",
              "      <th>83130</th>\n",
              "      <td>OffersScreenAppear</td>\n",
              "      <td>8750564944967172984</td>\n",
              "      <td>2019-08-03 09:20:56</td>\n",
              "      <td>248</td>\n",
              "      <td>2019-08-03</td>\n",
              "    </tr>\n",
              "    <tr>\n",
              "      <th>229491</th>\n",
              "      <td>MainScreenAppear</td>\n",
              "      <td>3093106157885860283</td>\n",
              "      <td>2019-08-07 13:42:13</td>\n",
              "      <td>247</td>\n",
              "      <td>2019-08-07</td>\n",
              "    </tr>\n",
              "    <tr>\n",
              "      <th>59004</th>\n",
              "      <td>MainScreenAppear</td>\n",
              "      <td>659501983999336229</td>\n",
              "      <td>2019-08-02 13:45:37</td>\n",
              "      <td>248</td>\n",
              "      <td>2019-08-02</td>\n",
              "    </tr>\n",
              "    <tr>\n",
              "      <th>212330</th>\n",
              "      <td>MainScreenAppear</td>\n",
              "      <td>5544148285343180890</td>\n",
              "      <td>2019-08-06 22:11:30</td>\n",
              "      <td>246</td>\n",
              "      <td>2019-08-06</td>\n",
              "    </tr>\n",
              "    <tr>\n",
              "      <th>187527</th>\n",
              "      <td>MainScreenAppear</td>\n",
              "      <td>1524322915255226164</td>\n",
              "      <td>2019-08-06 09:31:26</td>\n",
              "      <td>247</td>\n",
              "      <td>2019-08-06</td>\n",
              "    </tr>\n",
              "  </tbody>\n",
              "</table>\n",
              "</div>\n",
              "      <button class=\"colab-df-convert\" onclick=\"convertToInteractive('df-ce0cb8ba-268d-4380-8b02-f812fa17f938')\"\n",
              "              title=\"Convert this dataframe to an interactive table.\"\n",
              "              style=\"display:none;\">\n",
              "        \n",
              "  <svg xmlns=\"http://www.w3.org/2000/svg\" height=\"24px\"viewBox=\"0 0 24 24\"\n",
              "       width=\"24px\">\n",
              "    <path d=\"M0 0h24v24H0V0z\" fill=\"none\"/>\n",
              "    <path d=\"M18.56 5.44l.94 2.06.94-2.06 2.06-.94-2.06-.94-.94-2.06-.94 2.06-2.06.94zm-11 1L8.5 8.5l.94-2.06 2.06-.94-2.06-.94L8.5 2.5l-.94 2.06-2.06.94zm10 10l.94 2.06.94-2.06 2.06-.94-2.06-.94-.94-2.06-.94 2.06-2.06.94z\"/><path d=\"M17.41 7.96l-1.37-1.37c-.4-.4-.92-.59-1.43-.59-.52 0-1.04.2-1.43.59L10.3 9.45l-7.72 7.72c-.78.78-.78 2.05 0 2.83L4 21.41c.39.39.9.59 1.41.59.51 0 1.02-.2 1.41-.59l7.78-7.78 2.81-2.81c.8-.78.8-2.07 0-2.86zM5.41 20L4 18.59l7.72-7.72 1.47 1.35L5.41 20z\"/>\n",
              "  </svg>\n",
              "      </button>\n",
              "      \n",
              "  <style>\n",
              "    .colab-df-container {\n",
              "      display:flex;\n",
              "      flex-wrap:wrap;\n",
              "      gap: 12px;\n",
              "    }\n",
              "\n",
              "    .colab-df-convert {\n",
              "      background-color: #E8F0FE;\n",
              "      border: none;\n",
              "      border-radius: 50%;\n",
              "      cursor: pointer;\n",
              "      display: none;\n",
              "      fill: #1967D2;\n",
              "      height: 32px;\n",
              "      padding: 0 0 0 0;\n",
              "      width: 32px;\n",
              "    }\n",
              "\n",
              "    .colab-df-convert:hover {\n",
              "      background-color: #E2EBFA;\n",
              "      box-shadow: 0px 1px 2px rgba(60, 64, 67, 0.3), 0px 1px 3px 1px rgba(60, 64, 67, 0.15);\n",
              "      fill: #174EA6;\n",
              "    }\n",
              "\n",
              "    [theme=dark] .colab-df-convert {\n",
              "      background-color: #3B4455;\n",
              "      fill: #D2E3FC;\n",
              "    }\n",
              "\n",
              "    [theme=dark] .colab-df-convert:hover {\n",
              "      background-color: #434B5C;\n",
              "      box-shadow: 0px 1px 3px 1px rgba(0, 0, 0, 0.15);\n",
              "      filter: drop-shadow(0px 1px 2px rgba(0, 0, 0, 0.3));\n",
              "      fill: #FFFFFF;\n",
              "    }\n",
              "  </style>\n",
              "\n",
              "      <script>\n",
              "        const buttonEl =\n",
              "          document.querySelector('#df-ce0cb8ba-268d-4380-8b02-f812fa17f938 button.colab-df-convert');\n",
              "        buttonEl.style.display =\n",
              "          google.colab.kernel.accessAllowed ? 'block' : 'none';\n",
              "\n",
              "        async function convertToInteractive(key) {\n",
              "          const element = document.querySelector('#df-ce0cb8ba-268d-4380-8b02-f812fa17f938');\n",
              "          const dataTable =\n",
              "            await google.colab.kernel.invokeFunction('convertToInteractive',\n",
              "                                                     [key], {});\n",
              "          if (!dataTable) return;\n",
              "\n",
              "          const docLinkHtml = 'Like what you see? Visit the ' +\n",
              "            '<a target=\"_blank\" href=https://colab.research.google.com/notebooks/data_table.ipynb>data table notebook</a>'\n",
              "            + ' to learn more about interactive tables.';\n",
              "          element.innerHTML = '';\n",
              "          dataTable['output_type'] = 'display_data';\n",
              "          await google.colab.output.renderOutput(dataTable, element);\n",
              "          const docLink = document.createElement('div');\n",
              "          docLink.innerHTML = docLinkHtml;\n",
              "          element.appendChild(docLink);\n",
              "        }\n",
              "      </script>\n",
              "    </div>\n",
              "  </div>\n",
              "  "
            ]
          },
          "metadata": {},
          "execution_count": 116
        }
      ],
      "source": [
        "# correction check\n",
        "data.info()\n",
        "data.sample(10)"
      ]
    },
    {
      "cell_type": "markdown",
      "metadata": {
        "id": "prnfUXmfJMlt"
      },
      "source": [
        "We will also check whether users in the groups overlap. If there are such users, it may affect the purity of the further experiment."
      ]
    },
    {
      "cell_type": "code",
      "execution_count": 117,
      "metadata": {
        "scrolled": true,
        "colab": {
          "base_uri": "https://localhost:8080/",
          "height": 49
        },
        "id": "XWrin_RSJMlt",
        "outputId": "be104e1c-b27e-45c2-e647-dab0e1ba0e1d"
      },
      "outputs": [
        {
          "output_type": "execute_result",
          "data": {
            "text/plain": [
              "Empty DataFrame\n",
              "Columns: [user_id, group_id]\n",
              "Index: []"
            ],
            "text/html": [
              "\n",
              "  <div id=\"df-d2366409-aa79-4e95-b1cf-fbf83d55d84b\">\n",
              "    <div class=\"colab-df-container\">\n",
              "      <div>\n",
              "<style scoped>\n",
              "    .dataframe tbody tr th:only-of-type {\n",
              "        vertical-align: middle;\n",
              "    }\n",
              "\n",
              "    .dataframe tbody tr th {\n",
              "        vertical-align: top;\n",
              "    }\n",
              "\n",
              "    .dataframe thead th {\n",
              "        text-align: right;\n",
              "    }\n",
              "</style>\n",
              "<table border=\"1\" class=\"dataframe\">\n",
              "  <thead>\n",
              "    <tr style=\"text-align: right;\">\n",
              "      <th></th>\n",
              "      <th>user_id</th>\n",
              "      <th>group_id</th>\n",
              "    </tr>\n",
              "  </thead>\n",
              "  <tbody>\n",
              "  </tbody>\n",
              "</table>\n",
              "</div>\n",
              "      <button class=\"colab-df-convert\" onclick=\"convertToInteractive('df-d2366409-aa79-4e95-b1cf-fbf83d55d84b')\"\n",
              "              title=\"Convert this dataframe to an interactive table.\"\n",
              "              style=\"display:none;\">\n",
              "        \n",
              "  <svg xmlns=\"http://www.w3.org/2000/svg\" height=\"24px\"viewBox=\"0 0 24 24\"\n",
              "       width=\"24px\">\n",
              "    <path d=\"M0 0h24v24H0V0z\" fill=\"none\"/>\n",
              "    <path d=\"M18.56 5.44l.94 2.06.94-2.06 2.06-.94-2.06-.94-.94-2.06-.94 2.06-2.06.94zm-11 1L8.5 8.5l.94-2.06 2.06-.94-2.06-.94L8.5 2.5l-.94 2.06-2.06.94zm10 10l.94 2.06.94-2.06 2.06-.94-2.06-.94-.94-2.06-.94 2.06-2.06.94z\"/><path d=\"M17.41 7.96l-1.37-1.37c-.4-.4-.92-.59-1.43-.59-.52 0-1.04.2-1.43.59L10.3 9.45l-7.72 7.72c-.78.78-.78 2.05 0 2.83L4 21.41c.39.39.9.59 1.41.59.51 0 1.02-.2 1.41-.59l7.78-7.78 2.81-2.81c.8-.78.8-2.07 0-2.86zM5.41 20L4 18.59l7.72-7.72 1.47 1.35L5.41 20z\"/>\n",
              "  </svg>\n",
              "      </button>\n",
              "      \n",
              "  <style>\n",
              "    .colab-df-container {\n",
              "      display:flex;\n",
              "      flex-wrap:wrap;\n",
              "      gap: 12px;\n",
              "    }\n",
              "\n",
              "    .colab-df-convert {\n",
              "      background-color: #E8F0FE;\n",
              "      border: none;\n",
              "      border-radius: 50%;\n",
              "      cursor: pointer;\n",
              "      display: none;\n",
              "      fill: #1967D2;\n",
              "      height: 32px;\n",
              "      padding: 0 0 0 0;\n",
              "      width: 32px;\n",
              "    }\n",
              "\n",
              "    .colab-df-convert:hover {\n",
              "      background-color: #E2EBFA;\n",
              "      box-shadow: 0px 1px 2px rgba(60, 64, 67, 0.3), 0px 1px 3px 1px rgba(60, 64, 67, 0.15);\n",
              "      fill: #174EA6;\n",
              "    }\n",
              "\n",
              "    [theme=dark] .colab-df-convert {\n",
              "      background-color: #3B4455;\n",
              "      fill: #D2E3FC;\n",
              "    }\n",
              "\n",
              "    [theme=dark] .colab-df-convert:hover {\n",
              "      background-color: #434B5C;\n",
              "      box-shadow: 0px 1px 3px 1px rgba(0, 0, 0, 0.15);\n",
              "      filter: drop-shadow(0px 1px 2px rgba(0, 0, 0, 0.3));\n",
              "      fill: #FFFFFF;\n",
              "    }\n",
              "  </style>\n",
              "\n",
              "      <script>\n",
              "        const buttonEl =\n",
              "          document.querySelector('#df-d2366409-aa79-4e95-b1cf-fbf83d55d84b button.colab-df-convert');\n",
              "        buttonEl.style.display =\n",
              "          google.colab.kernel.accessAllowed ? 'block' : 'none';\n",
              "\n",
              "        async function convertToInteractive(key) {\n",
              "          const element = document.querySelector('#df-d2366409-aa79-4e95-b1cf-fbf83d55d84b');\n",
              "          const dataTable =\n",
              "            await google.colab.kernel.invokeFunction('convertToInteractive',\n",
              "                                                     [key], {});\n",
              "          if (!dataTable) return;\n",
              "\n",
              "          const docLinkHtml = 'Like what you see? Visit the ' +\n",
              "            '<a target=\"_blank\" href=https://colab.research.google.com/notebooks/data_table.ipynb>data table notebook</a>'\n",
              "            + ' to learn more about interactive tables.';\n",
              "          element.innerHTML = '';\n",
              "          dataTable['output_type'] = 'display_data';\n",
              "          await google.colab.output.renderOutput(dataTable, element);\n",
              "          const docLink = document.createElement('div');\n",
              "          docLink.innerHTML = docLinkHtml;\n",
              "          element.appendChild(docLink);\n",
              "        }\n",
              "      </script>\n",
              "    </div>\n",
              "  </div>\n",
              "  "
            ]
          },
          "metadata": {},
          "execution_count": 117
        }
      ],
      "source": [
        "data.groupby('user_id')['group_id'].nunique().reset_index().query('group_id > 1')"
      ]
    },
    {
      "cell_type": "markdown",
      "metadata": {
        "id": "4UgPvGugJMlt"
      },
      "source": [
        "We will also look at the start and end dates of the test in each experimental group:"
      ]
    },
    {
      "cell_type": "code",
      "execution_count": 118,
      "metadata": {
        "scrolled": true,
        "colab": {
          "base_uri": "https://localhost:8080/",
          "height": 366
        },
        "id": "YmFLD3C0JMlu",
        "outputId": "cb003863-7215-492c-c58e-be5ff28b25d5"
      },
      "outputs": [
        {
          "output_type": "stream",
          "name": "stdout",
          "text": [
            "Date of first log entry by group: group_id\n",
            "246   2019-07-25 04:43:36\n",
            "247   2019-07-25 20:31:42\n",
            "248   2019-07-25 11:28:47\n",
            "Name: date_time, dtype: datetime64[ns]\n",
            " \n",
            "Date of last entry in the log by group: group_id\n",
            "246   2019-08-07 21:15:17\n",
            "247   2019-08-07 21:12:25\n",
            "248   2019-08-07 21:10:08\n",
            "Name: date_time, dtype: datetime64[ns]\n"
          ]
        },
        {
          "output_type": "execute_result",
          "data": {
            "text/plain": [
              "          count unique                  top freq                first  \\\n",
              "group_id                                                                \n",
              "246       80181  66582  2019-08-01 13:06:35    7  2019-07-25 04:43:36   \n",
              "247       77950  65712  2019-08-04 16:23:19    8  2019-07-25 20:31:42   \n",
              "248       85582  71929  2019-08-05 12:47:50    7  2019-07-25 11:28:47   \n",
              "\n",
              "                         last  \n",
              "group_id                       \n",
              "246       2019-08-07 21:15:17  \n",
              "247       2019-08-07 21:12:25  \n",
              "248       2019-08-07 21:10:08  "
            ],
            "text/html": [
              "\n",
              "  <div id=\"df-2f75e266-cc70-4bb0-8c44-e76fb45be32c\">\n",
              "    <div class=\"colab-df-container\">\n",
              "      <div>\n",
              "<style scoped>\n",
              "    .dataframe tbody tr th:only-of-type {\n",
              "        vertical-align: middle;\n",
              "    }\n",
              "\n",
              "    .dataframe tbody tr th {\n",
              "        vertical-align: top;\n",
              "    }\n",
              "\n",
              "    .dataframe thead th {\n",
              "        text-align: right;\n",
              "    }\n",
              "</style>\n",
              "<table border=\"1\" class=\"dataframe\">\n",
              "  <thead>\n",
              "    <tr style=\"text-align: right;\">\n",
              "      <th></th>\n",
              "      <th>count</th>\n",
              "      <th>unique</th>\n",
              "      <th>top</th>\n",
              "      <th>freq</th>\n",
              "      <th>first</th>\n",
              "      <th>last</th>\n",
              "    </tr>\n",
              "    <tr>\n",
              "      <th>group_id</th>\n",
              "      <th></th>\n",
              "      <th></th>\n",
              "      <th></th>\n",
              "      <th></th>\n",
              "      <th></th>\n",
              "      <th></th>\n",
              "    </tr>\n",
              "  </thead>\n",
              "  <tbody>\n",
              "    <tr>\n",
              "      <th>246</th>\n",
              "      <td>80181</td>\n",
              "      <td>66582</td>\n",
              "      <td>2019-08-01 13:06:35</td>\n",
              "      <td>7</td>\n",
              "      <td>2019-07-25 04:43:36</td>\n",
              "      <td>2019-08-07 21:15:17</td>\n",
              "    </tr>\n",
              "    <tr>\n",
              "      <th>247</th>\n",
              "      <td>77950</td>\n",
              "      <td>65712</td>\n",
              "      <td>2019-08-04 16:23:19</td>\n",
              "      <td>8</td>\n",
              "      <td>2019-07-25 20:31:42</td>\n",
              "      <td>2019-08-07 21:12:25</td>\n",
              "    </tr>\n",
              "    <tr>\n",
              "      <th>248</th>\n",
              "      <td>85582</td>\n",
              "      <td>71929</td>\n",
              "      <td>2019-08-05 12:47:50</td>\n",
              "      <td>7</td>\n",
              "      <td>2019-07-25 11:28:47</td>\n",
              "      <td>2019-08-07 21:10:08</td>\n",
              "    </tr>\n",
              "  </tbody>\n",
              "</table>\n",
              "</div>\n",
              "      <button class=\"colab-df-convert\" onclick=\"convertToInteractive('df-2f75e266-cc70-4bb0-8c44-e76fb45be32c')\"\n",
              "              title=\"Convert this dataframe to an interactive table.\"\n",
              "              style=\"display:none;\">\n",
              "        \n",
              "  <svg xmlns=\"http://www.w3.org/2000/svg\" height=\"24px\"viewBox=\"0 0 24 24\"\n",
              "       width=\"24px\">\n",
              "    <path d=\"M0 0h24v24H0V0z\" fill=\"none\"/>\n",
              "    <path d=\"M18.56 5.44l.94 2.06.94-2.06 2.06-.94-2.06-.94-.94-2.06-.94 2.06-2.06.94zm-11 1L8.5 8.5l.94-2.06 2.06-.94-2.06-.94L8.5 2.5l-.94 2.06-2.06.94zm10 10l.94 2.06.94-2.06 2.06-.94-2.06-.94-.94-2.06-.94 2.06-2.06.94z\"/><path d=\"M17.41 7.96l-1.37-1.37c-.4-.4-.92-.59-1.43-.59-.52 0-1.04.2-1.43.59L10.3 9.45l-7.72 7.72c-.78.78-.78 2.05 0 2.83L4 21.41c.39.39.9.59 1.41.59.51 0 1.02-.2 1.41-.59l7.78-7.78 2.81-2.81c.8-.78.8-2.07 0-2.86zM5.41 20L4 18.59l7.72-7.72 1.47 1.35L5.41 20z\"/>\n",
              "  </svg>\n",
              "      </button>\n",
              "      \n",
              "  <style>\n",
              "    .colab-df-container {\n",
              "      display:flex;\n",
              "      flex-wrap:wrap;\n",
              "      gap: 12px;\n",
              "    }\n",
              "\n",
              "    .colab-df-convert {\n",
              "      background-color: #E8F0FE;\n",
              "      border: none;\n",
              "      border-radius: 50%;\n",
              "      cursor: pointer;\n",
              "      display: none;\n",
              "      fill: #1967D2;\n",
              "      height: 32px;\n",
              "      padding: 0 0 0 0;\n",
              "      width: 32px;\n",
              "    }\n",
              "\n",
              "    .colab-df-convert:hover {\n",
              "      background-color: #E2EBFA;\n",
              "      box-shadow: 0px 1px 2px rgba(60, 64, 67, 0.3), 0px 1px 3px 1px rgba(60, 64, 67, 0.15);\n",
              "      fill: #174EA6;\n",
              "    }\n",
              "\n",
              "    [theme=dark] .colab-df-convert {\n",
              "      background-color: #3B4455;\n",
              "      fill: #D2E3FC;\n",
              "    }\n",
              "\n",
              "    [theme=dark] .colab-df-convert:hover {\n",
              "      background-color: #434B5C;\n",
              "      box-shadow: 0px 1px 3px 1px rgba(0, 0, 0, 0.15);\n",
              "      filter: drop-shadow(0px 1px 2px rgba(0, 0, 0, 0.3));\n",
              "      fill: #FFFFFF;\n",
              "    }\n",
              "  </style>\n",
              "\n",
              "      <script>\n",
              "        const buttonEl =\n",
              "          document.querySelector('#df-2f75e266-cc70-4bb0-8c44-e76fb45be32c button.colab-df-convert');\n",
              "        buttonEl.style.display =\n",
              "          google.colab.kernel.accessAllowed ? 'block' : 'none';\n",
              "\n",
              "        async function convertToInteractive(key) {\n",
              "          const element = document.querySelector('#df-2f75e266-cc70-4bb0-8c44-e76fb45be32c');\n",
              "          const dataTable =\n",
              "            await google.colab.kernel.invokeFunction('convertToInteractive',\n",
              "                                                     [key], {});\n",
              "          if (!dataTable) return;\n",
              "\n",
              "          const docLinkHtml = 'Like what you see? Visit the ' +\n",
              "            '<a target=\"_blank\" href=https://colab.research.google.com/notebooks/data_table.ipynb>data table notebook</a>'\n",
              "            + ' to learn more about interactive tables.';\n",
              "          element.innerHTML = '';\n",
              "          dataTable['output_type'] = 'display_data';\n",
              "          await google.colab.output.renderOutput(dataTable, element);\n",
              "          const docLink = document.createElement('div');\n",
              "          docLink.innerHTML = docLinkHtml;\n",
              "          element.appendChild(docLink);\n",
              "        }\n",
              "      </script>\n",
              "    </div>\n",
              "  </div>\n",
              "  "
            ]
          },
          "metadata": {},
          "execution_count": 118
        }
      ],
      "source": [
        "start = data.groupby('group_id')['date_time'].min()\n",
        "finish = data.groupby('group_id')['date_time'].max()\n",
        "first = data.groupby('group_id')['date_time'].describe()\n",
        "\n",
        "print('Date of first log entry by group:', start)\n",
        "print(' ')\n",
        "print('Date of last entry in the log by group:', finish)\n",
        "\n",
        "first"
      ]
    },
    {
      "cell_type": "markdown",
      "metadata": {
        "id": "pQ5E9FL-JMlu"
      },
      "source": [
        "Each group began and ended testing on the same dates, which were July 25, 2019 to August 07, 2019."
      ]
    },
    {
      "cell_type": "markdown",
      "metadata": {
        "id": "64lTSDH5JMlu"
      },
      "source": [
        "Thus, during data processing, the following errors were eliminated:\n",
        "1. Column names were made readable and understandable;\n",
        "2. The data type in `date_time` column was corrected;\n",
        "3. Separate column for date was created;\n",
        "4. Removed duplicates, as their percentage of the total data is less than 1%, and their removal will not affect further research;\n",
        "5. Additional checking of users in groups was done;\n",
        "6. Identified the start and end dates of testing by group."
      ]
    },
    {
      "cell_type": "markdown",
      "metadata": {
        "id": "FVyzNWBtJMlv"
      },
      "source": [
        "## Data research and verification"
      ]
    },
    {
      "cell_type": "markdown",
      "metadata": {
        "id": "nyYoVbx1JMlv"
      },
      "source": [
        "### Number of events in log"
      ]
    },
    {
      "cell_type": "code",
      "execution_count": 119,
      "metadata": {
        "colab": {
          "base_uri": "https://localhost:8080/",
          "height": 788
        },
        "id": "BMCLfGsFJMlv",
        "outputId": "f5aa0413-1d5b-491f-8187-6ab6416e3e3f"
      },
      "outputs": [
        {
          "output_type": "display_data",
          "data": {
            "text/plain": [
              "<Figure size 1400x600 with 1 Axes>"
            ],
            "image/png": "[encoded data removed]"
          },
          "metadata": {}
        },
        {
          "output_type": "display_data",
          "data": {
            "text/plain": [
              "                     Event   Count\n",
              "1         MainScreenAppear  119101\n",
              "2       OffersScreenAppear   46808\n",
              "0         CartScreenAppear   42668\n",
              "3  PaymentScreenSuccessful   34118\n",
              "4                 Tutorial    1018"
            ],
            "text/html": [
              "\n",
              "  <div id=\"df-244752d5-7e4e-487e-89d9-8a8759f4defd\">\n",
              "    <div class=\"colab-df-container\">\n",
              "      <div>\n",
              "<style scoped>\n",
              "    .dataframe tbody tr th:only-of-type {\n",
              "        vertical-align: middle;\n",
              "    }\n",
              "\n",
              "    .dataframe tbody tr th {\n",
              "        vertical-align: top;\n",
              "    }\n",
              "\n",
              "    .dataframe thead th {\n",
              "        text-align: right;\n",
              "    }\n",
              "</style>\n",
              "<table border=\"1\" class=\"dataframe\">\n",
              "  <thead>\n",
              "    <tr style=\"text-align: right;\">\n",
              "      <th></th>\n",
              "      <th>Event</th>\n",
              "      <th>Count</th>\n",
              "    </tr>\n",
              "  </thead>\n",
              "  <tbody>\n",
              "    <tr>\n",
              "      <th>1</th>\n",
              "      <td>MainScreenAppear</td>\n",
              "      <td>119101</td>\n",
              "    </tr>\n",
              "    <tr>\n",
              "      <th>2</th>\n",
              "      <td>OffersScreenAppear</td>\n",
              "      <td>46808</td>\n",
              "    </tr>\n",
              "    <tr>\n",
              "      <th>0</th>\n",
              "      <td>CartScreenAppear</td>\n",
              "      <td>42668</td>\n",
              "    </tr>\n",
              "    <tr>\n",
              "      <th>3</th>\n",
              "      <td>PaymentScreenSuccessful</td>\n",
              "      <td>34118</td>\n",
              "    </tr>\n",
              "    <tr>\n",
              "      <th>4</th>\n",
              "      <td>Tutorial</td>\n",
              "      <td>1018</td>\n",
              "    </tr>\n",
              "  </tbody>\n",
              "</table>\n",
              "</div>\n",
              "      <button class=\"colab-df-convert\" onclick=\"convertToInteractive('df-244752d5-7e4e-487e-89d9-8a8759f4defd')\"\n",
              "              title=\"Convert this dataframe to an interactive table.\"\n",
              "              style=\"display:none;\">\n",
              "        \n",
              "  <svg xmlns=\"http://www.w3.org/2000/svg\" height=\"24px\"viewBox=\"0 0 24 24\"\n",
              "       width=\"24px\">\n",
              "    <path d=\"M0 0h24v24H0V0z\" fill=\"none\"/>\n",
              "    <path d=\"M18.56 5.44l.94 2.06.94-2.06 2.06-.94-2.06-.94-.94-2.06-.94 2.06-2.06.94zm-11 1L8.5 8.5l.94-2.06 2.06-.94-2.06-.94L8.5 2.5l-.94 2.06-2.06.94zm10 10l.94 2.06.94-2.06 2.06-.94-2.06-.94-.94-2.06-.94 2.06-2.06.94z\"/><path d=\"M17.41 7.96l-1.37-1.37c-.4-.4-.92-.59-1.43-.59-.52 0-1.04.2-1.43.59L10.3 9.45l-7.72 7.72c-.78.78-.78 2.05 0 2.83L4 21.41c.39.39.9.59 1.41.59.51 0 1.02-.2 1.41-.59l7.78-7.78 2.81-2.81c.8-.78.8-2.07 0-2.86zM5.41 20L4 18.59l7.72-7.72 1.47 1.35L5.41 20z\"/>\n",
              "  </svg>\n",
              "      </button>\n",
              "      \n",
              "  <style>\n",
              "    .colab-df-container {\n",
              "      display:flex;\n",
              "      flex-wrap:wrap;\n",
              "      gap: 12px;\n",
              "    }\n",
              "\n",
              "    .colab-df-convert {\n",
              "      background-color: #E8F0FE;\n",
              "      border: none;\n",
              "      border-radius: 50%;\n",
              "      cursor: pointer;\n",
              "      display: none;\n",
              "      fill: #1967D2;\n",
              "      height: 32px;\n",
              "      padding: 0 0 0 0;\n",
              "      width: 32px;\n",
              "    }\n",
              "\n",
              "    .colab-df-convert:hover {\n",
              "      background-color: #E2EBFA;\n",
              "      box-shadow: 0px 1px 2px rgba(60, 64, 67, 0.3), 0px 1px 3px 1px rgba(60, 64, 67, 0.15);\n",
              "      fill: #174EA6;\n",
              "    }\n",
              "\n",
              "    [theme=dark] .colab-df-convert {\n",
              "      background-color: #3B4455;\n",
              "      fill: #D2E3FC;\n",
              "    }\n",
              "\n",
              "    [theme=dark] .colab-df-convert:hover {\n",
              "      background-color: #434B5C;\n",
              "      box-shadow: 0px 1px 3px 1px rgba(0, 0, 0, 0.15);\n",
              "      filter: drop-shadow(0px 1px 2px rgba(0, 0, 0, 0.3));\n",
              "      fill: #FFFFFF;\n",
              "    }\n",
              "  </style>\n",
              "\n",
              "      <script>\n",
              "        const buttonEl =\n",
              "          document.querySelector('#df-244752d5-7e4e-487e-89d9-8a8759f4defd button.colab-df-convert');\n",
              "        buttonEl.style.display =\n",
              "          google.colab.kernel.accessAllowed ? 'block' : 'none';\n",
              "\n",
              "        async function convertToInteractive(key) {\n",
              "          const element = document.querySelector('#df-244752d5-7e4e-487e-89d9-8a8759f4defd');\n",
              "          const dataTable =\n",
              "            await google.colab.kernel.invokeFunction('convertToInteractive',\n",
              "                                                     [key], {});\n",
              "          if (!dataTable) return;\n",
              "\n",
              "          const docLinkHtml = 'Like what you see? Visit the ' +\n",
              "            '<a target=\"_blank\" href=https://colab.research.google.com/notebooks/data_table.ipynb>data table notebook</a>'\n",
              "            + ' to learn more about interactive tables.';\n",
              "          element.innerHTML = '';\n",
              "          dataTable['output_type'] = 'display_data';\n",
              "          await google.colab.output.renderOutput(dataTable, element);\n",
              "          const docLink = document.createElement('div');\n",
              "          docLink.innerHTML = docLinkHtml;\n",
              "          element.appendChild(docLink);\n",
              "        }\n",
              "      </script>\n",
              "    </div>\n",
              "  </div>\n",
              "  "
            ]
          },
          "metadata": {}
        },
        {
          "output_type": "stream",
          "name": "stdout",
          "text": [
            "Number of tracked events: 5\n",
            "Number of records for these events: 243713\n"
          ]
        }
      ],
      "source": [
        "# counting the number of records for each event\n",
        "event_count = data.groupby('event').agg({'date_time':'count'}).reset_index().sort_values(by='date_time', \n",
        "                                                                                         ascending=False)\n",
        "event_count.columns = ['Event', 'Count']\n",
        "\n",
        "# graph the number of entries for each event\n",
        "plt.figure(figsize=(14, 6))\n",
        "plt.title('Number of events')\n",
        "sns.barplot(x='Count', y='Event', data=event_count)\n",
        "plt.show()\n",
        "\n",
        "display(event_count)\n",
        "print('Number of tracked events:', len(event_count))\n",
        "print('Number of records for these events:', len(data))"
      ]
    },
    {
      "cell_type": "markdown",
      "metadata": {
        "id": "8PtYgngEJMlw"
      },
      "source": [
        "**Conclusion:**\n",
        "\n",
        "1. The most frequently called event in the application is *MainScreenAppear* - the main application screen, this event has been called 119101 times;\n",
        "2. The least frequently called event in the application is *Tutorial* - lesson, this event was called only 1018 times;\n",
        "3. The key event for the app - *PaymentScreenSuccessful* - Payment Successful screen, it was called 34118 times."
      ]
    },
    {
      "cell_type": "markdown",
      "metadata": {
        "id": "QPI41KamJMlw"
      },
      "source": [
        "### Number of users in the log"
      ]
    },
    {
      "cell_type": "code",
      "execution_count": 120,
      "metadata": {
        "scrolled": false,
        "colab": {
          "base_uri": "https://localhost:8080/",
          "height": 651
        },
        "id": "nua_BjMMJMl-",
        "outputId": "dce82943-8d14-499f-ab7e-ee61d6492143"
      },
      "outputs": [
        {
          "output_type": "display_data",
          "data": {
            "text/plain": [
              "<Figure size 1000x600 with 1 Axes>"
            ],
            "image/png": "[encoded data removed]"
          },
          "metadata": {}
        },
        {
          "output_type": "stream",
          "name": "stdout",
          "text": [
            "Number of unique users:\n",
            " In group 246 is 2489\n",
            " In group 247 is 2520\n",
            " In group 248 is 2542\n",
            "Total 7551\n"
          ]
        }
      ],
      "source": [
        "# counting the number of users in each group\n",
        "user_count = data.groupby('group_id').agg({'user_id':'nunique'}).reset_index()\n",
        "user_count.columns = ['Group', 'Unique users']\n",
        "\n",
        "# graph the number of users in each group\n",
        "plt.figure(figsize=(10, 6))\n",
        "plt.title('Number of unique users by group')\n",
        "sns.barplot(y='Unique users', x='Group', data=user_count).set_ylim(2000, 2750)\n",
        "plt.show()\n",
        "\n",
        "print('Number of unique users:')\n",
        "print(' In group 246 is', user_count.iloc[0]['Unique users'])\n",
        "print(' In group 247 is', user_count.iloc[1]['Unique users'])\n",
        "print(' In group 248 is', user_count.iloc[2]['Unique users'])\n",
        "print('Total', user_count['Unique users'].sum())"
      ]
    },
    {
      "cell_type": "markdown",
      "metadata": {
        "id": "EIMmrgo8JMl_"
      },
      "source": [
        "**Conclusion:**\n",
        "\n",
        "The total number of unique users in the log of 7551 people of them:\n",
        "\n",
        "- In 246 group: 2489 people\n",
        "- In 247 group: 2520 people\n",
        "- In 248 group: 2542 people"
      ]
    },
    {
      "cell_type": "markdown",
      "metadata": {
        "id": "nm-pqpTDJMl_"
      },
      "source": [
        "### Average number of events per user"
      ]
    },
    {
      "cell_type": "code",
      "execution_count": 121,
      "metadata": {
        "scrolled": false,
        "colab": {
          "base_uri": "https://localhost:8080/",
          "height": 1000
        },
        "id": "7HAySO6BJMl_",
        "outputId": "bb92bcb4-eecc-4204-e4bf-dc5c36fec7f9"
      },
      "outputs": [
        {
          "output_type": "stream",
          "name": "stdout",
          "text": [
            "count   7,551.0000\n",
            "mean       32.2756\n",
            "std        65.1542\n",
            "min         1.0000\n",
            "25%         9.0000\n",
            "50%        20.0000\n",
            "75%        37.0000\n",
            "max     2,307.0000\n",
            "Name: event_count, dtype: float64\n"
          ]
        },
        {
          "output_type": "display_data",
          "data": {
            "text/plain": [
              "<Figure size 1500x500 with 1 Axes>"
            ],
            "image/png": "[encoded data removed]"
          },
          "metadata": {}
        },
        {
          "output_type": "display_data",
          "data": {
            "text/plain": [
              "<Figure size 800x500 with 1 Axes>"
            ],
            "image/png": "[encoded data removed]"
          },
          "metadata": {}
        },
        {
          "output_type": "stream",
          "name": "stdout",
          "text": [
            "99% of users commit no more than 200.5 events\n"
          ]
        }
      ],
      "source": [
        "# counts the average number of events per user:\n",
        "events_by_user = data.groupby('user_id').agg(event_count = ('event', 'count')).reset_index()\n",
        "\n",
        "print(events_by_user['event_count'].describe())\n",
        "\n",
        "# graph of the distribution of the number of events per user\n",
        "plt.figure(figsize=(15, 5))\n",
        "plt.title('Distribution of events per user', loc='center')\n",
        "sns.distplot(events_by_user['event_count'], bins=50)\n",
        "plt.xlabel('Number of events')\n",
        "plt.ylabel('Number of users')\n",
        "plt.show()\n",
        "\n",
        "# diagram of the spread of the number of events per user\n",
        "plt.figure(figsize=(8, 5))\n",
        "plt.title('Event range diagram')\n",
        "sns.boxplot(y='event_count', data=events_by_user).set(xlabel='', ylabel='Number of events')\n",
        "plt.xticks(rotation=45)\n",
        "plt.show()\n",
        "\n",
        "print('99% of users commit no more than', events_by_user['event_count'].quantile(0.99), 'events')"
      ]
    },
    {
      "cell_type": "markdown",
      "metadata": {
        "id": "H6_erBAVJMmA"
      },
      "source": [
        "**Conclusion:**\n",
        "\n",
        "On average, there are about 32 events per user. At the same time, the minimum number is only one, and the maximum is 2307 events. If we talk about the median - it is 20 events per user.\n",
        "\n",
        "All values that exceed 200 events can be considered anomalous emissions, from which it is necessary to get rid of."
      ]
    },
    {
      "cell_type": "code",
      "execution_count": 122,
      "metadata": {
        "colab": {
          "base_uri": "https://localhost:8080/"
        },
        "id": "g8obz6apJMmA",
        "outputId": "3c95a384-6cab-4580-8aa2-feced4e4b1a4"
      },
      "outputs": [
        {
          "output_type": "stream",
          "name": "stdout",
          "text": [
            "Number of lines:\n",
            " before processing 243713 lines\n",
            " after processing 209333 lines\n",
            "Deleted 14.11%\n"
          ]
        }
      ],
      "source": [
        "# list of users with an abnormal number of events\n",
        "anomaly_user_id = list(events_by_user.query('event_count > 200')['user_id'])\n",
        "print('Number of lines:')\n",
        "print(' before processing', len(data), 'lines')\n",
        "# remove all records with users from the 'anomaly_user_id' list\n",
        "clear_data = data.query('user_id not in @anomaly_user_id') \n",
        "print(' after processing', len(clear_data), 'lines')\n",
        "print('Deleted', '{:.2%}'.format((len(data) - len(clear_data)) / len(data)))"
      ]
    },
    {
      "cell_type": "code",
      "execution_count": 123,
      "metadata": {
        "colab": {
          "base_uri": "https://localhost:8080/"
        },
        "id": "yLAFmg6PJMmB",
        "outputId": "015e356d-af59-425c-d4e7-515961101d60"
      },
      "outputs": [
        {
          "output_type": "stream",
          "name": "stdout",
          "text": [
            "count   7,475.0000\n",
            "mean       28.0044\n",
            "std        27.7984\n",
            "min         1.0000\n",
            "25%         9.0000\n",
            "50%        19.0000\n",
            "75%        37.0000\n",
            "max       199.0000\n",
            "Name: event_count, dtype: float64\n",
            "On average one user commits 28 events\n"
          ]
        }
      ],
      "source": [
        "# counting the average number of events per user after anomaly removal\n",
        "clear_events_by_user = clear_data.groupby('user_id').agg(event_count = ('event', 'count')).reset_index()\n",
        "print(clear_events_by_user['event_count'].describe())\n",
        "\n",
        "print('On average one user commits', \n",
        "      int(clear_events_by_user['event_count'].mean()), 'events')"
      ]
    },
    {
      "cell_type": "markdown",
      "metadata": {
        "id": "GgN51MW_JMmB"
      },
      "source": [
        "**Conclusion:**.\n",
        "\n",
        "After processing the anomalies, the average number of events per user shifted to 28 events."
      ]
    },
    {
      "cell_type": "markdown",
      "metadata": {
        "id": "gFhxSb0AJMmB"
      },
      "source": [
        "### Determining the time interval of analysis"
      ]
    },
    {
      "cell_type": "code",
      "execution_count": 124,
      "metadata": {
        "colab": {
          "base_uri": "https://localhost:8080/"
        },
        "id": "JPGz88XXJMmB",
        "outputId": "bbd4059f-a01c-4624-f316-f4f9bed978a3"
      },
      "outputs": [
        {
          "output_type": "stream",
          "name": "stdout",
          "text": [
            "count                  209333\n",
            "unique                 156983\n",
            "top       2019-08-04 16:23:19\n",
            "freq                        9\n",
            "first     2019-07-25 04:43:36\n",
            "last      2019-08-07 21:15:17\n",
            "Name: date_time, dtype: object\n",
            "Date of first log entry 2019-07-25 04:43:36\n",
            "Date of last entry in the log 2019-08-07 21:15:17\n",
            "Log period 13 days 16:31:41\n"
          ]
        }
      ],
      "source": [
        "print(clear_data['date_time'].describe())\n",
        "\n",
        "print('Date of first log entry', clear_data['date_time'].min())\n",
        "print('Date of last entry in the log', clear_data['date_time'].max())\n",
        "print('Log period', clear_data['date_time'].max() - clear_data['date_time'].min())"
      ]
    },
    {
      "cell_type": "markdown",
      "metadata": {
        "id": "pDpgHCVRJMmC"
      },
      "source": [
        "The data contain information from July 25, 2019 to August 07, 2019."
      ]
    },
    {
      "cell_type": "code",
      "execution_count": 125,
      "metadata": {
        "colab": {
          "base_uri": "https://localhost:8080/",
          "height": 977
        },
        "id": "cS5tHjNPJMmC",
        "outputId": "96b12708-12ff-47b2-ea71-26d5ff419edd"
      },
      "outputs": [
        {
          "output_type": "display_data",
          "data": {
            "text/plain": [
              "<Figure size 1500x500 with 1 Axes>"
            ],
            "image/png": "[encoded data removed]"
          },
          "metadata": {}
        },
        {
          "output_type": "display_data",
          "data": {
            "text/plain": [
              "<Figure size 1500x500 with 1 Axes>"
            ],
            "image/png": "[encoded data removed]"
          },
          "metadata": {}
        }
      ],
      "source": [
        "# histograms by date and time:\n",
        "plt.title('Distribution of logs by date', loc='left')\n",
        "plt.xlabel('Date')\n",
        "plt.ylabel('Amount of logs')\n",
        "clear_data['date_time'].hist(bins=100, xrot=15,  figsize=(15, 5), alpha=0.6)\n",
        "plt.show()\n",
        "\n",
        "plt.title('Distribution of logs by time of day', loc='left')\n",
        "plt.xlabel('Time of day')\n",
        "plt.ylabel('Amount of logs')\n",
        "clear_data['date_time'].dt.hour.hist(bins=24, figsize=(15, 5), alpha=0.6)\n",
        "plt.xticks(range(0, 23))\n",
        "plt.show()"
      ]
    },
    {
      "cell_type": "markdown",
      "metadata": {
        "id": "Q4oyKeavJMmC"
      },
      "source": [
        "The histogram shows that in the first 6 days the number of records is extremely low, and starting from August 01, 2019 the number of records increases sharply. Thus, we can assume that only starting from August 1, 2019, a sufficient number of records begins to accumulate in the logs for event analysis, therefore, all records before that date can be ignored in further analysis, because they will distort the overall picture."
      ]
    },
    {
      "cell_type": "code",
      "execution_count": 126,
      "metadata": {
        "colab": {
          "base_uri": "https://localhost:8080/"
        },
        "id": "MpMaTk4JJMmD",
        "outputId": "e985fb87-e5a0-4ce0-ebf7-9981f2815c12"
      },
      "outputs": [
        {
          "output_type": "stream",
          "name": "stdout",
          "text": [
            "The time period is from 2019-08-01 00:07:28 to 2019-08-07 21:15:17\n"
          ]
        }
      ],
      "source": [
        "# filter dataset and leave records that were made later than 2019-07-31\n",
        "clear_data = clear_data.query('date > \"2019-07-31\"')\n",
        "\n",
        "print('The time period is from', clear_data['date_time'].min(), 'to', clear_data['date_time'].max())"
      ]
    },
    {
      "cell_type": "markdown",
      "metadata": {
        "id": "qMi8602yJMmD"
      },
      "source": [
        "After adjusting the time interval of the analysis, let us consider the daily analysis of the week we selected:"
      ]
    },
    {
      "cell_type": "code",
      "execution_count": 127,
      "metadata": {
        "colab": {
          "base_uri": "https://localhost:8080/",
          "height": 507
        },
        "id": "g7PYm_f5JMmD",
        "outputId": "1ff73f4c-d74d-4855-9724-555552c126b5"
      },
      "outputs": [
        {
          "output_type": "display_data",
          "data": {
            "text/plain": [
              "<Figure size 1500x500 with 1 Axes>"
            ],
            "image/png": "[encoded data removed]"
          },
          "metadata": {}
        }
      ],
      "source": [
        "plt.title('Distribution of logs by day', loc='left')\n",
        "plt.xlabel('Date - day')\n",
        "plt.ylabel('Amount of logs')\n",
        "clear_data['date_time'].hist(bins=300, xrot=15, figsize=(15, 5), alpha=0.6)\n",
        "plt.show()"
      ]
    },
    {
      "cell_type": "markdown",
      "metadata": {
        "id": "tMDk31uzJMmD"
      },
      "source": [
        "According to the obtained graph, you can see that the number of records by day is not exactly the same. For example, the maximum number of records fall on 1, 5, 6 days, namely on August 1, 5 and 6, 2019 - more than 1200 records were recorded. While August 3 and 4 noticeably decrease the number of records - do not exceed 1200."
      ]
    },
    {
      "cell_type": "markdown",
      "metadata": {
        "id": "MNjvkIgmJMmE"
      },
      "source": [
        "So, after adjusting the time period, which is characterized by an extremely low number of records, we set a new time period for further analysis, and it is: from **2019-08-01 00:07:28 to 2019-08-07 21:15:17**"
      ]
    },
    {
      "cell_type": "markdown",
      "metadata": {
        "id": "fglhXnP2JMmE"
      },
      "source": [
        "### Counting lost data in the study"
      ]
    },
    {
      "cell_type": "code",
      "execution_count": 128,
      "metadata": {
        "scrolled": true,
        "id": "LH0LmkRgJMmF",
        "colab": {
          "base_uri": "https://localhost:8080/"
        },
        "outputId": "9b01619a-aa67-463d-fb6a-da5aed5a29fb"
      },
      "outputs": [
        {
          "output_type": "stream",
          "name": "stdout",
          "text": [
            "BEFORE period correction total events: 243713, total users: 7551.\n",
            "\n",
            "AFTER period correction total events: 206615, total users: 7458.\n",
            "\n",
            "Changing the number of logs: -37098 (-15.2%)\n",
            "Change the number of users: -93 (-1.2%)\n"
          ]
        }
      ],
      "source": [
        "before_logs = data.shape[0]\n",
        "before_users = data['user_id'].nunique()\n",
        "\n",
        "print('BEFORE period correction total events: %d, total users: %d.' % (before_logs, \n",
        "                                                                                before_users))\n",
        "data = clear_data[clear_data['date_time'] >= '2019-08-01']\n",
        "print()\n",
        "\n",
        "print('AFTER period correction total events: %d, total users: %d.' % (data.shape[0], \n",
        "                                                                                   data['user_id'].nunique()))\n",
        "print()\n",
        "\n",
        "\n",
        "print('Changing the number of logs:', \n",
        "      data.shape[0]- before_logs, \n",
        "      '({:.1%})'.format((data.shape[0]-before_logs)/before_logs))\n",
        "print('Change the number of users:', \n",
        "      data['user_id'].nunique()-before_users, \n",
        "      '({:.1%})'.format((data['user_id'].nunique()-before_users)/before_users))"
      ]
    },
    {
      "cell_type": "markdown",
      "metadata": {
        "id": "LzkvI31FJMmF"
      },
      "source": [
        "### Counting the number of users in each experimental group"
      ]
    },
    {
      "cell_type": "code",
      "execution_count": 129,
      "metadata": {
        "id": "truBLoZsJMmG",
        "colab": {
          "base_uri": "https://localhost:8080/",
          "height": 777
        },
        "outputId": "37bbc954-1fd6-49b0-8bcb-65c778f5cbf6"
      },
      "outputs": [
        {
          "output_type": "display_data",
          "data": {
            "text/plain": [
              "<Figure size 1000x600 with 1 Axes>"
            ],
            "image/png": "[encoded data removed]"
          },
          "metadata": {}
        },
        {
          "output_type": "stream",
          "name": "stdout",
          "text": [
            "Number of unique users:\n",
            " In group 246 is 2456\n",
            " In group 247 is 2491\n",
            " In group 248 is 2511\n",
            "Total 7458\n"
          ]
        },
        {
          "output_type": "execute_result",
          "data": {
            "text/plain": [
              "   Group  Unique users  Number of users\n",
              "0    246          2456            67412\n",
              "1    247          2491            68295\n",
              "2    248          2511            70908"
            ],
            "text/html": [
              "\n",
              "  <div id=\"df-e3dce2d8-157b-420f-b489-babfe1a7c974\">\n",
              "    <div class=\"colab-df-container\">\n",
              "      <div>\n",
              "<style scoped>\n",
              "    .dataframe tbody tr th:only-of-type {\n",
              "        vertical-align: middle;\n",
              "    }\n",
              "\n",
              "    .dataframe tbody tr th {\n",
              "        vertical-align: top;\n",
              "    }\n",
              "\n",
              "    .dataframe thead th {\n",
              "        text-align: right;\n",
              "    }\n",
              "</style>\n",
              "<table border=\"1\" class=\"dataframe\">\n",
              "  <thead>\n",
              "    <tr style=\"text-align: right;\">\n",
              "      <th></th>\n",
              "      <th>Group</th>\n",
              "      <th>Unique users</th>\n",
              "      <th>Number of users</th>\n",
              "    </tr>\n",
              "  </thead>\n",
              "  <tbody>\n",
              "    <tr>\n",
              "      <th>0</th>\n",
              "      <td>246</td>\n",
              "      <td>2456</td>\n",
              "      <td>67412</td>\n",
              "    </tr>\n",
              "    <tr>\n",
              "      <th>1</th>\n",
              "      <td>247</td>\n",
              "      <td>2491</td>\n",
              "      <td>68295</td>\n",
              "    </tr>\n",
              "    <tr>\n",
              "      <th>2</th>\n",
              "      <td>248</td>\n",
              "      <td>2511</td>\n",
              "      <td>70908</td>\n",
              "    </tr>\n",
              "  </tbody>\n",
              "</table>\n",
              "</div>\n",
              "      <button class=\"colab-df-convert\" onclick=\"convertToInteractive('df-e3dce2d8-157b-420f-b489-babfe1a7c974')\"\n",
              "              title=\"Convert this dataframe to an interactive table.\"\n",
              "              style=\"display:none;\">\n",
              "        \n",
              "  <svg xmlns=\"http://www.w3.org/2000/svg\" height=\"24px\"viewBox=\"0 0 24 24\"\n",
              "       width=\"24px\">\n",
              "    <path d=\"M0 0h24v24H0V0z\" fill=\"none\"/>\n",
              "    <path d=\"M18.56 5.44l.94 2.06.94-2.06 2.06-.94-2.06-.94-.94-2.06-.94 2.06-2.06.94zm-11 1L8.5 8.5l.94-2.06 2.06-.94-2.06-.94L8.5 2.5l-.94 2.06-2.06.94zm10 10l.94 2.06.94-2.06 2.06-.94-2.06-.94-.94-2.06-.94 2.06-2.06.94z\"/><path d=\"M17.41 7.96l-1.37-1.37c-.4-.4-.92-.59-1.43-.59-.52 0-1.04.2-1.43.59L10.3 9.45l-7.72 7.72c-.78.78-.78 2.05 0 2.83L4 21.41c.39.39.9.59 1.41.59.51 0 1.02-.2 1.41-.59l7.78-7.78 2.81-2.81c.8-.78.8-2.07 0-2.86zM5.41 20L4 18.59l7.72-7.72 1.47 1.35L5.41 20z\"/>\n",
              "  </svg>\n",
              "      </button>\n",
              "      \n",
              "  <style>\n",
              "    .colab-df-container {\n",
              "      display:flex;\n",
              "      flex-wrap:wrap;\n",
              "      gap: 12px;\n",
              "    }\n",
              "\n",
              "    .colab-df-convert {\n",
              "      background-color: #E8F0FE;\n",
              "      border: none;\n",
              "      border-radius: 50%;\n",
              "      cursor: pointer;\n",
              "      display: none;\n",
              "      fill: #1967D2;\n",
              "      height: 32px;\n",
              "      padding: 0 0 0 0;\n",
              "      width: 32px;\n",
              "    }\n",
              "\n",
              "    .colab-df-convert:hover {\n",
              "      background-color: #E2EBFA;\n",
              "      box-shadow: 0px 1px 2px rgba(60, 64, 67, 0.3), 0px 1px 3px 1px rgba(60, 64, 67, 0.15);\n",
              "      fill: #174EA6;\n",
              "    }\n",
              "\n",
              "    [theme=dark] .colab-df-convert {\n",
              "      background-color: #3B4455;\n",
              "      fill: #D2E3FC;\n",
              "    }\n",
              "\n",
              "    [theme=dark] .colab-df-convert:hover {\n",
              "      background-color: #434B5C;\n",
              "      box-shadow: 0px 1px 3px 1px rgba(0, 0, 0, 0.15);\n",
              "      filter: drop-shadow(0px 1px 2px rgba(0, 0, 0, 0.3));\n",
              "      fill: #FFFFFF;\n",
              "    }\n",
              "  </style>\n",
              "\n",
              "      <script>\n",
              "        const buttonEl =\n",
              "          document.querySelector('#df-e3dce2d8-157b-420f-b489-babfe1a7c974 button.colab-df-convert');\n",
              "        buttonEl.style.display =\n",
              "          google.colab.kernel.accessAllowed ? 'block' : 'none';\n",
              "\n",
              "        async function convertToInteractive(key) {\n",
              "          const element = document.querySelector('#df-e3dce2d8-157b-420f-b489-babfe1a7c974');\n",
              "          const dataTable =\n",
              "            await google.colab.kernel.invokeFunction('convertToInteractive',\n",
              "                                                     [key], {});\n",
              "          if (!dataTable) return;\n",
              "\n",
              "          const docLinkHtml = 'Like what you see? Visit the ' +\n",
              "            '<a target=\"_blank\" href=https://colab.research.google.com/notebooks/data_table.ipynb>data table notebook</a>'\n",
              "            + ' to learn more about interactive tables.';\n",
              "          element.innerHTML = '';\n",
              "          dataTable['output_type'] = 'display_data';\n",
              "          await google.colab.output.renderOutput(dataTable, element);\n",
              "          const docLink = document.createElement('div');\n",
              "          docLink.innerHTML = docLinkHtml;\n",
              "          element.appendChild(docLink);\n",
              "        }\n",
              "      </script>\n",
              "    </div>\n",
              "  </div>\n",
              "  "
            ]
          },
          "metadata": {},
          "execution_count": 129
        }
      ],
      "source": [
        "# count the number of users in each group\n",
        "user_count = data.groupby('group_id').agg({'user_id': ['nunique', 'count']}).reset_index()\n",
        "user_count.columns = ['Group', 'Unique users', 'Number of users']\n",
        "\n",
        "# graph the number of users in each group\n",
        "plt.figure(figsize=(10, 6))\n",
        "plt.title('Number of unique users by group')\n",
        "sns.barplot(y='Unique users', x='Group', data=user_count).set_ylim(2200, 2550)\n",
        "plt.show()\n",
        "\n",
        "print('Number of unique users:')\n",
        "print(' In group 246 is', user_count.iloc[0]['Unique users'])\n",
        "print(' In group 247 is', user_count.iloc[1]['Unique users'])\n",
        "print(' In group 248 is', user_count.iloc[2]['Unique users'])\n",
        "print('Total', user_count['Unique users'].sum())\n",
        "user_count"
      ]
    },
    {
      "cell_type": "markdown",
      "metadata": {
        "id": "4xZw4bHhJMmG"
      },
      "source": [
        "The number of users in the groups is generally comparable, the number of events is slightly different. Group 248 has the most users and events."
      ]
    },
    {
      "cell_type": "markdown",
      "metadata": {
        "id": "XOEO4xZ_JMmG"
      },
      "source": [
        "**Conclusion:**\n",
        "\n",
        "After performing the data analysis, the following *key factors* were identified:\n",
        "\n",
        "1. Identified the relevant time period for further analysis: 2019-08-01 00:07:28 to 2019-08-07 21:15:17\n",
        "2. Number of unique users in each group:\n",
        "   - In group 246: 2456 users\n",
        "   - In group 247: 2491 users\n",
        "   - In group 248: 2511 users\n",
        "3. Average number of events per user in the application: 28 events\n",
        "\n",
        "**Features of the events in the application:**\n",
        "- The most frequently called event in the application is *MainScreenAppear* - the main application screen, this event has been called 119101 times;\n",
        "- The least frequently called event in the application is *Tutorial* - the snub, this event has been called a total of 1018 times;\n",
        "- The key event for the app - *PaymentScreenSuccessful* - Successful payment screen, was called 34118 times."
      ]
    },
    {
      "cell_type": "markdown",
      "metadata": {
        "id": "d8NU51GsJMmH"
      },
      "source": [
        "## Exploring the event funnel"
      ]
    },
    {
      "cell_type": "markdown",
      "metadata": {
        "id": "lYX88FGeJMmH"
      },
      "source": [
        "### Event analysis and its frequency in logs"
      ]
    },
    {
      "cell_type": "code",
      "execution_count": 130,
      "metadata": {
        "id": "qkPvVQFLJMmH",
        "colab": {
          "base_uri": "https://localhost:8080/",
          "height": 651
        },
        "outputId": "aa85f6fc-bf52-4bbe-ac76-1f629bbc6916"
      },
      "outputs": [
        {
          "output_type": "display_data",
          "data": {
            "text/plain": [
              "<Figure size 1500x500 with 1 Axes>"
            ],
            "image/png": "[encoded data removed]"
          },
          "metadata": {}
        },
        {
          "output_type": "execute_result",
          "data": {
            "text/plain": [
              "                     event  total_events\n",
              "1         MainScreenAppear        113264\n",
              "2       OffersScreenAppear         40956\n",
              "0         CartScreenAppear         29250\n",
              "3  PaymentScreenSuccessful         22164\n",
              "4                 Tutorial           981"
            ],
            "text/html": [
              "\n",
              "  <div id=\"df-c837a018-3b6f-49e7-a349-710d0a51e499\">\n",
              "    <div class=\"colab-df-container\">\n",
              "      <div>\n",
              "<style scoped>\n",
              "    .dataframe tbody tr th:only-of-type {\n",
              "        vertical-align: middle;\n",
              "    }\n",
              "\n",
              "    .dataframe tbody tr th {\n",
              "        vertical-align: top;\n",
              "    }\n",
              "\n",
              "    .dataframe thead th {\n",
              "        text-align: right;\n",
              "    }\n",
              "</style>\n",
              "<table border=\"1\" class=\"dataframe\">\n",
              "  <thead>\n",
              "    <tr style=\"text-align: right;\">\n",
              "      <th></th>\n",
              "      <th>event</th>\n",
              "      <th>total_events</th>\n",
              "    </tr>\n",
              "  </thead>\n",
              "  <tbody>\n",
              "    <tr>\n",
              "      <th>1</th>\n",
              "      <td>MainScreenAppear</td>\n",
              "      <td>113264</td>\n",
              "    </tr>\n",
              "    <tr>\n",
              "      <th>2</th>\n",
              "      <td>OffersScreenAppear</td>\n",
              "      <td>40956</td>\n",
              "    </tr>\n",
              "    <tr>\n",
              "      <th>0</th>\n",
              "      <td>CartScreenAppear</td>\n",
              "      <td>29250</td>\n",
              "    </tr>\n",
              "    <tr>\n",
              "      <th>3</th>\n",
              "      <td>PaymentScreenSuccessful</td>\n",
              "      <td>22164</td>\n",
              "    </tr>\n",
              "    <tr>\n",
              "      <th>4</th>\n",
              "      <td>Tutorial</td>\n",
              "      <td>981</td>\n",
              "    </tr>\n",
              "  </tbody>\n",
              "</table>\n",
              "</div>\n",
              "      <button class=\"colab-df-convert\" onclick=\"convertToInteractive('df-c837a018-3b6f-49e7-a349-710d0a51e499')\"\n",
              "              title=\"Convert this dataframe to an interactive table.\"\n",
              "              style=\"display:none;\">\n",
              "        \n",
              "  <svg xmlns=\"http://www.w3.org/2000/svg\" height=\"24px\"viewBox=\"0 0 24 24\"\n",
              "       width=\"24px\">\n",
              "    <path d=\"M0 0h24v24H0V0z\" fill=\"none\"/>\n",
              "    <path d=\"M18.56 5.44l.94 2.06.94-2.06 2.06-.94-2.06-.94-.94-2.06-.94 2.06-2.06.94zm-11 1L8.5 8.5l.94-2.06 2.06-.94-2.06-.94L8.5 2.5l-.94 2.06-2.06.94zm10 10l.94 2.06.94-2.06 2.06-.94-2.06-.94-.94-2.06-.94 2.06-2.06.94z\"/><path d=\"M17.41 7.96l-1.37-1.37c-.4-.4-.92-.59-1.43-.59-.52 0-1.04.2-1.43.59L10.3 9.45l-7.72 7.72c-.78.78-.78 2.05 0 2.83L4 21.41c.39.39.9.59 1.41.59.51 0 1.02-.2 1.41-.59l7.78-7.78 2.81-2.81c.8-.78.8-2.07 0-2.86zM5.41 20L4 18.59l7.72-7.72 1.47 1.35L5.41 20z\"/>\n",
              "  </svg>\n",
              "      </button>\n",
              "      \n",
              "  <style>\n",
              "    .colab-df-container {\n",
              "      display:flex;\n",
              "      flex-wrap:wrap;\n",
              "      gap: 12px;\n",
              "    }\n",
              "\n",
              "    .colab-df-convert {\n",
              "      background-color: #E8F0FE;\n",
              "      border: none;\n",
              "      border-radius: 50%;\n",
              "      cursor: pointer;\n",
              "      display: none;\n",
              "      fill: #1967D2;\n",
              "      height: 32px;\n",
              "      padding: 0 0 0 0;\n",
              "      width: 32px;\n",
              "    }\n",
              "\n",
              "    .colab-df-convert:hover {\n",
              "      background-color: #E2EBFA;\n",
              "      box-shadow: 0px 1px 2px rgba(60, 64, 67, 0.3), 0px 1px 3px 1px rgba(60, 64, 67, 0.15);\n",
              "      fill: #174EA6;\n",
              "    }\n",
              "\n",
              "    [theme=dark] .colab-df-convert {\n",
              "      background-color: #3B4455;\n",
              "      fill: #D2E3FC;\n",
              "    }\n",
              "\n",
              "    [theme=dark] .colab-df-convert:hover {\n",
              "      background-color: #434B5C;\n",
              "      box-shadow: 0px 1px 3px 1px rgba(0, 0, 0, 0.15);\n",
              "      filter: drop-shadow(0px 1px 2px rgba(0, 0, 0, 0.3));\n",
              "      fill: #FFFFFF;\n",
              "    }\n",
              "  </style>\n",
              "\n",
              "      <script>\n",
              "        const buttonEl =\n",
              "          document.querySelector('#df-c837a018-3b6f-49e7-a349-710d0a51e499 button.colab-df-convert');\n",
              "        buttonEl.style.display =\n",
              "          google.colab.kernel.accessAllowed ? 'block' : 'none';\n",
              "\n",
              "        async function convertToInteractive(key) {\n",
              "          const element = document.querySelector('#df-c837a018-3b6f-49e7-a349-710d0a51e499');\n",
              "          const dataTable =\n",
              "            await google.colab.kernel.invokeFunction('convertToInteractive',\n",
              "                                                     [key], {});\n",
              "          if (!dataTable) return;\n",
              "\n",
              "          const docLinkHtml = 'Like what you see? Visit the ' +\n",
              "            '<a target=\"_blank\" href=https://colab.research.google.com/notebooks/data_table.ipynb>data table notebook</a>'\n",
              "            + ' to learn more about interactive tables.';\n",
              "          element.innerHTML = '';\n",
              "          dataTable['output_type'] = 'display_data';\n",
              "          await google.colab.output.renderOutput(dataTable, element);\n",
              "          const docLink = document.createElement('div');\n",
              "          docLink.innerHTML = docLinkHtml;\n",
              "          element.appendChild(docLink);\n",
              "        }\n",
              "      </script>\n",
              "    </div>\n",
              "  </div>\n",
              "  "
            ]
          },
          "metadata": {},
          "execution_count": 130
        }
      ],
      "source": [
        "events = (data.\n",
        "          groupby('event').\n",
        "          agg({'user_id': 'count'}).\n",
        "          reset_index().\n",
        "          rename(columns={'user_id' : 'total_events'}).\n",
        "          sort_values(by='total_events', ascending=False))\n",
        "# график\n",
        "plt.figure(figsize=(15, 5))\n",
        "ax = sns.barplot(x='total_events', y='event', data=events, alpha=0.6, orient='h')\n",
        "ax.set_title('Frequency of events in logs', loc='Left')\n",
        "ax.set_xlabel('Number of events') \n",
        "ax.set_ylabel('Events')\n",
        "plt.show()\n",
        "\n",
        "events"
      ]
    },
    {
      "cell_type": "markdown",
      "metadata": {
        "id": "Bzzf3-s0JMmH"
      },
      "source": [
        "Based on the data, we see that:\n",
        "- `MainScreenAppear` (Home Screen) has been seen 113264 times;\n",
        "- OffersScreenAppear` (catalog offers) seen 40956 times;\n",
        "- The `CartScreenAppear` (product card) have seen 29250 times;\n",
        "- The `PaymentScreenSuccessful` (Screen with confirmation of successful payment) seen 22164 times;\n",
        "- The `Tutorial` has been viewed 981 times."
      ]
    },
    {
      "cell_type": "markdown",
      "metadata": {
        "id": "Dd-ZBadbJMmI"
      },
      "source": [
        "### Number of users who committed the event"
      ]
    },
    {
      "cell_type": "code",
      "execution_count": 131,
      "metadata": {
        "id": "AG-NjUx9JMmI",
        "colab": {
          "base_uri": "https://localhost:8080/",
          "height": 896
        },
        "outputId": "b89cf271-1c7a-4aaa-f5e7-e05a3422013d"
      },
      "outputs": [
        {
          "output_type": "display_data",
          "data": {
            "text/plain": [
              "<Figure size 800x800 with 1 Axes>"
            ],
            "image/png": "[encoded data removed]"
          },
          "metadata": {}
        },
        {
          "output_type": "execute_result",
          "data": {
            "text/plain": [
              "                         total_users  percent\n",
              "event                                        \n",
              "MainScreenAppear                7344  98.4714\n",
              "OffersScreenAppear              4517  60.5658\n",
              "CartScreenAppear                3658  49.0480\n",
              "PaymentScreenSuccessful         3463  46.4334\n",
              "Tutorial                         824  11.0485"
            ],
            "text/html": [
              "\n",
              "  <div id=\"df-9459acc1-7f43-43e1-bb1e-7c38e54b7ade\">\n",
              "    <div class=\"colab-df-container\">\n",
              "      <div>\n",
              "<style scoped>\n",
              "    .dataframe tbody tr th:only-of-type {\n",
              "        vertical-align: middle;\n",
              "    }\n",
              "\n",
              "    .dataframe tbody tr th {\n",
              "        vertical-align: top;\n",
              "    }\n",
              "\n",
              "    .dataframe thead th {\n",
              "        text-align: right;\n",
              "    }\n",
              "</style>\n",
              "<table border=\"1\" class=\"dataframe\">\n",
              "  <thead>\n",
              "    <tr style=\"text-align: right;\">\n",
              "      <th></th>\n",
              "      <th>total_users</th>\n",
              "      <th>percent</th>\n",
              "    </tr>\n",
              "    <tr>\n",
              "      <th>event</th>\n",
              "      <th></th>\n",
              "      <th></th>\n",
              "    </tr>\n",
              "  </thead>\n",
              "  <tbody>\n",
              "    <tr>\n",
              "      <th>MainScreenAppear</th>\n",
              "      <td>7344</td>\n",
              "      <td>98.4714</td>\n",
              "    </tr>\n",
              "    <tr>\n",
              "      <th>OffersScreenAppear</th>\n",
              "      <td>4517</td>\n",
              "      <td>60.5658</td>\n",
              "    </tr>\n",
              "    <tr>\n",
              "      <th>CartScreenAppear</th>\n",
              "      <td>3658</td>\n",
              "      <td>49.0480</td>\n",
              "    </tr>\n",
              "    <tr>\n",
              "      <th>PaymentScreenSuccessful</th>\n",
              "      <td>3463</td>\n",
              "      <td>46.4334</td>\n",
              "    </tr>\n",
              "    <tr>\n",
              "      <th>Tutorial</th>\n",
              "      <td>824</td>\n",
              "      <td>11.0485</td>\n",
              "    </tr>\n",
              "  </tbody>\n",
              "</table>\n",
              "</div>\n",
              "      <button class=\"colab-df-convert\" onclick=\"convertToInteractive('df-9459acc1-7f43-43e1-bb1e-7c38e54b7ade')\"\n",
              "              title=\"Convert this dataframe to an interactive table.\"\n",
              "              style=\"display:none;\">\n",
              "        \n",
              "  <svg xmlns=\"http://www.w3.org/2000/svg\" height=\"24px\"viewBox=\"0 0 24 24\"\n",
              "       width=\"24px\">\n",
              "    <path d=\"M0 0h24v24H0V0z\" fill=\"none\"/>\n",
              "    <path d=\"M18.56 5.44l.94 2.06.94-2.06 2.06-.94-2.06-.94-.94-2.06-.94 2.06-2.06.94zm-11 1L8.5 8.5l.94-2.06 2.06-.94-2.06-.94L8.5 2.5l-.94 2.06-2.06.94zm10 10l.94 2.06.94-2.06 2.06-.94-2.06-.94-.94-2.06-.94 2.06-2.06.94z\"/><path d=\"M17.41 7.96l-1.37-1.37c-.4-.4-.92-.59-1.43-.59-.52 0-1.04.2-1.43.59L10.3 9.45l-7.72 7.72c-.78.78-.78 2.05 0 2.83L4 21.41c.39.39.9.59 1.41.59.51 0 1.02-.2 1.41-.59l7.78-7.78 2.81-2.81c.8-.78.8-2.07 0-2.86zM5.41 20L4 18.59l7.72-7.72 1.47 1.35L5.41 20z\"/>\n",
              "  </svg>\n",
              "      </button>\n",
              "      \n",
              "  <style>\n",
              "    .colab-df-container {\n",
              "      display:flex;\n",
              "      flex-wrap:wrap;\n",
              "      gap: 12px;\n",
              "    }\n",
              "\n",
              "    .colab-df-convert {\n",
              "      background-color: #E8F0FE;\n",
              "      border: none;\n",
              "      border-radius: 50%;\n",
              "      cursor: pointer;\n",
              "      display: none;\n",
              "      fill: #1967D2;\n",
              "      height: 32px;\n",
              "      padding: 0 0 0 0;\n",
              "      width: 32px;\n",
              "    }\n",
              "\n",
              "    .colab-df-convert:hover {\n",
              "      background-color: #E2EBFA;\n",
              "      box-shadow: 0px 1px 2px rgba(60, 64, 67, 0.3), 0px 1px 3px 1px rgba(60, 64, 67, 0.15);\n",
              "      fill: #174EA6;\n",
              "    }\n",
              "\n",
              "    [theme=dark] .colab-df-convert {\n",
              "      background-color: #3B4455;\n",
              "      fill: #D2E3FC;\n",
              "    }\n",
              "\n",
              "    [theme=dark] .colab-df-convert:hover {\n",
              "      background-color: #434B5C;\n",
              "      box-shadow: 0px 1px 3px 1px rgba(0, 0, 0, 0.15);\n",
              "      filter: drop-shadow(0px 1px 2px rgba(0, 0, 0, 0.3));\n",
              "      fill: #FFFFFF;\n",
              "    }\n",
              "  </style>\n",
              "\n",
              "      <script>\n",
              "        const buttonEl =\n",
              "          document.querySelector('#df-9459acc1-7f43-43e1-bb1e-7c38e54b7ade button.colab-df-convert');\n",
              "        buttonEl.style.display =\n",
              "          google.colab.kernel.accessAllowed ? 'block' : 'none';\n",
              "\n",
              "        async function convertToInteractive(key) {\n",
              "          const element = document.querySelector('#df-9459acc1-7f43-43e1-bb1e-7c38e54b7ade');\n",
              "          const dataTable =\n",
              "            await google.colab.kernel.invokeFunction('convertToInteractive',\n",
              "                                                     [key], {});\n",
              "          if (!dataTable) return;\n",
              "\n",
              "          const docLinkHtml = 'Like what you see? Visit the ' +\n",
              "            '<a target=\"_blank\" href=https://colab.research.google.com/notebooks/data_table.ipynb>data table notebook</a>'\n",
              "            + ' to learn more about interactive tables.';\n",
              "          element.innerHTML = '';\n",
              "          dataTable['output_type'] = 'display_data';\n",
              "          await google.colab.output.renderOutput(dataTable, element);\n",
              "          const docLink = document.createElement('div');\n",
              "          docLink.innerHTML = docLinkHtml;\n",
              "          element.appendChild(docLink);\n",
              "        }\n",
              "      </script>\n",
              "    </div>\n",
              "  </div>\n",
              "  "
            ]
          },
          "metadata": {},
          "execution_count": 131
        }
      ],
      "source": [
        "funnel = (data.\n",
        "          groupby('event').\n",
        "          agg({'user_id': 'nunique'}).\n",
        "          rename(columns={'user_id' : 'total_users'}).\n",
        "          sort_values(by='total_users', ascending=False))\n",
        "funnel['percent'] = funnel['total_users'] / data['user_id'].nunique() * 100\n",
        "\n",
        "# pie chart\n",
        "funnel.plot(y=\"total_users\", kind=\"pie\", figsize=(8, 8), autopct='%1.1f%%')\n",
        "plt.legend(bbox_to_anchor=(0.6, 0, 1, 0.9))\n",
        "plt.title('Distribution of the number of unique users by events')\n",
        "plt.show()\n",
        "funnel"
      ]
    },
    {
      "cell_type": "markdown",
      "metadata": {
        "id": "gJ5fpZ6XJMmJ"
      },
      "source": [
        "- The home page was viewed by 7344 users (98.47% of the total number of users) - almost all\n",
        "- Offer catalog was viewed by 4517 users (60.57% of total number)\n",
        "- Product cards were viewed by 3658 users (49.05% of total amount)\n",
        "- 3463 users completed the payment (46.43% of total)\n",
        "- The lesson was viewed by 824 users (11.05% of the total)\n",
        "\n",
        "We can see that all events are lined up in a chain of actions, except for viewing the lesson (Tutorial). In order to view the lesson (instructions on how to use the application) it is not necessary to purchase something. Also, more often than not, the interface is intuitive. That's why we'll remove the Tutorial step from the rest of the chain.\n",
        "\n",
        "Then the sequence of actions is as follows:\n",
        "\n",
        "1. The main screen\n",
        "2. Offerings catalog\n",
        "3. Product card\n",
        "Screen with confirmation of successful payment"
      ]
    },
    {
      "cell_type": "markdown",
      "metadata": {
        "id": "tor5CQeAJMmJ"
      },
      "source": [
        "### Calculating the event funnel"
      ]
    },
    {
      "cell_type": "code",
      "execution_count": 132,
      "metadata": {
        "id": "5KaqAlVOJMmJ",
        "colab": {
          "base_uri": "https://localhost:8080/",
          "height": 542
        },
        "outputId": "c34ecd40-ad79-49bf-f46e-0af4851d9705"
      },
      "outputs": [
        {
          "output_type": "display_data",
          "data": {
            "text/html": [
              "<html>\n",
              "<head><meta charset=\"utf-8\" /></head>\n",
              "<body>\n",
              "    <div>            <script src=\"https://cdnjs.cloudflare.com/ajax/libs/mathjax/2.7.5/MathJax.js?config=TeX-AMS-MML_SVG\"></script><script type=\"text/javascript\">if (window.MathJax && window.MathJax.Hub && window.MathJax.Hub.Config) {window.MathJax.Hub.Config({SVG: {font: \"STIX-Web\"}});}</script>                <script type=\"text/javascript\">window.PlotlyConfig = {MathJaxConfig: 'local'};</script>\n",
              "        <script src=\"https://cdn.plot.ly/plotly-2.18.2.min.js\"></script>                <div id=\"e40841a5-a95a-4541-842e-07bca9ae01e4\" class=\"plotly-graph-div\" style=\"height:525px; width:100%;\"></div>            <script type=\"text/javascript\">                                    window.PLOTLYENV=window.PLOTLYENV || {};                                    if (document.getElementById(\"e40841a5-a95a-4541-842e-07bca9ae01e4\")) {                    Plotly.newPlot(                        \"e40841a5-a95a-4541-842e-07bca9ae01e4\",                        [{\"name\":\"246\",\"orientation\":\"h\",\"textinfo\":\"value+percent initial\",\"x\":[2423,1514,1238,1172],\"y\":[\"MainScreenAppear\",\"OffersScreenAppear\",\"CartScreenAppear\",\"PaymentScreenSuccessful\"],\"type\":\"funnel\"},{\"name\":\"247\",\"orientation\":\"h\",\"textinfo\":\"value+percent initial\",\"x\":[2454,1498,1216,1136],\"y\":[\"MainScreenAppear\",\"OffersScreenAppear\",\"CartScreenAppear\",\"PaymentScreenSuccessful\"],\"type\":\"funnel\"},{\"name\":\"248\",\"orientation\":\"h\",\"textinfo\":\"value+percent initial\",\"x\":[2467,1505,1204,1155],\"y\":[\"MainScreenAppear\",\"OffersScreenAppear\",\"CartScreenAppear\",\"PaymentScreenSuccessful\"],\"type\":\"funnel\"}],                        {\"template\":{\"data\":{\"histogram2dcontour\":[{\"type\":\"histogram2dcontour\",\"colorbar\":{\"outlinewidth\":0,\"ticks\":\"\"},\"colorscale\":[[0.0,\"#0d0887\"],[0.1111111111111111,\"#46039f\"],[0.2222222222222222,\"#7201a8\"],[0.3333333333333333,\"#9c179e\"],[0.4444444444444444,\"#bd3786\"],[0.5555555555555556,\"#d8576b\"],[0.6666666666666666,\"#ed7953\"],[0.7777777777777778,\"#fb9f3a\"],[0.8888888888888888,\"#fdca26\"],[1.0,\"#f0f921\"]]}],\"choropleth\":[{\"type\":\"choropleth\",\"colorbar\":{\"outlinewidth\":0,\"ticks\":\"\"}}],\"histogram2d\":[{\"type\":\"histogram2d\",\"colorbar\":{\"outlinewidth\":0,\"ticks\":\"\"},\"colorscale\":[[0.0,\"#0d0887\"],[0.1111111111111111,\"#46039f\"],[0.2222222222222222,\"#7201a8\"],[0.3333333333333333,\"#9c179e\"],[0.4444444444444444,\"#bd3786\"],[0.5555555555555556,\"#d8576b\"],[0.6666666666666666,\"#ed7953\"],[0.7777777777777778,\"#fb9f3a\"],[0.8888888888888888,\"#fdca26\"],[1.0,\"#f0f921\"]]}],\"heatmap\":[{\"type\":\"heatmap\",\"colorbar\":{\"outlinewidth\":0,\"ticks\":\"\"},\"colorscale\":[[0.0,\"#0d0887\"],[0.1111111111111111,\"#46039f\"],[0.2222222222222222,\"#7201a8\"],[0.3333333333333333,\"#9c179e\"],[0.4444444444444444,\"#bd3786\"],[0.5555555555555556,\"#d8576b\"],[0.6666666666666666,\"#ed7953\"],[0.7777777777777778,\"#fb9f3a\"],[0.8888888888888888,\"#fdca26\"],[1.0,\"#f0f921\"]]}],\"heatmapgl\":[{\"type\":\"heatmapgl\",\"colorbar\":{\"outlinewidth\":0,\"ticks\":\"\"},\"colorscale\":[[0.0,\"#0d0887\"],[0.1111111111111111,\"#46039f\"],[0.2222222222222222,\"#7201a8\"],[0.3333333333333333,\"#9c179e\"],[0.4444444444444444,\"#bd3786\"],[0.5555555555555556,\"#d8576b\"],[0.6666666666666666,\"#ed7953\"],[0.7777777777777778,\"#fb9f3a\"],[0.8888888888888888,\"#fdca26\"],[1.0,\"#f0f921\"]]}],\"contourcarpet\":[{\"type\":\"contourcarpet\",\"colorbar\":{\"outlinewidth\":0,\"ticks\":\"\"}}],\"contour\":[{\"type\":\"contour\",\"colorbar\":{\"outlinewidth\":0,\"ticks\":\"\"},\"colorscale\":[[0.0,\"#0d0887\"],[0.1111111111111111,\"#46039f\"],[0.2222222222222222,\"#7201a8\"],[0.3333333333333333,\"#9c179e\"],[0.4444444444444444,\"#bd3786\"],[0.5555555555555556,\"#d8576b\"],[0.6666666666666666,\"#ed7953\"],[0.7777777777777778,\"#fb9f3a\"],[0.8888888888888888,\"#fdca26\"],[1.0,\"#f0f921\"]]}],\"surface\":[{\"type\":\"surface\",\"colorbar\":{\"outlinewidth\":0,\"ticks\":\"\"},\"colorscale\":[[0.0,\"#0d0887\"],[0.1111111111111111,\"#46039f\"],[0.2222222222222222,\"#7201a8\"],[0.3333333333333333,\"#9c179e\"],[0.4444444444444444,\"#bd3786\"],[0.5555555555555556,\"#d8576b\"],[0.6666666666666666,\"#ed7953\"],[0.7777777777777778,\"#fb9f3a\"],[0.8888888888888888,\"#fdca26\"],[1.0,\"#f0f921\"]]}],\"mesh3d\":[{\"type\":\"mesh3d\",\"colorbar\":{\"outlinewidth\":0,\"ticks\":\"\"}}],\"scatter\":[{\"fillpattern\":{\"fillmode\":\"overlay\",\"size\":10,\"solidity\":0.2},\"type\":\"scatter\"}],\"parcoords\":[{\"type\":\"parcoords\",\"line\":{\"colorbar\":{\"outlinewidth\":0,\"ticks\":\"\"}}}],\"scatterpolargl\":[{\"type\":\"scatterpolargl\",\"marker\":{\"colorbar\":{\"outlinewidth\":0,\"ticks\":\"\"}}}],\"bar\":[{\"error_x\":{\"color\":\"#2a3f5f\"},\"error_y\":{\"color\":\"#2a3f5f\"},\"marker\":{\"line\":{\"color\":\"#E5ECF6\",\"width\":0.5},\"pattern\":{\"fillmode\":\"overlay\",\"size\":10,\"solidity\":0.2}},\"type\":\"bar\"}],\"scattergeo\":[{\"type\":\"scattergeo\",\"marker\":{\"colorbar\":{\"outlinewidth\":0,\"ticks\":\"\"}}}],\"scatterpolar\":[{\"type\":\"scatterpolar\",\"marker\":{\"colorbar\":{\"outlinewidth\":0,\"ticks\":\"\"}}}],\"histogram\":[{\"marker\":{\"pattern\":{\"fillmode\":\"overlay\",\"size\":10,\"solidity\":0.2}},\"type\":\"histogram\"}],\"scattergl\":[{\"type\":\"scattergl\",\"marker\":{\"colorbar\":{\"outlinewidth\":0,\"ticks\":\"\"}}}],\"scatter3d\":[{\"type\":\"scatter3d\",\"line\":{\"colorbar\":{\"outlinewidth\":0,\"ticks\":\"\"}},\"marker\":{\"colorbar\":{\"outlinewidth\":0,\"ticks\":\"\"}}}],\"scattermapbox\":[{\"type\":\"scattermapbox\",\"marker\":{\"colorbar\":{\"outlinewidth\":0,\"ticks\":\"\"}}}],\"scatterternary\":[{\"type\":\"scatterternary\",\"marker\":{\"colorbar\":{\"outlinewidth\":0,\"ticks\":\"\"}}}],\"scattercarpet\":[{\"type\":\"scattercarpet\",\"marker\":{\"colorbar\":{\"outlinewidth\":0,\"ticks\":\"\"}}}],\"carpet\":[{\"aaxis\":{\"endlinecolor\":\"#2a3f5f\",\"gridcolor\":\"white\",\"linecolor\":\"white\",\"minorgridcolor\":\"white\",\"startlinecolor\":\"#2a3f5f\"},\"baxis\":{\"endlinecolor\":\"#2a3f5f\",\"gridcolor\":\"white\",\"linecolor\":\"white\",\"minorgridcolor\":\"white\",\"startlinecolor\":\"#2a3f5f\"},\"type\":\"carpet\"}],\"table\":[{\"cells\":{\"fill\":{\"color\":\"#EBF0F8\"},\"line\":{\"color\":\"white\"}},\"header\":{\"fill\":{\"color\":\"#C8D4E3\"},\"line\":{\"color\":\"white\"}},\"type\":\"table\"}],\"barpolar\":[{\"marker\":{\"line\":{\"color\":\"#E5ECF6\",\"width\":0.5},\"pattern\":{\"fillmode\":\"overlay\",\"size\":10,\"solidity\":0.2}},\"type\":\"barpolar\"}],\"pie\":[{\"automargin\":true,\"type\":\"pie\"}]},\"layout\":{\"autotypenumbers\":\"strict\",\"colorway\":[\"#636efa\",\"#EF553B\",\"#00cc96\",\"#ab63fa\",\"#FFA15A\",\"#19d3f3\",\"#FF6692\",\"#B6E880\",\"#FF97FF\",\"#FECB52\"],\"font\":{\"color\":\"#2a3f5f\"},\"hovermode\":\"closest\",\"hoverlabel\":{\"align\":\"left\"},\"paper_bgcolor\":\"white\",\"plot_bgcolor\":\"#E5ECF6\",\"polar\":{\"bgcolor\":\"#E5ECF6\",\"angularaxis\":{\"gridcolor\":\"white\",\"linecolor\":\"white\",\"ticks\":\"\"},\"radialaxis\":{\"gridcolor\":\"white\",\"linecolor\":\"white\",\"ticks\":\"\"}},\"ternary\":{\"bgcolor\":\"#E5ECF6\",\"aaxis\":{\"gridcolor\":\"white\",\"linecolor\":\"white\",\"ticks\":\"\"},\"baxis\":{\"gridcolor\":\"white\",\"linecolor\":\"white\",\"ticks\":\"\"},\"caxis\":{\"gridcolor\":\"white\",\"linecolor\":\"white\",\"ticks\":\"\"}},\"coloraxis\":{\"colorbar\":{\"outlinewidth\":0,\"ticks\":\"\"}},\"colorscale\":{\"sequential\":[[0.0,\"#0d0887\"],[0.1111111111111111,\"#46039f\"],[0.2222222222222222,\"#7201a8\"],[0.3333333333333333,\"#9c179e\"],[0.4444444444444444,\"#bd3786\"],[0.5555555555555556,\"#d8576b\"],[0.6666666666666666,\"#ed7953\"],[0.7777777777777778,\"#fb9f3a\"],[0.8888888888888888,\"#fdca26\"],[1.0,\"#f0f921\"]],\"sequentialminus\":[[0.0,\"#0d0887\"],[0.1111111111111111,\"#46039f\"],[0.2222222222222222,\"#7201a8\"],[0.3333333333333333,\"#9c179e\"],[0.4444444444444444,\"#bd3786\"],[0.5555555555555556,\"#d8576b\"],[0.6666666666666666,\"#ed7953\"],[0.7777777777777778,\"#fb9f3a\"],[0.8888888888888888,\"#fdca26\"],[1.0,\"#f0f921\"]],\"diverging\":[[0,\"#8e0152\"],[0.1,\"#c51b7d\"],[0.2,\"#de77ae\"],[0.3,\"#f1b6da\"],[0.4,\"#fde0ef\"],[0.5,\"#f7f7f7\"],[0.6,\"#e6f5d0\"],[0.7,\"#b8e186\"],[0.8,\"#7fbc41\"],[0.9,\"#4d9221\"],[1,\"#276419\"]]},\"xaxis\":{\"gridcolor\":\"white\",\"linecolor\":\"white\",\"ticks\":\"\",\"title\":{\"standoff\":15},\"zerolinecolor\":\"white\",\"automargin\":true,\"zerolinewidth\":2},\"yaxis\":{\"gridcolor\":\"white\",\"linecolor\":\"white\",\"ticks\":\"\",\"title\":{\"standoff\":15},\"zerolinecolor\":\"white\",\"automargin\":true,\"zerolinewidth\":2},\"scene\":{\"xaxis\":{\"backgroundcolor\":\"#E5ECF6\",\"gridcolor\":\"white\",\"linecolor\":\"white\",\"showbackground\":true,\"ticks\":\"\",\"zerolinecolor\":\"white\",\"gridwidth\":2},\"yaxis\":{\"backgroundcolor\":\"#E5ECF6\",\"gridcolor\":\"white\",\"linecolor\":\"white\",\"showbackground\":true,\"ticks\":\"\",\"zerolinecolor\":\"white\",\"gridwidth\":2},\"zaxis\":{\"backgroundcolor\":\"#E5ECF6\",\"gridcolor\":\"white\",\"linecolor\":\"white\",\"showbackground\":true,\"ticks\":\"\",\"zerolinecolor\":\"white\",\"gridwidth\":2}},\"shapedefaults\":{\"line\":{\"color\":\"#2a3f5f\"}},\"annotationdefaults\":{\"arrowcolor\":\"#2a3f5f\",\"arrowhead\":0,\"arrowwidth\":1},\"geo\":{\"bgcolor\":\"white\",\"landcolor\":\"#E5ECF6\",\"subunitcolor\":\"white\",\"showland\":true,\"showlakes\":true,\"lakecolor\":\"white\"},\"title\":{\"x\":0.05},\"mapbox\":{\"style\":\"light\"}}},\"title\":{\"text\":\"Funnel of events by group\"}},                        {\"responsive\": true}                    ).then(function(){\n",
              "                            \n",
              "var gd = document.getElementById('e40841a5-a95a-4541-842e-07bca9ae01e4');\n",
              "var x = new MutationObserver(function (mutations, observer) {{\n",
              "        var display = window.getComputedStyle(gd).display;\n",
              "        if (!display || display === 'none') {{\n",
              "            console.log([gd, 'removed!']);\n",
              "            Plotly.purge(gd);\n",
              "            observer.disconnect();\n",
              "        }}\n",
              "}});\n",
              "\n",
              "// Listen for the removal of the full notebook cells\n",
              "var notebookContainer = gd.closest('#notebook-container');\n",
              "if (notebookContainer) {{\n",
              "    x.observe(notebookContainer, {childList: true});\n",
              "}}\n",
              "\n",
              "// Listen for the clearing of the current output cell\n",
              "var outputEl = gd.closest('.output');\n",
              "if (outputEl) {{\n",
              "    x.observe(outputEl, {childList: true});\n",
              "}}\n",
              "\n",
              "                        })                };                            </script>        </div>\n",
              "</body>\n",
              "</html>"
            ]
          },
          "metadata": {}
        }
      ],
      "source": [
        "# table with the number of unique users for each event in each test group [246, 247, 248]\n",
        "group_event_count = (\n",
        "    data.query('event != \"Tutorial\"').groupby(['group_id', 'event'])\n",
        "    .agg({'user_id':'nunique'}).reset_index().sort_values('user_id', ascending=False))\n",
        "\n",
        "# Funnel of events by test group \n",
        "fig = go.Figure() \n",
        "for group_id in [246,247,248]:\n",
        "    funnel = group_event_count.query('group_id ==@group_id')\n",
        "    fig.add_trace(go.Funnel(name = group_id, y = funnel['event'], x = funnel['user_id'], \n",
        "                            orientation = \"h\", textinfo = \"value+percent initial\"))\n",
        "    fig.update_layout(title='Funnel of events by group')\n",
        "fig.show()"
      ]
    },
    {
      "cell_type": "markdown",
      "metadata": {
        "id": "9KhsV-KfJMmK"
      },
      "source": [
        "Thus, the following results are obtained:\n",
        "\n",
        "- On average, 47% of the total number of users make a purchase and make a successful payment in the app.\n",
        "- Most of all users are lost at the 2nd step of the funnel - OffersScreenAppear, i.e. this event is made by only 61% of the total number of users who made the previous event.\n",
        "- At other steps of the funnel losses of users are not so serious.\n",
        "- In general, the situation for each test group is identical, the difference between the groups is about 1-2%."
      ]
    },
    {
      "cell_type": "code",
      "execution_count": 133,
      "metadata": {
        "id": "8rXPU7nxJMmK",
        "colab": {
          "base_uri": "https://localhost:8080/"
        },
        "outputId": "e6dada44-75ff-4d0f-c005-8fe24e2dc030"
      },
      "outputs": [
        {
          "output_type": "stream",
          "name": "stdout",
          "text": [
            "Total visitors: (100.0%)\n",
            "Viewed Directory as % of previous step: (61.5%)\n",
            "Viewed the Product Card in % of the previous step: (81.0%)\n",
            "Paid in % of the previous step: (94.7%)\n"
          ]
        }
      ],
      "source": [
        "# counting the share of participants from the last step\n",
        "count_users = data.pivot_table(index='user_id', columns='event', values='date_time', aggfunc='min')\n",
        "\n",
        "print('Total visitors:', \n",
        "      '({:.1%})'.format(count_users['MainScreenAppear'].count() / count_users['MainScreenAppear'].count() ))\n",
        "print('Viewed Directory as % of previous step:', \n",
        "      '({:.1%})'.format(count_users['OffersScreenAppear'].count() / count_users['MainScreenAppear'].count() ))\n",
        "print('Viewed the Product Card in % of the previous step:', \n",
        "      '({:.1%})'.format(count_users['CartScreenAppear'].count() / count_users['OffersScreenAppear'].count()))\n",
        "print('Paid in % of the previous step:',\n",
        "      '({:.1%})'.format(count_users['PaymentScreenSuccessful'].count() / count_users['CartScreenAppear'].count()))"
      ]
    },
    {
      "cell_type": "markdown",
      "metadata": {
        "id": "b4O2-X52JMmM"
      },
      "source": [
        "We see that most users were lost after the first step, with only 61% of users appearing on the Catalog screen and continuing their in-app purchase path."
      ]
    },
    {
      "cell_type": "markdown",
      "metadata": {
        "id": "dUZIqVzwJMmM"
      },
      "source": [
        "## Study of experimental results"
      ]
    },
    {
      "cell_type": "markdown",
      "metadata": {
        "id": "73KnXl34JMmN"
      },
      "source": [
        "### Counting the number of users in groups"
      ]
    },
    {
      "cell_type": "markdown",
      "metadata": {
        "id": "K45YppG2JMmN"
      },
      "source": [
        "Previously, in section 3.6 we have already calculated and visualized the unique number of users by group after removing anomalies from the data. In this regard, we will display only the resulting numbers:"
      ]
    },
    {
      "cell_type": "code",
      "execution_count": 134,
      "metadata": {
        "id": "jliJFPUWJMmN",
        "colab": {
          "base_uri": "https://localhost:8080/"
        },
        "outputId": "c8220f1c-03bc-493c-a65b-62066134b969"
      },
      "outputs": [
        {
          "output_type": "stream",
          "name": "stdout",
          "text": [
            "Number of unique users:\n",
            " In group 246 is 2456\n",
            " In group 247 is 2491\n",
            " In group 248 is 2511\n"
          ]
        }
      ],
      "source": [
        "# count the number of users in each group\n",
        "user_count = data.groupby('group_id').agg({'user_id': ['nunique', 'count']}).reset_index()\n",
        "user_count.columns = ['group', 'Unique users', 'Number of users']\n",
        "print('Number of unique users:')\n",
        "print(' In group 246 is', user_count.iloc[0]['Unique users'])\n",
        "print(' In group 247 is', user_count.iloc[1]['Unique users'])\n",
        "print(' In group 248 is', user_count.iloc[2]['Unique users'])"
      ]
    },
    {
      "cell_type": "markdown",
      "metadata": {
        "id": "I5Dht0qtJMmN"
      },
      "source": [
        "### Conducting the A/A experiment"
      ]
    },
    {
      "cell_type": "markdown",
      "metadata": {
        "id": "8FUa7elJJMmO"
      },
      "source": [
        "The event funnel showed us that the experimental groups are very similar to each other. In this regard, we must first check whether the statistical criteria find the difference between samples 246 and 247 (A/A test). \n",
        "\n",
        "Let's use the Z-criterion (a statistical test for determining whether two mean values of the general population differ when the variance is known and the sample size is large). For convenience, let's write a function."
      ]
    },
    {
      "cell_type": "code",
      "execution_count": 135,
      "metadata": {
        "id": "D7WclJBaJMmO"
      },
      "outputs": [],
      "source": [
        "def z_test(df1, df2, event, alpha, n):\n",
        "    '''    \n",
        "The function takes two dataframes with logs as input and checks on the specified event in pairs \n",
        "whether there is a statistically significant difference between the shares of users who committed it in group 1 and group 2.\n",
        "\n",
        "Input parameters:\n",
        "    - df1, df2 - dataframes with logs\n",
        "    - event - event\n",
        "    - alpfa - critical level of statistical significance\n",
        "    - n - Bonnferoni correction for the critical level of statistical significance\n",
        "    '''    \n",
        "    \n",
        "    # critical level of statistical significance with Bonferroni correction\n",
        "    bonferroni_alpha = alpha / n\n",
        " \n",
        "    # number of users in group 1 and group 2:\n",
        "    n_users = np.array([df1['user_id'].nunique(), \n",
        "                        df2['user_id'].nunique()])\n",
        "\n",
        "    # number of users who have committed an event in group 1 and group 2\n",
        "    success = np.array([df1[df1['event'] == event]['user_id'].nunique(), \n",
        "                        df2[df2['event'] == event]['user_id'].nunique()])\n",
        "\n",
        "    # proportions of success in groups:\n",
        "    p1 = success[0]/n_users[0]\n",
        "    p2 = success[1]/n_users[1]\n",
        "    \n",
        "    # proportion of success in the combined dataset:\n",
        "    p_combined = (success[0] + success[1]) / (n_users[0] + n_users[1])\n",
        "\n",
        "    # difference of proportions in the dataset\n",
        "    difference = p1 - p2 \n",
        "\n",
        "    # count statistics in st.deviations of the standard normal distribution\n",
        "    z_value = difference / np.sqrt(p_combined * (1 - p_combined) * (1/n_users[0] + 1/n_users[1]))\n",
        "\n",
        "    # set a standard normal distribution (mean 0, st.deviation 1)\n",
        "    distr = st.norm(0, 1)  \n",
        "\n",
        "    p_value = (1 - distr.cdf(abs(z_value))) * 2 #test is bilateral, double the result\n",
        "    print('event:', event)\n",
        "    print('p-value: ', p_value)\n",
        "\n",
        "    if p_value < bonferroni_alpha:\n",
        "        print('Reject null hypothesis: there is a difference between fractions')\n",
        "    else:\n",
        "        print(\n",
        "        'The null hypothesis could not be rejected, there is no reason to consider the fractions different')"
      ]
    },
    {
      "cell_type": "markdown",
      "metadata": {
        "id": "Ycc9wI0DJMmO"
      },
      "source": [
        "According to the proposed process, we will need to match the fractions for each event between:\n",
        "\n",
        "1. control groups 246 and 247;\n",
        "2. each of the control group separately and the experimental group (246-248 and 247-248);\n",
        "3. the combined control group and experimental group (246+247 and 248).\n",
        "\n",
        "In total we have 4 types of events, 4 A/A tests and 12 A/B tests, hence for all tests we introduce Bonferroni correction bonferroni_alpha = alpha / 4 or bonferroni_alpha = alpha / 12 to insure against false results.\n",
        "\n",
        "Let us introduce the main and alternative hypotheses for all pairwise comparisons:\n",
        "\n",
        "    - The null hypothesis: The fractions of the two control groups are not different from each other\n",
        "    - Alternative hypothesis: The fractions of the two control groups are different\n",
        "    \n",
        "Consider 1.25% and 0.416% as the boundary of the critical level of statistical significance alpha, respectively."
      ]
    },
    {
      "cell_type": "markdown",
      "metadata": {
        "id": "3E8H4ccHJMmP"
      },
      "source": [
        "#### Comparison of proportions of control groups 246 and 247"
      ]
    },
    {
      "cell_type": "code",
      "execution_count": 136,
      "metadata": {
        "id": "qzCUrlkyJMmP",
        "colab": {
          "base_uri": "https://localhost:8080/"
        },
        "outputId": "6a445a97-d73d-469a-8008-99561139aba5"
      },
      "outputs": [
        {
          "output_type": "stream",
          "name": "stdout",
          "text": [
            "event: MainScreenAppear\n",
            "p-value:  0.6730951807208485\n",
            "The null hypothesis could not be rejected, there is no reason to consider the fractions different\n",
            "\n",
            "event: OffersScreenAppear\n",
            "p-value:  0.27702771700769824\n",
            "The null hypothesis could not be rejected, there is no reason to consider the fractions different\n",
            "\n",
            "event: CartScreenAppear\n",
            "p-value:  0.26299626637167783\n",
            "The null hypothesis could not be rejected, there is no reason to consider the fractions different\n",
            "\n",
            "event: PaymentScreenSuccessful\n",
            "p-value:  0.13586258367273985\n",
            "The null hypothesis could not be rejected, there is no reason to consider the fractions different\n",
            "\n"
          ]
        }
      ],
      "source": [
        "for event in group_event_count['event'].unique():\n",
        "    z_test(data[data['group_id'] == 246], data[data['group_id'] == 247], event,.05, 4)\n",
        "    print()"
      ]
    },
    {
      "cell_type": "markdown",
      "metadata": {
        "id": "1vqm_hLoJMmQ"
      },
      "source": [
        "After performing A/A testing of the two experimental groups, the following conclusions can be made:\n",
        "\n",
        "- There is no statistically significant difference between the shares of the two groups. This phenomenon is characteristic of all events in both groups.\n",
        "- Consequently, we can assume that the division into groups works correctly."
      ]
    },
    {
      "cell_type": "markdown",
      "metadata": {
        "id": "jp0ho3lEJMmQ"
      },
      "source": [
        "#### Comparison of the shares of groups 246 and 248"
      ]
    },
    {
      "cell_type": "code",
      "execution_count": 137,
      "metadata": {
        "id": "DUTB3twsJMmQ",
        "colab": {
          "base_uri": "https://localhost:8080/"
        },
        "outputId": "8c185b56-4554-4ade-9b78-d6ec44768ba6"
      },
      "outputs": [
        {
          "output_type": "stream",
          "name": "stdout",
          "text": [
            "event: MainScreenAppear\n",
            "p-value:  0.24380010740478975\n",
            "The null hypothesis could not be rejected, there is no reason to consider the fractions different\n",
            "\n",
            "event: OffersScreenAppear\n",
            "p-value:  0.21751867407994285\n",
            "The null hypothesis could not be rejected, there is no reason to consider the fractions different\n",
            "\n",
            "event: CartScreenAppear\n",
            "p-value:  0.08317408116828573\n",
            "The null hypothesis could not be rejected, there is no reason to consider the fractions different\n",
            "\n",
            "event: PaymentScreenSuccessful\n",
            "p-value:  0.2239322340682175\n",
            "The null hypothesis could not be rejected, there is no reason to consider the fractions different\n",
            "\n"
          ]
        }
      ],
      "source": [
        "for event in group_event_count['event'].unique():\n",
        "    z_test(data[data['group_id'] == 246], data[data['group_id'] == 248], event, .05, 12)\n",
        "    print()"
      ]
    },
    {
      "cell_type": "markdown",
      "metadata": {
        "id": "2yydcc6kJMmR"
      },
      "source": [
        "There is no statistically significant difference between the number of users who performed each event in group 246 and 248, we can assume that the proportion of users who performed the same event is the same for both groups."
      ]
    },
    {
      "cell_type": "markdown",
      "metadata": {
        "id": "FMWm_cR1JMmR"
      },
      "source": [
        "#### Comparison of groups 247 and 248"
      ]
    },
    {
      "cell_type": "code",
      "execution_count": 138,
      "metadata": {
        "id": "0f76pGmqJMmR",
        "colab": {
          "base_uri": "https://localhost:8080/"
        },
        "outputId": "34ca714d-4a68-4d6c-f0f6-487670fa3881"
      },
      "outputs": [
        {
          "output_type": "stream",
          "name": "stdout",
          "text": [
            "event: MainScreenAppear\n",
            "p-value:  0.4545336230756303\n",
            "The null hypothesis could not be rejected, there is no reason to consider the fractions different\n",
            "\n",
            "event: OffersScreenAppear\n",
            "p-value:  0.8850746269495819\n",
            "The null hypothesis could not be rejected, there is no reason to consider the fractions different\n",
            "\n",
            "event: CartScreenAppear\n",
            "p-value:  0.539679592997024\n",
            "The null hypothesis could not be rejected, there is no reason to consider the fractions different\n",
            "\n",
            "event: PaymentScreenSuccessful\n",
            "p-value:  0.7800603242138475\n",
            "The null hypothesis could not be rejected, there is no reason to consider the fractions different\n",
            "\n"
          ]
        }
      ],
      "source": [
        "for event in group_event_count['event'].unique():\n",
        "    z_test(data[data['group_id'] == 247], data[data['group_id'] == 248], event,.05, 12)\n",
        "    print()"
      ]
    },
    {
      "cell_type": "markdown",
      "metadata": {
        "id": "f9U4hM-8JMmS"
      },
      "source": [
        "There is no statistically significant difference between the number of users who performed each event in group 247 and 248, we can assume that the proportion of users who performed the same event is the same for both groups."
      ]
    },
    {
      "cell_type": "markdown",
      "metadata": {
        "id": "4OwYUP3kJMmS"
      },
      "source": [
        "#### Comparison of the combined control group and the experimental group (246+247 и 248)"
      ]
    },
    {
      "cell_type": "code",
      "execution_count": 139,
      "metadata": {
        "id": "GGBxnuzoJMmS",
        "colab": {
          "base_uri": "https://localhost:8080/"
        },
        "outputId": "6d6f2dce-6d3b-4226-df9c-4fd385e91f0c"
      },
      "outputs": [
        {
          "output_type": "stream",
          "name": "stdout",
          "text": [
            "event: MainScreenAppear\n",
            "p-value:  0.26186402859555846\n",
            "The null hypothesis could not be rejected, there is no reason to consider the fractions different\n",
            "\n",
            "event: OffersScreenAppear\n",
            "p-value:  0.42801834712141273\n",
            "The null hypothesis could not be rejected, there is no reason to consider the fractions different\n",
            "\n",
            "event: CartScreenAppear\n",
            "p-value:  0.17619153820927536\n",
            "The null hypothesis could not be rejected, there is no reason to consider the fractions different\n",
            "\n",
            "event: PaymentScreenSuccessful\n",
            "p-value:  0.5908710902173984\n",
            "The null hypothesis could not be rejected, there is no reason to consider the fractions different\n",
            "\n"
          ]
        }
      ],
      "source": [
        "for event in group_event_count['event'].unique():\n",
        "    z_test(data[data['group_id'] != 248], data[data['group_id'] == 248], event,.05,12)\n",
        "    print()"
      ]
    },
    {
      "cell_type": "markdown",
      "metadata": {
        "id": "1cvAiqPOJMmS"
      },
      "source": [
        "During the study, it was found that there is no statistically significant difference between the number of users who performed each event in the groups, we can assume that the proportion of users who performed the same event is the same for both groups. \n",
        "\n",
        "Consequently, we can conclude that the new fonts that were shown to users from group 248 had no effect on the behavior of users within the application."
      ]
    },
    {
      "cell_type": "markdown",
      "metadata": {
        "id": "HEkzXIcUJMmT"
      },
      "source": [
        "## Conclusion"
      ]
    },
    {
      "cell_type": "markdown",
      "metadata": {
        "id": "Ys2ZQOPLJMmT"
      },
      "source": [
        "In the course of the research we analyzed customer behavior based on user logs, as well as the results of the A/A/B test. After preprocessing the data, the behavior of 7458 users of the mobile app was examined.\n",
        "\n",
        "It was found that:\n",
        "\n",
        "- The home page was seen by 7344 users (98.47% of the total number of users);\n",
        "- Offerings catalog was viewed by 4,517 users (60.57% of the total number);\n",
        "- Product cards were viewed by 3658 users (49.05% of total number);\n",
        "- Completed payment 3463 users (46.43% of the total);\n",
        "- Lesson viewed by 824 users (11.05% of the total).\n",
        "The event of viewing a tutorial lesson was excluded from the analysis because it does not need to be completed and does not affect the rest of the user's steps.\n",
        "\n",
        "During the construction and analysis of the sales funnel, the following was revealed:\n",
        "- On average, 47% of all users make a purchase and make a successful payment in the app;\n",
        "- The most users are lost at the 2nd step of the funnel - OffersScreenAppear, i.e. this event is completed by only 61% of the total number of users who completed the previous event;\n",
        "- At other steps of the funnel losses of users are not so serious;\n",
        "- In general, the situation for each test group is identical, the difference between the groups is about 1-2%.\n",
        "\n",
        "Next we analyzed the result of the A/A/B experiment (font change in the whole application), for this purpose we took the event logs for the week from 01/08/2019 to 07/08/2019. The experiment itself took into account the behavior of users divided into 3 groups:\n",
        "\n",
        "    - In group 246 is 2456\n",
        "    - In group 247 is 2491.\n",
        "    - In group 248 is 2511.\n",
        "\n",
        "The proportions for each event were then compared between:\n",
        "\n",
        "1. Control groups 246 and 247;\n",
        "2. Each of the control group separately and the experimental group (246-248 and 247-248);\n",
        "3. the Combined Control Group and the Experimental Group (246+247 and 248).\n",
        "\n",
        "Based on the results, we can conclude that the new fonts shown to the users from group 248 had no effect on the users' behavior within the application."
      ]
    }
  ],
  "metadata": {
    "ExecuteTimeLog": [
      {
        "duration": 1387,
        "start_time": "2022-12-03T09:18:48.585Z"
      },
      {
        "duration": 78,
        "start_time": "2022-12-03T09:19:27.706Z"
      },
      {
        "duration": 428,
        "start_time": "2022-12-03T09:19:33.873Z"
      },
      {
        "duration": 8,
        "start_time": "2022-12-03T09:20:04.430Z"
      },
      {
        "duration": 23,
        "start_time": "2022-12-03T09:20:26.370Z"
      },
      {
        "duration": 1236,
        "start_time": "2022-12-03T09:21:04.138Z"
      },
      {
        "duration": 183,
        "start_time": "2022-12-03T09:21:05.376Z"
      },
      {
        "duration": 4,
        "start_time": "2022-12-03T09:21:05.561Z"
      },
      {
        "duration": 39,
        "start_time": "2022-12-03T09:21:05.567Z"
      },
      {
        "duration": 110,
        "start_time": "2022-12-03T09:21:19.764Z"
      },
      {
        "duration": 20,
        "start_time": "2022-12-03T09:21:26.807Z"
      },
      {
        "duration": 18,
        "start_time": "2022-12-03T09:22:42.263Z"
      },
      {
        "duration": 23,
        "start_time": "2022-12-03T09:23:08.589Z"
      },
      {
        "duration": 21,
        "start_time": "2022-12-03T09:23:23.066Z"
      },
      {
        "duration": 73,
        "start_time": "2022-12-03T09:25:16.201Z"
      },
      {
        "duration": 84,
        "start_time": "2022-12-03T09:26:36.293Z"
      },
      {
        "duration": 71,
        "start_time": "2022-12-03T09:27:37.496Z"
      },
      {
        "duration": 67,
        "start_time": "2022-12-03T09:27:57.704Z"
      },
      {
        "duration": 69,
        "start_time": "2022-12-03T09:28:04.486Z"
      },
      {
        "duration": 1152,
        "start_time": "2022-12-03T09:30:36.753Z"
      },
      {
        "duration": 192,
        "start_time": "2022-12-03T09:30:37.907Z"
      },
      {
        "duration": 22,
        "start_time": "2022-12-03T09:30:38.101Z"
      },
      {
        "duration": 38,
        "start_time": "2022-12-03T09:30:38.124Z"
      },
      {
        "duration": 25,
        "start_time": "2022-12-03T09:30:38.164Z"
      },
      {
        "duration": 83,
        "start_time": "2022-12-03T09:30:38.190Z"
      },
      {
        "duration": 65,
        "start_time": "2022-12-03T09:44:09.026Z"
      },
      {
        "duration": 45,
        "start_time": "2022-12-03T09:44:38.534Z"
      },
      {
        "duration": 1129,
        "start_time": "2022-12-03T09:45:12.586Z"
      },
      {
        "duration": 175,
        "start_time": "2022-12-03T09:45:13.717Z"
      },
      {
        "duration": 22,
        "start_time": "2022-12-03T09:45:13.894Z"
      },
      {
        "duration": 34,
        "start_time": "2022-12-03T09:45:13.917Z"
      },
      {
        "duration": 47,
        "start_time": "2022-12-03T09:45:13.955Z"
      },
      {
        "duration": 56,
        "start_time": "2022-12-03T09:45:14.004Z"
      },
      {
        "duration": 92,
        "start_time": "2022-12-03T09:45:38.557Z"
      },
      {
        "duration": 89,
        "start_time": "2022-12-03T09:46:08.380Z"
      },
      {
        "duration": 167,
        "start_time": "2022-12-03T09:54:19.434Z"
      },
      {
        "duration": 70,
        "start_time": "2022-12-03T09:55:30.156Z"
      },
      {
        "duration": 84,
        "start_time": "2022-12-03T09:55:54.602Z"
      },
      {
        "duration": 81,
        "start_time": "2022-12-03T09:56:04.233Z"
      },
      {
        "duration": 1167,
        "start_time": "2022-12-03T09:56:11.501Z"
      },
      {
        "duration": 209,
        "start_time": "2022-12-03T09:56:12.671Z"
      },
      {
        "duration": 28,
        "start_time": "2022-12-03T09:56:12.882Z"
      },
      {
        "duration": 42,
        "start_time": "2022-12-03T09:56:12.912Z"
      },
      {
        "duration": 36,
        "start_time": "2022-12-03T09:56:12.957Z"
      },
      {
        "duration": 100,
        "start_time": "2022-12-03T09:56:12.995Z"
      },
      {
        "duration": 155,
        "start_time": "2022-12-03T09:56:13.097Z"
      },
      {
        "duration": 87,
        "start_time": "2022-12-03T09:56:13.254Z"
      },
      {
        "duration": 874,
        "start_time": "2022-12-03T09:56:30.804Z"
      },
      {
        "duration": 1192,
        "start_time": "2022-12-03T09:56:39.325Z"
      },
      {
        "duration": 177,
        "start_time": "2022-12-03T09:56:40.519Z"
      },
      {
        "duration": 22,
        "start_time": "2022-12-03T09:56:40.698Z"
      },
      {
        "duration": 30,
        "start_time": "2022-12-03T09:56:40.722Z"
      },
      {
        "duration": 22,
        "start_time": "2022-12-03T09:56:40.754Z"
      },
      {
        "duration": 97,
        "start_time": "2022-12-03T09:56:40.777Z"
      },
      {
        "duration": 176,
        "start_time": "2022-12-03T09:56:40.877Z"
      },
      {
        "duration": 102,
        "start_time": "2022-12-03T09:56:41.055Z"
      },
      {
        "duration": 43,
        "start_time": "2022-12-03T09:58:10.427Z"
      },
      {
        "duration": 39,
        "start_time": "2022-12-03T09:59:34.695Z"
      },
      {
        "duration": 43,
        "start_time": "2022-12-03T09:59:40.953Z"
      },
      {
        "duration": 61,
        "start_time": "2022-12-03T10:00:48.034Z"
      },
      {
        "duration": 47,
        "start_time": "2022-12-03T11:14:17.998Z"
      },
      {
        "duration": 25,
        "start_time": "2022-12-03T11:14:59.050Z"
      },
      {
        "duration": 227,
        "start_time": "2022-12-03T11:17:08.419Z"
      },
      {
        "duration": 239,
        "start_time": "2022-12-03T11:17:52.640Z"
      },
      {
        "duration": 184,
        "start_time": "2022-12-03T11:29:11.903Z"
      },
      {
        "duration": 189,
        "start_time": "2022-12-03T11:29:16.567Z"
      },
      {
        "duration": 291,
        "start_time": "2022-12-03T11:35:14.225Z"
      },
      {
        "duration": 296,
        "start_time": "2022-12-03T11:35:37.657Z"
      },
      {
        "duration": 509,
        "start_time": "2022-12-03T11:53:38.577Z"
      },
      {
        "duration": 400,
        "start_time": "2022-12-03T11:53:58.437Z"
      },
      {
        "duration": 406,
        "start_time": "2022-12-03T11:54:29.591Z"
      },
      {
        "duration": 29,
        "start_time": "2022-12-03T11:58:52.785Z"
      },
      {
        "duration": 21,
        "start_time": "2022-12-03T12:00:55.480Z"
      },
      {
        "duration": 826,
        "start_time": "2022-12-03T12:01:53.700Z"
      },
      {
        "duration": 864,
        "start_time": "2022-12-03T12:01:59.971Z"
      },
      {
        "duration": 754,
        "start_time": "2022-12-03T12:03:19.552Z"
      },
      {
        "duration": 43,
        "start_time": "2022-12-03T12:03:31.275Z"
      },
      {
        "duration": 41,
        "start_time": "2022-12-03T12:03:54.600Z"
      },
      {
        "duration": 1186,
        "start_time": "2022-12-03T12:05:45.886Z"
      },
      {
        "duration": 182,
        "start_time": "2022-12-03T12:05:47.075Z"
      },
      {
        "duration": 22,
        "start_time": "2022-12-03T12:05:47.259Z"
      },
      {
        "duration": 16,
        "start_time": "2022-12-03T12:05:47.283Z"
      },
      {
        "duration": 59,
        "start_time": "2022-12-03T12:05:47.301Z"
      },
      {
        "duration": 95,
        "start_time": "2022-12-03T12:05:47.362Z"
      },
      {
        "duration": 144,
        "start_time": "2022-12-03T12:05:47.459Z"
      },
      {
        "duration": 93,
        "start_time": "2022-12-03T12:05:47.604Z"
      },
      {
        "duration": 44,
        "start_time": "2022-12-03T12:05:47.699Z"
      },
      {
        "duration": 41,
        "start_time": "2022-12-03T12:05:47.745Z"
      },
      {
        "duration": 207,
        "start_time": "2022-12-03T12:05:47.788Z"
      },
      {
        "duration": 181,
        "start_time": "2022-12-03T12:05:47.997Z"
      },
      {
        "duration": 402,
        "start_time": "2022-12-03T12:05:48.180Z"
      },
      {
        "duration": 20,
        "start_time": "2022-12-03T12:05:48.584Z"
      },
      {
        "duration": 60,
        "start_time": "2022-12-03T12:05:48.606Z"
      },
      {
        "duration": 33,
        "start_time": "2022-12-03T12:07:05.611Z"
      },
      {
        "duration": 1100,
        "start_time": "2022-12-03T12:07:37.872Z"
      },
      {
        "duration": 3,
        "start_time": "2022-12-03T12:07:38.974Z"
      },
      {
        "duration": 198,
        "start_time": "2022-12-03T12:07:38.979Z"
      },
      {
        "duration": 21,
        "start_time": "2022-12-03T12:07:39.181Z"
      },
      {
        "duration": 39,
        "start_time": "2022-12-03T12:07:39.204Z"
      },
      {
        "duration": 28,
        "start_time": "2022-12-03T12:07:39.245Z"
      },
      {
        "duration": 91,
        "start_time": "2022-12-03T12:07:39.274Z"
      },
      {
        "duration": 185,
        "start_time": "2022-12-03T12:07:39.368Z"
      },
      {
        "duration": 100,
        "start_time": "2022-12-03T12:07:39.555Z"
      },
      {
        "duration": 34,
        "start_time": "2022-12-03T12:07:39.658Z"
      },
      {
        "duration": 64,
        "start_time": "2022-12-03T12:07:39.694Z"
      },
      {
        "duration": 200,
        "start_time": "2022-12-03T12:07:39.759Z"
      },
      {
        "duration": 177,
        "start_time": "2022-12-03T12:07:39.960Z"
      },
      {
        "duration": 398,
        "start_time": "2022-12-03T12:07:40.138Z"
      },
      {
        "duration": 33,
        "start_time": "2022-12-03T12:07:40.549Z"
      },
      {
        "duration": 39,
        "start_time": "2022-12-03T12:07:40.583Z"
      },
      {
        "duration": 29,
        "start_time": "2022-12-03T12:07:40.624Z"
      },
      {
        "duration": 32,
        "start_time": "2022-12-03T12:10:11.551Z"
      },
      {
        "duration": 31,
        "start_time": "2022-12-03T12:10:22.645Z"
      },
      {
        "duration": 787,
        "start_time": "2022-12-03T12:12:15.825Z"
      },
      {
        "duration": 580,
        "start_time": "2022-12-03T12:13:22.792Z"
      },
      {
        "duration": 667,
        "start_time": "2022-12-03T12:14:21.724Z"
      },
      {
        "duration": 835,
        "start_time": "2022-12-03T12:22:11.708Z"
      },
      {
        "duration": 16,
        "start_time": "2022-12-03T12:22:20.304Z"
      },
      {
        "duration": 27,
        "start_time": "2022-12-03T12:26:25.591Z"
      },
      {
        "duration": 27,
        "start_time": "2022-12-03T12:28:29.244Z"
      },
      {
        "duration": 178,
        "start_time": "2022-12-03T12:30:47.887Z"
      },
      {
        "duration": 49,
        "start_time": "2022-12-03T12:32:25.604Z"
      },
      {
        "duration": 57,
        "start_time": "2022-12-03T12:32:43.866Z"
      },
      {
        "duration": 32,
        "start_time": "2022-12-03T12:33:02.459Z"
      },
      {
        "duration": 58,
        "start_time": "2022-12-03T12:33:18.535Z"
      },
      {
        "duration": 44,
        "start_time": "2022-12-03T12:34:49.959Z"
      },
      {
        "duration": 1155,
        "start_time": "2022-12-03T12:34:55.301Z"
      },
      {
        "duration": 3,
        "start_time": "2022-12-03T12:34:56.458Z"
      },
      {
        "duration": 199,
        "start_time": "2022-12-03T12:34:56.463Z"
      },
      {
        "duration": 39,
        "start_time": "2022-12-03T12:34:56.665Z"
      },
      {
        "duration": 35,
        "start_time": "2022-12-03T12:34:56.705Z"
      },
      {
        "duration": 53,
        "start_time": "2022-12-03T12:34:56.742Z"
      },
      {
        "duration": 123,
        "start_time": "2022-12-03T12:34:56.798Z"
      },
      {
        "duration": 168,
        "start_time": "2022-12-03T12:34:56.924Z"
      },
      {
        "duration": 99,
        "start_time": "2022-12-03T12:34:57.093Z"
      },
      {
        "duration": 53,
        "start_time": "2022-12-03T12:34:57.194Z"
      },
      {
        "duration": 44,
        "start_time": "2022-12-03T12:34:57.248Z"
      },
      {
        "duration": 218,
        "start_time": "2022-12-03T12:34:57.294Z"
      },
      {
        "duration": 196,
        "start_time": "2022-12-03T12:34:57.514Z"
      },
      {
        "duration": 451,
        "start_time": "2022-12-03T12:34:57.712Z"
      },
      {
        "duration": 20,
        "start_time": "2022-12-03T12:34:58.165Z"
      },
      {
        "duration": 73,
        "start_time": "2022-12-03T12:34:58.187Z"
      },
      {
        "duration": 28,
        "start_time": "2022-12-03T12:34:58.262Z"
      },
      {
        "duration": 923,
        "start_time": "2022-12-03T12:34:58.292Z"
      },
      {
        "duration": 37,
        "start_time": "2022-12-03T12:34:59.217Z"
      },
      {
        "duration": 38,
        "start_time": "2022-12-03T12:34:59.265Z"
      },
      {
        "duration": 54,
        "start_time": "2022-12-03T12:34:59.305Z"
      },
      {
        "duration": 214,
        "start_time": "2022-12-03T12:35:22.659Z"
      },
      {
        "duration": 262,
        "start_time": "2022-12-03T12:35:46.623Z"
      },
      {
        "duration": 175,
        "start_time": "2022-12-03T12:36:15.623Z"
      },
      {
        "duration": 836,
        "start_time": "2022-12-03T12:51:31.047Z"
      },
      {
        "duration": 1164,
        "start_time": "2022-12-03T12:51:40.318Z"
      },
      {
        "duration": 3,
        "start_time": "2022-12-03T12:51:41.484Z"
      },
      {
        "duration": 195,
        "start_time": "2022-12-03T12:51:41.490Z"
      },
      {
        "duration": 22,
        "start_time": "2022-12-03T12:51:41.687Z"
      },
      {
        "duration": 32,
        "start_time": "2022-12-03T12:51:41.710Z"
      },
      {
        "duration": 27,
        "start_time": "2022-12-03T12:51:41.749Z"
      },
      {
        "duration": 90,
        "start_time": "2022-12-03T12:51:41.779Z"
      },
      {
        "duration": 185,
        "start_time": "2022-12-03T12:51:41.871Z"
      },
      {
        "duration": 78,
        "start_time": "2022-12-03T12:51:42.057Z"
      },
      {
        "duration": 40,
        "start_time": "2022-12-03T12:51:42.137Z"
      },
      {
        "duration": 64,
        "start_time": "2022-12-03T12:51:42.179Z"
      },
      {
        "duration": 211,
        "start_time": "2022-12-03T12:51:42.244Z"
      },
      {
        "duration": 230,
        "start_time": "2022-12-03T12:51:42.458Z"
      },
      {
        "duration": 473,
        "start_time": "2022-12-03T12:51:42.695Z"
      },
      {
        "duration": 21,
        "start_time": "2022-12-03T12:51:43.171Z"
      },
      {
        "duration": 64,
        "start_time": "2022-12-03T12:51:43.194Z"
      },
      {
        "duration": 28,
        "start_time": "2022-12-03T12:51:43.260Z"
      },
      {
        "duration": 794,
        "start_time": "2022-12-03T12:51:43.289Z"
      },
      {
        "duration": 15,
        "start_time": "2022-12-03T12:51:44.085Z"
      },
      {
        "duration": 52,
        "start_time": "2022-12-03T12:51:44.101Z"
      },
      {
        "duration": 190,
        "start_time": "2022-12-03T12:51:44.154Z"
      },
      {
        "duration": 164,
        "start_time": "2022-12-03T12:57:38.367Z"
      },
      {
        "duration": 160,
        "start_time": "2022-12-03T12:58:11.767Z"
      },
      {
        "duration": 198,
        "start_time": "2022-12-03T12:58:33.706Z"
      },
      {
        "duration": 186,
        "start_time": "2022-12-03T12:59:09.965Z"
      },
      {
        "duration": 204,
        "start_time": "2022-12-03T12:59:31.621Z"
      },
      {
        "duration": 61,
        "start_time": "2022-12-03T13:02:26.520Z"
      },
      {
        "duration": 1209,
        "start_time": "2022-12-03T13:02:51.950Z"
      },
      {
        "duration": 3,
        "start_time": "2022-12-03T13:02:53.161Z"
      },
      {
        "duration": 184,
        "start_time": "2022-12-03T13:02:53.166Z"
      },
      {
        "duration": 20,
        "start_time": "2022-12-03T13:02:53.353Z"
      },
      {
        "duration": 16,
        "start_time": "2022-12-03T13:02:53.375Z"
      },
      {
        "duration": 45,
        "start_time": "2022-12-03T13:02:53.393Z"
      },
      {
        "duration": 85,
        "start_time": "2022-12-03T13:02:53.442Z"
      },
      {
        "duration": 144,
        "start_time": "2022-12-03T13:02:53.540Z"
      },
      {
        "duration": 94,
        "start_time": "2022-12-03T13:02:53.686Z"
      },
      {
        "duration": 28,
        "start_time": "2022-12-03T13:02:53.782Z"
      },
      {
        "duration": 54,
        "start_time": "2022-12-03T13:02:53.812Z"
      },
      {
        "duration": 211,
        "start_time": "2022-12-03T13:02:53.867Z"
      },
      {
        "duration": 179,
        "start_time": "2022-12-03T13:02:54.080Z"
      },
      {
        "duration": 394,
        "start_time": "2022-12-03T13:02:54.261Z"
      },
      {
        "duration": 19,
        "start_time": "2022-12-03T13:02:54.657Z"
      },
      {
        "duration": 37,
        "start_time": "2022-12-03T13:02:54.678Z"
      },
      {
        "duration": 30,
        "start_time": "2022-12-03T13:02:54.741Z"
      },
      {
        "duration": 849,
        "start_time": "2022-12-03T13:02:54.773Z"
      },
      {
        "duration": 27,
        "start_time": "2022-12-03T13:02:55.624Z"
      },
      {
        "duration": 31,
        "start_time": "2022-12-03T13:02:55.653Z"
      },
      {
        "duration": 207,
        "start_time": "2022-12-03T13:02:55.686Z"
      },
      {
        "duration": 186,
        "start_time": "2022-12-03T13:02:55.894Z"
      },
      {
        "duration": 72,
        "start_time": "2022-12-03T13:02:56.082Z"
      },
      {
        "duration": 196,
        "start_time": "2022-12-03T13:06:56.377Z"
      },
      {
        "duration": 64,
        "start_time": "2022-12-03T13:07:08.765Z"
      },
      {
        "duration": 790,
        "start_time": "2022-12-03T13:08:19.890Z"
      },
      {
        "duration": 363,
        "start_time": "2022-12-03T13:08:32.327Z"
      },
      {
        "duration": 293,
        "start_time": "2022-12-03T13:08:57.494Z"
      },
      {
        "duration": 253,
        "start_time": "2022-12-03T13:10:47.760Z"
      },
      {
        "duration": 301,
        "start_time": "2022-12-03T13:11:02.494Z"
      },
      {
        "duration": 238,
        "start_time": "2022-12-03T13:12:08.285Z"
      },
      {
        "duration": 356,
        "start_time": "2022-12-03T13:13:02.475Z"
      },
      {
        "duration": 284,
        "start_time": "2022-12-03T13:13:46.176Z"
      },
      {
        "duration": 280,
        "start_time": "2022-12-03T13:13:53.673Z"
      },
      {
        "duration": 434,
        "start_time": "2022-12-03T13:14:02.518Z"
      },
      {
        "duration": 1160,
        "start_time": "2022-12-03T13:18:12.098Z"
      },
      {
        "duration": 3,
        "start_time": "2022-12-03T13:18:13.260Z"
      },
      {
        "duration": 169,
        "start_time": "2022-12-03T13:18:13.265Z"
      },
      {
        "duration": 30,
        "start_time": "2022-12-03T13:18:13.439Z"
      },
      {
        "duration": 21,
        "start_time": "2022-12-03T13:18:13.473Z"
      },
      {
        "duration": 20,
        "start_time": "2022-12-03T13:18:13.496Z"
      },
      {
        "duration": 100,
        "start_time": "2022-12-03T13:18:13.518Z"
      },
      {
        "duration": 141,
        "start_time": "2022-12-03T13:18:13.619Z"
      },
      {
        "duration": 87,
        "start_time": "2022-12-03T13:18:13.762Z"
      },
      {
        "duration": 29,
        "start_time": "2022-12-03T13:18:13.850Z"
      },
      {
        "duration": 38,
        "start_time": "2022-12-03T13:18:13.881Z"
      },
      {
        "duration": 210,
        "start_time": "2022-12-03T13:18:13.921Z"
      },
      {
        "duration": 162,
        "start_time": "2022-12-03T13:18:14.133Z"
      },
      {
        "duration": 382,
        "start_time": "2022-12-03T13:18:14.297Z"
      },
      {
        "duration": 19,
        "start_time": "2022-12-03T13:18:14.680Z"
      },
      {
        "duration": 65,
        "start_time": "2022-12-03T13:18:14.701Z"
      },
      {
        "duration": 24,
        "start_time": "2022-12-03T13:18:14.767Z"
      },
      {
        "duration": 779,
        "start_time": "2022-12-03T13:18:14.793Z"
      },
      {
        "duration": 17,
        "start_time": "2022-12-03T13:18:15.573Z"
      },
      {
        "duration": 51,
        "start_time": "2022-12-03T13:18:15.591Z"
      },
      {
        "duration": 194,
        "start_time": "2022-12-03T13:18:15.643Z"
      },
      {
        "duration": 176,
        "start_time": "2022-12-03T13:18:15.843Z"
      },
      {
        "duration": 289,
        "start_time": "2022-12-03T13:18:16.021Z"
      },
      {
        "duration": 265,
        "start_time": "2022-12-03T13:26:42.055Z"
      },
      {
        "duration": 1182,
        "start_time": "2022-12-03T13:27:28.372Z"
      },
      {
        "duration": 4,
        "start_time": "2022-12-03T13:27:29.556Z"
      },
      {
        "duration": 178,
        "start_time": "2022-12-03T13:27:29.562Z"
      },
      {
        "duration": 26,
        "start_time": "2022-12-03T13:27:29.745Z"
      },
      {
        "duration": 23,
        "start_time": "2022-12-03T13:27:29.773Z"
      },
      {
        "duration": 23,
        "start_time": "2022-12-03T13:27:29.798Z"
      },
      {
        "duration": 96,
        "start_time": "2022-12-03T13:27:29.823Z"
      },
      {
        "duration": 209,
        "start_time": "2022-12-03T13:27:29.921Z"
      },
      {
        "duration": 90,
        "start_time": "2022-12-03T13:27:30.132Z"
      },
      {
        "duration": 54,
        "start_time": "2022-12-03T13:27:30.224Z"
      },
      {
        "duration": 41,
        "start_time": "2022-12-03T13:27:30.280Z"
      },
      {
        "duration": 225,
        "start_time": "2022-12-03T13:27:30.337Z"
      },
      {
        "duration": 176,
        "start_time": "2022-12-03T13:27:30.565Z"
      },
      {
        "duration": 437,
        "start_time": "2022-12-03T13:27:30.747Z"
      },
      {
        "duration": 26,
        "start_time": "2022-12-03T13:27:31.187Z"
      },
      {
        "duration": 60,
        "start_time": "2022-12-03T13:27:31.215Z"
      },
      {
        "duration": 51,
        "start_time": "2022-12-03T13:27:31.277Z"
      },
      {
        "duration": 803,
        "start_time": "2022-12-03T13:27:31.330Z"
      },
      {
        "duration": 22,
        "start_time": "2022-12-03T13:27:32.135Z"
      },
      {
        "duration": 32,
        "start_time": "2022-12-03T13:27:32.159Z"
      },
      {
        "duration": 210,
        "start_time": "2022-12-03T13:27:32.193Z"
      },
      {
        "duration": 263,
        "start_time": "2022-12-03T13:27:32.406Z"
      },
      {
        "duration": 381,
        "start_time": "2022-12-03T13:27:32.671Z"
      },
      {
        "duration": 231,
        "start_time": "2022-12-03T13:27:33.056Z"
      },
      {
        "duration": 93,
        "start_time": "2022-12-03T13:28:02.121Z"
      },
      {
        "duration": 142,
        "start_time": "2022-12-03T13:29:14.350Z"
      },
      {
        "duration": 247,
        "start_time": "2022-12-03T13:31:54.713Z"
      },
      {
        "duration": 1568,
        "start_time": "2022-12-05T07:32:39.064Z"
      },
      {
        "duration": 3,
        "start_time": "2022-12-05T07:32:40.634Z"
      },
      {
        "duration": 830,
        "start_time": "2022-12-05T07:32:40.639Z"
      },
      {
        "duration": 23,
        "start_time": "2022-12-05T07:32:41.471Z"
      },
      {
        "duration": 19,
        "start_time": "2022-12-05T07:32:41.497Z"
      },
      {
        "duration": 37,
        "start_time": "2022-12-05T07:32:41.517Z"
      },
      {
        "duration": 95,
        "start_time": "2022-12-05T07:32:41.556Z"
      },
      {
        "duration": 149,
        "start_time": "2022-12-05T07:32:41.653Z"
      },
      {
        "duration": 98,
        "start_time": "2022-12-05T07:32:41.804Z"
      },
      {
        "duration": 50,
        "start_time": "2022-12-05T07:32:41.904Z"
      },
      {
        "duration": 56,
        "start_time": "2022-12-05T07:32:41.956Z"
      },
      {
        "duration": 221,
        "start_time": "2022-12-05T07:32:42.015Z"
      },
      {
        "duration": 193,
        "start_time": "2022-12-05T07:32:42.238Z"
      },
      {
        "duration": 423,
        "start_time": "2022-12-05T07:32:42.433Z"
      },
      {
        "duration": 23,
        "start_time": "2022-12-05T07:32:42.858Z"
      },
      {
        "duration": 67,
        "start_time": "2022-12-05T07:32:42.883Z"
      },
      {
        "duration": 60,
        "start_time": "2022-12-05T07:32:42.952Z"
      },
      {
        "duration": 825,
        "start_time": "2022-12-05T07:32:43.014Z"
      },
      {
        "duration": 19,
        "start_time": "2022-12-05T07:32:43.841Z"
      },
      {
        "duration": 38,
        "start_time": "2022-12-05T07:32:43.861Z"
      },
      {
        "duration": 205,
        "start_time": "2022-12-05T07:32:43.902Z"
      },
      {
        "duration": 204,
        "start_time": "2022-12-05T07:32:44.109Z"
      },
      {
        "duration": 305,
        "start_time": "2022-12-05T07:32:44.315Z"
      },
      {
        "duration": 307,
        "start_time": "2022-12-05T07:32:44.622Z"
      },
      {
        "duration": 177,
        "start_time": "2022-12-05T07:35:01.261Z"
      },
      {
        "duration": 218,
        "start_time": "2022-12-05T07:35:59.500Z"
      },
      {
        "duration": 34,
        "start_time": "2022-12-05T07:37:34.205Z"
      },
      {
        "duration": 11,
        "start_time": "2022-12-05T07:42:23.099Z"
      },
      {
        "duration": 139,
        "start_time": "2022-12-05T07:50:20.320Z"
      },
      {
        "duration": 100,
        "start_time": "2022-12-05T07:50:56.311Z"
      },
      {
        "duration": 102,
        "start_time": "2022-12-05T07:54:05.813Z"
      },
      {
        "duration": 94,
        "start_time": "2022-12-05T07:55:41.277Z"
      },
      {
        "duration": 16,
        "start_time": "2022-12-05T07:58:11.253Z"
      },
      {
        "duration": 167,
        "start_time": "2022-12-05T07:58:18.619Z"
      },
      {
        "duration": 1293,
        "start_time": "2022-12-05T08:00:43.243Z"
      },
      {
        "duration": 3,
        "start_time": "2022-12-05T08:00:44.539Z"
      },
      {
        "duration": 177,
        "start_time": "2022-12-05T08:00:44.544Z"
      },
      {
        "duration": 30,
        "start_time": "2022-12-05T08:00:44.724Z"
      },
      {
        "duration": 19,
        "start_time": "2022-12-05T08:00:44.756Z"
      },
      {
        "duration": 34,
        "start_time": "2022-12-05T08:00:44.778Z"
      },
      {
        "duration": 150,
        "start_time": "2022-12-05T08:00:44.814Z"
      },
      {
        "duration": 206,
        "start_time": "2022-12-05T08:00:44.966Z"
      },
      {
        "duration": 99,
        "start_time": "2022-12-05T08:00:45.174Z"
      },
      {
        "duration": 44,
        "start_time": "2022-12-05T08:00:45.277Z"
      },
      {
        "duration": 70,
        "start_time": "2022-12-05T08:00:45.323Z"
      },
      {
        "duration": 214,
        "start_time": "2022-12-05T08:00:45.394Z"
      },
      {
        "duration": 271,
        "start_time": "2022-12-05T08:00:45.610Z"
      },
      {
        "duration": 538,
        "start_time": "2022-12-05T08:00:45.884Z"
      },
      {
        "duration": 33,
        "start_time": "2022-12-05T08:00:46.424Z"
      },
      {
        "duration": 42,
        "start_time": "2022-12-05T08:00:46.459Z"
      },
      {
        "duration": 54,
        "start_time": "2022-12-05T08:00:46.503Z"
      },
      {
        "duration": 889,
        "start_time": "2022-12-05T08:00:46.559Z"
      },
      {
        "duration": 19,
        "start_time": "2022-12-05T08:00:47.451Z"
      },
      {
        "duration": 29,
        "start_time": "2022-12-05T08:00:47.472Z"
      },
      {
        "duration": 233,
        "start_time": "2022-12-05T08:00:47.503Z"
      },
      {
        "duration": 212,
        "start_time": "2022-12-05T08:00:47.739Z"
      },
      {
        "duration": 331,
        "start_time": "2022-12-05T08:00:47.953Z"
      },
      {
        "duration": 271,
        "start_time": "2022-12-05T08:00:48.287Z"
      },
      {
        "duration": 97,
        "start_time": "2022-12-05T08:00:48.560Z"
      },
      {
        "duration": 8,
        "start_time": "2022-12-05T08:00:48.660Z"
      },
      {
        "duration": 186,
        "start_time": "2022-12-05T08:00:48.670Z"
      },
      {
        "duration": 115,
        "start_time": "2022-12-05T08:00:48.860Z"
      },
      {
        "duration": 122,
        "start_time": "2022-12-05T08:00:48.977Z"
      },
      {
        "duration": 195,
        "start_time": "2022-12-05T08:00:49.102Z"
      },
      {
        "duration": 1332,
        "start_time": "2022-12-05T11:10:12.250Z"
      },
      {
        "duration": 3,
        "start_time": "2022-12-05T11:10:13.583Z"
      },
      {
        "duration": 279,
        "start_time": "2022-12-05T11:10:13.588Z"
      },
      {
        "duration": 21,
        "start_time": "2022-12-05T11:10:13.869Z"
      },
      {
        "duration": 18,
        "start_time": "2022-12-05T11:10:13.892Z"
      },
      {
        "duration": 20,
        "start_time": "2022-12-05T11:10:13.911Z"
      },
      {
        "duration": 95,
        "start_time": "2022-12-05T11:10:13.932Z"
      },
      {
        "duration": 143,
        "start_time": "2022-12-05T11:10:14.028Z"
      },
      {
        "duration": 74,
        "start_time": "2022-12-05T11:10:14.172Z"
      },
      {
        "duration": 40,
        "start_time": "2022-12-05T11:10:14.249Z"
      },
      {
        "duration": 38,
        "start_time": "2022-12-05T11:10:14.291Z"
      },
      {
        "duration": 194,
        "start_time": "2022-12-05T11:10:14.330Z"
      },
      {
        "duration": 167,
        "start_time": "2022-12-05T11:10:14.526Z"
      },
      {
        "duration": 448,
        "start_time": "2022-12-05T11:10:14.695Z"
      },
      {
        "duration": 18,
        "start_time": "2022-12-05T11:10:15.145Z"
      },
      {
        "duration": 45,
        "start_time": "2022-12-05T11:10:15.165Z"
      },
      {
        "duration": 28,
        "start_time": "2022-12-05T11:10:15.212Z"
      },
      {
        "duration": 747,
        "start_time": "2022-12-05T11:10:15.242Z"
      },
      {
        "duration": 14,
        "start_time": "2022-12-05T11:10:15.991Z"
      },
      {
        "duration": 25,
        "start_time": "2022-12-05T11:10:16.006Z"
      },
      {
        "duration": 186,
        "start_time": "2022-12-05T11:10:16.032Z"
      },
      {
        "duration": 171,
        "start_time": "2022-12-05T11:10:16.219Z"
      },
      {
        "duration": 266,
        "start_time": "2022-12-05T11:10:16.392Z"
      },
      {
        "duration": 249,
        "start_time": "2022-12-05T11:10:16.660Z"
      },
      {
        "duration": 32,
        "start_time": "2022-12-05T11:10:16.912Z"
      },
      {
        "duration": 30,
        "start_time": "2022-12-05T11:10:16.946Z"
      },
      {
        "duration": 125,
        "start_time": "2022-12-05T11:10:16.978Z"
      },
      {
        "duration": 96,
        "start_time": "2022-12-05T11:10:17.107Z"
      },
      {
        "duration": 91,
        "start_time": "2022-12-05T11:10:17.205Z"
      },
      {
        "duration": 128,
        "start_time": "2022-12-05T11:10:17.297Z"
      },
      {
        "duration": 371,
        "start_time": "2022-12-05T11:25:34.191Z"
      },
      {
        "duration": 415,
        "start_time": "2022-12-05T11:25:42.025Z"
      },
      {
        "duration": 362,
        "start_time": "2022-12-05T11:26:07.194Z"
      },
      {
        "duration": 344,
        "start_time": "2022-12-05T11:26:37.852Z"
      },
      {
        "duration": 3,
        "start_time": "2022-12-05T11:28:47.160Z"
      },
      {
        "duration": 17,
        "start_time": "2022-12-05T11:28:47.171Z"
      },
      {
        "duration": 187,
        "start_time": "2022-12-05T11:28:47.189Z"
      },
      {
        "duration": 17,
        "start_time": "2022-12-05T11:28:47.378Z"
      },
      {
        "duration": 24,
        "start_time": "2022-12-05T11:28:47.397Z"
      },
      {
        "duration": 17,
        "start_time": "2022-12-05T11:28:47.423Z"
      },
      {
        "duration": 62,
        "start_time": "2022-12-05T11:28:47.442Z"
      },
      {
        "duration": 131,
        "start_time": "2022-12-05T11:28:47.505Z"
      },
      {
        "duration": 76,
        "start_time": "2022-12-05T11:28:47.637Z"
      },
      {
        "duration": 28,
        "start_time": "2022-12-05T11:28:47.715Z"
      },
      {
        "duration": 57,
        "start_time": "2022-12-05T11:28:47.746Z"
      },
      {
        "duration": 180,
        "start_time": "2022-12-05T11:28:47.805Z"
      },
      {
        "duration": 299,
        "start_time": "2022-12-05T11:28:47.987Z"
      },
      {
        "duration": 834,
        "start_time": "2022-12-05T11:28:48.288Z"
      },
      {
        "duration": 25,
        "start_time": "2022-12-05T11:28:49.176Z"
      },
      {
        "duration": 90,
        "start_time": "2022-12-05T11:28:49.203Z"
      },
      {
        "duration": 84,
        "start_time": "2022-12-05T11:28:49.296Z"
      },
      {
        "duration": 1206,
        "start_time": "2022-12-05T11:28:49.382Z"
      },
      {
        "duration": 13,
        "start_time": "2022-12-05T11:28:50.589Z"
      },
      {
        "duration": 82,
        "start_time": "2022-12-05T11:28:50.604Z"
      },
      {
        "duration": 327,
        "start_time": "2022-12-05T11:28:50.688Z"
      },
      {
        "duration": 306,
        "start_time": "2022-12-05T11:28:51.016Z"
      },
      {
        "duration": 390,
        "start_time": "2022-12-05T11:28:51.324Z"
      },
      {
        "duration": 86,
        "start_time": "2022-12-05T11:28:51.715Z"
      },
      {
        "duration": 31,
        "start_time": "2022-12-05T11:28:51.802Z"
      },
      {
        "duration": 6,
        "start_time": "2022-12-05T11:28:51.834Z"
      },
      {
        "duration": 104,
        "start_time": "2022-12-05T11:28:51.841Z"
      },
      {
        "duration": 88,
        "start_time": "2022-12-05T11:28:51.949Z"
      },
      {
        "duration": 95,
        "start_time": "2022-12-05T11:28:52.041Z"
      },
      {
        "duration": 142,
        "start_time": "2022-12-05T11:28:52.137Z"
      },
      {
        "duration": 325,
        "start_time": "2022-12-05T11:31:22.006Z"
      },
      {
        "duration": 3,
        "start_time": "2022-12-05T11:31:34.038Z"
      },
      {
        "duration": 22,
        "start_time": "2022-12-05T11:31:34.049Z"
      },
      {
        "duration": 160,
        "start_time": "2022-12-05T11:31:34.073Z"
      },
      {
        "duration": 18,
        "start_time": "2022-12-05T11:31:34.235Z"
      },
      {
        "duration": 21,
        "start_time": "2022-12-05T11:31:34.254Z"
      },
      {
        "duration": 26,
        "start_time": "2022-12-05T11:31:34.277Z"
      },
      {
        "duration": 55,
        "start_time": "2022-12-05T11:31:34.304Z"
      },
      {
        "duration": 116,
        "start_time": "2022-12-05T11:31:34.361Z"
      },
      {
        "duration": 57,
        "start_time": "2022-12-05T11:31:34.478Z"
      },
      {
        "duration": 46,
        "start_time": "2022-12-05T11:31:34.537Z"
      },
      {
        "duration": 37,
        "start_time": "2022-12-05T11:31:34.586Z"
      },
      {
        "duration": 183,
        "start_time": "2022-12-05T11:31:34.624Z"
      },
      {
        "duration": 398,
        "start_time": "2022-12-05T11:31:34.809Z"
      },
      {
        "duration": 780,
        "start_time": "2022-12-05T11:31:35.209Z"
      },
      {
        "duration": 20,
        "start_time": "2022-12-05T11:31:35.992Z"
      },
      {
        "duration": 91,
        "start_time": "2022-12-05T11:31:36.013Z"
      },
      {
        "duration": 78,
        "start_time": "2022-12-05T11:31:36.105Z"
      },
      {
        "duration": 892,
        "start_time": "2022-12-05T11:31:36.184Z"
      },
      {
        "duration": 12,
        "start_time": "2022-12-05T11:31:37.077Z"
      },
      {
        "duration": 23,
        "start_time": "2022-12-05T11:31:37.091Z"
      },
      {
        "duration": 171,
        "start_time": "2022-12-05T11:31:37.115Z"
      },
      {
        "duration": 157,
        "start_time": "2022-12-05T11:31:37.288Z"
      },
      {
        "duration": 274,
        "start_time": "2022-12-05T11:31:37.447Z"
      },
      {
        "duration": 95,
        "start_time": "2022-12-05T11:31:37.722Z"
      },
      {
        "duration": 30,
        "start_time": "2022-12-05T11:31:37.818Z"
      },
      {
        "duration": 6,
        "start_time": "2022-12-05T11:31:37.850Z"
      },
      {
        "duration": 110,
        "start_time": "2022-12-05T11:31:37.857Z"
      },
      {
        "duration": 112,
        "start_time": "2022-12-05T11:31:37.969Z"
      },
      {
        "duration": 107,
        "start_time": "2022-12-05T11:31:38.084Z"
      },
      {
        "duration": 118,
        "start_time": "2022-12-05T11:31:38.193Z"
      },
      {
        "duration": 50,
        "start_time": "2022-12-06T10:28:26.668Z"
      },
      {
        "duration": 1276,
        "start_time": "2022-12-06T10:28:32.820Z"
      },
      {
        "duration": 4,
        "start_time": "2022-12-06T10:28:34.100Z"
      },
      {
        "duration": 332,
        "start_time": "2022-12-06T10:28:34.107Z"
      },
      {
        "duration": 25,
        "start_time": "2022-12-06T10:28:34.441Z"
      },
      {
        "duration": 34,
        "start_time": "2022-12-06T10:28:34.468Z"
      },
      {
        "duration": 31,
        "start_time": "2022-12-06T10:28:34.504Z"
      },
      {
        "duration": 199,
        "start_time": "2022-12-06T10:28:34.537Z"
      },
      {
        "duration": 158,
        "start_time": "2022-12-06T10:28:34.738Z"
      },
      {
        "duration": 117,
        "start_time": "2022-12-06T10:28:34.898Z"
      },
      {
        "duration": 42,
        "start_time": "2022-12-06T10:28:35.018Z"
      },
      {
        "duration": 81,
        "start_time": "2022-12-06T10:28:35.062Z"
      },
      {
        "duration": 271,
        "start_time": "2022-12-06T10:28:35.145Z"
      },
      {
        "duration": 226,
        "start_time": "2022-12-06T10:28:35.418Z"
      },
      {
        "duration": 398,
        "start_time": "2022-12-06T10:28:35.646Z"
      },
      {
        "duration": 31,
        "start_time": "2022-12-06T10:28:36.046Z"
      },
      {
        "duration": 57,
        "start_time": "2022-12-06T10:28:36.079Z"
      },
      {
        "duration": 46,
        "start_time": "2022-12-06T10:28:36.138Z"
      },
      {
        "duration": 865,
        "start_time": "2022-12-06T10:28:36.187Z"
      },
      {
        "duration": 23,
        "start_time": "2022-12-06T10:28:37.053Z"
      },
      {
        "duration": 30,
        "start_time": "2022-12-06T10:28:37.078Z"
      },
      {
        "duration": 224,
        "start_time": "2022-12-06T10:28:37.110Z"
      },
      {
        "duration": 229,
        "start_time": "2022-12-06T10:28:37.336Z"
      },
      {
        "duration": 353,
        "start_time": "2022-12-06T10:28:37.567Z"
      },
      {
        "duration": 271,
        "start_time": "2022-12-06T10:28:37.921Z"
      },
      {
        "duration": 87,
        "start_time": "2022-12-06T10:28:38.195Z"
      },
      {
        "duration": 45,
        "start_time": "2022-12-06T10:28:38.284Z"
      },
      {
        "duration": 145,
        "start_time": "2022-12-06T10:28:38.331Z"
      },
      {
        "duration": 113,
        "start_time": "2022-12-06T10:28:38.483Z"
      },
      {
        "duration": 99,
        "start_time": "2022-12-06T10:28:38.598Z"
      },
      {
        "duration": 142,
        "start_time": "2022-12-06T10:28:38.699Z"
      },
      {
        "duration": 25,
        "start_time": "2022-12-06T10:30:54.285Z"
      },
      {
        "duration": 33,
        "start_time": "2022-12-06T10:34:01.649Z"
      },
      {
        "duration": 135,
        "start_time": "2022-12-06T10:34:17.811Z"
      },
      {
        "duration": 12,
        "start_time": "2022-12-06T10:34:22.474Z"
      },
      {
        "duration": 13,
        "start_time": "2022-12-06T10:34:28.493Z"
      },
      {
        "duration": 87,
        "start_time": "2022-12-06T10:34:30.871Z"
      },
      {
        "duration": 1075,
        "start_time": "2022-12-06T10:36:03.107Z"
      },
      {
        "duration": 4,
        "start_time": "2022-12-06T10:36:04.184Z"
      },
      {
        "duration": 168,
        "start_time": "2022-12-06T10:36:04.189Z"
      },
      {
        "duration": 26,
        "start_time": "2022-12-06T10:36:04.359Z"
      },
      {
        "duration": 16,
        "start_time": "2022-12-06T10:36:04.386Z"
      },
      {
        "duration": 19,
        "start_time": "2022-12-06T10:36:04.404Z"
      },
      {
        "duration": 95,
        "start_time": "2022-12-06T10:36:04.425Z"
      },
      {
        "duration": 135,
        "start_time": "2022-12-06T10:36:04.522Z"
      },
      {
        "duration": 74,
        "start_time": "2022-12-06T10:36:04.658Z"
      },
      {
        "duration": 48,
        "start_time": "2022-12-06T10:36:04.735Z"
      },
      {
        "duration": 38,
        "start_time": "2022-12-06T10:36:04.785Z"
      },
      {
        "duration": 25,
        "start_time": "2022-12-06T10:36:04.825Z"
      },
      {
        "duration": 203,
        "start_time": "2022-12-06T10:36:04.851Z"
      },
      {
        "duration": 208,
        "start_time": "2022-12-06T10:36:05.056Z"
      },
      {
        "duration": 437,
        "start_time": "2022-12-06T10:36:05.276Z"
      },
      {
        "duration": 21,
        "start_time": "2022-12-06T10:36:05.716Z"
      },
      {
        "duration": 66,
        "start_time": "2022-12-06T10:36:05.738Z"
      },
      {
        "duration": 32,
        "start_time": "2022-12-06T10:36:05.806Z"
      },
      {
        "duration": 753,
        "start_time": "2022-12-06T10:36:05.840Z"
      },
      {
        "duration": 18,
        "start_time": "2022-12-06T10:36:06.595Z"
      },
      {
        "duration": 28,
        "start_time": "2022-12-06T10:36:06.615Z"
      },
      {
        "duration": 234,
        "start_time": "2022-12-06T10:36:06.644Z"
      },
      {
        "duration": 186,
        "start_time": "2022-12-06T10:36:06.879Z"
      },
      {
        "duration": 289,
        "start_time": "2022-12-06T10:36:07.067Z"
      },
      {
        "duration": 248,
        "start_time": "2022-12-06T10:36:07.358Z"
      },
      {
        "duration": 31,
        "start_time": "2022-12-06T10:36:07.608Z"
      },
      {
        "duration": 40,
        "start_time": "2022-12-06T10:36:07.641Z"
      },
      {
        "duration": 140,
        "start_time": "2022-12-06T10:36:07.684Z"
      },
      {
        "duration": 120,
        "start_time": "2022-12-06T10:36:07.825Z"
      },
      {
        "duration": 102,
        "start_time": "2022-12-06T10:36:07.947Z"
      },
      {
        "duration": 132,
        "start_time": "2022-12-06T10:36:08.051Z"
      },
      {
        "duration": 127,
        "start_time": "2022-12-06T10:39:37.003Z"
      },
      {
        "duration": 24,
        "start_time": "2022-12-06T10:39:44.286Z"
      },
      {
        "duration": 10,
        "start_time": "2022-12-06T10:40:29.322Z"
      },
      {
        "duration": 9,
        "start_time": "2022-12-06T10:40:47.852Z"
      },
      {
        "duration": 9,
        "start_time": "2022-12-06T10:40:59.034Z"
      },
      {
        "duration": 17,
        "start_time": "2022-12-06T10:41:06.092Z"
      },
      {
        "duration": 12,
        "start_time": "2022-12-06T10:41:30.365Z"
      },
      {
        "duration": 5,
        "start_time": "2022-12-06T10:43:58.881Z"
      },
      {
        "duration": 94,
        "start_time": "2022-12-06T10:44:32.011Z"
      },
      {
        "duration": 27,
        "start_time": "2022-12-06T10:44:51.410Z"
      },
      {
        "duration": 10,
        "start_time": "2022-12-06T10:45:02.334Z"
      },
      {
        "duration": 11,
        "start_time": "2022-12-06T10:45:38.788Z"
      },
      {
        "duration": 12,
        "start_time": "2022-12-06T10:45:56.312Z"
      },
      {
        "duration": 47,
        "start_time": "2022-12-06T10:47:47.738Z"
      },
      {
        "duration": 17,
        "start_time": "2022-12-06T10:47:54.604Z"
      },
      {
        "duration": 14,
        "start_time": "2022-12-06T10:48:21.613Z"
      },
      {
        "duration": 11,
        "start_time": "2022-12-06T10:48:40.324Z"
      },
      {
        "duration": 14,
        "start_time": "2022-12-06T10:49:19.748Z"
      },
      {
        "duration": 17,
        "start_time": "2022-12-06T10:49:26.712Z"
      },
      {
        "duration": 52,
        "start_time": "2022-12-06T10:50:23.992Z"
      },
      {
        "duration": 1069,
        "start_time": "2022-12-06T10:51:49.593Z"
      },
      {
        "duration": 2,
        "start_time": "2022-12-06T10:51:50.664Z"
      },
      {
        "duration": 165,
        "start_time": "2022-12-06T10:51:50.668Z"
      },
      {
        "duration": 18,
        "start_time": "2022-12-06T10:51:50.835Z"
      },
      {
        "duration": 44,
        "start_time": "2022-12-06T10:51:50.854Z"
      },
      {
        "duration": 25,
        "start_time": "2022-12-06T10:51:50.900Z"
      },
      {
        "duration": 77,
        "start_time": "2022-12-06T10:51:50.926Z"
      },
      {
        "duration": 129,
        "start_time": "2022-12-06T10:51:51.005Z"
      },
      {
        "duration": 80,
        "start_time": "2022-12-06T10:51:51.135Z"
      },
      {
        "duration": 29,
        "start_time": "2022-12-06T10:51:51.219Z"
      },
      {
        "duration": 66,
        "start_time": "2022-12-06T10:51:51.250Z"
      },
      {
        "duration": 59,
        "start_time": "2022-12-06T10:51:51.317Z"
      },
      {
        "duration": 27,
        "start_time": "2022-12-06T10:51:51.378Z"
      },
      {
        "duration": 193,
        "start_time": "2022-12-06T10:51:51.406Z"
      },
      {
        "duration": 165,
        "start_time": "2022-12-06T10:51:51.601Z"
      },
      {
        "duration": 371,
        "start_time": "2022-12-06T10:51:51.767Z"
      },
      {
        "duration": 17,
        "start_time": "2022-12-06T10:51:52.140Z"
      },
      {
        "duration": 60,
        "start_time": "2022-12-06T10:51:52.158Z"
      },
      {
        "duration": 28,
        "start_time": "2022-12-06T10:51:52.220Z"
      },
      {
        "duration": 709,
        "start_time": "2022-12-06T10:51:52.250Z"
      },
      {
        "duration": 21,
        "start_time": "2022-12-06T10:51:52.961Z"
      },
      {
        "duration": 24,
        "start_time": "2022-12-06T10:51:52.983Z"
      },
      {
        "duration": 176,
        "start_time": "2022-12-06T10:51:53.009Z"
      },
      {
        "duration": 163,
        "start_time": "2022-12-06T10:51:53.186Z"
      },
      {
        "duration": 281,
        "start_time": "2022-12-06T10:51:53.350Z"
      },
      {
        "duration": 223,
        "start_time": "2022-12-06T10:51:53.633Z"
      },
      {
        "duration": 30,
        "start_time": "2022-12-06T10:51:53.858Z"
      },
      {
        "duration": 7,
        "start_time": "2022-12-06T10:51:53.891Z"
      },
      {
        "duration": 146,
        "start_time": "2022-12-06T10:51:53.899Z"
      },
      {
        "duration": 133,
        "start_time": "2022-12-06T10:51:54.046Z"
      },
      {
        "duration": 102,
        "start_time": "2022-12-06T10:51:54.181Z"
      },
      {
        "duration": 116,
        "start_time": "2022-12-06T10:51:54.285Z"
      },
      {
        "duration": 39,
        "start_time": "2022-12-06T10:52:15.483Z"
      },
      {
        "duration": 1097,
        "start_time": "2022-12-06T10:52:52.701Z"
      },
      {
        "duration": 3,
        "start_time": "2022-12-06T10:52:53.800Z"
      },
      {
        "duration": 157,
        "start_time": "2022-12-06T10:52:53.805Z"
      },
      {
        "duration": 27,
        "start_time": "2022-12-06T10:52:53.964Z"
      },
      {
        "duration": 20,
        "start_time": "2022-12-06T10:52:53.993Z"
      },
      {
        "duration": 19,
        "start_time": "2022-12-06T10:52:54.015Z"
      },
      {
        "duration": 82,
        "start_time": "2022-12-06T10:52:54.035Z"
      },
      {
        "duration": 122,
        "start_time": "2022-12-06T10:52:54.118Z"
      },
      {
        "duration": 85,
        "start_time": "2022-12-06T10:52:54.242Z"
      },
      {
        "duration": 27,
        "start_time": "2022-12-06T10:52:54.330Z"
      },
      {
        "duration": 52,
        "start_time": "2022-12-06T10:52:54.358Z"
      },
      {
        "duration": 46,
        "start_time": "2022-12-06T10:52:54.411Z"
      },
      {
        "duration": 41,
        "start_time": "2022-12-06T10:52:54.458Z"
      },
      {
        "duration": 182,
        "start_time": "2022-12-06T10:52:54.500Z"
      },
      {
        "duration": 178,
        "start_time": "2022-12-06T10:52:54.684Z"
      },
      {
        "duration": 406,
        "start_time": "2022-12-06T10:52:54.863Z"
      },
      {
        "duration": 27,
        "start_time": "2022-12-06T10:52:55.270Z"
      },
      {
        "duration": 50,
        "start_time": "2022-12-06T10:52:55.298Z"
      },
      {
        "duration": 45,
        "start_time": "2022-12-06T10:52:55.349Z"
      },
      {
        "duration": 692,
        "start_time": "2022-12-06T10:52:55.396Z"
      },
      {
        "duration": 15,
        "start_time": "2022-12-06T10:52:56.090Z"
      },
      {
        "duration": 24,
        "start_time": "2022-12-06T10:52:56.107Z"
      },
      {
        "duration": 186,
        "start_time": "2022-12-06T10:52:56.133Z"
      },
      {
        "duration": 169,
        "start_time": "2022-12-06T10:52:56.321Z"
      },
      {
        "duration": 254,
        "start_time": "2022-12-06T10:52:56.492Z"
      },
      {
        "duration": 216,
        "start_time": "2022-12-06T10:52:56.748Z"
      },
      {
        "duration": 29,
        "start_time": "2022-12-06T10:52:56.965Z"
      },
      {
        "duration": 7,
        "start_time": "2022-12-06T10:52:56.997Z"
      },
      {
        "duration": 144,
        "start_time": "2022-12-06T10:52:57.005Z"
      },
      {
        "duration": 92,
        "start_time": "2022-12-06T10:52:57.150Z"
      },
      {
        "duration": 109,
        "start_time": "2022-12-06T10:52:57.244Z"
      },
      {
        "duration": 124,
        "start_time": "2022-12-06T10:52:57.355Z"
      },
      {
        "duration": 1212,
        "start_time": "2022-12-06T11:06:14.256Z"
      },
      {
        "duration": 8,
        "start_time": "2022-12-06T11:06:15.469Z"
      },
      {
        "duration": 171,
        "start_time": "2022-12-06T11:06:15.478Z"
      },
      {
        "duration": 25,
        "start_time": "2022-12-06T11:06:15.652Z"
      },
      {
        "duration": 15,
        "start_time": "2022-12-06T11:06:15.678Z"
      },
      {
        "duration": 18,
        "start_time": "2022-12-06T11:06:15.695Z"
      },
      {
        "duration": 98,
        "start_time": "2022-12-06T11:06:15.715Z"
      },
      {
        "duration": 132,
        "start_time": "2022-12-06T11:06:15.815Z"
      },
      {
        "duration": 83,
        "start_time": "2022-12-06T11:06:15.949Z"
      },
      {
        "duration": 28,
        "start_time": "2022-12-06T11:06:16.034Z"
      },
      {
        "duration": 51,
        "start_time": "2022-12-06T11:06:16.063Z"
      },
      {
        "duration": 64,
        "start_time": "2022-12-06T11:06:16.116Z"
      },
      {
        "duration": 187,
        "start_time": "2022-12-06T11:06:16.182Z"
      },
      {
        "duration": 156,
        "start_time": "2022-12-06T11:06:16.377Z"
      },
      {
        "duration": 367,
        "start_time": "2022-12-06T11:06:16.535Z"
      },
      {
        "duration": 19,
        "start_time": "2022-12-06T11:06:16.904Z"
      },
      {
        "duration": 55,
        "start_time": "2022-12-06T11:06:16.925Z"
      },
      {
        "duration": 28,
        "start_time": "2022-12-06T11:06:16.982Z"
      },
      {
        "duration": 758,
        "start_time": "2022-12-06T11:06:17.011Z"
      },
      {
        "duration": 317,
        "start_time": "2022-12-06T11:06:17.770Z"
      },
      {
        "duration": 134,
        "start_time": "2022-12-06T11:06:18.089Z"
      },
      {
        "duration": 0,
        "start_time": "2022-12-06T11:06:18.225Z"
      },
      {
        "duration": 0,
        "start_time": "2022-12-06T11:06:18.225Z"
      },
      {
        "duration": 0,
        "start_time": "2022-12-06T11:06:18.226Z"
      },
      {
        "duration": 0,
        "start_time": "2022-12-06T11:06:18.228Z"
      },
      {
        "duration": 0,
        "start_time": "2022-12-06T11:06:18.228Z"
      },
      {
        "duration": 0,
        "start_time": "2022-12-06T11:06:18.230Z"
      },
      {
        "duration": 0,
        "start_time": "2022-12-06T11:06:18.230Z"
      },
      {
        "duration": 0,
        "start_time": "2022-12-06T11:06:18.231Z"
      },
      {
        "duration": 0,
        "start_time": "2022-12-06T11:06:18.232Z"
      },
      {
        "duration": 0,
        "start_time": "2022-12-06T11:06:18.233Z"
      },
      {
        "duration": 0,
        "start_time": "2022-12-06T11:06:18.234Z"
      },
      {
        "duration": 15,
        "start_time": "2022-12-06T11:08:56.829Z"
      },
      {
        "duration": 327,
        "start_time": "2022-12-06T11:10:24.178Z"
      },
      {
        "duration": 306,
        "start_time": "2022-12-06T11:11:11.537Z"
      },
      {
        "duration": 483,
        "start_time": "2022-12-06T11:16:53.920Z"
      },
      {
        "duration": 680,
        "start_time": "2022-12-06T11:17:07.971Z"
      },
      {
        "duration": 1152,
        "start_time": "2022-12-06T11:20:16.181Z"
      },
      {
        "duration": 3,
        "start_time": "2022-12-06T11:20:17.335Z"
      },
      {
        "duration": 173,
        "start_time": "2022-12-06T11:20:17.339Z"
      },
      {
        "duration": 27,
        "start_time": "2022-12-06T11:20:17.514Z"
      },
      {
        "duration": 29,
        "start_time": "2022-12-06T11:20:17.542Z"
      },
      {
        "duration": 20,
        "start_time": "2022-12-06T11:20:17.572Z"
      },
      {
        "duration": 82,
        "start_time": "2022-12-06T11:20:17.594Z"
      },
      {
        "duration": 129,
        "start_time": "2022-12-06T11:20:17.678Z"
      },
      {
        "duration": 80,
        "start_time": "2022-12-06T11:20:17.809Z"
      },
      {
        "duration": 28,
        "start_time": "2022-12-06T11:20:17.891Z"
      },
      {
        "duration": 57,
        "start_time": "2022-12-06T11:20:17.922Z"
      },
      {
        "duration": 47,
        "start_time": "2022-12-06T11:20:17.980Z"
      },
      {
        "duration": 181,
        "start_time": "2022-12-06T11:20:18.029Z"
      },
      {
        "duration": 155,
        "start_time": "2022-12-06T11:20:18.212Z"
      },
      {
        "duration": 343,
        "start_time": "2022-12-06T11:20:18.376Z"
      },
      {
        "duration": 18,
        "start_time": "2022-12-06T11:20:18.720Z"
      },
      {
        "duration": 50,
        "start_time": "2022-12-06T11:20:18.740Z"
      },
      {
        "duration": 25,
        "start_time": "2022-12-06T11:20:18.792Z"
      },
      {
        "duration": 717,
        "start_time": "2022-12-06T11:20:18.818Z"
      },
      {
        "duration": 17,
        "start_time": "2022-12-06T11:20:19.537Z"
      },
      {
        "duration": 534,
        "start_time": "2022-12-06T11:20:19.556Z"
      },
      {
        "duration": 33,
        "start_time": "2022-12-06T11:20:20.092Z"
      },
      {
        "duration": 173,
        "start_time": "2022-12-06T11:20:20.126Z"
      },
      {
        "duration": 157,
        "start_time": "2022-12-06T11:20:20.301Z"
      },
      {
        "duration": 258,
        "start_time": "2022-12-06T11:20:20.459Z"
      },
      {
        "duration": 220,
        "start_time": "2022-12-06T11:20:20.719Z"
      },
      {
        "duration": 58,
        "start_time": "2022-12-06T11:20:20.941Z"
      },
      {
        "duration": 9,
        "start_time": "2022-12-06T11:20:21.003Z"
      },
      {
        "duration": 139,
        "start_time": "2022-12-06T11:20:21.014Z"
      },
      {
        "duration": 98,
        "start_time": "2022-12-06T11:20:21.154Z"
      },
      {
        "duration": 95,
        "start_time": "2022-12-06T11:20:21.254Z"
      },
      {
        "duration": 153,
        "start_time": "2022-12-06T11:20:21.351Z"
      },
      {
        "duration": 1266,
        "start_time": "2022-12-06T11:22:11.052Z"
      },
      {
        "duration": 3,
        "start_time": "2022-12-06T11:22:12.321Z"
      },
      {
        "duration": 214,
        "start_time": "2022-12-06T11:22:12.326Z"
      },
      {
        "duration": 22,
        "start_time": "2022-12-06T11:22:12.541Z"
      },
      {
        "duration": 19,
        "start_time": "2022-12-06T11:22:12.575Z"
      },
      {
        "duration": 23,
        "start_time": "2022-12-06T11:22:12.596Z"
      },
      {
        "duration": 96,
        "start_time": "2022-12-06T11:22:12.621Z"
      },
      {
        "duration": 151,
        "start_time": "2022-12-06T11:22:12.720Z"
      },
      {
        "duration": 80,
        "start_time": "2022-12-06T11:22:12.875Z"
      },
      {
        "duration": 44,
        "start_time": "2022-12-06T11:22:12.957Z"
      },
      {
        "duration": 41,
        "start_time": "2022-12-06T11:22:13.002Z"
      },
      {
        "duration": 71,
        "start_time": "2022-12-06T11:22:13.044Z"
      },
      {
        "duration": 202,
        "start_time": "2022-12-06T11:22:13.119Z"
      },
      {
        "duration": 198,
        "start_time": "2022-12-06T11:22:13.325Z"
      },
      {
        "duration": 458,
        "start_time": "2022-12-06T11:22:13.525Z"
      },
      {
        "duration": 22,
        "start_time": "2022-12-06T11:22:13.985Z"
      },
      {
        "duration": 42,
        "start_time": "2022-12-06T11:22:14.012Z"
      },
      {
        "duration": 45,
        "start_time": "2022-12-06T11:22:14.056Z"
      },
      {
        "duration": 806,
        "start_time": "2022-12-06T11:22:14.103Z"
      },
      {
        "duration": 17,
        "start_time": "2022-12-06T11:22:14.911Z"
      },
      {
        "duration": 696,
        "start_time": "2022-12-06T11:22:14.929Z"
      },
      {
        "duration": 26,
        "start_time": "2022-12-06T11:22:15.627Z"
      },
      {
        "duration": 176,
        "start_time": "2022-12-06T11:22:15.654Z"
      },
      {
        "duration": 178,
        "start_time": "2022-12-06T11:22:15.832Z"
      },
      {
        "duration": 274,
        "start_time": "2022-12-06T11:22:16.012Z"
      },
      {
        "duration": 231,
        "start_time": "2022-12-06T11:22:16.287Z"
      },
      {
        "duration": 58,
        "start_time": "2022-12-06T11:22:16.520Z"
      },
      {
        "duration": 9,
        "start_time": "2022-12-06T11:22:16.580Z"
      },
      {
        "duration": 143,
        "start_time": "2022-12-06T11:22:16.591Z"
      },
      {
        "duration": 106,
        "start_time": "2022-12-06T11:22:16.736Z"
      },
      {
        "duration": 97,
        "start_time": "2022-12-06T11:22:16.844Z"
      },
      {
        "duration": 152,
        "start_time": "2022-12-06T11:22:16.943Z"
      },
      {
        "duration": 1208,
        "start_time": "2022-12-06T11:23:05.498Z"
      },
      {
        "duration": 4,
        "start_time": "2022-12-06T11:23:06.708Z"
      },
      {
        "duration": 198,
        "start_time": "2022-12-06T11:23:06.713Z"
      },
      {
        "duration": 23,
        "start_time": "2022-12-06T11:23:06.913Z"
      },
      {
        "duration": 39,
        "start_time": "2022-12-06T11:23:06.940Z"
      },
      {
        "duration": 24,
        "start_time": "2022-12-06T11:23:06.980Z"
      },
      {
        "duration": 96,
        "start_time": "2022-12-06T11:23:07.006Z"
      },
      {
        "duration": 138,
        "start_time": "2022-12-06T11:23:07.104Z"
      },
      {
        "duration": 88,
        "start_time": "2022-12-06T11:23:07.244Z"
      },
      {
        "duration": 44,
        "start_time": "2022-12-06T11:23:07.333Z"
      },
      {
        "duration": 50,
        "start_time": "2022-12-06T11:23:07.379Z"
      },
      {
        "duration": 65,
        "start_time": "2022-12-06T11:23:07.431Z"
      },
      {
        "duration": 196,
        "start_time": "2022-12-06T11:23:07.498Z"
      },
      {
        "duration": 166,
        "start_time": "2022-12-06T11:23:07.697Z"
      },
      {
        "duration": 354,
        "start_time": "2022-12-06T11:23:07.864Z"
      },
      {
        "duration": 20,
        "start_time": "2022-12-06T11:23:08.221Z"
      },
      {
        "duration": 55,
        "start_time": "2022-12-06T11:23:08.242Z"
      },
      {
        "duration": 27,
        "start_time": "2022-12-06T11:23:08.299Z"
      },
      {
        "duration": 732,
        "start_time": "2022-12-06T11:23:08.328Z"
      },
      {
        "duration": 24,
        "start_time": "2022-12-06T11:23:09.062Z"
      },
      {
        "duration": 668,
        "start_time": "2022-12-06T11:23:09.088Z"
      },
      {
        "duration": 35,
        "start_time": "2022-12-06T11:23:09.758Z"
      },
      {
        "duration": 190,
        "start_time": "2022-12-06T11:23:09.795Z"
      },
      {
        "duration": 205,
        "start_time": "2022-12-06T11:23:09.986Z"
      },
      {
        "duration": 268,
        "start_time": "2022-12-06T11:23:10.193Z"
      },
      {
        "duration": 228,
        "start_time": "2022-12-06T11:23:10.462Z"
      },
      {
        "duration": 85,
        "start_time": "2022-12-06T11:23:10.692Z"
      },
      {
        "duration": 9,
        "start_time": "2022-12-06T11:23:10.779Z"
      },
      {
        "duration": 136,
        "start_time": "2022-12-06T11:23:10.790Z"
      },
      {
        "duration": 88,
        "start_time": "2022-12-06T11:23:10.928Z"
      },
      {
        "duration": 94,
        "start_time": "2022-12-06T11:23:11.018Z"
      },
      {
        "duration": 140,
        "start_time": "2022-12-06T11:23:11.114Z"
      },
      {
        "duration": 8,
        "start_time": "2022-12-06T11:30:15.671Z"
      },
      {
        "duration": 72,
        "start_time": "2022-12-06T11:32:21.380Z"
      },
      {
        "duration": 56,
        "start_time": "2022-12-06T11:33:19.942Z"
      },
      {
        "duration": 55,
        "start_time": "2022-12-06T11:33:33.696Z"
      },
      {
        "duration": 75,
        "start_time": "2022-12-06T11:33:37.566Z"
      },
      {
        "duration": 83,
        "start_time": "2022-12-06T11:34:08.567Z"
      },
      {
        "duration": 67,
        "start_time": "2022-12-06T11:34:44.458Z"
      },
      {
        "duration": 55,
        "start_time": "2022-12-06T11:37:30.499Z"
      },
      {
        "duration": 10,
        "start_time": "2022-12-06T11:40:14.888Z"
      },
      {
        "duration": 10,
        "start_time": "2022-12-06T11:40:24.735Z"
      },
      {
        "duration": 4,
        "start_time": "2022-12-06T11:43:51.148Z"
      },
      {
        "duration": 8,
        "start_time": "2022-12-06T11:44:05.343Z"
      },
      {
        "duration": 55,
        "start_time": "2022-12-06T11:49:56.500Z"
      },
      {
        "duration": 8,
        "start_time": "2022-12-06T11:51:58.153Z"
      },
      {
        "duration": 104,
        "start_time": "2022-12-06T11:53:04.976Z"
      },
      {
        "duration": 9,
        "start_time": "2022-12-06T11:54:34.329Z"
      },
      {
        "duration": 11,
        "start_time": "2022-12-06T11:55:45.278Z"
      },
      {
        "duration": 1078,
        "start_time": "2022-12-06T11:55:57.605Z"
      },
      {
        "duration": 2,
        "start_time": "2022-12-06T11:55:58.685Z"
      },
      {
        "duration": 173,
        "start_time": "2022-12-06T11:55:58.689Z"
      },
      {
        "duration": 26,
        "start_time": "2022-12-06T11:55:58.864Z"
      },
      {
        "duration": 17,
        "start_time": "2022-12-06T11:55:58.892Z"
      },
      {
        "duration": 20,
        "start_time": "2022-12-06T11:55:58.911Z"
      },
      {
        "duration": 98,
        "start_time": "2022-12-06T11:55:58.933Z"
      },
      {
        "duration": 132,
        "start_time": "2022-12-06T11:55:59.032Z"
      },
      {
        "duration": 76,
        "start_time": "2022-12-06T11:55:59.166Z"
      },
      {
        "duration": 43,
        "start_time": "2022-12-06T11:55:59.244Z"
      },
      {
        "duration": 37,
        "start_time": "2022-12-06T11:55:59.289Z"
      },
      {
        "duration": 59,
        "start_time": "2022-12-06T11:55:59.328Z"
      },
      {
        "duration": 189,
        "start_time": "2022-12-06T11:55:59.389Z"
      },
      {
        "duration": 151,
        "start_time": "2022-12-06T11:55:59.580Z"
      },
      {
        "duration": 356,
        "start_time": "2022-12-06T11:55:59.733Z"
      },
      {
        "duration": 18,
        "start_time": "2022-12-06T11:56:00.091Z"
      },
      {
        "duration": 52,
        "start_time": "2022-12-06T11:56:00.110Z"
      },
      {
        "duration": 33,
        "start_time": "2022-12-06T11:56:00.164Z"
      },
      {
        "duration": 703,
        "start_time": "2022-12-06T11:56:00.199Z"
      },
      {
        "duration": 16,
        "start_time": "2022-12-06T11:56:00.903Z"
      },
      {
        "duration": 529,
        "start_time": "2022-12-06T11:56:00.921Z"
      },
      {
        "duration": 27,
        "start_time": "2022-12-06T11:56:01.452Z"
      },
      {
        "duration": 174,
        "start_time": "2022-12-06T11:56:01.481Z"
      },
      {
        "duration": 166,
        "start_time": "2022-12-06T11:56:01.656Z"
      },
      {
        "duration": 283,
        "start_time": "2022-12-06T11:56:01.824Z"
      },
      {
        "duration": 226,
        "start_time": "2022-12-06T11:56:02.109Z"
      },
      {
        "duration": 1265,
        "start_time": "2022-12-06T11:56:02.336Z"
      },
      {
        "duration": 0,
        "start_time": "2022-12-06T11:56:03.603Z"
      },
      {
        "duration": 0,
        "start_time": "2022-12-06T11:56:03.604Z"
      },
      {
        "duration": 0,
        "start_time": "2022-12-06T11:56:03.605Z"
      },
      {
        "duration": 0,
        "start_time": "2022-12-06T11:56:03.606Z"
      },
      {
        "duration": 0,
        "start_time": "2022-12-06T11:56:03.607Z"
      },
      {
        "duration": 0,
        "start_time": "2022-12-06T11:56:03.608Z"
      },
      {
        "duration": 0,
        "start_time": "2022-12-06T11:56:03.609Z"
      },
      {
        "duration": 52,
        "start_time": "2022-12-06T11:56:17.833Z"
      },
      {
        "duration": 18,
        "start_time": "2022-12-06T12:01:16.742Z"
      },
      {
        "duration": 47,
        "start_time": "2022-12-06T12:04:04.971Z"
      },
      {
        "duration": 63,
        "start_time": "2022-12-06T12:06:25.204Z"
      },
      {
        "duration": 31,
        "start_time": "2022-12-06T12:12:01.989Z"
      },
      {
        "duration": 7,
        "start_time": "2022-12-06T12:12:06.468Z"
      },
      {
        "duration": 6,
        "start_time": "2022-12-06T12:12:51.713Z"
      },
      {
        "duration": 1144,
        "start_time": "2022-12-06T12:35:25.649Z"
      },
      {
        "duration": 2,
        "start_time": "2022-12-06T12:35:26.795Z"
      },
      {
        "duration": 174,
        "start_time": "2022-12-06T12:35:26.799Z"
      },
      {
        "duration": 21,
        "start_time": "2022-12-06T12:35:26.975Z"
      },
      {
        "duration": 26,
        "start_time": "2022-12-06T12:35:26.998Z"
      },
      {
        "duration": 20,
        "start_time": "2022-12-06T12:35:27.026Z"
      },
      {
        "duration": 86,
        "start_time": "2022-12-06T12:35:27.047Z"
      },
      {
        "duration": 143,
        "start_time": "2022-12-06T12:35:27.135Z"
      },
      {
        "duration": 80,
        "start_time": "2022-12-06T12:35:27.279Z"
      },
      {
        "duration": 42,
        "start_time": "2022-12-06T12:35:27.361Z"
      },
      {
        "duration": 37,
        "start_time": "2022-12-06T12:35:27.404Z"
      },
      {
        "duration": 65,
        "start_time": "2022-12-06T12:35:27.442Z"
      },
      {
        "duration": 194,
        "start_time": "2022-12-06T12:35:27.508Z"
      },
      {
        "duration": 166,
        "start_time": "2022-12-06T12:35:27.704Z"
      },
      {
        "duration": 385,
        "start_time": "2022-12-06T12:35:27.876Z"
      },
      {
        "duration": 28,
        "start_time": "2022-12-06T12:35:28.263Z"
      },
      {
        "duration": 37,
        "start_time": "2022-12-06T12:35:28.292Z"
      },
      {
        "duration": 26,
        "start_time": "2022-12-06T12:35:28.330Z"
      },
      {
        "duration": 713,
        "start_time": "2022-12-06T12:35:28.375Z"
      },
      {
        "duration": 13,
        "start_time": "2022-12-06T12:35:29.090Z"
      },
      {
        "duration": 516,
        "start_time": "2022-12-06T12:35:29.105Z"
      },
      {
        "duration": 24,
        "start_time": "2022-12-06T12:35:29.623Z"
      },
      {
        "duration": 171,
        "start_time": "2022-12-06T12:35:29.648Z"
      },
      {
        "duration": 166,
        "start_time": "2022-12-06T12:35:29.820Z"
      },
      {
        "duration": 263,
        "start_time": "2022-12-06T12:35:29.987Z"
      },
      {
        "duration": 228,
        "start_time": "2022-12-06T12:35:30.251Z"
      },
      {
        "duration": 107,
        "start_time": "2022-12-06T12:35:30.482Z"
      },
      {
        "duration": 29,
        "start_time": "2022-12-06T12:35:30.591Z"
      },
      {
        "duration": 6,
        "start_time": "2022-12-06T12:35:30.621Z"
      },
      {
        "duration": 123,
        "start_time": "2022-12-06T12:35:30.629Z"
      },
      {
        "duration": 97,
        "start_time": "2022-12-06T12:35:30.754Z"
      },
      {
        "duration": 104,
        "start_time": "2022-12-06T12:35:30.853Z"
      },
      {
        "duration": 137,
        "start_time": "2022-12-06T12:35:30.960Z"
      },
      {
        "duration": 1507,
        "start_time": "2022-12-06T18:46:47.412Z"
      },
      {
        "duration": 3,
        "start_time": "2022-12-06T18:46:48.921Z"
      },
      {
        "duration": 893,
        "start_time": "2022-12-06T18:46:48.926Z"
      },
      {
        "duration": 29,
        "start_time": "2022-12-06T18:46:49.822Z"
      },
      {
        "duration": 21,
        "start_time": "2022-12-06T18:46:49.853Z"
      },
      {
        "duration": 24,
        "start_time": "2022-12-06T18:46:49.876Z"
      },
      {
        "duration": 121,
        "start_time": "2022-12-06T18:46:49.902Z"
      },
      {
        "duration": 161,
        "start_time": "2022-12-06T18:46:50.025Z"
      },
      {
        "duration": 99,
        "start_time": "2022-12-06T18:46:50.187Z"
      },
      {
        "duration": 35,
        "start_time": "2022-12-06T18:46:50.289Z"
      },
      {
        "duration": 61,
        "start_time": "2022-12-06T18:46:50.327Z"
      },
      {
        "duration": 68,
        "start_time": "2022-12-06T18:46:50.389Z"
      },
      {
        "duration": 241,
        "start_time": "2022-12-06T18:46:50.458Z"
      },
      {
        "duration": 216,
        "start_time": "2022-12-06T18:46:50.701Z"
      },
      {
        "duration": 473,
        "start_time": "2022-12-06T18:46:50.919Z"
      },
      {
        "duration": 24,
        "start_time": "2022-12-06T18:46:51.395Z"
      },
      {
        "duration": 60,
        "start_time": "2022-12-06T18:46:51.422Z"
      },
      {
        "duration": 42,
        "start_time": "2022-12-06T18:46:51.484Z"
      },
      {
        "duration": 901,
        "start_time": "2022-12-06T18:46:51.528Z"
      },
      {
        "duration": 26,
        "start_time": "2022-12-06T18:46:52.431Z"
      },
      {
        "duration": 721,
        "start_time": "2022-12-06T18:46:52.459Z"
      },
      {
        "duration": 1026,
        "start_time": "2022-12-06T18:46:53.182Z"
      },
      {
        "duration": 121,
        "start_time": "2022-12-06T18:46:54.210Z"
      },
      {
        "duration": 0,
        "start_time": "2022-12-06T18:46:54.332Z"
      },
      {
        "duration": 0,
        "start_time": "2022-12-06T18:46:54.334Z"
      },
      {
        "duration": 0,
        "start_time": "2022-12-06T18:46:54.335Z"
      },
      {
        "duration": 0,
        "start_time": "2022-12-06T18:46:54.350Z"
      },
      {
        "duration": 0,
        "start_time": "2022-12-06T18:46:54.352Z"
      },
      {
        "duration": 0,
        "start_time": "2022-12-06T18:46:54.353Z"
      },
      {
        "duration": 0,
        "start_time": "2022-12-06T18:46:54.354Z"
      },
      {
        "duration": 0,
        "start_time": "2022-12-06T18:46:54.355Z"
      },
      {
        "duration": 0,
        "start_time": "2022-12-06T18:46:54.356Z"
      },
      {
        "duration": 0,
        "start_time": "2022-12-06T18:46:54.357Z"
      },
      {
        "duration": 0,
        "start_time": "2022-12-06T18:46:54.358Z"
      },
      {
        "duration": 0,
        "start_time": "2022-12-06T18:46:54.360Z"
      },
      {
        "duration": 498,
        "start_time": "2022-12-06T18:47:00.420Z"
      },
      {
        "duration": 503,
        "start_time": "2022-12-06T18:47:11.495Z"
      },
      {
        "duration": 611,
        "start_time": "2022-12-06T18:47:22.173Z"
      },
      {
        "duration": 481,
        "start_time": "2022-12-06T18:47:24.795Z"
      },
      {
        "duration": 93,
        "start_time": "2022-12-06T18:47:38.590Z"
      },
      {
        "duration": 4,
        "start_time": "2022-12-06T18:48:35.790Z"
      },
      {
        "duration": 13,
        "start_time": "2022-12-06T18:48:35.796Z"
      },
      {
        "duration": 169,
        "start_time": "2022-12-06T18:48:35.811Z"
      },
      {
        "duration": 20,
        "start_time": "2022-12-06T18:48:35.982Z"
      },
      {
        "duration": 16,
        "start_time": "2022-12-06T18:48:36.005Z"
      },
      {
        "duration": 40,
        "start_time": "2022-12-06T18:48:36.023Z"
      },
      {
        "duration": 63,
        "start_time": "2022-12-06T18:48:36.065Z"
      },
      {
        "duration": 154,
        "start_time": "2022-12-06T18:48:36.130Z"
      },
      {
        "duration": 81,
        "start_time": "2022-12-06T18:48:36.286Z"
      },
      {
        "duration": 34,
        "start_time": "2022-12-06T18:48:36.369Z"
      },
      {
        "duration": 67,
        "start_time": "2022-12-06T18:48:36.405Z"
      },
      {
        "duration": 57,
        "start_time": "2022-12-06T18:48:36.474Z"
      },
      {
        "duration": 219,
        "start_time": "2022-12-06T18:48:36.532Z"
      },
      {
        "duration": 187,
        "start_time": "2022-12-06T18:48:36.753Z"
      },
      {
        "duration": 396,
        "start_time": "2022-12-06T18:48:36.943Z"
      },
      {
        "duration": 21,
        "start_time": "2022-12-06T18:48:37.352Z"
      },
      {
        "duration": 50,
        "start_time": "2022-12-06T18:48:37.374Z"
      },
      {
        "duration": 61,
        "start_time": "2022-12-06T18:48:37.426Z"
      },
      {
        "duration": 628,
        "start_time": "2022-12-06T18:48:37.489Z"
      },
      {
        "duration": 16,
        "start_time": "2022-12-06T18:48:38.119Z"
      },
      {
        "duration": 689,
        "start_time": "2022-12-06T18:48:38.137Z"
      },
      {
        "duration": 34,
        "start_time": "2022-12-06T18:48:38.837Z"
      },
      {
        "duration": 193,
        "start_time": "2022-12-06T18:48:38.873Z"
      },
      {
        "duration": 212,
        "start_time": "2022-12-06T18:48:39.069Z"
      },
      {
        "duration": 320,
        "start_time": "2022-12-06T18:48:39.284Z"
      },
      {
        "duration": 407,
        "start_time": "2022-12-06T18:48:39.607Z"
      },
      {
        "duration": 140,
        "start_time": "2022-12-06T18:48:40.016Z"
      },
      {
        "duration": 49,
        "start_time": "2022-12-06T18:48:40.158Z"
      },
      {
        "duration": 8,
        "start_time": "2022-12-06T18:48:40.209Z"
      },
      {
        "duration": 140,
        "start_time": "2022-12-06T18:48:40.219Z"
      },
      {
        "duration": 123,
        "start_time": "2022-12-06T18:48:40.361Z"
      },
      {
        "duration": 116,
        "start_time": "2022-12-06T18:48:40.486Z"
      },
      {
        "duration": 201,
        "start_time": "2022-12-06T18:48:40.604Z"
      },
      {
        "duration": 1428,
        "start_time": "2022-12-22T15:56:19.125Z"
      },
      {
        "duration": 7,
        "start_time": "2022-12-22T15:56:20.555Z"
      },
      {
        "duration": 559,
        "start_time": "2022-12-22T15:56:20.564Z"
      },
      {
        "duration": 33,
        "start_time": "2022-12-22T15:56:21.126Z"
      },
      {
        "duration": 27,
        "start_time": "2022-12-22T15:56:21.162Z"
      },
      {
        "duration": 45,
        "start_time": "2022-12-22T15:56:21.191Z"
      },
      {
        "duration": 111,
        "start_time": "2022-12-22T15:56:21.238Z"
      },
      {
        "duration": 166,
        "start_time": "2022-12-22T15:56:21.353Z"
      },
      {
        "duration": 103,
        "start_time": "2022-12-22T15:56:21.521Z"
      },
      {
        "duration": 43,
        "start_time": "2022-12-22T15:56:21.628Z"
      },
      {
        "duration": 77,
        "start_time": "2022-12-22T15:56:21.672Z"
      },
      {
        "duration": 69,
        "start_time": "2022-12-22T15:56:21.750Z"
      },
      {
        "duration": 266,
        "start_time": "2022-12-22T15:56:21.821Z"
      },
      {
        "duration": 217,
        "start_time": "2022-12-22T15:56:22.089Z"
      },
      {
        "duration": 500,
        "start_time": "2022-12-22T15:56:22.313Z"
      },
      {
        "duration": 22,
        "start_time": "2022-12-22T15:56:22.815Z"
      },
      {
        "duration": 51,
        "start_time": "2022-12-22T15:56:22.839Z"
      },
      {
        "duration": 56,
        "start_time": "2022-12-22T15:56:22.892Z"
      },
      {
        "duration": 955,
        "start_time": "2022-12-22T15:56:22.950Z"
      },
      {
        "duration": 18,
        "start_time": "2022-12-22T15:56:23.912Z"
      },
      {
        "duration": 729,
        "start_time": "2022-12-22T15:56:23.934Z"
      },
      {
        "duration": 26,
        "start_time": "2022-12-22T15:56:24.664Z"
      },
      {
        "duration": 256,
        "start_time": "2022-12-22T15:56:24.692Z"
      },
      {
        "duration": 214,
        "start_time": "2022-12-22T15:56:24.950Z"
      },
      {
        "duration": 348,
        "start_time": "2022-12-22T15:56:25.166Z"
      },
      {
        "duration": 277,
        "start_time": "2022-12-22T15:56:25.516Z"
      },
      {
        "duration": 129,
        "start_time": "2022-12-22T15:56:25.796Z"
      },
      {
        "duration": 40,
        "start_time": "2022-12-22T15:56:25.929Z"
      },
      {
        "duration": 42,
        "start_time": "2022-12-22T15:56:25.971Z"
      },
      {
        "duration": 155,
        "start_time": "2022-12-22T15:56:26.016Z"
      },
      {
        "duration": 149,
        "start_time": "2022-12-22T15:56:26.173Z"
      },
      {
        "duration": 149,
        "start_time": "2022-12-22T15:56:26.324Z"
      },
      {
        "duration": 247,
        "start_time": "2022-12-22T15:56:26.476Z"
      },
      {
        "duration": 3,
        "start_time": "2023-02-10T18:46:49.019Z"
      },
      {
        "duration": 12,
        "start_time": "2023-02-10T18:46:49.024Z"
      },
      {
        "duration": 175,
        "start_time": "2023-02-10T18:46:49.038Z"
      },
      {
        "duration": 20,
        "start_time": "2023-02-10T18:46:49.215Z"
      },
      {
        "duration": 14,
        "start_time": "2023-02-10T18:46:49.237Z"
      },
      {
        "duration": 25,
        "start_time": "2023-02-10T18:46:49.253Z"
      },
      {
        "duration": 63,
        "start_time": "2023-02-10T18:46:49.293Z"
      },
      {
        "duration": 122,
        "start_time": "2023-02-10T18:46:49.357Z"
      },
      {
        "duration": 71,
        "start_time": "2023-02-10T18:46:49.481Z"
      },
      {
        "duration": 46,
        "start_time": "2023-02-10T18:46:49.553Z"
      },
      {
        "duration": 40,
        "start_time": "2023-02-10T18:46:49.601Z"
      },
      {
        "duration": 79,
        "start_time": "2023-02-10T18:46:49.642Z"
      },
      {
        "duration": 184,
        "start_time": "2023-02-10T18:46:49.723Z"
      },
      {
        "duration": 272,
        "start_time": "2023-02-10T18:46:49.909Z"
      },
      {
        "duration": 380,
        "start_time": "2023-02-10T18:46:50.183Z"
      },
      {
        "duration": 28,
        "start_time": "2023-02-10T18:46:50.565Z"
      },
      {
        "duration": 32,
        "start_time": "2023-02-10T18:46:50.595Z"
      },
      {
        "duration": 26,
        "start_time": "2023-02-10T18:46:50.628Z"
      },
      {
        "duration": 593,
        "start_time": "2023-02-10T18:46:50.657Z"
      },
      {
        "duration": 15,
        "start_time": "2023-02-10T18:46:51.252Z"
      },
      {
        "duration": 593,
        "start_time": "2023-02-10T18:46:51.269Z"
      },
      {
        "duration": 35,
        "start_time": "2023-02-10T18:46:51.864Z"
      },
      {
        "duration": 286,
        "start_time": "2023-02-10T18:46:51.901Z"
      },
      {
        "duration": 181,
        "start_time": "2023-02-10T18:46:52.193Z"
      },
      {
        "duration": 282,
        "start_time": "2023-02-10T18:46:52.375Z"
      },
      {
        "duration": 79,
        "start_time": "2023-02-10T18:46:52.659Z"
      },
      {
        "duration": 58,
        "start_time": "2023-02-10T18:46:52.740Z"
      },
      {
        "duration": 29,
        "start_time": "2023-02-10T18:46:52.799Z"
      },
      {
        "duration": 6,
        "start_time": "2023-02-10T18:46:52.830Z"
      },
      {
        "duration": 110,
        "start_time": "2023-02-10T18:46:52.837Z"
      },
      {
        "duration": 94,
        "start_time": "2023-02-10T18:46:52.949Z"
      },
      {
        "duration": 92,
        "start_time": "2023-02-10T18:46:53.044Z"
      },
      {
        "duration": 122,
        "start_time": "2023-02-10T18:46:53.138Z"
      }
    ],
    "kernelspec": {
      "display_name": "Python 3 (ipykernel)",
      "language": "python",
      "name": "python3"
    },
    "language_info": {
      "codemirror_mode": {
        "name": "ipython",
        "version": 3
      },
      "file_extension": ".py",
      "mimetype": "text/x-python",
      "name": "python",
      "nbconvert_exporter": "python",
      "pygments_lexer": "ipython3",
      "version": "3.9.5"
    },
    "toc": {
      "base_numbering": 1,
      "nav_menu": {},
      "number_sections": true,
      "sideBar": true,
      "skip_h1_title": true,
      "title_cell": "Table of Contents",
      "title_sidebar": "Contents",
      "toc_cell": false,
      "toc_position": {},
      "toc_section_display": true,
      "toc_window_display": false
    },
    "colab": {
      "provenance": []
    }
  },
  "nbformat": 4,
  "nbformat_minor": 0
}